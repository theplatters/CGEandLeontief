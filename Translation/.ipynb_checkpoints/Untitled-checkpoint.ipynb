{
 "cells": [
  {
   "cell_type": "code",
   "execution_count": 85,
   "id": "8753bdc5-e882-4c61-a8f2-c8c9b79c961f",
   "metadata": {},
   "outputs": [],
   "source": [
    "using MAT, Statistics, LinearAlgebra,Random, Plots"
   ]
  },
  {
   "cell_type": "code",
   "execution_count": 94,
   "id": "196a4e30-3fd6-4ea1-8cae-d59d4018151d",
   "metadata": {},
   "outputs": [
    {
     "data": {
      "text/plain": [
       "mvnrnd (generic function with 1 method)"
      ]
     },
     "execution_count": 94,
     "metadata": {},
     "output_type": "execute_result"
    }
   ],
   "source": [
    "include(\"mvnrnd.jl\")"
   ]
  },
  {
   "cell_type": "markdown",
   "id": "7edec650-2702-4d81-95f7-7ea02545dd1c",
   "metadata": {},
   "source": [
    "Reads in all the variables optained that are used in line 93 and onwards and are defined before that."
   ]
  },
  {
   "cell_type": "code",
   "execution_count": 95,
   "id": "43cbe81d-fdda-4954-bfe6-f40a0184aadd",
   "metadata": {},
   "outputs": [],
   "source": [
    "function string_as_varname(s::AbstractString,v::Any)\n",
    "         s=Symbol(s)\n",
    "         @eval (($s) = ($v))\n",
    "end\n",
    "\n",
    "file = matopen(\"simulationData.mat\")\n",
    "\n",
    "#Reads in ju[IO, price, Omega, data, labor, mu, aggtfp, alpha, grossy, stfp, beta, agggdp, Sigma, capital, vadd]\n",
    "\n",
    "varnames = names(file)\n",
    "for varname in varnames\n",
    "    val = read(file, varname)\n",
    "    # Instantiate the variable with its name in the current scope\n",
    "    string_as_varname(varname,val)\n",
    "    end\n",
    "\n",
    "close(file)"
   ]
  },
  {
   "cell_type": "markdown",
   "id": "44c46253-aa2e-4460-a812-65e3b49177f2",
   "metadata": {},
   "source": [
    "I think this part is rather quite useless and only provided as an alternative"
   ]
  },
  {
   "cell_type": "code",
   "execution_count": 96,
   "id": "e016ae2b-1224-46a9-9e84-d1e44e3da203",
   "metadata": {},
   "outputs": [],
   "source": [
    "cum_stfp = cumsum(log.(1 .+ stfp)',dims=1);\n",
    "cum_stfp_4year = cum_stfp[:,begin:4:end];\n",
    "covariance_4year = Statistics.cov(cum_stfp_4year,dims=2,corrected=false);"
   ]
  },
  {
   "cell_type": "markdown",
   "id": "63a3ef56-7cc6-4b7c-80cc-c81dcbe1158b",
   "metadata": {},
   "source": [
    "Here comes the randomness. As far as i can tell the generated vectors have mean $\\mu = \\text{Var}(\\mathit{stfp})$ and $\\sigma = \\text{Var}(\\mathit{stfp})$ Because $\\sigma$ is a Diagonal Matrix, there is no correlation between each random number, what makes this kinda weird."
   ]
  },
  {
   "cell_type": "code",
   "execution_count": 97,
   "id": "e9d051ee-5243-474b-91af-878ef1ccf2e3",
   "metadata": {},
   "outputs": [
    {
     "data": {
      "text/plain": [
       "76-element Vector{Float64}:\n",
       " 0.9685299753458523\n",
       " 0.9948184580488744\n",
       " 1.0584995714208105\n",
       " 1.0474145714069125\n",
       " 0.9816492052807617\n",
       " 0.8499511280127401\n",
       " 1.0413910343215684\n",
       " 0.9711970757118739\n",
       " 0.9984805204346409\n",
       " 0.9957801823828238\n",
       " 0.9744764117749056\n",
       " 0.9988019007291177\n",
       " 0.9883126476395014\n",
       " ⋮\n",
       " 0.9322850211158539\n",
       " 1.0390861483048384\n",
       " 0.9753019960313616\n",
       " 1.0212989886819603\n",
       " 0.9676469964909755\n",
       " 1.0522794685306318\n",
       " 1.0071220306408246\n",
       " 1.0452621289701673\n",
       " 0.9986649435594892\n",
       " 1.0478215409115235\n",
       " 1.05220766263891\n",
       " 0.9957402012100922"
      ]
     },
     "execution_count": 97,
     "metadata": {},
     "output_type": "execute_result"
    }
   ],
   "source": [
    "A = exp.(mvnrnd(-1/2*diag(Sigma),diagm(diag(Sigma))))"
   ]
  },
  {
   "cell_type": "code",
   "execution_count": null,
   "id": "349b6c10-3771-4105-b53c-662429bcc82b",
   "metadata": {},
   "outputs": [],
   "source": []
  }
 ],
 "metadata": {
  "kernelspec": {
   "display_name": "Julia 1.8.0",
   "language": "julia",
   "name": "julia-1.8"
  },
  "language_info": {
   "file_extension": ".jl",
   "mimetype": "application/julia",
   "name": "julia",
   "version": "1.8.0"
  }
 },
 "nbformat": 4,
 "nbformat_minor": 5
}

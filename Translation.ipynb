{
 "cells": [
  {
   "attachments": {},
   "cell_type": "markdown",
   "id": "5a8a6eff",
   "metadata": {},
   "source": [
    "## Include\n",
    "The environment with all the packages can be activated by typing `julia` and then `]`and then typing `activate BeyondHulten`"
   ]
  },
  {
   "cell_type": "code",
   "execution_count": 1,
   "id": "80563cd6-b3d0-48cd-8e33-da93a826f1a2",
   "metadata": {},
   "outputs": [
    {
     "data": {
      "text/plain": [
       "mvnrnd (generic function with 1 method)"
      ]
     },
     "metadata": {},
     "output_type": "display_data"
    }
   ],
   "source": [
    "using MAT, LinearAlgebra, Random , NonlinearSolve\n",
    "using StaticArrays, Distributed, SciMLNLSolve, LineSearches\n",
    "using JLD\n",
    "using Statistics\n",
    "using SharedArrays\n",
    "include(\"src/mvnrnd.jl\")"
   ]
  },
  {
   "attachments": {},
   "cell_type": "markdown",
   "id": "732c9b2a",
   "metadata": {},
   "source": [
    "## Data Loading\n",
    "Loads in the big data matrix and the stfp matrix created by matlab"
   ]
  },
  {
   "cell_type": "code",
   "execution_count": 2,
   "id": "37d3dcdc",
   "metadata": {},
   "outputs": [
    {
     "data": {
      "text/plain": [
       "loadStfp (generic function with 1 method)"
      ]
     },
     "metadata": {},
     "output_type": "display_data"
    }
   ],
   "source": [
    "function loadInData()\n",
    "    file = matopen(\"data/simulationData.mat\")\n",
    "\n",
    "    data = read(file, \"data\")\n",
    "\n",
    "    close(file)\n",
    "\n",
    "    return data\n",
    "end\n",
    "\n",
    "function loadStfp()\n",
    "    file = matopen(\"data/stfp.mat\")\n",
    "\n",
    "    stfp = read(file,\"stfp\")\n",
    "\n",
    "    close(file)\n",
    "\n",
    "    return stfp\n",
    "end"
   ]
  },
  {
   "attachments": {},
   "cell_type": "markdown",
   "id": "09a129ae",
   "metadata": {},
   "source": [
    "## Data processing\n",
    "Processes the data just as in the matlab version"
   ]
  },
  {
   "cell_type": "code",
   "execution_count": 3,
   "id": "6f39525d-5736-43dd-a5bd-4e5855cb3ec3",
   "metadata": {},
   "outputs": [],
   "source": [
    "data = loadInData()\n",
    "\n",
    "grossy = reshape(data[:, 3], 46, 88)'\n",
    "capital = reshape(data[:, 4], 46, 88)'; #NOMINAL CAPITAL\n",
    "labor = reshape(data[:, 5], 46, 88)'; #NOMINAL LABOR\n",
    "vadd = labor + capital; #NOMINAL VALUE;\n",
    "\n",
    "removableSectors = [60, 80:88...];\n",
    "grossy = grossy[setdiff(1:end, removableSectors), :];\n",
    "capital = capital[setdiff(1:end, removableSectors), :];\n",
    "labor = labor[setdiff(1:end, removableSectors), :];\n",
    "vadd = vadd[setdiff(1:end, removableSectors), :];\n",
    "\n",
    "grossSales = vec((sum(grossy, dims=2) .!= 0));\n",
    "grossy = grossy[grossSales, :];\n",
    "capital = capital[grossSales, :];\n",
    "labor = labor[grossSales, :];\n",
    "vadd = vadd[grossSales, :];\n",
    "\n",
    "stfp = loadStfp();\n",
    "Σ = cov(stfp, dims=2);\n",
    "μ = mean(stfp, dims=2);"
   ]
  },
  {
   "attachments": {},
   "cell_type": "markdown",
   "id": "628ec57f",
   "metadata": {},
   "source": [
    "## Creating usable variables\n",
    "Function that creates the metrics for a given year"
   ]
  },
  {
   "cell_type": "code",
   "execution_count": 4,
   "id": "92a41374-e6c9-4087-bef6-8d0a25cf1df1",
   "metadata": {},
   "outputs": [
    {
     "data": {
      "text/plain": [
       "getVariables (generic function with 1 method)"
      ]
     },
     "metadata": {},
     "output_type": "display_data"
    }
   ],
   "source": [
    "function getVariables(year)\n",
    "    IO = data[data[:, 1].==year, :]\n",
    "    temp = [8, 60, 62, 80:88...]\n",
    "    IO = IO[setdiff(1:end, temp), setdiff(1:end, [1, 2, 3, 4, 5, 94])]\n",
    "    IO = IO[:, setdiff(1:end, temp)]\n",
    "    Ω = IO ./ sum(IO, dims=2)\n",
    "    α = vadd[:, year-1959] ./ grossy[:, year-1959]\n",
    "    β = ((I - diagm(1 .- α) * Ω)' * grossy[:, year-1959])\n",
    "    @views β[β.<0] .= 0\n",
    "    β = β / sum(β)\n",
    "    λ = (inv(I - diagm(1 .- α) * Ω)' * β)\n",
    "    L = λ .* α\n",
    "\n",
    "    return α, β, Ω, L, λ\n",
    "\n",
    "end"
   ]
  },
  {
   "attachments": {},
   "cell_type": "markdown",
   "id": "d4fad22d",
   "metadata": {},
   "source": [
    "## Elasticities"
   ]
  },
  {
   "cell_type": "code",
   "execution_count": 5,
   "id": "5407a7de-552b-4673-bd43-56f93ffd9a10",
   "metadata": {},
   "outputs": [],
   "source": [
    "ε = .5;\n",
    "θ = 0.001;\n",
    "σ = .9;"
   ]
  },
  {
   "attachments": {},
   "cell_type": "markdown",
   "id": "b5243b71",
   "metadata": {},
   "source": [
    "## Objective Function\n",
    "\n",
    "Here the objective function in `SimulationDerivs.m` is formulated, also the Jacobian is given, to helpt the solver."
   ]
  },
  {
   "cell_type": "code",
   "execution_count": 6,
   "id": "d1c7f6e2-41ff-4b34-b25e-ab7f917c4c4a",
   "metadata": {},
   "outputs": [
    {
     "data": {
      "text/plain": [
       "problem (generic function with 1 method)"
      ]
     },
     "metadata": {},
     "output_type": "display_data"
    }
   ],
   "source": [
    "function problem(X :: AbstractVector{T}, A, β, Ω, α, ε, θ, σ,L) where T\n",
    "    N = length(α)\n",
    "    p = X[1:N]\n",
    "    y = X[N+1:end]\n",
    "    \n",
    "    Out :: Vector{T} = zeros(eltype(X),2*N)\n",
    "    \n",
    "    q = (Ω * p .^ (1-θ)) .^ (1 / (1 - θ))\n",
    "    w = p .* (A .^ ((ε - 1)/ε)) .* (α .^ (1 / ε)) .* (y .^ (1/ε)) .* L .^ (-1/ε)\n",
    "    C = w' * L\n",
    "  \n",
    "    Out[1:N] = p - (A .^ (ε - 1) .* (α .* w .^ (1- ε) + (1 .- α) .* q .^ (1 - ε))) .^ (1/(1-ε))\n",
    "    Out[N+1:end] = y' - y' * diagm(p)^ε * diagm(A)^(ε-1) * diagm(q)^(θ-ε) * diagm(1 .- α) * Ω * diagm(p)^(-θ) - β'*diagm(p)^(-σ)*C\n",
    "    \n",
    "    return Out\n",
    "end"
   ]
  },
  {
   "cell_type": "code",
   "execution_count": 7,
   "id": "fef6c5c7-12cf-477e-adcc-64745c53e590",
   "metadata": {},
   "outputs": [
    {
     "data": {
      "text/plain": [
       "problemJacobian (generic function with 1 method)"
      ]
     },
     "metadata": {},
     "output_type": "display_data"
    }
   ],
   "source": [
    "function problemJacobian(X, A, β, Ω, α, ε, θ, σ,L)\n",
    "    N = length(α)\n",
    "    p = @view X[1:N]\n",
    "    y = @view X[N+1:end]\n",
    "    \n",
    "    Out = zeros(eltype(X),2*N)\n",
    "    \n",
    "    q = (Ω * p .^ (1-θ)) .^ (1 / (1 - θ))\n",
    "    w = p .* (A .^ ((ε - 1)/ε)) .* (α .^ (1 / ε)) .* (y .^ (1/ε)) .* L .^ (-1/ε)\n",
    "    C = w' * L\n",
    "  \n",
    "    \n",
    "    DQDP = (q .^ θ * (p.^(-θ))') .* Ω;\n",
    "    DWDP = diagm(A.^((ε-1)/ε) .* α.^(1/ε) .* y.^(1/ε) .* (1 ./ L).^(1/ε));\n",
    "    DWDY = (1/ε) * diagm(p .* A.^((ε-1)/ε) .* α.^(1/ε).* (y.^(1/ε-1)) .* L.^(-1/ε));\n",
    "    DCDP = DWDP' * L; \n",
    "    DCDY = DWDY' * L;\n",
    "\n",
    "    DOut1DP = I - diagm(diagm(A)^(-1) * ((α .* (w .^ (1-ε)) + (1 .- α) .* (q.^(1-ε)))).^(ε/(1-ε))) * (diagm(α) * diagm(w.^(-ε))* DWDP + diagm(1 .-α)*diagm(q.^(-ε))*DQDP);\n",
    "\n",
    "    DOut1DY =  -diagm(diagm(A.^(-1))*((α.*(w.^(1-ε))+(1 .- α).*(q.^(1-ε)))).^(ε/(1-ε)))*(diagm(α)*diagm(w.^(-ε))*DWDY);\n",
    "\n",
    "    DOut2DP = -(ε * diagm(p.^(-θ))*Ω'*diagm((p.^(ε-1)).*(y).*(q.^(θ-ε)).*(1 .- α).*(A.^(ε-1)))\n",
    "        + (θ-ε)*diagm(p.^(-θ))*Ω'*diagm((p.^(ε)).*(y).*(q.^(θ-ε-1)).*(1 .- α).*(A.^(ε-1)))*DQDP \n",
    "        - σ*diagm(β.*p.^(-σ-1))*C + broadcast(*, β.*(p.^(-σ)), DCDP')\n",
    "        - θ* diagm(p.^(-θ-1)).*diagm(Ω'*diagm((p.^(ε)).*(q.^(θ-ε)).*(1 .- α).*(A.^(ε-1)))*y));\n",
    "\n",
    "    DOut2DY = I - (diagm(p)^ε*diagm(A)^(ε-1)*diagm(q)^(θ-ε)*diagm(1 .- α)*Ω*diagm(p)^(-θ))' - broadcast(*, β.*(p.^(-σ)), DCDY');\n",
    "    OutDeriv = [DOut1DP DOut1DY; DOut2DP DOut2DY];\n",
    "\n",
    "end"
   ]
  },
  {
   "attachments": {},
   "cell_type": "markdown",
   "id": "18301249",
   "metadata": {},
   "source": [
    "## Generating Random Shocks"
   ]
  },
  {
   "cell_type": "code",
   "execution_count": 8,
   "id": "342596f3",
   "metadata": {},
   "outputs": [
    {
     "data": {
      "text/plain": [
       "generateRandomShock (generic function with 1 method)"
      ]
     },
     "metadata": {},
     "output_type": "display_data"
    }
   ],
   "source": [
    "function generateRandomShock(Σ,α,Ω,λ)\n",
    "    A = exp.(mvnrnd(-1/2*diag(Σ),diagm(diag(Σ))));\n",
    "    \n",
    "    init = Complex.([exp.(-inv(I - diagm(1 .- α)*Ω)*log.(A))..., λ ./exp.(-inv(I - diagm(1 .- α) * Ω)*log.(A))...]); \n",
    "    (A,init)\n",
    "end"
   ]
  },
  {
   "attachments": {},
   "cell_type": "markdown",
   "id": "8a609ff2",
   "metadata": {},
   "source": [
    "## Solving for shocks"
   ]
  },
  {
   "cell_type": "code",
   "execution_count": 9,
   "id": "dc46bb84-b76f-4170-9133-28ccfc044961",
   "metadata": {},
   "outputs": [
    {
     "data": {
      "text/plain": [
       "Task (done) @0x00007f4268797d00"
      ]
     },
     "metadata": {},
     "output_type": "display_data"
    }
   ],
   "source": [
    "\n",
    "trials = 100;\n",
    "GDP = SharedVector(zeros(trials))\n",
    "λ_sim = SharedMatrix(zeros(76, trials))\n",
    "α, β, Ω, L, λ = getVariables(1973);\n",
    "f = NonlinearFunction((u, p) -> problem(u, p...), jac=(u, p) -> problemJacobian(u, p...))\n",
    "\n",
    "@distributed for k in 1:trials\n",
    "\n",
    "    A, init = generateRandomShock(Σ, α, Ω, λ)\n",
    "\n",
    "    p = [A, β, Ω, α, ε, θ, σ, L]\n",
    "\n",
    "    ProbN = NonlinearProblem(f, init, p)\n",
    "    sol = solve(ProbN, NLSolveJL(linesearch=HagerZhang(), method=:newton), reltol=1e-8, abstol=1e-8)\n",
    "\n",
    "    x = real.(sol.u)\n",
    "\n",
    "    p = @view x[1:76]\n",
    "    q = @view x[77:end]\n",
    "    GDP[k] = (p .* (A .^ ((ε - 1) / ε)) .* (α .^ (1 / ε)) .* (q .^ (1 / ε)) .* L .^ (-1 / ε))' * L\n",
    "    λ_sim[:, k] .= (p .* q) ./ GDP[k]\n",
    "\n",
    "end"
   ]
  },
  {
   "attachments": {},
   "cell_type": "markdown",
   "id": "dc336148",
   "metadata": {},
   "source": [
    "## Solving for a progessive sector shock"
   ]
  },
  {
   "cell_type": "code",
   "execution_count": 10,
   "id": "0456f0e7",
   "metadata": {},
   "outputs": [
    {
     "data": {
      "text/plain": [
       "shockSectorProgressively (generic function with 2 methods)"
      ]
     },
     "metadata": {},
     "output_type": "display_data"
    }
   ],
   "source": [
    "function shockSectorProgressively(sector, shocks, year=1983)\n",
    "\n",
    "    (α, β, Ω, L, λ) = getVariables(year)\n",
    "\n",
    "    x0 = Complex.([ones(76)..., λ...])\n",
    "    f = NonlinearFunction((u, p) -> problem(u, p...), jac=(u, p) -> problemJacobian(u, p...))\n",
    "    GDP = []\n",
    "    for shock in shocks\n",
    "        A = ones(76)\n",
    "        A[sector] = shock\n",
    "\n",
    "        p = [A, β, Ω, α, ε, θ, σ, L]\n",
    "        ProbN = NonlinearProblem(f, x0, p)\n",
    "\n",
    "        #sol = solve(ProbN,NewtonRaphson(), reltol = 1e-10,abstol = 1e-8)\n",
    "        sol = solve(ProbN, NLSolveJL(method=:newton, linesearch=BackTracking()), reltol=1e-10, abstol=1e-8)\n",
    "\n",
    "        x = sol.u\n",
    "\n",
    "        p = real.(x[1:76])\n",
    "        y = real.(x[77:152])\n",
    "        append!(GDP, (p .* (A .^ ((ε - 1) / ε)) .* (α .^ (1 / ε)) .* (y .^ (1 / ε)) .* L .^ (-1 / ε))' * L)\n",
    "\n",
    "        x0 = x\n",
    "    end\n",
    "\n",
    "    return GDP\n",
    "\n",
    "end"
   ]
  },
  {
   "cell_type": "code",
   "execution_count": 11,
   "id": "1f6d3d5b-e0ee-4aab-9795-3a0fead20e26",
   "metadata": {},
   "outputs": [],
   "source": [
    "years = 1980:2000\n",
    "M = 50\n",
    "\n",
    "a = 0.7;\n",
    "b = 1.3;\n",
    "\n",
    "sectors = 1:60\n",
    "\n",
    "GDP = SharedArray(zeros(2 * M, length(sectors), length(years)))\n",
    "\n",
    "@distributed for year in years\n",
    "    for i in 1:length(sectors)\n",
    "        GDP[1:M, i, year-(years[1]-1)] = shockSectorProgressively(sectors[i], LinRange(1, a, M), year)\n",
    "        GDP[M+1:end, i, year-(years[1]-1)] = shockSectorProgressively(sectors[i], LinRange(1, b, M), year)\n",
    "    end\n",
    "end\n"
   ]
  },
  {
   "cell_type": "code",
   "execution_count": null,
   "id": "def4be44",
   "metadata": {},
   "outputs": [],
   "source": [
    "\n",
    "@views reverse!(GDP[1:M, :,:], dims=1)\n",
    "GDP = GDP[setdiff(1:end, M), :,:]"
   ]
  },
  {
   "cell_type": "code",
   "execution_count": null,
   "id": "e42e14bb",
   "metadata": {},
   "outputs": [],
   "source": [
    "save(\"calulatedGSPS.jld\",\"GDP\",GDP);"
   ]
  },
  {
   "cell_type": "code",
   "execution_count": null,
   "id": "02580d27",
   "metadata": {},
   "outputs": [],
   "source": [
    "GDP = load(\"calulatedGSPS.jld\",\"GDP\");"
   ]
  },
  {
   "attachments": {},
   "cell_type": "markdown",
   "id": "8a1f68fd",
   "metadata": {},
   "source": [
    "## Visiualisation of progressive sector shocks."
   ]
  },
  {
   "cell_type": "code",
   "execution_count": null,
   "id": "06216a9b",
   "metadata": {},
   "outputs": [],
   "source": [
    "using GLMakie\n",
    "Makie.inline!(false)\n",
    "a = 0.7\n",
    "b = 1.3\n",
    "M = 50\n",
    "fig = Figure()\n",
    "\n",
    "ax = Axis(fig[2, 1])\n",
    "\n",
    "sg = SliderGrid(fig[1, 1],\n",
    "    (label = \"Year\", range = 1980:2000, startvalue = 5),\n",
    "    (label = \"Sector\", range = 1:60, startvalue = 10)\n",
    ")\n",
    "\n",
    "\n",
    "indexYear = lift(sg.sliders[1].value) do x\n",
    "    x - 1979 \n",
    "end\n",
    "\n",
    "indexSector = lift(sg.sliders[2].value) do x\n",
    "    x\n",
    "end\n",
    "\n",
    "lineShowing = @lift(GDP[:,$indexSector,$indexYear])\n",
    "\n",
    "lines!(LinRange(a,b,2*M-1),lineShowing)\n",
    "\n",
    "fig"
   ]
  },
  {
   "cell_type": "code",
   "execution_count": null,
   "id": "da2a0030",
   "metadata": {},
   "outputs": [],
   "source": []
  }
 ],
 "metadata": {
  "kernelspec": {
   "display_name": "Julia 1.9.0",
   "language": "julia",
   "name": "julia-1.9"
  },
  "language_info": {
   "file_extension": ".jl",
   "mimetype": "application/julia",
   "name": "julia",
   "version": "1.9.0"
  }
 },
 "nbformat": 4,
 "nbformat_minor": 5
}

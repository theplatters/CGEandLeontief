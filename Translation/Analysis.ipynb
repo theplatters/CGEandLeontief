{
 "cells": [
  {
   "cell_type": "code",
   "execution_count": 226,
   "id": "8753bdc5-e882-4c61-a8f2-c8c9b79c961f",
   "metadata": {},
   "outputs": [],
   "source": [
    "using MAT, Statistics, LinearAlgebra,Random, Plots, NLsolve, ForwardDiff"
   ]
  },
  {
   "cell_type": "markdown",
   "id": "7edec650-2702-4d81-95f7-7ea02545dd1c",
   "metadata": {},
   "source": [
    "Function that reads in all the variables optained that are used in line 93 and onwards and are defined before that."
   ]
  },
  {
   "cell_type": "code",
   "execution_count": 74,
   "id": "196a4e30-3fd6-4ea1-8cae-d59d4018151d",
   "metadata": {},
   "outputs": [
    {
     "data": {
      "text/plain": [
       "mvnrnd (generic function with 1 method)"
      ]
     },
     "execution_count": 74,
     "metadata": {},
     "output_type": "execute_result"
    }
   ],
   "source": [
    "include(\"mvnrnd.jl\")"
   ]
  },
  {
   "cell_type": "markdown",
   "id": "919fdc44-9128-4d80-9350-d640f98ed92f",
   "metadata": {},
   "source": [
    "Turns them into julia variables."
   ]
  },
  {
   "cell_type": "code",
   "execution_count": 75,
   "id": "43cbe81d-fdda-4954-bfe6-f40a0184aadd",
   "metadata": {},
   "outputs": [],
   "source": [
    "function string_as_varname(s::AbstractString,v::Any)\n",
    "    s=Symbol(s)\n",
    "    if size(v,2) == 1 # check if v is a column vector\n",
    "        @eval (($s) = (vec($v)))\n",
    "    else\n",
    "        @eval (($s) = ($v))\n",
    "    end\n",
    "end\n",
    "\n",
    "file = matopen(\"simulationData.mat\")\n",
    "\n",
    "\n",
    "\n",
    "varnames = names(file) \n",
    "#[IO, price, Omega, data, labor, mu, aggtfp, alpha, grossy, stfp, beta, agggdp, Sigma, capital, vadd]\n",
    "for varname in varnames\n",
    "    val = read(file, varname)\n",
    "    # Instantiate the variable with its name in the current scope\n",
    "    string_as_varname(varname,val)\n",
    "    end\n",
    "\n",
    "close(file)"
   ]
  },
  {
   "cell_type": "markdown",
   "id": "02220dec-96c3-45e0-9e7d-0246353d1fa9",
   "metadata": {},
   "source": [
    "We now want to figure out what every variable stands for, and where it comes from.\n",
    "So far we know:\n",
    "- **IO**: Input-Output Matrix\n",
    "- **STFP** Sectoral TFP Growth per anno\n",
    "- **$\\Omega$**: I think this is the same as in *Definition 3* Es gilt $$(\\Omega)_i^j = \\frac {(\\mathit{IO})_i^j} {\\sum_{k=0}^N(\\mathit{IO}_k^j)}$$ Also der Anteil eines Sektors $i$ an der Gesamptproduktion des Sektors $j$\n",
    "- **$\\Sigma$**: Covarianz von SFTP\n",
    "- **$\\mu$**: Rowwise mean of stfp. So the mean annual groth of each sector\n",
    "- **data**: quantity data matrix\n",
    "- **price**: price data matrix. I think price and data are for our anyalsis quite useless, they are used as building blocks\n",
    "- **grossy** nominal gross output\n",
    "- **vadd** nominal value added\n",
    "- **labor** nominal labor\n",
    "- **capital** nominal captial\n",
    "- **alpha**: vadd / grossy.\n",
    "- **beta**: `beta = (I-diagm(1-alpha)*Omega)' * grossy(:,year-1959)` this is then normalized and filtered. "
   ]
  },
  {
   "cell_type": "markdown",
   "id": "6cecbba8-ad27-4340-8352-0879d677bcef",
   "metadata": {},
   "source": [
    "This is not used anywhere in the code."
   ]
  },
  {
   "cell_type": "markdown",
   "id": "13511aa2-281d-4311-8f51-0b1f76bfeaef",
   "metadata": {},
   "source": [
    "Found way too late, for how often this is used."
   ]
  },
  {
   "cell_type": "code",
   "execution_count": 111,
   "id": "365005e7-b2a5-428f-baa7-458e80d29bdf",
   "metadata": {},
   "outputs": [],
   "source": [
    "#domar_weights = (beta' * inv(I - diagm(1 .-alpha)* Omega))';\n",
    "domar_weights = (inv(I - diagm(1 .- alpha) * Omega)' * beta);"
   ]
  },
  {
   "cell_type": "code",
   "execution_count": 11,
   "id": "e016ae2b-1224-46a9-9e84-d1e44e3da203",
   "metadata": {},
   "outputs": [],
   "source": [
    "cum_stfp = cumsum(log.(1 .+ stfp)',dims=1);\n",
    "cum_stfp_4year = cum_stfp[:,begin:4:end];\n",
    "covariance_4year = Statistics.cov(cum_stfp_4year,dims=2,corrected=false);"
   ]
  },
  {
   "cell_type": "markdown",
   "id": "21b8451e-e408-4ef6-883d-e58abf34d711",
   "metadata": {},
   "source": [
    "Some elasticities, explaination can be found in section 6"
   ]
  },
  {
   "cell_type": "code",
   "execution_count": 137,
   "id": "6b913872-1883-415d-8152-0ee86ffbf231",
   "metadata": {},
   "outputs": [],
   "source": [
    "epsilon = ε = .5; \n",
    "theta = θ = 0.001; \n",
    "sigma = σ =.9; "
   ]
  },
  {
   "cell_type": "markdown",
   "id": "23f90ee0-7718-47eb-94ff-b281dc7d3ed3",
   "metadata": {},
   "source": [
    "Again, not used anymore"
   ]
  },
  {
   "cell_type": "code",
   "execution_count": 41,
   "id": "3297e2b5-4099-4437-b9bc-901a688789f8",
   "metadata": {},
   "outputs": [
    {
     "ename": "LoadError",
     "evalue": "UndefVarError: movingvar not defined",
     "output_type": "error",
     "traceback": [
      "UndefVarError: movingvar not defined",
      "",
      "Stacktrace:",
      " [1] top-level scope",
      "   @ In[41]:4"
     ]
    }
   ],
   "source": [
    "trials = 1; #number of draws\n",
    "#clear Shocks LShocks;\n",
    "GDP = zeros(trials,1);\n",
    "variances = (movingvar(stfp',5)'); #rolling estimate of variance of TFP\n",
    "var_cri = variances[:,22];\n",
    "\n",
    "var_cri = diag(Sigma)*2; #crisis episode variances\n",
    "\n"
   ]
  },
  {
   "cell_type": "markdown",
   "id": "9917ad4b-a491-4ddc-b987-35c45d7eeda1",
   "metadata": {},
   "source": [
    "L is the steady state allocation of labor\n",
    "$$L_i = (\\beta^T (I - \\Omega + \\text{diag}(\\alpha)\\Omega)^{-1})^T \\cdot \\alpha = (I - (I - \\text{diagm}(\\alpha)) * \\Omega)^{-1}\\beta) \\cdot \\alpha = \\lambda \\cdot \\alpha$$\n"
   ]
  },
  {
   "cell_type": "code",
   "execution_count": 98,
   "id": "ccdd07dd-6ae9-40d2-aff7-afac572b1791",
   "metadata": {},
   "outputs": [],
   "source": [
    "#L = (beta'*inv(I-diagm(1 .- alpha)*Omega))'.*alpha; #steady-state allocation of labor\n",
    "L = domar_weights .* alpha;"
   ]
  },
  {
   "cell_type": "markdown",
   "id": "63a3ef56-7cc6-4b7c-80cc-c81dcbe1158b",
   "metadata": {},
   "source": [
    "Here comes the randomness. As far as i can tell the generated vector $x$ has mean $\\mu = -\\frac 1 2 \\text{Var}(\\mathit{stfp})$ and $\\sigma = \\text{Var}(\\mathit{stfp})$ Because $\\sigma$ is a Diagonal Matrix, there is no correlation between each random number, what makes this rather perculiar. Intuition wise I would say, that this implies, that the shocks are independent of one-another. (As described in  Chapter 6)\n",
    "\n",
    "$$A_i = e^{x_i}$$"
   ]
  },
  {
   "cell_type": "code",
   "execution_count": 101,
   "id": "e9d051ee-5243-474b-91af-878ef1ccf2e3",
   "metadata": {},
   "outputs": [],
   "source": [
    "A = exp.(mvnrnd(-1/2*diag(Sigma),diagm(diag(Sigma))));"
   ]
  },
  {
   "cell_type": "code",
   "execution_count": null,
   "id": "468f3181-daa0-409e-ba30-9f7d607e0c1b",
   "metadata": {},
   "outputs": [],
   "source": [
    "$init = e^()$"
   ]
  },
  {
   "cell_type": "code",
   "execution_count": 130,
   "id": "f6b157b8-57f6-4b63-afd9-d4139d8adc73",
   "metadata": {},
   "outputs": [],
   "source": [
    "#init = [exp.(-inv(I - diagm(1 .- alpha)*Omega)*log.(A));(beta' * inv(I- diagm(1 .- alpha)*Omega))'./exp.(-inv(I - diagm(1 .- alpha) * Omega)*log.(A))]  #judicious choice of starting values\n",
    "x0 = [exp.(-inv(I - diagm(1 .- alpha)*Omega)*log.(A));domar_weights ./exp.(-inv(I - diagm(1 .- alpha) * Omega)*log.(A))];"
   ]
  },
  {
   "cell_type": "markdown",
   "id": "9f20372c-a460-4a3d-880a-984a4f019e17",
   "metadata": {},
   "source": [
    "The `fmincon` function is abused in my opinion. The problem as stated is: $$\\min_x 0 \\quad \\text{s.t} \\,\\, c(x) = 0$$\n",
    "However this is simply: Solve $$c(x) = 0$$And for this the `fsolve` function can be utilized.\n",
    "\n",
    "Lets analyze what $c(x)$ actually is now. (Only `Out` is of importance, the other return values are either unused arguments in the `fmincon` function or the derivatives of `Out`, to make the solver more efficient.\n",
    "\n"
   ]
  },
  {
   "cell_type": "code",
   "execution_count": 45,
   "id": "823279c9-4d8a-4e6d-b82e-d3835c1cb758",
   "metadata": {},
   "outputs": [
    {
     "ename": "LoadError",
     "evalue": "syntax: expected \"(\" in function definition",
     "output_type": "error",
     "traceback": [
      "syntax: expected \"(\" in function definition",
      "",
      "Stacktrace:",
      " [1] top-level scope",
      "   @ In[45]:1"
     ]
    }
   ],
   "source": [
    "function [outineq, Out, outineq2, OutDeriv] = Simulation_Derivs(X, A, beta, Omega, alpha, epsilon, theta, sigma,L) % no reallocation of labor\n",
    "    N = length(alpha);\n",
    "    p = X[1:N];\n",
    "    y = X[N+1:2*N];\n",
    "\n",
    "    q = (Omega* (p.^(1-theta))).^(1/(1-theta));\n",
    "    w = p.*(A.^((epsilon-1)/epsilon)).*(alpha.^(1/epsilon)).*(y.^(1/epsilon)).*(1./L).^(1/epsilon);\n",
    "    C = w'*L;\n",
    "\n",
    "    Out(1:N) = p - (diag(A)^(epsilon-1)*(alpha.* w .^ (1-epsilon) + (1-alpha) .*q .^ (1-epsilon))).^(1/(1-epsilon));\n",
    "    Out(N+1:2*N) = y' -y'*diag(p)^epsilon*diag(A)^(epsilon-1)*diag(q)^(theta-epsilon)*diag(1-alpha)*Omega*diag(p)^(-theta) - beta'*diag(p)^(-sigma)*C;\n",
    "    Out = Out';\n",
    "    outineq = [];\n",
    "    outineq2 = [];\n",
    "\n",
    "    DQDP = bsxfun(@times, (q.^theta), (p.^(-theta))').*Omega; % \n",
    "    DWDP = diag((A.^((epsilon-1)/epsilon)).*(alpha.^(1/epsilon)).*(y.^(1/epsilon)).*(1./L).^(1/epsilon)); %checked\n",
    "    DWDY = (1/epsilon)*diag(p.*(A.^((epsilon-1)/epsilon)).*(alpha.^(1/epsilon)).*(y.^(1/epsilon-1)).*(L).^(-1/epsilon)); %checked\n",
    "    DCDP = DWDP'*L; %checked\n",
    "    DCDY = DWDY'*L;%checked\n",
    "    DOut1DP = eye(N) - diag(diag(A)^(-1)*((alpha.*(w.^(1-epsilon))+(1-alpha).*(q.^(1-epsilon)))).^(epsilon/(1-epsilon)))*...\n",
    "        (diag(alpha)*diag(w.^(-epsilon))*DWDP+diag(1-alpha)*diag(q.^(-epsilon))*DQDP);\n",
    "\n",
    "    DOut1DY =  -diag(diag(A.^(-1))*((alpha.*(w.^(1-epsilon))+(1-alpha).*(q.^(1-epsilon)))).^(epsilon/(1-epsilon)))*...\n",
    "        (diag(alpha)*diag(w.^(-epsilon))*DWDY);\n",
    "\n",
    "    DOut2DP = -(epsilon * diag(p.^(-theta))*Omega'*diag((p.^(epsilon-1)).*(y).*(q.^(theta-epsilon)).*(1-alpha).*(A.^(epsilon-1)))...\n",
    "        +(theta-epsilon)*diag(p.^(-theta))*Omega'*diag((p.^(epsilon)).*(y).*(q.^(theta-epsilon-1)).*(1-alpha).*(A.^(epsilon-1)))*DQDP ...\n",
    "        -sigma*diag(beta.*p.^(-sigma-1))*C+ bsxfun(@times, beta.*(p.^(-sigma)), DCDP')...\n",
    "        - theta* diag(p.^(-theta-1)).*diag(Omega'*diag((p.^(epsilon)).*(q.^(theta-epsilon)).*(1-alpha).*(A.^(epsilon-1)))*y));\n",
    "\n",
    "    DOut2DY = eye(N) - (diag(p)^epsilon*diag(A)^(epsilon-1)*diag(q)^(theta-epsilon)*diag(1-alpha)*Omega*diag(p)^(-theta))' - bsxfun(@times, beta.*(p.^(-sigma)), DCDY');\n",
    "    OutDeriv = [DOut1DP DOut1DY; DOut2DP DOut2DY]';\n",
    "\n",
    "end"
   ]
  },
  {
   "cell_type": "code",
   "execution_count": 216,
   "id": "ce5cb879-6167-4a9d-a280-ec9dbb12b4d1",
   "metadata": {},
   "outputs": [
    {
     "data": {
      "text/plain": [
       "problem (generic function with 1 method)"
      ]
     },
     "execution_count": 216,
     "metadata": {},
     "output_type": "execute_result"
    }
   ],
   "source": [
    "function problem(X, A, β, Ω, α, ε, θ, σ,L)\n",
    "    N = length(α)\n",
    "    p = X[1:N]\n",
    "    y = X[N+1:end]\n",
    "    \n",
    "    Out = zeros(2*N)\n",
    "    \n",
    "    q = (Ω * p .^ (1-θ)) .^ (1 / (1 - θ))\n",
    "    w = p .* (A .^ ((ε - 1)/ε)) .* (α .^ (1 / ε)) .* (y .^ (1/ε)) .* L .^ (-1/ε)\n",
    "    C = w' * L\n",
    "  \n",
    "    Out[1:N] = p - (diagm(A) ^ (ε - 1) * (α .* w .^ (1- ε) + (1 .- α) .* q .^ (1 - ε))) .^ (1/1-ε)\n",
    "    Out[N+1:end] = y' - y'* diagm(p)^ε * diagm(A)^(ε-1) * diagm(q)^(θ-ε) * diagm(1 .- α) * Ω*diagm(p)^(-θ) - β'*diagm(p)^(-σ)*C\n",
    "    \n",
    "    return Out\n",
    "    end"
   ]
  },
  {
   "cell_type": "code",
   "execution_count": 227,
   "id": "605b581f-3068-4c85-a33e-e3cf7bee4d59",
   "metadata": {},
   "outputs": [
    {
     "data": {
      "text/plain": [
       "152-element Vector{Float64}:\n",
       " -0.03238866551592301\n",
       " -0.07639414868854266\n",
       " -0.1093093050886611\n",
       "  0.050314607704717185\n",
       "  0.017821267326095347\n",
       "  0.010346747695920921\n",
       "  0.07189316973140625\n",
       " -0.012658094161173916\n",
       " -0.10173386563905207\n",
       " -0.016997091931758357\n",
       "  0.003054727340147334\n",
       "  0.025347104928073128\n",
       " -0.005844452796460953\n",
       "  ⋮\n",
       "  0.00034418540329001455\n",
       " -0.00015840903795033773\n",
       " -6.849912934678813e-5\n",
       "  0.00014981693924939754\n",
       " -3.002107124990775e-5\n",
       "  0.00025918548486311005\n",
       " -8.855251967697809e-5\n",
       " -0.000222551093685101\n",
       "  5.757400311573631e-5\n",
       "  8.275763568502126e-6\n",
       " -6.635046832143476e-5\n",
       " -0.0012574575091876964"
      ]
     },
     "execution_count": 227,
     "metadata": {},
     "output_type": "execute_result"
    }
   ],
   "source": [
    "problem(x0,A,beta,Omega,alpha,ε,θ,sigma,L)"
   ]
  },
  {
   "cell_type": "code",
   "execution_count": 228,
   "id": "3c195dd7-b53d-4b9d-82d5-ce3ac02aa064",
   "metadata": {},
   "outputs": [
    {
     "data": {
      "text/plain": [
       "f! (generic function with 1 method)"
      ]
     },
     "execution_count": 228,
     "metadata": {},
     "output_type": "execute_result"
    }
   ],
   "source": [
    "function f!(F,x)\n",
    "    F = problem(x,A,beta,Omega,alpha,ε,θ,sigma,L)\n",
    "end"
   ]
  },
  {
   "cell_type": "code",
   "execution_count": 229,
   "id": "2fc8fb98-42ec-4aad-b544-9b3a29a5c7ed",
   "metadata": {},
   "outputs": [
    {
     "ename": "LoadError",
     "evalue": "MethodError: no method matching Float64(::ForwardDiff.Dual{ForwardDiff.Tag{typeof(f!), Float64}, Float64, 12})\n\u001b[0mClosest candidates are:\n\u001b[0m  (::Type{T})(::Real, \u001b[91m::RoundingMode\u001b[39m) where T<:AbstractFloat at rounding.jl:200\n\u001b[0m  (::Type{T})(::T) where T<:Number at boot.jl:772\n\u001b[0m  (::Type{T})(\u001b[91m::AbstractChar\u001b[39m) where T<:Union{AbstractChar, Number} at char.jl:50\n\u001b[0m  ...",
     "output_type": "error",
     "traceback": [
      "MethodError: no method matching Float64(::ForwardDiff.Dual{ForwardDiff.Tag{typeof(f!), Float64}, Float64, 12})\n\u001b[0mClosest candidates are:\n\u001b[0m  (::Type{T})(::Real, \u001b[91m::RoundingMode\u001b[39m) where T<:AbstractFloat at rounding.jl:200\n\u001b[0m  (::Type{T})(::T) where T<:Number at boot.jl:772\n\u001b[0m  (::Type{T})(\u001b[91m::AbstractChar\u001b[39m) where T<:Union{AbstractChar, Number} at char.jl:50\n\u001b[0m  ...",
      "",
      "Stacktrace:",
      "  [1] convert(#unused#::Type{Float64}, x::ForwardDiff.Dual{ForwardDiff.Tag{typeof(f!), Float64}, Float64, 12})",
      "    @ Base ./number.jl:7",
      "  [2] setindex!(A::Vector{Float64}, x::ForwardDiff.Dual{ForwardDiff.Tag{typeof(f!), Float64}, Float64, 12}, i1::Int64)",
      "    @ Base ./array.jl:966",
      "  [3] setindex!(A::Vector{Float64}, X::Vector{ForwardDiff.Dual{ForwardDiff.Tag{typeof(f!), Float64}, Float64, 12}}, I::UnitRange{Int64})",
      "    @ Base ./array.jl:980",
      "  [4] problem(X::Vector{ForwardDiff.Dual{ForwardDiff.Tag{typeof(f!), Float64}, Float64, 12}}, A::Vector{Float64}, β::Vector{Float64}, Ω::Matrix{Float64}, α::Vector{Float64}, ε::Float64, θ::Float64, σ::Float64, L::Vector{Float64})",
      "    @ Main ./In[216]:12",
      "  [5] f!(F::Vector{ForwardDiff.Dual{ForwardDiff.Tag{typeof(f!), Float64}, Float64, 12}}, x::Vector{ForwardDiff.Dual{ForwardDiff.Tag{typeof(f!), Float64}, Float64, 12}})",
      "    @ Main ./In[228]:2",
      "  [6] chunk_mode_jacobian!(result::DiffResults.MutableDiffResult{1, Vector{Float64}, Tuple{Matrix{Float64}}}, f!::typeof(f!), y::Vector{Float64}, x::Vector{Float64}, cfg::ForwardDiff.JacobianConfig{ForwardDiff.Tag{typeof(f!), Float64}, Float64, 12, Tuple{Vector{ForwardDiff.Dual{ForwardDiff.Tag{typeof(f!), Float64}, Float64, 12}}, Vector{ForwardDiff.Dual{ForwardDiff.Tag{typeof(f!), Float64}, Float64, 12}}}})",
      "    @ ForwardDiff ~/.julia/packages/ForwardDiff/vXysl/src/jacobian.jl:183",
      "  [7] jacobian!",
      "    @ ~/.julia/packages/ForwardDiff/vXysl/src/jacobian.jl:80 [inlined]",
      "  [8] (::NLSolversBase.var\"#fj_forwarddiff!#24\"{typeof(f!), Vector{Float64}, ForwardDiff.JacobianConfig{ForwardDiff.Tag{typeof(f!), Float64}, Float64, 12, Tuple{Vector{ForwardDiff.Dual{ForwardDiff.Tag{typeof(f!), Float64}, Float64, 12}}, Vector{ForwardDiff.Dual{ForwardDiff.Tag{typeof(f!), Float64}, Float64, 12}}}}})(F::Vector{Float64}, J::Matrix{Float64}, x::Vector{Float64})",
      "    @ NLSolversBase ~/.julia/packages/NLSolversBase/kavn7/src/objective_types/oncedifferentiable.jl:160",
      "  [9] value_jacobian!!(obj::OnceDifferentiable{Vector{Float64}, Matrix{Float64}, Vector{Float64}}, F::Vector{Float64}, J::Matrix{Float64}, x::Vector{Float64})",
      "    @ NLSolversBase ~/.julia/packages/NLSolversBase/kavn7/src/interface.jl:124",
      " [10] value_jacobian!!",
      "    @ ~/.julia/packages/NLSolversBase/kavn7/src/interface.jl:122 [inlined]",
      " [11] trust_region_(df::OnceDifferentiable{Vector{Float64}, Matrix{Float64}, Vector{Float64}}, initial_x::Vector{Float64}, xtol::Float64, ftol::Float64, iterations::Int64, store_trace::Bool, show_trace::Bool, extended_trace::Bool, factor::Float64, autoscale::Bool, cache::NLsolve.NewtonTrustRegionCache{Vector{Float64}})",
      "    @ NLsolve ~/.julia/packages/NLsolve/gJL1I/src/solvers/trust_region.jl:119",
      " [12] trust_region (repeats 2 times)",
      "    @ ~/.julia/packages/NLsolve/gJL1I/src/solvers/trust_region.jl:235 [inlined]",
      " [13] nlsolve(df::OnceDifferentiable{Vector{Float64}, Matrix{Float64}, Vector{Float64}}, initial_x::Vector{Float64}; method::Symbol, xtol::Float64, ftol::Float64, iterations::Int64, store_trace::Bool, show_trace::Bool, extended_trace::Bool, linesearch::Static, linsolve::NLsolve.var\"#27#29\", factor::Float64, autoscale::Bool, m::Int64, beta::Int64, aa_start::Int64, droptol::Float64)",
      "    @ NLsolve ~/.julia/packages/NLsolve/gJL1I/src/nlsolve/nlsolve.jl:26",
      " [14] nlsolve(f::Function, initial_x::Vector{Float64}; method::Symbol, autodiff::Symbol, inplace::Bool, kwargs::Base.Pairs{Symbol, Union{}, Tuple{}, NamedTuple{(), Tuple{}}})",
      "    @ NLsolve ~/.julia/packages/NLsolve/gJL1I/src/nlsolve/nlsolve.jl:52",
      " [15] top-level scope",
      "    @ In[229]:1"
     ]
    }
   ],
   "source": [
    "nlsolve(f!,x0)"
   ]
  },
  {
   "cell_type": "code",
   "execution_count": null,
   "id": "b41942fb-f214-4258-875e-b809605fcc41",
   "metadata": {},
   "outputs": [],
   "source": [
    "autodiff = :forward"
   ]
  }
 ],
 "metadata": {
  "kernelspec": {
   "display_name": "Julia 1.8.0",
   "language": "julia",
   "name": "julia-1.8"
  },
  "language_info": {
   "file_extension": ".jl",
   "mimetype": "application/julia",
   "name": "julia",
   "version": "1.8.0"
  }
 },
 "nbformat": 4,
 "nbformat_minor": 5
}

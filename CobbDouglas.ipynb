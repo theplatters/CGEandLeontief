{
 "cells": [
  {
   "cell_type": "code",
   "execution_count": 1,
   "metadata": {},
   "outputs": [],
   "source": [
    "using LinearAlgebra\n",
    "using Distributed\n",
    "using SharedArrays\n",
    "using Plots\n",
    "using DataFrames, CSV"
   ]
  },
  {
   "cell_type": "code",
   "execution_count": 2,
   "metadata": {},
   "outputs": [],
   "source": [
    "using BeyondHulten"
   ]
  },
  {
   "cell_type": "markdown",
   "metadata": {},
   "source": [
    "## Loading in Data"
   ]
  },
  {
   "cell_type": "code",
   "execution_count": 6,
   "metadata": {},
   "outputs": [
    {
     "data": {
      "text/plain": [
       "CBData(\u001b[1m84×87 DataFrame\u001b[0m\n",
       "\u001b[1m Row \u001b[0m│\u001b[1m Sektoren                          \u001b[0m\u001b[1m Erz. d. Landwirtschaft, Jagd und Die\u001b[0m ⋯\n",
       "     │\u001b[90m String                            \u001b[0m\u001b[90m Int64                               \u001b[0m ⋯\n",
       "─────┼──────────────────────────────────────────────────────────────────────────\n",
       "   1 │ Erz. d. Landwirtschaft, Jagd und…                                       ⋯\n",
       "   2 │ Forstwirtschaftl. Erzeugnisse un…\n",
       "   3 │ Fische, Fischerei- und Aquakultu…\n",
       "   4 │ Kohle\n",
       "   5 │ Erdöl und Erdgas                                                        ⋯\n",
       "   6 │ Erze, Steine und Erden, sonstige…\n",
       "   7 │ Nahrungs- u. Futtermittel, Geträ…\n",
       "   8 │ Textilien, Bekleidung, Leder und…\n",
       "  ⋮  │                 ⋮                                          ⋮            ⋱\n",
       "  78 │ Bruttolöhne und -gehälter                                               ⋯\n",
       "  79 │ Sonst.Produktionsabgaben abzgl. …\n",
       "  80 │ Abschreibungen\n",
       "  81 │ Nettobetriebsüberschuss\n",
       "  82 │ Bruttowertschöpfung                                                     ⋯\n",
       "  83 │ Produktionswert\n",
       "  84 │ Produktionswert: firmenint. Lief…\n",
       "\u001b[36m                                                  86 columns and 69 rows omitted\u001b[0m, [0.2159974180360937 0.00021516365885801888 … 0.0 0.00010758182942900944; 0.019691780821917807 0.2842465753424658 … 0.0 0.003139269406392694; … ; 0.0 0.0 … 0.0 0.0; 0.0011100832562442183 9.250693802035152e-5 … 0.0002775208140610546 0.5422756706753007], [0.006120048021212256, 0.0012912676842368877, 6.607386224688323e-5, 0.000473058755967232, 0.00031377406272637646, 0.002030477061520479, 0.007970351966267742, 0.001390000282214634, 0.002146613750772613, 0.005501930189348169  …  0.050760944130289296, 0.009015282610099753, 0.04375683612201715, 0.036834026642969975, 0.006772918677978368, 0.007028597872660466, 0.004274779932152938, 0.010070606670276183, 0.0009947980616821822, 0.011541044567363445], [0.33869040952700935, 0.5536193029490617, 0.37474541751527496, 0.4088888888888889, 0.5505084745762712, 0.33076923076923076, 0.21807865892972275, 0.2916315205327414, 0.2540205538558092, 0.23447542319181677  …  0.627565017008669, 0.6781704551739395, 0.7656068719321731, 0.6808288921308839, 0.651309137981537, 0.6442910187978649, 0.5929179709852234, 0.7169902465955098, 0.6560055223193741, 0.6805914494572842], [0.017693930084304938, 0.0022174384325610048, 0.00016216298337614748, 0.000966042212576846, 0.00048714949181225545, 0.00467993782981672, 0.06403125947464477, 0.007439350713946478, 0.008419924843567217, 0.014594007962169461  …  0.08427322910425925, 0.011943254185026973, 0.05921095653701774, 0.0776496473698221, 0.03495355401150268, 0.011385096462204794, 0.009812016442203593, 0.014357534039364322, 0.0014353570789261444, 0.017891432047765086], [0.00599276442639551, 0.0012276167193668835, 6.0769834910816976e-5, 0.00039500392692031036, 0.00026817992362817043, 0.0015479794360162996, 0.013963851195811637, 0.0021695491604845464, 0.002138833972187232, 0.003421936192994428  …  0.05288693045618991, 0.0080995621269178, 0.04533231521841801, 0.05286612339314979, 0.022765569132622905, 0.007335315398745894, 0.005817720880185005, 0.010294211871387252, 0.0009416021702757565, 0.012176755670254946], [0.30598797924366294, 0.47810545129579984, 0.3910386965376782, 0.0071794871794871795, 0.6298305084745762, 0.07205363443895554, 0.7377949709864603, 0.7731853496115427, 0.43582803796971836, 0.46345161582330047  …  0.8235958050508693, 0.9108456390686356, 0.8401829540383757, 0.9399087231879681, 0.9917511551217484, 0.8382455326061731, 0.5555218957218351, 0.8031376518218624, 0.44201564657156006, 0.8004504171896921], Shocks([1.0, 1.0, 1.0, 1.0, 1.0, 1.0, 1.0, 1.0, 1.0, 1.0  …  1.0, 1.0, 1.0, 1.0, 1.0, 1.0, 1.0, 1.0, 1.0, 1.0], [1.0, 1.0, 1.0, 1.0, 1.0, 1.0, 1.0, 1.0, 1.0, 1.0  …  1.0, 1.0, 1.0, 1.0, 1.0, 1.0, 1.0, 1.0, 1.0, 1.0]), CBELasticities([0.33869040952700935, 0.5536193029490617, 0.37474541751527496, 0.4088888888888889, 0.5505084745762712, 0.33076923076923076, 0.21807865892972275, 0.2916315205327414, 0.2540205538558092, 0.23447542319181677  …  0.627565017008669, 0.6781704551739395, 0.7656068719321731, 0.6808288921308839, 0.651309137981537, 0.6442910187978649, 0.5929179709852234, 0.7169902465955098, 0.6560055223193741, 0.6805914494572842], [0.6613095904729906, 0.4463806970509383, 0.6252545824847251, 0.5911111111111111, 0.44949152542372883, 0.6692307692307693, 0.7819213410702772, 0.7083684794672587, 0.7459794461441909, 0.7655245768081832  …  0.37243498299133104, 0.3218295448260605, 0.23439312806782686, 0.31917110786911607, 0.348690862018463, 0.3557089812021351, 0.40708202901477664, 0.2830097534044902, 0.34399447768062585, 0.3194085505427158]), [53574.0, 6714.0, 491.0, 2925.0, 1475.0, 14170.0, 193875.0, 22525.0, 25494.0, 44188.0  …  255164.0, 36162.0, 179280.0, 235109.0, 105833.0, 34472.0, 29709.0, 43472.0, 4346.0, 54172.0])"
      ]
     },
     "metadata": {},
     "output_type": "display_data"
    }
   ],
   "source": [
    "data = read_data_cb(\"I-O_DE2019_formatiert.csv\")"
   ]
  },
  {
   "cell_type": "code",
   "execution_count": 22,
   "metadata": {},
   "outputs": [
    {
     "data": {
      "text/plain": [
       "CBELasticities([0.33869040952700935, 0.5536193029490617, 0.37474541751527496, 0.4088888888888889, 0.5505084745762712, 0.33076923076923076, 0.21807865892972275, 0.2916315205327414, 0.2540205538558092, 0.23447542319181677  …  0.627565017008669, 0.6781704551739395, 0.7656068719321731, 0.6808288921308839, 0.651309137981537, 0.6442910187978649, 0.5929179709852234, 0.7169902465955098, 0.6560055223193741, 0.6805914494572842], [0.6613095904729906, 0.4463806970509383, 0.6252545824847251, 0.5911111111111111, 0.44949152542372883, 0.6692307692307693, 0.7819213410702772, 0.7083684794672587, 0.7459794461441909, 0.7655245768081832  …  0.37243498299133104, 0.3218295448260605, 0.23439312806782686, 0.31917110786911607, 0.348690862018463, 0.3557089812021351, 0.40708202901477664, 0.2830097534044902, 0.34399447768062585, 0.3194085505427158])"
      ]
     },
     "metadata": {},
     "output_type": "display_data"
    }
   ],
   "source": [
    "elasticities = CBELasticities(data.factor_share,1 .- data.factor_share)"
   ]
  },
  {
   "cell_type": "code",
   "execution_count": 71,
   "metadata": {},
   "outputs": [
    {
     "name": "stdout",
     "output_type": "stream",
     "text": [
      "Demand shock to sector Vorb.Baustellen-,Bauinstallations-,Ausbauarbeiten: 1.2048978788971576\n"
     ]
    }
   ],
   "source": [
    "demand_shock = ones(71)\n",
    "supply_shock = ones(71)\n",
    "shocks = Shocks(supply_shock, demand_shock)\n",
    "shocks.supply_shock[1:3] .= 1.01\n",
    "sector = [\"Vorb.Baustellen-,Bauinstallations-,Ausbauarbeiten\"]\n",
    "investment = [25000]\n",
    "calculate_investment!(shocks, data, investment, sector)"
   ]
  },
  {
   "cell_type": "code",
   "execution_count": 72,
   "metadata": {},
   "outputs": [
    {
     "data": {
      "text/html": [
       "<div><div style = \"float: left;\"><span>71×4 DataFrame</span></div><div style = \"float: right;\"><span style = \"font-style: italic;\">46 rows omitted</span></div><div style = \"clear: both;\"></div></div><div class = \"data-frame\" style = \"overflow-x: scroll;\"><table class = \"data-frame\" style = \"margin-bottom: 6px;\"><thead><tr class = \"header\"><th class = \"rowNumber\" style = \"font-weight: bold; text-align: right;\">Row</th><th style = \"text-align: left;\">prices</th><th style = \"text-align: left;\">quantities</th><th style = \"text-align: left;\">sectors</th><th style = \"text-align: left;\">value_added</th></tr><tr class = \"subheader headerLastRow\"><th class = \"rowNumber\" style = \"font-weight: bold; text-align: right;\"></th><th title = \"Float64\" style = \"text-align: left;\">Float64</th><th title = \"Float64\" style = \"text-align: left;\">Float64</th><th title = \"String\" style = \"text-align: left;\">String</th><th title = \"Float64\" style = \"text-align: left;\">Float64</th></tr></thead><tbody><tr><td class = \"rowNumber\" style = \"font-weight: bold; text-align: right;\">1</td><td style = \"text-align: right;\">0.833218</td><td style = \"text-align: right;\">0.0182215</td><td style = \"text-align: left;\">Erz. d. Landwirtschaft, Jagd und Dienstleistungen</td><td style = \"text-align: right;\">0.00514215</td></tr><tr><td class = \"rowNumber\" style = \"font-weight: bold; text-align: right;\">2</td><td style = \"text-align: right;\">0.842504</td><td style = \"text-align: right;\">0.00225765</td><td style = \"text-align: left;\">Forstwirtschaftl. Erzeugnisse und Dienstleistungen</td><td style = \"text-align: right;\">0.00105303</td></tr><tr><td class = \"rowNumber\" style = \"font-weight: bold; text-align: right;\">3</td><td style = \"text-align: right;\">0.835292</td><td style = \"text-align: right;\">0.000166526</td><td style = \"text-align: left;\">Fische, Fischerei- und Aquakulturerzeugnisse, DL</td><td style = \"text-align: right;\">5.21264e-5</td></tr><tr><td class = \"rowNumber\" style = \"font-weight: bold; text-align: right;\">4</td><td style = \"text-align: right;\">0.861116</td><td style = \"text-align: right;\">0.000966042</td><td style = \"text-align: left;\">Kohle</td><td style = \"text-align: right;\">0.000340144</td></tr><tr><td class = \"rowNumber\" style = \"font-weight: bold; text-align: right;\">5</td><td style = \"text-align: right;\">0.856059</td><td style = \"text-align: right;\">0.000487149</td><td style = \"text-align: left;\">Erdöl und Erdgas</td><td style = \"text-align: right;\">0.000229578</td></tr><tr><td class = \"rowNumber\" style = \"font-weight: bold; text-align: right;\">6</td><td style = \"text-align: right;\">0.858282</td><td style = \"text-align: right;\">0.00467994</td><td style = \"text-align: left;\">Erze, Steine und Erden, sonstige Bergbauerz., DL</td><td style = \"text-align: right;\">0.0013286</td></tr><tr><td class = \"rowNumber\" style = \"font-weight: bold; text-align: right;\">7</td><td style = \"text-align: right;\">0.858388</td><td style = \"text-align: right;\">0.0640313</td><td style = \"text-align: left;\">Nahrungs- u. Futtermittel, Getränke, Tabakerzeugn.</td><td style = \"text-align: right;\">0.0119864</td></tr><tr><td class = \"rowNumber\" style = \"font-weight: bold; text-align: right;\">8</td><td style = \"text-align: right;\">0.858984</td><td style = \"text-align: right;\">0.00743935</td><td style = \"text-align: left;\">Textilien, Bekleidung, Leder und Lederwaren</td><td style = \"text-align: right;\">0.00186361</td></tr><tr><td class = \"rowNumber\" style = \"font-weight: bold; text-align: right;\">9</td><td style = \"text-align: right;\">0.857912</td><td style = \"text-align: right;\">0.00841992</td><td style = \"text-align: left;\">Holz,Holz- u.Korkwaren (oh.Möbel),Flecht- u.Korbw.</td><td style = \"text-align: right;\">0.00183493</td></tr><tr><td class = \"rowNumber\" style = \"font-weight: bold; text-align: right;\">10</td><td style = \"text-align: right;\">0.857552</td><td style = \"text-align: right;\">0.014594</td><td style = \"text-align: left;\">Papier, Pappe und Waren daraus</td><td style = \"text-align: right;\">0.00293449</td></tr><tr><td class = \"rowNumber\" style = \"font-weight: bold; text-align: right;\">11</td><td style = \"text-align: right;\">0.858014</td><td style = \"text-align: right;\">0.00570378</td><td style = \"text-align: left;\">Druckereileist., besp. Ton-, Bild- u. Datenträger</td><td style = \"text-align: right;\">0.00182892</td></tr><tr><td class = \"rowNumber\" style = \"font-weight: bold; text-align: right;\">12</td><td style = \"text-align: right;\">0.856302</td><td style = \"text-align: right;\">0.0187442</td><td style = \"text-align: left;\">Kokerei- und Mineralölerzeugnisse</td><td style = \"text-align: right;\">0.000690626</td></tr><tr><td class = \"rowNumber\" style = \"font-weight: bold; text-align: right;\">13</td><td style = \"text-align: right;\">0.858246</td><td style = \"text-align: right;\">0.0548061</td><td style = \"text-align: left;\">Chemische Erzeugnisse</td><td style = \"text-align: right;\">0.0100518</td></tr><tr><td style = \"text-align: right;\">&vellip;</td><td style = \"text-align: right;\">&vellip;</td><td style = \"text-align: right;\">&vellip;</td><td style = \"text-align: right;\">&vellip;</td><td style = \"text-align: right;\">&vellip;</td></tr><tr><td class = \"rowNumber\" style = \"font-weight: bold; text-align: right;\">60</td><td style = \"text-align: right;\">0.8564</td><td style = \"text-align: right;\">0.0118168</td><td style = \"text-align: left;\">DL v. Reisebüros, -veranstaltern u. sonst. Reserv.</td><td style = \"text-align: right;\">0.0021021</td></tr><tr><td class = \"rowNumber\" style = \"font-weight: bold; text-align: right;\">61</td><td style = \"text-align: right;\">0.858136</td><td style = \"text-align: right;\">0.0433517</td><td style = \"text-align: left;\">Wach-, Sicherheits-DL, wirtschaftliche DL a.n.g</td><td style = \"text-align: right;\">0.0212656</td></tr><tr><td class = \"rowNumber\" style = \"font-weight: bold; text-align: right;\">62</td><td style = \"text-align: right;\">0.859334</td><td style = \"text-align: right;\">0.0842732</td><td style = \"text-align: left;\">DL d. öffentlichen Verwaltung und der Verteidigung</td><td style = \"text-align: right;\">0.0454475</td></tr><tr><td class = \"rowNumber\" style = \"font-weight: bold; text-align: right;\">63</td><td style = \"text-align: right;\">0.85851</td><td style = \"text-align: right;\">0.0119433</td><td style = \"text-align: left;\">Dienstleistungen der Sozialversicherung</td><td style = \"text-align: right;\">0.00695356</td></tr><tr><td class = \"rowNumber\" style = \"font-weight: bold; text-align: right;\">64</td><td style = \"text-align: right;\">0.857219</td><td style = \"text-align: right;\">0.059211</td><td style = \"text-align: left;\">Erziehungs- und Unterrichtsdienstleistungen</td><td style = \"text-align: right;\">0.0388597</td></tr><tr><td class = \"rowNumber\" style = \"font-weight: bold; text-align: right;\">65</td><td style = \"text-align: right;\">0.857627</td><td style = \"text-align: right;\">0.0776496</td><td style = \"text-align: left;\">Dienstleistungen des Gesundheitswesens</td><td style = \"text-align: right;\">0.0453394</td></tr><tr><td class = \"rowNumber\" style = \"font-weight: bold; text-align: right;\">66</td><td style = \"text-align: right;\">0.858954</td><td style = \"text-align: right;\">0.0349536</td><td style = \"text-align: left;\">Dienstleistungen von Heimen und des Sozialwesens</td><td style = \"text-align: right;\">0.0195546</td></tr><tr><td class = \"rowNumber\" style = \"font-weight: bold; text-align: right;\">67</td><td style = \"text-align: right;\">0.858144</td><td style = \"text-align: right;\">0.0113851</td><td style = \"text-align: left;\">Dienstleist. der Kunst, Kultur u. des Glücksspiels</td><td style = \"text-align: right;\">0.00629476</td></tr><tr><td class = \"rowNumber\" style = \"font-weight: bold; text-align: right;\">68</td><td style = \"text-align: right;\">0.85714</td><td style = \"text-align: right;\">0.00981202</td><td style = \"text-align: left;\">DL des Sports, der Unterhaltung und der Erholung</td><td style = \"text-align: right;\">0.0049866</td></tr><tr><td class = \"rowNumber\" style = \"font-weight: bold; text-align: right;\">69</td><td style = \"text-align: right;\">0.857945</td><td style = \"text-align: right;\">0.0143575</td><td style = \"text-align: left;\">DL d. Interessenvertr., kirchl. u.sonst. Vereinig.</td><td style = \"text-align: right;\">0.00883186</td></tr><tr><td class = \"rowNumber\" style = \"font-weight: bold; text-align: right;\">70</td><td style = \"text-align: right;\">0.856579</td><td style = \"text-align: right;\">0.00143536</td><td style = \"text-align: left;\">Reparaturarbeiten an DV-Geräten u. Gebrauchsgütern</td><td style = \"text-align: right;\">0.000806557</td></tr><tr><td class = \"rowNumber\" style = \"font-weight: bold; text-align: right;\">71</td><td style = \"text-align: right;\">0.856676</td><td style = \"text-align: right;\">0.0178914</td><td style = \"text-align: left;\">Sonstige überwiegend persönliche Dienstleistungen</td><td style = \"text-align: right;\">0.0104315</td></tr></tbody></table></div>"
      ],
      "text/latex": [
       "\\begin{tabular}{r|cccc}\n",
       "\t& prices & quantities & sectors & value\\_added\\\\\n",
       "\t\\hline\n",
       "\t& Float64 & Float64 & String & Float64\\\\\n",
       "\t\\hline\n",
       "\t1 & 0.833218 & 0.0182215 & Erz. d. Landwirtschaft, Jagd und Dienstleistungen & 0.00514215 \\\\\n",
       "\t2 & 0.842504 & 0.00225765 & Forstwirtschaftl. Erzeugnisse und Dienstleistungen & 0.00105303 \\\\\n",
       "\t3 & 0.835292 & 0.000166526 & Fische, Fischerei- und Aquakulturerzeugnisse, DL & 5.21264e-5 \\\\\n",
       "\t4 & 0.861116 & 0.000966042 & Kohle & 0.000340144 \\\\\n",
       "\t5 & 0.856059 & 0.000487149 & Erdöl und Erdgas & 0.000229578 \\\\\n",
       "\t6 & 0.858282 & 0.00467994 & Erze, Steine und Erden, sonstige Bergbauerz., DL & 0.0013286 \\\\\n",
       "\t7 & 0.858388 & 0.0640313 & Nahrungs- u. Futtermittel, Getränke, Tabakerzeugn. & 0.0119864 \\\\\n",
       "\t8 & 0.858984 & 0.00743935 & Textilien, Bekleidung, Leder und Lederwaren & 0.00186361 \\\\\n",
       "\t9 & 0.857912 & 0.00841992 & Holz,Holz- u.Korkwaren (oh.Möbel),Flecht- u.Korbw. & 0.00183493 \\\\\n",
       "\t10 & 0.857552 & 0.014594 & Papier, Pappe und Waren daraus & 0.00293449 \\\\\n",
       "\t11 & 0.858014 & 0.00570378 & Druckereileist., besp. Ton-, Bild- u. Datenträger & 0.00182892 \\\\\n",
       "\t12 & 0.856302 & 0.0187442 & Kokerei- und Mineralölerzeugnisse & 0.000690626 \\\\\n",
       "\t13 & 0.858246 & 0.0548061 & Chemische Erzeugnisse & 0.0100518 \\\\\n",
       "\t14 & 0.857977 & 0.0129228 & Pharmazeutische Erzeugnisse & 0.00371605 \\\\\n",
       "\t15 & 0.856785 & 0.0262651 & Gummi- und Kunststoffwaren & 0.00725623 \\\\\n",
       "\t16 & 0.857304 & 0.00346289 & Glas und Glaswaren & 0.00112747 \\\\\n",
       "\t17 & 0.857487 & 0.0126054 & Keramik, bearbeitete Steine und Erden & 0.00344488 \\\\\n",
       "\t18 & 0.859997 & 0.0302086 & Roheisen, Stahl, Erz.d.erst. Bearb.v.Eisen u.Stahl & 0.00290025 \\\\\n",
       "\t19 & 0.856988 & 0.0141785 & NE-Metalle und Halbzeug daraus & 0.00127452 \\\\\n",
       "\t20 & 0.857532 & 0.00635012 & Gießereierzeugnisse & 0.00173273 \\\\\n",
       "\t21 & 0.85682 & 0.0455595 & Metallerzeugnisse & 0.0158884 \\\\\n",
       "\t22 & 0.856575 & 0.02581 & DV-Geräte, elektronische und optische Erzeugnisse & 0.00944666 \\\\\n",
       "\t23 & 0.856645 & 0.0319689 & Elektrische Ausrüstungen & 0.0107605 \\\\\n",
       "\t24 & 0.85738 & 0.0815359 & Maschinen & 0.0250878 \\\\\n",
       "\t$\\dots$ & $\\dots$ & $\\dots$ & $\\dots$ & $\\dots$ \\\\\n",
       "\\end{tabular}\n"
      ],
      "text/plain": [
       "\u001b[1m71×4 DataFrame\u001b[0m\n",
       "\u001b[1m Row \u001b[0m│\u001b[1m prices   \u001b[0m\u001b[1m quantities  \u001b[0m\u001b[1m sectors                           \u001b[0m\u001b[1m value_added \u001b[0m\n",
       "     │\u001b[90m Float64  \u001b[0m\u001b[90m Float64     \u001b[0m\u001b[90m String                            \u001b[0m\u001b[90m Float64     \u001b[0m\n",
       "─────┼───────────────────────────────────────────────────────────────────────\n",
       "   1 │ 0.833218  0.0182215    Erz. d. Landwirtschaft, Jagd und…  0.00514215\n",
       "   2 │ 0.842504  0.00225765   Forstwirtschaftl. Erzeugnisse un…  0.00105303\n",
       "   3 │ 0.835292  0.000166526  Fische, Fischerei- und Aquakultu…  5.21264e-5\n",
       "   4 │ 0.861116  0.000966042  Kohle                              0.000340144\n",
       "   5 │ 0.856059  0.000487149  Erdöl und Erdgas                   0.000229578\n",
       "   6 │ 0.858282  0.00467994   Erze, Steine und Erden, sonstige…  0.0013286\n",
       "   7 │ 0.858388  0.0640313    Nahrungs- u. Futtermittel, Geträ…  0.0119864\n",
       "   8 │ 0.858984  0.00743935   Textilien, Bekleidung, Leder und…  0.00186361\n",
       "  ⋮  │    ⋮           ⋮                       ⋮                       ⋮\n",
       "  65 │ 0.857627  0.0776496    Dienstleistungen des Gesundheits…  0.0453394\n",
       "  66 │ 0.858954  0.0349536    Dienstleistungen von Heimen und …  0.0195546\n",
       "  67 │ 0.858144  0.0113851    Dienstleist. der Kunst, Kultur u…  0.00629476\n",
       "  68 │ 0.85714   0.00981202   DL des Sports, der Unterhaltung …  0.0049866\n",
       "  69 │ 0.857945  0.0143575    DL d. Interessenvertr., kirchl. …  0.00883186\n",
       "  70 │ 0.856579  0.00143536   Reparaturarbeiten an DV-Geräten …  0.000806557\n",
       "  71 │ 0.856676  0.0178914    Sonstige überwiegend persönliche…  0.0104315\n",
       "\u001b[36m                                                              56 rows omitted\u001b[0m"
      ]
     },
     "metadata": {},
     "output_type": "display_data"
    }
   ],
   "source": [
    "solution = solve_cobb_douglas_modell(data, shocks, elasticities)"
   ]
  },
  {
   "cell_type": "code",
   "execution_count": 73,
   "metadata": {},
   "outputs": [
    {
     "data": {
      "text/plain": [
       "0.8617711485346194"
      ]
     },
     "metadata": {},
     "output_type": "display_data"
    }
   ],
   "source": [
    "sum(solution.value_added)"
   ]
  },
  {
   "cell_type": "code",
   "execution_count": 7,
   "metadata": {},
   "outputs": [
    {
     "data": {
      "text/plain": [
       "71×1 Matrix{Float64}:\n",
       " 1.0\n",
       " 1.0\n",
       " 1.0\n",
       " 1.0\n",
       " 1.0\n",
       " 1.0\n",
       " 1.0\n",
       " 1.0\n",
       " 1.0\n",
       " 1.0\n",
       " ⋮\n",
       " 1.0\n",
       " 1.0\n",
       " 0.9999999999999999\n",
       " 1.0\n",
       " 1.0\n",
       " 1.0\n",
       " 1.0\n",
       " 1.0\n",
       " 0.9999999999999999"
      ]
     },
     "metadata": {},
     "output_type": "display_data"
    }
   ],
   "source": [
    "BeyondHulten.cobb_douglas_costfun(ones(71),data.λ,data)"
   ]
  },
  {
   "cell_type": "code",
   "execution_count": 66,
   "metadata": {},
   "outputs": [
    {
     "data": {
      "text/plain": [
       "71×1 Matrix{Float64}:\n",
       " -3.469446951953614e-18\n",
       "  0.0\n",
       " -2.710505431213761e-20\n",
       "  0.0\n",
       "  5.421010862427522e-20\n",
       " -8.673617379884035e-19\n",
       " -1.3877787807814457e-17\n",
       " -8.673617379884035e-19\n",
       " -1.734723475976807e-18\n",
       "  0.0\n",
       "  ⋮\n",
       "  0.0\n",
       "  6.938893903907228e-18\n",
       " -2.7755575615628914e-17\n",
       "  0.0\n",
       "  1.734723475976807e-18\n",
       "  0.0\n",
       "  0.0\n",
       " -2.168404344971009e-19\n",
       "  0.0"
      ]
     },
     "metadata": {},
     "output_type": "display_data"
    }
   ],
   "source": [
    "BeyondHulten.cobb_douglas_intermediary_demand(ones(71),data.λ,data) + data.consumption_share - data.λ"
   ]
  },
  {
   "cell_type": "code",
   "execution_count": 54,
   "metadata": {},
   "outputs": [
    {
     "ename": "Base.Meta.ParseError",
     "evalue": "ParseError:\n# Error @ /home/franzs/Schreibtisch/BeyondHulten/CobbDouglas.ipynb:1:96\n(data.Ω' * (1 .- data.factor_share) .* data.λ) - sum(data.labor_share) * data.consumption_share)\n#                                                                                              ╙ ── extra tokens after end of expression",
     "output_type": "error",
     "traceback": [
      "ParseError:\n",
      "# Error @ /home/franzs/Schreibtisch/BeyondHulten/CobbDouglas.ipynb:1:96\n",
      "(data.Ω' * (1 .- data.factor_share) .* data.λ) - sum(data.labor_share) * data.consumption_share)\n",
      "#                                                                                              ╙ ── extra tokens after end of expression\n",
      "\n",
      "Stacktrace:\n",
      " [1] top-level scope\n",
      "   @ ~/Schreibtisch/BeyondHulten/CobbDouglas.ipynb:1"
     ]
    }
   ],
   "source": [
    "(data.Ω' * (1 .- data.factor_share) .* data.λ) - sum(data.labor_share) * data.consumption_share)"
   ]
  },
  {
   "cell_type": "code",
   "execution_count": 62,
   "metadata": {},
   "outputs": [
    {
     "data": {
      "text/plain": [
       "71-element Vector{Float64}:\n",
       " -3.469446951953614e-18\n",
       "  0.0\n",
       " -2.710505431213761e-20\n",
       "  0.0\n",
       "  5.421010862427522e-20\n",
       " -8.673617379884035e-19\n",
       "  0.0\n",
       " -1.734723475976807e-18\n",
       "  0.0\n",
       " -3.469446951953614e-18\n",
       "  ⋮\n",
       "  0.0\n",
       "  6.938893903907228e-18\n",
       " -2.7755575615628914e-17\n",
       "  0.0\n",
       "  1.734723475976807e-18\n",
       "  0.0\n",
       "  0.0\n",
       " -2.168404344971009e-19\n",
       "  3.469446951953614e-18"
      ]
     },
     "metadata": {},
     "output_type": "display_data"
    }
   ],
   "source": [
    "(data.Ω' * ((1 .- data.factor_share) .* data.λ)) + data.consumption_share - data.λ\n"
   ]
  },
  {
   "cell_type": "code",
   "execution_count": null,
   "metadata": {},
   "outputs": [],
   "source": []
  }
 ],
 "metadata": {
  "kernelspec": {
   "display_name": "Julia 1.10.4",
   "language": "julia",
   "name": "julia-1.10"
  },
  "language_info": {
   "file_extension": ".jl",
   "mimetype": "application/julia",
   "name": "julia",
   "version": "1.10.4"
  }
 },
 "nbformat": 4,
 "nbformat_minor": 2
}

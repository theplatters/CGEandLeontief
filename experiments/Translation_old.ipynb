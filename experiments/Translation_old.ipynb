{
 "cells": [
  {
   "cell_type": "code",
   "execution_count": 7,
   "id": "cbc92778-e323-4747-8f6a-4a771e79d1e9",
   "metadata": {},
   "outputs": [
    {
     "data": {
      "text/plain": [
       "mvnrnd (generic function with 1 method)"
      ]
     },
     "execution_count": 7,
     "metadata": {},
     "output_type": "execute_result"
    }
   ],
   "source": [
    "using MAT, Statistics, LinearAlgebra,Random, Plots, NLsolve,StatsPlots\n",
    "include(\"mvnrnd.jl\")"
   ]
  },
  {
   "cell_type": "code",
   "execution_count": 8,
   "id": "a5c276a3-47ea-4448-8f9e-08642ccf059f",
   "metadata": {},
   "outputs": [],
   "source": [
    "function string_as_varname(s::AbstractString,v::Any)\n",
    "    s=Symbol(s)\n",
    "    if size(v,2) == 1 # check if v is a column vector\n",
    "        @eval (($s) = (vec($v)))\n",
    "    else\n",
    "        @eval (($s) = ($v))\n",
    "    end\n",
    "end\n",
    "\n",
    "file = matopen(\"simulationData.mat\")\n",
    "\n",
    "#Reads in ju[IO, price, Omega, data, labor, mu, aggtfp, alpha, grossy, stfp, beta, agggdp, Sigma, capital, vadd]\n",
    "\n",
    "varnames = names(file)\n",
    "for varname in varnames\n",
    "    val = read(file, varname)\n",
    "    # Instantiate the variable with its name in the current scope\n",
    "    string_as_varname(varname,val)\n",
    "    end\n",
    "\n",
    "close(file)"
   ]
  },
  {
   "cell_type": "code",
   "execution_count": 9,
   "id": "c87b6b7e-1745-4aa4-9f3d-c93bd8a36f03",
   "metadata": {},
   "outputs": [
    {
     "data": {
      "text/plain": [
       "getVariables (generic function with 1 method)"
      ]
     },
     "execution_count": 9,
     "metadata": {},
     "output_type": "execute_result"
    }
   ],
   "source": [
    "function getVariables(year)\n",
    "    IO = data[data[:,1] .== year,:]\n",
    "    temp = [8,60,62,80:88...]\n",
    "    IO = IO[setdiff(1:end,temp),setdiff(1:end,[1,2,3,4,5,94])]\n",
    "    IO = IO[:,setdiff(1:end,temp)]\n",
    "    Ω = IO ./ sum(IO,dims=2)\n",
    "    α = vadd[:,year-1959] ./ grossy[:,year-1959];\n",
    "    β = (grossy[:,year-1959]' * (I-diagm(1 .- α)*Ω))';\n",
    "    β[beta .< 0] .= 0\n",
    "    β = β / sum(β)\n",
    "    λ = (inv(I - diagm(1 .- alpha)*Ω)' * β);\n",
    "    L = λ .* α\n",
    "    \n",
    "    return α,β,Ω,L,λ\n",
    "\n",
    "end"
   ]
  },
  {
   "cell_type": "code",
   "execution_count": 11,
   "id": "8cec9cf5-97b5-484a-9f62-e07922455a79",
   "metadata": {},
   "outputs": [],
   "source": [
    "grossy = reshape(data[:,3],46,88)'\n",
    "capital = reshape(data[:,4],46,88)'; #NOMINAL CAPITAL\n",
    "labor = reshape(data[:,5],46,88)'; #NOMINAL LABOR\n",
    "vadd = labor + capital; #NOMINAL VALUE;"
   ]
  },
  {
   "cell_type": "code",
   "execution_count": 12,
   "id": "46910637-c607-46e0-9a92-eba5afc5c1ae",
   "metadata": {},
   "outputs": [],
   "source": [
    "removableSectors = [60, 80:88...];\n",
    "grossy = grossy[setdiff(1:end,removableSectors),:];\n",
    "capital = capital[setdiff(1:end,removableSectors),:];\n",
    "labor = labor[setdiff(1:end,removableSectors),:];\n",
    "vadd = vadd[setdiff(1:end,removableSectors),:];"
   ]
  },
  {
   "cell_type": "code",
   "execution_count": 13,
   "id": "76aa83f0-c9cc-44d5-81eb-ec25698fbb25",
   "metadata": {},
   "outputs": [],
   "source": [
    "grossSales = vec((sum(grossy,dims=2) .!= 0));\n",
    "grossy = grossy[grossSales,:];\n",
    "capital = capital[grossSales,:];\n",
    "labor = labor[grossSales,:];\n",
    "vadd = vadd[grossSales,:];"
   ]
  },
  {
   "cell_type": "code",
   "execution_count": 14,
   "id": "199d4e8f-363f-49c5-9f9e-2bbfca34dd07",
   "metadata": {},
   "outputs": [],
   "source": [
    "domar_weights = (inv(I - diagm(1 .- alpha) * Omega)' * beta);\n",
    "L = domar_weights .* alpha;"
   ]
  },
  {
   "cell_type": "code",
   "execution_count": 15,
   "id": "269c6f59-cb8a-4649-9002-85388cddac4a",
   "metadata": {},
   "outputs": [],
   "source": [
    "ε = .5;\n",
    "θ = 0.001;\n",
    "σ = .9;"
   ]
  },
  {
   "cell_type": "code",
   "execution_count": 51,
   "id": "1826e759-8923-48a9-90b8-0f6eec6db71f",
   "metadata": {},
   "outputs": [
    {
     "data": {
      "text/plain": [
       "problem (generic function with 1 method)"
      ]
     },
     "execution_count": 51,
     "metadata": {},
     "output_type": "execute_result"
    }
   ],
   "source": [
    "function problem(X, A, β, Ω, α, ε, θ, σ,L)\n",
    "    N = length(α)\n",
    "    p = ComplexF64.(X[1:N])\n",
    "    y = ComplexF64.(X[N+1:end])\n",
    "    \n",
    "    Out :: Vector{Float64} = zeros(2*N)\n",
    "    \n",
    "    q :: Vector{Float64} = (Ω *  p .^ (1-θ)) .^ (1 / (1 - θ))\n",
    "    w  :: Vector{Float64} = p .* (A .^ ((ε - 1)/ε)) .* (α .^ (1 / ε)) .* (y .^ (1/ε)) .* L .^ (-1/ε)\n",
    "    C :: Float64 = w' * L\n",
    "\n",
    "    Out[1:N] = p - (A .^ (ε - 1) .* (α .* w .^ (1- ε) + (1 .- α) .* q .^ (1 - ε))) .^ (1/(1-ε))\n",
    "    Out[N+1:end] = y' - y' * diagm(p)^ε * diagm(A)^(ε-1) * diagm(q)^(θ-ε) * diagm(1 .- α) * Ω * diagm(p)^(-θ) - β'*diagm(p)^(-σ)*C\n",
    "    \n",
    "    return Out\n",
    "end"
   ]
  },
  {
   "cell_type": "code",
   "execution_count": 53,
   "id": "dd7d201b-5d10-45f9-bbab-ed23078f0b2f",
   "metadata": {},
   "outputs": [
    {
     "ename": "LoadError",
     "evalue": "MethodError: no method matching nlsolve(::OnceDifferentiable{Vector{Float64}, Matrix{Float64}, Vector{Float64}}, ::Vector{Float64}; method=:trust_region, iterations=5000, xtol=1.0000000000000002e-12, ftol=1.0000000000000002e-12, show=true)\n\u001b[0mClosest candidates are:\n\u001b[0m  nlsolve(::Union{NLSolversBase.NonDifferentiable, OnceDifferentiable}, ::AbstractArray; method, xtol, ftol, iterations, store_trace, show_trace, extended_trace, linesearch, linsolve, factor, autoscale, m, beta, aa_start, droptol) at ~/.julia/packages/NLsolve/gJL1I/src/nlsolve/nlsolve.jl:1\u001b[91m got unsupported keyword argument \"show\"\u001b[39m\n\u001b[0m  nlsolve(::Any, ::AbstractArray; method, autodiff, inplace, kwargs...) at ~/.julia/packages/NLsolve/gJL1I/src/nlsolve/nlsolve.jl:40\n\u001b[0m  nlsolve(::Any, ::Any, \u001b[91m::AbstractArray\u001b[39m; inplace, kwargs...) at ~/.julia/packages/NLsolve/gJL1I/src/nlsolve/nlsolve.jl:56\n\u001b[0m  ...",
     "output_type": "error",
     "traceback": [
      "MethodError: no method matching nlsolve(::OnceDifferentiable{Vector{Float64}, Matrix{Float64}, Vector{Float64}}, ::Vector{Float64}; method=:trust_region, iterations=5000, xtol=1.0000000000000002e-12, ftol=1.0000000000000002e-12, show=true)\n\u001b[0mClosest candidates are:\n\u001b[0m  nlsolve(::Union{NLSolversBase.NonDifferentiable, OnceDifferentiable}, ::AbstractArray; method, xtol, ftol, iterations, store_trace, show_trace, extended_trace, linesearch, linsolve, factor, autoscale, m, beta, aa_start, droptol) at ~/.julia/packages/NLsolve/gJL1I/src/nlsolve/nlsolve.jl:1\u001b[91m got unsupported keyword argument \"show\"\u001b[39m\n\u001b[0m  nlsolve(::Any, ::AbstractArray; method, autodiff, inplace, kwargs...) at ~/.julia/packages/NLsolve/gJL1I/src/nlsolve/nlsolve.jl:40\n\u001b[0m  nlsolve(::Any, ::Any, \u001b[91m::AbstractArray\u001b[39m; inplace, kwargs...) at ~/.julia/packages/NLsolve/gJL1I/src/nlsolve/nlsolve.jl:56\n\u001b[0m  ...",
      "",
      "Stacktrace:",
      " [1] kwerr(::NamedTuple{(:method, :iterations, :xtol, :ftol, :show), Tuple{Symbol, Int64, Float64, Float64, Bool}}, ::Function, ::OnceDifferentiable{Vector{Float64}, Matrix{Float64}, Vector{Float64}}, ::Vector{Float64})",
      "   @ Base ./error.jl:165",
      " [2] nlsolve(f::Function, initial_x::Vector{Float64}; method::Symbol, autodiff::Symbol, inplace::Bool, kwargs::Base.Pairs{Symbol, Real, NTuple{4, Symbol}, NamedTuple{(:iterations, :xtol, :ftol, :show), Tuple{Int64, Float64, Float64, Bool}}})",
      "   @ NLsolve ~/.julia/packages/NLsolve/gJL1I/src/nlsolve/nlsolve.jl:52",
      " [3] top-level scope",
      "   @ In[53]:17"
     ]
    }
   ],
   "source": [
    "trials = 10000;\n",
    "GDP = zeros(trials)\n",
    "λ = zeros(76,trials)\n",
    "A_logged = zeros(trials,76)\n",
    "\n",
    "for k in 1:trials\n",
    "    \n",
    "        \n",
    "    A = exp.(mvnrnd(-1/2*diag(Sigma),diagm(diag(Sigma))));\n",
    "    x0 = [exp.(-inv(I - diagm(1 .- alpha)*Omega)*log.(A));domar_weights ./exp.(-inv(I - diagm(1 .- alpha) * Omega)*log.(A))];\n",
    "    \n",
    "    function f!(F,x)\n",
    "        F[1:152] = problem(x, A, beta, Omega, alpha, ε, θ, σ,L)\n",
    "    end\n",
    "   \n",
    "    x = nlsolve(f!,x0,iterations = 5000, xtol = 10^-12,ftol = 10^-12,show = true)\n",
    "    if converged(x)\n",
    "        GDP[k] = (x.zero[1:76] .* (A .^ ((ε-1)/ε)).*(alpha.^(1/ε)).*(x.zero[77:152].^(1/ε)).* L .^ (-1/ε))' * L;\n",
    "        λ[:,k] = (x.zero[1:76] .* x.zero[77:end]) / GDP[k] \n",
    "    else\n",
    "        print(\"No convergence\")\n",
    "    end\n",
    "        \n",
    "end"
   ]
  },
  {
   "cell_type": "code",
   "execution_count": null,
   "id": "fcb24691-c9bc-436e-9dd8-2811de1a25f9",
   "metadata": {},
   "outputs": [],
   "source": [
    "year = 1982\n",
    "M = 10\n",
    "A = ones(76,1);\n",
    "a = 0.7;\n",
    "b = 1.3;\n",
    "\n",
    "ε = .3; #Elasticity of substitution between VA and intermediates\n",
    "θ = 0.0001; #Elasticity of substitution between intermediates\n",
    "σ = .4; #Elasticity of substitution between in consumption\n",
    "\n",
    "\n",
    "(α,β,Ω,L,λ) = getVariables(year);\n",
    "\n",
    "x0 = [ones(76,1);λ];\n",
    "\n",
    "GDP = zeros(20,3)\n",
    "sectors = [7 8 53]\n",
    "sectorShocks = LinRange(1,a,M)\n",
    "for i in 1:3\n",
    "    for k in 1:M\n",
    "        A = ones(76)\n",
    "        A[sectors[i]] = sectorShocks[k]\n",
    "        \n",
    "        function f!(F,x)\n",
    "            F[1:152] = problem(x, A, β, Ω, α, ε, θ, σ,L);\n",
    "        end\n",
    "        \n",
    "        function j!(J,x)\n",
    "            J[1:152,1:152] .= Jacobian(x, A, beta, Omega, alpha, epsilon, theta, sigma,L);\n",
    "        end\n",
    "        \n",
    "        x = nlsolve(f!,x0,iterations = 500, xtol = 10^-14,ftol = 10^-14,method = :newton);\n",
    "        \n",
    "        if converged(x)\n",
    "            p = x.zero[1:76] \n",
    "            y = x.zero[77:152]\n",
    "            GDP[k,i] = (p .* (A .^ ((ε-1)/ε)).*(alpha.^(1/ε)).*(y.^(1/ε)).* L .^ (-1/ε))' * L\n",
    "            x0 =  x.zero\n",
    "        else\n",
    "            print(\"No convergence\")\n",
    "            p = x.zero[1:76] \n",
    "            y = x.zero[77:152]\n",
    "            GDP[k,i] = (p .* (A .^ ((ε-1)/ε)).*(alpha.^(1/ε)).*(y.^(1/ε)).* L .^ (-1/ε))' * L\n",
    "            x0 =  x.zero\n",
    "        end\n",
    "    end\n",
    "\n",
    "end\n",
    "\n"
   ]
  },
  {
   "cell_type": "code",
   "execution_count": null,
   "id": "2ac7a11b-f92f-41fd-a8d8-d43e491087f6",
   "metadata": {},
   "outputs": [],
   "source": []
  }
 ],
 "metadata": {
  "kernelspec": {
   "display_name": "Julia 1.8.0",
   "language": "julia",
   "name": "julia-1.8"
  },
  "language_info": {
   "file_extension": ".jl",
   "mimetype": "application/julia",
   "name": "julia",
   "version": "1.8.0"
  }
 },
 "nbformat": 4,
 "nbformat_minor": 5
}

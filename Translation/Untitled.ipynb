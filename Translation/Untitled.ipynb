{
 "cells": [
  {
   "cell_type": "code",
   "execution_count": 30,
   "id": "8753bdc5-e882-4c61-a8f2-c8c9b79c961f",
   "metadata": {},
   "outputs": [],
   "source": [
    "using MAT, Statistics, LinearAlgebra"
   ]
  },
  {
   "cell_type": "code",
   "execution_count": 26,
   "id": "196a4e30-3fd6-4ea1-8cae-d59d4018151d",
   "metadata": {},
   "outputs": [
    {
     "data": {
      "text/plain": [
       "mvnrnd (generic function with 1 method)"
      ]
     },
     "execution_count": 26,
     "metadata": {},
     "output_type": "execute_result"
    }
   ],
   "source": [
    "include(\"mvrnd.jl\")"
   ]
  },
  {
   "cell_type": "markdown",
   "id": "7edec650-2702-4d81-95f7-7ea02545dd1c",
   "metadata": {},
   "source": [
    "Reads in all the variables optained that are used in line 93 and onwards and are defined before that."
   ]
  },
  {
   "cell_type": "code",
   "execution_count": 3,
   "id": "43cbe81d-fdda-4954-bfe6-f40a0184aadd",
   "metadata": {},
   "outputs": [],
   "source": [
    "function string_as_varname(s::AbstractString,v::Any)\n",
    "         s=Symbol(s)\n",
    "         @eval (($s) = ($v))\n",
    "end\n",
    "\n",
    "file = matopen(\"simulationData.mat\")\n",
    "\n",
    "#Reads in ju[IO, price, Omega, data, labor, mu, aggtfp, alpha, grossy, stfp, beta, agggdp, Sigma, capital, vadd]\n",
    "\n",
    "varnames = names(file)\n",
    "for varname in varnames\n",
    "    val = read(file, varname)\n",
    "    # Instantiate the variable with its name in the current scope\n",
    "    string_as_varname(varname,val)\n",
    "    end\n",
    "\n",
    "close(file)"
   ]
  },
  {
   "cell_type": "markdown",
   "id": "44c46253-aa2e-4460-a812-65e3b49177f2",
   "metadata": {},
   "source": [
    "I think this part is rather quite useless and only provided as an alternative"
   ]
  },
  {
   "cell_type": "code",
   "execution_count": 23,
   "id": "e016ae2b-1224-46a9-9e84-d1e44e3da203",
   "metadata": {},
   "outputs": [],
   "source": [
    "cum_stfp = cumsum(log.(1 .+ stfp)',dims=1);\n",
    "cum_stfp_4year = cum_stfp[:,begin:4:end];\n",
    "covariance_4year = Statistics.cov(cum_stfp_4year,dims=2,corrected=false);"
   ]
  },
  {
   "cell_type": "code",
   "execution_count": 21,
   "id": "3212226c-45b7-45a2-9cf8-3b02da316d82",
   "metadata": {},
   "outputs": [
    {
     "data": {
      "text/plain": [
       "76-element Vector{Float64}:\n",
       " 0.0017000555325368467\n",
       " 0.0029810921891269045\n",
       " 0.003549704321971442\n",
       " 0.0033067221650177905\n",
       " 0.0014217122022011054\n",
       " 0.0028363926719058917\n",
       " 0.0030930104957485995\n",
       " 0.0004278874759369147\n",
       " 0.0010074491948963938\n",
       " 0.0003252687124117542\n",
       " 0.00027893048754872664\n",
       " 0.0006088840644262156\n",
       " 0.00040354074109487294\n",
       " ⋮\n",
       " 0.001320164126219644\n",
       " 0.0017022063743142406\n",
       " 0.00041425536333717543\n",
       " 0.001260545757992724\n",
       " 0.002908140161740766\n",
       " 0.0011291535200205329\n",
       " 0.002306807376354066\n",
       " 0.0008698874866644252\n",
       " 0.0005134934467166106\n",
       " 0.0007840052447101443\n",
       " 0.0014857983945987807\n",
       " 0.0008485937454327172"
      ]
     },
     "execution_count": 21,
     "metadata": {},
     "output_type": "execute_result"
    }
   ],
   "source": [
    "diag(Sigma)"
   ]
  },
  {
   "cell_type": "markdown",
   "id": "63a3ef56-7cc6-4b7c-80cc-c81dcbe1158b",
   "metadata": {},
   "source": [
    "Here comes the randomness"
   ]
  },
  {
   "cell_type": "code",
   "execution_count": 32,
   "id": "e9d051ee-5243-474b-91af-878ef1ccf2e3",
   "metadata": {},
   "outputs": [
    {
     "ename": "LoadError",
     "evalue": "UndefVarError: chol not defined",
     "output_type": "error",
     "traceback": [
      "UndefVarError: chol not defined",
      "",
      "Stacktrace:",
      " [1] mvnrnd(μ::Vector{Float64}, Σ::Matrix{Float64})",
      "   @ Main ~/Schreibtisch/BeyondHulten/Translation/mvrnd.jl:4",
      " [2] top-level scope",
      "   @ In[32]:1"
     ]
    }
   ],
   "source": [
    "A = exp(mvnrnd(-1/2*diag(Sigma),diagm(diag(Sigma))))';"
   ]
  },
  {
   "cell_type": "code",
   "execution_count": 31,
   "id": "2a0cb170-c42f-45db-9211-98f6b3061d3f",
   "metadata": {},
   "outputs": [
    {
     "ename": "LoadError",
     "evalue": "UndefVarError: A not defined",
     "output_type": "error",
     "traceback": [
      "UndefVarError: A not defined",
      "",
      "Stacktrace:",
      " [1] top-level scope",
      "   @ In[31]:1"
     ]
    }
   ],
   "source": []
  },
  {
   "cell_type": "code",
   "execution_count": null,
   "id": "626ddd23-07af-4fcd-ace2-f1fb10399065",
   "metadata": {},
   "outputs": [],
   "source": []
  }
 ],
 "metadata": {
  "kernelspec": {
   "display_name": "Julia 1.8.0",
   "language": "julia",
   "name": "julia-1.8"
  },
  "language_info": {
   "file_extension": ".jl",
   "mimetype": "application/julia",
   "name": "julia",
   "version": "1.8.0"
  }
 },
 "nbformat": 4,
 "nbformat_minor": 5
}

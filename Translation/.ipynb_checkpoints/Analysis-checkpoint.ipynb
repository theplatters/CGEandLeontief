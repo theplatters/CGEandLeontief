{
 "cells": [
  {
   "cell_type": "code",
   "execution_count": 85,
   "id": "8753bdc5-e882-4c61-a8f2-c8c9b79c961f",
   "metadata": {},
   "outputs": [],
   "source": [
    "using MAT, Statistics, LinearAlgebra,Random, Plots"
   ]
  },
  {
   "cell_type": "code",
   "execution_count": 94,
   "id": "196a4e30-3fd6-4ea1-8cae-d59d4018151d",
   "metadata": {},
   "outputs": [
    {
     "data": {
      "text/plain": [
       "mvnrnd (generic function with 1 method)"
      ]
     },
     "execution_count": 94,
     "metadata": {},
     "output_type": "execute_result"
    }
   ],
   "source": [
    "include(\"mvnrnd.jl\")"
   ]
  },
  {
   "cell_type": "markdown",
   "id": "7edec650-2702-4d81-95f7-7ea02545dd1c",
   "metadata": {},
   "source": [
    "Reads in all the variables optained that are used in line 93 and onwards and are defined before that."
   ]
  },
  {
   "cell_type": "code",
   "execution_count": 95,
   "id": "43cbe81d-fdda-4954-bfe6-f40a0184aadd",
   "metadata": {},
   "outputs": [],
   "source": [
    "function string_as_varname(s::AbstractString,v::Any)\n",
    "         s=Symbol(s)\n",
    "         @eval (($s) = ($v))\n",
    "end\n",
    "\n",
    "file = matopen(\"simulationData.mat\")\n",
    "\n",
    "#Reads in ju[IO, price, Omega, data, labor, mu, aggtfp, alpha, grossy, stfp, beta, agggdp, Sigma, capital, vadd]\n",
    "\n",
    "varnames = names(file)\n",
    "for varname in varnames\n",
    "    val = read(file, varname)\n",
    "    # Instantiate the variable with its name in the current scope\n",
    "    string_as_varname(varname,val)\n",
    "    end\n",
    "\n",
    "close(file)"
   ]
  },
  {
   "cell_type": "markdown",
   "id": "02220dec-96c3-45e0-9e7d-0246353d1fa9",
   "metadata": {},
   "source": [
    "We now want to figure out what every variable stands for, and where it comes from.\n",
    "So far we know:\n",
    "- **IO**: Input-Output Matrix\n",
    "- **STFP** Sectoral TFP"
   ]
  },
  {
   "cell_type": "code",
   "execution_count": null,
   "id": "31a89b82-b2ea-44a0-a2f9-fd80453d45db",
   "metadata": {},
   "outputs": [],
   "source": []
  },
  {
   "cell_type": "markdown",
   "id": "6cecbba8-ad27-4340-8352-0879d677bcef",
   "metadata": {},
   "source": [
    "This is not used anywhere in the code."
   ]
  },
  {
   "cell_type": "code",
   "execution_count": 96,
   "id": "e016ae2b-1224-46a9-9e84-d1e44e3da203",
   "metadata": {},
   "outputs": [],
   "source": [
    "cum_stfp = cumsum(log.(1 .+ stfp)',dims=1);\n",
    "cum_stfp_4year = cum_stfp[:,begin:4:end];\n",
    "covariance_4year = Statistics.cov(cum_stfp_4year,dims=2,corrected=false);"
   ]
  },
  {
   "cell_type": "markdown",
   "id": "63a3ef56-7cc6-4b7c-80cc-c81dcbe1158b",
   "metadata": {},
   "source": [
    "Here comes the randomness. As far as i can tell the generated vectors have mean $\\mu = \\text{Var}(\\mathit{stfp})$ and $\\sigma = \\text{Var}(\\mathit{stfp})$ Because $\\sigma$ is a Diagonal Matrix, there is no correlation between each random number, what makes this rather perculiar. Intuition wise I would say, that this implies, that the shocks are independent of one-another."
   ]
  },
  {
   "cell_type": "code",
   "execution_count": 100,
   "id": "e9d051ee-5243-474b-91af-878ef1ccf2e3",
   "metadata": {},
   "outputs": [],
   "source": [
    "A = exp.(mvnrnd(-1/2*diag(Sigma),diagm(diag(Sigma))));"
   ]
  },
  {
   "cell_type": "markdown",
   "id": "c111a61a-7c74-4aae-aaa3-3500d4035560",
   "metadata": {},
   "source": []
  },
  {
   "cell_type": "code",
   "execution_count": null,
   "id": "6136acfa-072b-4d45-b492-67a4f6568c39",
   "metadata": {},
   "outputs": [],
   "source": []
  }
 ],
 "metadata": {
  "kernelspec": {
   "display_name": "Julia 1.8.0",
   "language": "julia",
   "name": "julia-1.8"
  },
  "language_info": {
   "file_extension": ".jl",
   "mimetype": "application/julia",
   "name": "julia",
   "version": "1.8.0"
  }
 },
 "nbformat": 4,
 "nbformat_minor": 5
}

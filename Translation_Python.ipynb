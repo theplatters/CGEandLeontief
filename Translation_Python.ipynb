{
 "cells": [
  {
   "cell_type": "markdown",
   "id": "9167773d-11ed-4c2e-9977-ceba8403f95d",
   "metadata": {},
   "source": [
    "## Data Loading\n",
    "Loads in the big data matrix and the stfp matrix created by matlab"
   ]
  },
  {
   "cell_type": "code",
   "execution_count": 1,
   "id": "95079eac-5c20-40c9-a0b7-9811617984be",
   "metadata": {
    "ExecuteTime": {
     "end_time": "2023-09-01T16:50:41.384122425Z",
     "start_time": "2023-09-01T16:50:41.267275297Z"
    }
   },
   "outputs": [],
   "source": [
    "from scipy.io import loadmat\n",
    "\n",
    "def load_in_data():\n",
    "    file = scipy.io.loadmat(\"data/simulationData.mat\")\n",
    "    data = file[\"data\"]\n",
    "    return data\n",
    "\n",
    "def load_stfp():\n",
    "    file = scipy.io.loadmat(\"data/stfp.mat\")\n",
    "    stfp = file[\"stfp\"]\n",
    "    return stfp\n"
   ]
  },
  {
   "cell_type": "markdown",
   "id": "9a348fd9-22b0-406f-ac47-661e3430a6f5",
   "metadata": {},
   "source": [
    "## Data processing\n",
    "Processes the data just as in the matlab version"
   ]
  },
  {
   "cell_type": "code",
   "execution_count": 2,
   "id": "70676b88-66d6-44c0-b2c0-ca73e6dbdd0a",
   "metadata": {},
   "outputs": [
    {
     "name": "stdout",
     "output_type": "stream",
     "text": [
      "[Errno 2] No such file or directory: 'C:UsersRafaelDocumentsGitHubBeyondHulten'\n",
      "/home/franzs/Schreibtisch/BeyondHulten\n"
     ]
    }
   ],
   "source": [
    "# Set the notebook directory as the working directory\n",
    "%pwd\n",
    "%cd C:\\Users\\Rafael\\Documents\\GitHub\\BeyondHulten"
   ]
  },
  {
   "cell_type": "code",
   "execution_count": 3,
   "id": "b5ea1eb5-cee5-4262-aaf9-af8d118dacbd",
   "metadata": {
    "ExecuteTime": {
     "end_time": "2023-09-01T16:50:47.603772831Z",
     "start_time": "2023-09-01T16:50:47.277452216Z"
    }
   },
   "outputs": [],
   "source": [
    "import numpy as np\n",
    "import pandas as pd\n",
    "import scipy\n",
    "\n",
    "#data is the IO matrix for 88 sectors over 46 years (1960-2005)\n",
    "data2 = load_in_data()\n",
    "ind = pd.MultiIndex.from_arrays(data2[:, (0,1)].T, names=('year','sec'))\n",
    "data = pd.DataFrame(data2[:, 2:93], index=ind)\n",
    "del data2, ind"
   ]
  },
  {
   "cell_type": "code",
   "execution_count": 4,
   "id": "f7b1bdca-9f8c-4e75-85c9-95fb3981948d",
   "metadata": {
    "ExecuteTime": {
     "end_time": "2023-09-01T16:50:48.453892009Z",
     "start_time": "2023-09-01T16:50:48.411473080Z"
    }
   },
   "outputs": [
    {
     "name": "stdout",
     "output_type": "stream",
     "text": [
      "3434.026\n",
      "3433.7749999999996\n",
      "0    88366.023\n",
      "1    25623.402\n",
      "2    31151.107\n",
      "Name: (2005.0, 2.0), dtype: float64\n"
     ]
    }
   ],
   "source": [
    "#Column 0 of datavector contains gross output for each sector\n",
    "print(data.loc[(1960,2),0]*2) #first column times two\n",
    "print(data.loc[(1960,2)].sum()) #summed across all columns (including the sum in column 0 already)\n",
    "#Column 1 and 2 contain labour and capital\n",
    "print(data.loc[(2005,2),0:2])\n",
    "#Columns 3 to 90 contain the 88 sectors\n",
    "#Colum 91 contains noncompetitive imports\n"
   ]
  },
  {
   "cell_type": "code",
   "execution_count": 5,
   "id": "7670f8e1-a673-4a1f-b2ac-90f597e4f636",
   "metadata": {
    "ExecuteTime": {
     "end_time": "2023-09-01T17:10:48.365107946Z",
     "start_time": "2023-09-01T17:10:48.350196467Z"
    }
   },
   "outputs": [],
   "source": [
    "#delete 10 sectors\n",
    "removable_sectors = [59] + list(range(79, 88))\n",
    "data2 = data.drop(index=removable_sectors, level=1)\n",
    "\n",
    "#key aggregates\n",
    "grossy = data2.loc[:,0].unstack().T\n",
    "capital = data2.loc[:,1].unstack().T\n",
    "labor = data2.loc[:,2].unstack().T\n",
    "vadd = labor + capital\n",
    "\n",
    "#remaining sector list\n",
    "sec = list(range(1,89))\n",
    "for i in removable_sectors:\n",
    "    sec.remove(i)\n",
    "len(sec)\n",
    "\n",
    "#delete sectors which don't produce anything\n",
    "grossy.loc[(grossy==0).all(axis=1)] #sectors 8 and 62\n",
    "zeroprod = list(grossy.loc[(grossy==0).all(axis=1)].index.values)\n",
    "\n",
    "grossy = grossy.drop(index=zeroprod)\n",
    "capital = capital.drop(index=zeroprod)\n",
    "labor = labor.drop(index=zeroprod)\n",
    "vadd = vadd.drop(index=zeroprod)\n",
    "\n",
    "stfp = load_stfp()\n",
    "Σ = np.cov(stfp, rowvar=True)\n",
    "μ = np.mean(stfp, axis=1)"
   ]
  },
  {
   "cell_type": "markdown",
   "id": "55d7cee0-eb24-4438-a843-37c8492c7124",
   "metadata": {},
   "source": [
    "## Creating usable variables\n",
    "Function that creates the metrics for a given year"
   ]
  },
  {
   "cell_type": "code",
   "execution_count": 12,
   "id": "38d8979c-eb0c-4fd9-91c5-fef9436fec25",
   "metadata": {
    "ExecuteTime": {
     "end_time": "2023-09-01T17:10:49.545070898Z",
     "start_time": "2023-09-01T17:10:49.538952587Z"
    }
   },
   "outputs": [],
   "source": [
    "def get_variables(year):\n",
    "    IO = data.loc[year,:]\n",
    "    \n",
    "    sectors_to_remove = list(map(int, grossy[year].index))\n",
    "    temp = list(map(lambda x: x - 1 ,sectors_to_remove))\n",
    "    IO = IO.loc[sectors_to_remove,temp]\n",
    "\n",
    "    Ω = IO.div(IO.sum(axis = 1),axis = 0).to_numpy()\n",
    "    \n",
    "    α = vadd[year]/grossy[year]\n",
    "    β = (np.eye(len(grossy)) - np.diag(1 - α) @ Ω).T @ grossy[year]\n",
    "    β[β < 0] = 0\n",
    "    β = β / np.sum(β)\n",
    "    λ = np.linalg.inv( np.eye(len(grossy)) - np.diag(1 - α) @ Ω).T @ β\n",
    "    L = λ * α\n",
    "\n",
    "    return α, β, Ω, L, λ"
   ]
  },
  {
   "cell_type": "markdown",
   "id": "179d103c-a720-4bff-9b37-1ffd42f2d349",
   "metadata": {},
   "source": [
    "## Elasticities"
   ]
  },
  {
   "cell_type": "code",
   "execution_count": 13,
   "id": "7c6e12c3-258f-4013-ae6c-77cee418b3ce",
   "metadata": {
    "ExecuteTime": {
     "end_time": "2023-09-01T17:10:00.411462100Z",
     "start_time": "2023-09-01T17:10:00.408227263Z"
    }
   },
   "outputs": [],
   "source": [
    "ε = .5;\n",
    "θ = 0.001;\n",
    "σ = .9;"
   ]
  },
  {
   "cell_type": "markdown",
   "id": "94e008f0-2fd9-4047-a905-4c7b421df2ea",
   "metadata": {},
   "source": [
    "# Construction Site Below HERE"
   ]
  },
  {
   "cell_type": "markdown",
   "id": "362759e2-3dc3-4226-8bee-e9bdb79bd7d0",
   "metadata": {},
   "source": [
    "## Objective Function\n",
    "\n",
    "Here the objective function in `SimulationDerivs.m` is formulated, also the Jacobian is given, to helpt the solver."
   ]
  },
  {
   "cell_type": "code",
   "execution_count": 59,
   "id": "ef4b0373-f727-4d45-a9a7-6fc3f0a1c954",
   "metadata": {
    "ExecuteTime": {
     "end_time": "2023-09-01T17:10:02.381114229Z",
     "start_time": "2023-09-01T17:10:02.379585681Z"
    }
   },
   "outputs": [],
   "source": [
    "def problem(X, A, β, Ω, α, ε, θ, σ, L):\n",
    "    N = len(α)\n",
    "    p = X[:N]\n",
    "    y = X[N:]\n",
    "\n",
    "    Out = np.zeros(2 * N, dtype=X.dtype)\n",
    "\n",
    "    q = (Ω @ (np.abs(p) ** (1 - θ))) ** (1 / (1 - θ))\n",
    "    w = p * (A ** ((ε - 1) / ε)) * (α ** (1 / ε)) * (np.abs(y) ** (1 / ε)) * L ** (-1 / ε)\n",
    "    C = np.dot(w, L)\n",
    "\n",
    "    Out[:N] = p - (A ** (ε - 1) * (α * np.abs(w) ** (1 - ε) + (1 - α) * np.abs(q) ** (1 - ε))) ** (1 / (1 - ε))\n",
    "    Out[N:] = y - (y * np.abs(p) ** ε * A ** (ε - 1) * np.abs(q) ** (θ - ε) * (1 - α)) @ Ω @ (np.abs(p) ** - θ) - C * np.dot(β,np.abs(p)**-θ)  \n",
    "    return Out\n"
   ]
  },
  {
   "cell_type": "markdown",
   "id": "c29e2d8c-5656-4034-a4db-3b091fab4877",
   "metadata": {},
   "source": [
    "## Generating Random Shocks"
   ]
  },
  {
   "cell_type": "code",
   "execution_count": 60,
   "id": "45028840-a97b-452d-92ff-5bd423b4b672",
   "metadata": {
    "ExecuteTime": {
     "end_time": "2023-09-01T17:10:03.399711260Z",
     "start_time": "2023-09-01T17:10:03.379845570Z"
    }
   },
   "outputs": [],
   "source": [
    "from scipy.stats import multivariate_normal\n",
    "\n",
    "def generate_random_shock(Σ, α, Ω, λ):\n",
    "    n = len(Σ)\n",
    "    cov_matrix = np.diag(np.diag(Σ))\n",
    "    A = np.exp(multivariate_normal.rvs(mean=-0.5 * np.diag(Σ), cov=cov_matrix))\n",
    "    \n",
    "    inv_term = np.linalg.inv(np.eye(n) - np.diag(1 - α) @ Ω)\n",
    "    log_A = np.log(A)\n",
    "    init = np.concatenate((np.exp(-inv_term @ log_A), λ / np.exp(-inv_term @ log_A)))\n",
    "    \n",
    "    return A, init\n"
   ]
  },
  {
   "cell_type": "markdown",
   "id": "d3d4d553-f149-4cb1-91a2-4396307ebdbb",
   "metadata": {},
   "source": [
    "## Solving for shocks"
   ]
  },
  {
   "cell_type": "code",
   "execution_count": 67,
   "id": "0426cafc-5fb6-46d2-8b7f-f352df3c8b6f",
   "metadata": {
    "ExecuteTime": {
     "end_time": "2023-09-01T17:10:06.081771955Z",
     "start_time": "2023-09-01T17:10:06.075685981Z"
    }
   },
   "outputs": [
    {
     "name": "stderr",
     "output_type": "stream",
     "text": [
      "/tmp/ipykernel_25048/1849652461.py:13: RuntimeWarning: divide by zero encountered in power\n",
      "  Out[N:] = y - (y * np.abs(p) ** ε * A ** (ε - 1) * np.abs(q) ** (θ - ε) * (1 - α)) @ Ω @ (np.abs(p) ** - θ) - C * np.dot(β,np.abs(p)**-θ)\n",
      "/tmp/ipykernel_25048/1849652461.py:13: RuntimeWarning: invalid value encountered in matmul\n",
      "  Out[N:] = y - (y * np.abs(p) ** ε * A ** (ε - 1) * np.abs(q) ** (θ - ε) * (1 - α)) @ Ω @ (np.abs(p) ** - θ) - C * np.dot(β,np.abs(p)**-θ)\n",
      "/tmp/ipykernel_25048/1849652461.py:13: RuntimeWarning: invalid value encountered in scalar multiply\n",
      "  Out[N:] = y - (y * np.abs(p) ** ε * A ** (ε - 1) * np.abs(q) ** (θ - ε) * (1 - α)) @ Ω @ (np.abs(p) ** - θ) - C * np.dot(β,np.abs(p)**-θ)\n"
     ]
    },
    {
     "data": {
      "text/plain": [
       " message: The iteration is not making good progress, as measured by the \n",
       "            improvement from the last ten iterations.\n",
       " success: False\n",
       "  status: 5\n",
       "     fun: [ 3.934e-308  9.114e-309 ... -1.739e-321 -3.917e-320]\n",
       "       x: [ 5.913e-308  1.439e-308 ... -1.739e-321 -3.917e-320]\n",
       "    nfev: 1342\n",
       "    fjac: [[-5.297e-01  4.066e-02 ...  0.000e+00  0.000e+00]\n",
       "           [ 7.976e-02 -9.880e-01 ...  0.000e+00  0.000e+00]\n",
       "           ...\n",
       "           [ 0.000e+00  0.000e+00 ...  9.909e-01 -7.112e-03]\n",
       "           [ 0.000e+00  0.000e+00 ...  1.108e-02 -9.909e-01]]\n",
       "       r: [       nan        nan ...        nan        nan]\n",
       "     qtf: [ 1.729e-307  1.427e-308 ...  1.153e-320  2.587e-320]"
      ]
     },
     "execution_count": 67,
     "metadata": {},
     "output_type": "execute_result"
    }
   ],
   "source": [
    "trials = 100\n",
    "GDP = np.zeros(trials)\n",
    "λ_sim = np.zeros((76, trials))\n",
    "α, β, Ω, L, λ = get_variables(1973)\n",
    "\n",
    "A = np.ones(76)\n",
    "p = np.ones(76)\n",
    "y = λ\n",
    "init = np.concatenate((p,y))\n",
    "\n",
    "sol = root(lambda x0 : problem(x0, A, β, Ω, α, ε, θ, σ, L), init, method='hybr')\n",
    "sol"
   ]
  },
  {
   "cell_type": "code",
   "execution_count": 62,
   "id": "39834cba-8093-450c-8699-7c77cbe4dcaa",
   "metadata": {
    "ExecuteTime": {
     "end_time": "2023-09-01T17:21:28.392811927Z",
     "start_time": "2023-09-01T17:21:28.156338663Z"
    }
   },
   "outputs": [
    {
     "name": "stderr",
     "output_type": "stream",
     "text": [
      "/tmp/ipykernel_25048/1849652461.py:13: RuntimeWarning: divide by zero encountered in power\n",
      "  Out[N:] = y - (y * np.abs(p) ** ε * A ** (ε - 1) * np.abs(q) ** (θ - ε) * (1 - α)) @ Ω @ (np.abs(p) ** - θ) - C * np.dot(β,np.abs(p)**-θ)\n",
      "/tmp/ipykernel_25048/1849652461.py:13: RuntimeWarning: invalid value encountered in matmul\n",
      "  Out[N:] = y - (y * np.abs(p) ** ε * A ** (ε - 1) * np.abs(q) ** (θ - ε) * (1 - α)) @ Ω @ (np.abs(p) ** - θ) - C * np.dot(β,np.abs(p)**-θ)\n",
      "/tmp/ipykernel_25048/1849652461.py:13: RuntimeWarning: invalid value encountered in scalar multiply\n",
      "  Out[N:] = y - (y * np.abs(p) ** ε * A ** (ε - 1) * np.abs(q) ** (θ - ε) * (1 - α)) @ Ω @ (np.abs(p) ** - θ) - C * np.dot(β,np.abs(p)**-θ)\n",
      "/tmp/ipykernel_25048/1849652461.py:13: RuntimeWarning: divide by zero encountered in power\n",
      "  Out[N:] = y - (y * np.abs(p) ** ε * A ** (ε - 1) * np.abs(q) ** (θ - ε) * (1 - α)) @ Ω @ (np.abs(p) ** - θ) - C * np.dot(β,np.abs(p)**-θ)\n",
      "/tmp/ipykernel_25048/1849652461.py:13: RuntimeWarning: invalid value encountered in matmul\n",
      "  Out[N:] = y - (y * np.abs(p) ** ε * A ** (ε - 1) * np.abs(q) ** (θ - ε) * (1 - α)) @ Ω @ (np.abs(p) ** - θ) - C * np.dot(β,np.abs(p)**-θ)\n",
      "/tmp/ipykernel_25048/1849652461.py:13: RuntimeWarning: divide by zero encountered in power\n",
      "  Out[N:] = y - (y * np.abs(p) ** ε * A ** (ε - 1) * np.abs(q) ** (θ - ε) * (1 - α)) @ Ω @ (np.abs(p) ** - θ) - C * np.dot(β,np.abs(p)**-θ)\n",
      "/tmp/ipykernel_25048/1849652461.py:13: RuntimeWarning: invalid value encountered in scalar multiply\n",
      "  Out[N:] = y - (y * np.abs(p) ** ε * A ** (ε - 1) * np.abs(q) ** (θ - ε) * (1 - α)) @ Ω @ (np.abs(p) ** - θ) - C * np.dot(β,np.abs(p)**-θ)\n",
      "/tmp/ipykernel_25048/1849652461.py:13: RuntimeWarning: invalid value encountered in matmul\n",
      "  Out[N:] = y - (y * np.abs(p) ** ε * A ** (ε - 1) * np.abs(q) ** (θ - ε) * (1 - α)) @ Ω @ (np.abs(p) ** - θ) - C * np.dot(β,np.abs(p)**-θ)\n",
      "/tmp/ipykernel_25048/1849652461.py:13: RuntimeWarning: invalid value encountered in scalar multiply\n",
      "  Out[N:] = y - (y * np.abs(p) ** ε * A ** (ε - 1) * np.abs(q) ** (θ - ε) * (1 - α)) @ Ω @ (np.abs(p) ** - θ) - C * np.dot(β,np.abs(p)**-θ)\n",
      "/tmp/ipykernel_25048/1849652461.py:13: RuntimeWarning: divide by zero encountered in power\n",
      "  Out[N:] = y - (y * np.abs(p) ** ε * A ** (ε - 1) * np.abs(q) ** (θ - ε) * (1 - α)) @ Ω @ (np.abs(p) ** - θ) - C * np.dot(β,np.abs(p)**-θ)\n",
      "/tmp/ipykernel_25048/1849652461.py:13: RuntimeWarning: divide by zero encountered in power\n",
      "  Out[N:] = y - (y * np.abs(p) ** ε * A ** (ε - 1) * np.abs(q) ** (θ - ε) * (1 - α)) @ Ω @ (np.abs(p) ** - θ) - C * np.dot(β,np.abs(p)**-θ)\n",
      "/tmp/ipykernel_25048/1849652461.py:13: RuntimeWarning: divide by zero encountered in power\n",
      "  Out[N:] = y - (y * np.abs(p) ** ε * A ** (ε - 1) * np.abs(q) ** (θ - ε) * (1 - α)) @ Ω @ (np.abs(p) ** - θ) - C * np.dot(β,np.abs(p)**-θ)\n",
      "/tmp/ipykernel_25048/1849652461.py:13: RuntimeWarning: invalid value encountered in matmul\n",
      "  Out[N:] = y - (y * np.abs(p) ** ε * A ** (ε - 1) * np.abs(q) ** (θ - ε) * (1 - α)) @ Ω @ (np.abs(p) ** - θ) - C * np.dot(β,np.abs(p)**-θ)\n",
      "/tmp/ipykernel_25048/1849652461.py:13: RuntimeWarning: invalid value encountered in scalar multiply\n",
      "  Out[N:] = y - (y * np.abs(p) ** ε * A ** (ε - 1) * np.abs(q) ** (θ - ε) * (1 - α)) @ Ω @ (np.abs(p) ** - θ) - C * np.dot(β,np.abs(p)**-θ)\n",
      "/tmp/ipykernel_25048/1849652461.py:13: RuntimeWarning: invalid value encountered in matmul\n",
      "  Out[N:] = y - (y * np.abs(p) ** ε * A ** (ε - 1) * np.abs(q) ** (θ - ε) * (1 - α)) @ Ω @ (np.abs(p) ** - θ) - C * np.dot(β,np.abs(p)**-θ)\n",
      "/tmp/ipykernel_25048/1849652461.py:13: RuntimeWarning: invalid value encountered in matmul\n",
      "  Out[N:] = y - (y * np.abs(p) ** ε * A ** (ε - 1) * np.abs(q) ** (θ - ε) * (1 - α)) @ Ω @ (np.abs(p) ** - θ) - C * np.dot(β,np.abs(p)**-θ)\n",
      "/tmp/ipykernel_25048/1849652461.py:13: RuntimeWarning: invalid value encountered in scalar multiply\n",
      "  Out[N:] = y - (y * np.abs(p) ** ε * A ** (ε - 1) * np.abs(q) ** (θ - ε) * (1 - α)) @ Ω @ (np.abs(p) ** - θ) - C * np.dot(β,np.abs(p)**-θ)\n",
      "/tmp/ipykernel_25048/1849652461.py:13: RuntimeWarning: invalid value encountered in scalar multiply\n",
      "  Out[N:] = y - (y * np.abs(p) ** ε * A ** (ε - 1) * np.abs(q) ** (θ - ε) * (1 - α)) @ Ω @ (np.abs(p) ** - θ) - C * np.dot(β,np.abs(p)**-θ)\n",
      "/tmp/ipykernel_25048/1849652461.py:13: RuntimeWarning: divide by zero encountered in power\n",
      "  Out[N:] = y - (y * np.abs(p) ** ε * A ** (ε - 1) * np.abs(q) ** (θ - ε) * (1 - α)) @ Ω @ (np.abs(p) ** - θ) - C * np.dot(β,np.abs(p)**-θ)\n",
      "/tmp/ipykernel_25048/1849652461.py:13: RuntimeWarning: divide by zero encountered in power\n",
      "  Out[N:] = y - (y * np.abs(p) ** ε * A ** (ε - 1) * np.abs(q) ** (θ - ε) * (1 - α)) @ Ω @ (np.abs(p) ** - θ) - C * np.dot(β,np.abs(p)**-θ)\n",
      "/tmp/ipykernel_25048/1849652461.py:13: RuntimeWarning: invalid value encountered in matmul\n",
      "  Out[N:] = y - (y * np.abs(p) ** ε * A ** (ε - 1) * np.abs(q) ** (θ - ε) * (1 - α)) @ Ω @ (np.abs(p) ** - θ) - C * np.dot(β,np.abs(p)**-θ)\n",
      "/tmp/ipykernel_25048/1849652461.py:13: RuntimeWarning: invalid value encountered in scalar multiply\n",
      "  Out[N:] = y - (y * np.abs(p) ** ε * A ** (ε - 1) * np.abs(q) ** (θ - ε) * (1 - α)) @ Ω @ (np.abs(p) ** - θ) - C * np.dot(β,np.abs(p)**-θ)\n",
      "/tmp/ipykernel_25048/1849652461.py:13: RuntimeWarning: invalid value encountered in matmul\n",
      "  Out[N:] = y - (y * np.abs(p) ** ε * A ** (ε - 1) * np.abs(q) ** (θ - ε) * (1 - α)) @ Ω @ (np.abs(p) ** - θ) - C * np.dot(β,np.abs(p)**-θ)\n",
      "/tmp/ipykernel_25048/1849652461.py:13: RuntimeWarning: invalid value encountered in scalar multiply\n",
      "  Out[N:] = y - (y * np.abs(p) ** ε * A ** (ε - 1) * np.abs(q) ** (θ - ε) * (1 - α)) @ Ω @ (np.abs(p) ** - θ) - C * np.dot(β,np.abs(p)**-θ)\n",
      "/tmp/ipykernel_25048/1849652461.py:13: RuntimeWarning: divide by zero encountered in power\n",
      "  Out[N:] = y - (y * np.abs(p) ** ε * A ** (ε - 1) * np.abs(q) ** (θ - ε) * (1 - α)) @ Ω @ (np.abs(p) ** - θ) - C * np.dot(β,np.abs(p)**-θ)\n",
      "/tmp/ipykernel_25048/1849652461.py:13: RuntimeWarning: divide by zero encountered in power\n",
      "  Out[N:] = y - (y * np.abs(p) ** ε * A ** (ε - 1) * np.abs(q) ** (θ - ε) * (1 - α)) @ Ω @ (np.abs(p) ** - θ) - C * np.dot(β,np.abs(p)**-θ)\n",
      "/tmp/ipykernel_25048/1849652461.py:13: RuntimeWarning: invalid value encountered in matmul\n",
      "  Out[N:] = y - (y * np.abs(p) ** ε * A ** (ε - 1) * np.abs(q) ** (θ - ε) * (1 - α)) @ Ω @ (np.abs(p) ** - θ) - C * np.dot(β,np.abs(p)**-θ)\n",
      "/tmp/ipykernel_25048/1849652461.py:13: RuntimeWarning: invalid value encountered in scalar multiply\n",
      "  Out[N:] = y - (y * np.abs(p) ** ε * A ** (ε - 1) * np.abs(q) ** (θ - ε) * (1 - α)) @ Ω @ (np.abs(p) ** - θ) - C * np.dot(β,np.abs(p)**-θ)\n",
      "/tmp/ipykernel_25048/1849652461.py:13: RuntimeWarning: divide by zero encountered in power\n",
      "  Out[N:] = y - (y * np.abs(p) ** ε * A ** (ε - 1) * np.abs(q) ** (θ - ε) * (1 - α)) @ Ω @ (np.abs(p) ** - θ) - C * np.dot(β,np.abs(p)**-θ)\n",
      "/tmp/ipykernel_25048/1849652461.py:13: RuntimeWarning: divide by zero encountered in power\n",
      "  Out[N:] = y - (y * np.abs(p) ** ε * A ** (ε - 1) * np.abs(q) ** (θ - ε) * (1 - α)) @ Ω @ (np.abs(p) ** - θ) - C * np.dot(β,np.abs(p)**-θ)\n",
      "/tmp/ipykernel_25048/1849652461.py:13: RuntimeWarning: divide by zero encountered in power\n",
      "  Out[N:] = y - (y * np.abs(p) ** ε * A ** (ε - 1) * np.abs(q) ** (θ - ε) * (1 - α)) @ Ω @ (np.abs(p) ** - θ) - C * np.dot(β,np.abs(p)**-θ)\n",
      "/tmp/ipykernel_25048/1849652461.py:13: RuntimeWarning: invalid value encountered in matmul\n",
      "  Out[N:] = y - (y * np.abs(p) ** ε * A ** (ε - 1) * np.abs(q) ** (θ - ε) * (1 - α)) @ Ω @ (np.abs(p) ** - θ) - C * np.dot(β,np.abs(p)**-θ)\n",
      "/tmp/ipykernel_25048/1849652461.py:13: RuntimeWarning: invalid value encountered in matmul\n",
      "  Out[N:] = y - (y * np.abs(p) ** ε * A ** (ε - 1) * np.abs(q) ** (θ - ε) * (1 - α)) @ Ω @ (np.abs(p) ** - θ) - C * np.dot(β,np.abs(p)**-θ)\n",
      "/tmp/ipykernel_25048/1849652461.py:13: RuntimeWarning: invalid value encountered in matmul\n",
      "  Out[N:] = y - (y * np.abs(p) ** ε * A ** (ε - 1) * np.abs(q) ** (θ - ε) * (1 - α)) @ Ω @ (np.abs(p) ** - θ) - C * np.dot(β,np.abs(p)**-θ)\n",
      "/tmp/ipykernel_25048/1849652461.py:13: RuntimeWarning: invalid value encountered in scalar multiply\n",
      "  Out[N:] = y - (y * np.abs(p) ** ε * A ** (ε - 1) * np.abs(q) ** (θ - ε) * (1 - α)) @ Ω @ (np.abs(p) ** - θ) - C * np.dot(β,np.abs(p)**-θ)\n",
      "/tmp/ipykernel_25048/1849652461.py:13: RuntimeWarning: invalid value encountered in scalar multiply\n",
      "  Out[N:] = y - (y * np.abs(p) ** ε * A ** (ε - 1) * np.abs(q) ** (θ - ε) * (1 - α)) @ Ω @ (np.abs(p) ** - θ) - C * np.dot(β,np.abs(p)**-θ)\n",
      "/tmp/ipykernel_25048/1849652461.py:13: RuntimeWarning: invalid value encountered in matmul\n",
      "  Out[N:] = y - (y * np.abs(p) ** ε * A ** (ε - 1) * np.abs(q) ** (θ - ε) * (1 - α)) @ Ω @ (np.abs(p) ** - θ) - C * np.dot(β,np.abs(p)**-θ)\n",
      "/tmp/ipykernel_25048/1849652461.py:13: RuntimeWarning: invalid value encountered in scalar multiply\n",
      "  Out[N:] = y - (y * np.abs(p) ** ε * A ** (ε - 1) * np.abs(q) ** (θ - ε) * (1 - α)) @ Ω @ (np.abs(p) ** - θ) - C * np.dot(β,np.abs(p)**-θ)\n",
      "/tmp/ipykernel_25048/1849652461.py:13: RuntimeWarning: invalid value encountered in scalar multiply\n",
      "  Out[N:] = y - (y * np.abs(p) ** ε * A ** (ε - 1) * np.abs(q) ** (θ - ε) * (1 - α)) @ Ω @ (np.abs(p) ** - θ) - C * np.dot(β,np.abs(p)**-θ)\n",
      "/tmp/ipykernel_25048/1849652461.py:13: RuntimeWarning: divide by zero encountered in power\n",
      "  Out[N:] = y - (y * np.abs(p) ** ε * A ** (ε - 1) * np.abs(q) ** (θ - ε) * (1 - α)) @ Ω @ (np.abs(p) ** - θ) - C * np.dot(β,np.abs(p)**-θ)\n",
      "/tmp/ipykernel_25048/1849652461.py:13: RuntimeWarning: invalid value encountered in matmul\n",
      "  Out[N:] = y - (y * np.abs(p) ** ε * A ** (ε - 1) * np.abs(q) ** (θ - ε) * (1 - α)) @ Ω @ (np.abs(p) ** - θ) - C * np.dot(β,np.abs(p)**-θ)\n",
      "/tmp/ipykernel_25048/1849652461.py:13: RuntimeWarning: invalid value encountered in scalar multiply\n",
      "  Out[N:] = y - (y * np.abs(p) ** ε * A ** (ε - 1) * np.abs(q) ** (θ - ε) * (1 - α)) @ Ω @ (np.abs(p) ** - θ) - C * np.dot(β,np.abs(p)**-θ)\n",
      "/tmp/ipykernel_25048/1849652461.py:13: RuntimeWarning: divide by zero encountered in power\n",
      "  Out[N:] = y - (y * np.abs(p) ** ε * A ** (ε - 1) * np.abs(q) ** (θ - ε) * (1 - α)) @ Ω @ (np.abs(p) ** - θ) - C * np.dot(β,np.abs(p)**-θ)\n",
      "/tmp/ipykernel_25048/1849652461.py:13: RuntimeWarning: invalid value encountered in matmul\n",
      "  Out[N:] = y - (y * np.abs(p) ** ε * A ** (ε - 1) * np.abs(q) ** (θ - ε) * (1 - α)) @ Ω @ (np.abs(p) ** - θ) - C * np.dot(β,np.abs(p)**-θ)\n",
      "/tmp/ipykernel_25048/1849652461.py:13: RuntimeWarning: invalid value encountered in scalar multiply\n",
      "  Out[N:] = y - (y * np.abs(p) ** ε * A ** (ε - 1) * np.abs(q) ** (θ - ε) * (1 - α)) @ Ω @ (np.abs(p) ** - θ) - C * np.dot(β,np.abs(p)**-θ)\n",
      "/tmp/ipykernel_25048/1849652461.py:13: RuntimeWarning: divide by zero encountered in power\n",
      "  Out[N:] = y - (y * np.abs(p) ** ε * A ** (ε - 1) * np.abs(q) ** (θ - ε) * (1 - α)) @ Ω @ (np.abs(p) ** - θ) - C * np.dot(β,np.abs(p)**-θ)\n",
      "/tmp/ipykernel_25048/1849652461.py:13: RuntimeWarning: invalid value encountered in matmul\n",
      "  Out[N:] = y - (y * np.abs(p) ** ε * A ** (ε - 1) * np.abs(q) ** (θ - ε) * (1 - α)) @ Ω @ (np.abs(p) ** - θ) - C * np.dot(β,np.abs(p)**-θ)\n",
      "/tmp/ipykernel_25048/1849652461.py:13: RuntimeWarning: invalid value encountered in scalar multiply\n",
      "  Out[N:] = y - (y * np.abs(p) ** ε * A ** (ε - 1) * np.abs(q) ** (θ - ε) * (1 - α)) @ Ω @ (np.abs(p) ** - θ) - C * np.dot(β,np.abs(p)**-θ)\n",
      "/tmp/ipykernel_25048/2975627199.py:17: RuntimeWarning: invalid value encountered in divide\n",
      "  λ_sim[:, k] = (p * q) / gdp\n",
      "/tmp/ipykernel_25048/2975627199.py:17: RuntimeWarning: invalid value encountered in divide\n",
      "  λ_sim[:, k] = (p * q) / gdp\n",
      "/tmp/ipykernel_25048/2975627199.py:17: RuntimeWarning: invalid value encountered in divide\n",
      "  λ_sim[:, k] = (p * q) / gdp\n",
      "/tmp/ipykernel_25048/2975627199.py:17: RuntimeWarning: invalid value encountered in divide\n",
      "  λ_sim[:, k] = (p * q) / gdp\n",
      "/tmp/ipykernel_25048/2975627199.py:17: RuntimeWarning: invalid value encountered in divide\n",
      "  λ_sim[:, k] = (p * q) / gdp\n",
      "/tmp/ipykernel_25048/2975627199.py:17: RuntimeWarning: invalid value encountered in divide\n",
      "  λ_sim[:, k] = (p * q) / gdp\n",
      "/tmp/ipykernel_25048/2975627199.py:17: RuntimeWarning: invalid value encountered in divide\n",
      "  λ_sim[:, k] = (p * q) / gdp\n",
      "/tmp/ipykernel_25048/2975627199.py:17: RuntimeWarning: invalid value encountered in divide\n",
      "  λ_sim[:, k] = (p * q) / gdp\n",
      "/tmp/ipykernel_25048/2975627199.py:17: RuntimeWarning: invalid value encountered in divide\n",
      "  λ_sim[:, k] = (p * q) / gdp\n",
      "/tmp/ipykernel_25048/2975627199.py:17: RuntimeWarning: invalid value encountered in divide\n",
      "  λ_sim[:, k] = (p * q) / gdp\n",
      "/tmp/ipykernel_25048/2975627199.py:17: RuntimeWarning: invalid value encountered in divide\n",
      "  λ_sim[:, k] = (p * q) / gdp\n",
      "/tmp/ipykernel_25048/2975627199.py:17: RuntimeWarning: invalid value encountered in divide\n",
      "  λ_sim[:, k] = (p * q) / gdp\n",
      "/tmp/ipykernel_25048/2975627199.py:17: RuntimeWarning: invalid value encountered in divide\n",
      "  λ_sim[:, k] = (p * q) / gdp\n",
      "/tmp/ipykernel_25048/2975627199.py:17: RuntimeWarning: invalid value encountered in divide\n",
      "  λ_sim[:, k] = (p * q) / gdp\n",
      "/tmp/ipykernel_25048/2975627199.py:17: RuntimeWarning: invalid value encountered in divide\n",
      "  λ_sim[:, k] = (p * q) / gdp\n",
      "/tmp/ipykernel_25048/2975627199.py:17: RuntimeWarning: invalid value encountered in divide\n",
      "  λ_sim[:, k] = (p * q) / gdp\n"
     ]
    }
   ],
   "source": [
    "#This is from ChatGPT\n",
    "\n",
    "import multiprocessing as mp\n",
    "from scipy.optimize import root\n",
    "\n",
    "# Parallel worker function\n",
    "def parallel_worker(k):\n",
    "    A, init = generate_random_shock(Σ, α, Ω, λ)\n",
    "    p = [A, β, Ω, α, ε, θ, σ, L]\n",
    "\n",
    "    sol = root(lambda x0 : problem(x0, A, β, Ω, α, ε, θ, σ, L), init, method='hybr')\n",
    "\n",
    "    x = np.real(sol.x)\n",
    "    p = x[:76]\n",
    "    q = x[76:]\n",
    "    gdp = np.dot(p * (A ** ((ε - 1) / ε)) * (α ** (1 / ε)) * (q ** (1 / ε)) * (L ** (-1 / ε)), L)\n",
    "    λ_sim[:, k] = (p * q) / gdp\n",
    "    return gdp\n",
    "\n",
    "# Parameters\n",
    "trials = 100\n",
    "GDP = np.zeros(trials)\n",
    "λ_sim = np.zeros((76, trials))\n",
    "\n",
    "factor_share, consumption_share, io_matrix, labor_share, domar_weights = get_variables(1973)\n",
    "# Parallel execution\n",
    "num_processes = mp.cpu_count()\n",
    "with mp.Pool(processes=num_processes) as pool:\n",
    "    results = pool.map(parallel_worker, range(trials))\n",
    "    GDP = np.array(results)\n",
    "\n",
    "# Now you have both GDP and λ_sim populated after the parallel execution"
   ]
  },
  {
   "cell_type": "code",
   "execution_count": null,
   "id": "581499a4-14b6-457c-a5fb-7f794cde56b2",
   "metadata": {},
   "outputs": [],
   "source": []
  }
 ],
 "metadata": {
  "kernelspec": {
   "display_name": "Python 3 (ipykernel)",
   "language": "python",
   "name": "python3"
  },
  "language_info": {
   "codemirror_mode": {
    "name": "ipython",
    "version": 3
   },
   "file_extension": ".py",
   "mimetype": "text/x-python",
   "name": "python",
   "nbconvert_exporter": "python",
   "pygments_lexer": "ipython3",
   "version": "3.11.5"
  }
 },
 "nbformat": 4,
 "nbformat_minor": 5
}

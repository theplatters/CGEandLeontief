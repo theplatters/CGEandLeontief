{
 "cells": [
  {
   "cell_type": "code",
   "execution_count": 40,
   "id": "80563cd6-b3d0-48cd-8e33-da93a826f1a2",
   "metadata": {},
   "outputs": [
    {
     "data": {
      "text/plain": [
       "mvnrnd (generic function with 1 method)"
      ]
     },
     "execution_count": 40,
     "metadata": {},
     "output_type": "execute_result"
    }
   ],
   "source": [
    "using MAT, Statistics, LinearAlgebra,Random, Plots, NonlinearSolve\n",
    "using StaticArrays, ForwardDiff, Distributed, SharedArrays, SciMLNLSolve, SimpleNonlinearSolve\n",
    "include(\"mvnrnd.jl\")"
   ]
  },
  {
   "cell_type": "code",
   "execution_count": 2,
   "id": "6f39525d-5736-43dd-a5bd-4e5855cb3ec3",
   "metadata": {},
   "outputs": [],
   "source": [
    "function string_as_varname(s::AbstractString,v::Any)\n",
    "    s=Symbol(s)\n",
    "    if size(v,2) == 1 # check if v is a column vector\n",
    "        @eval (($s) = (vec($v)))\n",
    "    else\n",
    "        @eval (($s) = ($v))\n",
    "    end\n",
    "end\n",
    "\n",
    "file = matopen(\"simulationData.mat\")\n",
    "\n",
    "#Reads in ju[IO, price, Omega, data, labor, mu, aggtfp, alpha, grossy, stfp, beta, agggdp, Sigma, capital, vadd]\n",
    "\n",
    "varnames = names(file)\n",
    "for varname in varnames\n",
    "    val = read(file, varname)\n",
    "    # Instantiate the variable with its name in the current scope\n",
    "    string_as_varname(varname,val)\n",
    "    end\n",
    "\n",
    "close(file)\n",
    "\n"
   ]
  },
  {
   "cell_type": "code",
   "execution_count": 3,
   "id": "92a41374-e6c9-4087-bef6-8d0a25cf1df1",
   "metadata": {},
   "outputs": [
    {
     "data": {
      "text/plain": [
       "getVariables (generic function with 1 method)"
      ]
     },
     "execution_count": 3,
     "metadata": {},
     "output_type": "execute_result"
    }
   ],
   "source": [
    "function getVariables(year)\n",
    "    IO = data[data[:,1] .== year,:]\n",
    "    temp = [8,60,62,80:88...]\n",
    "    IO = IO[setdiff(1:end,temp),setdiff(1:end,[1,2,3,4,5,94])]\n",
    "    IO = IO[:,setdiff(1:end,temp)]\n",
    "    Ω = IO ./ sum(IO,dims=2)\n",
    "    α = vadd[:,year-1959] ./ grossy[:,year-1959];\n",
    "    β = (grossy[:,year-1959]' * (I-diagm(1 .- α)*Ω))';\n",
    "    β[beta .< 0] .= 0\n",
    "    β = β / sum(β)\n",
    "    λ = (inv(I - diagm(1 .- alpha)*Ω)' * β);\n",
    "    L = λ .* α\n",
    "    \n",
    "    return α,β,Ω,L,λ\n",
    "\n",
    "end"
   ]
  },
  {
   "cell_type": "code",
   "execution_count": 4,
   "id": "d3b7fad9-cd21-465e-8cdb-a68e7e4c06a7",
   "metadata": {},
   "outputs": [],
   "source": [
    "domar_weights = (inv(I - diagm(1 .- alpha) * Omega)' * beta);\n",
    "L = domar_weights .* alpha;"
   ]
  },
  {
   "cell_type": "code",
   "execution_count": 5,
   "id": "5407a7de-552b-4673-bd43-56f93ffd9a10",
   "metadata": {},
   "outputs": [],
   "source": [
    "ε = .5;\n",
    "θ = 0.001;\n",
    "σ = .9;"
   ]
  },
  {
   "cell_type": "code",
   "execution_count": 1,
   "id": "d1c7f6e2-41ff-4b34-b25e-ab7f917c4c4a",
   "metadata": {},
   "outputs": [
    {
     "data": {
      "text/plain": [
       "problem (generic function with 1 method)"
      ]
     },
     "execution_count": 1,
     "metadata": {},
     "output_type": "execute_result"
    }
   ],
   "source": [
    "function problem(X, A, β, Ω, α, ε, θ, σ,L)\n",
    "    N = length(α)\n",
    "    p = @view X[1:N]\n",
    "    y = @view X[N+1:end]\n",
    "    \n",
    "    Out = zeros(2*N)\n",
    "    \n",
    "    q = (Ω * p .^ (1-θ)) .^ (1 / (1 - θ))\n",
    "    w = p .* (A .^ ((ε - 1)/ε)) .* (α .^ (1 / ε)) .* (y .^ (1/ε)) .* L .^ (-1/ε)\n",
    "    C = w' * L\n",
    "  \n",
    "    Out[1:N] = p - (A .^ (ε - 1) .* (α .* w .^ (1- ε) + (1 .- α) .* q .^ (1 - ε))) .^ (1/(1-ε))\n",
    "    Out[N+1:end] = y - p .^ (-θ) .* (Ω'  * (p .^ ε .* A .^ (ε-1) .* q .^(θ-ε) .* (1 .- α) .* y)) - C * p .^(-σ) .* β\n",
    "    \n",
    "    return Out\n",
    "end"
   ]
  },
  {
   "cell_type": "code",
   "execution_count": 53,
   "id": "fef6c5c7-12cf-477e-adcc-64745c53e590",
   "metadata": {},
   "outputs": [
    {
     "data": {
      "text/plain": [
       "problemJacobian (generic function with 1 method)"
      ]
     },
     "execution_count": 53,
     "metadata": {},
     "output_type": "execute_result"
    }
   ],
   "source": [
    "function problemJacobian(X, A, β, Ω, α, ε, θ, σ,L)\n",
    "    N = length(α)\n",
    "    p = @view X[1:N]\n",
    "    y = @view X[N+1:end]\n",
    "    \n",
    "    Out = zeros(eltype(X),2*N)\n",
    "    \n",
    "    q = (Ω * p .^ (1-θ)) .^ (1 / (1 - θ))\n",
    "    w = p .* (A .^ ((ε - 1)/ε)) .* (α .^ (1 / ε)) .* (y .^ (1/ε)) .* L .^ (-1/ε)\n",
    "    C = w' * L\n",
    "  \n",
    "    \n",
    "    DQDP = (q .^ θ * (p.^(-θ))') .* Ω;\n",
    "    DWDP = diagm(A.^((ε-1)/ε) .* α.^(1/ε) .* y.^(1/ε) .* (1 ./ L).^(1/ε));\n",
    "    DWDY = (1/ε) * diagm(p .* A.^((ε-1)/ε) .* α.^(1/ε).* (y.^(1/ε-1)) .* L.^(-1/ε));\n",
    "    DCDP = DWDP' * L; \n",
    "    DCDY = DWDY' * L;\n",
    "\n",
    "    DOut1DP = I - diagm(diagm(A)^(-1) * ((α .* (w .^ (1-ε)) + (1 .- α) .* (q.^(1-ε)))).^(ε/(1-ε))) * (diagm(α) * diagm(w.^(-ε))* DWDP + diagm(1 .-α)*diagm(q.^(-ε))*DQDP);\n",
    "\n",
    "    DOut1DY =  -diagm(diagm(A.^(-1))*((α.*(w.^(1-ε))+(1 .- α).*(q.^(1-ε)))).^(ε/(1-ε)))*(diagm(α)*diagm(w.^(-ε))*DWDY);\n",
    "\n",
    "    DOut2DP = -(ε * diagm(p.^(-θ))*Ω'*diagm((p.^(ε-1)).*(y).*(q.^(θ-ε)).*(1 .- α).*(A.^(ε-1)))\n",
    "        + (θ-ε)*diagm(p.^(-θ))*Ω'*diagm((p.^(ε)).*(y).*(q.^(θ-ε-1)).*(1 .- α).*(A.^(ε-1)))*DQDP \n",
    "        - σ*diagm(β.*p.^(-σ-1))*C + broadcast(*, β.*(p.^(-σ)), DCDP')\n",
    "        - θ* diagm(p.^(-θ-1)).*diagm(Ω'*diagm((p.^(ε)).*(q.^(θ-ε)).*(1 .- α).*(A.^(ε-1)))*y));\n",
    "\n",
    "    DOut2DY = I - (diagm(p)^ε*diagm(A)^(ε-1)*diagm(q)^(θ-ε)*diagm(1 .- α)*Ω*diagm(p)^(-θ))' - broadcast(*, β.*(p.^(-σ)), DCDY');\n",
    "    OutDeriv = [DOut1DP DOut1DY; DOut2DP DOut2DY];\n",
    "\n",
    "end"
   ]
  },
  {
   "cell_type": "code",
   "execution_count": 12,
   "id": "dc46bb84-b76f-4170-9133-28ccfc044961",
   "metadata": {},
   "outputs": [],
   "source": [
    "trials = 10;\n",
    "GDP = zeros(trials)\n",
    "λ = zeros(76,trials)\n",
    "\n",
    "\n",
    "f = NonlinearFunction((u,p) -> problem(u,p,beta,Omega,alpha,ε,θ,σ,L), jac = (u,p) -> Jacobian(u,p,beta,Omega,alpha,ε,θ,σ,L))\n",
    "\n",
    "for k in 1:trials\n",
    "    \n",
    "        \n",
    "    A = exp.(mvnrnd(-1/2*diag(Sigma),diagm(diag(Sigma))));\n",
    "    init = Complex.([exp.(-inv(I - diagm(1 .- alpha)*Omega)*log.(A))..., domar_weights ./exp.(-inv(I - diagm(1 .- alpha) * Omega)*log.(A))...]);\n",
    "    \n",
    "    \n",
    "    p = A\n",
    "    ProbN = NonlinearProblem(f,init,p)\n",
    "\n",
    "    x = real.(solve(ProbN,NewtonRaphson(), reltol = 1e-14,abstol = 1e-14).u)\n",
    "    \n",
    "    \n",
    "    #println(maximum(abs.(problem(x2,A,beta,Omega,alpha,ε,θ,σ,L))))\n",
    "    GDP[k] = (x[1:76] .* (A .^ ((ε-1)/ε)).*(alpha.^(1/ε)).*(x[77:152].^(1/ε)).* L .^ (-1/ε))' * L;\n",
    "    #λ[:,k] = (x[1:76] .* x[77:end]) / GDP[k] \n",
    "        \n",
    "end"
   ]
  },
  {
   "cell_type": "code",
   "execution_count": 13,
   "id": "e682f352-e6a6-4b83-9ffd-33f057e53745",
   "metadata": {},
   "outputs": [
    {
     "data": {
      "text/plain": [
       "10-element Vector{Float64}:\n",
       "   0.9859677942788871\n",
       "   1.0162335559851077\n",
       " NaN\n",
       "   1.0002382053471717\n",
       "   1.0000392093067307\n",
       "   0.9817155631233918\n",
       "   1.0001221345948743\n",
       "   0.9823564117418633\n",
       "   1.0096125135291887\n",
       "   1.0042284094429574"
      ]
     },
     "execution_count": 13,
     "metadata": {},
     "output_type": "execute_result"
    }
   ],
   "source": [
    "GDP"
   ]
  },
  {
   "cell_type": "code",
   "execution_count": 54,
   "id": "1f6d3d5b-e0ee-4aab-9795-3a0fead20e26",
   "metadata": {},
   "outputs": [
    {
     "ename": "LoadError",
     "evalue": "MethodError: no method matching (NonlinearFunction{false, SciMLBase.FullSpecialize})(::var\"#109#111\"; Jacobian=var\"#110#112\"())\n\u001b[0mClosest candidates are:\n\u001b[0m  (NonlinearFunction{iip, specialize})(::Any; mass_matrix, analytic, tgrad, jac, jvp, vjp, jac_prototype, sparsity, Wfact, Wfact_t, paramjac, syms, paramsyms, observed, colorvec, sys) where {iip, specialize} at ~/.julia/packages/SciMLBase/VdcHg/src/scimlfunctions.jl:3478\u001b[91m got unsupported keyword argument \"Jacobian\"\u001b[39m",
     "output_type": "error",
     "traceback": [
      "MethodError: no method matching (NonlinearFunction{false, SciMLBase.FullSpecialize})(::var\"#109#111\"; Jacobian=var\"#110#112\"())\n\u001b[0mClosest candidates are:\n\u001b[0m  (NonlinearFunction{iip, specialize})(::Any; mass_matrix, analytic, tgrad, jac, jvp, vjp, jac_prototype, sparsity, Wfact, Wfact_t, paramjac, syms, paramsyms, observed, colorvec, sys) where {iip, specialize} at ~/.julia/packages/SciMLBase/VdcHg/src/scimlfunctions.jl:3478\u001b[91m got unsupported keyword argument \"Jacobian\"\u001b[39m",
      "",
      "Stacktrace:",
      " [1] kwerr(::NamedTuple{(:Jacobian,), Tuple{var\"#110#112\"}}, ::Type, ::Function)",
      "   @ Base ./error.jl:165",
      " [2] NonlinearFunction(f::Function; kwargs::Base.Pairs{Symbol, var\"#110#112\", Tuple{Symbol}, NamedTuple{(:Jacobian,), Tuple{var\"#110#112\"}}})",
      "   @ SciMLBase ~/.julia/packages/SciMLBase/VdcHg/src/scimlfunctions.jl:3574",
      " [3] top-level scope",
      "   @ In[54]:10"
     ]
    }
   ],
   "source": [
    "year = 1999\n",
    "M = 10\n",
    "\n",
    "a = 0.7;\n",
    "b = 1.3;\n",
    "\n",
    "\n",
    "\n",
    "(α,β,Ω,L,λ) = getVariables(1982);\n",
    "f = NonlinearFunction((u,p) -> problem(u,p,β,Ω,α,ε,θ,σ,L), Jacobian = (u,p) -> problemJacobian(u,p,β,Ω,α,ε,θ,σ,L))\n",
    "\n",
    "\n",
    "\n",
    "GDP = zeros(20,3)\n",
    "sectors = [7 8 53]\n",
    "sectorShocks = [LinRange(1,a,M)..., LinRange(1,b,M)...]\n",
    "\n",
    "for i in 1:3\n",
    "    \n",
    "    x0 = Complex.([ones(76,1)...,λ...]);\n",
    "    \n",
    "    for k in 1:M\n",
    "        A  = ones(76)\n",
    "        A[sectors[i]] = sectorShocks[k]\n",
    "        \n",
    "        \n",
    "    \n",
    "    \n",
    "        p = A\n",
    "        ProbN = NonlinearProblem(f,x0,p)\n",
    "        \n",
    "        sol = (solve(ProbN,SimpleNewtonRaphson(autodiff = false), reltol = 1e-8,abstol = 1e-10))\n",
    "        \n",
    "        x = sol.u\n",
    "        \n",
    "        p = real.(x[1:76]) \n",
    "        y = real.(x[77:152])\n",
    "        GDP[k,i] = (p .* (A .^ ((ε-1)/ε)).*(alpha.^(1/ε)).*(y.^(1/ε)).* L .^ (-1/ε))' * L\n",
    "        progress = (i*k) * (10/ 6)\n",
    "        \n",
    "        println(\"$progress %\")\n",
    "        x0 =  x\n",
    "    end\n",
    "    \n",
    "    x0 = Complex.([ones(76,1)...,λ...]);\n",
    "\n",
    "    \n",
    "    for k in 1:M\n",
    "        A  = ones(76)\n",
    "        A[sectors[i]] = sectorShocks[k + M]\n",
    "        \n",
    "        \n",
    "    \n",
    "    \n",
    "        p = A\n",
    "        ProbN = NonlinearProblem(f,x0,p)\n",
    "        \n",
    "        x = (solve(ProbN,SimpleTrustRegion(autodiff = false), reltol = 1e-8,abstol = 1e-10).u)\n",
    "\n",
    "        \n",
    "\n",
    "        p = real.(x[1:76]) \n",
    "        y = real.(x[77:152])\n",
    "        \n",
    "        GDP[k + M,i] = (p .* (A .^ ((ε-1)/ε)).*(alpha.^(1/ε)).*(y.^(1/ε)).* L .^ (-1/ε))' * L\n",
    "        progress = (i*k) * (10/ 6)\n",
    "        x0 =  x\n",
    "    end\n",
    "\n",
    "end\n"
   ]
  },
  {
   "cell_type": "code",
   "execution_count": null,
   "id": "eb055d69-1fce-44fe-b5d7-bcf56989ffd3",
   "metadata": {},
   "outputs": [],
   "source": []
  },
  {
   "cell_type": "code",
   "execution_count": 227,
   "id": "500cfe3e-b72e-41af-ade5-0978e8b75365",
   "metadata": {},
   "outputs": [
    {
     "data": {
      "text/plain": [
       "8.881784197001252e-16"
      ]
     },
     "execution_count": 227,
     "metadata": {},
     "output_type": "execute_result"
    }
   ],
   "source": [
    "\n",
    "#f = NonlinearFunction(f!, jac = j!)\n",
    "\n",
    "f = NonlinearFunction((u,p) -> problem(u, p...), jac = (u,p) -> real.(problemJacobian(u,p...)))\n",
    "A  = ones(76)\n",
    "A[7] = 0.8\n",
    "\n",
    "x0 = x.u\n",
    "\n",
    "p = [A,β,Ω,α,ε,θ,σ,L]\n",
    "\n",
    "\n",
    "ProbN = NonlinearProblem(f,x0,p)\n",
    "x = (solve(ProbN,NewtonRaphson(), reltol = 1e-16,abstol = 1e-16))\n",
    "\n",
    "#dump(x)\n",
    "\n",
    "#display(x.u)\n",
    "\n",
    "maximum(abs.(problem(x.u,A,β,Ω,α,ε,θ,σ,L)))"
   ]
  },
  {
   "cell_type": "code",
   "execution_count": 231,
   "id": "8db92a38-4b6f-4a7a-be14-566a9e26d572",
   "metadata": {},
   "outputs": [
    {
     "data": {
      "text/plain": [
       "152-element Vector{ComplexF64}:\n",
       "  -8.534303539499612e-17 - 3.641045353332143e-20im\n",
       "  -9.743371238137484e-19 - 4.5463571317819217e-20im\n",
       "   2.228833754214963e-16 - 2.533811889656108e-20im\n",
       "  -5.299412668143194e-17 - 1.6820275068467037e-20im\n",
       " -2.2530718831082355e-16 - 3.4475458580636753e-20im\n",
       " -1.0777975383050396e-16 - 2.6654791212159166e-20im\n",
       "  1.1196225528492027e-15 - 5.546131412917758e-20im\n",
       "  -9.398150968724914e-17 - 5.920296191229571e-20im\n",
       " -1.0901586904036594e-16 - 9.590296190210593e-20im\n",
       "  1.9791571433733308e-17 - 5.703034434245937e-20im\n",
       "   2.039929386620505e-16 - 5.028937949882226e-20im\n",
       "  1.6085815377775795e-16 - 5.3129142786604283e-20im\n",
       " -2.4543075132795868e-16 - 6.16218145801843e-20im\n",
       "                         ⋮\n",
       "    6.87949312762392e-19 - 7.989528096919427e-20im\n",
       "  -2.666675945011684e-19 + 4.173866569285964e-19im\n",
       "                     NaN + NaN*im\n",
       "   6.938893903907228e-18 + 0.0im\n",
       "   8.673617379884035e-19 + 0.0im\n",
       "   5.585417763647086e-36 + 1.8148122430980895e-36im\n",
       " -1.3803086493228677e-22 + 3.813756653052499e-19im\n",
       "                     NaN + NaN*im\n",
       "                     NaN + NaN*im\n",
       " -3.3673088809141494e-18 - 2.004734492797128e-20im\n",
       "  4.0905993979380887e-19 - 1.1239762033633637e-20im\n",
       "   4.611762811060338e-18 - 2.0531728146912087e-19im"
      ]
     },
     "execution_count": 231,
     "metadata": {},
     "output_type": "execute_result"
    }
   ],
   "source": [
    "x = problem(x,p...)"
   ]
  },
  {
   "cell_type": "code",
   "execution_count": 166,
   "id": "65ec0735-3926-4c68-adf3-599129585487",
   "metadata": {},
   "outputs": [
    {
     "data": {
      "text/plain": [
       "(-338.6902024899553, 0.997138358643352)"
      ]
     },
     "execution_count": 166,
     "metadata": {},
     "output_type": "execute_result"
    }
   ],
   "source": [
    "extrema(real.(problemJacobian(sols,A,β,Ω,α,ε,θ,σ,L)))"
   ]
  },
  {
   "cell_type": "code",
   "execution_count": null,
   "id": "ea60396b-5f8b-4375-b053-355a44c2eca8",
   "metadata": {},
   "outputs": [],
   "source": []
  }
 ],
 "metadata": {
  "kernelspec": {
   "display_name": "Julia 1.8.0",
   "language": "julia",
   "name": "julia-1.8"
  },
  "language_info": {
   "file_extension": ".jl",
   "mimetype": "application/julia",
   "name": "julia",
   "version": "1.8.0"
  }
 },
 "nbformat": 4,
 "nbformat_minor": 5
}

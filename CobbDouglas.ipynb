{
 "cells": [
  {
   "cell_type": "code",
   "execution_count": 1,
   "metadata": {},
   "outputs": [],
   "source": [
    "using LinearAlgebra\n",
    "using Distributed\n",
    "using SharedArrays\n",
    "using Plots\n",
    "using DataFrames, CSV"
   ]
  },
  {
   "cell_type": "code",
   "execution_count": 2,
   "metadata": {},
   "outputs": [],
   "source": [
    "using BeyondHulten"
   ]
  },
  {
   "cell_type": "markdown",
   "metadata": {},
   "source": [
    "## Loading in Data"
   ]
  },
  {
   "cell_type": "code",
   "execution_count": 6,
   "metadata": {},
   "outputs": [
    {
     "data": {
      "text/plain": [
       "CBData(\u001b[1m84×87 DataFrame\u001b[0m\n",
       "\u001b[1m Row \u001b[0m│\u001b[1m Sektoren                          \u001b[0m\u001b[1m Erz. d. Landwirtschaft, Jagd und Die\u001b[0m ⋯\n",
       "     │\u001b[90m String                            \u001b[0m\u001b[90m Int64                               \u001b[0m ⋯\n",
       "─────┼──────────────────────────────────────────────────────────────────────────\n",
       "   1 │ Erz. d. Landwirtschaft, Jagd und…                                       ⋯\n",
       "   2 │ Forstwirtschaftl. Erzeugnisse un…\n",
       "   3 │ Fische, Fischerei- und Aquakultu…\n",
       "   4 │ Kohle\n",
       "   5 │ Erdöl und Erdgas                                                        ⋯\n",
       "   6 │ Erze, Steine und Erden, sonstige…\n",
       "   7 │ Nahrungs- u. Futtermittel, Geträ…\n",
       "   8 │ Textilien, Bekleidung, Leder und…\n",
       "  ⋮  │                 ⋮                                          ⋮            ⋱\n",
       "  78 │ Bruttolöhne und -gehälter                                               ⋯\n",
       "  79 │ Sonst.Produktionsabgaben abzgl. …\n",
       "  80 │ Abschreibungen\n",
       "  81 │ Nettobetriebsüberschuss\n",
       "  82 │ Bruttowertschöpfung                                                     ⋯\n",
       "  83 │ Produktionswert\n",
       "  84 │ Produktionswert: firmenint. Lief…\n",
       "\u001b[36m                                                  86 columns and 69 rows omitted\u001b[0m, [0.2159974180360937 0.00021516365885801888 … 0.0 0.00010758182942900944; 0.019691780821917807 0.2842465753424658 … 0.0 0.003139269406392694; … ; 0.0 0.0 … 0.0 0.0; 0.0011100832562442183 9.250693802035152e-5 … 0.0002775208140610546 0.5422756706753007], [0.006120048021212256, 0.0012912676842368877, 6.607386224688323e-5, 0.000473058755967232, 0.00031377406272637646, 0.002030477061520479, 0.007970351966267742, 0.001390000282214634, 0.002146613750772613, 0.005501930189348169  …  0.050760944130289296, 0.009015282610099753, 0.04375683612201715, 0.036834026642969975, 0.006772918677978368, 0.007028597872660466, 0.004274779932152938, 0.010070606670276183, 0.0009947980616821822, 0.011541044567363445], [0.33869040952700935, 0.5536193029490617, 0.37474541751527496, 0.4088888888888889, 0.5505084745762712, 0.33076923076923076, 0.21807865892972275, 0.2916315205327414, 0.2540205538558092, 0.23447542319181677  …  0.627565017008669, 0.6781704551739395, 0.7656068719321731, 0.6808288921308839, 0.651309137981537, 0.6442910187978649, 0.5929179709852234, 0.7169902465955098, 0.6560055223193741, 0.6805914494572842], [0.017693930084304938, 0.0022174384325610048, 0.00016216298337614748, 0.000966042212576846, 0.00048714949181225545, 0.00467993782981672, 0.06403125947464477, 0.007439350713946478, 0.008419924843567217, 0.014594007962169461  …  0.08427322910425925, 0.011943254185026973, 0.05921095653701774, 0.0776496473698221, 0.03495355401150268, 0.011385096462204794, 0.009812016442203593, 0.014357534039364322, 0.0014353570789261444, 0.017891432047765086], [0.00599276442639551, 0.0012276167193668835, 6.0769834910816976e-5, 0.00039500392692031036, 0.00026817992362817043, 0.0015479794360162996, 0.013963851195811637, 0.0021695491604845464, 0.002138833972187232, 0.003421936192994428  …  0.05288693045618991, 0.0080995621269178, 0.04533231521841801, 0.05286612339314979, 0.022765569132622905, 0.007335315398745894, 0.005817720880185005, 0.010294211871387252, 0.0009416021702757565, 0.012176755670254946], [0.30598797924366294, 0.47810545129579984, 0.3910386965376782, 0.0071794871794871795, 0.6298305084745762, 0.07205363443895554, 0.7377949709864603, 0.7731853496115427, 0.43582803796971836, 0.46345161582330047  …  0.8235958050508693, 0.9108456390686356, 0.8401829540383757, 0.9399087231879681, 0.9917511551217484, 0.8382455326061731, 0.5555218957218351, 0.8031376518218624, 0.44201564657156006, 0.8004504171896921], Shocks([1.0, 1.0, 1.0, 1.0, 1.0, 1.0, 1.0, 1.0, 1.0, 1.0  …  1.0, 1.0, 1.0, 1.0, 1.0, 1.0, 1.0, 1.0, 1.0, 1.0], [1.0, 1.0, 1.0, 1.0, 1.0, 1.0, 1.0, 1.0, 1.0, 1.0  …  1.0, 1.0, 1.0, 1.0, 1.0, 1.0, 1.0, 1.0, 1.0, 1.0]), CBELasticities([0.33869040952700935, 0.5536193029490617, 0.37474541751527496, 0.4088888888888889, 0.5505084745762712, 0.33076923076923076, 0.21807865892972275, 0.2916315205327414, 0.2540205538558092, 0.23447542319181677  …  0.627565017008669, 0.6781704551739395, 0.7656068719321731, 0.6808288921308839, 0.651309137981537, 0.6442910187978649, 0.5929179709852234, 0.7169902465955098, 0.6560055223193741, 0.6805914494572842], [0.6613095904729906, 0.4463806970509383, 0.6252545824847251, 0.5911111111111111, 0.44949152542372883, 0.6692307692307693, 0.7819213410702772, 0.7083684794672587, 0.7459794461441909, 0.7655245768081832  …  0.37243498299133104, 0.3218295448260605, 0.23439312806782686, 0.31917110786911607, 0.348690862018463, 0.3557089812021351, 0.40708202901477664, 0.2830097534044902, 0.34399447768062585, 0.3194085505427158]), [53574.0, 6714.0, 491.0, 2925.0, 1475.0, 14170.0, 193875.0, 22525.0, 25494.0, 44188.0  …  255164.0, 36162.0, 179280.0, 235109.0, 105833.0, 34472.0, 29709.0, 43472.0, 4346.0, 54172.0])"
      ]
     },
     "metadata": {},
     "output_type": "display_data"
    }
   ],
   "source": [
    "data = read_data_cb(\"I-O_DE2019_formatiert.csv\")"
   ]
  },
  {
   "cell_type": "code",
   "execution_count": 22,
   "metadata": {},
   "outputs": [
    {
     "data": {
      "text/plain": [
       "CBELasticities([0.33869040952700935, 0.5536193029490617, 0.37474541751527496, 0.4088888888888889, 0.5505084745762712, 0.33076923076923076, 0.21807865892972275, 0.2916315205327414, 0.2540205538558092, 0.23447542319181677  …  0.627565017008669, 0.6781704551739395, 0.7656068719321731, 0.6808288921308839, 0.651309137981537, 0.6442910187978649, 0.5929179709852234, 0.7169902465955098, 0.6560055223193741, 0.6805914494572842], [0.6613095904729906, 0.4463806970509383, 0.6252545824847251, 0.5911111111111111, 0.44949152542372883, 0.6692307692307693, 0.7819213410702772, 0.7083684794672587, 0.7459794461441909, 0.7655245768081832  …  0.37243498299133104, 0.3218295448260605, 0.23439312806782686, 0.31917110786911607, 0.348690862018463, 0.3557089812021351, 0.40708202901477664, 0.2830097534044902, 0.34399447768062585, 0.3194085505427158])"
      ]
     },
     "metadata": {},
     "output_type": "display_data"
    }
   ],
   "source": [
    "elasticities = CBELasticities(data.factor_share,1 .- data.factor_share)"
   ]
  },
  {
   "cell_type": "code",
   "execution_count": 24,
   "metadata": {},
   "outputs": [
    {
     "data": {
      "text/plain": [
       "Shocks([1.0, 1.0, 1.0, 1.0, 1.0, 1.0, 1.0, 1.0, 1.0, 1.0  …  1.0, 1.0, 1.0, 1.0, 1.0, 1.0, 1.0, 1.0, 1.0, 1.0], [1.0, 1.0, 1.0, 1.0, 1.0, 1.0, 1.0, 1.0, 1.0, 1.0  …  1.0, 1.0, 1.0, 1.0, 1.0, 1.0, 1.0, 1.0, 1.0, 1.0])"
      ]
     },
     "metadata": {},
     "output_type": "display_data"
    }
   ],
   "source": [
    "demand_shock = ones(71)\n",
    "supply_shock = ones(71)\n",
    "shocks = Shocks(supply_shock, demand_shock)\n",
    "#shocks.supply_shock[1:3] .= 1.01\n",
    "#sector = [\"Vorb.Baustellen-,Bauinstallations-,Ausbauarbeiten\"]\n",
    "#investment = [25000]\n",
    "#calculate_investment!(shocks, data, investment, sector)"
   ]
  },
  {
   "cell_type": "code",
   "execution_count": 25,
   "metadata": {},
   "outputs": [
    {
     "data": {
      "text/html": [
       "<div><div style = \"float: left;\"><span>71×4 DataFrame</span></div><div style = \"float: right;\"><span style = \"font-style: italic;\">46 rows omitted</span></div><div style = \"clear: both;\"></div></div><div class = \"data-frame\" style = \"overflow-x: scroll;\"><table class = \"data-frame\" style = \"margin-bottom: 6px;\"><thead><tr class = \"header\"><th class = \"rowNumber\" style = \"font-weight: bold; text-align: right;\">Row</th><th style = \"text-align: left;\">prices</th><th style = \"text-align: left;\">quantities</th><th style = \"text-align: left;\">sectors</th><th style = \"text-align: left;\">value_added</th></tr><tr class = \"subheader headerLastRow\"><th class = \"rowNumber\" style = \"font-weight: bold; text-align: right;\"></th><th title = \"Float64\" style = \"text-align: left;\">Float64</th><th title = \"Float64\" style = \"text-align: left;\">Float64</th><th title = \"String\" style = \"text-align: left;\">String</th><th title = \"Float64\" style = \"text-align: left;\">Float64</th></tr></thead><tbody><tr><td class = \"rowNumber\" style = \"font-weight: bold; text-align: right;\">1</td><td style = \"text-align: right;\">1.59731e-31</td><td style = \"text-align: right;\">0.0168675</td><td style = \"text-align: left;\">Erz. d. Landwirtschaft, Jagd und Dienstleistungen</td><td style = \"text-align: right;\">9.1252e-34</td></tr><tr><td class = \"rowNumber\" style = \"font-weight: bold; text-align: right;\">2</td><td style = \"text-align: right;\">1.41768e-31</td><td style = \"text-align: right;\">0.00214754</td><td style = \"text-align: left;\">Forstwirtschaftl. Erzeugnisse und Dienstleistungen</td><td style = \"text-align: right;\">1.6855e-34</td></tr><tr><td class = \"rowNumber\" style = \"font-weight: bold; text-align: right;\">3</td><td style = \"text-align: right;\">1.55938e-31</td><td style = \"text-align: right;\">0.000154877</td><td style = \"text-align: left;\">Fische, Fischerei- und Aquakulturerzeugnisse, DL</td><td style = \"text-align: right;\">9.05053e-36</td></tr><tr><td class = \"rowNumber\" style = \"font-weight: bold; text-align: right;\">4</td><td style = \"text-align: right;\">1.15335e-31</td><td style = \"text-align: right;\">0.000962584</td><td style = \"text-align: left;\">Kohle</td><td style = \"text-align: right;\">4.53949e-35</td></tr><tr><td class = \"rowNumber\" style = \"font-weight: bold; text-align: right;\">5</td><td style = \"text-align: right;\">8.99622e-32</td><td style = \"text-align: right;\">0.000544615</td><td style = \"text-align: left;\">Erdöl und Erdgas</td><td style = \"text-align: right;\">2.6972e-35</td></tr><tr><td class = \"rowNumber\" style = \"font-weight: bold; text-align: right;\">6</td><td style = \"text-align: right;\">1.56587e-31</td><td style = \"text-align: right;\">0.00395925</td><td style = \"text-align: left;\">Erze, Steine und Erden, sonstige Bergbauerz., DL</td><td style = \"text-align: right;\">2.05065e-34</td></tr><tr><td class = \"rowNumber\" style = \"font-weight: bold; text-align: right;\">7</td><td style = \"text-align: right;\">1.58811e-31</td><td style = \"text-align: right;\">0.0710957</td><td style = \"text-align: left;\">Nahrungs- u. Futtermittel, Getränke, Tabakerzeugn.</td><td style = \"text-align: right;\">2.46228e-33</td></tr><tr><td class = \"rowNumber\" style = \"font-weight: bold; text-align: right;\">8</td><td style = \"text-align: right;\">1.47195e-31</td><td style = \"text-align: right;\">0.00836887</td><td style = \"text-align: left;\">Textilien, Bekleidung, Leder und Lederwaren</td><td style = \"text-align: right;\">3.59249e-34</td></tr><tr><td class = \"rowNumber\" style = \"font-weight: bold; text-align: right;\">9</td><td style = \"text-align: right;\">1.3869e-31</td><td style = \"text-align: right;\">0.00915737</td><td style = \"text-align: left;\">Holz,Holz- u.Korkwaren (oh.Möbel),Flecht- u.Korbw.</td><td style = \"text-align: right;\">3.22615e-34</td></tr><tr><td class = \"rowNumber\" style = \"font-weight: bold; text-align: right;\">10</td><td style = \"text-align: right;\">1.52246e-31</td><td style = \"text-align: right;\">0.0150127</td><td style = \"text-align: left;\">Papier, Pappe und Waren daraus</td><td style = \"text-align: right;\">5.35921e-34</td></tr><tr><td class = \"rowNumber\" style = \"font-weight: bold; text-align: right;\">11</td><td style = \"text-align: right;\">1.43469e-31</td><td style = \"text-align: right;\">0.00585518</td><td style = \"text-align: left;\">Druckereileist., besp. Ton-, Bild- u. Datenträger</td><td style = \"text-align: right;\">3.13931e-34</td></tr><tr><td class = \"rowNumber\" style = \"font-weight: bold; text-align: right;\">12</td><td style = \"text-align: right;\">7.46483e-32</td><td style = \"text-align: right;\">-3.17113e-5</td><td style = \"text-align: left;\">Kokerei- und Mineralölerzeugnisse</td><td style = \"text-align: right;\">-1.01855e-37</td></tr><tr><td class = \"rowNumber\" style = \"font-weight: bold; text-align: right;\">13</td><td style = \"text-align: right;\">1.85908e-31</td><td style = \"text-align: right;\">0.0386657</td><td style = \"text-align: left;\">Chemische Erzeugnisse</td><td style = \"text-align: right;\">1.53613e-33</td></tr><tr><td style = \"text-align: right;\">&vellip;</td><td style = \"text-align: right;\">&vellip;</td><td style = \"text-align: right;\">&vellip;</td><td style = \"text-align: right;\">&vellip;</td><td style = \"text-align: right;\">&vellip;</td></tr><tr><td class = \"rowNumber\" style = \"font-weight: bold; text-align: right;\">60</td><td style = \"text-align: right;\">1.29236e-31</td><td style = \"text-align: right;\">0.0117107</td><td style = \"text-align: left;\">DL v. Reisebüros, -veranstaltern u. sonst. Reserv.</td><td style = \"text-align: right;\">3.14372e-34</td></tr><tr><td class = \"rowNumber\" style = \"font-weight: bold; text-align: right;\">61</td><td style = \"text-align: right;\">1.39076e-31</td><td style = \"text-align: right;\">0.0438492</td><td style = \"text-align: left;\">Wach-, Sicherheits-DL, wirtschaftliche DL a.n.g</td><td style = \"text-align: right;\">3.48603e-33</td></tr><tr><td class = \"rowNumber\" style = \"font-weight: bold; text-align: right;\">62</td><td style = \"text-align: right;\">1.31465e-31</td><td style = \"text-align: right;\">0.0824837</td><td style = \"text-align: left;\">DL d. öffentlichen Verwaltung und der Verteidigung</td><td style = \"text-align: right;\">6.80516e-33</td></tr><tr><td class = \"rowNumber\" style = \"font-weight: bold; text-align: right;\">63</td><td style = \"text-align: right;\">1.28924e-31</td><td style = \"text-align: right;\">0.0118978</td><td style = \"text-align: left;\">Dienstleistungen der Sozialversicherung</td><td style = \"text-align: right;\">1.04025e-33</td></tr><tr><td class = \"rowNumber\" style = \"font-weight: bold; text-align: right;\">64</td><td style = \"text-align: right;\">1.62297e-31</td><td style = \"text-align: right;\">0.0583641</td><td style = \"text-align: left;\">Erziehungs- und Unterrichtsdienstleistungen</td><td style = \"text-align: right;\">7.25209e-33</td></tr><tr><td class = \"rowNumber\" style = \"font-weight: bold; text-align: right;\">65</td><td style = \"text-align: right;\">3.24642e-31</td><td style = \"text-align: right;\">0.0764158</td><td style = \"text-align: left;\">Dienstleistungen des Gesundheitswesens</td><td style = \"text-align: right;\">1.68898e-32</td></tr><tr><td class = \"rowNumber\" style = \"font-weight: bold; text-align: right;\">66</td><td style = \"text-align: right;\">7.34624e-31</td><td style = \"text-align: right;\">0.034947</td><td style = \"text-align: left;\">Dienstleistungen von Heimen und des Sozialwesens</td><td style = \"text-align: right;\">1.6721e-32</td></tr><tr><td class = \"rowNumber\" style = \"font-weight: bold; text-align: right;\">67</td><td style = \"text-align: right;\">1.4138e-31</td><td style = \"text-align: right;\">0.0113929</td><td style = \"text-align: left;\">Dienstleist. der Kunst, Kultur u. des Glücksspiels</td><td style = \"text-align: right;\">1.03778e-33</td></tr><tr><td class = \"rowNumber\" style = \"font-weight: bold; text-align: right;\">68</td><td style = \"text-align: right;\">1.42761e-31</td><td style = \"text-align: right;\">0.00937551</td><td style = \"text-align: left;\">DL des Sports, der Unterhaltung und der Erholung</td><td style = \"text-align: right;\">7.93598e-34</td></tr><tr><td class = \"rowNumber\" style = \"font-weight: bold; text-align: right;\">69</td><td style = \"text-align: right;\">1.38754e-31</td><td style = \"text-align: right;\">0.014445</td><td style = \"text-align: left;\">DL d. Interessenvertr., kirchl. u.sonst. Vereinig.</td><td style = \"text-align: right;\">1.43706e-33</td></tr><tr><td class = \"rowNumber\" style = \"font-weight: bold; text-align: right;\">70</td><td style = \"text-align: right;\">1.34241e-31</td><td style = \"text-align: right;\">0.00147148</td><td style = \"text-align: left;\">Reparaturarbeiten an DV-Geräten u. Gebrauchsgütern</td><td style = \"text-align: right;\">1.29582e-34</td></tr><tr><td class = \"rowNumber\" style = \"font-weight: bold; text-align: right;\">71</td><td style = \"text-align: right;\">1.61339e-31</td><td style = \"text-align: right;\">0.0172542</td><td style = \"text-align: left;\">Sonstige überwiegend persönliche Dienstleistungen</td><td style = \"text-align: right;\">1.89461e-33</td></tr></tbody></table></div>"
      ],
      "text/latex": [
       "\\begin{tabular}{r|cccc}\n",
       "\t& prices & quantities & sectors & value\\_added\\\\\n",
       "\t\\hline\n",
       "\t& Float64 & Float64 & String & Float64\\\\\n",
       "\t\\hline\n",
       "\t1 & 1.59731e-31 & 0.0168675 & Erz. d. Landwirtschaft, Jagd und Dienstleistungen & 9.1252e-34 \\\\\n",
       "\t2 & 1.41768e-31 & 0.00214754 & Forstwirtschaftl. Erzeugnisse und Dienstleistungen & 1.6855e-34 \\\\\n",
       "\t3 & 1.55938e-31 & 0.000154877 & Fische, Fischerei- und Aquakulturerzeugnisse, DL & 9.05053e-36 \\\\\n",
       "\t4 & 1.15335e-31 & 0.000962584 & Kohle & 4.53949e-35 \\\\\n",
       "\t5 & 8.99622e-32 & 0.000544615 & Erdöl und Erdgas & 2.6972e-35 \\\\\n",
       "\t6 & 1.56587e-31 & 0.00395925 & Erze, Steine und Erden, sonstige Bergbauerz., DL & 2.05065e-34 \\\\\n",
       "\t7 & 1.58811e-31 & 0.0710957 & Nahrungs- u. Futtermittel, Getränke, Tabakerzeugn. & 2.46228e-33 \\\\\n",
       "\t8 & 1.47195e-31 & 0.00836887 & Textilien, Bekleidung, Leder und Lederwaren & 3.59249e-34 \\\\\n",
       "\t9 & 1.3869e-31 & 0.00915737 & Holz,Holz- u.Korkwaren (oh.Möbel),Flecht- u.Korbw. & 3.22615e-34 \\\\\n",
       "\t10 & 1.52246e-31 & 0.0150127 & Papier, Pappe und Waren daraus & 5.35921e-34 \\\\\n",
       "\t11 & 1.43469e-31 & 0.00585518 & Druckereileist., besp. Ton-, Bild- u. Datenträger & 3.13931e-34 \\\\\n",
       "\t12 & 7.46483e-32 & -3.17113e-5 & Kokerei- und Mineralölerzeugnisse & -1.01855e-37 \\\\\n",
       "\t13 & 1.85908e-31 & 0.0386657 & Chemische Erzeugnisse & 1.53613e-33 \\\\\n",
       "\t14 & 4.87156e-31 & 0.0124558 & Pharmazeutische Erzeugnisse & 2.0337e-33 \\\\\n",
       "\t15 & 1.44364e-31 & 0.0260796 & Gummi- und Kunststoffwaren & 1.214e-33 \\\\\n",
       "\t16 & 1.50682e-31 & 0.00347294 & Glas und Glaswaren & 1.98743e-34 \\\\\n",
       "\t17 & 1.17731e-31 & 0.0139638 & Keramik, bearbeitete Steine und Erden & 5.23942e-34 \\\\\n",
       "\t18 & 1.91327e-32 & 0.266748 & Roheisen, Stahl, Erz.d.erst. Bearb.v.Eisen u.Stahl & 5.69752e-34 \\\\\n",
       "\t19 & 1.22373e-31 & 0.01479 & NE-Metalle und Halbzeug daraus & 1.89843e-34 \\\\\n",
       "\t20 & 1.48462e-31 & 0.00559444 & Gießereierzeugnisse & 2.64283e-34 \\\\\n",
       "\t21 & 1.3297e-31 & 0.0455591 & Metallerzeugnisse & 2.46569e-33 \\\\\n",
       "\t22 & 1.44331e-31 & 0.0248678 & DV-Geräte, elektronische und optische Erzeugnisse & 1.53363e-33 \\\\\n",
       "\t23 & 1.42097e-31 & 0.028124 & Elektrische Ausrüstungen & 1.57024e-33 \\\\\n",
       "\t24 & 1.30573e-31 & 0.0817974 & Maschinen & 3.83296e-33 \\\\\n",
       "\t$\\dots$ & $\\dots$ & $\\dots$ & $\\dots$ & $\\dots$ \\\\\n",
       "\\end{tabular}\n"
      ],
      "text/plain": [
       "\u001b[1m71×4 DataFrame\u001b[0m\n",
       "\u001b[1m Row \u001b[0m│\u001b[1m prices      \u001b[0m\u001b[1m quantities  \u001b[0m\u001b[1m sectors                           \u001b[0m\u001b[1m value_adde\u001b[0m ⋯\n",
       "     │\u001b[90m Float64     \u001b[0m\u001b[90m Float64     \u001b[0m\u001b[90m String                            \u001b[0m\u001b[90m Float64   \u001b[0m ⋯\n",
       "─────┼──────────────────────────────────────────────────────────────────────────\n",
       "   1 │ 1.59731e-31  0.0168675    Erz. d. Landwirtschaft, Jagd und…  9.1252e-34 ⋯\n",
       "   2 │ 1.41768e-31  0.00214754   Forstwirtschaftl. Erzeugnisse un…  1.6855e-34\n",
       "   3 │ 1.55938e-31  0.000154877  Fische, Fischerei- und Aquakultu…  9.05053e-3\n",
       "   4 │ 1.15335e-31  0.000962584  Kohle                              4.53949e-3\n",
       "   5 │ 8.99622e-32  0.000544615  Erdöl und Erdgas                   2.6972e-35 ⋯\n",
       "   6 │ 1.56587e-31  0.00395925   Erze, Steine und Erden, sonstige…  2.05065e-3\n",
       "   7 │ 1.58811e-31  0.0710957    Nahrungs- u. Futtermittel, Geträ…  2.46228e-3\n",
       "   8 │ 1.47195e-31  0.00836887   Textilien, Bekleidung, Leder und…  3.59249e-3\n",
       "  ⋮  │      ⋮            ⋮                       ⋮                       ⋮     ⋱\n",
       "  65 │ 3.24642e-31  0.0764158    Dienstleistungen des Gesundheits…  1.68898e-3 ⋯\n",
       "  66 │ 7.34624e-31  0.034947     Dienstleistungen von Heimen und …  1.6721e-32\n",
       "  67 │ 1.4138e-31   0.0113929    Dienstleist. der Kunst, Kultur u…  1.03778e-3\n",
       "  68 │ 1.42761e-31  0.00937551   DL des Sports, der Unterhaltung …  7.93598e-3\n",
       "  69 │ 1.38754e-31  0.014445     DL d. Interessenvertr., kirchl. …  1.43706e-3 ⋯\n",
       "  70 │ 1.34241e-31  0.00147148   Reparaturarbeiten an DV-Geräten …  1.29582e-3\n",
       "  71 │ 1.61339e-31  0.0172542    Sonstige überwiegend persönliche…  1.89461e-3\n",
       "\u001b[36m                                                    1 column and 56 rows omitted\u001b[0m"
      ]
     },
     "metadata": {},
     "output_type": "display_data"
    }
   ],
   "source": [
    "solution = solve_cobb_douglas_modell(data, shocks, elasticities)"
   ]
  },
  {
   "cell_type": "code",
   "execution_count": 23,
   "metadata": {},
   "outputs": [
    {
     "data": {
      "text/plain": [
       "0.7952314870118232"
      ]
     },
     "metadata": {},
     "output_type": "display_data"
    }
   ],
   "source": [
    "sum(solution.value_added)"
   ]
  },
  {
   "cell_type": "code",
   "execution_count": 7,
   "metadata": {},
   "outputs": [
    {
     "data": {
      "text/plain": [
       "71×1 Matrix{Float64}:\n",
       " 1.0\n",
       " 1.0\n",
       " 1.0\n",
       " 1.0\n",
       " 1.0\n",
       " 1.0\n",
       " 1.0\n",
       " 1.0\n",
       " 1.0\n",
       " 1.0\n",
       " ⋮\n",
       " 1.0\n",
       " 1.0\n",
       " 0.9999999999999999\n",
       " 1.0\n",
       " 1.0\n",
       " 1.0\n",
       " 1.0\n",
       " 1.0\n",
       " 0.9999999999999999"
      ]
     },
     "metadata": {},
     "output_type": "display_data"
    }
   ],
   "source": [
    "BeyondHulten.cobb_douglas_costfun(ones(71),data.λ,data)"
   ]
  },
  {
   "cell_type": "code",
   "execution_count": 64,
   "metadata": {},
   "outputs": [
    {
     "data": {
      "text/plain": [
       "71×1 Matrix{Float64}:\n",
       " -0.0032089428680924445\n",
       " -0.0006171721909783655\n",
       " -8.04464753835775e-5\n",
       " -0.00044965024740240055\n",
       " -0.00016876821461393727\n",
       " -0.0016132171950116081\n",
       "  0.10792192447740773\n",
       " -0.0018084003229694966\n",
       "  0.0015772134626474837\n",
       " -0.0002363787636987108\n",
       "  ⋮\n",
       " -0.002265094071221243\n",
       " -4.5594460607679965e-5\n",
       "  0.013650625859659316\n",
       " -0.0057073033323794195\n",
       " -0.0021920328281819657\n",
       " -0.0023967958003346355\n",
       " -0.002973577442285139\n",
       " -0.0004268464195477234\n",
       " -0.0017276353695785153"
      ]
     },
     "metadata": {},
     "output_type": "display_data"
    }
   ],
   "source": [
    "BeyondHulten.cobb_douglas_intermediary_demand(ones(71),data.λ,data) + data.consumption_share - data.λ"
   ]
  },
  {
   "cell_type": "code",
   "execution_count": 54,
   "metadata": {},
   "outputs": [
    {
     "ename": "Base.Meta.ParseError",
     "evalue": "ParseError:\n# Error @ /home/franzs/Schreibtisch/BeyondHulten/CobbDouglas.ipynb:1:96\n(data.Ω' * (1 .- data.factor_share) .* data.λ) - sum(data.labor_share) * data.consumption_share)\n#                                                                                              ╙ ── extra tokens after end of expression",
     "output_type": "error",
     "traceback": [
      "ParseError:\n",
      "# Error @ /home/franzs/Schreibtisch/BeyondHulten/CobbDouglas.ipynb:1:96\n",
      "(data.Ω' * (1 .- data.factor_share) .* data.λ) - sum(data.labor_share) * data.consumption_share)\n",
      "#                                                                                              ╙ ── extra tokens after end of expression\n",
      "\n",
      "Stacktrace:\n",
      " [1] top-level scope\n",
      "   @ ~/Schreibtisch/BeyondHulten/CobbDouglas.ipynb:1"
     ]
    }
   ],
   "source": [
    "(data.Ω' * (1 .- data.factor_share) .* data.λ) - sum(data.labor_share) * data.consumption_share)"
   ]
  },
  {
   "cell_type": "code",
   "execution_count": 62,
   "metadata": {},
   "outputs": [
    {
     "data": {
      "text/plain": [
       "71-element Vector{Float64}:\n",
       " -3.469446951953614e-18\n",
       "  0.0\n",
       " -2.710505431213761e-20\n",
       "  0.0\n",
       "  5.421010862427522e-20\n",
       " -8.673617379884035e-19\n",
       "  0.0\n",
       " -1.734723475976807e-18\n",
       "  0.0\n",
       " -3.469446951953614e-18\n",
       "  ⋮\n",
       "  0.0\n",
       "  6.938893903907228e-18\n",
       " -2.7755575615628914e-17\n",
       "  0.0\n",
       "  1.734723475976807e-18\n",
       "  0.0\n",
       "  0.0\n",
       " -2.168404344971009e-19\n",
       "  3.469446951953614e-18"
      ]
     },
     "metadata": {},
     "output_type": "display_data"
    }
   ],
   "source": [
    "(data.Ω' * ((1 .- data.factor_share) .* data.λ)) + data.consumption_share - data.λ\n"
   ]
  },
  {
   "cell_type": "code",
   "execution_count": null,
   "metadata": {},
   "outputs": [],
   "source": []
  }
 ],
 "metadata": {
  "kernelspec": {
   "display_name": "Julia 1.10.4",
   "language": "julia",
   "name": "julia-1.10"
  },
  "language_info": {
   "file_extension": ".jl",
   "mimetype": "application/julia",
   "name": "julia",
   "version": "1.10.4"
  }
 },
 "nbformat": 4,
 "nbformat_minor": 2
}

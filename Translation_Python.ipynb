{
 "cells": [
  {
   "cell_type": "markdown",
   "id": "9167773d-11ed-4c2e-9977-ceba8403f95d",
   "metadata": {},
   "source": [
    "## Data Loading\n",
    "Loads in the big data matrix and the stfp matrix created by matlab"
   ]
  },
  {
   "cell_type": "code",
   "execution_count": 69,
   "id": "95079eac-5c20-40c9-a0b7-9811617984be",
   "metadata": {},
   "outputs": [],
   "source": [
    "from scipy.io import loadmat\n",
    "\n",
    "def load_in_data():\n",
    "    file = scipy.io.loadmat(\"data/simulationData.mat\")\n",
    "    data = file[\"data\"]\n",
    "    return data\n",
    "\n",
    "def load_stfp():\n",
    "    file = scipy.io.loadmat(\"data/stfp.mat\")\n",
    "    stfp = file[\"stfp\"]\n",
    "    return stfp\n"
   ]
  },
  {
   "cell_type": "markdown",
   "id": "9a348fd9-22b0-406f-ac47-661e3430a6f5",
   "metadata": {},
   "source": [
    "## Data processing\n",
    "Processes the data just as in the matlab version"
   ]
  },
  {
   "cell_type": "code",
   "execution_count": 70,
   "id": "70676b88-66d6-44c0-b2c0-ca73e6dbdd0a",
   "metadata": {},
   "outputs": [
    {
     "name": "stdout",
     "output_type": "stream",
     "text": [
      "C:\\Users\\Rafael\\Documents\\GitHub\\BeyondHulten\n"
     ]
    }
   ],
   "source": [
    "# Set the notebook directory as the working directory\n",
    "%pwd\n",
    "%cd C:\\Users\\Rafael\\Documents\\GitHub\\BeyondHulten"
   ]
  },
  {
   "cell_type": "code",
   "execution_count": 73,
   "id": "b5ea1eb5-cee5-4262-aaf9-af8d118dacbd",
   "metadata": {},
   "outputs": [],
   "source": [
    "import numpy as np\n",
    "import pandas as pd\n",
    "\n",
    "#data is the IO matrix for 88 sectors over 46 years (1960-2005)\n",
    "data2 = load_in_data()\n",
    "ind = pd.MultiIndex.from_arrays(data2[:, (0,1)].T, names=('year','sec'))\n",
    "data = pd.DataFrame(data2[:, 2:93], index=ind)\n",
    "del data2, ind"
   ]
  },
  {
   "cell_type": "code",
   "execution_count": 86,
   "id": "f7b1bdca-9f8c-4e75-85c9-95fb3981948d",
   "metadata": {},
   "outputs": [
    {
     "name": "stdout",
     "output_type": "stream",
     "text": [
      "3434.026\n",
      "3433.7749999999996\n",
      "0    88366.023\n",
      "1    25623.402\n",
      "2    31151.107\n",
      "Name: (2005.0, 2.0), dtype: float64\n"
     ]
    }
   ],
   "source": [
    "#Column 0 of datavector contains gross output for each sector\n",
    "print(data.loc[(1960,2),0]*2) #first column times two\n",
    "print(data.loc[(1960,2)].sum()) #summed across all columns (including the sum in column 0 already)\n",
    "#Column 1 and 2 contain labour and capital\n",
    "print(data.loc[(2005,2),0:2])\n",
    "#Columns 3 to 90 contain the 88 sectors\n",
    "#Colum 91 contains noncompetitive imports\n"
   ]
  },
  {
   "cell_type": "code",
   "execution_count": 136,
   "id": "7670f8e1-a673-4a1f-b2ac-90f597e4f636",
   "metadata": {},
   "outputs": [
    {
     "data": {
      "text/plain": [
       "year\n",
       "1960.0    0.0\n",
       "1961.0    0.0\n",
       "1962.0    0.0\n",
       "1963.0    0.0\n",
       "1964.0    0.0\n",
       "1965.0    0.0\n",
       "1966.0    0.0\n",
       "1967.0    0.0\n",
       "1968.0    0.0\n",
       "1969.0    0.0\n",
       "1970.0    0.0\n",
       "1971.0    0.0\n",
       "1972.0    0.0\n",
       "1973.0    0.0\n",
       "1974.0    0.0\n",
       "1975.0    0.0\n",
       "1976.0    0.0\n",
       "1977.0    0.0\n",
       "1978.0    0.0\n",
       "1979.0    0.0\n",
       "1980.0    0.0\n",
       "1981.0    0.0\n",
       "1982.0    0.0\n",
       "1983.0    0.0\n",
       "1984.0    0.0\n",
       "1985.0    0.0\n",
       "1986.0    0.0\n",
       "1987.0    0.0\n",
       "1988.0    0.0\n",
       "1989.0    0.0\n",
       "1990.0    0.0\n",
       "1991.0    0.0\n",
       "1992.0    0.0\n",
       "1993.0    0.0\n",
       "1994.0    0.0\n",
       "1995.0    0.0\n",
       "1996.0    0.0\n",
       "1997.0    0.0\n",
       "1998.0    0.0\n",
       "1999.0    0.0\n",
       "2000.0    0.0\n",
       "2001.0    0.0\n",
       "2002.0    0.0\n",
       "2003.0    0.0\n",
       "2004.0    0.0\n",
       "2005.0    0.0\n",
       "Name: 62.0, dtype: float64"
      ]
     },
     "execution_count": 136,
     "metadata": {},
     "output_type": "execute_result"
    }
   ],
   "source": [
    "#delete 10 sectors\n",
    "removable_sectors = [59] + list(range(79, 88))\n",
    "data2 = data.drop(index=removable_sectors, level=1)\n",
    "\n",
    "#key aggregates\n",
    "grossy = data2.loc[:,0].unstack().T\n",
    "capital = data2.loc[:,1].unstack().T\n",
    "labor = data2.loc[:,2].unstack().T\n",
    "vadd = labor + capital\n",
    "\n",
    "#remaining sector list\n",
    "sec = list(range(1,89))\n",
    "for i in removable_sectors:\n",
    "    sec.remove(i)\n",
    "len(sec)\n",
    "\n",
    "#step of deleting zero rows, is strange!\n",
    "#list of nonzero rows is exaclty same as list of remaining sectors\n",
    "#nonzero row would be sectors with no output. I can identify 2: uranium (8) and rening of machinery (62). Labour has one additional \n",
    "#Why not identified in MatLab code?\n",
    "\n",
    "\n",
    "#use df.loc[~(df==0).all(axis=1)] to delete zero rows\n",
    "\n",
    "stfp = load_stfp()\n",
    "Σ = np.cov(stfp, rowvar=False)\n",
    "μ = np.mean(stfp, axis=1)\n",
    "\n",
    "grossy.loc[62]"
   ]
  },
  {
   "cell_type": "markdown",
   "id": "94e008f0-2fd9-4047-a905-4c7b421df2ea",
   "metadata": {},
   "source": [
    "# Construction Site Below HERE"
   ]
  },
  {
   "cell_type": "markdown",
   "id": "55d7cee0-eb24-4438-a843-37c8492c7124",
   "metadata": {},
   "source": [
    "## Creating usable variables\n",
    "Function that creates the metrics for a given year"
   ]
  },
  {
   "cell_type": "code",
   "execution_count": 38,
   "id": "55c4642f-5b8c-4e71-a169-7f9b7948a744",
   "metadata": {},
   "outputs": [],
   "source": [
    "def get_variables(year):\n",
    "    IO = data[data[:, 0] == year, :]\n",
    "    temp = [7, 59, 61] + list(range(79, 88))\n",
    "    IO = np.delete(IO, temp, axis=1)\n",
    "    IO = np.delete(IO, [0, 1, 2, 3, 4, 93], axis=1)\n",
    "    IO = np.delete(IO, temp, axis=1)\n",
    "    Ω = IO / np.sum(IO, axis=1, keepdims=True)\n",
    "    α = vadd[:, year-1959] / grossy[:, year-1959]\n",
    "    β = np.dot((np.eye(46) - np.diag(1 - α)).T @ Ω, grossy[:, year-1959])\n",
    "    β[β < 0] = 0\n",
    "    β = β / np.sum(β)\n",
    "    λ = np.linalg.inv(np.eye(46) - np.diag(1 - α)) @ β\n",
    "    L = λ * α\n",
    "\n",
    "    return α, β, Ω, L, λ\n"
   ]
  },
  {
   "cell_type": "code",
   "execution_count": 59,
   "id": "64cd9575-e7be-48cb-a137-cfa5dd1caf2c",
   "metadata": {},
   "outputs": [
    {
     "data": {
      "text/plain": [
       "array([[ 73265.058],\n",
       "       [  1596.588],\n",
       "       [  1374.003],\n",
       "       [  2005.765],\n",
       "       [  1790.021],\n",
       "       [  1528.983],\n",
       "       [ 11531.672],\n",
       "       [     0.   ],\n",
       "       [100963.432],\n",
       "       [ 16962.221],\n",
       "       [  7238.471],\n",
       "       [ 11491.969],\n",
       "       [ 49460.372],\n",
       "       [ 30727.294],\n",
       "       [ 32559.416],\n",
       "       [  6051.804],\n",
       "       [  2965.284],\n",
       "       [  4623.179],\n",
       "       [ 12225.807],\n",
       "       [  4420.601],\n",
       "       [  5792.324],\n",
       "       [ 53813.784],\n",
       "       [ 11460.877],\n",
       "       [  2347.554],\n",
       "       [  3568.559],\n",
       "       [  4179.546],\n",
       "       [  1840.47 ],\n",
       "       [  3149.763],\n",
       "       [  6568.919],\n",
       "       [ 97442.274],\n",
       "       [  2890.464],\n",
       "       [ 20396.675],\n",
       "       [ 17010.602],\n",
       "       [  3376.722],\n",
       "       [ 19289.785],\n",
       "       [  7252.271],\n",
       "       [  6595.53 ],\n",
       "       [ 32279.448],\n",
       "       [  3227.311],\n",
       "       [ 27419.191],\n",
       "       [ 13327.607],\n",
       "       [  6181.649],\n",
       "       [  1111.364],\n",
       "       [ 19936.197],\n",
       "       [  4558.526],\n",
       "       [  6133.539],\n",
       "       [  1426.   ],\n",
       "       [ 16873.85 ],\n",
       "       [  1998.213],\n",
       "       [ 14132.091],\n",
       "       [ 13160.907],\n",
       "       [  1900.252],\n",
       "       [ 43746.239],\n",
       "       [ 31936.083],\n",
       "       [  8338.045],\n",
       "       [ 22077.315],\n",
       "       [  7735.544],\n",
       "       [  5403.474],\n",
       "       [ 13391.866],\n",
       "       [     0.   ],\n",
       "       [ 24934.747],\n",
       "       [     0.   ],\n",
       "       [  4863.397],\n",
       "       [  7908.243],\n",
       "       [ 14166.194],\n",
       "       [  1351.262],\n",
       "       [  7641.262],\n",
       "       [  4320.502],\n",
       "       [  2715.263],\n",
       "       [  4739.001],\n",
       "       [ 10132.405],\n",
       "       [  1633.449],\n",
       "       [  6782.319],\n",
       "       [  3223.358],\n",
       "       [  6327.617],\n",
       "       [  6763.21 ],\n",
       "       [ 11082.845],\n",
       "       [  2251.081],\n",
       "       [  7733.939],\n",
       "       [     0.   ],\n",
       "       [     0.   ],\n",
       "       [  3063.654],\n",
       "       [     0.   ],\n",
       "       [     0.   ],\n",
       "       [     0.   ],\n",
       "       [     0.   ],\n",
       "       [  7404.055],\n",
       "       [     0.   ]])"
      ]
     },
     "execution_count": 59,
     "metadata": {},
     "output_type": "execute_result"
    }
   ],
   "source": [
    "year = 1973\n",
    "IO = data[data[:, 0] == year, :]\n",
    "temp = [7, 59, 61] + list(range(79, 88))\n",
    "IO = np.delete(IO, temp, axis=1)\n",
    "IO = np.delete(IO, [0, 1, 2, 3, 4], axis=1) #deleted 93 here\n",
    "#IO = np.delete(IO, temp, axis=1) #why deleting it again?\n",
    "#Ω = IO / np.sum(IO, axis=1, keepdims=True)\n",
    "np.sum(IO, axis=1, keepdims=True) #Have zeero elements, can't divide through\n",
    "#α = vadd[:, year-1959] / grossy[:, year-1959]\n",
    "#β = np.dot((np.eye(46) - np.diag(1 - α)).T @ Ω, grossy[:, year-1959])\n",
    "#β[β < 0] = 0\n",
    "#β = β / np.sum(β)\n",
    "#λ = np.linalg.inv(np.eye(46) - np.diag(1 - α)) @ β\n",
    "#L = λ * α"
   ]
  },
  {
   "cell_type": "markdown",
   "id": "179d103c-a720-4bff-9b37-1ffd42f2d349",
   "metadata": {},
   "source": [
    "## Elasticities"
   ]
  },
  {
   "cell_type": "code",
   "execution_count": null,
   "id": "7c6e12c3-258f-4013-ae6c-77cee418b3ce",
   "metadata": {},
   "outputs": [],
   "source": [
    "ε = .5;\n",
    "θ = 0.001;\n",
    "σ = .9;"
   ]
  },
  {
   "cell_type": "markdown",
   "id": "362759e2-3dc3-4226-8bee-e9bdb79bd7d0",
   "metadata": {},
   "source": [
    "## Objective Function\n",
    "\n",
    "Here the objective function in `SimulationDerivs.m` is formulated, also the Jacobian is given, to helpt the solver."
   ]
  },
  {
   "cell_type": "code",
   "execution_count": 39,
   "id": "ef4b0373-f727-4d45-a9a7-6fc3f0a1c954",
   "metadata": {},
   "outputs": [],
   "source": [
    "def problem(X, A, β, Ω, α, ε, θ, σ, L):\n",
    "    N = len(α)\n",
    "    p = X[:N]\n",
    "    y = X[N:]\n",
    "\n",
    "    Out = np.zeros(2 * N, dtype=X.dtype)\n",
    "\n",
    "    q = (Ω @ (p ** (1 - θ))) ** (1 / (1 - θ))\n",
    "    w = p * (A ** ((ε - 1) / ε)) * (α ** (1 / ε)) * (y ** (1 / ε)) * L ** (-1 / ε)\n",
    "    C = np.dot(w, L)\n",
    "\n",
    "    Out[:N] = p - (A ** (ε - 1) * (α * w ** (1 - ε) + (1 - α) * q ** (1 - ε))) ** (1 / (1 - ε))\n",
    "    Out[N:] = y - np.dot(np.dot(np.dot(np.dot(np.dot(y.T, np.diag(p) ** ε), np.diag(A) ** (ε - 1)), np.diag(q) ** (θ - ε)), np.diag(1 - α)), np.dot(np.dot(Ω, np.diag(p) ** (-θ)), β)) - np.dot(β.T, np.diag(p) ** (-σ) * C)\n",
    "\n",
    "    return Out\n"
   ]
  },
  {
   "cell_type": "code",
   "execution_count": 44,
   "id": "0d9c9347-8a24-4cf9-96ea-99b02f37be36",
   "metadata": {},
   "outputs": [],
   "source": [
    "def problem_jacobian(X, A, β, Ω, α, ε, θ, σ, L):\n",
    "    N = len(α)\n",
    "    p = X[:N]\n",
    "    y = X[N:]\n",
    "\n",
    "    Out = np.zeros((2 * N, 2 * N), dtype=X.dtype)\n",
    "\n",
    "    q = (Ω @ (p ** (1 - θ))) ** (1 / (1 - θ))\n",
    "    w = p * (A ** ((ε - 1) / ε)) * (α ** (1 / ε)) * (y ** (1 / ε)) * L ** (-1 / ε)\n",
    "    C = np.dot(w, L)\n",
    "\n",
    "    DQDP = (q ** θ * (p ** (-θ))[:, np.newaxis]) * Ω\n",
    "    DWDP = np.diag(A ** ((ε - 1) / ε) * α ** (1 / ε) * y ** (1 / ε) * (1 / L) ** (1 / ε))\n",
    "    DWDY = (1 / ε) * np.diag(p * A ** ((ε - 1) / ε) * α ** (1 / ε) * (y ** (1 - ε)) * L ** (-1 / ε))\n",
    "    DCDP = np.dot(L.T, DWDP)\n",
    "    DCDY = np.dot(L.T, DWDY)\n",
    "\n",
    "    DOut1DP = np.eye(N) - np.diag(np.diag(A) ** (-1) * ((α * (w ** (1 - ε)) + (1 - α) * (q ** (1 - ε)))) ** (ε / (1 - ε))) @ (np.diag(α) @ np.diag(w ** (-ε)) @ DWDP + np.diag(1 - α) @ np.diag(q ** (-ε)) @ DQDP)\n",
    "\n",
    "    DOut1DY = -np.diag(np.diag(A ** (-1)) * ((α * (w ** (1 - ε)) + (1 - α) * (q ** (1 - ε)))) ** (ε / (1 - ε))) @ (np.diag(α) @ np.diag(w ** (-ε)) @ DWDY)\n",
    "\n",
    "    DOut2DP = -(ε * np.diag(p ** (-θ)) @ Ω.T @ np.diag((p ** (ε - 1)) * y * (q ** (θ - ε)) * (1 - α) * (A ** (ε - 1))) \\\n",
    "        + (θ - ε) * np.diag(p ** (-θ)) @ Ω.T @ np.diag((p ** ε) * y * (q ** (θ - ε - 1)) * (1 - α) * (A ** (ε - 1))) @ DQDP \\\n",
    "        - σ * np.diag(β * p ** (-σ - 1)) @ C + (β * (p ** (-σ))[:, np.newaxis] * DCDP.T)) \\\n",
    "        - θ * np.diag(p ** (-θ - 1)) @ np.diag(Ω.T @ np.diag((p ** ε) * (q ** (θ - ε)) * (1 - α) * (A ** (ε - 1))) @ y)\n",
    "\n",
    "    DOut2DY = np.eye(N) - (np.diag(p) ** ε @ np.diag(A) ** (ε - 1) @ np.diag(q) ** (θ - ε) @ np.diag(1 - α) @ Ω @ np.diag(p ** (-θ))).T - (β * (p ** (-σ))[:, np.newaxis] * DCDY.T)\n",
    "    \n",
    "    OutDeriv = np.hstack((np.vstack((DOut1DP, DOut1DY)), np.vstack((DOut2DP, DOut2DY))))\n",
    "\n",
    "    return OutDeriv\n"
   ]
  },
  {
   "cell_type": "markdown",
   "id": "c29e2d8c-5656-4034-a4db-3b091fab4877",
   "metadata": {},
   "source": [
    "## Generating Random Shocks"
   ]
  },
  {
   "cell_type": "code",
   "execution_count": 45,
   "id": "45028840-a97b-452d-92ff-5bd423b4b672",
   "metadata": {},
   "outputs": [],
   "source": [
    "from scipy.stats import multivariate_normal\n",
    "\n",
    "def generate_random_shock(Σ, α, Ω, λ):\n",
    "    n = len(Σ)\n",
    "    cov_matrix = -0.5 * np.diag(Σ)\n",
    "    A = np.exp(multivariate_normal.rvs(mean=np.zeros(n), cov=cov_matrix))\n",
    "    \n",
    "    inv_term = np.linalg.inv(np.eye(n) - np.diag(1 - α) @ Ω)\n",
    "    log_A = np.log(A)\n",
    "    init = np.concatenate((np.exp(-inv_term @ log_A), λ / np.exp(-inv_term @ log_A)))\n",
    "    \n",
    "    return A, init\n"
   ]
  },
  {
   "cell_type": "markdown",
   "id": "d3d4d553-f149-4cb1-91a2-4396307ebdbb",
   "metadata": {},
   "source": [
    "## Solving for shocks"
   ]
  },
  {
   "cell_type": "code",
   "execution_count": 50,
   "id": "0426cafc-5fb6-46d2-8b7f-f352df3c8b6f",
   "metadata": {},
   "outputs": [
    {
     "ename": "IndexError",
     "evalue": "index 93 is out of bounds for axis 0 with size 82",
     "output_type": "error",
     "traceback": [
      "Traceback \u001b[1;36m(most recent call last)\u001b[0m:\n",
      "\u001b[0m  Cell \u001b[0;32mIn[50], line 4\u001b[0m\n    α, β, Ω, L, λ = get_variables(1973)  # You need to define and use the appropriate get_variables function.\u001b[0m\n",
      "\u001b[0m  Cell \u001b[0;32mIn[38], line 5\u001b[0m in \u001b[0;35mget_variables\u001b[0m\n    IO = np.delete(IO, [0, 1, 2, 3, 4, 93], axis=1)\u001b[0m\n",
      "\u001b[0m  File \u001b[0;32m<__array_function__ internals>:200\u001b[0m in \u001b[0;35mdelete\u001b[0m\n",
      "\u001b[1;36m  File \u001b[1;32m~\\Anaconda3\\envs\\Jupyter_plugin\\lib\\site-packages\\numpy\\lib\\function_base.py:5235\u001b[1;36m in \u001b[1;35mdelete\u001b[1;36m\n\u001b[1;33m    keep[obj,] = False\u001b[1;36m\n",
      "\u001b[1;31mIndexError\u001b[0m\u001b[1;31m:\u001b[0m index 93 is out of bounds for axis 0 with size 82\n"
     ]
    }
   ],
   "source": [
    "trials = 100\n",
    "GDP = np.zeros(trials)\n",
    "λ_sim = np.zeros((76, trials))\n",
    "α, β, Ω, L, λ = get_variables(1973) \n"
   ]
  },
  {
   "cell_type": "code",
   "execution_count": 46,
   "id": "02c8c19f-1cc2-44df-9017-c48afd989984",
   "metadata": {},
   "outputs": [
    {
     "ename": "ImportError",
     "evalue": "cannot import name 'NonlinearFunction' from 'scipy.optimize' (C:\\Users\\Rafael\\Anaconda3\\envs\\Jupyter_plugin\\lib\\site-packages\\scipy\\optimize\\__init__.py)",
     "output_type": "error",
     "traceback": [
      "Traceback \u001b[1;36m(most recent call last)\u001b[0m:\n",
      "\u001b[1;36m  Cell \u001b[1;32mIn[46], line 2\u001b[1;36m\n\u001b[1;33m    from scipy.optimize import NonlinearFunction, NonlinearProblem, root\u001b[1;36m\n",
      "\u001b[1;31mImportError\u001b[0m\u001b[1;31m:\u001b[0m cannot import name 'NonlinearFunction' from 'scipy.optimize' (C:\\Users\\Rafael\\Anaconda3\\envs\\Jupyter_plugin\\lib\\site-packages\\scipy\\optimize\\__init__.py)\n"
     ]
    }
   ],
   "source": [
    "import multiprocessing as mp\n",
    "from scipy.optimize import NonlinearFunction, NonlinearProblem, root\n",
    "\n",
    "# Parallel worker function\n",
    "def parallel_worker(k):\n",
    "    A, init = generate_random_shock(Σ, α, Ω, λ)\n",
    "    p = [A, β, Ω, α, ε, θ, σ, L]\n",
    "    prob = NonlinearProblem(lambda u: problem(u, *p), jac=lambda u: problem_jacobian(u, *p))\n",
    "    sol = root(prob, init, method='hybr')\n",
    "\n",
    "    x = np.real(sol.x)\n",
    "    p = x[:76]\n",
    "    q = x[76:]\n",
    "    gdp = np.dot(p * (A ** ((ε - 1) / ε)) * (α ** (1 / ε)) * (q ** (1 / ε)) * (L ** (-1 / ε)), L)\n",
    "    λ_sim[:, k] = (p * q) / gdp\n",
    "    return gdp\n",
    "\n",
    "# Parameters\n",
    "trials = 100\n",
    "GDP = np.zeros(trials)\n",
    "λ_sim = np.zeros((76, trials))\n",
    "\n",
    "α, β, Ω, L, λ = getVariables(1973)\n",
    "Σ = np.array(...)  # Replace with appropriate values for Σ\n",
    "\n",
    "# Parallel execution\n",
    "num_processes = mp.cpu_count()\n",
    "with mp.Pool(processes=num_processes) as pool:\n",
    "    results = pool.map(parallel_worker, range(trials))\n",
    "    GDP = np.array(results)\n",
    "\n",
    "# Now you have both GDP and λ_sim populated after the parallel execution"
   ]
  },
  {
   "cell_type": "code",
   "execution_count": null,
   "id": "8b0eefdf-8d14-4eb9-9faf-fe149cebff53",
   "metadata": {},
   "outputs": [],
   "source": [
    "trials = 100;\n",
    "GDP = SharedVector(zeros(trials))\n",
    "λ_sim = SharedMatrix(zeros(76, trials))\n",
    "α, β, Ω, L, λ = getVariables(1973);\n",
    "f = NonlinearFunction((u, p) -> problem(u, p...), jac=(u, p) -> problemJacobian(u, p...))\n",
    "\n",
    "@distributed for k in 1:trials\n",
    "\n",
    "    A, init = generateRandomShock(Σ, α, Ω, λ)\n",
    "\n",
    "    p = [A, β, Ω, α, ε, θ, σ, L]\n",
    "\n",
    "    ProbN = NonlinearProblem(f, init, p)\n",
    "    sol = solve(ProbN, NLSolveJL(linesearch=HagerZhang(), method=:newton), reltol=1e-8, abstol=1e-8)\n",
    "\n",
    "    x = real.(sol.u)\n",
    "\n",
    "    p = @view x[1:76]\n",
    "    q = @view x[77:end]\n",
    "    GDP[k] = (p .* (A .^ ((ε - 1) / ε)) .* (α .^ (1 / ε)) .* (q .^ (1 / ε)) .* L .^ (-1 / ε))' * L\n",
    "    λ_sim[:, k] .= (p .* q) ./ GDP[k]\n",
    "\n",
    "end"
   ]
  }
 ],
 "metadata": {
  "kernelspec": {
   "display_name": "Python 3 (Spyder)",
   "language": "python3",
   "name": "python3"
  },
  "language_info": {
   "codemirror_mode": {
    "name": "ipython",
    "version": 3
   },
   "file_extension": ".py",
   "mimetype": "text/x-python",
   "name": "python",
   "nbconvert_exporter": "python",
   "pygments_lexer": "ipython3",
   "version": "3.8.17"
  }
 },
 "nbformat": 4,
 "nbformat_minor": 5
}

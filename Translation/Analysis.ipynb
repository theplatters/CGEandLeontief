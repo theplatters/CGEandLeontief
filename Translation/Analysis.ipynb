{
 "cells": [
  {
   "cell_type": "code",
   "execution_count": 4,
   "id": "8753bdc5-e882-4c61-a8f2-c8c9b79c961f",
   "metadata": {},
   "outputs": [],
   "source": [
    "using MAT, Statistics, LinearAlgebra,Random, Plots"
   ]
  },
  {
   "cell_type": "code",
   "execution_count": 5,
   "id": "196a4e30-3fd6-4ea1-8cae-d59d4018151d",
   "metadata": {},
   "outputs": [
    {
     "data": {
      "text/plain": [
       "mvnrnd (generic function with 1 method)"
      ]
     },
     "execution_count": 5,
     "metadata": {},
     "output_type": "execute_result"
    }
   ],
   "source": [
    "include(\"mvnrnd.jl\")"
   ]
  },
  {
   "cell_type": "markdown",
   "id": "7edec650-2702-4d81-95f7-7ea02545dd1c",
   "metadata": {},
   "source": [
    "Reads in all the variables optained that are used in line 93 and onwards and are defined before that."
   ]
  },
  {
   "cell_type": "code",
   "execution_count": 6,
   "id": "43cbe81d-fdda-4954-bfe6-f40a0184aadd",
   "metadata": {},
   "outputs": [],
   "source": [
    "function string_as_varname(s::AbstractString,v::Any)\n",
    "         s=Symbol(s)\n",
    "         @eval (($s) = ($v))\n",
    "end\n",
    "\n",
    "file = matopen(\"simulationData.mat\")\n",
    "\n",
    "\n",
    "\n",
    "varnames = names(file) \n",
    "#[IO, price, Omega, data, labor, mu, aggtfp, alpha, grossy, stfp, beta, agggdp, Sigma, capital, vadd]\n",
    "for varname in varnames\n",
    "    val = read(file, varname)\n",
    "    # Instantiate the variable with its name in the current scope\n",
    "    string_as_varname(varname,val)\n",
    "    end\n",
    "\n",
    "close(file)"
   ]
  },
  {
   "cell_type": "markdown",
   "id": "02220dec-96c3-45e0-9e7d-0246353d1fa9",
   "metadata": {},
   "source": [
    "We now want to figure out what every variable stands for, and where it comes from.\n",
    "So far we know:\n",
    "- **IO**: Input-Output Matrix\n",
    "- **STFP** Sectoral TFP Groth per anno\n",
    "- **$\\Omega$**: I think this is the same as in *Definition 3* Es gilt $$(\\Omega)_i^j = \\frac {(\\mathit{IO})_i^j} {\\sum_{k=0}^N(\\mathit{IO}_k^j)}$$ Also der Anteil eines Sektors $i$ an der Gesamptproduktion des Sektors $j$\n",
    "- **$\\Sigma$**: Covarianz von SFTP\n",
    "- **$\\mu$**: Rowwise mean of stfp. So the mean annual groth of each sector\n",
    "- **data**: quantity data matrix\n",
    "- **price**: price data matrix. I think price and data are for our anyalsis quite useless, they are used as building blocks\n",
    "- **grossy** nominal gross output\n",
    "- **vadd** nominal value added\n",
    "- **labor** nominal labor\n",
    "- **capital** nominal captial\n",
    "- **$\\alpha$**: vadd / grossy. "
   ]
  },
  {
   "cell_type": "markdown",
   "id": "6cecbba8-ad27-4340-8352-0879d677bcef",
   "metadata": {},
   "source": [
    "This is not used anywhere in the code."
   ]
  },
  {
   "cell_type": "code",
   "execution_count": 7,
   "id": "e016ae2b-1224-46a9-9e84-d1e44e3da203",
   "metadata": {},
   "outputs": [],
   "source": [
    "cum_stfp = cumsum(log.(1 .+ stfp)',dims=1);\n",
    "cum_stfp_4year = cum_stfp[:,begin:4:end];\n",
    "covariance_4year = Statistics.cov(cum_stfp_4year,dims=2,corrected=false);"
   ]
  },
  {
   "cell_type": "markdown",
   "id": "63a3ef56-7cc6-4b7c-80cc-c81dcbe1158b",
   "metadata": {},
   "source": [
    "Here comes the randomness. As far as i can tell the generated vector $x$ has mean $\\mu = \\text{Var}(\\mathit{stfp})$ and $\\sigma = \\text{Var}(\\mathit{stfp})$ Because $\\sigma$ is a Diagonal Matrix, there is no correlation between each random number, what makes this rather perculiar. Intuition wise I would say, that this implies, that the shocks are independent of one-another.\n",
    "\n",
    "$$(A)_i^j = e^{x_i}$$"
   ]
  },
  {
   "cell_type": "code",
   "execution_count": 8,
   "id": "e9d051ee-5243-474b-91af-878ef1ccf2e3",
   "metadata": {},
   "outputs": [],
   "source": [
    "A = exp.(mvnrnd(-1/2*diag(Sigma),diagm(diag(Sigma))));"
   ]
  },
  {
   "cell_type": "markdown",
   "id": "9f20372c-a460-4a3d-880a-984a4f019e17",
   "metadata": {},
   "source": [
    "Let's write the formulas for everything down, in an hope to understand it better\n",
    "\n",
    "$$q = (\\Omega \\cdot p^{1-\\theta})^{\\frac 1 {1-\\theta}}$$\n",
    "$$w_i = (p_i \\cdot A_i^{\\frac {1 - \\epsilon}{\\epsilon}} \\cdot \\alpha_i^{\\epsilon^{-1}} * y_i^{\\epsilon^{-1}} \\cdot L^{-1 \\epsilon^{-1}}) \\quad 1 \\leq i \\leq N$$ "
   ]
  },
  {
   "cell_type": "code",
   "execution_count": null,
   "id": "823279c9-4d8a-4e6d-b82e-d3835c1cb758",
   "metadata": {},
   "outputs": [],
   "source": [
    "function [outineq, Out, outineq2, OutDeriv]=Simulation_Derivs(X, A, beta, Omega, alpha, epsilon, theta, sigma,L) % no reallocation of labor\n",
    "    N = length(alpha);\n",
    "    p = X(1:N);\n",
    "    y = X(N+1:2*N);\n",
    "\n",
    "    q = (Omega*(p.^(1-theta))).^(1/(1-theta));0\n",
    "    w = p.*(A.^((epsilon-1)/epsilon)).*(alpha.^(1/epsilon)).*(y.^(1/epsilon)).*(1./L).^(1/epsilon);\n",
    "    C = w'*L;\n",
    "\n",
    "    Out(1:N) = p - (diag(A)^(epsilon-1)*(alpha.*w.^(1-epsilon)+(1-alpha).*q.^(1-epsilon))).^(1/(1-epsilon));\n",
    "    Out(N+1:2*N) = y' -y'*diag(p)^epsilon*diag(A)^(epsilon-1)*diag(q)^(theta-epsilon)*diag(1-alpha)*Omega*diag(p)^(-theta) - beta'*diag(p)^(-sigma)*C;\n",
    "    Out = Out';\n",
    "    outineq = [];\n",
    "    outineq2 = [];\n",
    "\n",
    "    DQDP = bsxfun(@times, (q.^theta), (p.^(-theta))').*Omega; % \n",
    "    DWDP = diag((A.^((epsilon-1)/epsilon)).*(alpha.^(1/epsilon)).*(y.^(1/epsilon)).*(1./L).^(1/epsilon)); %checked\n",
    "    DWDY = (1/epsilon)*diag(p.*(A.^((epsilon-1)/epsilon)).*(alpha.^(1/epsilon)).*(y.^(1/epsilon-1)).*(L).^(-1/epsilon)); %checked\n",
    "    DCDP = DWDP'*L; %checked\n",
    "    DCDY = DWDY'*L;%checked\n",
    "    DOut1DP = eye(N) - diag(diag(A)^(-1)*((alpha.*(w.^(1-epsilon))+(1-alpha).*(q.^(1-epsilon)))).^(epsilon/(1-epsilon)))*...\n",
    "        (diag(alpha)*diag(w.^(-epsilon))*DWDP+diag(1-alpha)*diag(q.^(-epsilon))*DQDP);\n",
    "\n",
    "    DOut1DY =  -diag(diag(A.^(-1))*((alpha.*(w.^(1-epsilon))+(1-alpha).*(q.^(1-epsilon)))).^(epsilon/(1-epsilon)))*...\n",
    "        (diag(alpha)*diag(w.^(-epsilon))*DWDY);\n",
    "\n",
    "    DOut2DP = -(epsilon * diag(p.^(-theta))*Omega'*diag((p.^(epsilon-1)).*(y).*(q.^(theta-epsilon)).*(1-alpha).*(A.^(epsilon-1)))...\n",
    "        +(theta-epsilon)*diag(p.^(-theta))*Omega'*diag((p.^(epsilon)).*(y).*(q.^(theta-epsilon-1)).*(1-alpha).*(A.^(epsilon-1)))*DQDP ...\n",
    "        -sigma*diag(beta.*p.^(-sigma-1))*C+ bsxfun(@times, beta.*(p.^(-sigma)), DCDP')...\n",
    "        - theta* diag(p.^(-theta-1)).*diag(Omega'*diag((p.^(epsilon)).*(q.^(theta-epsilon)).*(1-alpha).*(A.^(epsilon-1)))*y));\n",
    "\n",
    "    DOut2DY = eye(N) - (diag(p)^epsilon*diag(A)^(epsilon-1)*diag(q)^(theta-epsilon)*diag(1-alpha)*Omega*diag(p)^(-theta))' - bsxfun(@times, beta.*(p.^(-sigma)), DCDY');\n",
    "    OutDeriv = [DOut1DP DOut1DY; DOut2DP DOut2DY]';\n",
    "\n",
    "end"
   ]
  }
 ],
 "metadata": {
  "kernelspec": {
   "display_name": "Julia 1.8.0",
   "language": "julia",
   "name": "julia-1.8"
  },
  "language_info": {
   "file_extension": ".jl",
   "mimetype": "application/julia",
   "name": "julia",
   "version": "1.8.0"
  }
 },
 "nbformat": 4,
 "nbformat_minor": 5
}

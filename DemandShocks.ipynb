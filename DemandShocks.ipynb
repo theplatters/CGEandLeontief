{
 "cells": [
  {
   "cell_type": "code",
   "execution_count": 1,
   "metadata": {},
   "outputs": [
    {
     "data": {
      "text/plain": [
       "Main.CESModel"
      ]
     },
     "metadata": {},
     "output_type": "display_data"
    }
   ],
   "source": [
    "include(\"src/model.jl\")"
   ]
  },
  {
   "cell_type": "markdown",
   "metadata": {},
   "source": [
    "## Loading in Data"
   ]
  },
  {
   "cell_type": "code",
   "execution_count": 2,
   "metadata": {},
   "outputs": [],
   "source": [
    "data = CESModel.read_data(\"I-O_DE2019_formatiert.csv\")"
   ]
  },
  {
   "cell_type": "markdown",
   "metadata": {},
   "source": [
    "## Setting Elasticities"
   ]
  },
  {
   "cell_type": "markdown",
   "metadata": {},
   "source": [
    "Es können verschiedene Elastizitäten gesetzt werden, die hier verwendeten sind übernommen aus B&F 2019 \n",
    "(el. of substitiution of inermediates = 0.0001, el labor/intermediates  = 0.5 el. of consumption = 0.9)"
   ]
  },
  {
   "cell_type": "code",
   "execution_count": null,
   "metadata": {},
   "outputs": [],
   "source": [
    "elasticities = CESModel.Elasticities(0.0001, 0.5, 0.9)"
   ]
  },
  {
   "cell_type": "markdown",
   "metadata": {},
   "source": [
    "## Setting Shocks"
   ]
  },
  {
   "cell_type": "markdown",
   "metadata": {},
   "source": [
    "Shocks können entweder mit `calculate_investment!` in  1000€ eingegeben werden, oder die einzelnen Elemente im Vektor können auch direkt verändernt werden (z.b `supply_shock[12] = 1.2`), was dann einem Anstieg an demand von 20% entsrpicht."
   ]
  },
  {
   "cell_type": "code",
   "execution_count": null,
   "metadata": {},
   "outputs": [],
   "source": [
    "deman_shock = ones(71)\n",
    "supply_shock = ones(71)\n",
    "shocks = CESModel.Shocks(supply_shock,deman_shock) \n",
    "#shocks.demand_shock[35] = 1.09\n",
    "CESModel.calculate_investment!(shocks,data,25000,\"Vorb.Baustellen-,Bauinstallations-,Ausbauarbeiten\")"
   ]
  },
  {
   "cell_type": "markdown",
   "metadata": {},
   "source": [
    "## Full labor reallocation"
   ]
  },
  {
   "cell_type": "code",
   "execution_count": null,
   "metadata": {},
   "outputs": [],
   "source": [
    "price,quantity = CESModel.solve_ces_model(data,shocks,elasticities)"
   ]
  },
  {
   "cell_type": "code",
   "execution_count": null,
   "metadata": {},
   "outputs": [],
   "source": [
    "println(\"Real GDP: $(CESModel.real_gdp(price,quantity,data))\")\n",
    "println(\"Nominal GDP: $(CESModel.nominal_gdp(price,quantity,data))\")\n"
   ]
  },
  {
   "cell_type": "markdown",
   "metadata": {},
   "source": [
    "## No labor reallocation "
   ]
  },
  {
   "cell_type": "markdown",
   "metadata": {},
   "source": [
    "Es können verschiedene Funktionen angegeben werden,die zurückgeben wie viel Arbeit in den einzelnen Sektoren verfügbar. Hier in diesem Fall, ist keine zusätzliche Arbeit verfügbar, die funktion könnte aber auch zum Beispiel so aussehen: \n",
    "```julia\n",
    "labor_realloc(data) = min(1.05 * data.labor_share,inv(I - diagm(1 .- data.factor_share) * data.Ω) * (data.consumption_share_gross_output .* ((data.shocks.demand_shock .* data.labor_share) - data.labor_share)) + data.labor_share)\n",
    "``` \n",
    "(maximal 5% der verfügbaren Arbeit kann zusätzlich verwendet werden um der gesteigerten Nachfrage nachzukommen)"
   ]
  },
  {
   "cell_type": "code",
   "execution_count": null,
   "metadata": {},
   "outputs": [],
   "source": [
    "labor_realloc(data) = data.labor_share #no labor_reallocation"
   ]
  },
  {
   "cell_type": "code",
   "execution_count": null,
   "metadata": {},
   "outputs": [],
   "source": [
    "price,quantity = CESModel.solve_ces_model(data,shocks,elasticities,labor_reallocation = labor_realloc)"
   ]
  },
  {
   "cell_type": "code",
   "execution_count": null,
   "metadata": {},
   "outputs": [],
   "source": [
    "println(\"Real GDP: $(CESModel.real_gdp(price,quantity,data))\")\n",
    "println(\"Nominal GDP: $(CESModel.nominal_gdp(price,quantity,data))\")"
   ]
  },
  {
   "cell_type": "code",
   "execution_count": null,
   "metadata": {},
   "outputs": [],
   "source": [
    "using LinearAlgebra\n",
    "using Distributed, SharedArrays\n",
    "shock_values = LinRange(1.0,1.8,50)\n",
    "supply_shock = ones(71)\n",
    "\n",
    "GDP_no_realloc_nominal = SharedArray(zeros(71,51))\n",
    "GDP_nominal = SharedArray(zeros(71,50))\n",
    "\n",
    "@distributed for i in 1:71\n",
    "    init = Complex.([ones(71)..., data.λ...])\n",
    "    for (k,shock_value) in enumerate(shock_values)\n",
    "        demand_shock = ones(71)\n",
    "        demand_shock[i] = shock_value\n",
    "        shock = CESModel.Shocks(supply_shock,demand_shock)\n",
    "\n",
    "        p,q = CESModel.solve_ces_model(data,shock,elasticities,init = init,labor_reallocation = labor_realloc)\n",
    "        GDP_no_realloc_nominal[i,k] = CESModel.nominal_gdp(p,q,data)\n",
    "        init = Complex.([p...,q...])\n",
    "    end\n",
    "end\n",
    "\n",
    "@distributed for i in 1:71\n",
    "    init = Complex.([ones(71)..., data.λ...])\n",
    "    for (k,shock_value) in enumerate(shock_values)\n",
    "        demand_shock = ones(71)\n",
    "        demand_shock[i] = shock_value\n",
    "        shock = CESModel.Shocks(supply_shock,demand_shock)\n",
    "\n",
    "        p,q = CESModel.solve_ces_model(data,shock,elasticities,init = init)\n",
    "        GDP_nominal[i,k] = CESModel.nominal_gdp(p,q,data)\n",
    "        init = Complex.([p...,q...])\n",
    "    end\n",
    "end"
   ]
  },
  {
   "cell_type": "code",
   "execution_count": null,
   "metadata": {},
   "outputs": [],
   "source": [
    "findmax(mapslices(row -> maximum(collect(LinRange(1,maximum(row),50)) - row),GDP,dims=2))"
   ]
  },
  {
   "cell_type": "code",
   "execution_count": null,
   "metadata": {},
   "outputs": [],
   "source": [
    "using DataFrames, CSV\n"
   ]
  },
  {
   "cell_type": "code",
   "execution_count": null,
   "metadata": {},
   "outputs": [],
   "source": [
    "using Plots\n",
    "scatter()\n",
    "for row in eachrow(GDP_no_realloc)\n",
    "    scatter!(row)\n",
    "end\n",
    "scatter!()"
   ]
  },
  {
   "cell_type": "code",
   "execution_count": null,
   "metadata": {},
   "outputs": [],
   "source": [
    "scatter()\n",
    "for row in eachrow(GDP)\n",
    "    scatter!(row)\n",
    "end\n",
    "scatter!()"
   ]
  },
  {
   "cell_type": "code",
   "execution_count": null,
   "metadata": {},
   "outputs": [],
   "source": [
    "plot()\n",
    "for row in eachrow(GDP)\n",
    "    plot!(row -  LinRange(1,maximum(row),50))\n",
    "end\n",
    "plot!()"
   ]
  },
  {
   "cell_type": "code",
   "execution_count": null,
   "metadata": {},
   "outputs": [],
   "source": [
    "shock_values = LinRange(1.0,1.8,50)\n",
    "supply_shock = ones(71)\n",
    "\n",
    "GDP_no_realloc = SharedArray(zeros(71,51))\n",
    "GDP = SharedArray(zeros(71,50))\n",
    "\n",
    "@distributed for i in 1:71\n",
    "    init = Complex.([ones(71)..., data.λ...])\n",
    "    for (k,shock_value) in enumerate(shock_values)\n",
    "        demand_shock = ones(71)\n",
    "        demand_shock[i] = shock_value\n",
    "        shock = CESModel.Shocks(supply_shock,demand_shock)\n",
    "\n",
    "        p,q = CESModel.solve_ces_model(data,shock,elasticities,init = init,labor_reallocation = labor_realloc)\n",
    "        GDP_no_realloc[i,k] = CESModel.real_gdp(p,q,data)\n",
    "        init = Complex.([p...,q...])\n",
    "    end\n",
    "end\n",
    "\n",
    "@distributed for i in 1:71\n",
    "    init = Complex.([ones(71)..., data.λ...])\n",
    "    for (k,shock_value) in enumerate(shock_values)\n",
    "        demand_shock = ones(71)\n",
    "        demand_shock[i] = shock_value\n",
    "        shock = CESModel.Shocks(supply_shock,demand_shock)\n",
    "\n",
    "        p,q = CESModel.solve_ces_model(data,shock,elasticities,init = init)\n",
    "        GDP[i,k] = CESModel.real_gdp(p,q,data)\n",
    "        init = Complex.([p...,q...])\n",
    "    end\n",
    "end\n"
   ]
  },
  {
   "cell_type": "code",
   "execution_count": null,
   "metadata": {},
   "outputs": [],
   "source": [
    "function savetabular(filname,gdp)\n",
    "    sectors = data.io.Sektoren[1:71]\n",
    "    df = DataFrame(gdp[1:end,:]',sectors)\n",
    "    df[:,:DemandShockAmount] = collect(shock_values)\n",
    "    CSV.write(joinpath(pwd(),\"data\",filname),df)\n",
    "end"
   ]
  },
  {
   "cell_type": "code",
   "execution_count": null,
   "metadata": {},
   "outputs": [],
   "source": []
  }
 ],
 "metadata": {
  "kernelspec": {
   "display_name": "Julia 1.9.3",
   "language": "julia",
   "name": "julia-1.9"
  },
  "language_info": {
   "file_extension": ".jl",
   "mimetype": "application/julia",
   "name": "julia",
   "version": "1.9.3"
  },
  "orig_nbformat": 4
 },
 "nbformat": 4,
 "nbformat_minor": 2
}

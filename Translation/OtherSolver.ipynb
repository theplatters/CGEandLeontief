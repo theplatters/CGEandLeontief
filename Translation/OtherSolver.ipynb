{
 "cells": [
  {
   "cell_type": "code",
   "execution_count": 2,
   "id": "80563cd6-b3d0-48cd-8e33-da93a826f1a2",
   "metadata": {},
   "outputs": [
    {
     "data": {
      "text/plain": [
       "mvnrnd (generic function with 1 method)"
      ]
     },
     "metadata": {},
     "output_type": "display_data"
    }
   ],
   "source": [
    "using MAT, Statistics, LinearAlgebra,Random, Plots, NonlinearSolve\n",
    "using StaticArrays, ForwardDiff, Distributed, StaticArrays, SciMLNLSolve, SimpleNonlinearSolve, LineSearches, NLsolve\n",
    "include(\"mvnrnd.jl\")"
   ]
  },
  {
   "cell_type": "code",
   "execution_count": 3,
   "id": "6f39525d-5736-43dd-a5bd-4e5855cb3ec3",
   "metadata": {},
   "outputs": [],
   "source": [
    "function string_as_varname(s::AbstractString,v::Any)\n",
    "    s=Symbol(s)\n",
    "    if size(v,2) == 1 # check if v is a column vector\n",
    "        @eval (($s) = (vec($v)))\n",
    "    else\n",
    "        @eval (($s) = ($v))\n",
    "    end\n",
    "end\n",
    "\n",
    "file = matopen(\"simulationData.mat\")\n",
    "\n",
    "#Reads in ju[IO, price, Omega, data, labor, mu, aggtfp, alpha, grossy, stfp, beta, agggdp, Sigma, capital, vadd]\n",
    "\n",
    "varnames = names(file)\n",
    "for varname in varnames\n",
    "    val = read(file, varname)\n",
    "    # Instantiate the variable with its name in the current scope\n",
    "    string_as_varname(varname,val)\n",
    "    end\n",
    "\n",
    "close(file)\n",
    "\n"
   ]
  },
  {
   "cell_type": "code",
   "execution_count": 4,
   "id": "92a41374-e6c9-4087-bef6-8d0a25cf1df1",
   "metadata": {},
   "outputs": [
    {
     "data": {
      "text/plain": [
       "getVariables (generic function with 1 method)"
      ]
     },
     "metadata": {},
     "output_type": "display_data"
    }
   ],
   "source": [
    "function getVariables(year)\n",
    "    IO = data[data[:,1] .== year,:]\n",
    "    temp = [8,60,62,80:88...]\n",
    "    IO = IO[setdiff(1:end,temp),setdiff(1:end,[1,2,3,4,5,94])]\n",
    "    IO = IO[:,setdiff(1:end,temp)]\n",
    "    Ω = IO ./ sum(IO,dims=2)\n",
    "    α = vadd[:,year-1959] ./ grossy[:,year-1959];\n",
    "    β = (grossy[:,year-1959]' * (I-diagm(1 .- α)*Ω))';\n",
    "    β[beta .< 0] .= 0\n",
    "    β = β / sum(β)\n",
    "    λ = (inv(I - diagm(1 .- alpha)*Ω)' * β);\n",
    "    L = λ .* α\n",
    "    \n",
    "    return α,β,Ω,L,λ\n",
    "\n",
    "end"
   ]
  },
  {
   "cell_type": "code",
   "execution_count": 5,
   "id": "d3b7fad9-cd21-465e-8cdb-a68e7e4c06a7",
   "metadata": {},
   "outputs": [],
   "source": [
    "domar_weights = (inv(I - diagm(1 .- alpha) * Omega)' * beta);\n",
    "L = domar_weights .* alpha;"
   ]
  },
  {
   "cell_type": "code",
   "execution_count": 6,
   "id": "5407a7de-552b-4673-bd43-56f93ffd9a10",
   "metadata": {},
   "outputs": [],
   "source": [
    "ε = .5;\n",
    "θ = 0.001;\n",
    "σ = .9;"
   ]
  },
  {
   "cell_type": "code",
   "execution_count": 7,
   "id": "d1c7f6e2-41ff-4b34-b25e-ab7f917c4c4a",
   "metadata": {},
   "outputs": [
    {
     "data": {
      "text/plain": [
       "problem (generic function with 1 method)"
      ]
     },
     "metadata": {},
     "output_type": "display_data"
    }
   ],
   "source": [
    "function problem(X :: AbstractVector{T}, A, β, Ω, α, ε, θ, σ,L) where T\n",
    "\n",
    "\n",
    "\n",
    "    N = length(α)\n",
    "    p = X[1:N]\n",
    "    y = X[N+1:end]\n",
    "    \n",
    "    Out :: Vector{T} = zeros(eltype(X),2*N)\n",
    "    \n",
    "    q = (Ω * p .^ (1-θ)) .^ (1 / (1 - θ))\n",
    "    w = p .* (A .^ ((ε - 1)/ε)) .* (α .^ (1 / ε)) .* (y .^ (1/ε)) .* L .^ (-1/ε)\n",
    "    C = w' * L\n",
    "  \n",
    "    Out[1:N] = p - (A .^ (ε - 1) .* (α .* w .^ (1- ε) + (1 .- α) .* q .^ (1 - ε))) .^ (1/(1-ε))\n",
    "    Out[N+1:end] = y' - y' * diagm(p)^ε * diagm(A)^(ε-1) * diagm(q)^(θ-ε) * diagm(1 .- α) * Ω * diagm(p)^(-θ) - β'*diagm(p)^(-σ)*C\n",
    "    \n",
    "    return Out\n",
    "end"
   ]
  },
  {
   "cell_type": "code",
   "execution_count": 8,
   "id": "fef6c5c7-12cf-477e-adcc-64745c53e590",
   "metadata": {},
   "outputs": [
    {
     "data": {
      "text/plain": [
       "problemJacobian (generic function with 1 method)"
      ]
     },
     "metadata": {},
     "output_type": "display_data"
    }
   ],
   "source": [
    "function problemJacobian(X, A, β, Ω, α, ε, θ, σ,L)\n",
    "    N = length(α)\n",
    "    p = @view X[1:N]\n",
    "    y = @view X[N+1:end]\n",
    "    \n",
    "    Out = zeros(eltype(X),2*N)\n",
    "    \n",
    "    q = (Ω * p .^ (1-θ)) .^ (1 / (1 - θ))\n",
    "    w = p .* (A .^ ((ε - 1)/ε)) .* (α .^ (1 / ε)) .* (y .^ (1/ε)) .* L .^ (-1/ε)\n",
    "    C = w' * L\n",
    "  \n",
    "    \n",
    "    DQDP = (q .^ θ * (p.^(-θ))') .* Ω;\n",
    "    DWDP = diagm(A.^((ε-1)/ε) .* α.^(1/ε) .* y.^(1/ε) .* (1 ./ L).^(1/ε));\n",
    "    DWDY = (1/ε) * diagm(p .* A.^((ε-1)/ε) .* α.^(1/ε).* (y.^(1/ε-1)) .* L.^(-1/ε));\n",
    "    DCDP = DWDP' * L; \n",
    "    DCDY = DWDY' * L;\n",
    "\n",
    "    DOut1DP = I - diagm(diagm(A)^(-1) * ((α .* (w .^ (1-ε)) + (1 .- α) .* (q.^(1-ε)))).^(ε/(1-ε))) * (diagm(α) * diagm(w.^(-ε))* DWDP + diagm(1 .-α)*diagm(q.^(-ε))*DQDP);\n",
    "\n",
    "    DOut1DY =  -diagm(diagm(A.^(-1))*((α.*(w.^(1-ε))+(1 .- α).*(q.^(1-ε)))).^(ε/(1-ε)))*(diagm(α)*diagm(w.^(-ε))*DWDY);\n",
    "\n",
    "    DOut2DP = -(ε * diagm(p.^(-θ))*Ω'*diagm((p.^(ε-1)).*(y).*(q.^(θ-ε)).*(1 .- α).*(A.^(ε-1)))\n",
    "        + (θ-ε)*diagm(p.^(-θ))*Ω'*diagm((p.^(ε)).*(y).*(q.^(θ-ε-1)).*(1 .- α).*(A.^(ε-1)))*DQDP \n",
    "        - σ*diagm(β.*p.^(-σ-1))*C + broadcast(*, β.*(p.^(-σ)), DCDP')\n",
    "        - θ* diagm(p.^(-θ-1)).*diagm(Ω'*diagm((p.^(ε)).*(q.^(θ-ε)).*(1 .- α).*(A.^(ε-1)))*y));\n",
    "\n",
    "    DOut2DY = I - (diagm(p)^ε*diagm(A)^(ε-1)*diagm(q)^(θ-ε)*diagm(1 .- α)*Ω*diagm(p)^(-θ))' - broadcast(*, β.*(p.^(-σ)), DCDY');\n",
    "    OutDeriv = [DOut1DP DOut1DY; DOut2DP DOut2DY];\n",
    "\n",
    "end"
   ]
  },
  {
   "cell_type": "code",
   "execution_count": 27,
   "id": "dc46bb84-b76f-4170-9133-28ccfc044961",
   "metadata": {},
   "outputs": [
    {
     "ename": "DomainError",
     "evalue": "DomainError with -14.677858914341611:\nExponentiation yielding a complex result requires a complex argument.\nReplace x^y with (x+0im)^y, Complex(x)^y, or similar.",
     "output_type": "error",
     "traceback": [
      "DomainError with -14.677858914341611:\n",
      "Exponentiation yielding a complex result requires a complex argument.\n",
      "Replace x^y with (x+0im)^y, Complex(x)^y, or similar.\n",
      "\n",
      "Stacktrace:\n",
      "  [1] _broadcast_getindex_evalf\n",
      "    @ ./broadcast.jl:670 [inlined]\n",
      "  [2] _broadcast_getindex\n",
      "    @ ./broadcast.jl:643 [inlined]\n",
      "  [3] getindex\n",
      "    @ ./broadcast.jl:597 [inlined]\n",
      "  [4] macro expansion\n",
      "    @ ./broadcast.jl:961 [inlined]\n",
      "  [5] macro expansion\n",
      "    @ ./simdloop.jl:77 [inlined]\n",
      "  [6] copyto!\n",
      "    @ ./broadcast.jl:960 [inlined]\n",
      "  [7] copyto!\n",
      "    @ ./broadcast.jl:913 [inlined]\n",
      "  [8] copy\n",
      "    @ ./broadcast.jl:885 [inlined]\n",
      "  [9] materialize\n",
      "    @ ./broadcast.jl:860 [inlined]\n",
      " [10] problem(X::Vector{Float64}, A::Vector{Float64}, β::Vector{Float64}, Ω::Matrix{Float64}, α::Vector{Float64}, ε::Float64, θ::Float64, σ::Float64, L::Vector{Float64})\n",
      "    @ Main ~/Schreibtisch/BeyondHulten/Translation/OtherSolver.ipynb:11\n",
      " [11] f!(F::Vector{Float64}, u::Vector{Float64}, p::Vector{Float64})\n",
      "    @ Main ~/Schreibtisch/BeyondHulten/Translation/OtherSolver.ipynb:6\n",
      " [12] NonlinearFunction\n",
      "    @ ~/.julia/packages/SciMLBase/VdcHg/src/scimlfunctions.jl:2127 [inlined]\n",
      " [13] #15\n",
      "    @ ~/.julia/packages/SciMLNLSolve/ilvaf/src/solve.jl:56 [inlined]\n",
      " [14] (::NLSolversBase.var\"#fj_finitediff!#21\"{SciMLNLSolve.var\"#15#30\"{NonlinearProblem{Vector{Float64}, true, Vector{Float64}, NonlinearFunction{true, SciMLBase.FullSpecialize, typeof(f!), UniformScaling{Bool}, Nothing, Nothing, Nothing, Nothing, Nothing, Nothing, Nothing, Nothing, Nothing, Nothing, Nothing, Nothing, typeof(SciMLBase.DEFAULT_OBSERVED_NO_TIME), Nothing, Nothing}, Base.Pairs{Symbol, Union{}, Tuple{}, NamedTuple{(), Tuple{}}}, SciMLBase.StandardNonlinearProblem}, Vector{Float64}}, FiniteDiff.JacobianCache{Vector{Float64}, Vector{Float64}, Vector{Float64}, Vector{Float64}, UnitRange{Int64}, Nothing, Val{:central}(), Float64}})(F::Vector{Float64}, J::Matrix{Float64}, x::Vector{Float64})\n",
      "    @ NLSolversBase ~/.julia/packages/NLSolversBase/kavn7/src/objective_types/oncedifferentiable.jl:138\n",
      " [15] value_jacobian!!(obj::OnceDifferentiable{Vector{Float64}, Matrix{Float64}, Vector{Float64}}, F::Vector{Float64}, J::Matrix{Float64}, x::Vector{Float64})\n",
      "    @ NLSolversBase ~/.julia/packages/NLSolversBase/kavn7/src/interface.jl:124\n",
      " [16] value_jacobian!(obj::OnceDifferentiable{Vector{Float64}, Matrix{Float64}, Vector{Float64}}, F::Vector{Float64}, J::Matrix{Float64}, x::Vector{Float64})\n",
      "    @ NLSolversBase ~/.julia/packages/NLSolversBase/kavn7/src/interface.jl:114\n",
      " [17] value_jacobian!\n",
      "    @ ~/.julia/packages/NLSolversBase/kavn7/src/interface.jl:111 [inlined]\n",
      " [18] (::NLsolve.var\"#fgo!#6\"{OnceDifferentiable{Vector{Float64}, Matrix{Float64}, Vector{Float64}}, Vector{Float64}})(storage::Vector{Float64}, xlin::Vector{Float64})\n",
      "    @ NLsolve ~/.julia/packages/NLsolve/gJL1I/src/solvers/newton.jl:79\n",
      " [19] value_gradient!!(obj::OnceDifferentiable{Float64, Vector{Float64}, Vector{Float64}}, x::Vector{Float64})\n",
      "    @ NLSolversBase ~/.julia/packages/NLSolversBase/kavn7/src/interface.jl:82\n",
      " [20] value_gradient!(obj::OnceDifferentiable{Float64, Vector{Float64}, Vector{Float64}}, x::Vector{Float64})\n",
      "    @ NLSolversBase ~/.julia/packages/NLSolversBase/kavn7/src/interface.jl:69\n",
      " [21] (::LineSearches.var\"#ϕdϕ#6\"{OnceDifferentiable{Float64, Vector{Float64}, Vector{Float64}}, Vector{Float64}, Vector{Float64}, Vector{Float64}})(α::Float64)\n",
      "    @ LineSearches ~/.julia/packages/LineSearches/G1LRk/src/LineSearches.jl:84\n",
      " [22] (::HagerZhang{Float64, Base.RefValue{Bool}})(ϕ::Function, ϕdϕ::LineSearches.var\"#ϕdϕ#6\"{OnceDifferentiable{Float64, Vector{Float64}, Vector{Float64}}, Vector{Float64}, Vector{Float64}, Vector{Float64}}, c::Float64, phi_0::Float64, dphi_0::Float64)\n",
      "    @ LineSearches ~/.julia/packages/LineSearches/G1LRk/src/hagerzhang.jl:139\n",
      " [23] HagerZhang\n",
      "    @ ~/.julia/packages/LineSearches/G1LRk/src/hagerzhang.jl:101 [inlined]\n",
      " [24] newton_(df::OnceDifferentiable{Vector{Float64}, Matrix{Float64}, Vector{Float64}}, initial_x::Vector{Float64}, xtol::Float64, ftol::Float64, iterations::Int64, store_trace::Bool, show_trace::Bool, extended_trace::Bool, linesearch::HagerZhang{Float64, Base.RefValue{Bool}}, linsolve::SciMLNLSolve.var\"#3#5\", cache::NLsolve.NewtonCache{Vector{Float64}})\n",
      "    @ NLsolve ~/.julia/packages/NLsolve/gJL1I/src/solvers/newton.jl:119\n",
      " [25] #newton#7\n",
      "    @ ~/.julia/packages/NLsolve/gJL1I/src/solvers/newton.jl:146 [inlined]\n",
      " [26] nlsolve(df::OnceDifferentiable{Vector{Float64}, Matrix{Float64}, Vector{Float64}}, initial_x::Vector{Float64}; method::Symbol, xtol::Float64, ftol::Float64, iterations::Int64, store_trace::Bool, show_trace::Bool, extended_trace::Bool, linesearch::HagerZhang{Float64, Base.RefValue{Bool}}, linsolve::SciMLNLSolve.var\"#3#5\", factor::Float64, autoscale::Bool, m::Int64, beta::Float64, aa_start::Int64, droptol::Float64)\n",
      "    @ NLsolve ~/.julia/packages/NLsolve/gJL1I/src/nlsolve/nlsolve.jl:23\n",
      " [27] __solve(::NonlinearProblem{Vector{Float64}, true, Vector{Float64}, NonlinearFunction{true, SciMLBase.FullSpecialize, typeof(f!), UniformScaling{Bool}, Nothing, Nothing, Nothing, Nothing, Nothing, Nothing, Nothing, Nothing, Nothing, Nothing, Nothing, Nothing, typeof(SciMLBase.DEFAULT_OBSERVED_NO_TIME), Nothing, Nothing}, Base.Pairs{Symbol, Union{}, Tuple{}, NamedTuple{(), Tuple{}}}, SciMLBase.StandardNonlinearProblem}, ::NLSolveJL{HagerZhang{Float64, Base.RefValue{Bool}}, SciMLNLSolve.var\"#3#5\"}; abstol::Float64, maxiters::Int64, kwargs::Base.Pairs{Symbol, Float64, Tuple{Symbol}, NamedTuple{(:reltol,), Tuple{Float64}}})\n",
      "    @ SciMLNLSolve ~/.julia/packages/SciMLNLSolve/ilvaf/src/solve.jl:91\n",
      " [28] #solve_call#22\n",
      "    @ ~/.julia/packages/DiffEqBase/ihYDa/src/solve.jl:509 [inlined]\n",
      " [29] #solve_up#29\n",
      "    @ ~/.julia/packages/DiffEqBase/ihYDa/src/solve.jl:940 [inlined]\n",
      " [30] #solve#28\n",
      "    @ ~/.julia/packages/DiffEqBase/ihYDa/src/solve.jl:899 [inlined]\n",
      " [31] top-level scope\n",
      "    @ ~/Schreibtisch/BeyondHulten/Translation/OtherSolver.ipynb:28"
     ]
    }
   ],
   "source": [
    "trials = 50;\n",
    "GDP = zeros(trials)\n",
    "λ = zeros(76,trials)\n",
    "\n",
    "function f!(F,u,p)\n",
    "    F[1:152] = problem(u,p,beta,Omega,alpha,ε,θ,σ,L)\n",
    "end\n",
    "\n",
    "function j!(J,u,p)\n",
    "    J[1:152,1:152] = problemJacobian(u,p,beta,Omega,alpha,ε,θ,σ,L)\n",
    "end\n",
    "\n",
    "f = NonlinearFunction(f!)\n",
    "\n",
    "Threads.@threads for k in 1:trials\n",
    "    \n",
    "        \n",
    "    A = exp.(mvnrnd(-1/2*diag(Sigma),diagm(diag(Sigma))));\n",
    "    \n",
    "    #init = [Complex.(exp.(-inv(I - diagm(1 .- alpha)*Omega)*log.(A)))..., Complex.(domar_weights ./exp.(-inv(I - diagm(1 .- alpha) * Omega)*log.(A)))...];\n",
    "    \n",
    "    init = [exp.(-inv(I - diagm(1 .- alpha)*Omega)*log.(A))..., (domar_weights ./exp.(-inv(I - diagm(1 .- alpha) * Omega)*log.(A)))...]\n",
    "\n",
    "\n",
    "    p = A\n",
    "\n",
    "    ProbN = NonlinearProblem(f,init,p)\n",
    "    sol = solve(ProbN,NLSolveJL(linesearch = HagerZhang(),method = :newton), reltol = 1e-8,abstol = 1e-8)\n",
    "\n",
    "    x = sol.u\n",
    "    println(\"solv\")\n",
    "\n",
    "    GDP[k] = (x[1:76] .* (A .^ ((ε-1)/ε)).*(alpha.^(1/ε)).*(x[77:152].^(1/ε)).* L .^ (-1/ε))' * L;\n",
    "    λ[:,k] = (x[1:76] .* x[77:end]) / GDP[k] \n",
    "\n",
    "\n",
    "        \n",
    "end"
   ]
  },
  {
   "cell_type": "code",
   "execution_count": 11,
   "id": "0456f0e7",
   "metadata": {},
   "outputs": [
    {
     "data": {
      "text/plain": [
       "shockSectorProgressively (generic function with 2 methods)"
      ]
     },
     "metadata": {},
     "output_type": "display_data"
    }
   ],
   "source": [
    "function shockSectorProgressively(sector,shocks,x0,year = 1983)\n",
    "\n",
    "    (α,β,Ω,L,λ) = getVariables(year);\n",
    "    f = NonlinearFunction((u,p) -> problem(u,p...))\n",
    "    GDP = []\n",
    "    for shock in shocks\n",
    "        A  = ones(76)\n",
    "        A[sector] = shock\n",
    "        \n",
    "        \n",
    "    \n",
    "    \n",
    "        p = [A,β,Ω,α,ε,θ,σ,L]\n",
    "        ProbN = NonlinearProblem(f,x0,p)\n",
    "        \n",
    "        sol = solve(ProbN,NLSolveJL(linesearch = BackTracking(),method = :newton), reltol = 1e-8,abstol = 1e-8)\n",
    "        \n",
    "        x = sol.u\n",
    "        \n",
    "        p = real.(x[1:76]) \n",
    "        y = real.(x[77:152])\n",
    "        append!(GDP, (p .* (A .^ ((ε-1)/ε)).*(alpha.^(1/ε)).*(y.^(1/ε)).* L .^ (-1/ε))' * L)\n",
    "\n",
    "        x0 =  x\n",
    "    end\n",
    "\n",
    "    return GDP\n",
    "\n",
    "end"
   ]
  },
  {
   "cell_type": "code",
   "execution_count": 15,
   "id": "1f6d3d5b-e0ee-4aab-9795-3a0fead20e26",
   "metadata": {},
   "outputs": [],
   "source": [
    "year = 1975\n",
    "M = 20\n",
    "\n",
    "a = 0.7;\n",
    "b = 1.3;\n",
    "\n",
    "(α,β,Ω,L,λ) = getVariables(year);\n",
    "\n",
    "\n",
    "GDP = zeros(2*M,3)\n",
    "sectors = [7 8 53]\n",
    "sectorShocks = [LinRange(1,a,M)..., LinRange(1,b,M)...]\n",
    "\n",
    "\n",
    "@distributed for i in 1:length(sectors)\n",
    "    \n",
    "    x0 = Complex.([ones(76)...,λ...]);\n",
    "\n",
    "    GDP[1:M,i] = shockSectorProgressively(sectors[i],LinRange(1,a,M),x0,year)\n",
    "    GDP[M+1:end,i] =  shockSectorProgressively(sectors[i],LinRange(1,b,M),x0,year)\n",
    "\n",
    "    \n",
    "end\n"
   ]
  },
  {
   "cell_type": "code",
   "execution_count": 13,
   "id": "def4be44",
   "metadata": {},
   "outputs": [
    {
     "data": {
      "text/plain": [
       "19×3 Matrix{Float64}:\n",
       " 1.00084   0.948292  0.97064\n",
       " 0.99738   0.955527  0.974946\n",
       " 0.99405   0.962412  0.979038\n",
       " 0.991139  0.968982  0.982938\n",
       " 0.98831   0.975262  0.986661\n",
       " 0.992643  0.981279  0.990223\n",
       " 0.996179  0.987053  0.993637\n",
       " 0.998906  0.992604  0.996914\n",
       " 1.00117   0.997948  1.00007\n",
       " 1.0031    1.0031    1.0031\n",
       " 1.00478   1.00807   1.00603\n",
       " 1.00625   1.01288   1.00885\n",
       " 1.00756   1.01753   1.01158\n",
       " 1.00872   1.02204   1.01422\n",
       " 1.00976   1.02641   1.01678\n",
       " 1.0107    1.03065   1.01926\n",
       " 1.01155   1.03477   1.02167\n",
       " 1.01232   1.03878   1.024\n",
       " 1.01301   1.04267   1.02628"
      ]
     },
     "metadata": {},
     "output_type": "display_data"
    }
   ],
   "source": [
    "\n",
    "@views reverse!(GDP[1:M,:],dims=1)\n",
    "GDP = GDP[setdiff(1:end,M),:]"
   ]
  },
  {
   "cell_type": "code",
   "execution_count": 14,
   "id": "ea60396b-5f8b-4375-b053-355a44c2eca8",
   "metadata": {},
   "outputs": [
    {
     "data": {
      "image/png": "[encoded data removed]",
      "image/svg+xml": [
       "<?xml version=\"1.0\" encoding=\"utf-8\"?>\n",
       "<svg xmlns=\"http://www.w3.org/2000/svg\" xmlns:xlink=\"http://www.w3.org/1999/xlink\" width=\"600\" height=\"400\" viewBox=\"0 0 2400 1600\">\n",
       "<defs>\n",
       "  <clipPath id=\"clip610\">\n",
       "    <rect x=\"0\" y=\"0\" width=\"2400\" height=\"1600\"/>\n",
       "  </clipPath>\n",
       "</defs>\n",
       "<path clip-path=\"url(#clip610)\" d=\"M0 1600 L2400 1600 L2400 0 L0 0  Z\" fill=\"#ffffff\" fill-rule=\"evenodd\" fill-opacity=\"1\"/>\n",
       "<defs>\n",
       "  <clipPath id=\"clip611\">\n",
       "    <rect x=\"480\" y=\"0\" width=\"1681\" height=\"1600\"/>\n",
       "  </clipPath>\n",
       "</defs>\n",
       "<path clip-path=\"url(#clip610)\" d=\"M186.436 1486.45 L2352.76 1486.45 L2352.76 47.2441 L186.436 47.2441  Z\" fill=\"#ffffff\" fill-rule=\"evenodd\" fill-opacity=\"1\"/>\n",
       "<defs>\n",
       "  <clipPath id=\"clip612\">\n",
       "    <rect x=\"186\" y=\"47\" width=\"2167\" height=\"1440\"/>\n",
       "  </clipPath>\n",
       "</defs>\n",
       "<polyline clip-path=\"url(#clip612)\" style=\"stroke:#000000; stroke-linecap:round; stroke-linejoin:round; stroke-width:2; stroke-opacity:0.1; fill:none\" points=\"247.747,1486.45 247.747,47.2441 \"/>\n",
       "<polyline clip-path=\"url(#clip612)\" style=\"stroke:#000000; stroke-linecap:round; stroke-linejoin:round; stroke-width:2; stroke-opacity:0.1; fill:none\" points=\"588.363,1486.45 588.363,47.2441 \"/>\n",
       "<polyline clip-path=\"url(#clip612)\" style=\"stroke:#000000; stroke-linecap:round; stroke-linejoin:round; stroke-width:2; stroke-opacity:0.1; fill:none\" points=\"928.98,1486.45 928.98,47.2441 \"/>\n",
       "<polyline clip-path=\"url(#clip612)\" style=\"stroke:#000000; stroke-linecap:round; stroke-linejoin:round; stroke-width:2; stroke-opacity:0.1; fill:none\" points=\"1269.6,1486.45 1269.6,47.2441 \"/>\n",
       "<polyline clip-path=\"url(#clip612)\" style=\"stroke:#000000; stroke-linecap:round; stroke-linejoin:round; stroke-width:2; stroke-opacity:0.1; fill:none\" points=\"1610.21,1486.45 1610.21,47.2441 \"/>\n",
       "<polyline clip-path=\"url(#clip612)\" style=\"stroke:#000000; stroke-linecap:round; stroke-linejoin:round; stroke-width:2; stroke-opacity:0.1; fill:none\" points=\"1950.83,1486.45 1950.83,47.2441 \"/>\n",
       "<polyline clip-path=\"url(#clip612)\" style=\"stroke:#000000; stroke-linecap:round; stroke-linejoin:round; stroke-width:2; stroke-opacity:0.1; fill:none\" points=\"2291.44,1486.45 2291.44,47.2441 \"/>\n",
       "<polyline clip-path=\"url(#clip610)\" style=\"stroke:#000000; stroke-linecap:round; stroke-linejoin:round; stroke-width:4; stroke-opacity:1; fill:none\" points=\"186.436,1486.45 2352.76,1486.45 \"/>\n",
       "<polyline clip-path=\"url(#clip610)\" style=\"stroke:#000000; stroke-linecap:round; stroke-linejoin:round; stroke-width:4; stroke-opacity:1; fill:none\" points=\"247.747,1486.45 247.747,1467.55 \"/>\n",
       "<polyline clip-path=\"url(#clip610)\" style=\"stroke:#000000; stroke-linecap:round; stroke-linejoin:round; stroke-width:4; stroke-opacity:1; fill:none\" points=\"588.363,1486.45 588.363,1467.55 \"/>\n",
       "<polyline clip-path=\"url(#clip610)\" style=\"stroke:#000000; stroke-linecap:round; stroke-linejoin:round; stroke-width:4; stroke-opacity:1; fill:none\" points=\"928.98,1486.45 928.98,1467.55 \"/>\n",
       "<polyline clip-path=\"url(#clip610)\" style=\"stroke:#000000; stroke-linecap:round; stroke-linejoin:round; stroke-width:4; stroke-opacity:1; fill:none\" points=\"1269.6,1486.45 1269.6,1467.55 \"/>\n",
       "<polyline clip-path=\"url(#clip610)\" style=\"stroke:#000000; stroke-linecap:round; stroke-linejoin:round; stroke-width:4; stroke-opacity:1; fill:none\" points=\"1610.21,1486.45 1610.21,1467.55 \"/>\n",
       "<polyline clip-path=\"url(#clip610)\" style=\"stroke:#000000; stroke-linecap:round; stroke-linejoin:round; stroke-width:4; stroke-opacity:1; fill:none\" points=\"1950.83,1486.45 1950.83,1467.55 \"/>\n",
       "<polyline clip-path=\"url(#clip610)\" style=\"stroke:#000000; stroke-linecap:round; stroke-linejoin:round; stroke-width:4; stroke-opacity:1; fill:none\" points=\"2291.44,1486.45 2291.44,1467.55 \"/>\n",
       "<path clip-path=\"url(#clip610)\" d=\"M225.583 1517.37 Q221.972 1517.37 220.143 1520.93 Q218.337 1524.47 218.337 1531.6 Q218.337 1538.71 220.143 1542.27 Q221.972 1545.82 225.583 1545.82 Q229.217 1545.82 231.023 1542.27 Q232.851 1538.71 232.851 1531.6 Q232.851 1524.47 231.023 1520.93 Q229.217 1517.37 225.583 1517.37 M225.583 1513.66 Q231.393 1513.66 234.448 1518.27 Q237.527 1522.85 237.527 1531.6 Q237.527 1540.33 234.448 1544.94 Q231.393 1549.52 225.583 1549.52 Q219.773 1549.52 216.694 1544.94 Q213.638 1540.33 213.638 1531.6 Q213.638 1522.85 216.694 1518.27 Q219.773 1513.66 225.583 1513.66 Z\" fill=\"#000000\" fill-rule=\"nonzero\" fill-opacity=\"1\" /><path clip-path=\"url(#clip610)\" d=\"M245.745 1542.97 L250.629 1542.97 L250.629 1548.85 L245.745 1548.85 L245.745 1542.97 Z\" fill=\"#000000\" fill-rule=\"nonzero\" fill-opacity=\"1\" /><path clip-path=\"url(#clip610)\" d=\"M259.633 1514.29 L281.856 1514.29 L281.856 1516.28 L269.309 1548.85 L264.425 1548.85 L276.231 1518.22 L259.633 1518.22 L259.633 1514.29 Z\" fill=\"#000000\" fill-rule=\"nonzero\" fill-opacity=\"1\" /><path clip-path=\"url(#clip610)\" d=\"M565.794 1517.37 Q562.183 1517.37 560.354 1520.93 Q558.549 1524.47 558.549 1531.6 Q558.549 1538.71 560.354 1542.27 Q562.183 1545.82 565.794 1545.82 Q569.428 1545.82 571.234 1542.27 Q573.062 1538.71 573.062 1531.6 Q573.062 1524.47 571.234 1520.93 Q569.428 1517.37 565.794 1517.37 M565.794 1513.66 Q571.604 1513.66 574.66 1518.27 Q577.738 1522.85 577.738 1531.6 Q577.738 1540.33 574.66 1544.94 Q571.604 1549.52 565.794 1549.52 Q559.984 1549.52 556.905 1544.94 Q553.85 1540.33 553.85 1531.6 Q553.85 1522.85 556.905 1518.27 Q559.984 1513.66 565.794 1513.66 Z\" fill=\"#000000\" fill-rule=\"nonzero\" fill-opacity=\"1\" /><path clip-path=\"url(#clip610)\" d=\"M585.956 1542.97 L590.84 1542.97 L590.84 1548.85 L585.956 1548.85 L585.956 1542.97 Z\" fill=\"#000000\" fill-rule=\"nonzero\" fill-opacity=\"1\" /><path clip-path=\"url(#clip610)\" d=\"M611.025 1532.44 Q607.692 1532.44 605.771 1534.22 Q603.872 1536 603.872 1539.13 Q603.872 1542.25 605.771 1544.03 Q607.692 1545.82 611.025 1545.82 Q614.359 1545.82 616.28 1544.03 Q618.201 1542.23 618.201 1539.13 Q618.201 1536 616.28 1534.22 Q614.382 1532.44 611.025 1532.44 M606.349 1530.45 Q603.34 1529.7 601.65 1527.64 Q599.984 1525.58 599.984 1522.62 Q599.984 1518.48 602.923 1516.07 Q605.886 1513.66 611.025 1513.66 Q616.187 1513.66 619.127 1516.07 Q622.067 1518.48 622.067 1522.62 Q622.067 1525.58 620.377 1527.64 Q618.71 1529.7 615.724 1530.45 Q619.104 1531.23 620.979 1533.52 Q622.877 1535.82 622.877 1539.13 Q622.877 1544.15 619.798 1546.83 Q616.743 1549.52 611.025 1549.52 Q605.308 1549.52 602.229 1546.83 Q599.173 1544.15 599.173 1539.13 Q599.173 1535.82 601.072 1533.52 Q602.97 1531.23 606.349 1530.45 M604.636 1523.06 Q604.636 1525.75 606.303 1527.25 Q607.993 1528.76 611.025 1528.76 Q614.034 1528.76 615.724 1527.25 Q617.437 1525.75 617.437 1523.06 Q617.437 1520.38 615.724 1518.87 Q614.034 1517.37 611.025 1517.37 Q607.993 1517.37 606.303 1518.87 Q604.636 1520.38 604.636 1523.06 Z\" fill=\"#000000\" fill-rule=\"nonzero\" fill-opacity=\"1\" /><path clip-path=\"url(#clip610)\" d=\"M906.457 1517.37 Q902.846 1517.37 901.017 1520.93 Q899.211 1524.47 899.211 1531.6 Q899.211 1538.71 901.017 1542.27 Q902.846 1545.82 906.457 1545.82 Q910.091 1545.82 911.896 1542.27 Q913.725 1538.71 913.725 1531.6 Q913.725 1524.47 911.896 1520.93 Q910.091 1517.37 906.457 1517.37 M906.457 1513.66 Q912.267 1513.66 915.322 1518.27 Q918.401 1522.85 918.401 1531.6 Q918.401 1540.33 915.322 1544.94 Q912.267 1549.52 906.457 1549.52 Q900.646 1549.52 897.568 1544.94 Q894.512 1540.33 894.512 1531.6 Q894.512 1522.85 897.568 1518.27 Q900.646 1513.66 906.457 1513.66 Z\" fill=\"#000000\" fill-rule=\"nonzero\" fill-opacity=\"1\" /><path clip-path=\"url(#clip610)\" d=\"M926.619 1542.97 L931.503 1542.97 L931.503 1548.85 L926.619 1548.85 L926.619 1542.97 Z\" fill=\"#000000\" fill-rule=\"nonzero\" fill-opacity=\"1\" /><path clip-path=\"url(#clip610)\" d=\"M941.827 1548.13 L941.827 1543.87 Q943.586 1544.7 945.392 1545.14 Q947.197 1545.58 948.933 1545.58 Q953.563 1545.58 955.993 1542.48 Q958.447 1539.36 958.794 1533.01 Q957.452 1535.01 955.392 1536.07 Q953.331 1537.13 950.831 1537.13 Q945.646 1537.13 942.614 1534.01 Q939.605 1530.86 939.605 1525.42 Q939.605 1520.1 942.753 1516.88 Q945.901 1513.66 951.132 1513.66 Q957.128 1513.66 960.276 1518.27 Q963.447 1522.85 963.447 1531.6 Q963.447 1539.77 959.558 1544.66 Q955.692 1549.52 949.142 1549.52 Q947.382 1549.52 945.577 1549.17 Q943.771 1548.82 941.827 1548.13 M951.132 1533.48 Q954.28 1533.48 956.109 1531.32 Q957.961 1529.17 957.961 1525.42 Q957.961 1521.7 956.109 1519.54 Q954.28 1517.37 951.132 1517.37 Q947.984 1517.37 946.132 1519.54 Q944.304 1521.7 944.304 1525.42 Q944.304 1529.17 946.132 1531.32 Q947.984 1533.48 951.132 1533.48 Z\" fill=\"#000000\" fill-rule=\"nonzero\" fill-opacity=\"1\" /><path clip-path=\"url(#clip610)\" d=\"M1236.75 1544.91 L1244.39 1544.91 L1244.39 1518.55 L1236.08 1520.21 L1236.08 1515.95 L1244.34 1514.29 L1249.02 1514.29 L1249.02 1544.91 L1256.66 1544.91 L1256.66 1548.85 L1236.75 1548.85 L1236.75 1544.91 Z\" fill=\"#000000\" fill-rule=\"nonzero\" fill-opacity=\"1\" /><path clip-path=\"url(#clip610)\" d=\"M1266.1 1542.97 L1270.98 1542.97 L1270.98 1548.85 L1266.1 1548.85 L1266.1 1542.97 Z\" fill=\"#000000\" fill-rule=\"nonzero\" fill-opacity=\"1\" /><path clip-path=\"url(#clip610)\" d=\"M1291.17 1517.37 Q1287.56 1517.37 1285.73 1520.93 Q1283.92 1524.47 1283.92 1531.6 Q1283.92 1538.71 1285.73 1542.27 Q1287.56 1545.82 1291.17 1545.82 Q1294.8 1545.82 1296.61 1542.27 Q1298.44 1538.71 1298.44 1531.6 Q1298.44 1524.47 1296.61 1520.93 Q1294.8 1517.37 1291.17 1517.37 M1291.17 1513.66 Q1296.98 1513.66 1300.04 1518.27 Q1303.11 1522.85 1303.11 1531.6 Q1303.11 1540.33 1300.04 1544.94 Q1296.98 1549.52 1291.17 1549.52 Q1285.36 1549.52 1282.28 1544.94 Q1279.23 1540.33 1279.23 1531.6 Q1279.23 1522.85 1282.28 1518.27 Q1285.36 1513.66 1291.17 1513.66 Z\" fill=\"#000000\" fill-rule=\"nonzero\" fill-opacity=\"1\" /><path clip-path=\"url(#clip610)\" d=\"M1577.98 1544.91 L1585.62 1544.91 L1585.62 1518.55 L1577.31 1520.21 L1577.31 1515.95 L1585.57 1514.29 L1590.25 1514.29 L1590.25 1544.91 L1597.89 1544.91 L1597.89 1548.85 L1577.98 1548.85 L1577.98 1544.91 Z\" fill=\"#000000\" fill-rule=\"nonzero\" fill-opacity=\"1\" /><path clip-path=\"url(#clip610)\" d=\"M1607.33 1542.97 L1612.21 1542.97 L1612.21 1548.85 L1607.33 1548.85 L1607.33 1542.97 Z\" fill=\"#000000\" fill-rule=\"nonzero\" fill-opacity=\"1\" /><path clip-path=\"url(#clip610)\" d=\"M1623.21 1544.91 L1630.85 1544.91 L1630.85 1518.55 L1622.54 1520.21 L1622.54 1515.95 L1630.8 1514.29 L1635.48 1514.29 L1635.48 1544.91 L1643.12 1544.91 L1643.12 1548.85 L1623.21 1548.85 L1623.21 1544.91 Z\" fill=\"#000000\" fill-rule=\"nonzero\" fill-opacity=\"1\" /><path clip-path=\"url(#clip610)\" d=\"M1918.78 1544.91 L1926.42 1544.91 L1926.42 1518.55 L1918.11 1520.21 L1918.11 1515.95 L1926.37 1514.29 L1931.05 1514.29 L1931.05 1544.91 L1938.69 1544.91 L1938.69 1548.85 L1918.78 1548.85 L1918.78 1544.91 Z\" fill=\"#000000\" fill-rule=\"nonzero\" fill-opacity=\"1\" /><path clip-path=\"url(#clip610)\" d=\"M1948.13 1542.97 L1953.02 1542.97 L1953.02 1548.85 L1948.13 1548.85 L1948.13 1542.97 Z\" fill=\"#000000\" fill-rule=\"nonzero\" fill-opacity=\"1\" /><path clip-path=\"url(#clip610)\" d=\"M1967.23 1544.91 L1983.55 1544.91 L1983.55 1548.85 L1961.6 1548.85 L1961.6 1544.91 Q1964.27 1542.16 1968.85 1537.53 Q1973.46 1532.88 1974.64 1531.53 Q1976.88 1529.01 1977.76 1527.27 Q1978.66 1525.51 1978.66 1523.82 Q1978.66 1521.07 1976.72 1519.33 Q1974.8 1517.6 1971.7 1517.6 Q1969.5 1517.6 1967.04 1518.36 Q1964.61 1519.13 1961.84 1520.68 L1961.84 1515.95 Q1964.66 1514.82 1967.11 1514.24 Q1969.57 1513.66 1971.6 1513.66 Q1976.97 1513.66 1980.17 1516.35 Q1983.36 1519.03 1983.36 1523.52 Q1983.36 1525.65 1982.55 1527.57 Q1981.77 1529.47 1979.66 1532.07 Q1979.08 1532.74 1975.98 1535.95 Q1972.88 1539.15 1967.23 1544.91 Z\" fill=\"#000000\" fill-rule=\"nonzero\" fill-opacity=\"1\" /><path clip-path=\"url(#clip610)\" d=\"M2258.92 1544.91 L2266.56 1544.91 L2266.56 1518.55 L2258.25 1520.21 L2258.25 1515.95 L2266.51 1514.29 L2271.19 1514.29 L2271.19 1544.91 L2278.83 1544.91 L2278.83 1548.85 L2258.92 1548.85 L2258.92 1544.91 Z\" fill=\"#000000\" fill-rule=\"nonzero\" fill-opacity=\"1\" /><path clip-path=\"url(#clip610)\" d=\"M2288.27 1542.97 L2293.16 1542.97 L2293.16 1548.85 L2288.27 1548.85 L2288.27 1542.97 Z\" fill=\"#000000\" fill-rule=\"nonzero\" fill-opacity=\"1\" /><path clip-path=\"url(#clip610)\" d=\"M2317.51 1530.21 Q2320.87 1530.93 2322.74 1533.2 Q2324.64 1535.47 2324.64 1538.8 Q2324.64 1543.92 2321.12 1546.72 Q2317.6 1549.52 2311.12 1549.52 Q2308.94 1549.52 2306.63 1549.08 Q2304.34 1548.66 2301.88 1547.81 L2301.88 1543.29 Q2303.83 1544.43 2306.14 1545.01 Q2308.46 1545.58 2310.98 1545.58 Q2315.38 1545.58 2317.67 1543.85 Q2319.99 1542.11 2319.99 1538.8 Q2319.99 1535.75 2317.83 1534.03 Q2315.7 1532.3 2311.88 1532.3 L2307.86 1532.3 L2307.86 1528.45 L2312.07 1528.45 Q2315.52 1528.45 2317.35 1527.09 Q2319.18 1525.7 2319.18 1523.11 Q2319.18 1520.45 2317.28 1519.03 Q2315.4 1517.6 2311.88 1517.6 Q2309.96 1517.6 2307.76 1518.01 Q2305.57 1518.43 2302.93 1519.31 L2302.93 1515.14 Q2305.59 1514.4 2307.9 1514.03 Q2310.24 1513.66 2312.3 1513.66 Q2317.63 1513.66 2320.73 1516.09 Q2323.83 1518.5 2323.83 1522.62 Q2323.83 1525.49 2322.19 1527.48 Q2320.54 1529.45 2317.51 1530.21 Z\" fill=\"#000000\" fill-rule=\"nonzero\" fill-opacity=\"1\" /><polyline clip-path=\"url(#clip612)\" style=\"stroke:#000000; stroke-linecap:round; stroke-linejoin:round; stroke-width:2; stroke-opacity:0.1; fill:none\" points=\"186.436,1277.29 2352.76,1277.29 \"/>\n",
       "<polyline clip-path=\"url(#clip612)\" style=\"stroke:#000000; stroke-linecap:round; stroke-linejoin:round; stroke-width:2; stroke-opacity:0.1; fill:none\" points=\"186.436,989.573 2352.76,989.573 \"/>\n",
       "<polyline clip-path=\"url(#clip612)\" style=\"stroke:#000000; stroke-linecap:round; stroke-linejoin:round; stroke-width:2; stroke-opacity:0.1; fill:none\" points=\"186.436,701.856 2352.76,701.856 \"/>\n",
       "<polyline clip-path=\"url(#clip612)\" style=\"stroke:#000000; stroke-linecap:round; stroke-linejoin:round; stroke-width:2; stroke-opacity:0.1; fill:none\" points=\"186.436,414.139 2352.76,414.139 \"/>\n",
       "<polyline clip-path=\"url(#clip612)\" style=\"stroke:#000000; stroke-linecap:round; stroke-linejoin:round; stroke-width:2; stroke-opacity:0.1; fill:none\" points=\"186.436,126.422 2352.76,126.422 \"/>\n",
       "<polyline clip-path=\"url(#clip610)\" style=\"stroke:#000000; stroke-linecap:round; stroke-linejoin:round; stroke-width:4; stroke-opacity:1; fill:none\" points=\"186.436,1486.45 186.436,47.2441 \"/>\n",
       "<polyline clip-path=\"url(#clip610)\" style=\"stroke:#000000; stroke-linecap:round; stroke-linejoin:round; stroke-width:4; stroke-opacity:1; fill:none\" points=\"186.436,1277.29 205.334,1277.29 \"/>\n",
       "<polyline clip-path=\"url(#clip610)\" style=\"stroke:#000000; stroke-linecap:round; stroke-linejoin:round; stroke-width:4; stroke-opacity:1; fill:none\" points=\"186.436,989.573 205.334,989.573 \"/>\n",
       "<polyline clip-path=\"url(#clip610)\" style=\"stroke:#000000; stroke-linecap:round; stroke-linejoin:round; stroke-width:4; stroke-opacity:1; fill:none\" points=\"186.436,701.856 205.334,701.856 \"/>\n",
       "<polyline clip-path=\"url(#clip610)\" style=\"stroke:#000000; stroke-linecap:round; stroke-linejoin:round; stroke-width:4; stroke-opacity:1; fill:none\" points=\"186.436,414.139 205.334,414.139 \"/>\n",
       "<polyline clip-path=\"url(#clip610)\" style=\"stroke:#000000; stroke-linecap:round; stroke-linejoin:round; stroke-width:4; stroke-opacity:1; fill:none\" points=\"186.436,126.422 205.334,126.422 \"/>\n",
       "<path clip-path=\"url(#clip610)\" d=\"M62.9365 1263.09 Q59.3254 1263.09 57.4967 1266.65 Q55.6912 1270.2 55.6912 1277.33 Q55.6912 1284.43 57.4967 1288 Q59.3254 1291.54 62.9365 1291.54 Q66.5707 1291.54 68.3763 1288 Q70.205 1284.43 70.205 1277.33 Q70.205 1270.2 68.3763 1266.65 Q66.5707 1263.09 62.9365 1263.09 M62.9365 1259.39 Q68.7467 1259.39 71.8022 1263.99 Q74.8809 1268.58 74.8809 1277.33 Q74.8809 1286.05 71.8022 1290.66 Q68.7467 1295.24 62.9365 1295.24 Q57.1264 1295.24 54.0477 1290.66 Q50.9921 1286.05 50.9921 1277.33 Q50.9921 1268.58 54.0477 1263.99 Q57.1264 1259.39 62.9365 1259.39 Z\" fill=\"#000000\" fill-rule=\"nonzero\" fill-opacity=\"1\" /><path clip-path=\"url(#clip610)\" d=\"M83.0984 1288.69 L87.9827 1288.69 L87.9827 1294.57 L83.0984 1294.57 L83.0984 1288.69 Z\" fill=\"#000000\" fill-rule=\"nonzero\" fill-opacity=\"1\" /><path clip-path=\"url(#clip610)\" d=\"M98.3067 1293.85 L98.3067 1289.59 Q100.066 1290.43 101.871 1290.87 Q103.677 1291.31 105.413 1291.31 Q110.043 1291.31 112.473 1288.2 Q114.927 1285.08 115.274 1278.74 Q113.932 1280.73 111.871 1281.79 Q109.811 1282.86 107.311 1282.86 Q102.126 1282.86 99.0937 1279.73 Q96.0845 1276.58 96.0845 1271.14 Q96.0845 1265.82 99.2326 1262.6 Q102.381 1259.39 107.612 1259.39 Q113.608 1259.39 116.756 1263.99 Q119.927 1268.58 119.927 1277.33 Q119.927 1285.5 116.038 1290.38 Q112.172 1295.24 105.621 1295.24 Q103.862 1295.24 102.057 1294.89 Q100.251 1294.55 98.3067 1293.85 M107.612 1279.2 Q110.76 1279.2 112.589 1277.05 Q114.441 1274.89 114.441 1271.14 Q114.441 1267.42 112.589 1265.27 Q110.76 1263.09 107.612 1263.09 Q104.464 1263.09 102.612 1265.27 Q100.784 1267.42 100.784 1271.14 Q100.784 1274.89 102.612 1277.05 Q104.464 1279.2 107.612 1279.2 Z\" fill=\"#000000\" fill-rule=\"nonzero\" fill-opacity=\"1\" /><path clip-path=\"url(#clip610)\" d=\"M138.908 1275.43 Q135.76 1275.43 133.908 1277.58 Q132.08 1279.73 132.08 1283.48 Q132.08 1287.21 133.908 1289.39 Q135.76 1291.54 138.908 1291.54 Q142.056 1291.54 143.885 1289.39 Q145.737 1287.21 145.737 1283.48 Q145.737 1279.73 143.885 1277.58 Q142.056 1275.43 138.908 1275.43 M148.191 1260.77 L148.191 1265.03 Q146.431 1264.2 144.626 1263.76 Q142.843 1263.32 141.084 1263.32 Q136.455 1263.32 134.001 1266.45 Q131.57 1269.57 131.223 1275.89 Q132.589 1273.88 134.649 1272.81 Q136.709 1271.72 139.186 1271.72 Q144.394 1271.72 147.404 1274.89 Q150.436 1278.04 150.436 1283.48 Q150.436 1288.81 147.288 1292.02 Q144.14 1295.24 138.908 1295.24 Q132.913 1295.24 129.742 1290.66 Q126.57 1286.05 126.57 1277.33 Q126.57 1269.13 130.459 1264.27 Q134.348 1259.39 140.899 1259.39 Q142.658 1259.39 144.441 1259.73 Q146.246 1260.08 148.191 1260.77 Z\" fill=\"#000000\" fill-rule=\"nonzero\" fill-opacity=\"1\" /><path clip-path=\"url(#clip610)\" d=\"M63.1911 975.372 Q59.58 975.372 57.7513 978.937 Q55.9458 982.479 55.9458 989.608 Q55.9458 996.715 57.7513 1000.28 Q59.58 1003.82 63.1911 1003.82 Q66.8254 1003.82 68.6309 1000.28 Q70.4596 996.715 70.4596 989.608 Q70.4596 982.479 68.6309 978.937 Q66.8254 975.372 63.1911 975.372 M63.1911 971.668 Q69.0013 971.668 72.0568 976.275 Q75.1355 980.858 75.1355 989.608 Q75.1355 998.335 72.0568 1002.94 Q69.0013 1007.52 63.1911 1007.52 Q57.381 1007.52 54.3023 1002.94 Q51.2468 998.335 51.2468 989.608 Q51.2468 980.858 54.3023 976.275 Q57.381 971.668 63.1911 971.668 Z\" fill=\"#000000\" fill-rule=\"nonzero\" fill-opacity=\"1\" /><path clip-path=\"url(#clip610)\" d=\"M83.3531 1000.97 L88.2373 1000.97 L88.2373 1006.85 L83.3531 1006.85 L83.3531 1000.97 Z\" fill=\"#000000\" fill-rule=\"nonzero\" fill-opacity=\"1\" /><path clip-path=\"url(#clip610)\" d=\"M98.5613 1006.14 L98.5613 1001.88 Q100.321 1002.71 102.126 1003.15 Q103.932 1003.59 105.668 1003.59 Q110.297 1003.59 112.728 1000.49 Q115.182 997.363 115.529 991.02 Q114.186 993.011 112.126 994.076 Q110.066 995.141 107.566 995.141 Q102.381 995.141 99.3483 992.016 Q96.3391 988.867 96.3391 983.428 Q96.3391 978.104 99.4872 974.886 Q102.635 971.668 107.867 971.668 Q113.862 971.668 117.01 976.275 Q120.182 980.858 120.182 989.608 Q120.182 997.779 116.293 1002.66 Q112.427 1007.52 105.876 1007.52 Q104.117 1007.52 102.311 1007.18 Q100.506 1006.83 98.5613 1006.14 M107.867 991.483 Q111.015 991.483 112.844 989.33 Q114.695 987.178 114.695 983.428 Q114.695 979.701 112.844 977.548 Q111.015 975.372 107.867 975.372 Q104.719 975.372 102.867 977.548 Q101.038 979.701 101.038 983.428 Q101.038 987.178 102.867 989.33 Q104.719 991.483 107.867 991.483 Z\" fill=\"#000000\" fill-rule=\"nonzero\" fill-opacity=\"1\" /><path clip-path=\"url(#clip610)\" d=\"M138.584 990.441 Q135.251 990.441 133.33 992.224 Q131.432 994.006 131.432 997.131 Q131.432 1000.26 133.33 1002.04 Q135.251 1003.82 138.584 1003.82 Q141.918 1003.82 143.839 1002.04 Q145.76 1000.23 145.76 997.131 Q145.76 994.006 143.839 992.224 Q141.941 990.441 138.584 990.441 M133.908 988.451 Q130.899 987.71 129.209 985.65 Q127.543 983.59 127.543 980.627 Q127.543 976.483 130.482 974.076 Q133.445 971.668 138.584 971.668 Q143.746 971.668 146.686 974.076 Q149.626 976.483 149.626 980.627 Q149.626 983.59 147.936 985.65 Q146.269 987.71 143.283 988.451 Q146.663 989.238 148.538 991.529 Q150.436 993.821 150.436 997.131 Q150.436 1002.15 147.357 1004.84 Q144.302 1007.52 138.584 1007.52 Q132.867 1007.52 129.788 1004.84 Q126.732 1002.15 126.732 997.131 Q126.732 993.821 128.631 991.529 Q130.529 989.238 133.908 988.451 M132.195 981.067 Q132.195 983.752 133.862 985.256 Q135.552 986.761 138.584 986.761 Q141.593 986.761 143.283 985.256 Q144.996 983.752 144.996 981.067 Q144.996 978.381 143.283 976.877 Q141.593 975.372 138.584 975.372 Q135.552 975.372 133.862 976.877 Q132.195 978.381 132.195 981.067 Z\" fill=\"#000000\" fill-rule=\"nonzero\" fill-opacity=\"1\" /><path clip-path=\"url(#clip610)\" d=\"M53.9088 715.201 L61.5476 715.201 L61.5476 688.836 L53.2375 690.502 L53.2375 686.243 L61.5013 684.576 L66.1772 684.576 L66.1772 715.201 L73.8161 715.201 L73.8161 719.136 L53.9088 719.136 L53.9088 715.201 Z\" fill=\"#000000\" fill-rule=\"nonzero\" fill-opacity=\"1\" /><path clip-path=\"url(#clip610)\" d=\"M83.2605 713.257 L88.1447 713.257 L88.1447 719.136 L83.2605 719.136 L83.2605 713.257 Z\" fill=\"#000000\" fill-rule=\"nonzero\" fill-opacity=\"1\" /><path clip-path=\"url(#clip610)\" d=\"M108.33 687.655 Q104.719 687.655 102.89 691.22 Q101.084 694.761 101.084 701.891 Q101.084 708.997 102.89 712.562 Q104.719 716.104 108.33 716.104 Q111.964 716.104 113.77 712.562 Q115.598 708.997 115.598 701.891 Q115.598 694.761 113.77 691.22 Q111.964 687.655 108.33 687.655 M108.33 683.951 Q114.14 683.951 117.195 688.558 Q120.274 693.141 120.274 701.891 Q120.274 710.618 117.195 715.224 Q114.14 719.808 108.33 719.808 Q102.52 719.808 99.4409 715.224 Q96.3854 710.618 96.3854 701.891 Q96.3854 693.141 99.4409 688.558 Q102.52 683.951 108.33 683.951 Z\" fill=\"#000000\" fill-rule=\"nonzero\" fill-opacity=\"1\" /><path clip-path=\"url(#clip610)\" d=\"M138.492 687.655 Q134.881 687.655 133.052 691.22 Q131.246 694.761 131.246 701.891 Q131.246 708.997 133.052 712.562 Q134.881 716.104 138.492 716.104 Q142.126 716.104 143.931 712.562 Q145.76 708.997 145.76 701.891 Q145.76 694.761 143.931 691.22 Q142.126 687.655 138.492 687.655 M138.492 683.951 Q144.302 683.951 147.357 688.558 Q150.436 693.141 150.436 701.891 Q150.436 710.618 147.357 715.224 Q144.302 719.808 138.492 719.808 Q132.682 719.808 129.603 715.224 Q126.547 710.618 126.547 701.891 Q126.547 693.141 129.603 688.558 Q132.682 683.951 138.492 683.951 Z\" fill=\"#000000\" fill-rule=\"nonzero\" fill-opacity=\"1\" /><path clip-path=\"url(#clip610)\" d=\"M55.506 427.484 L63.1448 427.484 L63.1448 401.118 L54.8347 402.785 L54.8347 398.526 L63.0985 396.859 L67.7744 396.859 L67.7744 427.484 L75.4133 427.484 L75.4133 431.419 L55.506 431.419 L55.506 427.484 Z\" fill=\"#000000\" fill-rule=\"nonzero\" fill-opacity=\"1\" /><path clip-path=\"url(#clip610)\" d=\"M84.8577 425.54 L89.7419 425.54 L89.7419 431.419 L84.8577 431.419 L84.8577 425.54 Z\" fill=\"#000000\" fill-rule=\"nonzero\" fill-opacity=\"1\" /><path clip-path=\"url(#clip610)\" d=\"M109.927 399.938 Q106.316 399.938 104.487 403.503 Q102.682 407.044 102.682 414.174 Q102.682 421.28 104.487 424.845 Q106.316 428.387 109.927 428.387 Q113.561 428.387 115.367 424.845 Q117.195 421.28 117.195 414.174 Q117.195 407.044 115.367 403.503 Q113.561 399.938 109.927 399.938 M109.927 396.234 Q115.737 396.234 118.793 400.841 Q121.871 405.424 121.871 414.174 Q121.871 422.901 118.793 427.507 Q115.737 432.09 109.927 432.09 Q104.117 432.09 101.038 427.507 Q97.9826 422.901 97.9826 414.174 Q97.9826 405.424 101.038 400.841 Q104.117 396.234 109.927 396.234 Z\" fill=\"#000000\" fill-rule=\"nonzero\" fill-opacity=\"1\" /><path clip-path=\"url(#clip610)\" d=\"M134.117 427.484 L150.436 427.484 L150.436 431.419 L128.492 431.419 L128.492 427.484 Q131.154 424.729 135.737 420.1 Q140.343 415.447 141.524 414.104 Q143.769 411.581 144.649 409.845 Q145.552 408.086 145.552 406.396 Q145.552 403.642 143.607 401.905 Q141.686 400.169 138.584 400.169 Q136.385 400.169 133.931 400.933 Q131.501 401.697 128.723 403.248 L128.723 398.526 Q131.547 397.392 134.001 396.813 Q136.455 396.234 138.492 396.234 Q143.862 396.234 147.056 398.919 Q150.251 401.604 150.251 406.095 Q150.251 408.225 149.441 410.146 Q148.654 412.044 146.547 414.637 Q145.968 415.308 142.867 418.526 Q139.765 421.72 134.117 427.484 Z\" fill=\"#000000\" fill-rule=\"nonzero\" fill-opacity=\"1\" /><path clip-path=\"url(#clip610)\" d=\"M53.4227 139.767 L61.0615 139.767 L61.0615 113.401 L52.7514 115.068 L52.7514 110.809 L61.0152 109.142 L65.6911 109.142 L65.6911 139.767 L73.33 139.767 L73.33 143.702 L53.4227 143.702 L53.4227 139.767 Z\" fill=\"#000000\" fill-rule=\"nonzero\" fill-opacity=\"1\" /><path clip-path=\"url(#clip610)\" d=\"M82.7744 137.822 L87.6586 137.822 L87.6586 143.702 L82.7744 143.702 L82.7744 137.822 Z\" fill=\"#000000\" fill-rule=\"nonzero\" fill-opacity=\"1\" /><path clip-path=\"url(#clip610)\" d=\"M107.844 112.221 Q104.233 112.221 102.404 115.785 Q100.598 119.327 100.598 126.457 Q100.598 133.563 102.404 137.128 Q104.233 140.67 107.844 140.67 Q111.478 140.67 113.283 137.128 Q115.112 133.563 115.112 126.457 Q115.112 119.327 113.283 115.785 Q111.478 112.221 107.844 112.221 M107.844 108.517 Q113.654 108.517 116.709 113.123 Q119.788 117.707 119.788 126.457 Q119.788 135.184 116.709 139.79 Q113.654 144.373 107.844 144.373 Q102.034 144.373 98.9548 139.79 Q95.8993 135.184 95.8993 126.457 Q95.8993 117.707 98.9548 113.123 Q102.034 108.517 107.844 108.517 Z\" fill=\"#000000\" fill-rule=\"nonzero\" fill-opacity=\"1\" /><path clip-path=\"url(#clip610)\" d=\"M140.853 113.216 L129.047 131.665 L140.853 131.665 L140.853 113.216 M139.626 109.142 L145.506 109.142 L145.506 131.665 L150.436 131.665 L150.436 135.554 L145.506 135.554 L145.506 143.702 L140.853 143.702 L140.853 135.554 L125.251 135.554 L125.251 131.04 L139.626 109.142 Z\" fill=\"#000000\" fill-rule=\"nonzero\" fill-opacity=\"1\" /><polyline clip-path=\"url(#clip612)\" style=\"stroke:#009af9; stroke-linecap:round; stroke-linejoin:round; stroke-width:4; stroke-opacity:1; fill:none\" points=\"247.747,689.802 361.286,739.541 474.825,787.459 588.363,829.327 701.902,870.028 815.441,807.699 928.98,756.817 1042.52,717.591 1156.06,685.05 1269.6,657.257 1383.13,633.116 1496.67,611.909 1610.21,593.125 1723.75,576.384 1837.29,561.386 1950.83,547.893 2064.37,535.71 2177.91,524.672 2291.44,514.643 \"/>\n",
       "<polyline clip-path=\"url(#clip612)\" style=\"stroke:#e26f46; stroke-linecap:round; stroke-linejoin:round; stroke-width:4; stroke-opacity:1; fill:none\" points=\"247.747,1445.72 361.286,1341.64 474.825,1242.59 588.363,1148.08 701.902,1057.73 815.441,971.172 928.98,888.105 1042.52,808.253 1156.06,731.376 1269.6,657.257 1383.13,585.705 1496.67,516.546 1610.21,449.624 1723.75,384.797 1837.29,321.937 1950.83,260.927 2064.37,201.661 2177.91,144.041 2291.44,87.9763 \"/>\n",
       "<polyline clip-path=\"url(#clip612)\" style=\"stroke:#3da44d; stroke-linecap:round; stroke-linejoin:round; stroke-width:4; stroke-opacity:1; fill:none\" points=\"247.747,1124.23 361.286,1062.28 474.825,1003.41 588.363,947.311 701.902,893.75 815.441,842.509 928.98,793.397 1042.52,746.247 1156.06,700.912 1269.6,657.257 1383.13,615.166 1496.67,574.532 1610.21,535.259 1723.75,497.26 1837.29,460.457 1950.83,424.777 2064.37,390.155 2177.91,356.532 2291.44,323.852 \"/>\n",
       "<path clip-path=\"url(#clip610)\" d=\"M258.647 302.578 L528.288 302.578 L528.288 95.2176 L258.647 95.2176  Z\" fill=\"#ffffff\" fill-rule=\"evenodd\" fill-opacity=\"1\"/>\n",
       "<polyline clip-path=\"url(#clip610)\" style=\"stroke:#000000; stroke-linecap:round; stroke-linejoin:round; stroke-width:4; stroke-opacity:1; fill:none\" points=\"258.647,302.578 528.288,302.578 528.288,95.2176 258.647,95.2176 258.647,302.578 \"/>\n",
       "<polyline clip-path=\"url(#clip610)\" style=\"stroke:#009af9; stroke-linecap:round; stroke-linejoin:round; stroke-width:4; stroke-opacity:1; fill:none\" points=\"282.717,147.058 427.138,147.058 \"/>\n",
       "<path clip-path=\"url(#clip610)\" d=\"M465.051 166.745 Q463.245 171.375 461.532 172.787 Q459.82 174.199 456.949 174.199 L453.546 174.199 L453.546 170.634 L456.046 170.634 Q457.806 170.634 458.778 169.8 Q459.75 168.967 460.931 165.865 L461.695 163.921 L451.208 138.412 L455.722 138.412 L463.824 158.689 L471.926 138.412 L476.44 138.412 L465.051 166.745 Z\" fill=\"#000000\" fill-rule=\"nonzero\" fill-opacity=\"1\" /><path clip-path=\"url(#clip610)\" d=\"M483.731 160.402 L491.37 160.402 L491.37 134.037 L483.06 135.703 L483.06 131.444 L491.324 129.778 L496 129.778 L496 160.402 L503.639 160.402 L503.639 164.338 L483.731 164.338 L483.731 160.402 Z\" fill=\"#000000\" fill-rule=\"nonzero\" fill-opacity=\"1\" /><polyline clip-path=\"url(#clip610)\" style=\"stroke:#e26f46; stroke-linecap:round; stroke-linejoin:round; stroke-width:4; stroke-opacity:1; fill:none\" points=\"282.717,198.898 427.138,198.898 \"/>\n",
       "<path clip-path=\"url(#clip610)\" d=\"M465.051 218.585 Q463.245 223.215 461.532 224.627 Q459.82 226.039 456.949 226.039 L453.546 226.039 L453.546 222.474 L456.046 222.474 Q457.806 222.474 458.778 221.64 Q459.75 220.807 460.931 217.705 L461.695 215.761 L451.208 190.252 L455.722 190.252 L463.824 210.529 L471.926 190.252 L476.44 190.252 L465.051 218.585 Z\" fill=\"#000000\" fill-rule=\"nonzero\" fill-opacity=\"1\" /><path clip-path=\"url(#clip610)\" d=\"M486.949 212.242 L503.268 212.242 L503.268 216.178 L481.324 216.178 L481.324 212.242 Q483.986 209.488 488.569 204.858 Q493.176 200.205 494.356 198.863 Q496.602 196.34 497.481 194.604 Q498.384 192.844 498.384 191.155 Q498.384 188.4 496.44 186.664 Q494.518 184.928 491.417 184.928 Q489.218 184.928 486.764 185.692 Q484.333 186.455 481.556 188.006 L481.556 183.284 Q484.38 182.15 486.833 181.571 Q489.287 180.993 491.324 180.993 Q496.694 180.993 499.889 183.678 Q503.083 186.363 503.083 190.854 Q503.083 192.983 502.273 194.905 Q501.486 196.803 499.38 199.395 Q498.801 200.067 495.699 203.284 Q492.597 206.479 486.949 212.242 Z\" fill=\"#000000\" fill-rule=\"nonzero\" fill-opacity=\"1\" /><polyline clip-path=\"url(#clip610)\" style=\"stroke:#3da44d; stroke-linecap:round; stroke-linejoin:round; stroke-width:4; stroke-opacity:1; fill:none\" points=\"282.717,250.738 427.138,250.738 \"/>\n",
       "<path clip-path=\"url(#clip610)\" d=\"M465.051 270.425 Q463.245 275.055 461.532 276.467 Q459.82 277.879 456.949 277.879 L453.546 277.879 L453.546 274.314 L456.046 274.314 Q457.806 274.314 458.778 273.48 Q459.75 272.647 460.931 269.545 L461.695 267.601 L451.208 242.092 L455.722 242.092 L463.824 262.369 L471.926 242.092 L476.44 242.092 L465.051 270.425 Z\" fill=\"#000000\" fill-rule=\"nonzero\" fill-opacity=\"1\" /><path clip-path=\"url(#clip610)\" d=\"M497.088 249.383 Q500.444 250.101 502.319 252.369 Q504.217 254.638 504.217 257.971 Q504.217 263.087 500.699 265.888 Q497.18 268.689 490.699 268.689 Q488.523 268.689 486.208 268.249 Q483.917 267.832 481.463 266.976 L481.463 262.462 Q483.407 263.596 485.722 264.175 Q488.037 264.754 490.56 264.754 Q494.958 264.754 497.25 263.018 Q499.565 261.281 499.565 257.971 Q499.565 254.916 497.412 253.203 Q495.282 251.467 491.463 251.467 L487.435 251.467 L487.435 247.624 L491.648 247.624 Q495.097 247.624 496.926 246.258 Q498.755 244.87 498.755 242.277 Q498.755 239.615 496.856 238.203 Q494.981 236.768 491.463 236.768 Q489.542 236.768 487.343 237.184 Q485.143 237.601 482.505 238.481 L482.505 234.314 Q485.167 233.573 487.481 233.203 Q489.819 232.833 491.88 232.833 Q497.204 232.833 500.305 235.263 Q503.407 237.67 503.407 241.791 Q503.407 244.661 501.764 246.652 Q500.12 248.62 497.088 249.383 Z\" fill=\"#000000\" fill-rule=\"nonzero\" fill-opacity=\"1\" /></svg>\n"
      ],
      "text/html": [
       "<?xml version=\"1.0\" encoding=\"utf-8\"?>\n",
       "<svg xmlns=\"http://www.w3.org/2000/svg\" xmlns:xlink=\"http://www.w3.org/1999/xlink\" width=\"600\" height=\"400\" viewBox=\"0 0 2400 1600\">\n",
       "<defs>\n",
       "  <clipPath id=\"clip660\">\n",
       "    <rect x=\"0\" y=\"0\" width=\"2400\" height=\"1600\"/>\n",
       "  </clipPath>\n",
       "</defs>\n",
       "<path clip-path=\"url(#clip660)\" d=\"M0 1600 L2400 1600 L2400 0 L0 0  Z\" fill=\"#ffffff\" fill-rule=\"evenodd\" fill-opacity=\"1\"/>\n",
       "<defs>\n",
       "  <clipPath id=\"clip661\">\n",
       "    <rect x=\"480\" y=\"0\" width=\"1681\" height=\"1600\"/>\n",
       "  </clipPath>\n",
       "</defs>\n",
       "<path clip-path=\"url(#clip660)\" d=\"M186.436 1486.45 L2352.76 1486.45 L2352.76 47.2441 L186.436 47.2441  Z\" fill=\"#ffffff\" fill-rule=\"evenodd\" fill-opacity=\"1\"/>\n",
       "<defs>\n",
       "  <clipPath id=\"clip662\">\n",
       "    <rect x=\"186\" y=\"47\" width=\"2167\" height=\"1440\"/>\n",
       "  </clipPath>\n",
       "</defs>\n",
       "<polyline clip-path=\"url(#clip662)\" style=\"stroke:#000000; stroke-linecap:round; stroke-linejoin:round; stroke-width:2; stroke-opacity:0.1; fill:none\" points=\"247.747,1486.45 247.747,47.2441 \"/>\n",
       "<polyline clip-path=\"url(#clip662)\" style=\"stroke:#000000; stroke-linecap:round; stroke-linejoin:round; stroke-width:2; stroke-opacity:0.1; fill:none\" points=\"588.363,1486.45 588.363,47.2441 \"/>\n",
       "<polyline clip-path=\"url(#clip662)\" style=\"stroke:#000000; stroke-linecap:round; stroke-linejoin:round; stroke-width:2; stroke-opacity:0.1; fill:none\" points=\"928.98,1486.45 928.98,47.2441 \"/>\n",
       "<polyline clip-path=\"url(#clip662)\" style=\"stroke:#000000; stroke-linecap:round; stroke-linejoin:round; stroke-width:2; stroke-opacity:0.1; fill:none\" points=\"1269.6,1486.45 1269.6,47.2441 \"/>\n",
       "<polyline clip-path=\"url(#clip662)\" style=\"stroke:#000000; stroke-linecap:round; stroke-linejoin:round; stroke-width:2; stroke-opacity:0.1; fill:none\" points=\"1610.21,1486.45 1610.21,47.2441 \"/>\n",
       "<polyline clip-path=\"url(#clip662)\" style=\"stroke:#000000; stroke-linecap:round; stroke-linejoin:round; stroke-width:2; stroke-opacity:0.1; fill:none\" points=\"1950.83,1486.45 1950.83,47.2441 \"/>\n",
       "<polyline clip-path=\"url(#clip662)\" style=\"stroke:#000000; stroke-linecap:round; stroke-linejoin:round; stroke-width:2; stroke-opacity:0.1; fill:none\" points=\"2291.44,1486.45 2291.44,47.2441 \"/>\n",
       "<polyline clip-path=\"url(#clip660)\" style=\"stroke:#000000; stroke-linecap:round; stroke-linejoin:round; stroke-width:4; stroke-opacity:1; fill:none\" points=\"186.436,1486.45 2352.76,1486.45 \"/>\n",
       "<polyline clip-path=\"url(#clip660)\" style=\"stroke:#000000; stroke-linecap:round; stroke-linejoin:round; stroke-width:4; stroke-opacity:1; fill:none\" points=\"247.747,1486.45 247.747,1467.55 \"/>\n",
       "<polyline clip-path=\"url(#clip660)\" style=\"stroke:#000000; stroke-linecap:round; stroke-linejoin:round; stroke-width:4; stroke-opacity:1; fill:none\" points=\"588.363,1486.45 588.363,1467.55 \"/>\n",
       "<polyline clip-path=\"url(#clip660)\" style=\"stroke:#000000; stroke-linecap:round; stroke-linejoin:round; stroke-width:4; stroke-opacity:1; fill:none\" points=\"928.98,1486.45 928.98,1467.55 \"/>\n",
       "<polyline clip-path=\"url(#clip660)\" style=\"stroke:#000000; stroke-linecap:round; stroke-linejoin:round; stroke-width:4; stroke-opacity:1; fill:none\" points=\"1269.6,1486.45 1269.6,1467.55 \"/>\n",
       "<polyline clip-path=\"url(#clip660)\" style=\"stroke:#000000; stroke-linecap:round; stroke-linejoin:round; stroke-width:4; stroke-opacity:1; fill:none\" points=\"1610.21,1486.45 1610.21,1467.55 \"/>\n",
       "<polyline clip-path=\"url(#clip660)\" style=\"stroke:#000000; stroke-linecap:round; stroke-linejoin:round; stroke-width:4; stroke-opacity:1; fill:none\" points=\"1950.83,1486.45 1950.83,1467.55 \"/>\n",
       "<polyline clip-path=\"url(#clip660)\" style=\"stroke:#000000; stroke-linecap:round; stroke-linejoin:round; stroke-width:4; stroke-opacity:1; fill:none\" points=\"2291.44,1486.45 2291.44,1467.55 \"/>\n",
       "<path clip-path=\"url(#clip660)\" d=\"M225.583 1517.37 Q221.972 1517.37 220.143 1520.93 Q218.337 1524.47 218.337 1531.6 Q218.337 1538.71 220.143 1542.27 Q221.972 1545.82 225.583 1545.82 Q229.217 1545.82 231.023 1542.27 Q232.851 1538.71 232.851 1531.6 Q232.851 1524.47 231.023 1520.93 Q229.217 1517.37 225.583 1517.37 M225.583 1513.66 Q231.393 1513.66 234.448 1518.27 Q237.527 1522.85 237.527 1531.6 Q237.527 1540.33 234.448 1544.94 Q231.393 1549.52 225.583 1549.52 Q219.773 1549.52 216.694 1544.94 Q213.638 1540.33 213.638 1531.6 Q213.638 1522.85 216.694 1518.27 Q219.773 1513.66 225.583 1513.66 Z\" fill=\"#000000\" fill-rule=\"nonzero\" fill-opacity=\"1\" /><path clip-path=\"url(#clip660)\" d=\"M245.745 1542.97 L250.629 1542.97 L250.629 1548.85 L245.745 1548.85 L245.745 1542.97 Z\" fill=\"#000000\" fill-rule=\"nonzero\" fill-opacity=\"1\" /><path clip-path=\"url(#clip660)\" d=\"M259.633 1514.29 L281.856 1514.29 L281.856 1516.28 L269.309 1548.85 L264.425 1548.85 L276.231 1518.22 L259.633 1518.22 L259.633 1514.29 Z\" fill=\"#000000\" fill-rule=\"nonzero\" fill-opacity=\"1\" /><path clip-path=\"url(#clip660)\" d=\"M565.794 1517.37 Q562.183 1517.37 560.354 1520.93 Q558.549 1524.47 558.549 1531.6 Q558.549 1538.71 560.354 1542.27 Q562.183 1545.82 565.794 1545.82 Q569.428 1545.82 571.234 1542.27 Q573.062 1538.71 573.062 1531.6 Q573.062 1524.47 571.234 1520.93 Q569.428 1517.37 565.794 1517.37 M565.794 1513.66 Q571.604 1513.66 574.66 1518.27 Q577.738 1522.85 577.738 1531.6 Q577.738 1540.33 574.66 1544.94 Q571.604 1549.52 565.794 1549.52 Q559.984 1549.52 556.905 1544.94 Q553.85 1540.33 553.85 1531.6 Q553.85 1522.85 556.905 1518.27 Q559.984 1513.66 565.794 1513.66 Z\" fill=\"#000000\" fill-rule=\"nonzero\" fill-opacity=\"1\" /><path clip-path=\"url(#clip660)\" d=\"M585.956 1542.97 L590.84 1542.97 L590.84 1548.85 L585.956 1548.85 L585.956 1542.97 Z\" fill=\"#000000\" fill-rule=\"nonzero\" fill-opacity=\"1\" /><path clip-path=\"url(#clip660)\" d=\"M611.025 1532.44 Q607.692 1532.44 605.771 1534.22 Q603.872 1536 603.872 1539.13 Q603.872 1542.25 605.771 1544.03 Q607.692 1545.82 611.025 1545.82 Q614.359 1545.82 616.28 1544.03 Q618.201 1542.23 618.201 1539.13 Q618.201 1536 616.28 1534.22 Q614.382 1532.44 611.025 1532.44 M606.349 1530.45 Q603.34 1529.7 601.65 1527.64 Q599.984 1525.58 599.984 1522.62 Q599.984 1518.48 602.923 1516.07 Q605.886 1513.66 611.025 1513.66 Q616.187 1513.66 619.127 1516.07 Q622.067 1518.48 622.067 1522.62 Q622.067 1525.58 620.377 1527.64 Q618.71 1529.7 615.724 1530.45 Q619.104 1531.23 620.979 1533.52 Q622.877 1535.82 622.877 1539.13 Q622.877 1544.15 619.798 1546.83 Q616.743 1549.52 611.025 1549.52 Q605.308 1549.52 602.229 1546.83 Q599.173 1544.15 599.173 1539.13 Q599.173 1535.82 601.072 1533.52 Q602.97 1531.23 606.349 1530.45 M604.636 1523.06 Q604.636 1525.75 606.303 1527.25 Q607.993 1528.76 611.025 1528.76 Q614.034 1528.76 615.724 1527.25 Q617.437 1525.75 617.437 1523.06 Q617.437 1520.38 615.724 1518.87 Q614.034 1517.37 611.025 1517.37 Q607.993 1517.37 606.303 1518.87 Q604.636 1520.38 604.636 1523.06 Z\" fill=\"#000000\" fill-rule=\"nonzero\" fill-opacity=\"1\" /><path clip-path=\"url(#clip660)\" d=\"M906.457 1517.37 Q902.846 1517.37 901.017 1520.93 Q899.211 1524.47 899.211 1531.6 Q899.211 1538.71 901.017 1542.27 Q902.846 1545.82 906.457 1545.82 Q910.091 1545.82 911.896 1542.27 Q913.725 1538.71 913.725 1531.6 Q913.725 1524.47 911.896 1520.93 Q910.091 1517.37 906.457 1517.37 M906.457 1513.66 Q912.267 1513.66 915.322 1518.27 Q918.401 1522.85 918.401 1531.6 Q918.401 1540.33 915.322 1544.94 Q912.267 1549.52 906.457 1549.52 Q900.646 1549.52 897.568 1544.94 Q894.512 1540.33 894.512 1531.6 Q894.512 1522.85 897.568 1518.27 Q900.646 1513.66 906.457 1513.66 Z\" fill=\"#000000\" fill-rule=\"nonzero\" fill-opacity=\"1\" /><path clip-path=\"url(#clip660)\" d=\"M926.619 1542.97 L931.503 1542.97 L931.503 1548.85 L926.619 1548.85 L926.619 1542.97 Z\" fill=\"#000000\" fill-rule=\"nonzero\" fill-opacity=\"1\" /><path clip-path=\"url(#clip660)\" d=\"M941.827 1548.13 L941.827 1543.87 Q943.586 1544.7 945.392 1545.14 Q947.197 1545.58 948.933 1545.58 Q953.563 1545.58 955.993 1542.48 Q958.447 1539.36 958.794 1533.01 Q957.452 1535.01 955.392 1536.07 Q953.331 1537.13 950.831 1537.13 Q945.646 1537.13 942.614 1534.01 Q939.605 1530.86 939.605 1525.42 Q939.605 1520.1 942.753 1516.88 Q945.901 1513.66 951.132 1513.66 Q957.128 1513.66 960.276 1518.27 Q963.447 1522.85 963.447 1531.6 Q963.447 1539.77 959.558 1544.66 Q955.692 1549.52 949.142 1549.52 Q947.382 1549.52 945.577 1549.17 Q943.771 1548.82 941.827 1548.13 M951.132 1533.48 Q954.28 1533.48 956.109 1531.32 Q957.961 1529.17 957.961 1525.42 Q957.961 1521.7 956.109 1519.54 Q954.28 1517.37 951.132 1517.37 Q947.984 1517.37 946.132 1519.54 Q944.304 1521.7 944.304 1525.42 Q944.304 1529.17 946.132 1531.32 Q947.984 1533.48 951.132 1533.48 Z\" fill=\"#000000\" fill-rule=\"nonzero\" fill-opacity=\"1\" /><path clip-path=\"url(#clip660)\" d=\"M1236.75 1544.91 L1244.39 1544.91 L1244.39 1518.55 L1236.08 1520.21 L1236.08 1515.95 L1244.34 1514.29 L1249.02 1514.29 L1249.02 1544.91 L1256.66 1544.91 L1256.66 1548.85 L1236.75 1548.85 L1236.75 1544.91 Z\" fill=\"#000000\" fill-rule=\"nonzero\" fill-opacity=\"1\" /><path clip-path=\"url(#clip660)\" d=\"M1266.1 1542.97 L1270.98 1542.97 L1270.98 1548.85 L1266.1 1548.85 L1266.1 1542.97 Z\" fill=\"#000000\" fill-rule=\"nonzero\" fill-opacity=\"1\" /><path clip-path=\"url(#clip660)\" d=\"M1291.17 1517.37 Q1287.56 1517.37 1285.73 1520.93 Q1283.92 1524.47 1283.92 1531.6 Q1283.92 1538.71 1285.73 1542.27 Q1287.56 1545.82 1291.17 1545.82 Q1294.8 1545.82 1296.61 1542.27 Q1298.44 1538.71 1298.44 1531.6 Q1298.44 1524.47 1296.61 1520.93 Q1294.8 1517.37 1291.17 1517.37 M1291.17 1513.66 Q1296.98 1513.66 1300.04 1518.27 Q1303.11 1522.85 1303.11 1531.6 Q1303.11 1540.33 1300.04 1544.94 Q1296.98 1549.52 1291.17 1549.52 Q1285.36 1549.52 1282.28 1544.94 Q1279.23 1540.33 1279.23 1531.6 Q1279.23 1522.85 1282.28 1518.27 Q1285.36 1513.66 1291.17 1513.66 Z\" fill=\"#000000\" fill-rule=\"nonzero\" fill-opacity=\"1\" /><path clip-path=\"url(#clip660)\" d=\"M1577.98 1544.91 L1585.62 1544.91 L1585.62 1518.55 L1577.31 1520.21 L1577.31 1515.95 L1585.57 1514.29 L1590.25 1514.29 L1590.25 1544.91 L1597.89 1544.91 L1597.89 1548.85 L1577.98 1548.85 L1577.98 1544.91 Z\" fill=\"#000000\" fill-rule=\"nonzero\" fill-opacity=\"1\" /><path clip-path=\"url(#clip660)\" d=\"M1607.33 1542.97 L1612.21 1542.97 L1612.21 1548.85 L1607.33 1548.85 L1607.33 1542.97 Z\" fill=\"#000000\" fill-rule=\"nonzero\" fill-opacity=\"1\" /><path clip-path=\"url(#clip660)\" d=\"M1623.21 1544.91 L1630.85 1544.91 L1630.85 1518.55 L1622.54 1520.21 L1622.54 1515.95 L1630.8 1514.29 L1635.48 1514.29 L1635.48 1544.91 L1643.12 1544.91 L1643.12 1548.85 L1623.21 1548.85 L1623.21 1544.91 Z\" fill=\"#000000\" fill-rule=\"nonzero\" fill-opacity=\"1\" /><path clip-path=\"url(#clip660)\" d=\"M1918.78 1544.91 L1926.42 1544.91 L1926.42 1518.55 L1918.11 1520.21 L1918.11 1515.95 L1926.37 1514.29 L1931.05 1514.29 L1931.05 1544.91 L1938.69 1544.91 L1938.69 1548.85 L1918.78 1548.85 L1918.78 1544.91 Z\" fill=\"#000000\" fill-rule=\"nonzero\" fill-opacity=\"1\" /><path clip-path=\"url(#clip660)\" d=\"M1948.13 1542.97 L1953.02 1542.97 L1953.02 1548.85 L1948.13 1548.85 L1948.13 1542.97 Z\" fill=\"#000000\" fill-rule=\"nonzero\" fill-opacity=\"1\" /><path clip-path=\"url(#clip660)\" d=\"M1967.23 1544.91 L1983.55 1544.91 L1983.55 1548.85 L1961.6 1548.85 L1961.6 1544.91 Q1964.27 1542.16 1968.85 1537.53 Q1973.46 1532.88 1974.64 1531.53 Q1976.88 1529.01 1977.76 1527.27 Q1978.66 1525.51 1978.66 1523.82 Q1978.66 1521.07 1976.72 1519.33 Q1974.8 1517.6 1971.7 1517.6 Q1969.5 1517.6 1967.04 1518.36 Q1964.61 1519.13 1961.84 1520.68 L1961.84 1515.95 Q1964.66 1514.82 1967.11 1514.24 Q1969.57 1513.66 1971.6 1513.66 Q1976.97 1513.66 1980.17 1516.35 Q1983.36 1519.03 1983.36 1523.52 Q1983.36 1525.65 1982.55 1527.57 Q1981.77 1529.47 1979.66 1532.07 Q1979.08 1532.74 1975.98 1535.95 Q1972.88 1539.15 1967.23 1544.91 Z\" fill=\"#000000\" fill-rule=\"nonzero\" fill-opacity=\"1\" /><path clip-path=\"url(#clip660)\" d=\"M2258.92 1544.91 L2266.56 1544.91 L2266.56 1518.55 L2258.25 1520.21 L2258.25 1515.95 L2266.51 1514.29 L2271.19 1514.29 L2271.19 1544.91 L2278.83 1544.91 L2278.83 1548.85 L2258.92 1548.85 L2258.92 1544.91 Z\" fill=\"#000000\" fill-rule=\"nonzero\" fill-opacity=\"1\" /><path clip-path=\"url(#clip660)\" d=\"M2288.27 1542.97 L2293.16 1542.97 L2293.16 1548.85 L2288.27 1548.85 L2288.27 1542.97 Z\" fill=\"#000000\" fill-rule=\"nonzero\" fill-opacity=\"1\" /><path clip-path=\"url(#clip660)\" d=\"M2317.51 1530.21 Q2320.87 1530.93 2322.74 1533.2 Q2324.64 1535.47 2324.64 1538.8 Q2324.64 1543.92 2321.12 1546.72 Q2317.6 1549.52 2311.12 1549.52 Q2308.94 1549.52 2306.63 1549.08 Q2304.34 1548.66 2301.88 1547.81 L2301.88 1543.29 Q2303.83 1544.43 2306.14 1545.01 Q2308.46 1545.58 2310.98 1545.58 Q2315.38 1545.58 2317.67 1543.85 Q2319.99 1542.11 2319.99 1538.8 Q2319.99 1535.75 2317.83 1534.03 Q2315.7 1532.3 2311.88 1532.3 L2307.86 1532.3 L2307.86 1528.45 L2312.07 1528.45 Q2315.52 1528.45 2317.35 1527.09 Q2319.18 1525.7 2319.18 1523.11 Q2319.18 1520.45 2317.28 1519.03 Q2315.4 1517.6 2311.88 1517.6 Q2309.96 1517.6 2307.76 1518.01 Q2305.57 1518.43 2302.93 1519.31 L2302.93 1515.14 Q2305.59 1514.4 2307.9 1514.03 Q2310.24 1513.66 2312.3 1513.66 Q2317.63 1513.66 2320.73 1516.09 Q2323.83 1518.5 2323.83 1522.62 Q2323.83 1525.49 2322.19 1527.48 Q2320.54 1529.45 2317.51 1530.21 Z\" fill=\"#000000\" fill-rule=\"nonzero\" fill-opacity=\"1\" /><polyline clip-path=\"url(#clip662)\" style=\"stroke:#000000; stroke-linecap:round; stroke-linejoin:round; stroke-width:2; stroke-opacity:0.1; fill:none\" points=\"186.436,1277.29 2352.76,1277.29 \"/>\n",
       "<polyline clip-path=\"url(#clip662)\" style=\"stroke:#000000; stroke-linecap:round; stroke-linejoin:round; stroke-width:2; stroke-opacity:0.1; fill:none\" points=\"186.436,989.573 2352.76,989.573 \"/>\n",
       "<polyline clip-path=\"url(#clip662)\" style=\"stroke:#000000; stroke-linecap:round; stroke-linejoin:round; stroke-width:2; stroke-opacity:0.1; fill:none\" points=\"186.436,701.856 2352.76,701.856 \"/>\n",
       "<polyline clip-path=\"url(#clip662)\" style=\"stroke:#000000; stroke-linecap:round; stroke-linejoin:round; stroke-width:2; stroke-opacity:0.1; fill:none\" points=\"186.436,414.139 2352.76,414.139 \"/>\n",
       "<polyline clip-path=\"url(#clip662)\" style=\"stroke:#000000; stroke-linecap:round; stroke-linejoin:round; stroke-width:2; stroke-opacity:0.1; fill:none\" points=\"186.436,126.422 2352.76,126.422 \"/>\n",
       "<polyline clip-path=\"url(#clip660)\" style=\"stroke:#000000; stroke-linecap:round; stroke-linejoin:round; stroke-width:4; stroke-opacity:1; fill:none\" points=\"186.436,1486.45 186.436,47.2441 \"/>\n",
       "<polyline clip-path=\"url(#clip660)\" style=\"stroke:#000000; stroke-linecap:round; stroke-linejoin:round; stroke-width:4; stroke-opacity:1; fill:none\" points=\"186.436,1277.29 205.334,1277.29 \"/>\n",
       "<polyline clip-path=\"url(#clip660)\" style=\"stroke:#000000; stroke-linecap:round; stroke-linejoin:round; stroke-width:4; stroke-opacity:1; fill:none\" points=\"186.436,989.573 205.334,989.573 \"/>\n",
       "<polyline clip-path=\"url(#clip660)\" style=\"stroke:#000000; stroke-linecap:round; stroke-linejoin:round; stroke-width:4; stroke-opacity:1; fill:none\" points=\"186.436,701.856 205.334,701.856 \"/>\n",
       "<polyline clip-path=\"url(#clip660)\" style=\"stroke:#000000; stroke-linecap:round; stroke-linejoin:round; stroke-width:4; stroke-opacity:1; fill:none\" points=\"186.436,414.139 205.334,414.139 \"/>\n",
       "<polyline clip-path=\"url(#clip660)\" style=\"stroke:#000000; stroke-linecap:round; stroke-linejoin:round; stroke-width:4; stroke-opacity:1; fill:none\" points=\"186.436,126.422 205.334,126.422 \"/>\n",
       "<path clip-path=\"url(#clip660)\" d=\"M62.9365 1263.09 Q59.3254 1263.09 57.4967 1266.65 Q55.6912 1270.2 55.6912 1277.33 Q55.6912 1284.43 57.4967 1288 Q59.3254 1291.54 62.9365 1291.54 Q66.5707 1291.54 68.3763 1288 Q70.205 1284.43 70.205 1277.33 Q70.205 1270.2 68.3763 1266.65 Q66.5707 1263.09 62.9365 1263.09 M62.9365 1259.39 Q68.7467 1259.39 71.8022 1263.99 Q74.8809 1268.58 74.8809 1277.33 Q74.8809 1286.05 71.8022 1290.66 Q68.7467 1295.24 62.9365 1295.24 Q57.1264 1295.24 54.0477 1290.66 Q50.9921 1286.05 50.9921 1277.33 Q50.9921 1268.58 54.0477 1263.99 Q57.1264 1259.39 62.9365 1259.39 Z\" fill=\"#000000\" fill-rule=\"nonzero\" fill-opacity=\"1\" /><path clip-path=\"url(#clip660)\" d=\"M83.0984 1288.69 L87.9827 1288.69 L87.9827 1294.57 L83.0984 1294.57 L83.0984 1288.69 Z\" fill=\"#000000\" fill-rule=\"nonzero\" fill-opacity=\"1\" /><path clip-path=\"url(#clip660)\" d=\"M98.3067 1293.85 L98.3067 1289.59 Q100.066 1290.43 101.871 1290.87 Q103.677 1291.31 105.413 1291.31 Q110.043 1291.31 112.473 1288.2 Q114.927 1285.08 115.274 1278.74 Q113.932 1280.73 111.871 1281.79 Q109.811 1282.86 107.311 1282.86 Q102.126 1282.86 99.0937 1279.73 Q96.0845 1276.58 96.0845 1271.14 Q96.0845 1265.82 99.2326 1262.6 Q102.381 1259.39 107.612 1259.39 Q113.608 1259.39 116.756 1263.99 Q119.927 1268.58 119.927 1277.33 Q119.927 1285.5 116.038 1290.38 Q112.172 1295.24 105.621 1295.24 Q103.862 1295.24 102.057 1294.89 Q100.251 1294.55 98.3067 1293.85 M107.612 1279.2 Q110.76 1279.2 112.589 1277.05 Q114.441 1274.89 114.441 1271.14 Q114.441 1267.42 112.589 1265.27 Q110.76 1263.09 107.612 1263.09 Q104.464 1263.09 102.612 1265.27 Q100.784 1267.42 100.784 1271.14 Q100.784 1274.89 102.612 1277.05 Q104.464 1279.2 107.612 1279.2 Z\" fill=\"#000000\" fill-rule=\"nonzero\" fill-opacity=\"1\" /><path clip-path=\"url(#clip660)\" d=\"M138.908 1275.43 Q135.76 1275.43 133.908 1277.58 Q132.08 1279.73 132.08 1283.48 Q132.08 1287.21 133.908 1289.39 Q135.76 1291.54 138.908 1291.54 Q142.056 1291.54 143.885 1289.39 Q145.737 1287.21 145.737 1283.48 Q145.737 1279.73 143.885 1277.58 Q142.056 1275.43 138.908 1275.43 M148.191 1260.77 L148.191 1265.03 Q146.431 1264.2 144.626 1263.76 Q142.843 1263.32 141.084 1263.32 Q136.455 1263.32 134.001 1266.45 Q131.57 1269.57 131.223 1275.89 Q132.589 1273.88 134.649 1272.81 Q136.709 1271.72 139.186 1271.72 Q144.394 1271.72 147.404 1274.89 Q150.436 1278.04 150.436 1283.48 Q150.436 1288.81 147.288 1292.02 Q144.14 1295.24 138.908 1295.24 Q132.913 1295.24 129.742 1290.66 Q126.57 1286.05 126.57 1277.33 Q126.57 1269.13 130.459 1264.27 Q134.348 1259.39 140.899 1259.39 Q142.658 1259.39 144.441 1259.73 Q146.246 1260.08 148.191 1260.77 Z\" fill=\"#000000\" fill-rule=\"nonzero\" fill-opacity=\"1\" /><path clip-path=\"url(#clip660)\" d=\"M63.1911 975.372 Q59.58 975.372 57.7513 978.937 Q55.9458 982.479 55.9458 989.608 Q55.9458 996.715 57.7513 1000.28 Q59.58 1003.82 63.1911 1003.82 Q66.8254 1003.82 68.6309 1000.28 Q70.4596 996.715 70.4596 989.608 Q70.4596 982.479 68.6309 978.937 Q66.8254 975.372 63.1911 975.372 M63.1911 971.668 Q69.0013 971.668 72.0568 976.275 Q75.1355 980.858 75.1355 989.608 Q75.1355 998.335 72.0568 1002.94 Q69.0013 1007.52 63.1911 1007.52 Q57.381 1007.52 54.3023 1002.94 Q51.2468 998.335 51.2468 989.608 Q51.2468 980.858 54.3023 976.275 Q57.381 971.668 63.1911 971.668 Z\" fill=\"#000000\" fill-rule=\"nonzero\" fill-opacity=\"1\" /><path clip-path=\"url(#clip660)\" d=\"M83.3531 1000.97 L88.2373 1000.97 L88.2373 1006.85 L83.3531 1006.85 L83.3531 1000.97 Z\" fill=\"#000000\" fill-rule=\"nonzero\" fill-opacity=\"1\" /><path clip-path=\"url(#clip660)\" d=\"M98.5613 1006.14 L98.5613 1001.88 Q100.321 1002.71 102.126 1003.15 Q103.932 1003.59 105.668 1003.59 Q110.297 1003.59 112.728 1000.49 Q115.182 997.363 115.529 991.02 Q114.186 993.011 112.126 994.076 Q110.066 995.141 107.566 995.141 Q102.381 995.141 99.3483 992.016 Q96.3391 988.867 96.3391 983.428 Q96.3391 978.104 99.4872 974.886 Q102.635 971.668 107.867 971.668 Q113.862 971.668 117.01 976.275 Q120.182 980.858 120.182 989.608 Q120.182 997.779 116.293 1002.66 Q112.427 1007.52 105.876 1007.52 Q104.117 1007.52 102.311 1007.18 Q100.506 1006.83 98.5613 1006.14 M107.867 991.483 Q111.015 991.483 112.844 989.33 Q114.695 987.178 114.695 983.428 Q114.695 979.701 112.844 977.548 Q111.015 975.372 107.867 975.372 Q104.719 975.372 102.867 977.548 Q101.038 979.701 101.038 983.428 Q101.038 987.178 102.867 989.33 Q104.719 991.483 107.867 991.483 Z\" fill=\"#000000\" fill-rule=\"nonzero\" fill-opacity=\"1\" /><path clip-path=\"url(#clip660)\" d=\"M138.584 990.441 Q135.251 990.441 133.33 992.224 Q131.432 994.006 131.432 997.131 Q131.432 1000.26 133.33 1002.04 Q135.251 1003.82 138.584 1003.82 Q141.918 1003.82 143.839 1002.04 Q145.76 1000.23 145.76 997.131 Q145.76 994.006 143.839 992.224 Q141.941 990.441 138.584 990.441 M133.908 988.451 Q130.899 987.71 129.209 985.65 Q127.543 983.59 127.543 980.627 Q127.543 976.483 130.482 974.076 Q133.445 971.668 138.584 971.668 Q143.746 971.668 146.686 974.076 Q149.626 976.483 149.626 980.627 Q149.626 983.59 147.936 985.65 Q146.269 987.71 143.283 988.451 Q146.663 989.238 148.538 991.529 Q150.436 993.821 150.436 997.131 Q150.436 1002.15 147.357 1004.84 Q144.302 1007.52 138.584 1007.52 Q132.867 1007.52 129.788 1004.84 Q126.732 1002.15 126.732 997.131 Q126.732 993.821 128.631 991.529 Q130.529 989.238 133.908 988.451 M132.195 981.067 Q132.195 983.752 133.862 985.256 Q135.552 986.761 138.584 986.761 Q141.593 986.761 143.283 985.256 Q144.996 983.752 144.996 981.067 Q144.996 978.381 143.283 976.877 Q141.593 975.372 138.584 975.372 Q135.552 975.372 133.862 976.877 Q132.195 978.381 132.195 981.067 Z\" fill=\"#000000\" fill-rule=\"nonzero\" fill-opacity=\"1\" /><path clip-path=\"url(#clip660)\" d=\"M53.9088 715.201 L61.5476 715.201 L61.5476 688.836 L53.2375 690.502 L53.2375 686.243 L61.5013 684.576 L66.1772 684.576 L66.1772 715.201 L73.8161 715.201 L73.8161 719.136 L53.9088 719.136 L53.9088 715.201 Z\" fill=\"#000000\" fill-rule=\"nonzero\" fill-opacity=\"1\" /><path clip-path=\"url(#clip660)\" d=\"M83.2605 713.257 L88.1447 713.257 L88.1447 719.136 L83.2605 719.136 L83.2605 713.257 Z\" fill=\"#000000\" fill-rule=\"nonzero\" fill-opacity=\"1\" /><path clip-path=\"url(#clip660)\" d=\"M108.33 687.655 Q104.719 687.655 102.89 691.22 Q101.084 694.761 101.084 701.891 Q101.084 708.997 102.89 712.562 Q104.719 716.104 108.33 716.104 Q111.964 716.104 113.77 712.562 Q115.598 708.997 115.598 701.891 Q115.598 694.761 113.77 691.22 Q111.964 687.655 108.33 687.655 M108.33 683.951 Q114.14 683.951 117.195 688.558 Q120.274 693.141 120.274 701.891 Q120.274 710.618 117.195 715.224 Q114.14 719.808 108.33 719.808 Q102.52 719.808 99.4409 715.224 Q96.3854 710.618 96.3854 701.891 Q96.3854 693.141 99.4409 688.558 Q102.52 683.951 108.33 683.951 Z\" fill=\"#000000\" fill-rule=\"nonzero\" fill-opacity=\"1\" /><path clip-path=\"url(#clip660)\" d=\"M138.492 687.655 Q134.881 687.655 133.052 691.22 Q131.246 694.761 131.246 701.891 Q131.246 708.997 133.052 712.562 Q134.881 716.104 138.492 716.104 Q142.126 716.104 143.931 712.562 Q145.76 708.997 145.76 701.891 Q145.76 694.761 143.931 691.22 Q142.126 687.655 138.492 687.655 M138.492 683.951 Q144.302 683.951 147.357 688.558 Q150.436 693.141 150.436 701.891 Q150.436 710.618 147.357 715.224 Q144.302 719.808 138.492 719.808 Q132.682 719.808 129.603 715.224 Q126.547 710.618 126.547 701.891 Q126.547 693.141 129.603 688.558 Q132.682 683.951 138.492 683.951 Z\" fill=\"#000000\" fill-rule=\"nonzero\" fill-opacity=\"1\" /><path clip-path=\"url(#clip660)\" d=\"M55.506 427.484 L63.1448 427.484 L63.1448 401.118 L54.8347 402.785 L54.8347 398.526 L63.0985 396.859 L67.7744 396.859 L67.7744 427.484 L75.4133 427.484 L75.4133 431.419 L55.506 431.419 L55.506 427.484 Z\" fill=\"#000000\" fill-rule=\"nonzero\" fill-opacity=\"1\" /><path clip-path=\"url(#clip660)\" d=\"M84.8577 425.54 L89.7419 425.54 L89.7419 431.419 L84.8577 431.419 L84.8577 425.54 Z\" fill=\"#000000\" fill-rule=\"nonzero\" fill-opacity=\"1\" /><path clip-path=\"url(#clip660)\" d=\"M109.927 399.938 Q106.316 399.938 104.487 403.503 Q102.682 407.044 102.682 414.174 Q102.682 421.28 104.487 424.845 Q106.316 428.387 109.927 428.387 Q113.561 428.387 115.367 424.845 Q117.195 421.28 117.195 414.174 Q117.195 407.044 115.367 403.503 Q113.561 399.938 109.927 399.938 M109.927 396.234 Q115.737 396.234 118.793 400.841 Q121.871 405.424 121.871 414.174 Q121.871 422.901 118.793 427.507 Q115.737 432.09 109.927 432.09 Q104.117 432.09 101.038 427.507 Q97.9826 422.901 97.9826 414.174 Q97.9826 405.424 101.038 400.841 Q104.117 396.234 109.927 396.234 Z\" fill=\"#000000\" fill-rule=\"nonzero\" fill-opacity=\"1\" /><path clip-path=\"url(#clip660)\" d=\"M134.117 427.484 L150.436 427.484 L150.436 431.419 L128.492 431.419 L128.492 427.484 Q131.154 424.729 135.737 420.1 Q140.343 415.447 141.524 414.104 Q143.769 411.581 144.649 409.845 Q145.552 408.086 145.552 406.396 Q145.552 403.642 143.607 401.905 Q141.686 400.169 138.584 400.169 Q136.385 400.169 133.931 400.933 Q131.501 401.697 128.723 403.248 L128.723 398.526 Q131.547 397.392 134.001 396.813 Q136.455 396.234 138.492 396.234 Q143.862 396.234 147.056 398.919 Q150.251 401.604 150.251 406.095 Q150.251 408.225 149.441 410.146 Q148.654 412.044 146.547 414.637 Q145.968 415.308 142.867 418.526 Q139.765 421.72 134.117 427.484 Z\" fill=\"#000000\" fill-rule=\"nonzero\" fill-opacity=\"1\" /><path clip-path=\"url(#clip660)\" d=\"M53.4227 139.767 L61.0615 139.767 L61.0615 113.401 L52.7514 115.068 L52.7514 110.809 L61.0152 109.142 L65.6911 109.142 L65.6911 139.767 L73.33 139.767 L73.33 143.702 L53.4227 143.702 L53.4227 139.767 Z\" fill=\"#000000\" fill-rule=\"nonzero\" fill-opacity=\"1\" /><path clip-path=\"url(#clip660)\" d=\"M82.7744 137.822 L87.6586 137.822 L87.6586 143.702 L82.7744 143.702 L82.7744 137.822 Z\" fill=\"#000000\" fill-rule=\"nonzero\" fill-opacity=\"1\" /><path clip-path=\"url(#clip660)\" d=\"M107.844 112.221 Q104.233 112.221 102.404 115.785 Q100.598 119.327 100.598 126.457 Q100.598 133.563 102.404 137.128 Q104.233 140.67 107.844 140.67 Q111.478 140.67 113.283 137.128 Q115.112 133.563 115.112 126.457 Q115.112 119.327 113.283 115.785 Q111.478 112.221 107.844 112.221 M107.844 108.517 Q113.654 108.517 116.709 113.123 Q119.788 117.707 119.788 126.457 Q119.788 135.184 116.709 139.79 Q113.654 144.373 107.844 144.373 Q102.034 144.373 98.9548 139.79 Q95.8993 135.184 95.8993 126.457 Q95.8993 117.707 98.9548 113.123 Q102.034 108.517 107.844 108.517 Z\" fill=\"#000000\" fill-rule=\"nonzero\" fill-opacity=\"1\" /><path clip-path=\"url(#clip660)\" d=\"M140.853 113.216 L129.047 131.665 L140.853 131.665 L140.853 113.216 M139.626 109.142 L145.506 109.142 L145.506 131.665 L150.436 131.665 L150.436 135.554 L145.506 135.554 L145.506 143.702 L140.853 143.702 L140.853 135.554 L125.251 135.554 L125.251 131.04 L139.626 109.142 Z\" fill=\"#000000\" fill-rule=\"nonzero\" fill-opacity=\"1\" /><polyline clip-path=\"url(#clip662)\" style=\"stroke:#009af9; stroke-linecap:round; stroke-linejoin:round; stroke-width:4; stroke-opacity:1; fill:none\" points=\"247.747,689.802 361.286,739.541 474.825,787.459 588.363,829.327 701.902,870.028 815.441,807.699 928.98,756.817 1042.52,717.591 1156.06,685.05 1269.6,657.257 1383.13,633.116 1496.67,611.909 1610.21,593.125 1723.75,576.384 1837.29,561.386 1950.83,547.893 2064.37,535.71 2177.91,524.672 2291.44,514.643 \"/>\n",
       "<polyline clip-path=\"url(#clip662)\" style=\"stroke:#e26f46; stroke-linecap:round; stroke-linejoin:round; stroke-width:4; stroke-opacity:1; fill:none\" points=\"247.747,1445.72 361.286,1341.64 474.825,1242.59 588.363,1148.08 701.902,1057.73 815.441,971.172 928.98,888.105 1042.52,808.253 1156.06,731.376 1269.6,657.257 1383.13,585.705 1496.67,516.546 1610.21,449.624 1723.75,384.797 1837.29,321.937 1950.83,260.927 2064.37,201.661 2177.91,144.041 2291.44,87.9763 \"/>\n",
       "<polyline clip-path=\"url(#clip662)\" style=\"stroke:#3da44d; stroke-linecap:round; stroke-linejoin:round; stroke-width:4; stroke-opacity:1; fill:none\" points=\"247.747,1124.23 361.286,1062.28 474.825,1003.41 588.363,947.311 701.902,893.75 815.441,842.509 928.98,793.397 1042.52,746.247 1156.06,700.912 1269.6,657.257 1383.13,615.166 1496.67,574.532 1610.21,535.259 1723.75,497.26 1837.29,460.457 1950.83,424.777 2064.37,390.155 2177.91,356.532 2291.44,323.852 \"/>\n",
       "<path clip-path=\"url(#clip660)\" d=\"M258.647 302.578 L528.288 302.578 L528.288 95.2176 L258.647 95.2176  Z\" fill=\"#ffffff\" fill-rule=\"evenodd\" fill-opacity=\"1\"/>\n",
       "<polyline clip-path=\"url(#clip660)\" style=\"stroke:#000000; stroke-linecap:round; stroke-linejoin:round; stroke-width:4; stroke-opacity:1; fill:none\" points=\"258.647,302.578 528.288,302.578 528.288,95.2176 258.647,95.2176 258.647,302.578 \"/>\n",
       "<polyline clip-path=\"url(#clip660)\" style=\"stroke:#009af9; stroke-linecap:round; stroke-linejoin:round; stroke-width:4; stroke-opacity:1; fill:none\" points=\"282.717,147.058 427.138,147.058 \"/>\n",
       "<path clip-path=\"url(#clip660)\" d=\"M465.051 166.745 Q463.245 171.375 461.532 172.787 Q459.82 174.199 456.949 174.199 L453.546 174.199 L453.546 170.634 L456.046 170.634 Q457.806 170.634 458.778 169.8 Q459.75 168.967 460.931 165.865 L461.695 163.921 L451.208 138.412 L455.722 138.412 L463.824 158.689 L471.926 138.412 L476.44 138.412 L465.051 166.745 Z\" fill=\"#000000\" fill-rule=\"nonzero\" fill-opacity=\"1\" /><path clip-path=\"url(#clip660)\" d=\"M483.731 160.402 L491.37 160.402 L491.37 134.037 L483.06 135.703 L483.06 131.444 L491.324 129.778 L496 129.778 L496 160.402 L503.639 160.402 L503.639 164.338 L483.731 164.338 L483.731 160.402 Z\" fill=\"#000000\" fill-rule=\"nonzero\" fill-opacity=\"1\" /><polyline clip-path=\"url(#clip660)\" style=\"stroke:#e26f46; stroke-linecap:round; stroke-linejoin:round; stroke-width:4; stroke-opacity:1; fill:none\" points=\"282.717,198.898 427.138,198.898 \"/>\n",
       "<path clip-path=\"url(#clip660)\" d=\"M465.051 218.585 Q463.245 223.215 461.532 224.627 Q459.82 226.039 456.949 226.039 L453.546 226.039 L453.546 222.474 L456.046 222.474 Q457.806 222.474 458.778 221.64 Q459.75 220.807 460.931 217.705 L461.695 215.761 L451.208 190.252 L455.722 190.252 L463.824 210.529 L471.926 190.252 L476.44 190.252 L465.051 218.585 Z\" fill=\"#000000\" fill-rule=\"nonzero\" fill-opacity=\"1\" /><path clip-path=\"url(#clip660)\" d=\"M486.949 212.242 L503.268 212.242 L503.268 216.178 L481.324 216.178 L481.324 212.242 Q483.986 209.488 488.569 204.858 Q493.176 200.205 494.356 198.863 Q496.602 196.34 497.481 194.604 Q498.384 192.844 498.384 191.155 Q498.384 188.4 496.44 186.664 Q494.518 184.928 491.417 184.928 Q489.218 184.928 486.764 185.692 Q484.333 186.455 481.556 188.006 L481.556 183.284 Q484.38 182.15 486.833 181.571 Q489.287 180.993 491.324 180.993 Q496.694 180.993 499.889 183.678 Q503.083 186.363 503.083 190.854 Q503.083 192.983 502.273 194.905 Q501.486 196.803 499.38 199.395 Q498.801 200.067 495.699 203.284 Q492.597 206.479 486.949 212.242 Z\" fill=\"#000000\" fill-rule=\"nonzero\" fill-opacity=\"1\" /><polyline clip-path=\"url(#clip660)\" style=\"stroke:#3da44d; stroke-linecap:round; stroke-linejoin:round; stroke-width:4; stroke-opacity:1; fill:none\" points=\"282.717,250.738 427.138,250.738 \"/>\n",
       "<path clip-path=\"url(#clip660)\" d=\"M465.051 270.425 Q463.245 275.055 461.532 276.467 Q459.82 277.879 456.949 277.879 L453.546 277.879 L453.546 274.314 L456.046 274.314 Q457.806 274.314 458.778 273.48 Q459.75 272.647 460.931 269.545 L461.695 267.601 L451.208 242.092 L455.722 242.092 L463.824 262.369 L471.926 242.092 L476.44 242.092 L465.051 270.425 Z\" fill=\"#000000\" fill-rule=\"nonzero\" fill-opacity=\"1\" /><path clip-path=\"url(#clip660)\" d=\"M497.088 249.383 Q500.444 250.101 502.319 252.369 Q504.217 254.638 504.217 257.971 Q504.217 263.087 500.699 265.888 Q497.18 268.689 490.699 268.689 Q488.523 268.689 486.208 268.249 Q483.917 267.832 481.463 266.976 L481.463 262.462 Q483.407 263.596 485.722 264.175 Q488.037 264.754 490.56 264.754 Q494.958 264.754 497.25 263.018 Q499.565 261.281 499.565 257.971 Q499.565 254.916 497.412 253.203 Q495.282 251.467 491.463 251.467 L487.435 251.467 L487.435 247.624 L491.648 247.624 Q495.097 247.624 496.926 246.258 Q498.755 244.87 498.755 242.277 Q498.755 239.615 496.856 238.203 Q494.981 236.768 491.463 236.768 Q489.542 236.768 487.343 237.184 Q485.143 237.601 482.505 238.481 L482.505 234.314 Q485.167 233.573 487.481 233.203 Q489.819 232.833 491.88 232.833 Q497.204 232.833 500.305 235.263 Q503.407 237.67 503.407 241.791 Q503.407 244.661 501.764 246.652 Q500.12 248.62 497.088 249.383 Z\" fill=\"#000000\" fill-rule=\"nonzero\" fill-opacity=\"1\" /></svg>\n"
      ]
     },
     "metadata": {},
     "output_type": "display_data"
    }
   ],
   "source": [
    "plot(LinRange(a,b,2*M-1),GDP[:,1])\n",
    "plot!(LinRange(a,b,2*M-1),GDP[:,2])\n",
    "plot!(LinRange(a,b,2*M-1),GDP[:,3])"
   ]
  },
  {
   "cell_type": "code",
   "execution_count": 1,
   "id": "a97eacab",
   "metadata": {},
   "outputs": [
    {
     "data": {
      "text/plain": [
       "8"
      ]
     },
     "metadata": {},
     "output_type": "display_data"
    }
   ],
   "source": [
    "Threads.nthreads()"
   ]
  },
  {
   "cell_type": "code",
   "execution_count": 23,
   "id": "e42e14bb",
   "metadata": {},
   "outputs": [
    {
     "data": {
      "text/plain": [
       "8×3 view(::Matrix{Float64}, 1:8, :) with eltype Float64:\n",
       " 0.966997  0.96083   0.996753\n",
       " 0.97552   0.967623  0.996333\n",
       " 0.98162   0.974269  0.996328\n",
       " 0.987477  0.980736  0.997077\n",
       " 0.992308  0.986659  0.999837\n",
       " 0.996392  0.993301  0.998019\n",
       " 1.00455   1.00531   1.00736\n",
       " 1.00931   1.00931   1.00931"
      ]
     },
     "metadata": {},
     "output_type": "display_data"
    }
   ],
   "source": [
    "@views reverse!(GDP[1:M-2,:],dims=1)"
   ]
  },
  {
   "cell_type": "code",
   "execution_count": null,
   "id": "fa676034",
   "metadata": {},
   "outputs": [],
   "source": []
  }
 ],
 "metadata": {
  "kernelspec": {
   "display_name": "Julia 1.8.0",
   "language": "julia",
   "name": "julia-1.8"
  },
  "language_info": {
   "file_extension": ".jl",
   "mimetype": "application/julia",
   "name": "julia",
   "version": "1.8.0"
  }
 },
 "nbformat": 4,
 "nbformat_minor": 5
}

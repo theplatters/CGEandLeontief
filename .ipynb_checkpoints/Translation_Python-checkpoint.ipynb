{
 "cells": [
  {
   "cell_type": "markdown",
   "id": "9167773d-11ed-4c2e-9977-ceba8403f95d",
   "metadata": {},
   "source": [
    "## Data Loading\n",
    "Loads in the big data matrix and the stfp matrix created by matlab"
   ]
  },
  {
   "cell_type": "code",
   "execution_count": 1,
   "id": "95079eac-5c20-40c9-a0b7-9811617984be",
   "metadata": {
    "ExecuteTime": {
     "end_time": "2023-09-01T16:50:41.384122425Z",
     "start_time": "2023-09-01T16:50:41.267275297Z"
    }
   },
   "outputs": [],
   "source": [
    "from scipy.io import loadmat\n",
    "\n",
    "def load_in_data():\n",
    "    file = scipy.io.loadmat(\"data/simulationData.mat\")\n",
    "    data = file[\"data\"]\n",
    "    return data\n",
    "\n",
    "def load_stfp():\n",
    "    file = scipy.io.loadmat(\"data/stfp.mat\")\n",
    "    stfp = file[\"stfp\"]\n",
    "    return stfp\n"
   ]
  },
  {
   "cell_type": "markdown",
   "id": "9a348fd9-22b0-406f-ac47-661e3430a6f5",
   "metadata": {},
   "source": [
    "## Data processing\n",
    "Processes the data just as in the matlab version"
   ]
  },
  {
   "cell_type": "code",
   "execution_count": 2,
   "id": "70676b88-66d6-44c0-b2c0-ca73e6dbdd0a",
   "metadata": {},
   "outputs": [
    {
     "name": "stdout",
     "output_type": "stream",
     "text": [
      "[Errno 2] No such file or directory: 'C:UsersRafaelDocumentsGitHubBeyondHulten'\n",
      "/home/franzs/Schreibtisch/BeyondHulten\n"
     ]
    }
   ],
   "source": [
    "# Set the notebook directory as the working directory\n",
    "%pwd\n",
    "%cd C:\\Users\\Rafael\\Documents\\GitHub\\BeyondHulten"
   ]
  },
  {
   "cell_type": "code",
   "execution_count": 3,
   "id": "b5ea1eb5-cee5-4262-aaf9-af8d118dacbd",
   "metadata": {
    "ExecuteTime": {
     "end_time": "2023-09-01T16:50:47.603772831Z",
     "start_time": "2023-09-01T16:50:47.277452216Z"
    }
   },
   "outputs": [],
   "source": [
    "import numpy as np\n",
    "import pandas as pd\n",
    "import scipy\n",
    "\n",
    "#data is the IO matrix for 88 sectors over 46 years (1960-2005)\n",
    "data2 = load_in_data()\n",
    "ind = pd.MultiIndex.from_arrays(data2[:, (0,1)].T, names=('year','sec'))\n",
    "data = pd.DataFrame(data2[:, 2:93], index=ind)\n",
    "del data2, ind"
   ]
  },
  {
   "cell_type": "code",
   "execution_count": 4,
   "id": "f7b1bdca-9f8c-4e75-85c9-95fb3981948d",
   "metadata": {
    "ExecuteTime": {
     "end_time": "2023-09-01T16:50:48.453892009Z",
     "start_time": "2023-09-01T16:50:48.411473080Z"
    }
   },
   "outputs": [
    {
     "name": "stdout",
     "output_type": "stream",
     "text": [
      "3434.026\n",
      "3433.7749999999996\n",
      "0    88366.023\n",
      "1    25623.402\n",
      "2    31151.107\n",
      "Name: (2005.0, 2.0), dtype: float64\n"
     ]
    }
   ],
   "source": [
    "#Column 0 of datavector contains gross output for each sector\n",
    "print(data.loc[(1960,2),0]*2) #first column times two\n",
    "print(data.loc[(1960,2)].sum()) #summed across all columns (including the sum in column 0 already)\n",
    "#Column 1 and 2 contain labour and capital\n",
    "print(data.loc[(2005,2),0:2])\n",
    "#Columns 3 to 90 contain the 88 sectors\n",
    "#Colum 91 contains noncompetitive imports\n"
   ]
  },
  {
   "cell_type": "code",
   "execution_count": 5,
   "id": "7670f8e1-a673-4a1f-b2ac-90f597e4f636",
   "metadata": {
    "ExecuteTime": {
     "end_time": "2023-09-01T17:10:48.365107946Z",
     "start_time": "2023-09-01T17:10:48.350196467Z"
    }
   },
   "outputs": [],
   "source": [
    "#delete 10 sectors\n",
    "removable_sectors = [59] + list(range(79, 88))\n",
    "data2 = data.drop(index=removable_sectors, level=1)\n",
    "\n",
    "#key aggregates\n",
    "grossy = data2.loc[:,0].unstack().T\n",
    "capital = data2.loc[:,1].unstack().T\n",
    "labor = data2.loc[:,2].unstack().T\n",
    "vadd = labor + capital\n",
    "\n",
    "#remaining sector list\n",
    "sec = list(range(1,89))\n",
    "for i in removable_sectors:\n",
    "    sec.remove(i)\n",
    "len(sec)\n",
    "\n",
    "#delete sectors which don't produce anything\n",
    "grossy.loc[(grossy==0).all(axis=1)] #sectors 8 and 62\n",
    "zeroprod = list(grossy.loc[(grossy==0).all(axis=1)].index.values)\n",
    "\n",
    "grossy = grossy.drop(index=zeroprod)\n",
    "capital = capital.drop(index=zeroprod)\n",
    "labor = labor.drop(index=zeroprod)\n",
    "vadd = vadd.drop(index=zeroprod)\n",
    "\n",
    "stfp = load_stfp()\n",
    "Σ = np.cov(stfp, rowvar=True)\n",
    "μ = np.mean(stfp, axis=1)"
   ]
  },
  {
   "cell_type": "markdown",
   "id": "55d7cee0-eb24-4438-a843-37c8492c7124",
   "metadata": {},
   "source": [
    "## Creating usable variables\n",
    "Function that creates the metrics for a given year"
   ]
  },
  {
   "cell_type": "code",
   "execution_count": 12,
   "id": "38d8979c-eb0c-4fd9-91c5-fef9436fec25",
   "metadata": {
    "ExecuteTime": {
     "end_time": "2023-09-01T17:10:49.545070898Z",
     "start_time": "2023-09-01T17:10:49.538952587Z"
    }
   },
   "outputs": [],
   "source": [
    "def get_variables(year):\n",
    "    IO = data.loc[year,:]\n",
    "    \n",
    "    sectors_to_remove = list(map(int, grossy[year].index))\n",
    "    temp = list(map(lambda x: x - 1 ,sectors_to_remove))\n",
    "    IO = IO.loc[sectors_to_remove,temp]\n",
    "\n",
    "    Ω = IO.div(IO.sum(axis = 1),axis = 0).to_numpy()\n",
    "    \n",
    "    α = vadd[year]/grossy[year]\n",
    "    β = (np.eye(len(grossy)) - np.diag(1 - α) @ Ω).T @ grossy[year]\n",
    "    β[β < 0] = 0\n",
    "    β = β / np.sum(β)\n",
    "    λ = np.linalg.inv( np.eye(len(grossy)) - np.diag(1 - α) @ Ω).T @ β\n",
    "    L = λ * α\n",
    "\n",
    "    return α, β, Ω, L, λ"
   ]
  },
  {
   "cell_type": "markdown",
   "id": "179d103c-a720-4bff-9b37-1ffd42f2d349",
   "metadata": {},
   "source": [
    "## Elasticities"
   ]
  },
  {
   "cell_type": "code",
   "execution_count": 13,
   "id": "7c6e12c3-258f-4013-ae6c-77cee418b3ce",
   "metadata": {
    "ExecuteTime": {
     "end_time": "2023-09-01T17:10:00.411462100Z",
     "start_time": "2023-09-01T17:10:00.408227263Z"
    }
   },
   "outputs": [],
   "source": [
    "ε = .5;\n",
    "θ = 0.001;\n",
    "σ = .9;"
   ]
  },
  {
   "cell_type": "markdown",
   "id": "94e008f0-2fd9-4047-a905-4c7b421df2ea",
   "metadata": {},
   "source": [
    "# Construction Site Below HERE"
   ]
  },
  {
   "cell_type": "markdown",
   "id": "362759e2-3dc3-4226-8bee-e9bdb79bd7d0",
   "metadata": {},
   "source": [
    "## Objective Function\n",
    "\n",
    "Here the objective function in `SimulationDerivs.m` is formulated, also the Jacobian is given, to helpt the solver."
   ]
  },
  {
   "cell_type": "code",
   "execution_count": 42,
   "id": "ef4b0373-f727-4d45-a9a7-6fc3f0a1c954",
   "metadata": {
    "ExecuteTime": {
     "end_time": "2023-09-01T17:10:02.381114229Z",
     "start_time": "2023-09-01T17:10:02.379585681Z"
    }
   },
   "outputs": [],
   "source": [
    "def problem(X, A, β, Ω, α, ε, θ, σ, L):\n",
    "    N = len(α)\n",
    "    p = X[:N]\n",
    "    y = X[N:]\n",
    "\n",
    "    Out = np.zeros(2 * N, dtype=X.dtype)\n",
    "\n",
    "    q = (Ω @ (p ** (1 - θ))) ** (1 / (1 - θ))\n",
    "    w = p * (A ** ((ε - 1) / ε)) * (α ** (1 / ε)) * (y ** (1 / ε)) * L ** (-1 / ε)\n",
    "    C = np.dot(w, L)\n",
    "\n",
    "    Out[:N] = p - (A ** (ε - 1) * (α * w ** (1 - ε) + (1 - α) * q ** (1 - ε))) ** (1 / (1 - ε))\n",
    "    Out[N:] = y - (y * p ** ε * A ** (ε - 1) * q ** (θ - ε) * (1 - α)) @ Ω @ (p ** - θ) - C * np.dot(β,p**-θ)  \n",
    "    return Out\n"
   ]
  },
  {
   "cell_type": "markdown",
   "id": "c29e2d8c-5656-4034-a4db-3b091fab4877",
   "metadata": {},
   "source": [
    "## Generating Random Shocks"
   ]
  },
  {
   "cell_type": "code",
   "execution_count": 43,
   "id": "45028840-a97b-452d-92ff-5bd423b4b672",
   "metadata": {
    "ExecuteTime": {
     "end_time": "2023-09-01T17:10:03.399711260Z",
     "start_time": "2023-09-01T17:10:03.379845570Z"
    }
   },
   "outputs": [],
   "source": [
    "from scipy.stats import multivariate_normal\n",
    "\n",
    "def generate_random_shock(Σ, α, Ω, λ):\n",
    "    n = len(Σ)\n",
    "    cov_matrix = np.diag(np.diag(Σ))\n",
    "    A = np.exp(multivariate_normal.rvs(mean=-0.5 * np.diag(Σ), cov=cov_matrix))\n",
    "    \n",
    "    inv_term = np.linalg.inv(np.eye(n) - np.diag(1 - α) @ Ω)\n",
    "    log_A = np.log(A)\n",
    "    init = np.concatenate((np.exp(-inv_term @ log_A), λ / np.exp(-inv_term @ log_A)))\n",
    "    \n",
    "    return A, init\n"
   ]
  },
  {
   "cell_type": "markdown",
   "id": "d3d4d553-f149-4cb1-91a2-4396307ebdbb",
   "metadata": {},
   "source": [
    "## Solving for shocks"
   ]
  },
  {
   "cell_type": "code",
   "execution_count": 55,
   "id": "0426cafc-5fb6-46d2-8b7f-f352df3c8b6f",
   "metadata": {
    "ExecuteTime": {
     "end_time": "2023-09-01T17:10:06.081771955Z",
     "start_time": "2023-09-01T17:10:06.075685981Z"
    }
   },
   "outputs": [
    {
     "ename": "TypeError",
     "evalue": "Cannot cast array data from dtype('complex128') to dtype('float64') according to the rule 'safe'",
     "output_type": "error",
     "traceback": [
      "\u001b[0;31m---------------------------------------------------------------------------\u001b[0m",
      "\u001b[0;31mTypeError\u001b[0m                                 Traceback (most recent call last)",
      "Cell \u001b[0;32mIn[55], line 11\u001b[0m\n\u001b[1;32m      8\u001b[0m y \u001b[38;5;241m=\u001b[39m λ\n\u001b[1;32m      9\u001b[0m init \u001b[38;5;241m=\u001b[39m np\u001b[38;5;241m.\u001b[39mconcatenate((p,y))\n\u001b[0;32m---> 11\u001b[0m sol \u001b[38;5;241m=\u001b[39m \u001b[43mroot\u001b[49m\u001b[43m(\u001b[49m\u001b[38;5;28;43;01mlambda\u001b[39;49;00m\u001b[43m \u001b[49m\u001b[43mx0\u001b[49m\u001b[43m \u001b[49m\u001b[43m:\u001b[49m\u001b[43m \u001b[49m\u001b[43mproblem\u001b[49m\u001b[43m(\u001b[49m\u001b[43mx0\u001b[49m\u001b[43m,\u001b[49m\u001b[43m \u001b[49m\u001b[43mA\u001b[49m\u001b[43m,\u001b[49m\u001b[43m \u001b[49m\u001b[43mβ\u001b[49m\u001b[43m,\u001b[49m\u001b[43m \u001b[49m\u001b[43mΩ\u001b[49m\u001b[43m,\u001b[49m\u001b[43m \u001b[49m\u001b[43mα\u001b[49m\u001b[43m,\u001b[49m\u001b[43m \u001b[49m\u001b[43mε\u001b[49m\u001b[43m,\u001b[49m\u001b[43m \u001b[49m\u001b[43mθ\u001b[49m\u001b[43m,\u001b[49m\u001b[43m \u001b[49m\u001b[43mσ\u001b[49m\u001b[43m,\u001b[49m\u001b[43m \u001b[49m\u001b[43mL\u001b[49m\u001b[43m)\u001b[49m\u001b[43m,\u001b[49m\u001b[43m \u001b[49m\u001b[43minit\u001b[49m\u001b[43m,\u001b[49m\u001b[43m \u001b[49m\u001b[43mmethod\u001b[49m\u001b[38;5;241;43m=\u001b[39;49m\u001b[38;5;124;43m'\u001b[39;49m\u001b[38;5;124;43mhybr\u001b[39;49m\u001b[38;5;124;43m'\u001b[39;49m\u001b[43m)\u001b[49m\n",
      "File \u001b[0;32m/usr/lib/python3.11/site-packages/scipy/optimize/_root.py:236\u001b[0m, in \u001b[0;36mroot\u001b[0;34m(fun, x0, args, method, jac, tol, callback, options)\u001b[0m\n\u001b[1;32m    233\u001b[0m         options\u001b[38;5;241m.\u001b[39msetdefault(\u001b[38;5;124m'\u001b[39m\u001b[38;5;124mfatol\u001b[39m\u001b[38;5;124m'\u001b[39m, np\u001b[38;5;241m.\u001b[39minf)\n\u001b[1;32m    235\u001b[0m \u001b[38;5;28;01mif\u001b[39;00m meth \u001b[38;5;241m==\u001b[39m \u001b[38;5;124m'\u001b[39m\u001b[38;5;124mhybr\u001b[39m\u001b[38;5;124m'\u001b[39m:\n\u001b[0;32m--> 236\u001b[0m     sol \u001b[38;5;241m=\u001b[39m \u001b[43m_root_hybr\u001b[49m\u001b[43m(\u001b[49m\u001b[43mfun\u001b[49m\u001b[43m,\u001b[49m\u001b[43m \u001b[49m\u001b[43mx0\u001b[49m\u001b[43m,\u001b[49m\u001b[43m \u001b[49m\u001b[43margs\u001b[49m\u001b[38;5;241;43m=\u001b[39;49m\u001b[43margs\u001b[49m\u001b[43m,\u001b[49m\u001b[43m \u001b[49m\u001b[43mjac\u001b[49m\u001b[38;5;241;43m=\u001b[39;49m\u001b[43mjac\u001b[49m\u001b[43m,\u001b[49m\u001b[43m \u001b[49m\u001b[38;5;241;43m*\u001b[39;49m\u001b[38;5;241;43m*\u001b[39;49m\u001b[43moptions\u001b[49m\u001b[43m)\u001b[49m\n\u001b[1;32m    237\u001b[0m \u001b[38;5;28;01melif\u001b[39;00m meth \u001b[38;5;241m==\u001b[39m \u001b[38;5;124m'\u001b[39m\u001b[38;5;124mlm\u001b[39m\u001b[38;5;124m'\u001b[39m:\n\u001b[1;32m    238\u001b[0m     sol \u001b[38;5;241m=\u001b[39m _root_leastsq(fun, x0, args\u001b[38;5;241m=\u001b[39margs, jac\u001b[38;5;241m=\u001b[39mjac, \u001b[38;5;241m*\u001b[39m\u001b[38;5;241m*\u001b[39moptions)\n",
      "File \u001b[0;32m/usr/lib/python3.11/site-packages/scipy/optimize/_minpack_py.py:239\u001b[0m, in \u001b[0;36m_root_hybr\u001b[0;34m(func, x0, args, jac, col_deriv, xtol, maxfev, band, eps, factor, diag, **unknown_options)\u001b[0m\n\u001b[1;32m    237\u001b[0m     \u001b[38;5;28;01mif\u001b[39;00m maxfev \u001b[38;5;241m==\u001b[39m \u001b[38;5;241m0\u001b[39m:\n\u001b[1;32m    238\u001b[0m         maxfev \u001b[38;5;241m=\u001b[39m \u001b[38;5;241m200\u001b[39m \u001b[38;5;241m*\u001b[39m (n \u001b[38;5;241m+\u001b[39m \u001b[38;5;241m1\u001b[39m)\n\u001b[0;32m--> 239\u001b[0m     retval \u001b[38;5;241m=\u001b[39m \u001b[43m_minpack\u001b[49m\u001b[38;5;241;43m.\u001b[39;49m\u001b[43m_hybrd\u001b[49m\u001b[43m(\u001b[49m\u001b[43mfunc\u001b[49m\u001b[43m,\u001b[49m\u001b[43m \u001b[49m\u001b[43mx0\u001b[49m\u001b[43m,\u001b[49m\u001b[43m \u001b[49m\u001b[43margs\u001b[49m\u001b[43m,\u001b[49m\u001b[43m \u001b[49m\u001b[38;5;241;43m1\u001b[39;49m\u001b[43m,\u001b[49m\u001b[43m \u001b[49m\u001b[43mxtol\u001b[49m\u001b[43m,\u001b[49m\u001b[43m \u001b[49m\u001b[43mmaxfev\u001b[49m\u001b[43m,\u001b[49m\n\u001b[1;32m    240\u001b[0m \u001b[43m                             \u001b[49m\u001b[43mml\u001b[49m\u001b[43m,\u001b[49m\u001b[43m \u001b[49m\u001b[43mmu\u001b[49m\u001b[43m,\u001b[49m\u001b[43m \u001b[49m\u001b[43mepsfcn\u001b[49m\u001b[43m,\u001b[49m\u001b[43m \u001b[49m\u001b[43mfactor\u001b[49m\u001b[43m,\u001b[49m\u001b[43m \u001b[49m\u001b[43mdiag\u001b[49m\u001b[43m)\u001b[49m\n\u001b[1;32m    241\u001b[0m \u001b[38;5;28;01melse\u001b[39;00m:\n\u001b[1;32m    242\u001b[0m     _check_func(\u001b[38;5;124m'\u001b[39m\u001b[38;5;124mfsolve\u001b[39m\u001b[38;5;124m'\u001b[39m, \u001b[38;5;124m'\u001b[39m\u001b[38;5;124mfprime\u001b[39m\u001b[38;5;124m'\u001b[39m, Dfun, x0, args, n, (n, n))\n",
      "\u001b[0;31mTypeError\u001b[0m: Cannot cast array data from dtype('complex128') to dtype('float64') according to the rule 'safe'"
     ]
    }
   ],
   "source": [
    "trials = 100\n",
    "GDP = np.zeros(trials)\n",
    "λ_sim = np.zeros((76, trials))\n",
    "α, β, Ω, L, λ = get_variables(1973)\n",
    "\n",
    "A = np.ones(76, dtype=np.complex128)\n",
    "p = np.ones(76,dtype=np.complex128)\n",
    "y = λ\n",
    "init = np.concatenate((p,y))\n",
    "\n",
    "sol = root(lambda x0 : problem(x0, A, β, Ω, α, ε, θ, σ, L), init, method='hybr')\n"
   ]
  },
  {
   "cell_type": "code",
   "execution_count": 46,
   "id": "39834cba-8093-450c-8699-7c77cbe4dcaa",
   "metadata": {
    "ExecuteTime": {
     "end_time": "2023-09-01T17:21:28.392811927Z",
     "start_time": "2023-09-01T17:21:28.156338663Z"
    }
   },
   "outputs": [
    {
     "name": "stderr",
     "output_type": "stream",
     "text": [
      "/tmp/ipykernel_25048/3870089151.py:8: RuntimeWarning: invalid value encountered in power\n",
      "  q = (Ω @ (p ** (1 - θ))) ** (1 / (1 - θ))\n",
      "/tmp/ipykernel_25048/3870089151.py:8: RuntimeWarning: invalid value encountered in power\n",
      "  q = (Ω @ (p ** (1 - θ))) ** (1 / (1 - θ))\n",
      "/tmp/ipykernel_25048/3870089151.py:8: RuntimeWarning: invalid value encountered in power\n",
      "  q = (Ω @ (p ** (1 - θ))) ** (1 / (1 - θ))\n",
      "/tmp/ipykernel_25048/3870089151.py:13: RuntimeWarning: invalid value encountered in sqrt\n",
      "  Out[N:] = y - (y * p ** ε * A ** (ε - 1) * q ** (θ - ε) * (1 - α)) @ Ω @ (p ** - θ) - C * np.dot(β,p**-θ)\n",
      "/tmp/ipykernel_25048/3870089151.py:8: RuntimeWarning: invalid value encountered in power\n",
      "  q = (Ω @ (p ** (1 - θ))) ** (1 / (1 - θ))\n",
      "/tmp/ipykernel_25048/3870089151.py:8: RuntimeWarning: invalid value encountered in power\n",
      "  q = (Ω @ (p ** (1 - θ))) ** (1 / (1 - θ))\n",
      "/tmp/ipykernel_25048/3870089151.py:13: RuntimeWarning: invalid value encountered in sqrt\n",
      "  Out[N:] = y - (y * p ** ε * A ** (ε - 1) * q ** (θ - ε) * (1 - α)) @ Ω @ (p ** - θ) - C * np.dot(β,p**-θ)\n",
      "/tmp/ipykernel_25048/3870089151.py:8: RuntimeWarning: invalid value encountered in power\n",
      "  q = (Ω @ (p ** (1 - θ))) ** (1 / (1 - θ))\n",
      "/tmp/ipykernel_25048/3870089151.py:13: RuntimeWarning: invalid value encountered in power\n",
      "  Out[N:] = y - (y * p ** ε * A ** (ε - 1) * q ** (θ - ε) * (1 - α)) @ Ω @ (p ** - θ) - C * np.dot(β,p**-θ)\n",
      "/tmp/ipykernel_25048/3870089151.py:8: RuntimeWarning: invalid value encountered in power\n",
      "  q = (Ω @ (p ** (1 - θ))) ** (1 / (1 - θ))\n",
      "/tmp/ipykernel_25048/3870089151.py:8: RuntimeWarning: invalid value encountered in power\n",
      "  q = (Ω @ (p ** (1 - θ))) ** (1 / (1 - θ))\n",
      "/tmp/ipykernel_25048/3870089151.py:13: RuntimeWarning: invalid value encountered in sqrt\n",
      "  Out[N:] = y - (y * p ** ε * A ** (ε - 1) * q ** (θ - ε) * (1 - α)) @ Ω @ (p ** - θ) - C * np.dot(β,p**-θ)\n",
      "/tmp/ipykernel_25048/3870089151.py:8: RuntimeWarning: invalid value encountered in power\n",
      "  q = (Ω @ (p ** (1 - θ))) ** (1 / (1 - θ))\n",
      "/tmp/ipykernel_25048/3870089151.py:13: RuntimeWarning: invalid value encountered in sqrt\n",
      "  Out[N:] = y - (y * p ** ε * A ** (ε - 1) * q ** (θ - ε) * (1 - α)) @ Ω @ (p ** - θ) - C * np.dot(β,p**-θ)\n",
      "/tmp/ipykernel_25048/3870089151.py:13: RuntimeWarning: invalid value encountered in sqrt\n",
      "  Out[N:] = y - (y * p ** ε * A ** (ε - 1) * q ** (θ - ε) * (1 - α)) @ Ω @ (p ** - θ) - C * np.dot(β,p**-θ)\n",
      "/tmp/ipykernel_25048/3870089151.py:13: RuntimeWarning: invalid value encountered in sqrt\n",
      "  Out[N:] = y - (y * p ** ε * A ** (ε - 1) * q ** (θ - ε) * (1 - α)) @ Ω @ (p ** - θ) - C * np.dot(β,p**-θ)\n",
      "/tmp/ipykernel_25048/3870089151.py:13: RuntimeWarning: invalid value encountered in power\n",
      "  Out[N:] = y - (y * p ** ε * A ** (ε - 1) * q ** (θ - ε) * (1 - α)) @ Ω @ (p ** - θ) - C * np.dot(β,p**-θ)\n",
      "/tmp/ipykernel_25048/3870089151.py:13: RuntimeWarning: invalid value encountered in sqrt\n",
      "  Out[N:] = y - (y * p ** ε * A ** (ε - 1) * q ** (θ - ε) * (1 - α)) @ Ω @ (p ** - θ) - C * np.dot(β,p**-θ)\n",
      "/tmp/ipykernel_25048/3870089151.py:13: RuntimeWarning: invalid value encountered in sqrt\n",
      "  Out[N:] = y - (y * p ** ε * A ** (ε - 1) * q ** (θ - ε) * (1 - α)) @ Ω @ (p ** - θ) - C * np.dot(β,p**-θ)\n",
      "/tmp/ipykernel_25048/3870089151.py:13: RuntimeWarning: invalid value encountered in power\n",
      "  Out[N:] = y - (y * p ** ε * A ** (ε - 1) * q ** (θ - ε) * (1 - α)) @ Ω @ (p ** - θ) - C * np.dot(β,p**-θ)\n",
      "/tmp/ipykernel_25048/3870089151.py:13: RuntimeWarning: invalid value encountered in power\n",
      "  Out[N:] = y - (y * p ** ε * A ** (ε - 1) * q ** (θ - ε) * (1 - α)) @ Ω @ (p ** - θ) - C * np.dot(β,p**-θ)\n",
      "/tmp/ipykernel_25048/3870089151.py:13: RuntimeWarning: invalid value encountered in power\n",
      "  Out[N:] = y - (y * p ** ε * A ** (ε - 1) * q ** (θ - ε) * (1 - α)) @ Ω @ (p ** - θ) - C * np.dot(β,p**-θ)\n",
      "/tmp/ipykernel_25048/3870089151.py:13: RuntimeWarning: invalid value encountered in power\n",
      "  Out[N:] = y - (y * p ** ε * A ** (ε - 1) * q ** (θ - ε) * (1 - α)) @ Ω @ (p ** - θ) - C * np.dot(β,p**-θ)\n",
      "/tmp/ipykernel_25048/3870089151.py:13: RuntimeWarning: invalid value encountered in power\n",
      "  Out[N:] = y - (y * p ** ε * A ** (ε - 1) * q ** (θ - ε) * (1 - α)) @ Ω @ (p ** - θ) - C * np.dot(β,p**-θ)\n",
      "/tmp/ipykernel_25048/3870089151.py:8: RuntimeWarning: invalid value encountered in power\n",
      "  q = (Ω @ (p ** (1 - θ))) ** (1 / (1 - θ))\n",
      "/tmp/ipykernel_25048/3870089151.py:13: RuntimeWarning: invalid value encountered in sqrt\n",
      "  Out[N:] = y - (y * p ** ε * A ** (ε - 1) * q ** (θ - ε) * (1 - α)) @ Ω @ (p ** - θ) - C * np.dot(β,p**-θ)\n",
      "/tmp/ipykernel_25048/3870089151.py:13: RuntimeWarning: invalid value encountered in power\n",
      "  Out[N:] = y - (y * p ** ε * A ** (ε - 1) * q ** (θ - ε) * (1 - α)) @ Ω @ (p ** - θ) - C * np.dot(β,p**-θ)\n",
      "/tmp/ipykernel_25048/3870089151.py:13: RuntimeWarning: invalid value encountered in sqrt\n",
      "  Out[N:] = y - (y * p ** ε * A ** (ε - 1) * q ** (θ - ε) * (1 - α)) @ Ω @ (p ** - θ) - C * np.dot(β,p**-θ)\n",
      "/tmp/ipykernel_25048/3870089151.py:13: RuntimeWarning: invalid value encountered in power\n",
      "  Out[N:] = y - (y * p ** ε * A ** (ε - 1) * q ** (θ - ε) * (1 - α)) @ Ω @ (p ** - θ) - C * np.dot(β,p**-θ)\n",
      "/tmp/ipykernel_25048/3870089151.py:8: RuntimeWarning: invalid value encountered in power\n",
      "  q = (Ω @ (p ** (1 - θ))) ** (1 / (1 - θ))\n",
      "/tmp/ipykernel_25048/3870089151.py:13: RuntimeWarning: invalid value encountered in power\n",
      "  Out[N:] = y - (y * p ** ε * A ** (ε - 1) * q ** (θ - ε) * (1 - α)) @ Ω @ (p ** - θ) - C * np.dot(β,p**-θ)\n",
      "/tmp/ipykernel_25048/3870089151.py:13: RuntimeWarning: invalid value encountered in sqrt\n",
      "  Out[N:] = y - (y * p ** ε * A ** (ε - 1) * q ** (θ - ε) * (1 - α)) @ Ω @ (p ** - θ) - C * np.dot(β,p**-θ)\n",
      "/tmp/ipykernel_25048/3870089151.py:8: RuntimeWarning: invalid value encountered in power\n",
      "  q = (Ω @ (p ** (1 - θ))) ** (1 / (1 - θ))\n",
      "/tmp/ipykernel_25048/3870089151.py:8: RuntimeWarning: invalid value encountered in power\n",
      "  q = (Ω @ (p ** (1 - θ))) ** (1 / (1 - θ))\n",
      "/tmp/ipykernel_25048/3870089151.py:13: RuntimeWarning: invalid value encountered in power\n",
      "  Out[N:] = y - (y * p ** ε * A ** (ε - 1) * q ** (θ - ε) * (1 - α)) @ Ω @ (p ** - θ) - C * np.dot(β,p**-θ)\n",
      "/tmp/ipykernel_25048/3870089151.py:13: RuntimeWarning: invalid value encountered in sqrt\n",
      "  Out[N:] = y - (y * p ** ε * A ** (ε - 1) * q ** (θ - ε) * (1 - α)) @ Ω @ (p ** - θ) - C * np.dot(β,p**-θ)\n",
      "/tmp/ipykernel_25048/3870089151.py:13: RuntimeWarning: invalid value encountered in sqrt\n",
      "  Out[N:] = y - (y * p ** ε * A ** (ε - 1) * q ** (θ - ε) * (1 - α)) @ Ω @ (p ** - θ) - C * np.dot(β,p**-θ)\n",
      "/tmp/ipykernel_25048/3870089151.py:13: RuntimeWarning: invalid value encountered in power\n",
      "  Out[N:] = y - (y * p ** ε * A ** (ε - 1) * q ** (θ - ε) * (1 - α)) @ Ω @ (p ** - θ) - C * np.dot(β,p**-θ)\n",
      "/tmp/ipykernel_25048/3870089151.py:13: RuntimeWarning: invalid value encountered in power\n",
      "  Out[N:] = y - (y * p ** ε * A ** (ε - 1) * q ** (θ - ε) * (1 - α)) @ Ω @ (p ** - θ) - C * np.dot(β,p**-θ)\n",
      "/tmp/ipykernel_25048/3870089151.py:8: RuntimeWarning: invalid value encountered in power\n",
      "  q = (Ω @ (p ** (1 - θ))) ** (1 / (1 - θ))\n",
      "/tmp/ipykernel_25048/3870089151.py:8: RuntimeWarning: invalid value encountered in power\n",
      "  q = (Ω @ (p ** (1 - θ))) ** (1 / (1 - θ))\n",
      "/tmp/ipykernel_25048/3870089151.py:13: RuntimeWarning: invalid value encountered in sqrt\n",
      "  Out[N:] = y - (y * p ** ε * A ** (ε - 1) * q ** (θ - ε) * (1 - α)) @ Ω @ (p ** - θ) - C * np.dot(β,p**-θ)\n",
      "/tmp/ipykernel_25048/3870089151.py:13: RuntimeWarning: invalid value encountered in power\n",
      "  Out[N:] = y - (y * p ** ε * A ** (ε - 1) * q ** (θ - ε) * (1 - α)) @ Ω @ (p ** - θ) - C * np.dot(β,p**-θ)\n",
      "/tmp/ipykernel_25048/3870089151.py:13: RuntimeWarning: invalid value encountered in sqrt\n",
      "  Out[N:] = y - (y * p ** ε * A ** (ε - 1) * q ** (θ - ε) * (1 - α)) @ Ω @ (p ** - θ) - C * np.dot(β,p**-θ)\n",
      "/tmp/ipykernel_25048/3870089151.py:13: RuntimeWarning: invalid value encountered in power\n",
      "  Out[N:] = y - (y * p ** ε * A ** (ε - 1) * q ** (θ - ε) * (1 - α)) @ Ω @ (p ** - θ) - C * np.dot(β,p**-θ)\n",
      "/tmp/ipykernel_25048/3870089151.py:8: RuntimeWarning: invalid value encountered in power\n",
      "  q = (Ω @ (p ** (1 - θ))) ** (1 / (1 - θ))\n",
      "/tmp/ipykernel_25048/3870089151.py:13: RuntimeWarning: invalid value encountered in sqrt\n",
      "  Out[N:] = y - (y * p ** ε * A ** (ε - 1) * q ** (θ - ε) * (1 - α)) @ Ω @ (p ** - θ) - C * np.dot(β,p**-θ)\n",
      "/tmp/ipykernel_25048/3870089151.py:13: RuntimeWarning: invalid value encountered in power\n",
      "  Out[N:] = y - (y * p ** ε * A ** (ε - 1) * q ** (θ - ε) * (1 - α)) @ Ω @ (p ** - θ) - C * np.dot(β,p**-θ)\n"
     ]
    }
   ],
   "source": [
    "#This is from ChatGPT\n",
    "\n",
    "import multiprocessing as mp\n",
    "from scipy.optimize import root\n",
    "\n",
    "# Parallel worker function\n",
    "def parallel_worker(k):\n",
    "    A, init = generate_random_shock(Σ, α, Ω, λ)\n",
    "    p = [A, β, Ω, α, ε, θ, σ, L]\n",
    "\n",
    "    sol = root(lambda x0 : problem(x0, A, β, Ω, α, ε, θ, σ, L), init, method='hybr')\n",
    "\n",
    "    x = np.real(sol.x)\n",
    "    p = x[:76]\n",
    "    q = x[76:]\n",
    "    gdp = np.dot(p * (A ** ((ε - 1) / ε)) * (α ** (1 / ε)) * (q ** (1 / ε)) * (L ** (-1 / ε)), L)\n",
    "    λ_sim[:, k] = (p * q) / gdp\n",
    "    return gdp\n",
    "\n",
    "# Parameters\n",
    "trials = 100\n",
    "GDP = np.zeros(trials)\n",
    "λ_sim = np.zeros((76, trials))\n",
    "\n",
    "factor_share, consumption_share, io_matrix, labor_share, domar_weights = get_variables(1973)\n",
    "# Parallel execution\n",
    "num_processes = mp.cpu_count()\n",
    "with mp.Pool(processes=num_processes) as pool:\n",
    "    results = pool.map(parallel_worker, range(trials))\n",
    "    GDP = np.array(results)\n",
    "\n",
    "# Now you have both GDP and λ_sim populated after the parallel execution"
   ]
  },
  {
   "cell_type": "code",
   "execution_count": null,
   "id": "581499a4-14b6-457c-a5fb-7f794cde56b2",
   "metadata": {},
   "outputs": [],
   "source": []
  }
 ],
 "metadata": {
  "kernelspec": {
   "display_name": "Python 3 (ipykernel)",
   "language": "python",
   "name": "python3"
  },
  "language_info": {
   "codemirror_mode": {
    "name": "ipython",
    "version": 3
   },
   "file_extension": ".py",
   "mimetype": "text/x-python",
   "name": "python",
   "nbconvert_exporter": "python",
   "pygments_lexer": "ipython3",
   "version": "3.11.5"
  }
 },
 "nbformat": 4,
 "nbformat_minor": 5
}

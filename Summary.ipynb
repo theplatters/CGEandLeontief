{
 "cells": [
  {
   "cell_type": "markdown",
   "metadata": {},
   "source": [
    "In this file I give a summary what happens in `GDP_Simulation_88sectorKLEMS.m` and in the Replication Code of \"Supply and Demand in Disaggregated Keynesian Economies with an Application to the Covid-19 Crisis\""
   ]
  },
  {
   "cell_type": "markdown",
   "metadata": {},
   "source": [
    "## GDP SIMULATION 88 Sectors\n",
    "The two matrices where the data is extracted are:\n",
    "- **data**: quantity data matrix.\n",
    "- **price**: price data matrix.\n",
    "\n",
    "The variables used in the simulation are as follows:\n",
    "\n",
    "- **IO**: Input-Output Matrix\n",
    "- **STFP** Sectoral TFP Growth per anno\n",
    "- **$\\Omega$**: I think this is the same as in *Definition 3* Es gilt $$(\\Omega)_i^j = \\frac {(\\mathit{IO})_i^j} {\\sum_{k=0}^N(\\mathit{IO}_k^j)}$$ Also der Anteil eines Sektors $i$ an der Gesamptproduktion des Sektors $j$\n",
    "- **$\\Sigma$**: Covarianz von SFTP\n",
    "- **$\\mu$**: Rowwise mean of stfp. So the mean annual groth of each sector\n",
    "- **grossy** nominal gross output, was produziert sektor i\n",
    "- **vadd** nominal value added - Anteil der Einkommen die die Faktoren erzielen.\n",
    "- **labor** nominal labor\n",
    "- **capital** nominal captial\n",
    "- **alpha**: vadd / grossy. Factor (Arbeit, etc.) share by industry. (Alles was nicht von anderen Sektoren bezogen wird).\n",
    "- **beta**: `beta = (I-diagm(1-alpha)*Omega)' * grossy(:,year-1959)` this is then normalized and filtered. Share of the sectors on final demand.\n",
    "- **$\\lambda$** domar weights = total sales / sum(final sales) == (inv(I - diagm(1 .- alpha) * Omega) = Leontief Invers um von final sales auf total sales zu kommen\n",
    "- **L** is the steady state allocation of labor. (Wie die Arbeit auf die Sektoren aufgeteilt ist)\n",
    "$$L_i = (\\beta^T (I - \\Omega + \\text{diag}(\\alpha)\\Omega)^{-1})^T \\cdot \\alpha = (I - (I - \\text{diagm}(\\alpha)) * \\Omega)^{-1}\\beta) \\cdot \\alpha = \\lambda \\cdot \\alpha$$\n",
    "\n"
   ]
  },
  {
   "cell_type": "markdown",
   "metadata": {},
   "source": [
    "The model that is being solved goes as follows:"
   ]
  },
  {
   "cell_type": "markdown",
   "metadata": {},
   "source": [
    "Für die Elemente von $\\Omega$ verwenden wir $\\omega$. Potenzieren wird im folgenden Komponentenweise verstanden. W steht für wages. $\\omega$ im Paper ist vielleicht wie ein $\\alpha$ zu verstehen\n",
    "\n",
    "$q$ ist der Preis der Intermediärgüter, $w$ der Preis der Arbeit (Lohn)\n",
    "\n",
    "\\begin{align}\n",
    "q_i &= (\\sum_{j=1}^{76} \\omega_{i,j}p_j^{1-\\theta}) ^ {\\frac 1 {1 - \\theta}} \\\\\n",
    "\\mathcal w_i &= p_i (A_i ^ {\\frac{\\varepsilon -1}{\\epsilon}} \\alpha_i ^ {\\frac 1 \\varepsilon} y_i ^ {\\frac 1 \\varepsilon} L_i ^ {\\frac {-1}{\\varepsilon}}) = p_i (A_i^{\\varepsilon-1}\\alpha_i y_i L_i^{-1})^{1/\\varepsilon} \\\\\n",
    "C &= \\langle \\mathcal w, L \\rangle = \\text{GDP}\n",
    "\\end{align}\n",
    "\n",
    "Wir wollen nun Lösen: Finde $p, y \\in \\mathbb R^{76}$ sodass $\\forall 1 \\leq i \\leq 76$ gilt:\n",
    "\n",
    "\\begin{align}\n",
    "p_i &= (A_i^{\\varepsilon -1} (\\alpha_i \\mathcal w_i^{1 - \\varepsilon} + (1 - \\alpha_i) q_i ^ {1- \\varepsilon})) ^ {1/(1-\\varepsilon)} \\\\\n",
    "y_i &= p_i^{-\\theta} \\cdot \\sum_{j=1}^{76} (\\omega_{j,i} p_j^\\varepsilon A_j^{\\varepsilon -1} q_j^{\\theta - \\varepsilon} (1 - \\alpha_j) y_j) - C p_i^{-\\sigma} \\beta_i\n",
    "\\end{align}\n",
    "\n",
    "oder umgeschrieben \n",
    "\n",
    "\\begin{align}\n",
    "    A_i p_i &=  ((\\alpha_i \\mathcal w_i^{1 - \\varepsilon} + (1 - \\alpha_i) q_i ^ {1- \\varepsilon})) ^ {1/(1-\\varepsilon))} \\\\\n",
    "    y_i  &= p_i^{-\\theta} \\cdot \\sum_{j=1}^{76}  (A_j^{\\varepsilon -1} \\omega_{j,i} p_j^\\varepsilon q_j^{\\theta - \\varepsilon} (1 - \\alpha_j) y_j) - p_i^{-\\sigma} C \\beta_i =  p_i^{-\\theta} \\cdot \\sum_{j=1}^{76}  (A_j^{\\varepsilon -1}  p_j^\\varepsilon (1 - \\alpha_j) \\frac{q_j^{\\theta}}{q_j^\\varepsilon}  \\omega_{j,i }y_j) - p_i^{-\\sigma} C \\beta_i  \n",
    "\n",
    "\\end{align}"
   ]
  },
  {
   "cell_type": "markdown",
   "metadata": {},
   "source": [
    "In the first simulation a random shock is generated and based on mean stfp growth\n",
    "\n",
    "In the second simulation one sector is shocked with increasing shocks"
   ]
  },
  {
   "cell_type": "markdown",
   "metadata": {},
   "source": []
  }
 ],
 "metadata": {
  "language_info": {
   "name": "python"
  },
  "orig_nbformat": 4
 },
 "nbformat": 4,
 "nbformat_minor": 2
}

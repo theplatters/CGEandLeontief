{
 "cells": [
  {
   "cell_type": "code",
   "execution_count": 1,
   "metadata": {},
   "outputs": [
    {
     "data": {
      "text/plain": [
       "Main.CESModel"
      ]
     },
     "metadata": {},
     "output_type": "display_data"
    }
   ],
   "source": [
    "include(\"src/model.jl\")"
   ]
  },
  {
   "cell_type": "markdown",
   "metadata": {},
   "source": [
    "## Loading in Data"
   ]
  },
  {
   "cell_type": "code",
   "execution_count": 2,
   "metadata": {},
   "outputs": [
    {
     "data": {
      "text/plain": [
       "Main.CESModel.CESData(\u001b[1m84×87 DataFrame\u001b[0m\n",
       "\u001b[1m Row \u001b[0m│\u001b[1m Sektoren                          \u001b[0m\u001b[1m Erz. d. Landwirtschaft, Jagd und Die\u001b[0m ⋯\n",
       "     │\u001b[90m String                            \u001b[0m\u001b[90m Int64                               \u001b[0m ⋯\n",
       "─────┼──────────────────────────────────────────────────────────────────────────\n",
       "   1 │ Erz. d. Landwirtschaft, Jagd und…                                       ⋯\n",
       "   2 │ Forstwirtschaftl. Erzeugnisse un…\n",
       "   3 │ Fische, Fischerei- und Aquakultu…\n",
       "   4 │ Kohle\n",
       "   5 │ Erdöl und Erdgas                                                        ⋯\n",
       "   6 │ Erze, Steine und Erden, sonstige…\n",
       "   7 │ Nahrungs- u. Futtermittel, Geträ…\n",
       "   8 │ Textilien, Bekleidung, Leder und…\n",
       "  ⋮  │                 ⋮                                          ⋮            ⋱\n",
       "  78 │ Bruttolöhne und -gehälter                                               ⋯\n",
       "  79 │ Sonst.Produktionsabgaben abzgl. …\n",
       "  80 │ Abschreibungen\n",
       "  81 │ Nettobetriebsüberschuss\n",
       "  82 │ Bruttowertschöpfung                                                     ⋯\n",
       "  83 │ Produktionswert\n",
       "  84 │ Produktionswert: firmenint. Lief…\n",
       "\u001b[36m                                                  86 columns and 69 rows omitted\u001b[0m, [0.2159974180360937 0.00021516365885801888 … 0.0 0.00010758182942900944; 0.019691780821917807 0.2842465753424658 … 0.0 0.003139269406392694; … ; 0.0 0.0 … 0.0 0.0; 0.0011100832562442183 9.250693802035152e-5 … 0.0002775208140610546 0.5422756706753007], [0.006120048021212256, 0.0012912676842368877, 6.607386224688323e-5, 0.000473058755967232, 0.00031377406272637646, 0.002030477061520479, 0.007970351966267742, 0.001390000282214634, 0.002146613750772613, 0.005501930189348169  …  0.050760944130289296, 0.009015282610099753, 0.04375683612201715, 0.036834026642969975, 0.006772918677978368, 0.007028597872660466, 0.004274779932152938, 0.010070606670276183, 0.0009947980616821822, 0.011541044567363445], [0.33869040952700935, 0.5536193029490617, 0.37474541751527496, 0.4088888888888889, 0.5505084745762712, 0.33076923076923076, 0.21807865892972275, 0.2916315205327414, 0.2540205538558092, 0.23447542319181677  …  0.627565017008669, 0.6781704551739395, 0.7656068719321731, 0.6808288921308839, 0.651309137981537, 0.6442910187978649, 0.5929179709852234, 0.7169902465955098, 0.6560055223193741, 0.6805914494572842], [0.017693930084304938, 0.0022174384325610048, 0.00016216298337614748, 0.000966042212576846, 0.00048714949181225545, 0.00467993782981672, 0.06403125947464477, 0.007439350713946478, 0.008419924843567217, 0.014594007962169461  …  0.08427322910425925, 0.011943254185026973, 0.05921095653701774, 0.0776496473698221, 0.03495355401150268, 0.011385096462204794, 0.009812016442203593, 0.014357534039364322, 0.0014353570789261444, 0.017891432047765086], [0.00599276442639551, 0.0012276167193668835, 6.0769834910816976e-5, 0.00039500392692031036, 0.00026817992362817043, 0.0015479794360162996, 0.013963851195811637, 0.0021695491604845464, 0.002138833972187232, 0.003421936192994428  …  0.05288693045618991, 0.0080995621269178, 0.04533231521841801, 0.05286612339314979, 0.022765569132622905, 0.007335315398745894, 0.005817720880185005, 0.010294211871387252, 0.0009416021702757565, 0.012176755670254946], [0.30598797924366294, 0.47810545129579984, 0.3910386965376782, 0.0071794871794871795, 0.6298305084745762, 0.07205363443895554, 0.7377949709864603, 0.7731853496115427, 0.43582803796971836, 0.46345161582330047  …  0.8235958050508693, 0.9108456390686356, 0.8401829540383757, 0.9399087231879681, 0.9917511551217484, 0.8382455326061731, 0.5555218957218351, 0.8031376518218624, 0.44201564657156006, 0.8004504171896921], Main.CESModel.Shocks([1.0, 1.0, 1.0, 1.0, 1.0, 1.0, 1.0, 1.0, 1.0, 1.0  …  1.0, 1.0, 1.0, 1.0, 1.0, 1.0, 1.0, 1.0, 1.0, 1.0], [1.0, 1.0, 1.0, 1.0, 1.0, 1.0, 1.0, 1.0, 1.0, 1.0  …  1.0, 1.0, 1.0, 1.0, 1.0, 1.0, 1.0, 1.0, 1.0, 1.0]), Main.CESModel.Elasticities(0.0001, 0.5, 0.9), [53574.0, 6714.0, 491.0, 2925.0, 1475.0, 14170.0, 193875.0, 22525.0, 25494.0, 44188.0  …  255164.0, 36162.0, 179280.0, 235109.0, 105833.0, 34472.0, 29709.0, 43472.0, 4346.0, 54172.0])"
      ]
     },
     "metadata": {},
     "output_type": "display_data"
    }
   ],
   "source": [
    "data = CESModel.read_data(\"I-O_DE2019_formatiert.csv\")"
   ]
  },
  {
   "cell_type": "markdown",
   "metadata": {},
   "source": [
    "## Setting Elasticities"
   ]
  },
  {
   "cell_type": "markdown",
   "metadata": {},
   "source": [
    "Es können verschiedene Elastizitäten gesetzt werden, die hier verwendeten sind übernommen aus B&F 2019 \n",
    "(el. of substitiution of inermediates = 0.0001, el labor/intermediates  = 0.5 el. of consumption = 0.9)"
   ]
  },
  {
   "cell_type": "code",
   "execution_count": 3,
   "metadata": {},
   "outputs": [
    {
     "data": {
      "text/plain": [
       "Main.CESModel.Elasticities(0.0001, 0.5, 0.9)"
      ]
     },
     "metadata": {},
     "output_type": "display_data"
    }
   ],
   "source": [
    "elasticities = CESModel.Elasticities(0.0001, 0.5, 0.9)"
   ]
  },
  {
   "cell_type": "markdown",
   "metadata": {},
   "source": [
    "## Setting Shocks"
   ]
  },
  {
   "cell_type": "markdown",
   "metadata": {},
   "source": [
    "Shocks können entweder mit `calculate_investment!` in  1000€ eingegeben werden, oder die einzelnen Elemente im Vektor können auch direkt verändernt werden (z.b `supply_shock[12] = 1.2`), was dann einem Anstieg an demand von 20% entsrpicht."
   ]
  },
  {
   "cell_type": "code",
   "execution_count": 4,
   "metadata": {},
   "outputs": [
    {
     "data": {
      "text/plain": [
       "1.2048978788971576"
      ]
     },
     "metadata": {},
     "output_type": "display_data"
    }
   ],
   "source": [
    "deman_shock = ones(71)\n",
    "supply_shock = ones(71)\n",
    "shocks = CESModel.Shocks(supply_shock,deman_shock) \n",
    "#shocks.demand_shock[35] = 1.09\n",
    "CESModel.calculate_investment!(shocks,data,25000,\"Vorb.Baustellen-,Bauinstallations-,Ausbauarbeiten\")"
   ]
  },
  {
   "cell_type": "markdown",
   "metadata": {},
   "source": [
    "## Full labor reallocation"
   ]
  },
  {
   "cell_type": "code",
   "execution_count": 5,
   "metadata": {},
   "outputs": [
    {
     "data": {
      "text/plain": [
       "([0.9414662771283979, 0.6855770600909864, 0.6244054586459459, 0.7988094318208029, 0.7256080001106296, 0.7980692412591355, 0.9413472751142221, 0.8399371285656831, 0.7209376231454443, 0.90652307985496  …  0.9374540563116723, 0.936546135463671, 0.9396953689492518, 0.9447017210433883, 0.9573774851060063, 0.9384808316651674, 0.9357786376989145, 0.9267620543014236, 0.865127100350276, 0.9377494149784265], [0.017822842569161355, 0.002698048243079146, 0.00019236861163893581, 0.0010484615291857283, 0.0005707884229604307, 0.005050754335328762, 0.06459037348601993, 0.00763482332417193, 0.009157820799896372, 0.014907716432191012  …  0.08476074351186007, 0.011993745199906813, 0.0592205471991995, 0.07762445712314178, 0.03495355401150268, 0.011428410192898694, 0.009859295553372092, 0.01451722015964288, 0.0015135389093517664, 0.01793051333348333])"
      ]
     },
     "metadata": {},
     "output_type": "display_data"
    }
   ],
   "source": [
    "price,quantity = CESModel.solve_ces_model(data,shocks,elasticities)"
   ]
  },
  {
   "cell_type": "code",
   "execution_count": 6,
   "metadata": {},
   "outputs": [
    {
     "name": "stdout",
     "output_type": "stream",
     "text": [
      "Real GDP: 1.0996241642069242\n"
     ]
    },
    {
     "name": "stdout",
     "output_type": "stream",
     "text": [
      "Nominal GDP: 0.9562693811307954\n"
     ]
    }
   ],
   "source": [
    "println(\"Real GDP: $(CESModel.real_gdp(price,quantity,data))\")\n",
    "println(\"Nominal GDP: $(CESModel.nominal_gdp(price,quantity,data))\")\n"
   ]
  },
  {
   "cell_type": "markdown",
   "metadata": {},
   "source": [
    "## No labor reallocation "
   ]
  },
  {
   "cell_type": "markdown",
   "metadata": {},
   "source": [
    "Es können verschiedene Funktionen angegeben werden,die zurückgeben wie viel Arbeit in den einzelnen Sektoren verfügbar. Hier in diesem Fall, ist keine zusätzliche Arbeit verfügbar, die funktion könnte aber auch zum Beispiel so aussehen: \n",
    "```julia\n",
    "labor_realloc(data) = min(1.05 * data.labor_share,inv(I - diagm(1 .- data.factor_share) * data.Ω) * (data.consumption_share_gross_output .* ((data.shocks.demand_shock .* data.labor_share) - data.labor_share)) + data.labor_share)\n",
    "``` \n",
    "(maximal 5% der verfügbaren Arbeit kann zusätzlich verwendet werden um der gesteigerten Nachfrage nachzukommen)"
   ]
  },
  {
   "cell_type": "code",
   "execution_count": 7,
   "metadata": {},
   "outputs": [
    {
     "data": {
      "text/plain": [
       "labor_realloc (generic function with 1 method)"
      ]
     },
     "metadata": {},
     "output_type": "display_data"
    }
   ],
   "source": [
    "labor_realloc(data) = data.labor_share #no labor_reallocation"
   ]
  },
  {
   "cell_type": "code",
   "execution_count": 8,
   "metadata": {},
   "outputs": [
    {
     "data": {
      "text/plain": [
       "([0.921147632683455, 0.9270650861003054, 0.9214515885955984, 0.9247787486591621, 0.9207069808903534, 0.927935140771916, 0.9217875982036665, 0.9206552309309203, 0.9440167203450254, 0.9217529350560099  …  0.9254894852218095, 0.924072405321481, 0.9219802359949314, 0.9208790433587618, 0.9225067669391435, 0.9227726066407055, 0.9213228347327255, 0.9240239327822368, 0.9207874619163857, 0.9205055190333035], [0.017682137674283335, 0.0022078507670756217, 0.00016202835691791502, 0.0009671103261321754, 0.00048644246496170023, 0.004662879301863719, 0.06393880795818745, 0.00743290317382111, 0.008321802442640358, 0.01457743944741506  …  0.08421263208622785, 0.011938966500094586, 0.059214649035641796, 0.07763949051050958, 0.03495355401150268, 0.011384446759056449, 0.009805254997263705, 0.014340147029542501, 0.0014341421096760916, 0.017885519107604927])"
      ]
     },
     "metadata": {},
     "output_type": "display_data"
    }
   ],
   "source": [
    "price,quantity = CESModel.solve_ces_model(data,shocks,elasticities,labor_reallocation = labor_realloc)"
   ]
  },
  {
   "cell_type": "code",
   "execution_count": 9,
   "metadata": {},
   "outputs": [
    {
     "name": "stdout",
     "output_type": "stream",
     "text": [
      "Real GDP: 1.0804534073601424\n",
      "Nominal GDP: 0.9280529147110474\n"
     ]
    }
   ],
   "source": [
    "println(\"Real GDP: $(CESModel.real_gdp(price,quantity,data))\")\n",
    "println(\"Nominal GDP: $(CESModel.nominal_gdp(price,quantity,data))\")"
   ]
  },
  {
   "cell_type": "markdown",
   "metadata": {},
   "source": [
    "Shock every sector and look at difference in impacts (output see the 4 demand_shock csv files: nominal, real, labor reallocation, no labor reallocation):"
   ]
  },
  {
   "cell_type": "code",
   "execution_count": 10,
   "metadata": {},
   "outputs": [],
   "source": [
    "using LinearAlgebra\n",
    "using Distributed, SharedArrays\n",
    "shock_values = LinRange(1.0,1.8,50)\n",
    "supply_shock = ones(71)\n",
    "\n",
    "GDP_no_realloc_nominal = SharedArray(zeros(71,50))\n",
    "GDP_nominal = SharedArray(zeros(71,50))\n",
    "\n",
    "@distributed for i in 1:71\n",
    "    init = Complex.([ones(71)..., data.λ...])\n",
    "    for (k,shock_value) in enumerate(shock_values)\n",
    "        demand_shock = ones(71)\n",
    "        demand_shock[i] = shock_value\n",
    "        shock = CESModel.Shocks(supply_shock,demand_shock)\n",
    "\n",
    "        p,q = CESModel.solve_ces_model(data,shock,elasticities,init = init,labor_reallocation = labor_realloc)\n",
    "        GDP_no_realloc_nominal[i,k] = CESModel.nominal_gdp(p,q,data)\n",
    "        #take solutions from before as init values, since solution from next run should be close \n",
    "        # to soultion from previous (comlex turns the real values back into complex number to allow for solution)\n",
    "        init = Complex.([p...,q...])\n",
    "    end\n",
    "end\n",
    "\n",
    "#solve sytem for all 71 sector shocks; solve all at the same time (@distributed)\n",
    "@distributed for i in 1:71\n",
    "    init = Complex.([ones(71)..., data.λ...])\n",
    "    for (k,shock_value) in enumerate(shock_values)\n",
    "        demand_shock = ones(71)\n",
    "        demand_shock[i] = shock_value\n",
    "        shock = CESModel.Shocks(supply_shock,demand_shock)\n",
    "\n",
    "        p,q = CESModel.solve_ces_model(data,shock,elasticities,init = init)\n",
    "        GDP_nominal[i,k] = CESModel.nominal_gdp(p,q,data)\n",
    "        init = Complex.([p...,q...])\n",
    "    end\n",
    "end"
   ]
  },
  {
   "cell_type": "code",
   "execution_count": null,
   "metadata": {},
   "outputs": [],
   "source": [
    "shock_values = LinRange(1.0,1.8,50)\n",
    "supply_shock = ones(71)\n",
    "\n",
    "GDP_no_realloc = SharedArray(zeros(71,50))\n",
    "GDP = SharedArray(zeros(71,50))\n",
    "\n",
    "@distributed for i in 1:71\n",
    "    init = Complex.([ones(71)..., data.λ...])\n",
    "    for (k,shock_value) in enumerate(shock_values)\n",
    "        demand_shock = ones(71)\n",
    "        demand_shock[i] = shock_value\n",
    "        shock = CESModel.Shocks(supply_shock,demand_shock)\n",
    "\n",
    "        p,q = CESModel.solve_ces_model(data,shock,elasticities,init = init,labor_reallocation = labor_realloc)\n",
    "        GDP_no_realloc[i,k] = CESModel.real_gdp(p,q,data)\n",
    "        init = Complex.([p...,q...])\n",
    "    end\n",
    "end\n",
    "\n",
    "@distributed for i in 1:71\n",
    "    init = Complex.([ones(71)..., data.λ...])\n",
    "    for (k,shock_value) in enumerate(shock_values)\n",
    "        demand_shock = ones(71)\n",
    "        demand_shock[i] = shock_value\n",
    "        shock = CESModel.Shocks(supply_shock,demand_shock)\n",
    "\n",
    "        p,q = CESModel.solve_ces_model(data,shock,elasticities,init = init)\n",
    "        GDP[i,k] = CESModel.real_gdp(p,q,data)\n",
    "        init = Complex.([p...,q...])\n",
    "    end\n",
    "end\n"
   ]
  },
  {
   "cell_type": "markdown",
   "metadata": {},
   "source": [
    "<<add mark down please; some test>>"
   ]
  },
  {
   "cell_type": "code",
   "execution_count": null,
   "metadata": {},
   "outputs": [],
   "source": [
    "findmax(mapslices(row -> maximum(collect(LinRange(1,maximum(row),50)) - row),GDP,dims=2))"
   ]
  },
  {
   "cell_type": "code",
   "execution_count": null,
   "metadata": {},
   "outputs": [],
   "source": [
    "using DataFrames, CSV\n",
    "savetabular(\"demand_shock_nominal.csv\",GDP_nominal)\n",
    "savetabular(\"demand_shock_nominal_no_realloc.csv\",GDP_no_realloc_nominal)\n",
    "savetabular(\"demand_shock.csv\",GDP)\n",
    "savetabular(\"demand_shock_no_realloc.csv\",GDP_no_realloc)"
   ]
  },
  {
   "cell_type": "code",
   "execution_count": null,
   "metadata": {},
   "outputs": [],
   "source": [
    "using Plots\n",
    "scatter()\n",
    "for row in eachrow(GDP_no_realloc)\n",
    "    scatter!(row)\n",
    "end\n",
    "scatter!()"
   ]
  },
  {
   "cell_type": "code",
   "execution_count": null,
   "metadata": {},
   "outputs": [],
   "source": [
    "scatter()\n",
    "for row in eachrow(GDP)\n",
    "    scatter!(row)\n",
    "end\n",
    "scatter!()"
   ]
  },
  {
   "cell_type": "code",
   "execution_count": null,
   "metadata": {},
   "outputs": [],
   "source": [
    "plot()\n",
    "for row in eachrow(GDP)\n",
    "    plot!(row -  LinRange(1,maximum(row),50))\n",
    "end\n",
    "plot!()"
   ]
  },
  {
   "cell_type": "code",
   "execution_count": null,
   "metadata": {},
   "outputs": [],
   "source": [
    "function savetabular(filname,gdp)\n",
    "    sectors = data.io.Sektoren[1:71]\n",
    "    df = DataFrame(gdp[1:end,:]',sectors)\n",
    "    df[:,:DemandShockAmount] = collect(shock_values)\n",
    "    CSV.write(joinpath(pwd(),\"data\",filname),df)\n",
    "end"
   ]
  },
  {
   "cell_type": "code",
   "execution_count": null,
   "metadata": {},
   "outputs": [],
   "source": [
    "GDP_no_realloc_nominal = GDP_no_realloc_nominal[:,1:50]"
   ]
  },
  {
   "cell_type": "code",
   "execution_count": null,
   "metadata": {},
   "outputs": [],
   "source": [
    "GDP_no_realloc"
   ]
  },
  {
   "cell_type": "code",
   "execution_count": null,
   "metadata": {},
   "outputs": [],
   "source": []
  }
 ],
 "metadata": {
  "kernelspec": {
   "display_name": "Julia 1.9.2",
   "language": "julia",
   "name": "julia-1.9"
  },
  "language_info": {
   "file_extension": ".jl",
   "mimetype": "application/julia",
   "name": "julia",
   "version": "1.9.2"
  },
  "orig_nbformat": 4
 },
 "nbformat": 4,
 "nbformat_minor": 2
}

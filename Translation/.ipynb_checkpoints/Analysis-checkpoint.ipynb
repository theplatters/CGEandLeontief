{
 "cells": [
  {
   "cell_type": "code",
   "execution_count": 1,
   "id": "8753bdc5-e882-4c61-a8f2-c8c9b79c961f",
   "metadata": {},
   "outputs": [],
   "source": [
    "using MAT, Statistics, LinearAlgebra,Random, Plots, NLsolve, ForwardDiff"
   ]
  },
  {
   "cell_type": "markdown",
   "id": "7edec650-2702-4d81-95f7-7ea02545dd1c",
   "metadata": {},
   "source": [
    "Function that reads in all the variables optained that are used in line 93 and onwards and are defined before that."
   ]
  },
  {
   "cell_type": "code",
   "execution_count": 2,
   "id": "196a4e30-3fd6-4ea1-8cae-d59d4018151d",
   "metadata": {},
   "outputs": [
    {
     "data": {
      "text/plain": [
       "mvnrnd (generic function with 1 method)"
      ]
     },
     "execution_count": 2,
     "metadata": {},
     "output_type": "execute_result"
    }
   ],
   "source": [
    "include(\"mvnrnd.jl\")"
   ]
  },
  {
   "cell_type": "markdown",
   "id": "919fdc44-9128-4d80-9350-d640f98ed92f",
   "metadata": {},
   "source": [
    "Turns them into julia variables."
   ]
  },
  {
   "cell_type": "code",
   "execution_count": 3,
   "id": "43cbe81d-fdda-4954-bfe6-f40a0184aadd",
   "metadata": {},
   "outputs": [],
   "source": [
    "function string_as_varname(s::AbstractString,v::Any)\n",
    "    s=Symbol(s)\n",
    "    if size(v,2) == 1 # check if v is a column vector\n",
    "        @eval (($s) = (vec($v)))\n",
    "    else\n",
    "        @eval (($s) = ($v))\n",
    "    end\n",
    "end\n",
    "\n",
    "file = matopen(\"simulationData.mat\")\n",
    "\n",
    "\n",
    "\n",
    "varnames = names(file) \n",
    "#[IO, price, Omega, data, labor, mu, aggtfp, alpha, grossy, stfp, beta, agggdp, Sigma, capital, vadd]\n",
    "for varname in varnames\n",
    "    val = read(file, varname)\n",
    "    # Instantiate the variable with its name in the current scope\n",
    "    string_as_varname(varname,val)\n",
    "    end\n",
    "\n",
    "close(file)"
   ]
  },
  {
   "cell_type": "markdown",
   "id": "02220dec-96c3-45e0-9e7d-0246353d1fa9",
   "metadata": {},
   "source": [
    "We now want to figure out what every variable stands for, and where it comes from.\n",
    "So far we know:\n",
    "- **IO**: Input-Output Matrix\n",
    "- **STFP** Sectoral TFP Growth per anno\n",
    "- **$\\Omega$**: I think this is the same as in *Definition 3* Es gilt $$(\\Omega)_i^j = \\frac {(\\mathit{IO})_i^j} {\\sum_{k=0}^N(\\mathit{IO}_k^j)}$$ Also der Anteil eines Sektors $i$ an der Gesamptproduktion des Sektors $j$\n",
    "- **$\\Sigma$**: Covarianz von SFTP\n",
    "- **$\\mu$**: Rowwise mean of stfp. So the mean annual groth of each sector\n",
    "- **data**: quantity data matrix\n",
    "- **price**: price data matrix. I think price and data are for our anyalsis quite useless, they are used as building blocks\n",
    "- **grossy** nominal gross output, was produziert sektor i\n",
    "- **vadd** nominal value added - Anteil der Einkommen die die Faktoren erzielen.\n",
    "- **labor** nominal labor\n",
    "- **capital** nominal captial\n",
    "- **alpha**: vadd / grossy. Factory share by industry\n",
    "- **beta**: `beta = (I-diagm(1-alpha)*Omega)' * grossy(:,year-1959)` this is then normalized and filtered. "
   ]
  },
  {
   "cell_type": "markdown",
   "id": "6cecbba8-ad27-4340-8352-0879d677bcef",
   "metadata": {},
   "source": [
    "This is not used anywhere in the code."
   ]
  },
  {
   "cell_type": "markdown",
   "id": "13511aa2-281d-4311-8f51-0b1f76bfeaef",
   "metadata": {},
   "source": [
    "Found way too late, for how often this is used."
   ]
  },
  {
   "cell_type": "code",
   "execution_count": 4,
   "id": "365005e7-b2a5-428f-baa7-458e80d29bdf",
   "metadata": {},
   "outputs": [],
   "source": [
    "#domar_weights = (beta' * inv(I - diagm(1 .-alpha)* Omega))';\n",
    "domar_weights = (inv(I - diagm(1 .- alpha) * Omega)' * beta);"
   ]
  },
  {
   "cell_type": "code",
   "execution_count": 172,
   "id": "e016ae2b-1224-46a9-9e84-d1e44e3da203",
   "metadata": {},
   "outputs": [],
   "source": [
    "cum_stfp = cumsum(log.(1 .+ stfp)',dims=1);\n",
    "cum_stfp_4year = cum_stfp[:,begin:4:end];\n",
    "covariance_4year = Statistics.cov(cum_stfp_4year,dims=2,corrected=false);"
   ]
  },
  {
   "cell_type": "markdown",
   "id": "21b8451e-e408-4ef6-883d-e58abf34d711",
   "metadata": {},
   "source": [
    "Some elasticities, explaination can be found in section 6"
   ]
  },
  {
   "cell_type": "code",
   "execution_count": 13,
   "id": "6b913872-1883-415d-8152-0ee86ffbf231",
   "metadata": {},
   "outputs": [],
   "source": [
    "epsilon = ε = .5; \n",
    "theta = θ = 0.001; \n",
    "sigma = σ =.9; "
   ]
  },
  {
   "cell_type": "markdown",
   "id": "23f90ee0-7718-47eb-94ff-b281dc7d3ed3",
   "metadata": {},
   "source": [
    "Again, not used anymore"
   ]
  },
  {
   "cell_type": "code",
   "execution_count": 174,
   "id": "3297e2b5-4099-4437-b9bc-901a688789f8",
   "metadata": {},
   "outputs": [
    {
     "ename": "LoadError",
     "evalue": "UndefVarError: movingvar not defined",
     "output_type": "error",
     "traceback": [
      "UndefVarError: movingvar not defined",
      "",
      "Stacktrace:",
      " [1] top-level scope",
      "   @ In[174]:4"
     ]
    }
   ],
   "source": [
    "trials = 1; #number of draws\n",
    "#clear Shocks LShocks;\n",
    "GDP = zeros(trials,1);\n",
    "variances = (movingvar(stfp',5)'); #rolling estimate of variance of TFP\n",
    "var_cri = variances[:,22];\n",
    "\n",
    "var_cri = diag(Sigma)*2; #crisis episode variances\n",
    "\n"
   ]
  },
  {
   "cell_type": "markdown",
   "id": "9917ad4b-a491-4ddc-b987-35c45d7eeda1",
   "metadata": {},
   "source": [
    "L is the steady state allocation of labor\n",
    "$$L_i = (\\beta^T (I - \\Omega + \\text{diag}(\\alpha)\\Omega)^{-1})^T \\cdot \\alpha = (I - (I - \\text{diagm}(\\alpha)) * \\Omega)^{-1}\\beta) \\cdot \\alpha = \\lambda \\cdot \\alpha$$\n"
   ]
  },
  {
   "cell_type": "code",
   "execution_count": 5,
   "id": "ccdd07dd-6ae9-40d2-aff7-afac572b1791",
   "metadata": {},
   "outputs": [],
   "source": [
    "#L = (beta'*inv(I-diagm(1 .- alpha)*Omega))'.*alpha; #steady-state allocation of labor\n",
    "L = domar_weights .* alpha;"
   ]
  },
  {
   "cell_type": "markdown",
   "id": "ce187280-59d4-43c4-af42-0d8a638f67d0",
   "metadata": {},
   "source": [
    "Because later down we use this all a few times I am now going to write a function that extracts $\\beta,\\alpha,\\lambda$ and $L$ for a given year"
   ]
  },
  {
   "cell_type": "code",
   "execution_count": 16,
   "id": "31365e7b-37f5-457a-8b80-e56124fbc9fe",
   "metadata": {},
   "outputs": [
    {
     "data": {
      "text/plain": [
       "getVariables (generic function with 1 method)"
      ]
     },
     "execution_count": 16,
     "metadata": {},
     "output_type": "execute_result"
    }
   ],
   "source": [
    "function getVariables(year)\n",
    "    IO = data[data[:,1] .== year,:]\n",
    "    temp = [8,60,62,80:88...]\n",
    "    IO = IO[setdiff(1:end,temp),setdiff(1:end,[1,2,3,4,5,94])]\n",
    "    IO = IO[:,setdiff(1:end,temp)]\n",
    "    Ω = IO ./ sum(IO,dims=2)\n",
    "    α = vadd[:,year-1959] ./ grossy[:,year-1959];\n",
    "    β = (grossy[:,year-1959]' * (I-diagm(1 .- α)*Ω))';\n",
    "    β[beta .< 0] .= 0\n",
    "    β = β / sum(β)\n",
    "    λ = (inv(I - diagm(1 .- alpha)*Ω)' * β);\n",
    "    L = λ .* α\n",
    "    \n",
    "    return α,β,Ω,L,λ\n",
    "\n",
    "end"
   ]
  },
  {
   "cell_type": "markdown",
   "id": "63a3ef56-7cc6-4b7c-80cc-c81dcbe1158b",
   "metadata": {},
   "source": [
    "Here comes the randomness. As far as i can tell the generated vector $x$ has mean $\\mu = -\\frac 1 2 \\text{Var}(\\mathit{stfp})$ and $\\sigma = \\text{Var}(\\mathit{stfp})$ Because $\\sigma$ is a Diagonal Matrix, there is no correlation between each random number, what makes this rather perculiar. Intuition wise I would say, that this implies, that the shocks are independent of one-another. (As described in  Chapter 6)\n",
    "\n",
    "$$A_i = e^{x_i}$$"
   ]
  },
  {
   "cell_type": "markdown",
   "id": "9f20372c-a460-4a3d-880a-984a4f019e17",
   "metadata": {},
   "source": [
    "The `fmincon` function is abused in my opinion. The problem as stated is: $$\\min_x 0 \\quad \\text{s.t} \\,\\, c(x) = 0$$\n",
    "However this is simply: Solve $$c(x) = 0$$And for this the `fsolve` function can be utilized.\n",
    "\n",
    "Lets analyze what $c(x)$ actually is now. (Only `Out` is of importance, the other return values are either unused arguments in the `fmincon` function or the derivatives of `Out`, to make the solver more efficient.\n",
    "\n"
   ]
  },
  {
   "cell_type": "code",
   "execution_count": 6,
   "id": "823279c9-4d8a-4e6d-b82e-d3835c1cb758",
   "metadata": {},
   "outputs": [
    {
     "data": {
      "text/plain": [
       "Simulation_Derivs (generic function with 1 method)"
      ]
     },
     "execution_count": 6,
     "metadata": {},
     "output_type": "execute_result"
    }
   ],
   "source": [
    "function Simulation_Derivs(X, A, beta, Omega, alpha, epsilon, theta, sigma,L) # no reallocation of labor\n",
    "    N = length(alpha);\n",
    "    p = X[1:N];\n",
    "    y = X[N+1:2*N];\n",
    "\n",
    "    q = (Omega* (p .^ (1-theta))) .^ (1/(1-theta));\n",
    "    w = p .* (A .^ ((epsilon-1)/epsilon)) .* (alpha.^(1/epsilon)) .* (y.^(1/epsilon)) .* (1 ./ L) .^ (1/epsilon);\n",
    "    C = w'*L;\n",
    "\n",
    "    \n",
    "    Out = zeros(2*N)\n",
    "    Out[1:N] = p - (diagm(A)^(epsilon-1) * (alpha.* w .^ (1-epsilon) + (1 .- alpha) .*q .^ (1-epsilon))).^(1/(1-epsilon));\n",
    "    Out[N+1:2*N] = y' -y'*diagm(p)^epsilon*diagm(A)^(epsilon-1)*diagm(q)^(theta-epsilon)*diagm(1 .- alpha)*Omega*diagm(p)^(-theta) - beta'*diagm(p)^(-sigma)*C;\n",
    "    \n",
    "    return Out\n",
    "\n",
    "\n",
    "    #=\n",
    "    outineq = [];\n",
    "    outineq2 = [];\n",
    "    \n",
    "    \n",
    "    DQDP = bsxfun(@times, (q.^theta), (p.^(-theta))').* Omega; % \n",
    "    DWDP = diag((A.^((epsilon-1)/epsilon)).*(alpha.^(1/epsilon)).*(y.^(1/epsilon)).*(1./L).^(1/epsilon)); %checked\n",
    "    DWDY = (1/epsilon)*diag(p.*(A.^((epsilon-1)/epsilon)).*(alpha.^(1/epsilon)).*(y.^(1/epsilon-1)).*(L).^(-1/epsilon)); %checked\n",
    "    DCDP = DWDP'*L; %checked\n",
    "    DCDY = DWDY'*L;%checked\n",
    "    DOut1DP = eye(N) - diag(diag(A)^(-1)*((alpha.*(w.^(1-epsilon))+(1-alpha).*(q.^(1-epsilon)))).^(epsilon/(1-epsilon)))*...\n",
    "        (diag(alpha)*diag(w.^(-epsilon))*DWDP+diag(1-alpha)*diag(q.^(-epsilon))*DQDP);\n",
    "\n",
    "    DOut1DY =  -diag(diag(A.^(-1))*((alpha.*(w.^(1-epsilon))+(1-alpha).*(q.^(1-epsilon)))).^(epsilon/(1-epsilon)))*...\n",
    "        (diag(alpha)*diag(w.^(-epsilon))*DWDY);\n",
    "\n",
    "    DOut2DP = -(epsilon * diag(p.^(-theta))*Omega'*diag((p.^(epsilon-1)).*(y).*(q.^(theta-epsilon)).*(1-alpha).*(A.^(epsilon-1)))...\n",
    "        +(theta-epsilon)*diag(p.^(-theta))*Omega'*diag((p.^(epsilon)).*(y).*(q.^(theta-epsilon-1)).*(1-alpha).*(A.^(epsilon-1)))*DQDP ...\n",
    "        -sigma*diag(beta.*p.^(-sigma-1))*C+ bsxfun(@times, beta.*(p.^(-sigma)), DCDP')...\n",
    "        - theta* diag(p.^(-theta-1)).*diag(Omega'*diag((p.^(epsilon)).*(q.^(theta-epsilon)).*(1-alpha).*(A.^(epsilon-1)))*y));\n",
    "\n",
    "    DOut2DY = eye(N) - (diag(p)^epsilon*diag(A)^(epsilon-1)*diag(q)^(theta-epsilon)*diag(1-alpha)*Omega*diag(p)^(-theta))' - bsxfun(@times, beta.*(p.^(-sigma)), DCDY');\n",
    "    OutDeriv = [DOut1DP DOut1DY; DOut2DP DOut2DY]';\n",
    "    =#\n",
    "\n",
    "end"
   ]
  },
  {
   "cell_type": "markdown",
   "id": "1db92638-98ed-4e79-acea-0d3babe99b04",
   "metadata": {},
   "source": [
    "Im  Folgenden benutzen wir die Notation $A = \\begin{pmatrix}a_1 \\\\ \\vdots \\\\ a_j \\end{pmatrix}$ für alle Matrizen. Für die Vektoren von $\\Omega$ $\\omega$. Potenzieren wird im folgenden Komponentenweise verstanden.\n",
    "\n",
    "\\begin{align}\n",
    "q_i &= \\langle \\omega_i,p^{1-\\theta} \\rangle ^ {\\frac 1 {1 - \\theta}} \\\\\n",
    "w_i &= p_i (A_i ^ {\\frac{\\varepsilon -1}{\\epsilon}} \\alpha_i ^ {\\frac 1 \\varepsilon} y_i ^ {\\frac 1 \\varepsilon} L_i ^ {\\frac {-1}{\\varepsilon}}) = p_i (A_i^{\\varepsilon-1}\\alpha_i y_i L_i^{-1})^{1/\\varepsilon} \\\\\n",
    "C &= \\langle w, L \\rangle\n",
    "\\end{align}\n",
    "\n",
    "Wir wollen nun Lösen:\n",
    "\n",
    "\\begin{align}\n",
    "p_i = (A_i^{\\varepsilon -1} (\\alpha_i w_i^{1 - \\varepsilon} + (1 - \\alpha_i) q_i ^ {1- \\varepsilon})) ^ {1/(1-\\varepsilon)}\n",
    "\\end{align}\n"
   ]
  },
  {
   "cell_type": "code",
   "execution_count": 7,
   "id": "ce5cb879-6167-4a9d-a280-ec9dbb12b4d1",
   "metadata": {},
   "outputs": [
    {
     "data": {
      "text/plain": [
       "problem (generic function with 1 method)"
      ]
     },
     "execution_count": 7,
     "metadata": {},
     "output_type": "execute_result"
    }
   ],
   "source": [
    "function problem(X, A, β, Ω, α, ε, θ, σ,L)\n",
    "    N = length(α)\n",
    "    p = X[1:N]\n",
    "    y = X[N+1:end]\n",
    "    \n",
    "    Out = zeros(2*N)\n",
    "    \n",
    "    q = (Ω * p .^ (1-θ)) .^ (1 / (1 - θ))\n",
    "    w = p .* (A .^ ((ε - 1)/ε)) .* (α .^ (1 / ε)) .* (y .^ (1/ε)) .* L .^ (-1/ε)\n",
    "    C = w' * L\n",
    "  \n",
    "    Out[1:N] = p - (A .^ (ε - 1) .* (α .* w .^ (1- ε) + (1 .- α) .* q .^ (1 - ε))) .^ (1/(1-ε))\n",
    "    Out[N+1:end] = y' - y' * diagm(p)^ε * diagm(A)^(ε-1) * diagm(q)^(θ-ε) * diagm(1 .- α) * Ω * diagm(p)^(-θ) - β'*diagm(p)^(-σ)*C\n",
    "    \n",
    "    return Out\n",
    "end"
   ]
  },
  {
   "cell_type": "code",
   "execution_count": 19,
   "id": "0d204cdd-1d7d-46b6-8f18-aff4889404fb",
   "metadata": {},
   "outputs": [
    {
     "data": {
      "text/plain": [
       "Jacobian (generic function with 1 method)"
      ]
     },
     "execution_count": 19,
     "metadata": {},
     "output_type": "execute_result"
    }
   ],
   "source": [
    "function Jacobian(X, A, β, Ω, α, ε, θ, σ,L)\n",
    "    N = length(α)\n",
    "    p = X[1:N]\n",
    "    y = X[N+1:end]\n",
    "    \n",
    "    Out = zeros(2*N)\n",
    "    \n",
    "    q = (Ω * p .^ (1-θ)) .^ (1 / (1 - θ))\n",
    "    w = p .* (A .^ ((ε - 1)/ε)) .* (α .^ (1 / ε)) .* (y .^ (1/ε)) .* L .^ (-1/ε)\n",
    "    C = w' * L\n",
    "  \n",
    "    \n",
    "    DQDP = ((q.^θ) .* (p.^(-θ))') .* Ω\n",
    "    DWDP = diagm((A .^ ((ε-1)/ε)) .* (alpha .^ (1/ε)).*(y .^ (1/ε)) .* L .^ (-1/ε));\n",
    "    DWDY = (1/ε) *diagm(p .* (A .^ ((ε-1)/ε)) .* (α.^(1/ε)).*(y.^(1/ε-1)).*(L).^(-1/ε));\n",
    "    DCDP = DWDP'*L;\n",
    "    DCDY = DWDY'*L;\n",
    "\n",
    "    DOut1DP = I - diagm(diagm(A)^(-1) * ((.*(w.^(1-ε))+(1 .- α).*(q.^(1-ε)))).^(ε/(1-ε))) * (diagm(α)*diagm(w .^(-epsilon))*DWDP + diagm(1 .- α)*diagm(q.^(-ε))*DQDP);\n",
    "    DOut1DY =  -diagm(diagm(A.^(-1))*((α.*(w.^(1-ε))+(1 .- α).*(q.^(1-ε)))).^(ε/(1-ε)))* (diagm(α)*diagm(w.^(-ε))*DWDY);\n",
    "\n",
    "    DOut2DP = -(ε * diagm(p.^(-θ))*Ω'*diagm((p.^(ε-1)).*(y).*(q.^(θ-ε)).*(1 .- α).*(A.^(ε-1))) \n",
    "        + (θ-ε)*diagm(p.^(-θ))*Ω'*diagm((p.^(ε)).*(y).*(q.^(θ-ε-1)).*(1 .- α)\n",
    "            .*(A.^(ε-1)))*DQDP - σ*diagm(β.*p.^(-σ-1))*C + β.*(p.^(-sigma)) .* DCDP' \n",
    "        - θ* diagm(p.^(-θ-1)).*diagm(Ω'*diagm((p.^(ε)).*(q.^(θ-ε)).*(1 .- α).*(A.^(ε-1)))*y));\n",
    "\n",
    "    DOut2DY = I - (diagm(p)^ε * diagm(A)^(ε-1)*diagm(q)^(θ-ε)*diagm(1 .- α)*Ω*diagm(p)^(-θ))' -beta.*(p.^(-sigma)).* DCDY';\n",
    "    \n",
    "\n",
    "    [DOut1DP DOut1DY; DOut2DP DOut2DY]'\n",
    "\n",
    "end"
   ]
  },
  {
   "cell_type": "code",
   "execution_count": 9,
   "id": "d905404b-a3aa-428c-935e-31855480f9f6",
   "metadata": {},
   "outputs": [
    {
     "data": {
      "text/plain": [
       "f! (generic function with 1 method)"
      ]
     },
     "execution_count": 9,
     "metadata": {},
     "output_type": "execute_result"
    }
   ],
   "source": [
    "function f!(F,x)\n",
    "   F[1:152] = problem(x, A, beta, Omega, alpha, epsilon, theta, sigma,L);\n",
    "end"
   ]
  },
  {
   "cell_type": "code",
   "execution_count": 202,
   "id": "b6ad7bae-a924-4894-823d-6d8ff0d574fa",
   "metadata": {},
   "outputs": [
    {
     "data": {
      "text/plain": [
       "j! (generic function with 1 method)"
      ]
     },
     "execution_count": 202,
     "metadata": {},
     "output_type": "execute_result"
    }
   ],
   "source": [
    "function j!(J,x)\n",
    "    J[1:152,1:152] .= Jacobian(x, A, beta, Omega, alpha, epsilon, theta, sigma,L);\n",
    "end"
   ]
  },
  {
   "cell_type": "code",
   "execution_count": 11,
   "id": "22082b05-dae3-4e82-95b3-b69a88f481fb",
   "metadata": {},
   "outputs": [],
   "source": [
    "A = exp.(mvnrnd(-1/2*diag(Sigma),diagm(diag(Sigma))));\n",
    "#x0 = [exp.(-inv(I - diagm(1 .- alpha)*Omega)*log.(A));(beta' * inv(I- diagm(1 .- alpha)*Omega))'./exp.(-inv(I - diagm(1 .- alpha) * Omega)*log.(A))]  #judicious choice of starting values\n",
    "x0 = [exp.(-inv(I - diagm(1 .- alpha)*Omega)*log.(A));domar_weights ./exp.(-inv(I - diagm(1 .- alpha) * Omega)*log.(A))];"
   ]
  },
  {
   "cell_type": "code",
   "execution_count": 14,
   "id": "2fc8fb98-42ec-4aad-b544-9b3a29a5c7ed",
   "metadata": {},
   "outputs": [],
   "source": [
    "trials =  10\n",
    "GDP = zeros(trials)\n",
    "λ_sim = zeros(76,trials)\n",
    "for i ∈ 1:trials\n",
    "    A = exp.(mvnrnd(-1/2*diag(Sigma),diagm(diag(Sigma))));\n",
    "    x0 = [exp.(-inv(I - diagm(1 .- alpha)*Omega)*log.(A));domar_weights ./exp.(-inv(I - diagm(1 .- alpha) * Omega)*log.(A))];\n",
    "    x = nlsolve(f!,x0,iterations = 500, xtol = 10^-14,ftol = 10^-14);\n",
    "    if converged(x)\n",
    "        p = x.zero[1:76] \n",
    "        y = x.zero[77:152]\n",
    "        GDP[i] = (p .* (A .^ ((ε-1)/ε)).*(alpha.^(1/ε)).*(y.^(1/ε)).* L .^ (-1/ε))' * L;\n",
    "        λ_sim[:,i] .= (p .* y) / (GDP[i]) \n",
    "    end\n",
    "end"
   ]
  },
  {
   "cell_type": "code",
   "execution_count": 191,
   "id": "d4e65962-d48f-44f4-a400-1111a7fda46e",
   "metadata": {},
   "outputs": [
    {
     "ename": "LoadError",
     "evalue": "syntax: \"%\" is not a unary operator",
     "output_type": "error",
     "traceback": [
      "syntax: \"%\" is not a unary operator",
      "",
      "Stacktrace:",
      " [1] top-level scope",
      "   @ In[191]:6"
     ]
    }
   ],
   "source": [
    "for year = 1960:2005\n",
    "\n",
    "  temp=[8,60,62,80:88];\n",
    "\n",
    "  IO = data(find(data(:,1)==year),:);\n",
    "  IO(:,[1 3 4 5 94]) = []; % delete year, gross output, capital, labor, noncompetitive imports\n",
    "  IO(temp,:) = []; % reove government sectors, and sectors with no gross sales\n",
    "  Ind = IO(:,1); %store industry names\n",
    "  IO(:,1) = [];\n",
    "  IO(:,temp) =[];\n",
    "  Omega = bsxfun(@rdivide, IO, sum(IO,2));\n",
    "  %Omega = diag(1-vadd(:,year-1959)./grossy(:,year-1959))*Omega; #scale IO table by intermediate input share\n",
    "  alpha = (vadd(:,year-1959)./grossy(:,year-1959)); % set the factor share by industry\n",
    "  N = length(Omega);\n",
    "  beta = grossy(:,year-1959)'*(eye(N)-diag(1-alpha)*Omega);\n",
    "  beta(beta<0) = 0; %remove industries with negative implied final sales\n",
    "  beta = beta/sum(beta); %normalize consumption vector to sum to unity.\n",
    "  beta = beta';\n",
    "  lambda(:,count) = (beta'*inv(eye(N)-diag(1-alpha)*Omega))';\n",
    "  count = count+1;\n",
    "end"
   ]
  },
  {
   "cell_type": "code",
   "execution_count": 78,
   "id": "98baa9d4-35df-438a-92ea-6679f8a10865",
   "metadata": {},
   "outputs": [],
   "source": [
    "λ = zeros(76,2005-1959)\n",
    "\n",
    "for year ∈ 1960:2005\n",
    "    IO = data[data[:,1] .== year,:]\n",
    "    temp = [8,60,62,80:88...]\n",
    "    IO = IO[setdiff(1:end,temp),setdiff(1:end,[1,2,3,4,5,94])]\n",
    "    IO = IO[:,setdiff(1:end,temp)]\n",
    "    Ω = IO ./ sum(IO,dims=2)\n",
    "    α = vadd[:,year-1959] ./ grossy[:,year-1959];\n",
    "    β = (grossy[:,year-1959]' * (I-diagm(1 .- α)*Ω))';\n",
    "    β[beta .< 0] .= 0\n",
    "    β = β / sum(β)\n",
    "\n",
    "    \n",
    "    λ[:,year - 1959] .= (inv(I - diagm(1 .- alpha)*Ω)' * β);\n",
    "    \n",
    "end\n",
    "    \n",
    "\n",
    "    "
   ]
  },
  {
   "cell_type": "code",
   "execution_count": 79,
   "id": "1201c9af-358c-4eed-863c-4763680c1eff",
   "metadata": {},
   "outputs": [],
   "source": [
    "mean(λ,dims = 2) * (std(diff(log.(λ_sim),dims=2)));"
   ]
  },
  {
   "cell_type": "markdown",
   "id": "615bd900-139d-4c0d-8035-d3dfa09049a0",
   "metadata": {},
   "source": [
    "Here we do this simulation again, but we just shock certain sectors"
   ]
  },
  {
   "cell_type": "code",
   "execution_count": 80,
   "id": "47965450-ff15-4a3d-99ca-48aac4940812",
   "metadata": {},
   "outputs": [
    {
     "ename": "LoadError",
     "evalue": "UndefVarError: linspace not defined",
     "output_type": "error",
     "traceback": [
      "UndefVarError: linspace not defined",
      "",
      "Stacktrace:",
      " [1] top-level scope",
      "   @ In[80]:3"
     ]
    }
   ],
   "source": [
    "M = 10;\n",
    "GDP = zeros(2*M,1);\n",
    "grid = linspace(1.0, a, M);\n",
    "list = [7;53;8]\n",
    "for k = 1:length(list)\n",
    "        Ind = list(k);\n",
    "        grid = linspace(1.0, a, M);\n",
    "    for j = 1:M\n",
    "            A = ones(N,1);\n",
    "            A(Ind) = grid(j);\n",
    "            [Soln,~,exitfl] = knitromatlab(@(X) trivial(X),init,[],[],[],[],[],[], @(X)Simulation_Derivs(X,  A, beta, Omega, alpha, epsilon, theta, sigma,L),[],[],'Knitro_options.opt');\n",
    "            if exitfl == 0\n",
    "              GDP(j,k) = (Soln(1:N).*(A.^((epsilon-1)/epsilon)).*(alpha.^(1/epsilon)).*(Soln(N+1:2*N).^(1/epsilon)).*(1./L).^(1/epsilon))'*L;\n",
    "            end\n",
    "            init = Soln;\n",
    "    end\n",
    "\n",
    "\n",
    "    grid = linspace(1.0, b, M);\n",
    "    init = [ones(N,1);(beta'*inv(eye(N)-diag(1-alpha)*Omega))'];\n",
    "    for j = 1:M\n",
    "            A = ones(N,1);\n",
    "            A(Ind) = grid(j);\n",
    "                [Soln,~,exitfl] = knitromatlab(@(X) trivial(X),init,[],[],[],[],[],[], @(X)Simulation_Derivs(X,  A, beta, Omega, alpha, epsilon, theta, sigma,L),[],[],'Knitro_options.opt');\n",
    "                if exitfl == 0\n",
    "                    GDP(j+M,k) = (Soln(1:N).*(A.^((epsilon-1)/epsilon)).*(alpha.^(1/epsilon)).*(Soln(N+1:2*N).^(1/epsilon)).*(1./L).^(1/epsilon))'*L;\n",
    "                end\n",
    "                init = Soln;\n",
    "    end\n",
    "    GDP(1:M,k) = flipud(GDP(1:M,k));\n",
    "end"
   ]
  },
  {
   "cell_type": "code",
   "execution_count": 28,
   "id": "6073e57e-4d61-4d90-9b47-805f9f49d4ab",
   "metadata": {},
   "outputs": [
    {
     "ename": "LoadError",
     "evalue": "DomainError with -2.883848811126869:\nExponentiation yielding a complex result requires a complex argument.\nReplace x^y with (x+0im)^y, Complex(x)^y, or similar.",
     "output_type": "error",
     "traceback": [
      "DomainError with -2.883848811126869:\nExponentiation yielding a complex result requires a complex argument.\nReplace x^y with (x+0im)^y, Complex(x)^y, or similar.",
      "",
      "Stacktrace:",
      "  [1] _broadcast_getindex_evalf",
      "    @ ./broadcast.jl:670 [inlined]",
      "  [2] _broadcast_getindex",
      "    @ ./broadcast.jl:643 [inlined]",
      "  [3] getindex",
      "    @ ./broadcast.jl:597 [inlined]",
      "  [4] macro expansion",
      "    @ ./broadcast.jl:961 [inlined]",
      "  [5] macro expansion",
      "    @ ./simdloop.jl:77 [inlined]",
      "  [6] copyto!",
      "    @ ./broadcast.jl:960 [inlined]",
      "  [7] copyto!",
      "    @ ./broadcast.jl:913 [inlined]",
      "  [8] copy",
      "    @ ./broadcast.jl:885 [inlined]",
      "  [9] materialize",
      "    @ ./broadcast.jl:860 [inlined]",
      " [10] problem(X::Matrix{Float64}, A::Vector{Float64}, β::Vector{Float64}, Ω::Matrix{Float64}, α::Vector{Float64}, ε::Float64, θ::Float64, σ::Float64, L::Vector{Float64})",
      "    @ Main ./In[7]:8",
      " [11] f!(F::Matrix{Float64}, x::Matrix{Float64})",
      "    @ Main ./In[28]:25",
      " [12] (::NLSolversBase.var\"#fj_finitediff!#21\"{typeof(f!), FiniteDiff.JacobianCache{Matrix{Float64}, Matrix{Float64}, Matrix{Float64}, Matrix{Float64}, UnitRange{Int64}, Nothing, Val{:central}(), Float64}})(F::Matrix{Float64}, J::Matrix{Float64}, x::Matrix{Float64})",
      "    @ NLSolversBase ~/.julia/packages/NLSolversBase/kavn7/src/objective_types/oncedifferentiable.jl:138",
      " [13] value_jacobian!!(obj::OnceDifferentiable{Matrix{Float64}, Matrix{Float64}, Matrix{Float64}}, F::Matrix{Float64}, J::Matrix{Float64}, x::Matrix{Float64})",
      "    @ NLSolversBase ~/.julia/packages/NLSolversBase/kavn7/src/interface.jl:124",
      " [14] value_jacobian!(obj::OnceDifferentiable{Matrix{Float64}, Matrix{Float64}, Matrix{Float64}}, F::Matrix{Float64}, J::Matrix{Float64}, x::Matrix{Float64})",
      "    @ NLSolversBase ~/.julia/packages/NLSolversBase/kavn7/src/interface.jl:114",
      " [15] value_jacobian!",
      "    @ ~/.julia/packages/NLSolversBase/kavn7/src/interface.jl:111 [inlined]",
      " [16] newton_(df::OnceDifferentiable{Matrix{Float64}, Matrix{Float64}, Matrix{Float64}}, initial_x::Matrix{Float64}, xtol::Float64, ftol::Float64, iterations::Int64, store_trace::Bool, show_trace::Bool, extended_trace::Bool, linesearch::Static, linsolve::NLsolve.var\"#27#29\", cache::NLsolve.NewtonCache{Matrix{Float64}})",
      "    @ NLsolve ~/.julia/packages/NLsolve/gJL1I/src/solvers/newton.jl:114",
      " [17] #newton#7",
      "    @ ~/.julia/packages/NLsolve/gJL1I/src/solvers/newton.jl:146 [inlined]",
      " [18] nlsolve(df::OnceDifferentiable{Matrix{Float64}, Matrix{Float64}, Matrix{Float64}}, initial_x::Matrix{Float64}; method::Symbol, xtol::Float64, ftol::Float64, iterations::Int64, store_trace::Bool, show_trace::Bool, extended_trace::Bool, linesearch::Static, linsolve::NLsolve.var\"#27#29\", factor::Float64, autoscale::Bool, m::Int64, beta::Int64, aa_start::Int64, droptol::Float64)",
      "    @ NLsolve ~/.julia/packages/NLsolve/gJL1I/src/nlsolve/nlsolve.jl:23",
      " [19] nlsolve(f::Function, initial_x::Matrix{Float64}; method::Symbol, autodiff::Symbol, inplace::Bool, kwargs::Base.Pairs{Symbol, Real, Tuple{Symbol, Symbol, Symbol}, NamedTuple{(:iterations, :xtol, :ftol), Tuple{Int64, Float64, Float64}}})",
      "    @ NLsolve ~/.julia/packages/NLsolve/gJL1I/src/nlsolve/nlsolve.jl:52",
      " [20] top-level scope",
      "    @ In[28]:32"
     ]
    }
   ],
   "source": [
    "year = 1982\n",
    "M = 10\n",
    "A = ones(76,1);\n",
    "a = 0.7;\n",
    "b = 1.3;\n",
    "\n",
    "ε = .3; #Elasticity of substitution between VA and intermediates\n",
    "θ = 0.0001; #Elasticity of substitution between intermediates\n",
    "σ = .4; #Elasticity of substitution between in consumption\n",
    "\n",
    "\n",
    "(α,β,Ω,L,λ) = getVariables(year);\n",
    "\n",
    "x0 = [ones(76,1);λ];\n",
    "\n",
    "GDP = zeros(20,3)\n",
    "sectors = [7 8 53]\n",
    "sectorShocks = LinRange(1,a,M)\n",
    "for i in 1:3\n",
    "    for k in 1:M\n",
    "        A = ones(76)\n",
    "        A[sectors[i]] = sectorShocks[k]\n",
    "        \n",
    "        function f!(F,x)\n",
    "            F[1:152] = problem(x, A, β, Ω, α, ε, θ, σ,L);\n",
    "        end\n",
    "        \n",
    "        function j!(J,x)\n",
    "            J[1:152,1:152] .= Jacobian(x, A, beta, Omega, alpha, epsilon, theta, sigma,L);\n",
    "        end\n",
    "        \n",
    "        x = nlsolve(f!,x0,iterations = 500, xtol = 10^-14,ftol = 10^-14,method = :newton);\n",
    "        \n",
    "        if converged(x)\n",
    "            p = x.zero[1:76] \n",
    "            y = x.zero[77:152]\n",
    "            GDP[k,i] = (p .* (A .^ ((ε-1)/ε)).*(alpha.^(1/ε)).*(y.^(1/ε)).* L .^ (-1/ε))' * L\n",
    "            x0 =  x.zero\n",
    "        else\n",
    "            print(\"No convergence\")\n",
    "            p = x.zero[1:76] \n",
    "            y = x.zero[77:152]\n",
    "            GDP[k,i] = (p .* (A .^ ((ε-1)/ε)).*(alpha.^(1/ε)).*(y.^(1/ε)).* L .^ (-1/ε))' * L\n",
    "            x0 =  x.zero\n",
    "        end\n",
    "    end\n",
    "\n",
    "end\n",
    "\n"
   ]
  },
  {
   "cell_type": "code",
   "execution_count": 25,
   "id": "e92f6fc4-107a-49ea-9727-415be6c0fade",
   "metadata": {},
   "outputs": [
    {
     "data": {
      "text/plain": [
       "20×3 Matrix{Float64}:\n",
       " 1.0       0.0  0.0\n",
       " 0.996628  0.0  0.0\n",
       " 0.992192  0.0  0.0\n",
       " 0.986481  0.0  0.0\n",
       " 0.0       0.0  0.0\n",
       " 0.0       0.0  0.0\n",
       " 0.0       0.0  0.0\n",
       " 0.0       0.0  0.0\n",
       " 0.0       0.0  0.0\n",
       " 0.0       0.0  0.0\n",
       " 0.0       0.0  0.0\n",
       " 0.0       0.0  0.0\n",
       " 0.0       0.0  0.0\n",
       " 0.0       0.0  0.0\n",
       " 0.0       0.0  0.0\n",
       " 0.0       0.0  0.0\n",
       " 0.0       0.0  0.0\n",
       " 0.0       0.0  0.0\n",
       " 0.0       0.0  0.0\n",
       " 0.0       0.0  0.0"
      ]
     },
     "execution_count": 25,
     "metadata": {},
     "output_type": "execute_result"
    }
   ],
   "source": [
    "GDP\n"
   ]
  },
  {
   "cell_type": "code",
   "execution_count": 26,
   "id": "ffa28e87-5a3c-453f-8b78-04b0733d494c",
   "metadata": {},
   "outputs": [
    {
     "data": {
      "text/plain": [
       "152×152 adjoint(::Matrix{Float64}) with eltype Float64:\n",
       "  0.0307705    -0.162351    -0.026603     …  -8.01047e-5   -0.000143758\n",
       " -0.0825506     0.229532    -0.223052        -1.18829e-5    9.90941e-7\n",
       " -0.0          -0.00184586   0.288079        -3.919e-6     -2.60337e-5\n",
       " -0.0          -2.8603e-7   -0.0             -3.28022e-6   -1.49711e-5\n",
       " -0.00181618   -6.28171e-5  -2.11171e-5      -5.27254e-6    2.98126e-5\n",
       " -0.0          -0.0         -0.0          …  -1.86148e-5   -5.8531e-5\n",
       " -0.0          -4.0704e-6   -8.3735e-7       -0.000145467  -0.000326277\n",
       " -0.00522977   -0.0140386   -0.0488791       -0.000203259  -0.00369835\n",
       " -0.00329336   -7.81168e-5  -9.55374e-6      -1.93095e-5    0.0002413\n",
       " -4.76546e-6   -5.0954e-5   -1.00558e-6      -1.53022e-5   -4.55823e-5\n",
       " -0.00139149   -0.00165453  -0.000308541  …  -2.07418e-5    0.00026835\n",
       " -0.000497091  -7.26123e-5  -1.84367e-5      -2.50485e-5    9.71839e-5\n",
       " -0.00423587   -0.00244266  -0.00511201      -5.22114e-5    0.000325401\n",
       "  ⋮                                       ⋱   ⋮            \n",
       "  0.0           0.0          0.0          …  -0.00367856   -0.0122302\n",
       "  0.0           0.0          0.0             -0.00315207   -0.0126392\n",
       "  0.0           0.0          0.0             -0.00439751   -0.0329047\n",
       "  0.0           0.0          0.0             -0.00481794   -0.0194448\n",
       "  0.0           0.0          0.0             -0.00487775   -0.0183641\n",
       "  0.0           0.0          0.0          …  -0.00557615   -0.0267933\n",
       "  0.0           0.0          0.0             -0.00442083   -0.0192445\n",
       "  0.0           0.0          0.0             -0.0233997    -0.0271817\n",
       "  0.0           0.0          0.0             -0.00418394   -0.0199245\n",
       "  0.0           0.0          0.0             -0.00440101   -0.0221153\n",
       "  0.0           0.0          0.0          …   0.984992     -0.0572932\n",
       "  0.0           0.0          0.0             -0.00785096    0.898569"
      ]
     },
     "execution_count": 26,
     "metadata": {},
     "output_type": "execute_result"
    }
   ],
   "source": [
    "Jacobian(x0, A, beta, Omega, alpha, epsilon, theta, sigma,L)"
   ]
  },
  {
   "cell_type": "code",
   "execution_count": null,
   "id": "776bc056-a1d1-4466-bd92-d88124bfdffc",
   "metadata": {},
   "outputs": [],
   "source": []
  }
 ],
 "metadata": {
  "kernelspec": {
   "display_name": "Julia 1.8.0",
   "language": "julia",
   "name": "julia-1.8"
  },
  "language_info": {
   "file_extension": ".jl",
   "mimetype": "application/julia",
   "name": "julia",
   "version": "1.8.0"
  }
 },
 "nbformat": 4,
 "nbformat_minor": 5
}

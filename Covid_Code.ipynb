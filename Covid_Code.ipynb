{
 "cells": [
  {
   "attachments": {},
   "cell_type": "markdown",
   "metadata": {},
   "source": [
    "# Analysis of the Covid Code\n"
   ]
  },
  {
   "attachments": {},
   "cell_type": "markdown",
   "metadata": {},
   "source": [
    "## What is being solved\n",
    "\n",
    "The \n",
    "\n",
    "price_equation1 cobb_douglas = 0: $$p_k= \\frac {\\mu_k}{A_k \\tilde \\mu_k} ( \\sum_{j \\in Indu}B_{k,j}^\n",
    "{\\theta_k} \\Omega_{k,j}p_{j}^{1-\\theta_k})^{1/(1-\\theta_k)}$$\n",
    "price_equation2 cobb_doublas = 1:\n",
    "$$\\begin{align*}\n",
    "\\log(p_k)=- \\log(A_k) + \\sum_{j \\in Indu} B_{k,j} \\Omega_{k,j}* \\log(p_j) \\\\\n",
    "\\Leftrightarrow p_k = \\prod_{j \\in Indu} \\frac {p_j^{B_{k,j} \\Omega_{k,j}}} {A_k}\n",
    "\\end{align*}$$\n",
    "\n",
    "consumption_share factor = 1: $$\n",
    "cs_k = (B_{1,k}^{\\theta_1} \\Omega_{1,k} \\frac {p_{k}} {p_{1}})^{1-\\theta_{1}}A_{1}^{\\theta_{1}-1}$$\n",
    "\n",
    "lambda_equation {k in Ind: factor[k]<2}: \n",
    "$$\\lambda_{k}= \\sum_{j \\in Ind: factor_{j}>0}(\\lambda_{j} \\mu_{j}^{-1}*B_{j,k}^{\\theta_{j}}\\Omega_{j,k} \\frac {p_{k}} {p_{j}}^{1-\\theta_{j}} \\frac {\\mu_{j}}{in\\mu_{j}} ^{1-\\theta_{j}}*A_{j}^{\\theta_{j}-1});$$\n",
    "\n",
    "lambda_equation1 {k in Ind: factor[k]=3}: $$\\lambda_k = (\\sum_{j \\in Ind: factor_{j}=0} \\tilde \\lambda_{j}*(1-\\phi_{j}) (1-\\frac{\\lambda_{j}}{p_{j} \\tilde \\lambda_{j}})) \\lambda_{1}$$\n",
    "\n",
    "lambda_equation2 {k in Ind: factor[k]=2}: $$\\begin{align}&\\lambda_k = \\\\ &-\\left(\\sum_{j \\in \\text{{Ind: factor[j]=0}}} (\\text{{init\\_lambda}}_j \\cdot (1-\\phi_{\\text{{htm}}_j}) \\cdot (1-\\frac{{\\lambda_j}}{{p_j \\cdot \\text{{init\\_lambda}}_j}}))\\right) \\cdot \\lambda_{1} \\\\ &+ \\sum_{j \\in \\text{{Ind: factor[j]=0}}} \\lambda_j \\end{align}$$\n",
    "\n",
    "These can be found in the paper\n",
    "factor_clearing0 {k in Ind: keynes[k]=0}: $$\\begin{align}\\lambda_k = p_k \\cdot \\left(\\frac{{p_k}}{{p_{\\text{{member}}(1,\\text{{Ind}})}}}\\right)^{\\phi_k} \\cdot \\text{{init\\_lambda}}_k \\cdot A_k\\end{align}$$\n",
    "\n",
    "factor_clearing1 {k in Ind: keynes[k]<0}: $$(p_k - \\left(\\frac{{\\lambda_k}}{{p_k}}\\right) \\cdot \\left(\\frac{{1}}{{A_k \\cdot \\text{{init\\_lambda}}_k}}\\right)^{\\phi_k}) \\cdot (\\frac{{\\lambda_k}}{{p_k}} - A_k \\cdot \\text{{init\\_lambda}}_k) = 0$$\n",
    "factor_clearing2 {k in Ind: keynes[k]<0}: $$p_k \\geq \\left(\\frac{{\\lambda_k}}{{p_k}}\\right) \\cdot \\left(\\frac{{1}}{{A_k \\cdot \\text{{init\\_lambda}}_k}}\\right)^{\\phi_k}$$\n",
    "\n",
    "factor_clearing3:$$\\frac{{\\lambda_k}}{{p_k}} \\leq A_k \\cdot \\text{{init\\_lambda}}_k$$\n"
   ]
  },
  {
   "attachments": {},
   "cell_type": "markdown",
   "metadata": {},
   "source": [
    "We can see that $\\text{init\\_lambda} A_k = \\bar L_f$, with $\\bar L_f$ appearing in the paper. Apperently $L_f = \\frac {\\lambda_f} {p_f}$ We can also speculate, that $p_f$ in the code corresponds to $w_f$ in the paper and \n",
    "$\\left(\\frac{{\\lambda_k}}{{p_k}}\\right) \\cdot \\left(\\frac{{1}}{{A_k \\cdot \\text{{init\\_lambda}}_k}}\\right)^{\\phi_k} = \\frac {\\lambda_k}{p_k} \\bar L_f^{-\\phi_k}$ corresponds to $\\bar w_f$ Therefore equations factor_clearing1 2 and 3 correspond can be found in the paper 1 to 1.\n",
    "\n",
    "Price equations 1 looks like a ces production function.\n",
    "Price equation 2 looks like a cobb doublas production function, that has been linearized\n",
    "\n",
    "Lambda Equation 1 is probably some form of equation (2) found on page 1408\n",
    "\"future output consumed by HtM households is: $\\sum_{f} \\lambda_f^* (1- \\phi_f)(1-L_f)$\""
   ]
  },
  {
   "attachments": {},
   "cell_type": "markdown",
   "metadata": {},
   "source": [
    "We now want to look at where the data from the model stems from."
   ]
  },
  {
   "attachments": {},
   "cell_type": "markdown",
   "metadata": {},
   "source": [
    "$A$ is the supply shock and $B$ is the demand shock\n",
    "$A$ is a $334 \\times 1$ vector, while $B$ is a $334 \\times 334$ matrix\n",
    "It is a bit of a trick tho, beacuse $B$ is mostly ones. Only $B_{1,2:N+1} = (1-0.66t)+0.66t(1+\\text{PCEshock})$ and $B(333,334) = 1.105$ oder $1.0$ "
   ]
  },
  {
   "attachments": {},
   "cell_type": "markdown",
   "metadata": {},
   "source": [
    "what do the numbers in the vector factors stand for:\n",
    "- 0 factors and consumption in the future\n",
    "- 1 goods\n",
    "- 2 and 3 are consumers."
   ]
  },
  {
   "attachments": {},
   "cell_type": "markdown",
   "metadata": {},
   "source": [
    "for goods cobb_douglas is 1"
   ]
  },
  {
   "attachments": {},
   "cell_type": "markdown",
   "metadata": {},
   "source": [
    "The IO-Matrix has the following structure where $N=66$\n",
    "- 1 is consumption today, \n",
    "- 2:N+1 is goods today, N+2:2*N+1 is VA today,\n",
    "- 2*N+2:3*N+1 is intermediates today, \n",
    "- 3*N+2:4*N+1 is labor today, \n",
    "- 4*N+2:5*N+1 is capital today, \n",
    "- 5*N+2 is HtM consumer, \n",
    "- 5*N+3 is the Ricardian consumer, \n",
    "- 5*N+4 is (aggregate) consumption good tomorrow. \n"
   ]
  },
  {
   "attachments": {},
   "cell_type": "markdown",
   "metadata": {},
   "source": []
  }
 ],
 "metadata": {
  "language_info": {
   "name": "python"
  },
  "orig_nbformat": 4
 },
 "nbformat": 4,
 "nbformat_minor": 2
}

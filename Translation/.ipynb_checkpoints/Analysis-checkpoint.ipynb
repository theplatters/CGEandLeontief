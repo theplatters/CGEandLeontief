{
 "cells": [
  {
   "cell_type": "code",
   "execution_count": 1,
   "id": "8753bdc5-e882-4c61-a8f2-c8c9b79c961f",
   "metadata": {},
   "outputs": [],
   "source": [
    "using MAT, Statistics, LinearAlgebra,Random, Plots, NLsolve, ForwardDiff"
   ]
  },
  {
   "cell_type": "markdown",
   "id": "7edec650-2702-4d81-95f7-7ea02545dd1c",
   "metadata": {},
   "source": [
    "Function that reads in all the variables optained that are used in line 93 and onwards and are defined before that."
   ]
  },
  {
   "cell_type": "code",
   "execution_count": 2,
   "id": "196a4e30-3fd6-4ea1-8cae-d59d4018151d",
   "metadata": {},
   "outputs": [
    {
     "data": {
      "text/plain": [
       "mvnrnd (generic function with 1 method)"
      ]
     },
     "execution_count": 2,
     "metadata": {},
     "output_type": "execute_result"
    }
   ],
   "source": [
    "include(\"mvnrnd.jl\")"
   ]
  },
  {
   "cell_type": "markdown",
   "id": "919fdc44-9128-4d80-9350-d640f98ed92f",
   "metadata": {},
   "source": [
    "Turns them into julia variables."
   ]
  },
  {
   "cell_type": "code",
   "execution_count": 3,
   "id": "43cbe81d-fdda-4954-bfe6-f40a0184aadd",
   "metadata": {},
   "outputs": [],
   "source": [
    "function string_as_varname(s::AbstractString,v::Any)\n",
    "    s=Symbol(s)\n",
    "    if size(v,2) == 1 # check if v is a column vector\n",
    "        @eval (($s) = (vec($v)))\n",
    "    else\n",
    "        @eval (($s) = ($v))\n",
    "    end\n",
    "end\n",
    "\n",
    "file = matopen(\"simulationData.mat\")\n",
    "\n",
    "\n",
    "\n",
    "varnames = names(file) \n",
    "#[IO, price, Omega, data, labor, mu, aggtfp, alpha, grossy, stfp, beta, agggdp, Sigma, capital, vadd]\n",
    "for varname in varnames\n",
    "    val = read(file, varname)\n",
    "    # Instantiate the variable with its name in the current scope\n",
    "    string_as_varname(varname,val)\n",
    "    end\n",
    "\n",
    "close(file)"
   ]
  },
  {
   "cell_type": "markdown",
   "id": "02220dec-96c3-45e0-9e7d-0246353d1fa9",
   "metadata": {},
   "source": [
    "We now want to figure out what every variable stands for, and where it comes from.\n",
    "So far we know:\n",
    "- **IO**: Input-Output Matrix\n",
    "- **STFP** Sectoral TFP Growth per anno\n",
    "- **$\\Omega$**: I think this is the same as in *Definition 3* Es gilt $$(\\Omega)_i^j = \\frac {(\\mathit{IO})_i^j} {\\sum_{k=0}^N(\\mathit{IO}_k^j)}$$ Also der Anteil eines Sektors $i$ an der Gesamptproduktion des Sektors $j$\n",
    "- **$\\Sigma$**: Covarianz von SFTP\n",
    "- **$\\mu$**: Rowwise mean of stfp. So the mean annual groth of each sector\n",
    "- **data**: quantity data matrix\n",
    "- **price**: price data matrix. I think price and data are for our anyalsis quite useless, they are used as building blocks\n",
    "- **grossy** nominal gross output\n",
    "- **vadd** nominal value added\n",
    "- **labor** nominal labor\n",
    "- **capital** nominal captial\n",
    "- **alpha**: vadd / grossy.\n",
    "- **beta**: `beta = (I-diagm(1-alpha)*Omega)' * grossy(:,year-1959)` this is then normalized and filtered. "
   ]
  },
  {
   "cell_type": "markdown",
   "id": "6cecbba8-ad27-4340-8352-0879d677bcef",
   "metadata": {},
   "source": [
    "This is not used anywhere in the code."
   ]
  },
  {
   "cell_type": "markdown",
   "id": "13511aa2-281d-4311-8f51-0b1f76bfeaef",
   "metadata": {},
   "source": [
    "Found way too late, for how often this is used."
   ]
  },
  {
   "cell_type": "code",
   "execution_count": 4,
   "id": "365005e7-b2a5-428f-baa7-458e80d29bdf",
   "metadata": {},
   "outputs": [],
   "source": [
    "#domar_weights = (beta' * inv(I - diagm(1 .-alpha)* Omega))';\n",
    "domar_weights = (inv(I - diagm(1 .- alpha) * Omega)' * beta);"
   ]
  },
  {
   "cell_type": "code",
   "execution_count": 5,
   "id": "e016ae2b-1224-46a9-9e84-d1e44e3da203",
   "metadata": {},
   "outputs": [],
   "source": [
    "cum_stfp = cumsum(log.(1 .+ stfp)',dims=1);\n",
    "cum_stfp_4year = cum_stfp[:,begin:4:end];\n",
    "covariance_4year = Statistics.cov(cum_stfp_4year,dims=2,corrected=false);"
   ]
  },
  {
   "cell_type": "markdown",
   "id": "21b8451e-e408-4ef6-883d-e58abf34d711",
   "metadata": {},
   "source": [
    "Some elasticities, explaination can be found in section 6"
   ]
  },
  {
   "cell_type": "code",
   "execution_count": 6,
   "id": "6b913872-1883-415d-8152-0ee86ffbf231",
   "metadata": {},
   "outputs": [],
   "source": [
    "epsilon = ε = .5; \n",
    "theta = θ = 0.001; \n",
    "sigma = σ =.9; "
   ]
  },
  {
   "cell_type": "markdown",
   "id": "23f90ee0-7718-47eb-94ff-b281dc7d3ed3",
   "metadata": {},
   "source": [
    "Again, not used anymore"
   ]
  },
  {
   "cell_type": "code",
   "execution_count": 7,
   "id": "3297e2b5-4099-4437-b9bc-901a688789f8",
   "metadata": {},
   "outputs": [
    {
     "ename": "LoadError",
     "evalue": "UndefVarError: movingvar not defined",
     "output_type": "error",
     "traceback": [
      "UndefVarError: movingvar not defined",
      "",
      "Stacktrace:",
      " [1] top-level scope",
      "   @ In[7]:4"
     ]
    }
   ],
   "source": [
    "trials = 1; #number of draws\n",
    "#clear Shocks LShocks;\n",
    "GDP = zeros(trials,1);\n",
    "variances = (movingvar(stfp',5)'); #rolling estimate of variance of TFP\n",
    "var_cri = variances[:,22];\n",
    "\n",
    "var_cri = diag(Sigma)*2; #crisis episode variances\n",
    "\n"
   ]
  },
  {
   "cell_type": "markdown",
   "id": "9917ad4b-a491-4ddc-b987-35c45d7eeda1",
   "metadata": {},
   "source": [
    "L is the steady state allocation of labor\n",
    "$$L_i = (\\beta^T (I - \\Omega + \\text{diag}(\\alpha)\\Omega)^{-1})^T \\cdot \\alpha = (I - (I - \\text{diagm}(\\alpha)) * \\Omega)^{-1}\\beta) \\cdot \\alpha = \\lambda \\cdot \\alpha$$\n"
   ]
  },
  {
   "cell_type": "code",
   "execution_count": 8,
   "id": "ccdd07dd-6ae9-40d2-aff7-afac572b1791",
   "metadata": {},
   "outputs": [],
   "source": [
    "#L = (beta'*inv(I-diagm(1 .- alpha)*Omega))'.*alpha; #steady-state allocation of labor\n",
    "L = domar_weights .* alpha;"
   ]
  },
  {
   "cell_type": "markdown",
   "id": "63a3ef56-7cc6-4b7c-80cc-c81dcbe1158b",
   "metadata": {},
   "source": [
    "Here comes the randomness. As far as i can tell the generated vector $x$ has mean $\\mu = -\\frac 1 2 \\text{Var}(\\mathit{stfp})$ and $\\sigma = \\text{Var}(\\mathit{stfp})$ Because $\\sigma$ is a Diagonal Matrix, there is no correlation between each random number, what makes this rather perculiar. Intuition wise I would say, that this implies, that the shocks are independent of one-another. (As described in  Chapter 6)\n",
    "\n",
    "$$A_i = e^{x_i}$$"
   ]
  },
  {
   "cell_type": "code",
   "execution_count": 9,
   "id": "e9d051ee-5243-474b-91af-878ef1ccf2e3",
   "metadata": {},
   "outputs": [],
   "source": [
    "A = exp.(mvnrnd(-1/2*diag(Sigma),diagm(diag(Sigma))));"
   ]
  },
  {
   "cell_type": "code",
   "execution_count": 10,
   "id": "f6b157b8-57f6-4b63-afd9-d4139d8adc73",
   "metadata": {},
   "outputs": [],
   "source": [
    "#x0 = [exp.(-inv(I - diagm(1 .- alpha)*Omega)*log.(A));(beta' * inv(I- diagm(1 .- alpha)*Omega))'./exp.(-inv(I - diagm(1 .- alpha) * Omega)*log.(A))]  #judicious choice of starting values\n",
    "x0 = [exp.(-inv(I - diagm(1 .- alpha)*Omega)*log.(A));domar_weights ./exp.(-inv(I - diagm(1 .- alpha) * Omega)*log.(A))];"
   ]
  },
  {
   "cell_type": "markdown",
   "id": "9f20372c-a460-4a3d-880a-984a4f019e17",
   "metadata": {},
   "source": [
    "The `fmincon` function is abused in my opinion. The problem as stated is: $$\\min_x 0 \\quad \\text{s.t} \\,\\, c(x) = 0$$\n",
    "However this is simply: Solve $$c(x) = 0$$And for this the `fsolve` function can be utilized.\n",
    "\n",
    "Lets analyze what $c(x)$ actually is now. (Only `Out` is of importance, the other return values are either unused arguments in the `fmincon` function or the derivatives of `Out`, to make the solver more efficient.\n",
    "\n"
   ]
  },
  {
   "cell_type": "code",
   "execution_count": 11,
   "id": "823279c9-4d8a-4e6d-b82e-d3835c1cb758",
   "metadata": {},
   "outputs": [
    {
     "data": {
      "text/plain": [
       "Simulation_Derivs (generic function with 1 method)"
      ]
     },
     "execution_count": 11,
     "metadata": {},
     "output_type": "execute_result"
    }
   ],
   "source": [
    "function Simulation_Derivs(X, A, beta, Omega, alpha, epsilon, theta, sigma,L) # no reallocation of labor\n",
    "    N = length(alpha);\n",
    "    p = X[1:N];\n",
    "    y = X[N+1:2*N];\n",
    "\n",
    "    q = (Omega* (p .^ (1-theta))) .^ (1/(1-theta));\n",
    "    w = p .* (A .^ ((epsilon-1)/epsilon)) .* (alpha.^(1/epsilon)) .* (y.^(1/epsilon)) .* (1 ./ L) .^ (1/epsilon);\n",
    "    C = w'*L;\n",
    "\n",
    "    \n",
    "    Out = zeros(2*N)\n",
    "    Out[1:N] = p - (diagm(A)^(epsilon-1) * (alpha.* w .^ (1-epsilon) + (1 .- alpha) .*q .^ (1-epsilon))).^(1/(1-epsilon));\n",
    "    Out[N+1:2*N] = y' -y'*diagm(p)^epsilon*diagm(A)^(epsilon-1)*diagm(q)^(theta-epsilon)*diagm(1 .- alpha)*Omega*diagm(p)^(-theta) - beta'*diagm(p)^(-sigma)*C;\n",
    "    \n",
    "    return Out\n",
    "\n",
    "\n",
    "    #=\n",
    "    outineq = [];\n",
    "    outineq2 = [];\n",
    "    \n",
    "    \n",
    "    DQDP = bsxfun(@times, (q.^theta), (p.^(-theta))').* Omega; % \n",
    "    DWDP = diag((A.^((epsilon-1)/epsilon)).*(alpha.^(1/epsilon)).*(y.^(1/epsilon)).*(1./L).^(1/epsilon)); %checked\n",
    "    DWDY = (1/epsilon)*diag(p.*(A.^((epsilon-1)/epsilon)).*(alpha.^(1/epsilon)).*(y.^(1/epsilon-1)).*(L).^(-1/epsilon)); %checked\n",
    "    DCDP = DWDP'*L; %checked\n",
    "    DCDY = DWDY'*L;%checked\n",
    "    DOut1DP = eye(N) - diag(diag(A)^(-1)*((alpha.*(w.^(1-epsilon))+(1-alpha).*(q.^(1-epsilon)))).^(epsilon/(1-epsilon)))*...\n",
    "        (diag(alpha)*diag(w.^(-epsilon))*DWDP+diag(1-alpha)*diag(q.^(-epsilon))*DQDP);\n",
    "\n",
    "    DOut1DY =  -diag(diag(A.^(-1))*((alpha.*(w.^(1-epsilon))+(1-alpha).*(q.^(1-epsilon)))).^(epsilon/(1-epsilon)))*...\n",
    "        (diag(alpha)*diag(w.^(-epsilon))*DWDY);\n",
    "\n",
    "    DOut2DP = -(epsilon * diag(p.^(-theta))*Omega'*diag((p.^(epsilon-1)).*(y).*(q.^(theta-epsilon)).*(1-alpha).*(A.^(epsilon-1)))...\n",
    "        +(theta-epsilon)*diag(p.^(-theta))*Omega'*diag((p.^(epsilon)).*(y).*(q.^(theta-epsilon-1)).*(1-alpha).*(A.^(epsilon-1)))*DQDP ...\n",
    "        -sigma*diag(beta.*p.^(-sigma-1))*C+ bsxfun(@times, beta.*(p.^(-sigma)), DCDP')...\n",
    "        - theta* diag(p.^(-theta-1)).*diag(Omega'*diag((p.^(epsilon)).*(q.^(theta-epsilon)).*(1-alpha).*(A.^(epsilon-1)))*y));\n",
    "\n",
    "    DOut2DY = eye(N) - (diag(p)^epsilon*diag(A)^(epsilon-1)*diag(q)^(theta-epsilon)*diag(1-alpha)*Omega*diag(p)^(-theta))' - bsxfun(@times, beta.*(p.^(-sigma)), DCDY');\n",
    "    OutDeriv = [DOut1DP DOut1DY; DOut2DP DOut2DY]';\n",
    "    =#\n",
    "\n",
    "end"
   ]
  },
  {
   "cell_type": "markdown",
   "id": "1db92638-98ed-4e79-acea-0d3babe99b04",
   "metadata": {},
   "source": [
    "Im  Folgenden benutzen wir die Notation $A = \\begin{pmatrix}a_1 \\\\ \\vdots \\\\ a_j \\end{pmatrix}$ für alle Matrizen. Für die Vektoren von $\\Omega$ $\\omega$. Potenzieren wird im folgenden Komponentenweise verstanden.\n",
    "\n",
    "\\begin{align}\n",
    "q_i &= \\langle \\omega_i,p^{1-\\theta} \\rangle ^ {\\frac 1 {1 - \\theta}} \\\\\n",
    "w_i &= p_i (A_i ^ {\\frac{\\varepsilon -1}{\\epsilon}} \\alpha_i ^ {\\frac 1 \\varepsilon} y_i ^ {\\frac 1 \\varepsilon} L_i ^ {\\frac {-1}{\\varepsilon}}) = p_i (A_i^{\\varepsilon-1}\\alpha_i y_i L_i^{-1})^{1/\\varepsilon} \\\\\n",
    "C &= \\langle w, L \\rangle\n",
    "\\end{align}\n",
    "\n",
    "Wir wollen nun Lösen:\n",
    "\n",
    "\\begin{align}\n",
    "p_i = (A_i^{\\varepsilon -1} (\\alpha_i w_i^{1 - \\varepsilon} + (1 - \\alpha_i) q_i ^ {1- \\varepsilon})) ^ {1/(1-\\varepsilon)}\n",
    "\\end{align}\n"
   ]
  },
  {
   "cell_type": "code",
   "execution_count": 22,
   "id": "ce5cb879-6167-4a9d-a280-ec9dbb12b4d1",
   "metadata": {},
   "outputs": [
    {
     "data": {
      "text/plain": [
       "problem (generic function with 1 method)"
      ]
     },
     "execution_count": 22,
     "metadata": {},
     "output_type": "execute_result"
    }
   ],
   "source": [
    "function problem(X, A, β, Ω, α, ε, θ, σ,L)\n",
    "    N = length(α)\n",
    "    p = X[1:N]\n",
    "    y = X[N+1:end]\n",
    "    \n",
    "    Out = zeros(2*N)\n",
    "    \n",
    "    q = (Ω * p .^ (1-θ)) .^ (1 / (1 - θ))\n",
    "    w = p .* (A .^ ((ε - 1)/ε)) .* (α .^ (1 / ε)) .* (y .^ (1/ε)) .* L .^ (-1/ε)\n",
    "    C = w' * L\n",
    "  \n",
    "    Out[1:N] = p - (A .^ (ε - 1) .* (α .* w .^ (1- ε) + (1 .- α) .* q .^ (1 - ε))) .^ (1/(1-ε))\n",
    "    Out[N+1:end] = y' - y' * diagm(p)^ε * diagm(A)^(ε-1) * diagm(q)^(θ-ε) * diagm(1 .- α) * Ω * diagm(p)^(-θ) - β'*diagm(p)^(-σ)*C\n",
    "    \n",
    "    return Out\n",
    "end"
   ]
  },
  {
   "cell_type": "code",
   "execution_count": 23,
   "id": "0d204cdd-1d7d-46b6-8f18-aff4889404fb",
   "metadata": {},
   "outputs": [
    {
     "data": {
      "text/plain": [
       "Jacobian (generic function with 1 method)"
      ]
     },
     "execution_count": 23,
     "metadata": {},
     "output_type": "execute_result"
    }
   ],
   "source": [
    "function Jacobian(X, A, β, Ω, α, ε, θ, σ,L)\n",
    "    N = length(α)\n",
    "    p = X[1:N]\n",
    "    y = X[N+1:end]\n",
    "    \n",
    "    Out = zeros(2*N)\n",
    "    \n",
    "    q = (Ω * p .^ (1-θ)) .^ (1 / (1 - θ))\n",
    "    w = p .* (A .^ ((ε - 1)/ε)) .* (α .^ (1 / ε)) .* (y .^ (1/ε)) .* L .^ (-1/ε)\n",
    "    C = w' * L\n",
    "  \n",
    "    \n",
    "    DQDP = ((q.^θ) .* (p.^(-θ))') .* Ω\n",
    "    DWDP = diagm((A .^ ((ε-1)/ε)) .* (alpha .^ (1/ε)).*(y .^ (1/ε)) .* L .^ (-1/ε));\n",
    "    DWDY = (1/ε) *diagm(p .* (A .^ ((ε-1)/ε)) .* (α.^(1/ε)).*(y.^(1/ε-1)).*(L).^(-1/ε));\n",
    "    DCDP = DWDP'*L;\n",
    "    DCDY = DWDY'*L;\n",
    "\n",
    "    DOut1DP = I - diagm(diagm(A)^(-1) * ((.*(w.^(1-ε))+(1 .- α).*(q.^(1-ε)))).^(ε/(1-ε))) * (diagm(α)*diagm(w .^(-epsilon))*DWDP + diagm(1 .- α)*diagm(q.^(-ε))*DQDP);\n",
    "    DOut1DY =  -diagm(diagm(A.^(-1))*((α.*(w.^(1-ε))+(1 .- α).*(q.^(1-ε)))).^(ε/(1-ε)))* (diagm(α)*diagm(w.^(-ε))*DWDY);\n",
    "\n",
    "    DOut2DP = -(ε * diagm(p.^(-θ))*Ω'*diagm((p.^(ε-1)).*(y).*(q.^(θ-ε)).*(1 .- α).*(A.^(ε-1))) \n",
    "        + (θ-ε)*diagm(p.^(-θ))*Ω'*diagm((p.^(ε)).*(y).*(q.^(θ-ε-1)).*(1 .- α)\n",
    "            .*(A.^(ε-1)))*DQDP - σ*diagm(β.*p.^(-σ-1))*C + β.*(p.^(-sigma)) .* DCDP' \n",
    "        - θ* diagm(p.^(-θ-1)).*diagm(Ω'*diagm((p.^(ε)).*(q.^(θ-ε)).*(1 .- α).*(A.^(ε-1)))*y));\n",
    "\n",
    "    DOut2DY = I - (diagm(p)^ε * diagm(A)^(ε-1)*diagm(q)^(θ-ε)*diagm(1 .- α)*Ω*diagm(p)^(-θ))' -beta.*(p.^(-sigma)).* DCDY';\n",
    "    \n",
    "\n",
    "    [DOut1DP DOut1DY; DOut2DP DOut2DY]'\n",
    "\n",
    "end"
   ]
  },
  {
   "cell_type": "code",
   "execution_count": 24,
   "id": "d905404b-a3aa-428c-935e-31855480f9f6",
   "metadata": {},
   "outputs": [
    {
     "data": {
      "text/plain": [
       "f! (generic function with 1 method)"
      ]
     },
     "execution_count": 24,
     "metadata": {},
     "output_type": "execute_result"
    }
   ],
   "source": [
    "function f!(F,x)\n",
    "   F[1:152] = problem(x, A, beta, Omega, alpha, epsilon, theta, sigma,L)\n",
    ";\n",
    "end"
   ]
  },
  {
   "cell_type": "code",
   "execution_count": 25,
   "id": "2fc8fb98-42ec-4aad-b544-9b3a29a5c7ed",
   "metadata": {},
   "outputs": [
    {
     "data": {
      "text/plain": [
       "0.9913925013345604"
      ]
     },
     "execution_count": 25,
     "metadata": {},
     "output_type": "execute_result"
    }
   ],
   "source": [
    "x = nlsolve(f!,x0,iterations = 1000, xtol = 10^-16,ftol = 10^-14);\n",
    "if converged(x)\n",
    "    GDP = (x.zero[1:76] .* (A .^ ((ε-1)/ε)).*(alpha.^(1/ε)).*(x.zero[77:152].^(1/ε)).* L .^ (-1/ε))' * L;\n",
    "end"
   ]
  },
  {
   "cell_type": "code",
   "execution_count": 26,
   "id": "8eb4ebbf-e113-41bf-803a-fd62dd339591",
   "metadata": {},
   "outputs": [
    {
     "data": {
      "text/plain": [
       "0.9982029192055926"
      ]
     },
     "execution_count": 26,
     "metadata": {},
     "output_type": "execute_result"
    }
   ],
   "source": [
    "mean(A)"
   ]
  },
  {
   "cell_type": "code",
   "execution_count": 27,
   "id": "0c751ad7-d864-404e-8432-44b1a329f227",
   "metadata": {},
   "outputs": [
    {
     "data": {
      "text/plain": [
       "0.9"
      ]
     },
     "execution_count": 27,
     "metadata": {},
     "output_type": "execute_result"
    }
   ],
   "source": [
    "sigma"
   ]
  },
  {
   "cell_type": "code",
   "execution_count": null,
   "id": "d4e65962-d48f-44f4-a400-1111a7fda46e",
   "metadata": {},
   "outputs": [],
   "source": []
  }
 ],
 "metadata": {
  "kernelspec": {
   "display_name": "Julia 1.8.0",
   "language": "julia",
   "name": "julia-1.8"
  },
  "language_info": {
   "file_extension": ".jl",
   "mimetype": "application/julia",
   "name": "julia",
   "version": "1.8.0"
  }
 },
 "nbformat": 4,
 "nbformat_minor": 5
}

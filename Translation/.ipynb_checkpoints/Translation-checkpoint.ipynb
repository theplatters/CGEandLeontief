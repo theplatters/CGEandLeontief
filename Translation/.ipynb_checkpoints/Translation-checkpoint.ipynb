{
 "cells": [
  {
   "cell_type": "code",
   "execution_count": 57,
   "id": "cbc92778-e323-4747-8f6a-4a771e79d1e9",
   "metadata": {},
   "outputs": [
    {
     "data": {
      "text/plain": [
       "mvnrnd (generic function with 1 method)"
      ]
     },
     "execution_count": 57,
     "metadata": {},
     "output_type": "execute_result"
    }
   ],
   "source": [
    "using MAT, Statistics, LinearAlgebra,Random, Plots, NLsolve,StatsPlots\n",
    "include(\"mvnrnd.jl\")"
   ]
  },
  {
   "cell_type": "code",
   "execution_count": 2,
   "id": "a5c276a3-47ea-4448-8f9e-08642ccf059f",
   "metadata": {},
   "outputs": [],
   "source": [
    "function string_as_varname(s::AbstractString,v::Any)\n",
    "    s=Symbol(s)\n",
    "    if size(v,2) == 1 # check if v is a column vector\n",
    "        @eval (($s) = (vec($v)))\n",
    "    else\n",
    "        @eval (($s) = ($v))\n",
    "    end\n",
    "end\n",
    "\n",
    "file = matopen(\"simulationData.mat\")\n",
    "\n",
    "#Reads in ju[IO, price, Omega, data, labor, mu, aggtfp, alpha, grossy, stfp, beta, agggdp, Sigma, capital, vadd]\n",
    "\n",
    "varnames = names(file)\n",
    "for varname in varnames\n",
    "    val = read(file, varname)\n",
    "    # Instantiate the variable with its name in the current scope\n",
    "    string_as_varname(varname,val)\n",
    "    end\n",
    "\n",
    "close(file)"
   ]
  },
  {
   "cell_type": "code",
   "execution_count": 3,
   "id": "8cec9cf5-97b5-484a-9f62-e07922455a79",
   "metadata": {},
   "outputs": [],
   "source": [
    "grossy = reshape(data[:,3],46,88)'\n",
    "capital = reshape(data[:,4],46,88)'; #NOMINAL CAPITAL\n",
    "labor = reshape(data[:,5],46,88)'; #NOMINAL LABOR\n",
    "vadd = labor + capital; #NOMINAL VALUE;"
   ]
  },
  {
   "cell_type": "code",
   "execution_count": 4,
   "id": "46910637-c607-46e0-9a92-eba5afc5c1ae",
   "metadata": {},
   "outputs": [],
   "source": [
    "removableSectors = [60, 80:88...];\n",
    "grossy = grossy[setdiff(1:end,removableSectors),:];\n",
    "capital = capital[setdiff(1:end,removableSectors),:];\n",
    "labor = labor[setdiff(1:end,removableSectors),:];\n",
    "vadd = vadd[setdiff(1:end,removableSectors),:];"
   ]
  },
  {
   "cell_type": "code",
   "execution_count": 5,
   "id": "76aa83f0-c9cc-44d5-81eb-ec25698fbb25",
   "metadata": {},
   "outputs": [],
   "source": [
    "grossSales = vec((sum(grossy,dims=2) .!= 0));\n",
    "grossy = grossy[grossSales,:];\n",
    "capital = capital[grossSales,:];\n",
    "labor = labor[grossSales,:];\n",
    "vadd2 = vadd[grossSales,:];"
   ]
  },
  {
   "cell_type": "code",
   "execution_count": 6,
   "id": "199d4e8f-363f-49c5-9f9e-2bbfca34dd07",
   "metadata": {},
   "outputs": [],
   "source": [
    "domar_weights = (inv(I - diagm(1 .- alpha) * Omega)' * beta);\n",
    "L = domar_weights .* alpha;"
   ]
  },
  {
   "cell_type": "code",
   "execution_count": 7,
   "id": "269c6f59-cb8a-4649-9002-85388cddac4a",
   "metadata": {},
   "outputs": [],
   "source": [
    "ε = .5;\n",
    "θ = 0.001;\n",
    "σ = .9;"
   ]
  },
  {
   "cell_type": "code",
   "execution_count": 8,
   "id": "1826e759-8923-48a9-90b8-0f6eec6db71f",
   "metadata": {},
   "outputs": [
    {
     "data": {
      "text/plain": [
       "problem (generic function with 1 method)"
      ]
     },
     "execution_count": 8,
     "metadata": {},
     "output_type": "execute_result"
    }
   ],
   "source": [
    "function problem(X, A, β, Ω, α, ε, θ, σ,L)\n",
    "    N = length(α)\n",
    "    p = X[1:N]\n",
    "    y = X[N+1:end]\n",
    "    \n",
    "    Out = zeros(2*N)\n",
    "    \n",
    "    q = (Ω * p .^ (1-θ)) .^ (1 / (1 - θ))\n",
    "    w = p .* (A .^ ((ε - 1)/ε)) .* (α .^ (1 / ε)) .* (y .^ (1/ε)) .* L .^ (-1/ε)\n",
    "    C = w' * L\n",
    "\n",
    "    Out[1:N] = p - (A .^ (ε - 1) .* (α .* w .^ (1- ε) + (1 .- α) .* q .^ (1 - ε))) .^ (1/(1-ε))\n",
    "    Out[N+1:end] = y' - y' * diagm(p)^ε * diagm(A)^(ε-1) * diagm(q)^(θ-ε) * diagm(1 .- α) * Ω * diagm(p)^(-θ) - β'*diagm(p)^(-σ)*C\n",
    "    \n",
    "    return Out\n",
    "end"
   ]
  },
  {
   "cell_type": "code",
   "execution_count": 41,
   "id": "dd7d201b-5d10-45f9-bbab-ed23078f0b2f",
   "metadata": {},
   "outputs": [],
   "source": [
    "trials = 50;\n",
    "GDP = zeros(trials)\n",
    "A_logged = zeros(trials,76)\n",
    "for k in 1:trials\n",
    "    \n",
    "        \n",
    "    A = exp.(mvnrnd(-1/2*diag(Sigma),diagm(diag(Sigma))));\n",
    "    x0 = [exp.(-inv(I - diagm(1 .- alpha)*Omega)*log.(A));domar_weights ./exp.(-inv(I - diagm(1 .- alpha) * Omega)*log.(A))];\n",
    "    \n",
    "    function f!(F,x)\n",
    "        F[1:152] = problem(x, A, beta, Omega, alpha, ε, θ, σ,L)\n",
    "    end\n",
    "\n",
    "    x = nlsolve(f!,x0,iterations = 1000, xtol = 10^-16,ftol = 10^-14)\n",
    "    if converged(x)\n",
    "        GDP[k] = (x.zero[1:76] .* (A .^ ((ε-1)/ε)).*(alpha.^(1/ε)).*(x.zero[77:152].^(1/ε)).* L .^ (-1/ε))' * L;\n",
    "\n",
    "    end\n",
    "    \n",
    "end"
   ]
  },
  {
   "cell_type": "code",
   "execution_count": 43,
   "id": "060495c7-a9f0-426f-9f2f-84a966bdce68",
   "metadata": {},
   "outputs": [
    {
     "data": {
      "text/plain": [
       "50-element Vector{Float64}:\n",
       " 1.0010771686505562\n",
       " 0.9974591289047829\n",
       " 0.9954584805996457\n",
       " 0.9890610069409929\n",
       " 0.9871607940043057\n",
       " 0.9999392595910281\n",
       " 1.002236383143371\n",
       " 1.0199797222201397\n",
       " 0.9911608651875468\n",
       " 1.0071031739297824\n",
       " 0.9898941255076539\n",
       " 0.9880163969944713\n",
       " 1.0091320226726976\n",
       " ⋮\n",
       " 1.0119854304822553\n",
       " 0.9781584596611016\n",
       " 0.9850018773481259\n",
       " 0.9959305074618439\n",
       " 0.9898198668389451\n",
       " 0.9836596086246424\n",
       " 1.000704527931969\n",
       " 1.0031036812440697\n",
       " 0.9994853212826618\n",
       " 0.9902538852610658\n",
       " 0.9987033289129366\n",
       " 1.0062957019384329"
      ]
     },
     "execution_count": 43,
     "metadata": {},
     "output_type": "execute_result"
    }
   ],
   "source": [
    "GDP"
   ]
  },
  {
   "cell_type": "code",
   "execution_count": 25,
   "id": "48ed94a4-d0f5-43b9-89c2-56d7dd3f970a",
   "metadata": {},
   "outputs": [
    {
     "data": {
      "text/plain": [
       "100×76 Matrix{Float64}:\n",
       " 0.948058  1.05154   0.974438  0.892718  …  0.972392  1.02492   1.00867\n",
       " 0.963627  0.994946  0.953408  1.01547      0.965733  0.995559  0.989127\n",
       " 0.936672  0.98362   1.00874   0.911523     1.01734   1.04743   0.96196\n",
       " 1.03047   0.951567  0.973846  0.999644     1.02003   1.01004   0.96739\n",
       " 1.09371   1.05203   1.1026    1.05255      0.981352  0.948981  0.963741\n",
       " 0.945173  1.03853   0.91023   1.05211   …  1.00566   0.98414   1.01718\n",
       " 0.946709  0.959754  0.98145   0.952939     1.08006   0.981187  0.977664\n",
       " 1.00561   1.04988   1.05539   0.952832     1.04755   0.998262  0.981862\n",
       " 0.986421  0.997235  0.899116  0.880675     0.950388  0.994953  1.00431\n",
       " 0.947669  0.987327  0.922945  1.02282      0.997689  1.00741   1.06281\n",
       " 0.959964  1.00762   1.07333   0.95637   …  0.990442  0.975829  1.10546\n",
       " 0.936606  1.03579   0.918404  1.04646      0.980706  0.952601  1.02832\n",
       " 1.00033   0.963257  0.909097  0.975243     0.980693  0.964515  0.986201\n",
       " ⋮                                       ⋱                      ⋮\n",
       " 0.953243  0.984255  0.944935  1.03887      1.02054   1.00127   1.03924\n",
       " 0.972066  0.967116  0.995048  0.97071      1.02842   0.946828  1.00086\n",
       " 0.971108  1.01667   0.955142  1.03269   …  1.01553   1.03539   0.988237\n",
       " 1.00819   0.996235  1.04651   1.0051       1.07512   0.908956  0.973483\n",
       " 0.984534  0.996938  1.03886   0.962815     0.955598  1.00374   0.978551\n",
       " 0.941227  0.988646  1.0042    0.989783     1.0073    1.01636   0.986784\n",
       " 0.932293  1.13153   0.948329  0.953603     1.01996   1.02001   1.00968\n",
       " 1.11259   1.04277   0.946824  1.01268   …  0.984434  1.05946   1.01503\n",
       " 0.941445  0.977281  1.07075   1.04387      0.999258  1.06283   0.964547\n",
       " 1.03091   0.971595  0.980153  0.966295     0.980579  1.02533   1.00346\n",
       " 1.00433   0.970564  0.967257  1.00612      1.00897   1.02384   1.03678\n",
       " 0.98219   0.946874  0.889796  1.02233      0.994489  1.01033   1.01263"
      ]
     },
     "execution_count": 25,
     "metadata": {},
     "output_type": "execute_result"
    }
   ],
   "source": [
    "A_logged"
   ]
  },
  {
   "cell_type": "code",
   "execution_count": 38,
   "id": "7dd19183-3fe8-49ce-bab5-cb8504697eb0",
   "metadata": {},
   "outputs": [
    {
     "data": {
      "image/svg+xml": [
       "<?xml version=\"1.0\" encoding=\"utf-8\"?>\n",
       "<svg xmlns=\"http://www.w3.org/2000/svg\" xmlns:xlink=\"http://www.w3.org/1999/xlink\" width=\"600\" height=\"400\" viewBox=\"0 0 2400 1600\">\n",
       "<defs>\n",
       "  <clipPath id=\"clip350\">\n",
       "    <rect x=\"0\" y=\"0\" width=\"2400\" height=\"1600\"/>\n",
       "  </clipPath>\n",
       "</defs>\n",
       "<path clip-path=\"url(#clip350)\" d=\"M0 1600 L2400 1600 L2400 0 L0 0  Z\" fill=\"#ffffff\" fill-rule=\"evenodd\" fill-opacity=\"1\"/>\n",
       "<defs>\n",
       "  <clipPath id=\"clip351\">\n",
       "    <rect x=\"480\" y=\"0\" width=\"1681\" height=\"1600\"/>\n",
       "  </clipPath>\n",
       "</defs>\n",
       "<path clip-path=\"url(#clip350)\" d=\"M138.959 1486.45 L2352.76 1486.45 L2352.76 47.2441 L138.959 47.2441  Z\" fill=\"#ffffff\" fill-rule=\"evenodd\" fill-opacity=\"1\"/>\n",
       "<defs>\n",
       "  <clipPath id=\"clip352\">\n",
       "    <rect x=\"138\" y=\"47\" width=\"2215\" height=\"1440\"/>\n",
       "  </clipPath>\n",
       "</defs>\n",
       "<polyline clip-path=\"url(#clip352)\" style=\"stroke:#000000; stroke-linecap:round; stroke-linejoin:round; stroke-width:2; stroke-opacity:0.1; fill:none\" points=\"441.107,1486.45 441.107,47.2441 \"/>\n",
       "<polyline clip-path=\"url(#clip352)\" style=\"stroke:#000000; stroke-linecap:round; stroke-linejoin:round; stroke-width:2; stroke-opacity:0.1; fill:none\" points=\"759.385,1486.45 759.385,47.2441 \"/>\n",
       "<polyline clip-path=\"url(#clip352)\" style=\"stroke:#000000; stroke-linecap:round; stroke-linejoin:round; stroke-width:2; stroke-opacity:0.1; fill:none\" points=\"1077.66,1486.45 1077.66,47.2441 \"/>\n",
       "<polyline clip-path=\"url(#clip352)\" style=\"stroke:#000000; stroke-linecap:round; stroke-linejoin:round; stroke-width:2; stroke-opacity:0.1; fill:none\" points=\"1395.94,1486.45 1395.94,47.2441 \"/>\n",
       "<polyline clip-path=\"url(#clip352)\" style=\"stroke:#000000; stroke-linecap:round; stroke-linejoin:round; stroke-width:2; stroke-opacity:0.1; fill:none\" points=\"1714.22,1486.45 1714.22,47.2441 \"/>\n",
       "<polyline clip-path=\"url(#clip352)\" style=\"stroke:#000000; stroke-linecap:round; stroke-linejoin:round; stroke-width:2; stroke-opacity:0.1; fill:none\" points=\"2032.5,1486.45 2032.5,47.2441 \"/>\n",
       "<polyline clip-path=\"url(#clip352)\" style=\"stroke:#000000; stroke-linecap:round; stroke-linejoin:round; stroke-width:2; stroke-opacity:0.1; fill:none\" points=\"2350.78,1486.45 2350.78,47.2441 \"/>\n",
       "<polyline clip-path=\"url(#clip350)\" style=\"stroke:#000000; stroke-linecap:round; stroke-linejoin:round; stroke-width:4; stroke-opacity:1; fill:none\" points=\"138.959,1486.45 2352.76,1486.45 \"/>\n",
       "<polyline clip-path=\"url(#clip350)\" style=\"stroke:#000000; stroke-linecap:round; stroke-linejoin:round; stroke-width:4; stroke-opacity:1; fill:none\" points=\"441.107,1486.45 441.107,1467.55 \"/>\n",
       "<polyline clip-path=\"url(#clip350)\" style=\"stroke:#000000; stroke-linecap:round; stroke-linejoin:round; stroke-width:4; stroke-opacity:1; fill:none\" points=\"759.385,1486.45 759.385,1467.55 \"/>\n",
       "<polyline clip-path=\"url(#clip350)\" style=\"stroke:#000000; stroke-linecap:round; stroke-linejoin:round; stroke-width:4; stroke-opacity:1; fill:none\" points=\"1077.66,1486.45 1077.66,1467.55 \"/>\n",
       "<polyline clip-path=\"url(#clip350)\" style=\"stroke:#000000; stroke-linecap:round; stroke-linejoin:round; stroke-width:4; stroke-opacity:1; fill:none\" points=\"1395.94,1486.45 1395.94,1467.55 \"/>\n",
       "<polyline clip-path=\"url(#clip350)\" style=\"stroke:#000000; stroke-linecap:round; stroke-linejoin:round; stroke-width:4; stroke-opacity:1; fill:none\" points=\"1714.22,1486.45 1714.22,1467.55 \"/>\n",
       "<polyline clip-path=\"url(#clip350)\" style=\"stroke:#000000; stroke-linecap:round; stroke-linejoin:round; stroke-width:4; stroke-opacity:1; fill:none\" points=\"2032.5,1486.45 2032.5,1467.55 \"/>\n",
       "<polyline clip-path=\"url(#clip350)\" style=\"stroke:#000000; stroke-linecap:round; stroke-linejoin:round; stroke-width:4; stroke-opacity:1; fill:none\" points=\"2350.78,1486.45 2350.78,1467.55 \"/>\n",
       "<path clip-path=\"url(#clip350)\" d=\"M387.959 1532.02 L417.634 1532.02 L417.634 1535.95 L387.959 1535.95 L387.959 1532.02 Z\" fill=\"#000000\" fill-rule=\"nonzero\" fill-opacity=\"1\" /><path clip-path=\"url(#clip350)\" d=\"M437.727 1517.37 Q434.116 1517.37 432.287 1520.93 Q430.482 1524.47 430.482 1531.6 Q430.482 1538.71 432.287 1542.27 Q434.116 1545.82 437.727 1545.82 Q441.361 1545.82 443.167 1542.27 Q444.995 1538.71 444.995 1531.6 Q444.995 1524.47 443.167 1520.93 Q441.361 1517.37 437.727 1517.37 M437.727 1513.66 Q443.537 1513.66 446.593 1518.27 Q449.671 1522.85 449.671 1531.6 Q449.671 1540.33 446.593 1544.94 Q443.537 1549.52 437.727 1549.52 Q431.917 1549.52 428.838 1544.94 Q425.783 1540.33 425.783 1531.6 Q425.783 1522.85 428.838 1518.27 Q431.917 1513.66 437.727 1513.66 Z\" fill=\"#000000\" fill-rule=\"nonzero\" fill-opacity=\"1\" /><path clip-path=\"url(#clip350)\" d=\"M457.889 1542.97 L462.773 1542.97 L462.773 1548.85 L457.889 1548.85 L457.889 1542.97 Z\" fill=\"#000000\" fill-rule=\"nonzero\" fill-opacity=\"1\" /><path clip-path=\"url(#clip350)\" d=\"M487.125 1530.21 Q490.481 1530.93 492.356 1533.2 Q494.254 1535.47 494.254 1538.8 Q494.254 1543.92 490.736 1546.72 Q487.217 1549.52 480.736 1549.52 Q478.56 1549.52 476.245 1549.08 Q473.954 1548.66 471.5 1547.81 L471.5 1543.29 Q473.444 1544.43 475.759 1545.01 Q478.074 1545.58 480.597 1545.58 Q484.995 1545.58 487.287 1543.85 Q489.602 1542.11 489.602 1538.8 Q489.602 1535.75 487.449 1534.03 Q485.319 1532.3 481.5 1532.3 L477.472 1532.3 L477.472 1528.45 L481.685 1528.45 Q485.134 1528.45 486.963 1527.09 Q488.791 1525.7 488.791 1523.11 Q488.791 1520.45 486.893 1519.03 Q485.018 1517.6 481.5 1517.6 Q479.579 1517.6 477.38 1518.01 Q475.18 1518.43 472.542 1519.31 L472.542 1515.14 Q475.204 1514.4 477.518 1514.03 Q479.856 1513.66 481.917 1513.66 Q487.241 1513.66 490.342 1516.09 Q493.444 1518.5 493.444 1522.62 Q493.444 1525.49 491.801 1527.48 Q490.157 1529.45 487.125 1530.21 Z\" fill=\"#000000\" fill-rule=\"nonzero\" fill-opacity=\"1\" /><path clip-path=\"url(#clip350)\" d=\"M706.712 1532.02 L736.388 1532.02 L736.388 1535.95 L706.712 1535.95 L706.712 1532.02 Z\" fill=\"#000000\" fill-rule=\"nonzero\" fill-opacity=\"1\" /><path clip-path=\"url(#clip350)\" d=\"M756.48 1517.37 Q752.869 1517.37 751.041 1520.93 Q749.235 1524.47 749.235 1531.6 Q749.235 1538.71 751.041 1542.27 Q752.869 1545.82 756.48 1545.82 Q760.115 1545.82 761.92 1542.27 Q763.749 1538.71 763.749 1531.6 Q763.749 1524.47 761.92 1520.93 Q760.115 1517.37 756.48 1517.37 M756.48 1513.66 Q762.29 1513.66 765.346 1518.27 Q768.425 1522.85 768.425 1531.6 Q768.425 1540.33 765.346 1544.94 Q762.29 1549.52 756.48 1549.52 Q750.67 1549.52 747.592 1544.94 Q744.536 1540.33 744.536 1531.6 Q744.536 1522.85 747.592 1518.27 Q750.67 1513.66 756.48 1513.66 Z\" fill=\"#000000\" fill-rule=\"nonzero\" fill-opacity=\"1\" /><path clip-path=\"url(#clip350)\" d=\"M776.642 1542.97 L781.527 1542.97 L781.527 1548.85 L776.642 1548.85 L776.642 1542.97 Z\" fill=\"#000000\" fill-rule=\"nonzero\" fill-opacity=\"1\" /><path clip-path=\"url(#clip350)\" d=\"M795.739 1544.91 L812.059 1544.91 L812.059 1548.85 L790.114 1548.85 L790.114 1544.91 Q792.776 1542.16 797.36 1537.53 Q801.966 1532.88 803.147 1531.53 Q805.392 1529.01 806.272 1527.27 Q807.175 1525.51 807.175 1523.82 Q807.175 1521.07 805.23 1519.33 Q803.309 1517.6 800.207 1517.6 Q798.008 1517.6 795.554 1518.36 Q793.124 1519.13 790.346 1520.68 L790.346 1515.95 Q793.17 1514.82 795.624 1514.24 Q798.077 1513.66 800.114 1513.66 Q805.485 1513.66 808.679 1516.35 Q811.874 1519.03 811.874 1523.52 Q811.874 1525.65 811.063 1527.57 Q810.276 1529.47 808.17 1532.07 Q807.591 1532.74 804.489 1535.95 Q801.388 1539.15 795.739 1544.91 Z\" fill=\"#000000\" fill-rule=\"nonzero\" fill-opacity=\"1\" /><path clip-path=\"url(#clip350)\" d=\"M1024.81 1532.02 L1054.48 1532.02 L1054.48 1535.95 L1024.81 1535.95 L1024.81 1532.02 Z\" fill=\"#000000\" fill-rule=\"nonzero\" fill-opacity=\"1\" /><path clip-path=\"url(#clip350)\" d=\"M1074.57 1517.37 Q1070.96 1517.37 1069.13 1520.93 Q1067.33 1524.47 1067.33 1531.6 Q1067.33 1538.71 1069.13 1542.27 Q1070.96 1545.82 1074.57 1545.82 Q1078.21 1545.82 1080.01 1542.27 Q1081.84 1538.71 1081.84 1531.6 Q1081.84 1524.47 1080.01 1520.93 Q1078.21 1517.37 1074.57 1517.37 M1074.57 1513.66 Q1080.38 1513.66 1083.44 1518.27 Q1086.52 1522.85 1086.52 1531.6 Q1086.52 1540.33 1083.44 1544.94 Q1080.38 1549.52 1074.57 1549.52 Q1068.76 1549.52 1065.69 1544.94 Q1062.63 1540.33 1062.63 1531.6 Q1062.63 1522.85 1065.69 1518.27 Q1068.76 1513.66 1074.57 1513.66 Z\" fill=\"#000000\" fill-rule=\"nonzero\" fill-opacity=\"1\" /><path clip-path=\"url(#clip350)\" d=\"M1094.74 1542.97 L1099.62 1542.97 L1099.62 1548.85 L1094.74 1548.85 L1094.74 1542.97 Z\" fill=\"#000000\" fill-rule=\"nonzero\" fill-opacity=\"1\" /><path clip-path=\"url(#clip350)\" d=\"M1110.62 1544.91 L1118.25 1544.91 L1118.25 1518.55 L1109.94 1520.21 L1109.94 1515.95 L1118.21 1514.29 L1122.88 1514.29 L1122.88 1544.91 L1130.52 1544.91 L1130.52 1548.85 L1110.62 1548.85 L1110.62 1544.91 Z\" fill=\"#000000\" fill-rule=\"nonzero\" fill-opacity=\"1\" /><path clip-path=\"url(#clip350)\" d=\"M1373.33 1517.37 Q1369.72 1517.37 1367.89 1520.93 Q1366.08 1524.47 1366.08 1531.6 Q1366.08 1538.71 1367.89 1542.27 Q1369.72 1545.82 1373.33 1545.82 Q1376.96 1545.82 1378.77 1542.27 Q1380.6 1538.71 1380.6 1531.6 Q1380.6 1524.47 1378.77 1520.93 Q1376.96 1517.37 1373.33 1517.37 M1373.33 1513.66 Q1379.14 1513.66 1382.19 1518.27 Q1385.27 1522.85 1385.27 1531.6 Q1385.27 1540.33 1382.19 1544.94 Q1379.14 1549.52 1373.33 1549.52 Q1367.52 1549.52 1364.44 1544.94 Q1361.38 1540.33 1361.38 1531.6 Q1361.38 1522.85 1364.44 1518.27 Q1367.52 1513.66 1373.33 1513.66 Z\" fill=\"#000000\" fill-rule=\"nonzero\" fill-opacity=\"1\" /><path clip-path=\"url(#clip350)\" d=\"M1393.49 1542.97 L1398.37 1542.97 L1398.37 1548.85 L1393.49 1548.85 L1393.49 1542.97 Z\" fill=\"#000000\" fill-rule=\"nonzero\" fill-opacity=\"1\" /><path clip-path=\"url(#clip350)\" d=\"M1418.56 1517.37 Q1414.95 1517.37 1413.12 1520.93 Q1411.31 1524.47 1411.31 1531.6 Q1411.31 1538.71 1413.12 1542.27 Q1414.95 1545.82 1418.56 1545.82 Q1422.19 1545.82 1424 1542.27 Q1425.83 1538.71 1425.83 1531.6 Q1425.83 1524.47 1424 1520.93 Q1422.19 1517.37 1418.56 1517.37 M1418.56 1513.66 Q1424.37 1513.66 1427.42 1518.27 Q1430.5 1522.85 1430.5 1531.6 Q1430.5 1540.33 1427.42 1544.94 Q1424.37 1549.52 1418.56 1549.52 Q1412.75 1549.52 1409.67 1544.94 Q1406.61 1540.33 1406.61 1531.6 Q1406.61 1522.85 1409.67 1518.27 Q1412.75 1513.66 1418.56 1513.66 Z\" fill=\"#000000\" fill-rule=\"nonzero\" fill-opacity=\"1\" /><path clip-path=\"url(#clip350)\" d=\"M1692.22 1517.37 Q1688.61 1517.37 1686.78 1520.93 Q1684.97 1524.47 1684.97 1531.6 Q1684.97 1538.71 1686.78 1542.27 Q1688.61 1545.82 1692.22 1545.82 Q1695.85 1545.82 1697.66 1542.27 Q1699.49 1538.71 1699.49 1531.6 Q1699.49 1524.47 1697.66 1520.93 Q1695.85 1517.37 1692.22 1517.37 M1692.22 1513.66 Q1698.03 1513.66 1701.09 1518.27 Q1704.16 1522.85 1704.16 1531.6 Q1704.16 1540.33 1701.09 1544.94 Q1698.03 1549.52 1692.22 1549.52 Q1686.41 1549.52 1683.33 1544.94 Q1680.28 1540.33 1680.28 1531.6 Q1680.28 1522.85 1683.33 1518.27 Q1686.41 1513.66 1692.22 1513.66 Z\" fill=\"#000000\" fill-rule=\"nonzero\" fill-opacity=\"1\" /><path clip-path=\"url(#clip350)\" d=\"M1712.38 1542.97 L1717.27 1542.97 L1717.27 1548.85 L1712.38 1548.85 L1712.38 1542.97 Z\" fill=\"#000000\" fill-rule=\"nonzero\" fill-opacity=\"1\" /><path clip-path=\"url(#clip350)\" d=\"M1728.26 1544.91 L1735.9 1544.91 L1735.9 1518.55 L1727.59 1520.21 L1727.59 1515.95 L1735.85 1514.29 L1740.53 1514.29 L1740.53 1544.91 L1748.17 1544.91 L1748.17 1548.85 L1728.26 1548.85 L1728.26 1544.91 Z\" fill=\"#000000\" fill-rule=\"nonzero\" fill-opacity=\"1\" /><path clip-path=\"url(#clip350)\" d=\"M2010.68 1517.37 Q2007.07 1517.37 2005.24 1520.93 Q2003.44 1524.47 2003.44 1531.6 Q2003.44 1538.71 2005.24 1542.27 Q2007.07 1545.82 2010.68 1545.82 Q2014.32 1545.82 2016.12 1542.27 Q2017.95 1538.71 2017.95 1531.6 Q2017.95 1524.47 2016.12 1520.93 Q2014.32 1517.37 2010.68 1517.37 M2010.68 1513.66 Q2016.49 1513.66 2019.55 1518.27 Q2022.63 1522.85 2022.63 1531.6 Q2022.63 1540.33 2019.55 1544.94 Q2016.49 1549.52 2010.68 1549.52 Q2004.87 1549.52 2001.8 1544.94 Q1998.74 1540.33 1998.74 1531.6 Q1998.74 1522.85 2001.8 1518.27 Q2004.87 1513.66 2010.68 1513.66 Z\" fill=\"#000000\" fill-rule=\"nonzero\" fill-opacity=\"1\" /><path clip-path=\"url(#clip350)\" d=\"M2030.85 1542.97 L2035.73 1542.97 L2035.73 1548.85 L2030.85 1548.85 L2030.85 1542.97 Z\" fill=\"#000000\" fill-rule=\"nonzero\" fill-opacity=\"1\" /><path clip-path=\"url(#clip350)\" d=\"M2049.94 1544.91 L2066.26 1544.91 L2066.26 1548.85 L2044.32 1548.85 L2044.32 1544.91 Q2046.98 1542.16 2051.56 1537.53 Q2056.17 1532.88 2057.35 1531.53 Q2059.6 1529.01 2060.48 1527.27 Q2061.38 1525.51 2061.38 1523.82 Q2061.38 1521.07 2059.43 1519.33 Q2057.51 1517.6 2054.41 1517.6 Q2052.21 1517.6 2049.76 1518.36 Q2047.33 1519.13 2044.55 1520.68 L2044.55 1515.95 Q2047.37 1514.82 2049.83 1514.24 Q2052.28 1513.66 2054.32 1513.66 Q2059.69 1513.66 2062.88 1516.35 Q2066.08 1519.03 2066.08 1523.52 Q2066.08 1525.65 2065.27 1527.57 Q2064.48 1529.47 2062.37 1532.07 Q2061.79 1532.74 2058.69 1535.95 Q2055.59 1539.15 2049.94 1544.91 Z\" fill=\"#000000\" fill-rule=\"nonzero\" fill-opacity=\"1\" /><path clip-path=\"url(#clip350)\" d=\"M2328.49 1517.37 Q2324.88 1517.37 2323.05 1520.93 Q2321.24 1524.47 2321.24 1531.6 Q2321.24 1538.71 2323.05 1542.27 Q2324.88 1545.82 2328.49 1545.82 Q2332.12 1545.82 2333.93 1542.27 Q2335.76 1538.71 2335.76 1531.6 Q2335.76 1524.47 2333.93 1520.93 Q2332.12 1517.37 2328.49 1517.37 M2328.49 1513.66 Q2334.3 1513.66 2337.35 1518.27 Q2340.43 1522.85 2340.43 1531.6 Q2340.43 1540.33 2337.35 1544.94 Q2334.3 1549.52 2328.49 1549.52 Q2322.68 1549.52 2319.6 1544.94 Q2316.54 1540.33 2316.54 1531.6 Q2316.54 1522.85 2319.6 1518.27 Q2322.68 1513.66 2328.49 1513.66 Z\" fill=\"#000000\" fill-rule=\"nonzero\" fill-opacity=\"1\" /><path clip-path=\"url(#clip350)\" d=\"M2348.65 1542.97 L2353.53 1542.97 L2353.53 1548.85 L2348.65 1548.85 L2348.65 1542.97 Z\" fill=\"#000000\" fill-rule=\"nonzero\" fill-opacity=\"1\" /><path clip-path=\"url(#clip350)\" d=\"M2377.89 1530.21 Q2381.24 1530.93 2383.12 1533.2 Q2385.02 1535.47 2385.02 1538.8 Q2385.02 1543.92 2381.5 1546.72 Q2377.98 1549.52 2371.5 1549.52 Q2369.32 1549.52 2367.01 1549.08 Q2364.71 1548.66 2362.26 1547.81 L2362.26 1543.29 Q2364.21 1544.43 2366.52 1545.01 Q2368.84 1545.58 2371.36 1545.58 Q2375.76 1545.58 2378.05 1543.85 Q2380.36 1542.11 2380.36 1538.8 Q2380.36 1535.75 2378.21 1534.03 Q2376.08 1532.3 2372.26 1532.3 L2368.23 1532.3 L2368.23 1528.45 L2372.45 1528.45 Q2375.9 1528.45 2377.72 1527.09 Q2379.55 1525.7 2379.55 1523.11 Q2379.55 1520.45 2377.65 1519.03 Q2375.78 1517.6 2372.26 1517.6 Q2370.34 1517.6 2368.14 1518.01 Q2365.94 1518.43 2363.3 1519.31 L2363.3 1515.14 Q2365.96 1514.4 2368.28 1514.03 Q2370.62 1513.66 2372.68 1513.66 Q2378 1513.66 2381.1 1516.09 Q2384.21 1518.5 2384.21 1522.62 Q2384.21 1525.49 2382.56 1527.48 Q2380.92 1529.45 2377.89 1530.21 Z\" fill=\"#000000\" fill-rule=\"nonzero\" fill-opacity=\"1\" /><polyline clip-path=\"url(#clip352)\" style=\"stroke:#000000; stroke-linecap:round; stroke-linejoin:round; stroke-width:2; stroke-opacity:0.1; fill:none\" points=\"138.959,1445.72 2352.76,1445.72 \"/>\n",
       "<polyline clip-path=\"url(#clip352)\" style=\"stroke:#000000; stroke-linecap:round; stroke-linejoin:round; stroke-width:2; stroke-opacity:0.1; fill:none\" points=\"138.959,1234.43 2352.76,1234.43 \"/>\n",
       "<polyline clip-path=\"url(#clip352)\" style=\"stroke:#000000; stroke-linecap:round; stroke-linejoin:round; stroke-width:2; stroke-opacity:0.1; fill:none\" points=\"138.959,1023.15 2352.76,1023.15 \"/>\n",
       "<polyline clip-path=\"url(#clip352)\" style=\"stroke:#000000; stroke-linecap:round; stroke-linejoin:round; stroke-width:2; stroke-opacity:0.1; fill:none\" points=\"138.959,811.869 2352.76,811.869 \"/>\n",
       "<polyline clip-path=\"url(#clip352)\" style=\"stroke:#000000; stroke-linecap:round; stroke-linejoin:round; stroke-width:2; stroke-opacity:0.1; fill:none\" points=\"138.959,600.587 2352.76,600.587 \"/>\n",
       "<polyline clip-path=\"url(#clip352)\" style=\"stroke:#000000; stroke-linecap:round; stroke-linejoin:round; stroke-width:2; stroke-opacity:0.1; fill:none\" points=\"138.959,389.305 2352.76,389.305 \"/>\n",
       "<polyline clip-path=\"url(#clip352)\" style=\"stroke:#000000; stroke-linecap:round; stroke-linejoin:round; stroke-width:2; stroke-opacity:0.1; fill:none\" points=\"138.959,178.023 2352.76,178.023 \"/>\n",
       "<polyline clip-path=\"url(#clip350)\" style=\"stroke:#000000; stroke-linecap:round; stroke-linejoin:round; stroke-width:4; stroke-opacity:1; fill:none\" points=\"138.959,1486.45 138.959,47.2441 \"/>\n",
       "<polyline clip-path=\"url(#clip350)\" style=\"stroke:#000000; stroke-linecap:round; stroke-linejoin:round; stroke-width:4; stroke-opacity:1; fill:none\" points=\"138.959,1445.72 157.857,1445.72 \"/>\n",
       "<polyline clip-path=\"url(#clip350)\" style=\"stroke:#000000; stroke-linecap:round; stroke-linejoin:round; stroke-width:4; stroke-opacity:1; fill:none\" points=\"138.959,1234.43 157.857,1234.43 \"/>\n",
       "<polyline clip-path=\"url(#clip350)\" style=\"stroke:#000000; stroke-linecap:round; stroke-linejoin:round; stroke-width:4; stroke-opacity:1; fill:none\" points=\"138.959,1023.15 157.857,1023.15 \"/>\n",
       "<polyline clip-path=\"url(#clip350)\" style=\"stroke:#000000; stroke-linecap:round; stroke-linejoin:round; stroke-width:4; stroke-opacity:1; fill:none\" points=\"138.959,811.869 157.857,811.869 \"/>\n",
       "<polyline clip-path=\"url(#clip350)\" style=\"stroke:#000000; stroke-linecap:round; stroke-linejoin:round; stroke-width:4; stroke-opacity:1; fill:none\" points=\"138.959,600.587 157.857,600.587 \"/>\n",
       "<polyline clip-path=\"url(#clip350)\" style=\"stroke:#000000; stroke-linecap:round; stroke-linejoin:round; stroke-width:4; stroke-opacity:1; fill:none\" points=\"138.959,389.305 157.857,389.305 \"/>\n",
       "<polyline clip-path=\"url(#clip350)\" style=\"stroke:#000000; stroke-linecap:round; stroke-linejoin:round; stroke-width:4; stroke-opacity:1; fill:none\" points=\"138.959,178.023 157.857,178.023 \"/>\n",
       "<path clip-path=\"url(#clip350)\" d=\"M91.0151 1431.51 Q87.404 1431.51 85.5753 1435.08 Q83.7697 1438.62 83.7697 1445.75 Q83.7697 1452.86 85.5753 1456.42 Q87.404 1459.96 91.0151 1459.96 Q94.6493 1459.96 96.4548 1456.42 Q98.2835 1452.86 98.2835 1445.75 Q98.2835 1438.62 96.4548 1435.08 Q94.6493 1431.51 91.0151 1431.51 M91.0151 1427.81 Q96.8252 1427.81 99.8808 1432.42 Q102.959 1437 102.959 1445.75 Q102.959 1454.48 99.8808 1459.08 Q96.8252 1463.67 91.0151 1463.67 Q85.2049 1463.67 82.1262 1459.08 Q79.0707 1454.48 79.0707 1445.75 Q79.0707 1437 82.1262 1432.42 Q85.2049 1427.81 91.0151 1427.81 Z\" fill=\"#000000\" fill-rule=\"nonzero\" fill-opacity=\"1\" /><path clip-path=\"url(#clip350)\" d=\"M86.6401 1247.78 L102.959 1247.78 L102.959 1251.71 L81.0151 1251.71 L81.0151 1247.78 Q83.6771 1245.02 88.2604 1240.39 Q92.8669 1235.74 94.0475 1234.4 Q96.2928 1231.88 97.1724 1230.14 Q98.0752 1228.38 98.0752 1226.69 Q98.0752 1223.94 96.1308 1222.2 Q94.2095 1220.46 91.1077 1220.46 Q88.9086 1220.46 86.4549 1221.23 Q84.0244 1221.99 81.2466 1223.54 L81.2466 1218.82 Q84.0707 1217.69 86.5243 1217.11 Q88.978 1216.53 91.0151 1216.53 Q96.3854 1216.53 99.5798 1219.21 Q102.774 1221.9 102.774 1226.39 Q102.774 1228.52 101.964 1230.44 Q101.177 1232.34 99.0706 1234.93 Q98.4919 1235.6 95.39 1238.82 Q92.2882 1242.01 86.6401 1247.78 Z\" fill=\"#000000\" fill-rule=\"nonzero\" fill-opacity=\"1\" /><path clip-path=\"url(#clip350)\" d=\"M93.3762 1009.95 L81.5707 1028.39 L93.3762 1028.39 L93.3762 1009.95 M92.1493 1005.87 L98.0289 1005.87 L98.0289 1028.39 L102.959 1028.39 L102.959 1032.28 L98.0289 1032.28 L98.0289 1040.43 L93.3762 1040.43 L93.3762 1032.28 L77.7744 1032.28 L77.7744 1027.77 L92.1493 1005.87 Z\" fill=\"#000000\" fill-rule=\"nonzero\" fill-opacity=\"1\" /><path clip-path=\"url(#clip350)\" d=\"M91.4317 810.006 Q88.2836 810.006 86.4318 812.159 Q84.6031 814.311 84.6031 818.061 Q84.6031 821.788 86.4318 823.964 Q88.2836 826.117 91.4317 826.117 Q94.5799 826.117 96.4085 823.964 Q98.2604 821.788 98.2604 818.061 Q98.2604 814.311 96.4085 812.159 Q94.5799 810.006 91.4317 810.006 M100.714 795.353 L100.714 799.612 Q98.9548 798.779 97.1493 798.339 Q95.3669 797.899 93.6076 797.899 Q88.978 797.899 86.5243 801.024 Q84.0938 804.149 83.7466 810.469 Q85.1123 808.455 87.1725 807.39 Q89.2327 806.302 91.7095 806.302 Q96.9178 806.302 99.927 809.473 Q102.959 812.622 102.959 818.061 Q102.959 823.385 99.8113 826.603 Q96.6632 829.82 91.4317 829.82 Q85.4364 829.82 82.2651 825.237 Q79.0938 820.631 79.0938 811.904 Q79.0938 803.71 82.9827 798.848 Q86.8716 793.964 93.4225 793.964 Q95.1817 793.964 96.9641 794.311 Q98.7696 794.659 100.714 795.353 Z\" fill=\"#000000\" fill-rule=\"nonzero\" fill-opacity=\"1\" /><path clip-path=\"url(#clip350)\" d=\"M91.1077 601.455 Q87.7743 601.455 85.8531 603.237 Q83.9549 605.02 83.9549 608.145 Q83.9549 611.27 85.8531 613.052 Q87.7743 614.835 91.1077 614.835 Q94.441 614.835 96.3623 613.052 Q98.2835 611.247 98.2835 608.145 Q98.2835 605.02 96.3623 603.237 Q94.4641 601.455 91.1077 601.455 M86.4318 599.464 Q83.4225 598.724 81.7327 596.663 Q80.066 594.603 80.066 591.64 Q80.066 587.497 83.0058 585.089 Q85.9688 582.682 91.1077 582.682 Q96.2697 582.682 99.2095 585.089 Q102.149 587.497 102.149 591.64 Q102.149 594.603 100.459 596.663 Q98.7928 598.724 95.8067 599.464 Q99.1863 600.251 101.061 602.543 Q102.959 604.835 102.959 608.145 Q102.959 613.168 99.8808 615.853 Q96.8252 618.538 91.1077 618.538 Q85.3901 618.538 82.3114 615.853 Q79.2559 613.168 79.2559 608.145 Q79.2559 604.835 81.154 602.543 Q83.0521 600.251 86.4318 599.464 M84.7188 592.08 Q84.7188 594.765 86.3855 596.27 Q88.0753 597.775 91.1077 597.775 Q94.1169 597.775 95.8067 596.27 Q97.5197 594.765 97.5197 592.08 Q97.5197 589.395 95.8067 587.89 Q94.1169 586.386 91.1077 586.386 Q88.0753 586.386 86.3855 587.89 Q84.7188 589.395 84.7188 592.08 Z\" fill=\"#000000\" fill-rule=\"nonzero\" fill-opacity=\"1\" /><path clip-path=\"url(#clip350)\" d=\"M51.6634 402.65 L59.3023 402.65 L59.3023 376.284 L50.9921 377.951 L50.9921 373.692 L59.256 372.025 L63.9319 372.025 L63.9319 402.65 L71.5707 402.65 L71.5707 406.585 L51.6634 406.585 L51.6634 402.65 Z\" fill=\"#000000\" fill-rule=\"nonzero\" fill-opacity=\"1\" /><path clip-path=\"url(#clip350)\" d=\"M91.0151 375.104 Q87.404 375.104 85.5753 378.668 Q83.7697 382.21 83.7697 389.34 Q83.7697 396.446 85.5753 400.011 Q87.404 403.552 91.0151 403.552 Q94.6493 403.552 96.4548 400.011 Q98.2835 396.446 98.2835 389.34 Q98.2835 382.21 96.4548 378.668 Q94.6493 375.104 91.0151 375.104 M91.0151 371.4 Q96.8252 371.4 99.8808 376.006 Q102.959 380.59 102.959 389.34 Q102.959 398.066 99.8808 402.673 Q96.8252 407.256 91.0151 407.256 Q85.2049 407.256 82.1262 402.673 Q79.0707 398.066 79.0707 389.34 Q79.0707 380.59 82.1262 376.006 Q85.2049 371.4 91.0151 371.4 Z\" fill=\"#000000\" fill-rule=\"nonzero\" fill-opacity=\"1\" /><path clip-path=\"url(#clip350)\" d=\"M53.2606 191.368 L60.8995 191.368 L60.8995 165.002 L52.5893 166.669 L52.5893 162.409 L60.8532 160.743 L65.5291 160.743 L65.5291 191.368 L73.1679 191.368 L73.1679 195.303 L53.2606 195.303 L53.2606 191.368 Z\" fill=\"#000000\" fill-rule=\"nonzero\" fill-opacity=\"1\" /><path clip-path=\"url(#clip350)\" d=\"M86.6401 191.368 L102.959 191.368 L102.959 195.303 L81.0151 195.303 L81.0151 191.368 Q83.6771 188.613 88.2604 183.983 Q92.8669 179.331 94.0475 177.988 Q96.2928 175.465 97.1724 173.729 Q98.0752 171.969 98.0752 170.28 Q98.0752 167.525 96.1308 165.789 Q94.2095 164.053 91.1077 164.053 Q88.9086 164.053 86.4549 164.817 Q84.0244 165.581 81.2466 167.132 L81.2466 162.409 Q84.0707 161.275 86.5243 160.696 Q88.978 160.118 91.0151 160.118 Q96.3854 160.118 99.5798 162.803 Q102.774 165.488 102.774 169.979 Q102.774 172.108 101.964 174.03 Q101.177 175.928 99.0706 178.52 Q98.4919 179.192 95.39 182.409 Q92.2882 185.604 86.6401 191.368 Z\" fill=\"#000000\" fill-rule=\"nonzero\" fill-opacity=\"1\" /><path clip-path=\"url(#clip352)\" d=\"M260.722 1445.72 L260.722 1445.72 L328.663 1445.72 L328.663 1445.72 L260.722 1445.72 L260.722 1445.72  Z\" fill=\"#009af9\" fill-rule=\"evenodd\" fill-opacity=\"1\"/>\n",
       "<polyline clip-path=\"url(#clip352)\" style=\"stroke:#000000; stroke-linecap:round; stroke-linejoin:round; stroke-width:4; stroke-opacity:1; fill:none\" points=\"260.722,1445.72 260.722,1445.72 328.663,1445.72 260.722,1445.72 \"/>\n",
       "<path clip-path=\"url(#clip352)\" d=\"M328.663 1445.72 L328.663 1445.72 L396.603 1445.72 L396.603 1445.72 L328.663 1445.72 L328.663 1445.72  Z\" fill=\"#009af9\" fill-rule=\"evenodd\" fill-opacity=\"1\"/>\n",
       "<polyline clip-path=\"url(#clip352)\" style=\"stroke:#000000; stroke-linecap:round; stroke-linejoin:round; stroke-width:4; stroke-opacity:1; fill:none\" points=\"328.663,1445.72 328.663,1445.72 396.603,1445.72 328.663,1445.72 \"/>\n",
       "<path clip-path=\"url(#clip352)\" d=\"M396.603 1445.72 L396.603 1445.72 L464.543 1445.72 L464.543 1445.72 L396.603 1445.72 L396.603 1445.72  Z\" fill=\"#009af9\" fill-rule=\"evenodd\" fill-opacity=\"1\"/>\n",
       "<polyline clip-path=\"url(#clip352)\" style=\"stroke:#000000; stroke-linecap:round; stroke-linejoin:round; stroke-width:4; stroke-opacity:1; fill:none\" points=\"396.603,1445.72 396.603,1445.72 464.543,1445.72 396.603,1445.72 \"/>\n",
       "<path clip-path=\"url(#clip352)\" d=\"M464.543 1445.72 L464.543 1445.72 L532.484 1445.72 L532.484 1445.72 L464.543 1445.72 L464.543 1445.72  Z\" fill=\"#009af9\" fill-rule=\"evenodd\" fill-opacity=\"1\"/>\n",
       "<polyline clip-path=\"url(#clip352)\" style=\"stroke:#000000; stroke-linecap:round; stroke-linejoin:round; stroke-width:4; stroke-opacity:1; fill:none\" points=\"464.543,1445.72 464.543,1445.72 532.484,1445.72 464.543,1445.72 \"/>\n",
       "<path clip-path=\"url(#clip352)\" d=\"M532.484 1445.72 L532.484 1445.72 L600.424 1445.72 L600.424 1445.72 L532.484 1445.72 L532.484 1445.72  Z\" fill=\"#009af9\" fill-rule=\"evenodd\" fill-opacity=\"1\"/>\n",
       "<polyline clip-path=\"url(#clip352)\" style=\"stroke:#000000; stroke-linecap:round; stroke-linejoin:round; stroke-width:4; stroke-opacity:1; fill:none\" points=\"532.484,1445.72 532.484,1445.72 600.424,1445.72 532.484,1445.72 \"/>\n",
       "<path clip-path=\"url(#clip352)\" d=\"M600.424 1444.27 L600.424 1445.72 L668.364 1445.72 L668.364 1444.27 L600.424 1444.27 L600.424 1444.27  Z\" fill=\"#009af9\" fill-rule=\"evenodd\" fill-opacity=\"1\"/>\n",
       "<polyline clip-path=\"url(#clip352)\" style=\"stroke:#000000; stroke-linecap:round; stroke-linejoin:round; stroke-width:4; stroke-opacity:1; fill:none\" points=\"600.424,1444.27 600.424,1445.72 668.364,1445.72 668.364,1444.27 600.424,1444.27 \"/>\n",
       "<path clip-path=\"url(#clip352)\" d=\"M668.364 1444.27 L668.364 1445.72 L736.305 1445.72 L736.305 1444.27 L668.364 1444.27 L668.364 1444.27  Z\" fill=\"#009af9\" fill-rule=\"evenodd\" fill-opacity=\"1\"/>\n",
       "<polyline clip-path=\"url(#clip352)\" style=\"stroke:#000000; stroke-linecap:round; stroke-linejoin:round; stroke-width:4; stroke-opacity:1; fill:none\" points=\"668.364,1444.27 668.364,1445.72 736.305,1445.72 736.305,1444.27 668.364,1444.27 \"/>\n",
       "<path clip-path=\"url(#clip352)\" d=\"M736.305 1444.27 L736.305 1445.72 L804.245 1445.72 L804.245 1444.27 L736.305 1444.27 L736.305 1444.27  Z\" fill=\"#009af9\" fill-rule=\"evenodd\" fill-opacity=\"1\"/>\n",
       "<polyline clip-path=\"url(#clip352)\" style=\"stroke:#000000; stroke-linecap:round; stroke-linejoin:round; stroke-width:4; stroke-opacity:1; fill:none\" points=\"736.305,1444.27 736.305,1445.72 804.245,1445.72 804.245,1444.27 736.305,1444.27 \"/>\n",
       "<path clip-path=\"url(#clip352)\" d=\"M804.245 1438.48 L804.245 1445.72 L872.186 1445.72 L872.186 1438.48 L804.245 1438.48 L804.245 1438.48  Z\" fill=\"#009af9\" fill-rule=\"evenodd\" fill-opacity=\"1\"/>\n",
       "<polyline clip-path=\"url(#clip352)\" style=\"stroke:#000000; stroke-linecap:round; stroke-linejoin:round; stroke-width:4; stroke-opacity:1; fill:none\" points=\"804.245,1438.48 804.245,1445.72 872.186,1445.72 872.186,1438.48 804.245,1438.48 \"/>\n",
       "<path clip-path=\"url(#clip352)\" d=\"M872.186 1438.48 L872.186 1445.72 L940.126 1445.72 L940.126 1438.48 L872.186 1438.48 L872.186 1438.48  Z\" fill=\"#009af9\" fill-rule=\"evenodd\" fill-opacity=\"1\"/>\n",
       "<polyline clip-path=\"url(#clip352)\" style=\"stroke:#000000; stroke-linecap:round; stroke-linejoin:round; stroke-width:4; stroke-opacity:1; fill:none\" points=\"872.186,1438.48 872.186,1445.72 940.126,1445.72 940.126,1438.48 872.186,1438.48 \"/>\n",
       "<path clip-path=\"url(#clip352)\" d=\"M940.126 1434.14 L940.126 1445.72 L1008.07 1445.72 L1008.07 1434.14 L940.126 1434.14 L940.126 1434.14  Z\" fill=\"#009af9\" fill-rule=\"evenodd\" fill-opacity=\"1\"/>\n",
       "<polyline clip-path=\"url(#clip352)\" style=\"stroke:#000000; stroke-linecap:round; stroke-linejoin:round; stroke-width:4; stroke-opacity:1; fill:none\" points=\"940.126,1434.14 940.126,1445.72 1008.07,1445.72 1008.07,1434.14 940.126,1434.14 \"/>\n",
       "<path clip-path=\"url(#clip352)\" d=\"M1008.07 1416.77 L1008.07 1445.72 L1076.01 1445.72 L1076.01 1416.77 L1008.07 1416.77 L1008.07 1416.77  Z\" fill=\"#009af9\" fill-rule=\"evenodd\" fill-opacity=\"1\"/>\n",
       "<polyline clip-path=\"url(#clip352)\" style=\"stroke:#000000; stroke-linecap:round; stroke-linejoin:round; stroke-width:4; stroke-opacity:1; fill:none\" points=\"1008.07,1416.77 1008.07,1445.72 1076.01,1445.72 1076.01,1416.77 1008.07,1416.77 \"/>\n",
       "<path clip-path=\"url(#clip352)\" d=\"M1076.01 1384.92 L1076.01 1445.72 L1143.95 1445.72 L1143.95 1384.92 L1076.01 1384.92 L1076.01 1384.92  Z\" fill=\"#009af9\" fill-rule=\"evenodd\" fill-opacity=\"1\"/>\n",
       "<polyline clip-path=\"url(#clip352)\" style=\"stroke:#000000; stroke-linecap:round; stroke-linejoin:round; stroke-width:4; stroke-opacity:1; fill:none\" points=\"1076.01,1384.92 1076.01,1445.72 1143.95,1445.72 1143.95,1384.92 1076.01,1384.92 \"/>\n",
       "<path clip-path=\"url(#clip352)\" d=\"M1143.95 1313.99 L1143.95 1445.72 L1211.89 1445.72 L1211.89 1313.99 L1143.95 1313.99 L1143.95 1313.99  Z\" fill=\"#009af9\" fill-rule=\"evenodd\" fill-opacity=\"1\"/>\n",
       "<polyline clip-path=\"url(#clip352)\" style=\"stroke:#000000; stroke-linecap:round; stroke-linejoin:round; stroke-width:4; stroke-opacity:1; fill:none\" points=\"1143.95,1313.99 1143.95,1445.72 1211.89,1445.72 1211.89,1313.99 1143.95,1313.99 \"/>\n",
       "<path clip-path=\"url(#clip352)\" d=\"M1211.89 1180.83 L1211.89 1445.72 L1279.83 1445.72 L1279.83 1180.83 L1211.89 1180.83 L1211.89 1180.83  Z\" fill=\"#009af9\" fill-rule=\"evenodd\" fill-opacity=\"1\"/>\n",
       "<polyline clip-path=\"url(#clip352)\" style=\"stroke:#000000; stroke-linecap:round; stroke-linejoin:round; stroke-width:4; stroke-opacity:1; fill:none\" points=\"1211.89,1180.83 1211.89,1445.72 1279.83,1445.72 1279.83,1180.83 1211.89,1180.83 \"/>\n",
       "<path clip-path=\"url(#clip352)\" d=\"M1279.83 733.554 L1279.83 1445.72 L1347.77 1445.72 L1347.77 733.554 L1279.83 733.554 L1279.83 733.554  Z\" fill=\"#009af9\" fill-rule=\"evenodd\" fill-opacity=\"1\"/>\n",
       "<polyline clip-path=\"url(#clip352)\" style=\"stroke:#000000; stroke-linecap:round; stroke-linejoin:round; stroke-width:4; stroke-opacity:1; fill:none\" points=\"1279.83,733.554 1279.83,1445.72 1347.77,1445.72 1347.77,733.554 1279.83,733.554 \"/>\n",
       "<path clip-path=\"url(#clip352)\" d=\"M1347.77 173.378 L1347.77 1445.72 L1415.71 1445.72 L1415.71 173.378 L1347.77 173.378 L1347.77 173.378  Z\" fill=\"#009af9\" fill-rule=\"evenodd\" fill-opacity=\"1\"/>\n",
       "<polyline clip-path=\"url(#clip352)\" style=\"stroke:#000000; stroke-linecap:round; stroke-linejoin:round; stroke-width:4; stroke-opacity:1; fill:none\" points=\"1347.77,173.378 1347.77,1445.72 1415.71,1445.72 1415.71,173.378 1347.77,173.378 \"/>\n",
       "<path clip-path=\"url(#clip352)\" d=\"M1415.71 87.9763 L1415.71 1445.72 L1483.65 1445.72 L1483.65 87.9763 L1415.71 87.9763 L1415.71 87.9763  Z\" fill=\"#009af9\" fill-rule=\"evenodd\" fill-opacity=\"1\"/>\n",
       "<polyline clip-path=\"url(#clip352)\" style=\"stroke:#000000; stroke-linecap:round; stroke-linejoin:round; stroke-width:4; stroke-opacity:1; fill:none\" points=\"1415.71,87.9763 1415.71,1445.72 1483.65,1445.72 1483.65,87.9763 1415.71,87.9763 \"/>\n",
       "<path clip-path=\"url(#clip352)\" d=\"M1483.65 795.796 L1483.65 1445.72 L1551.59 1445.72 L1551.59 795.796 L1483.65 795.796 L1483.65 795.796  Z\" fill=\"#009af9\" fill-rule=\"evenodd\" fill-opacity=\"1\"/>\n",
       "<polyline clip-path=\"url(#clip352)\" style=\"stroke:#000000; stroke-linecap:round; stroke-linejoin:round; stroke-width:4; stroke-opacity:1; fill:none\" points=\"1483.65,795.796 1483.65,1445.72 1551.59,1445.72 1551.59,795.796 1483.65,795.796 \"/>\n",
       "<path clip-path=\"url(#clip352)\" d=\"M1551.59 1241.62 L1551.59 1445.72 L1619.53 1445.72 L1619.53 1241.62 L1551.59 1241.62 L1551.59 1241.62  Z\" fill=\"#009af9\" fill-rule=\"evenodd\" fill-opacity=\"1\"/>\n",
       "<polyline clip-path=\"url(#clip352)\" style=\"stroke:#000000; stroke-linecap:round; stroke-linejoin:round; stroke-width:4; stroke-opacity:1; fill:none\" points=\"1551.59,1241.62 1551.59,1445.72 1619.53,1445.72 1619.53,1241.62 1551.59,1241.62 \"/>\n",
       "<path clip-path=\"url(#clip352)\" d=\"M1619.53 1345.84 L1619.53 1445.72 L1687.47 1445.72 L1687.47 1345.84 L1619.53 1345.84 L1619.53 1345.84  Z\" fill=\"#009af9\" fill-rule=\"evenodd\" fill-opacity=\"1\"/>\n",
       "<polyline clip-path=\"url(#clip352)\" style=\"stroke:#000000; stroke-linecap:round; stroke-linejoin:round; stroke-width:4; stroke-opacity:1; fill:none\" points=\"1619.53,1345.84 1619.53,1445.72 1687.47,1445.72 1687.47,1345.84 1619.53,1345.84 \"/>\n",
       "<path clip-path=\"url(#clip352)\" d=\"M1687.47 1382.03 L1687.47 1445.72 L1755.41 1445.72 L1755.41 1382.03 L1687.47 1382.03 L1687.47 1382.03  Z\" fill=\"#009af9\" fill-rule=\"evenodd\" fill-opacity=\"1\"/>\n",
       "<polyline clip-path=\"url(#clip352)\" style=\"stroke:#000000; stroke-linecap:round; stroke-linejoin:round; stroke-width:4; stroke-opacity:1; fill:none\" points=\"1687.47,1382.03 1687.47,1445.72 1755.41,1445.72 1755.41,1382.03 1687.47,1382.03 \"/>\n",
       "<path clip-path=\"url(#clip352)\" d=\"M1755.41 1421.11 L1755.41 1445.72 L1823.35 1445.72 L1823.35 1421.11 L1755.41 1421.11 L1755.41 1421.11  Z\" fill=\"#009af9\" fill-rule=\"evenodd\" fill-opacity=\"1\"/>\n",
       "<polyline clip-path=\"url(#clip352)\" style=\"stroke:#000000; stroke-linecap:round; stroke-linejoin:round; stroke-width:4; stroke-opacity:1; fill:none\" points=\"1755.41,1421.11 1755.41,1445.72 1823.35,1445.72 1823.35,1421.11 1755.41,1421.11 \"/>\n",
       "<path clip-path=\"url(#clip352)\" d=\"M1823.35 1422.56 L1823.35 1445.72 L1891.29 1445.72 L1891.29 1422.56 L1823.35 1422.56 L1823.35 1422.56  Z\" fill=\"#009af9\" fill-rule=\"evenodd\" fill-opacity=\"1\"/>\n",
       "<polyline clip-path=\"url(#clip352)\" style=\"stroke:#000000; stroke-linecap:round; stroke-linejoin:round; stroke-width:4; stroke-opacity:1; fill:none\" points=\"1823.35,1422.56 1823.35,1445.72 1891.29,1445.72 1891.29,1422.56 1823.35,1422.56 \"/>\n",
       "<path clip-path=\"url(#clip352)\" d=\"M1891.29 1432.69 L1891.29 1445.72 L1959.23 1445.72 L1959.23 1432.69 L1891.29 1432.69 L1891.29 1432.69  Z\" fill=\"#009af9\" fill-rule=\"evenodd\" fill-opacity=\"1\"/>\n",
       "<polyline clip-path=\"url(#clip352)\" style=\"stroke:#000000; stroke-linecap:round; stroke-linejoin:round; stroke-width:4; stroke-opacity:1; fill:none\" points=\"1891.29,1432.69 1891.29,1445.72 1959.23,1445.72 1959.23,1432.69 1891.29,1432.69 \"/>\n",
       "<path clip-path=\"url(#clip352)\" d=\"M1959.23 1439.93 L1959.23 1445.72 L2027.17 1445.72 L2027.17 1439.93 L1959.23 1439.93 L1959.23 1439.93  Z\" fill=\"#009af9\" fill-rule=\"evenodd\" fill-opacity=\"1\"/>\n",
       "<polyline clip-path=\"url(#clip352)\" style=\"stroke:#000000; stroke-linecap:round; stroke-linejoin:round; stroke-width:4; stroke-opacity:1; fill:none\" points=\"1959.23,1439.93 1959.23,1445.72 2027.17,1445.72 2027.17,1439.93 1959.23,1439.93 \"/>\n",
       "<path clip-path=\"url(#clip352)\" d=\"M2027.17 1441.37 L2027.17 1445.72 L2095.11 1445.72 L2095.11 1441.37 L2027.17 1441.37 L2027.17 1441.37  Z\" fill=\"#009af9\" fill-rule=\"evenodd\" fill-opacity=\"1\"/>\n",
       "<polyline clip-path=\"url(#clip352)\" style=\"stroke:#000000; stroke-linecap:round; stroke-linejoin:round; stroke-width:4; stroke-opacity:1; fill:none\" points=\"2027.17,1441.37 2027.17,1445.72 2095.11,1445.72 2095.11,1441.37 2027.17,1441.37 \"/>\n",
       "<path clip-path=\"url(#clip352)\" d=\"M2095.11 1444.27 L2095.11 1445.72 L2163.05 1445.72 L2163.05 1444.27 L2095.11 1444.27 L2095.11 1444.27  Z\" fill=\"#009af9\" fill-rule=\"evenodd\" fill-opacity=\"1\"/>\n",
       "<polyline clip-path=\"url(#clip352)\" style=\"stroke:#000000; stroke-linecap:round; stroke-linejoin:round; stroke-width:4; stroke-opacity:1; fill:none\" points=\"2095.11,1444.27 2095.11,1445.72 2163.05,1445.72 2163.05,1444.27 2095.11,1444.27 \"/>\n",
       "<path clip-path=\"url(#clip352)\" d=\"M2163.05 1445.72 L2163.05 1445.72 L2230.99 1445.72 L2230.99 1445.72 L2163.05 1445.72 L2163.05 1445.72  Z\" fill=\"#009af9\" fill-rule=\"evenodd\" fill-opacity=\"1\"/>\n",
       "<polyline clip-path=\"url(#clip352)\" style=\"stroke:#000000; stroke-linecap:round; stroke-linejoin:round; stroke-width:4; stroke-opacity:1; fill:none\" points=\"2163.05,1445.72 2163.05,1445.72 2230.99,1445.72 2163.05,1445.72 \"/>\n",
       "<circle clip-path=\"url(#clip352)\" style=\"fill:#009af9; stroke:none; fill-opacity:0\" cx=\"294.692\" cy=\"1445.72\" r=\"2\"/>\n",
       "<circle clip-path=\"url(#clip352)\" style=\"fill:#009af9; stroke:none; fill-opacity:0\" cx=\"362.633\" cy=\"1445.72\" r=\"2\"/>\n",
       "<circle clip-path=\"url(#clip352)\" style=\"fill:#009af9; stroke:none; fill-opacity:0\" cx=\"430.573\" cy=\"1445.72\" r=\"2\"/>\n",
       "<circle clip-path=\"url(#clip352)\" style=\"fill:#009af9; stroke:none; fill-opacity:0\" cx=\"498.514\" cy=\"1445.72\" r=\"2\"/>\n",
       "<circle clip-path=\"url(#clip352)\" style=\"fill:#009af9; stroke:none; fill-opacity:0\" cx=\"566.454\" cy=\"1445.72\" r=\"2\"/>\n",
       "<circle clip-path=\"url(#clip352)\" style=\"fill:#009af9; stroke:none; fill-opacity:0\" cx=\"634.394\" cy=\"1444.27\" r=\"2\"/>\n",
       "<circle clip-path=\"url(#clip352)\" style=\"fill:#009af9; stroke:none; fill-opacity:0\" cx=\"702.335\" cy=\"1444.27\" r=\"2\"/>\n",
       "<circle clip-path=\"url(#clip352)\" style=\"fill:#009af9; stroke:none; fill-opacity:0\" cx=\"770.275\" cy=\"1444.27\" r=\"2\"/>\n",
       "<circle clip-path=\"url(#clip352)\" style=\"fill:#009af9; stroke:none; fill-opacity:0\" cx=\"838.215\" cy=\"1438.48\" r=\"2\"/>\n",
       "<circle clip-path=\"url(#clip352)\" style=\"fill:#009af9; stroke:none; fill-opacity:0\" cx=\"906.156\" cy=\"1438.48\" r=\"2\"/>\n",
       "<circle clip-path=\"url(#clip352)\" style=\"fill:#009af9; stroke:none; fill-opacity:0\" cx=\"974.096\" cy=\"1434.14\" r=\"2\"/>\n",
       "<circle clip-path=\"url(#clip352)\" style=\"fill:#009af9; stroke:none; fill-opacity:0\" cx=\"1042.04\" cy=\"1416.77\" r=\"2\"/>\n",
       "<circle clip-path=\"url(#clip352)\" style=\"fill:#009af9; stroke:none; fill-opacity:0\" cx=\"1109.98\" cy=\"1384.92\" r=\"2\"/>\n",
       "<circle clip-path=\"url(#clip352)\" style=\"fill:#009af9; stroke:none; fill-opacity:0\" cx=\"1177.92\" cy=\"1313.99\" r=\"2\"/>\n",
       "<circle clip-path=\"url(#clip352)\" style=\"fill:#009af9; stroke:none; fill-opacity:0\" cx=\"1245.86\" cy=\"1180.83\" r=\"2\"/>\n",
       "<circle clip-path=\"url(#clip352)\" style=\"fill:#009af9; stroke:none; fill-opacity:0\" cx=\"1313.8\" cy=\"733.554\" r=\"2\"/>\n",
       "<circle clip-path=\"url(#clip352)\" style=\"fill:#009af9; stroke:none; fill-opacity:0\" cx=\"1381.74\" cy=\"173.378\" r=\"2\"/>\n",
       "<circle clip-path=\"url(#clip352)\" style=\"fill:#009af9; stroke:none; fill-opacity:0\" cx=\"1449.68\" cy=\"87.9763\" r=\"2\"/>\n",
       "<circle clip-path=\"url(#clip352)\" style=\"fill:#009af9; stroke:none; fill-opacity:0\" cx=\"1517.62\" cy=\"795.796\" r=\"2\"/>\n",
       "<circle clip-path=\"url(#clip352)\" style=\"fill:#009af9; stroke:none; fill-opacity:0\" cx=\"1585.56\" cy=\"1241.62\" r=\"2\"/>\n",
       "<circle clip-path=\"url(#clip352)\" style=\"fill:#009af9; stroke:none; fill-opacity:0\" cx=\"1653.5\" cy=\"1345.84\" r=\"2\"/>\n",
       "<circle clip-path=\"url(#clip352)\" style=\"fill:#009af9; stroke:none; fill-opacity:0\" cx=\"1721.44\" cy=\"1382.03\" r=\"2\"/>\n",
       "<circle clip-path=\"url(#clip352)\" style=\"fill:#009af9; stroke:none; fill-opacity:0\" cx=\"1789.38\" cy=\"1421.11\" r=\"2\"/>\n",
       "<circle clip-path=\"url(#clip352)\" style=\"fill:#009af9; stroke:none; fill-opacity:0\" cx=\"1857.32\" cy=\"1422.56\" r=\"2\"/>\n",
       "<circle clip-path=\"url(#clip352)\" style=\"fill:#009af9; stroke:none; fill-opacity:0\" cx=\"1925.26\" cy=\"1432.69\" r=\"2\"/>\n",
       "<circle clip-path=\"url(#clip352)\" style=\"fill:#009af9; stroke:none; fill-opacity:0\" cx=\"1993.2\" cy=\"1439.93\" r=\"2\"/>\n",
       "<circle clip-path=\"url(#clip352)\" style=\"fill:#009af9; stroke:none; fill-opacity:0\" cx=\"2061.14\" cy=\"1441.37\" r=\"2\"/>\n",
       "<circle clip-path=\"url(#clip352)\" style=\"fill:#009af9; stroke:none; fill-opacity:0\" cx=\"2129.08\" cy=\"1444.27\" r=\"2\"/>\n",
       "<circle clip-path=\"url(#clip352)\" style=\"fill:#009af9; stroke:none; fill-opacity:0\" cx=\"2197.02\" cy=\"1445.72\" r=\"2\"/>\n",
       "<path clip-path=\"url(#clip350)\" d=\"M2005.15 198.898 L2278.96 198.898 L2278.96 95.2176 L2005.15 95.2176  Z\" fill=\"#ffffff\" fill-rule=\"evenodd\" fill-opacity=\"1\"/>\n",
       "<polyline clip-path=\"url(#clip350)\" style=\"stroke:#000000; stroke-linecap:round; stroke-linejoin:round; stroke-width:4; stroke-opacity:1; fill:none\" points=\"2005.15,198.898 2278.96,198.898 2278.96,95.2176 2005.15,95.2176 2005.15,198.898 \"/>\n",
       "<path clip-path=\"url(#clip350)\" d=\"M2029.75 167.794 L2177.34 167.794 L2177.34 126.322 L2029.75 126.322 L2029.75 167.794  Z\" fill=\"#009af9\" fill-rule=\"evenodd\" fill-opacity=\"1\"/>\n",
       "<polyline clip-path=\"url(#clip350)\" style=\"stroke:#000000; stroke-linecap:round; stroke-linejoin:round; stroke-width:4; stroke-opacity:1; fill:none\" points=\"2029.75,167.794 2177.34,167.794 2177.34,126.322 2029.75,126.322 2029.75,167.794 \"/>\n",
       "<path clip-path=\"url(#clip350)\" d=\"M2215.78 166.745 Q2213.97 171.375 2212.26 172.787 Q2210.55 174.199 2207.68 174.199 L2204.27 174.199 L2204.27 170.634 L2206.77 170.634 Q2208.53 170.634 2209.5 169.8 Q2210.48 168.967 2211.66 165.865 L2212.42 163.921 L2201.93 138.412 L2206.45 138.412 L2214.55 158.689 L2222.65 138.412 L2227.17 138.412 L2215.78 166.745 Z\" fill=\"#000000\" fill-rule=\"nonzero\" fill-opacity=\"1\" /><path clip-path=\"url(#clip350)\" d=\"M2234.46 160.402 L2242.1 160.402 L2242.1 134.037 L2233.79 135.703 L2233.79 131.444 L2242.05 129.778 L2246.73 129.778 L2246.73 160.402 L2254.36 160.402 L2254.36 164.338 L2234.46 164.338 L2234.46 160.402 Z\" fill=\"#000000\" fill-rule=\"nonzero\" fill-opacity=\"1\" /></svg>\n"
      ]
     },
     "execution_count": 38,
     "metadata": {},
     "output_type": "execute_result"
    }
   ],
   "source": [
    "histogram(vec(stfp),normalize=:pdf,bins = range(log(0.7),log(1.3),30))"
   ]
  },
  {
   "cell_type": "code",
   "execution_count": 58,
   "id": "62b70932-29fb-4211-8978-72635664ce82",
   "metadata": {},
   "outputs": [
    {
     "data": {
      "image/svg+xml": [
       "<?xml version=\"1.0\" encoding=\"utf-8\"?>\n",
       "<svg xmlns=\"http://www.w3.org/2000/svg\" xmlns:xlink=\"http://www.w3.org/1999/xlink\" width=\"600\" height=\"400\" viewBox=\"0 0 2400 1600\">\n",
       "<defs>\n",
       "  <clipPath id=\"clip570\">\n",
       "    <rect x=\"0\" y=\"0\" width=\"2400\" height=\"1600\"/>\n",
       "  </clipPath>\n",
       "</defs>\n",
       "<path clip-path=\"url(#clip570)\" d=\"M0 1600 L2400 1600 L2400 0 L0 0  Z\" fill=\"#ffffff\" fill-rule=\"evenodd\" fill-opacity=\"1\"/>\n",
       "<defs>\n",
       "  <clipPath id=\"clip571\">\n",
       "    <rect x=\"480\" y=\"0\" width=\"1681\" height=\"1600\"/>\n",
       "  </clipPath>\n",
       "</defs>\n",
       "<path clip-path=\"url(#clip570)\" d=\"M186.181 1486.45 L2352.76 1486.45 L2352.76 47.2441 L186.181 47.2441  Z\" fill=\"#ffffff\" fill-rule=\"evenodd\" fill-opacity=\"1\"/>\n",
       "<defs>\n",
       "  <clipPath id=\"clip572\">\n",
       "    <rect x=\"186\" y=\"47\" width=\"2168\" height=\"1440\"/>\n",
       "  </clipPath>\n",
       "</defs>\n",
       "<polyline clip-path=\"url(#clip572)\" style=\"stroke:#000000; stroke-linecap:round; stroke-linejoin:round; stroke-width:2; stroke-opacity:0.1; fill:none\" points=\"247.5,1486.45 247.5,47.2441 \"/>\n",
       "<polyline clip-path=\"url(#clip572)\" style=\"stroke:#000000; stroke-linecap:round; stroke-linejoin:round; stroke-width:2; stroke-opacity:0.1; fill:none\" points=\"758.484,1486.45 758.484,47.2441 \"/>\n",
       "<polyline clip-path=\"url(#clip572)\" style=\"stroke:#000000; stroke-linecap:round; stroke-linejoin:round; stroke-width:2; stroke-opacity:0.1; fill:none\" points=\"1269.47,1486.45 1269.47,47.2441 \"/>\n",
       "<polyline clip-path=\"url(#clip572)\" style=\"stroke:#000000; stroke-linecap:round; stroke-linejoin:round; stroke-width:2; stroke-opacity:0.1; fill:none\" points=\"1780.45,1486.45 1780.45,47.2441 \"/>\n",
       "<polyline clip-path=\"url(#clip572)\" style=\"stroke:#000000; stroke-linecap:round; stroke-linejoin:round; stroke-width:2; stroke-opacity:0.1; fill:none\" points=\"2291.44,1486.45 2291.44,47.2441 \"/>\n",
       "<polyline clip-path=\"url(#clip570)\" style=\"stroke:#000000; stroke-linecap:round; stroke-linejoin:round; stroke-width:4; stroke-opacity:1; fill:none\" points=\"186.181,1486.45 2352.76,1486.45 \"/>\n",
       "<polyline clip-path=\"url(#clip570)\" style=\"stroke:#000000; stroke-linecap:round; stroke-linejoin:round; stroke-width:4; stroke-opacity:1; fill:none\" points=\"247.5,1486.45 247.5,1467.55 \"/>\n",
       "<polyline clip-path=\"url(#clip570)\" style=\"stroke:#000000; stroke-linecap:round; stroke-linejoin:round; stroke-width:4; stroke-opacity:1; fill:none\" points=\"758.484,1486.45 758.484,1467.55 \"/>\n",
       "<polyline clip-path=\"url(#clip570)\" style=\"stroke:#000000; stroke-linecap:round; stroke-linejoin:round; stroke-width:4; stroke-opacity:1; fill:none\" points=\"1269.47,1486.45 1269.47,1467.55 \"/>\n",
       "<polyline clip-path=\"url(#clip570)\" style=\"stroke:#000000; stroke-linecap:round; stroke-linejoin:round; stroke-width:4; stroke-opacity:1; fill:none\" points=\"1780.45,1486.45 1780.45,1467.55 \"/>\n",
       "<polyline clip-path=\"url(#clip570)\" style=\"stroke:#000000; stroke-linecap:round; stroke-linejoin:round; stroke-width:4; stroke-opacity:1; fill:none\" points=\"2291.44,1486.45 2291.44,1467.55 \"/>\n",
       "<path clip-path=\"url(#clip570)\" d=\"M224.803 1517.37 Q221.192 1517.37 219.363 1520.93 Q217.558 1524.47 217.558 1531.6 Q217.558 1538.71 219.363 1542.27 Q221.192 1545.82 224.803 1545.82 Q228.437 1545.82 230.243 1542.27 Q232.071 1538.71 232.071 1531.6 Q232.071 1524.47 230.243 1520.93 Q228.437 1517.37 224.803 1517.37 M224.803 1513.66 Q230.613 1513.66 233.669 1518.27 Q236.747 1522.85 236.747 1531.6 Q236.747 1540.33 233.669 1544.94 Q230.613 1549.52 224.803 1549.52 Q218.993 1549.52 215.914 1544.94 Q212.859 1540.33 212.859 1531.6 Q212.859 1522.85 215.914 1518.27 Q218.993 1513.66 224.803 1513.66 Z\" fill=\"#000000\" fill-rule=\"nonzero\" fill-opacity=\"1\" /><path clip-path=\"url(#clip570)\" d=\"M244.965 1542.97 L249.849 1542.97 L249.849 1548.85 L244.965 1548.85 L244.965 1542.97 Z\" fill=\"#000000\" fill-rule=\"nonzero\" fill-opacity=\"1\" /><path clip-path=\"url(#clip570)\" d=\"M270.613 1529.7 Q267.465 1529.7 265.613 1531.86 Q263.784 1534.01 263.784 1537.76 Q263.784 1541.49 265.613 1543.66 Q267.465 1545.82 270.613 1545.82 Q273.761 1545.82 275.59 1543.66 Q277.442 1541.49 277.442 1537.76 Q277.442 1534.01 275.59 1531.86 Q273.761 1529.7 270.613 1529.7 M279.895 1515.05 L279.895 1519.31 Q278.136 1518.48 276.33 1518.04 Q274.548 1517.6 272.789 1517.6 Q268.159 1517.6 265.705 1520.72 Q263.275 1523.85 262.928 1530.17 Q264.293 1528.15 266.354 1527.09 Q268.414 1526 270.891 1526 Q276.099 1526 279.108 1529.17 Q282.141 1532.32 282.141 1537.76 Q282.141 1543.08 278.992 1546.3 Q275.844 1549.52 270.613 1549.52 Q264.618 1549.52 261.446 1544.94 Q258.275 1540.33 258.275 1531.6 Q258.275 1523.41 262.164 1518.55 Q266.053 1513.66 272.604 1513.66 Q274.363 1513.66 276.145 1514.01 Q277.951 1514.36 279.895 1515.05 Z\" fill=\"#000000\" fill-rule=\"nonzero\" fill-opacity=\"1\" /><path clip-path=\"url(#clip570)\" d=\"M735.915 1517.37 Q732.304 1517.37 730.475 1520.93 Q728.669 1524.47 728.669 1531.6 Q728.669 1538.71 730.475 1542.27 Q732.304 1545.82 735.915 1545.82 Q739.549 1545.82 741.355 1542.27 Q743.183 1538.71 743.183 1531.6 Q743.183 1524.47 741.355 1520.93 Q739.549 1517.37 735.915 1517.37 M735.915 1513.66 Q741.725 1513.66 744.78 1518.27 Q747.859 1522.85 747.859 1531.6 Q747.859 1540.33 744.78 1544.94 Q741.725 1549.52 735.915 1549.52 Q730.105 1549.52 727.026 1544.94 Q723.97 1540.33 723.97 1531.6 Q723.97 1522.85 727.026 1518.27 Q730.105 1513.66 735.915 1513.66 Z\" fill=\"#000000\" fill-rule=\"nonzero\" fill-opacity=\"1\" /><path clip-path=\"url(#clip570)\" d=\"M756.077 1542.97 L760.961 1542.97 L760.961 1548.85 L756.077 1548.85 L756.077 1542.97 Z\" fill=\"#000000\" fill-rule=\"nonzero\" fill-opacity=\"1\" /><path clip-path=\"url(#clip570)\" d=\"M781.146 1532.44 Q777.813 1532.44 775.891 1534.22 Q773.993 1536 773.993 1539.13 Q773.993 1542.25 775.891 1544.03 Q777.813 1545.82 781.146 1545.82 Q784.479 1545.82 786.401 1544.03 Q788.322 1542.23 788.322 1539.13 Q788.322 1536 786.401 1534.22 Q784.502 1532.44 781.146 1532.44 M776.47 1530.45 Q773.461 1529.7 771.771 1527.64 Q770.104 1525.58 770.104 1522.62 Q770.104 1518.48 773.044 1516.07 Q776.007 1513.66 781.146 1513.66 Q786.308 1513.66 789.248 1516.07 Q792.188 1518.48 792.188 1522.62 Q792.188 1525.58 790.498 1527.64 Q788.831 1529.7 785.845 1530.45 Q789.225 1531.23 791.1 1533.52 Q792.998 1535.82 792.998 1539.13 Q792.998 1544.15 789.919 1546.83 Q786.864 1549.52 781.146 1549.52 Q775.428 1549.52 772.35 1546.83 Q769.294 1544.15 769.294 1539.13 Q769.294 1535.82 771.192 1533.52 Q773.091 1531.23 776.47 1530.45 M774.757 1523.06 Q774.757 1525.75 776.424 1527.25 Q778.114 1528.76 781.146 1528.76 Q784.155 1528.76 785.845 1527.25 Q787.558 1525.75 787.558 1523.06 Q787.558 1520.38 785.845 1518.87 Q784.155 1517.37 781.146 1517.37 Q778.114 1517.37 776.424 1518.87 Q774.757 1520.38 774.757 1523.06 Z\" fill=\"#000000\" fill-rule=\"nonzero\" fill-opacity=\"1\" /><path clip-path=\"url(#clip570)\" d=\"M1236.62 1544.91 L1244.26 1544.91 L1244.26 1518.55 L1235.95 1520.21 L1235.95 1515.95 L1244.21 1514.29 L1248.89 1514.29 L1248.89 1544.91 L1256.53 1544.91 L1256.53 1548.85 L1236.62 1548.85 L1236.62 1544.91 Z\" fill=\"#000000\" fill-rule=\"nonzero\" fill-opacity=\"1\" /><path clip-path=\"url(#clip570)\" d=\"M1265.97 1542.97 L1270.86 1542.97 L1270.86 1548.85 L1265.97 1548.85 L1265.97 1542.97 Z\" fill=\"#000000\" fill-rule=\"nonzero\" fill-opacity=\"1\" /><path clip-path=\"url(#clip570)\" d=\"M1291.04 1517.37 Q1287.43 1517.37 1285.6 1520.93 Q1283.8 1524.47 1283.8 1531.6 Q1283.8 1538.71 1285.6 1542.27 Q1287.43 1545.82 1291.04 1545.82 Q1294.68 1545.82 1296.48 1542.27 Q1298.31 1538.71 1298.31 1531.6 Q1298.31 1524.47 1296.48 1520.93 Q1294.68 1517.37 1291.04 1517.37 M1291.04 1513.66 Q1296.85 1513.66 1299.91 1518.27 Q1302.99 1522.85 1302.99 1531.6 Q1302.99 1540.33 1299.91 1544.94 Q1296.85 1549.52 1291.04 1549.52 Q1285.23 1549.52 1282.15 1544.94 Q1279.1 1540.33 1279.1 1531.6 Q1279.1 1522.85 1282.15 1518.27 Q1285.23 1513.66 1291.04 1513.66 Z\" fill=\"#000000\" fill-rule=\"nonzero\" fill-opacity=\"1\" /><path clip-path=\"url(#clip570)\" d=\"M1748.4 1544.91 L1756.04 1544.91 L1756.04 1518.55 L1747.73 1520.21 L1747.73 1515.95 L1756 1514.29 L1760.67 1514.29 L1760.67 1544.91 L1768.31 1544.91 L1768.31 1548.85 L1748.4 1548.85 L1748.4 1544.91 Z\" fill=\"#000000\" fill-rule=\"nonzero\" fill-opacity=\"1\" /><path clip-path=\"url(#clip570)\" d=\"M1777.76 1542.97 L1782.64 1542.97 L1782.64 1548.85 L1777.76 1548.85 L1777.76 1542.97 Z\" fill=\"#000000\" fill-rule=\"nonzero\" fill-opacity=\"1\" /><path clip-path=\"url(#clip570)\" d=\"M1796.85 1544.91 L1813.17 1544.91 L1813.17 1548.85 L1791.23 1548.85 L1791.23 1544.91 Q1793.89 1542.16 1798.47 1537.53 Q1803.08 1532.88 1804.26 1531.53 Q1806.51 1529.01 1807.39 1527.27 Q1808.29 1525.51 1808.29 1523.82 Q1808.29 1521.07 1806.34 1519.33 Q1804.42 1517.6 1801.32 1517.6 Q1799.12 1517.6 1796.67 1518.36 Q1794.24 1519.13 1791.46 1520.68 L1791.46 1515.95 Q1794.28 1514.82 1796.74 1514.24 Q1799.19 1513.66 1801.23 1513.66 Q1806.6 1513.66 1809.79 1516.35 Q1812.99 1519.03 1812.99 1523.52 Q1812.99 1525.65 1812.18 1527.57 Q1811.39 1529.47 1809.28 1532.07 Q1808.71 1532.74 1805.6 1535.95 Q1802.5 1539.15 1796.85 1544.91 Z\" fill=\"#000000\" fill-rule=\"nonzero\" fill-opacity=\"1\" /><path clip-path=\"url(#clip570)\" d=\"M2258.35 1544.91 L2265.99 1544.91 L2265.99 1518.55 L2257.68 1520.21 L2257.68 1515.95 L2265.94 1514.29 L2270.62 1514.29 L2270.62 1544.91 L2278.25 1544.91 L2278.25 1548.85 L2258.35 1548.85 L2258.35 1544.91 Z\" fill=\"#000000\" fill-rule=\"nonzero\" fill-opacity=\"1\" /><path clip-path=\"url(#clip570)\" d=\"M2287.7 1542.97 L2292.58 1542.97 L2292.58 1548.85 L2287.7 1548.85 L2287.7 1542.97 Z\" fill=\"#000000\" fill-rule=\"nonzero\" fill-opacity=\"1\" /><path clip-path=\"url(#clip570)\" d=\"M2315.62 1518.36 L2303.81 1536.81 L2315.62 1536.81 L2315.62 1518.36 M2314.39 1514.29 L2320.27 1514.29 L2320.27 1536.81 L2325.2 1536.81 L2325.2 1540.7 L2320.27 1540.7 L2320.27 1548.85 L2315.62 1548.85 L2315.62 1540.7 L2300.01 1540.7 L2300.01 1536.19 L2314.39 1514.29 Z\" fill=\"#000000\" fill-rule=\"nonzero\" fill-opacity=\"1\" /><polyline clip-path=\"url(#clip572)\" style=\"stroke:#000000; stroke-linecap:round; stroke-linejoin:round; stroke-width:2; stroke-opacity:0.1; fill:none\" points=\"186.181,1428.13 2352.76,1428.13 \"/>\n",
       "<polyline clip-path=\"url(#clip572)\" style=\"stroke:#000000; stroke-linecap:round; stroke-linejoin:round; stroke-width:2; stroke-opacity:0.1; fill:none\" points=\"186.181,1159.99 2352.76,1159.99 \"/>\n",
       "<polyline clip-path=\"url(#clip572)\" style=\"stroke:#000000; stroke-linecap:round; stroke-linejoin:round; stroke-width:2; stroke-opacity:0.1; fill:none\" points=\"186.181,891.848 2352.76,891.848 \"/>\n",
       "<polyline clip-path=\"url(#clip572)\" style=\"stroke:#000000; stroke-linecap:round; stroke-linejoin:round; stroke-width:2; stroke-opacity:0.1; fill:none\" points=\"186.181,623.71 2352.76,623.71 \"/>\n",
       "<polyline clip-path=\"url(#clip572)\" style=\"stroke:#000000; stroke-linecap:round; stroke-linejoin:round; stroke-width:2; stroke-opacity:0.1; fill:none\" points=\"186.181,355.571 2352.76,355.571 \"/>\n",
       "<polyline clip-path=\"url(#clip572)\" style=\"stroke:#000000; stroke-linecap:round; stroke-linejoin:round; stroke-width:2; stroke-opacity:0.1; fill:none\" points=\"186.181,87.4326 2352.76,87.4326 \"/>\n",
       "<polyline clip-path=\"url(#clip570)\" style=\"stroke:#000000; stroke-linecap:round; stroke-linejoin:round; stroke-width:4; stroke-opacity:1; fill:none\" points=\"186.181,1486.45 186.181,47.2441 \"/>\n",
       "<polyline clip-path=\"url(#clip570)\" style=\"stroke:#000000; stroke-linecap:round; stroke-linejoin:round; stroke-width:4; stroke-opacity:1; fill:none\" points=\"186.181,1428.13 205.079,1428.13 \"/>\n",
       "<polyline clip-path=\"url(#clip570)\" style=\"stroke:#000000; stroke-linecap:round; stroke-linejoin:round; stroke-width:4; stroke-opacity:1; fill:none\" points=\"186.181,1159.99 205.079,1159.99 \"/>\n",
       "<polyline clip-path=\"url(#clip570)\" style=\"stroke:#000000; stroke-linecap:round; stroke-linejoin:round; stroke-width:4; stroke-opacity:1; fill:none\" points=\"186.181,891.848 205.079,891.848 \"/>\n",
       "<polyline clip-path=\"url(#clip570)\" style=\"stroke:#000000; stroke-linecap:round; stroke-linejoin:round; stroke-width:4; stroke-opacity:1; fill:none\" points=\"186.181,623.71 205.079,623.71 \"/>\n",
       "<polyline clip-path=\"url(#clip570)\" style=\"stroke:#000000; stroke-linecap:round; stroke-linejoin:round; stroke-width:4; stroke-opacity:1; fill:none\" points=\"186.181,355.571 205.079,355.571 \"/>\n",
       "<polyline clip-path=\"url(#clip570)\" style=\"stroke:#000000; stroke-linecap:round; stroke-linejoin:round; stroke-width:4; stroke-opacity:1; fill:none\" points=\"186.181,87.4326 205.079,87.4326 \"/>\n",
       "<path clip-path=\"url(#clip570)\" d=\"M63.7467 1413.92 Q60.1356 1413.92 58.3069 1417.49 Q56.5014 1421.03 56.5014 1428.16 Q56.5014 1435.27 58.3069 1438.83 Q60.1356 1442.37 63.7467 1442.37 Q67.3809 1442.37 69.1865 1438.83 Q71.0152 1435.27 71.0152 1428.16 Q71.0152 1421.03 69.1865 1417.49 Q67.3809 1413.92 63.7467 1413.92 M63.7467 1410.22 Q69.5568 1410.22 72.6124 1414.83 Q75.6911 1419.41 75.6911 1428.16 Q75.6911 1436.89 72.6124 1441.49 Q69.5568 1446.08 63.7467 1446.08 Q57.9365 1446.08 54.8578 1441.49 Q51.8023 1436.89 51.8023 1428.16 Q51.8023 1419.41 54.8578 1414.83 Q57.9365 1410.22 63.7467 1410.22 Z\" fill=\"#000000\" fill-rule=\"nonzero\" fill-opacity=\"1\" /><path clip-path=\"url(#clip570)\" d=\"M83.9086 1439.53 L88.7928 1439.53 L88.7928 1445.41 L83.9086 1445.41 L83.9086 1439.53 Z\" fill=\"#000000\" fill-rule=\"nonzero\" fill-opacity=\"1\" /><path clip-path=\"url(#clip570)\" d=\"M99.1169 1444.69 L99.1169 1440.43 Q100.876 1441.26 102.682 1441.7 Q104.487 1442.14 106.223 1442.14 Q110.853 1442.14 113.283 1439.04 Q115.737 1435.91 116.084 1429.57 Q114.742 1431.56 112.682 1432.63 Q110.621 1433.69 108.121 1433.69 Q102.936 1433.69 99.9039 1430.57 Q96.8947 1427.42 96.8947 1421.98 Q96.8947 1416.66 100.043 1413.44 Q103.191 1410.22 108.422 1410.22 Q114.418 1410.22 117.566 1414.83 Q120.737 1419.41 120.737 1428.16 Q120.737 1436.33 116.848 1441.22 Q112.983 1446.08 106.432 1446.08 Q104.672 1446.08 102.867 1445.73 Q101.061 1445.38 99.1169 1444.69 M108.422 1430.04 Q111.571 1430.04 113.399 1427.88 Q115.251 1425.73 115.251 1421.98 Q115.251 1418.25 113.399 1416.1 Q111.571 1413.92 108.422 1413.92 Q105.274 1413.92 103.422 1416.1 Q101.594 1418.25 101.594 1421.98 Q101.594 1425.73 103.422 1427.88 Q105.274 1430.04 108.422 1430.04 Z\" fill=\"#000000\" fill-rule=\"nonzero\" fill-opacity=\"1\" /><path clip-path=\"url(#clip570)\" d=\"M127.959 1410.85 L150.181 1410.85 L150.181 1412.84 L137.635 1445.41 L132.751 1445.41 L144.556 1414.78 L127.959 1414.78 L127.959 1410.85 Z\" fill=\"#000000\" fill-rule=\"nonzero\" fill-opacity=\"1\" /><path clip-path=\"url(#clip570)\" d=\"M62.9365 1145.79 Q59.3254 1145.79 57.4967 1149.35 Q55.6912 1152.89 55.6912 1160.02 Q55.6912 1167.13 57.4967 1170.69 Q59.3254 1174.23 62.9365 1174.23 Q66.5707 1174.23 68.3763 1170.69 Q70.205 1167.13 70.205 1160.02 Q70.205 1152.89 68.3763 1149.35 Q66.5707 1145.79 62.9365 1145.79 M62.9365 1142.08 Q68.7467 1142.08 71.8022 1146.69 Q74.8809 1151.27 74.8809 1160.02 Q74.8809 1168.75 71.8022 1173.35 Q68.7467 1177.94 62.9365 1177.94 Q57.1264 1177.94 54.0477 1173.35 Q50.9921 1168.75 50.9921 1160.02 Q50.9921 1151.27 54.0477 1146.69 Q57.1264 1142.08 62.9365 1142.08 Z\" fill=\"#000000\" fill-rule=\"nonzero\" fill-opacity=\"1\" /><path clip-path=\"url(#clip570)\" d=\"M83.0984 1171.39 L87.9827 1171.39 L87.9827 1177.27 L83.0984 1177.27 L83.0984 1171.39 Z\" fill=\"#000000\" fill-rule=\"nonzero\" fill-opacity=\"1\" /><path clip-path=\"url(#clip570)\" d=\"M98.3067 1176.55 L98.3067 1172.29 Q100.066 1173.12 101.871 1173.56 Q103.677 1174 105.413 1174 Q110.043 1174 112.473 1170.9 Q114.927 1167.78 115.274 1161.43 Q113.932 1163.42 111.871 1164.49 Q109.811 1165.55 107.311 1165.55 Q102.126 1165.55 99.0937 1162.43 Q96.0845 1159.28 96.0845 1153.84 Q96.0845 1148.52 99.2326 1145.3 Q102.381 1142.08 107.612 1142.08 Q113.608 1142.08 116.756 1146.69 Q119.927 1151.27 119.927 1160.02 Q119.927 1168.19 116.038 1173.08 Q112.172 1177.94 105.621 1177.94 Q103.862 1177.94 102.057 1177.59 Q100.251 1177.24 98.3067 1176.55 M107.612 1161.9 Q110.76 1161.9 112.589 1159.74 Q114.441 1157.59 114.441 1153.84 Q114.441 1150.11 112.589 1147.96 Q110.76 1145.79 107.612 1145.79 Q104.464 1145.79 102.612 1147.96 Q100.784 1150.11 100.784 1153.84 Q100.784 1157.59 102.612 1159.74 Q104.464 1161.9 107.612 1161.9 Z\" fill=\"#000000\" fill-rule=\"nonzero\" fill-opacity=\"1\" /><path clip-path=\"url(#clip570)\" d=\"M138.33 1160.85 Q134.996 1160.85 133.075 1162.64 Q131.177 1164.42 131.177 1167.54 Q131.177 1170.67 133.075 1172.45 Q134.996 1174.23 138.33 1174.23 Q141.663 1174.23 143.584 1172.45 Q145.506 1170.65 145.506 1167.54 Q145.506 1164.42 143.584 1162.64 Q141.686 1160.85 138.33 1160.85 M133.654 1158.86 Q130.644 1158.12 128.955 1156.06 Q127.288 1154 127.288 1151.04 Q127.288 1146.9 130.228 1144.49 Q133.191 1142.08 138.33 1142.08 Q143.492 1142.08 146.431 1144.49 Q149.371 1146.9 149.371 1151.04 Q149.371 1154 147.681 1156.06 Q146.015 1158.12 143.029 1158.86 Q146.408 1159.65 148.283 1161.94 Q150.181 1164.23 150.181 1167.54 Q150.181 1172.57 147.103 1175.25 Q144.047 1177.94 138.33 1177.94 Q132.612 1177.94 129.533 1175.25 Q126.478 1172.57 126.478 1167.54 Q126.478 1164.23 128.376 1161.94 Q130.274 1159.65 133.654 1158.86 M131.941 1151.48 Q131.941 1154.17 133.607 1155.67 Q135.297 1157.17 138.33 1157.17 Q141.339 1157.17 143.029 1155.67 Q144.742 1154.17 144.742 1151.48 Q144.742 1148.79 143.029 1147.29 Q141.339 1145.79 138.33 1145.79 Q135.297 1145.79 133.607 1147.29 Q131.941 1148.79 131.941 1151.48 Z\" fill=\"#000000\" fill-rule=\"nonzero\" fill-opacity=\"1\" /><path clip-path=\"url(#clip570)\" d=\"M63.0291 877.647 Q59.418 877.647 57.5893 881.212 Q55.7838 884.753 55.7838 891.883 Q55.7838 898.989 57.5893 902.554 Q59.418 906.096 63.0291 906.096 Q66.6633 906.096 68.4689 902.554 Q70.2976 898.989 70.2976 891.883 Q70.2976 884.753 68.4689 881.212 Q66.6633 877.647 63.0291 877.647 M63.0291 873.943 Q68.8393 873.943 71.8948 878.55 Q74.9735 883.133 74.9735 891.883 Q74.9735 900.61 71.8948 905.216 Q68.8393 909.8 63.0291 909.8 Q57.2189 909.8 54.1403 905.216 Q51.0847 900.61 51.0847 891.883 Q51.0847 883.133 54.1403 878.55 Q57.2189 873.943 63.0291 873.943 Z\" fill=\"#000000\" fill-rule=\"nonzero\" fill-opacity=\"1\" /><path clip-path=\"url(#clip570)\" d=\"M83.191 903.249 L88.0753 903.249 L88.0753 909.128 L83.191 909.128 L83.191 903.249 Z\" fill=\"#000000\" fill-rule=\"nonzero\" fill-opacity=\"1\" /><path clip-path=\"url(#clip570)\" d=\"M98.3993 908.411 L98.3993 904.152 Q100.159 904.985 101.964 905.425 Q103.77 905.864 105.506 905.864 Q110.135 905.864 112.566 902.763 Q115.02 899.638 115.367 893.295 Q114.024 895.286 111.964 896.351 Q109.904 897.415 107.404 897.415 Q102.219 897.415 99.1863 894.29 Q96.1771 891.142 96.1771 885.703 Q96.1771 880.378 99.3252 877.161 Q102.473 873.943 107.705 873.943 Q113.7 873.943 116.848 878.55 Q120.02 883.133 120.02 891.883 Q120.02 900.054 116.131 904.939 Q112.265 909.8 105.714 909.8 Q103.955 909.8 102.149 909.452 Q100.344 909.105 98.3993 908.411 M107.705 893.758 Q110.853 893.758 112.682 891.605 Q114.533 889.453 114.533 885.703 Q114.533 881.976 112.682 879.823 Q110.853 877.647 107.705 877.647 Q104.557 877.647 102.705 879.823 Q100.876 881.976 100.876 885.703 Q100.876 889.453 102.705 891.605 Q104.557 893.758 107.705 893.758 Z\" fill=\"#000000\" fill-rule=\"nonzero\" fill-opacity=\"1\" /><path clip-path=\"url(#clip570)\" d=\"M128.561 908.411 L128.561 904.152 Q130.32 904.985 132.126 905.425 Q133.931 905.864 135.668 905.864 Q140.297 905.864 142.728 902.763 Q145.181 899.638 145.529 893.295 Q144.186 895.286 142.126 896.351 Q140.066 897.415 137.566 897.415 Q132.381 897.415 129.348 894.29 Q126.339 891.142 126.339 885.703 Q126.339 880.378 129.487 877.161 Q132.635 873.943 137.867 873.943 Q143.862 873.943 147.01 878.55 Q150.181 883.133 150.181 891.883 Q150.181 900.054 146.293 904.939 Q142.427 909.8 135.876 909.8 Q134.117 909.8 132.311 909.452 Q130.506 909.105 128.561 908.411 M137.867 893.758 Q141.015 893.758 142.843 891.605 Q144.695 889.453 144.695 885.703 Q144.695 881.976 142.843 879.823 Q141.015 877.647 137.867 877.647 Q134.719 877.647 132.867 879.823 Q131.038 881.976 131.038 885.703 Q131.038 889.453 132.867 891.605 Q134.719 893.758 137.867 893.758 Z\" fill=\"#000000\" fill-rule=\"nonzero\" fill-opacity=\"1\" /><path clip-path=\"url(#clip570)\" d=\"M53.6541 637.055 L61.293 637.055 L61.293 610.689 L52.9829 612.356 L52.9829 608.096 L61.2467 606.43 L65.9226 606.43 L65.9226 637.055 L73.5614 637.055 L73.5614 640.99 L53.6541 640.99 L53.6541 637.055 Z\" fill=\"#000000\" fill-rule=\"nonzero\" fill-opacity=\"1\" /><path clip-path=\"url(#clip570)\" d=\"M83.0058 635.11 L87.8901 635.11 L87.8901 640.99 L83.0058 640.99 L83.0058 635.11 Z\" fill=\"#000000\" fill-rule=\"nonzero\" fill-opacity=\"1\" /><path clip-path=\"url(#clip570)\" d=\"M108.075 609.508 Q104.464 609.508 102.635 613.073 Q100.83 616.615 100.83 623.744 Q100.83 630.851 102.635 634.416 Q104.464 637.957 108.075 637.957 Q111.709 637.957 113.515 634.416 Q115.344 630.851 115.344 623.744 Q115.344 616.615 113.515 613.073 Q111.709 609.508 108.075 609.508 M108.075 605.805 Q113.885 605.805 116.941 610.411 Q120.02 614.995 120.02 623.744 Q120.02 632.471 116.941 637.078 Q113.885 641.661 108.075 641.661 Q102.265 641.661 99.1863 637.078 Q96.1308 632.471 96.1308 623.744 Q96.1308 614.995 99.1863 610.411 Q102.265 605.805 108.075 605.805 Z\" fill=\"#000000\" fill-rule=\"nonzero\" fill-opacity=\"1\" /><path clip-path=\"url(#clip570)\" d=\"M138.237 609.508 Q134.626 609.508 132.797 613.073 Q130.992 616.615 130.992 623.744 Q130.992 630.851 132.797 634.416 Q134.626 637.957 138.237 637.957 Q141.871 637.957 143.677 634.416 Q145.506 630.851 145.506 623.744 Q145.506 616.615 143.677 613.073 Q141.871 609.508 138.237 609.508 M138.237 605.805 Q144.047 605.805 147.103 610.411 Q150.181 614.995 150.181 623.744 Q150.181 632.471 147.103 637.078 Q144.047 641.661 138.237 641.661 Q132.427 641.661 129.348 637.078 Q126.293 632.471 126.293 623.744 Q126.293 614.995 129.348 610.411 Q132.427 605.805 138.237 605.805 Z\" fill=\"#000000\" fill-rule=\"nonzero\" fill-opacity=\"1\" /><path clip-path=\"url(#clip570)\" d=\"M54.881 368.916 L62.5198 368.916 L62.5198 342.55 L54.2097 344.217 L54.2097 339.958 L62.4735 338.291 L67.1494 338.291 L67.1494 368.916 L74.7883 368.916 L74.7883 372.851 L54.881 372.851 L54.881 368.916 Z\" fill=\"#000000\" fill-rule=\"nonzero\" fill-opacity=\"1\" /><path clip-path=\"url(#clip570)\" d=\"M84.2327 366.972 L89.1169 366.972 L89.1169 372.851 L84.2327 372.851 L84.2327 366.972 Z\" fill=\"#000000\" fill-rule=\"nonzero\" fill-opacity=\"1\" /><path clip-path=\"url(#clip570)\" d=\"M109.302 341.37 Q105.691 341.37 103.862 344.935 Q102.057 348.476 102.057 355.606 Q102.057 362.712 103.862 366.277 Q105.691 369.819 109.302 369.819 Q112.936 369.819 114.742 366.277 Q116.57 362.712 116.57 355.606 Q116.57 348.476 114.742 344.935 Q112.936 341.37 109.302 341.37 M109.302 337.666 Q115.112 337.666 118.168 342.273 Q121.246 346.856 121.246 355.606 Q121.246 364.333 118.168 368.939 Q115.112 373.522 109.302 373.522 Q103.492 373.522 100.413 368.939 Q97.3576 364.333 97.3576 355.606 Q97.3576 346.856 100.413 342.273 Q103.492 337.666 109.302 337.666 Z\" fill=\"#000000\" fill-rule=\"nonzero\" fill-opacity=\"1\" /><path clip-path=\"url(#clip570)\" d=\"M130.274 368.916 L137.913 368.916 L137.913 342.55 L129.603 344.217 L129.603 339.958 L137.867 338.291 L142.543 338.291 L142.543 368.916 L150.181 368.916 L150.181 372.851 L130.274 372.851 L130.274 368.916 Z\" fill=\"#000000\" fill-rule=\"nonzero\" fill-opacity=\"1\" /><path clip-path=\"url(#clip570)\" d=\"M55.2514 100.777 L62.8902 100.777 L62.8902 74.4118 L54.5801 76.0784 L54.5801 71.8192 L62.8439 70.1526 L67.5198 70.1526 L67.5198 100.777 L75.1587 100.777 L75.1587 104.713 L55.2514 104.713 L55.2514 100.777 Z\" fill=\"#000000\" fill-rule=\"nonzero\" fill-opacity=\"1\" /><path clip-path=\"url(#clip570)\" d=\"M84.6031 98.833 L89.4873 98.833 L89.4873 104.713 L84.6031 104.713 L84.6031 98.833 Z\" fill=\"#000000\" fill-rule=\"nonzero\" fill-opacity=\"1\" /><path clip-path=\"url(#clip570)\" d=\"M109.672 73.2312 Q106.061 73.2312 104.233 76.796 Q102.427 80.3377 102.427 87.4673 Q102.427 94.5737 104.233 98.1385 Q106.061 101.68 109.672 101.68 Q113.307 101.68 115.112 98.1385 Q116.941 94.5737 116.941 87.4673 Q116.941 80.3377 115.112 76.796 Q113.307 73.2312 109.672 73.2312 M109.672 69.5276 Q115.483 69.5276 118.538 74.134 Q121.617 78.7173 121.617 87.4673 Q121.617 96.1941 118.538 100.801 Q115.483 105.384 109.672 105.384 Q103.862 105.384 100.784 100.801 Q97.728 96.1941 97.728 87.4673 Q97.728 78.7173 100.784 74.134 Q103.862 69.5276 109.672 69.5276 Z\" fill=\"#000000\" fill-rule=\"nonzero\" fill-opacity=\"1\" /><path clip-path=\"url(#clip570)\" d=\"M133.862 100.777 L150.181 100.777 L150.181 104.713 L128.237 104.713 L128.237 100.777 Q130.899 98.0228 135.482 93.3932 Q140.089 88.7404 141.269 87.3978 Q143.515 84.8747 144.394 83.1386 Q145.297 81.3793 145.297 79.6895 Q145.297 76.9349 143.353 75.1988 Q141.431 73.4627 138.33 73.4627 Q136.131 73.4627 133.677 74.2266 Q131.246 74.9905 128.469 76.5414 L128.469 71.8192 Q131.293 70.685 133.746 70.1063 Q136.2 69.5276 138.237 69.5276 Q143.607 69.5276 146.802 72.2127 Q149.996 74.8979 149.996 79.3886 Q149.996 81.5182 149.186 83.4395 Q148.399 85.3377 146.293 87.9302 Q145.714 88.6015 142.612 91.8191 Q139.51 95.0135 133.862 100.777 Z\" fill=\"#000000\" fill-rule=\"nonzero\" fill-opacity=\"1\" /><path clip-path=\"url(#clip572)\" d=\"M1269.47 1221.99 L758.484 1221.99 L1780.45 1221.99 L1269.47 1221.99 L1269.47 913.36 L1269.47 1221.99  Z\" fill=\"#009af9\" fill-rule=\"evenodd\" fill-opacity=\"1\"/>\n",
       "<polyline clip-path=\"url(#clip572)\" style=\"stroke:#000000; stroke-linecap:round; stroke-linejoin:round; stroke-width:4; stroke-opacity:1; fill:none\" points=\"1269.47,1221.99 758.484,1221.99 1780.45,1221.99 1269.47,1221.99 1269.47,913.36 1269.47,1221.99 \"/>\n",
       "<path clip-path=\"url(#clip572)\" d=\"M2291.44 913.36 L2291.44 740.911 L247.5 740.911 L247.5 913.36 L2291.44 913.36 L2291.44 740.911 L2291.44 913.36  Z\" fill=\"#009af9\" fill-rule=\"evenodd\" fill-opacity=\"1\"/>\n",
       "<polyline clip-path=\"url(#clip572)\" style=\"stroke:#000000; stroke-linecap:round; stroke-linejoin:round; stroke-width:4; stroke-opacity:1; fill:none\" points=\"2291.44,913.36 2291.44,740.911 247.5,740.911 247.5,913.36 2291.44,913.36 2291.44,740.911 2291.44,913.36 \"/>\n",
       "<path clip-path=\"url(#clip572)\" d=\"M2291.44 595.401 L247.5 595.401 L247.5 740.911 L2291.44 740.911 L2291.44 595.401 L1269.47 595.401 L2291.44 595.401  Z\" fill=\"#009af9\" fill-rule=\"evenodd\" fill-opacity=\"1\"/>\n",
       "<polyline clip-path=\"url(#clip572)\" style=\"stroke:#000000; stroke-linecap:round; stroke-linejoin:round; stroke-width:4; stroke-opacity:1; fill:none\" points=\"2291.44,595.401 247.5,595.401 247.5,740.911 2291.44,740.911 2291.44,595.401 1269.47,595.401 2291.44,595.401 \"/>\n",
       "<path clip-path=\"url(#clip572)\" d=\"M1269.47 178.938 L758.484 178.938 L1780.45 178.938 L1269.47 178.938 L1269.47 595.401 L1269.47 178.938  Z\" fill=\"#009af9\" fill-rule=\"evenodd\" fill-opacity=\"1\"/>\n",
       "<polyline clip-path=\"url(#clip572)\" style=\"stroke:#000000; stroke-linecap:round; stroke-linejoin:round; stroke-width:4; stroke-opacity:1; fill:none\" points=\"1269.47,178.938 758.484,178.938 1780.45,178.938 1269.47,178.938 1269.47,595.401 1269.47,178.938 \"/>\n",
       "<circle clip-path=\"url(#clip572)\" cx=\"1269.47\" cy=\"87.9763\" r=\"14.4\" fill=\"#009af9\" fill-rule=\"evenodd\" fill-opacity=\"1\" stroke=\"#000000\" stroke-opacity=\"1\" stroke-width=\"3.2\"/>\n",
       "<circle clip-path=\"url(#clip572)\" cx=\"1269.47\" cy=\"1445.72\" r=\"14.4\" fill=\"#009af9\" fill-rule=\"evenodd\" fill-opacity=\"1\" stroke=\"#000000\" stroke-opacity=\"1\" stroke-width=\"3.2\"/>\n",
       "<polyline clip-path=\"url(#clip572)\" style=\"stroke:#009af9; stroke-linecap:round; stroke-linejoin:round; stroke-width:0; stroke-opacity:1; fill:none\" points=\"1269.47,1221.99 758.484,1221.99 1780.45,1221.99 1269.47,1221.99 1269.47,913.36 \"/>\n",
       "<polyline clip-path=\"url(#clip572)\" style=\"stroke:#009af9; stroke-linecap:round; stroke-linejoin:round; stroke-width:0; stroke-opacity:1; fill:none\" points=\"2291.44,913.36 2291.44,740.911 247.5,740.911 247.5,913.36 2291.44,913.36 2291.44,740.911 \"/>\n",
       "<polyline clip-path=\"url(#clip572)\" style=\"stroke:#009af9; stroke-linecap:round; stroke-linejoin:round; stroke-width:0; stroke-opacity:1; fill:none\" points=\"2291.44,595.401 247.5,595.401 247.5,740.911 2291.44,740.911 2291.44,595.401 1269.47,595.401 \"/>\n",
       "<polyline clip-path=\"url(#clip572)\" style=\"stroke:#009af9; stroke-linecap:round; stroke-linejoin:round; stroke-width:0; stroke-opacity:1; fill:none\" points=\"1269.47,178.938 758.484,178.938 1780.45,178.938 1269.47,178.938 1269.47,595.401 \"/>\n",
       "<path clip-path=\"url(#clip570)\" d=\"M2011.45 198.898 L2280.54 198.898 L2280.54 95.2176 L2011.45 95.2176  Z\" fill=\"#ffffff\" fill-rule=\"evenodd\" fill-opacity=\"1\"/>\n",
       "<polyline clip-path=\"url(#clip570)\" style=\"stroke:#000000; stroke-linecap:round; stroke-linejoin:round; stroke-width:4; stroke-opacity:1; fill:none\" points=\"2011.45,198.898 2280.54,198.898 2280.54,95.2176 2011.45,95.2176 2011.45,198.898 \"/>\n",
       "<path clip-path=\"url(#clip570)\" d=\"M2035.52 167.794 L2179.96 167.794 L2179.96 126.322 L2035.52 126.322 L2035.52 167.794  Z\" fill=\"#009af9\" fill-rule=\"evenodd\" fill-opacity=\"1\"/>\n",
       "<polyline clip-path=\"url(#clip570)\" style=\"stroke:#000000; stroke-linecap:round; stroke-linejoin:round; stroke-width:4; stroke-opacity:1; fill:none\" points=\"2035.52,167.794 2179.96,167.794 2179.96,126.322 2035.52,126.322 2035.52,167.794 \"/>\n",
       "<path clip-path=\"url(#clip570)\" d=\"M2217.88 166.745 Q2216.07 171.375 2214.36 172.787 Q2212.64 174.199 2209.77 174.199 L2206.37 174.199 L2206.37 170.634 L2208.87 170.634 Q2210.63 170.634 2211.6 169.8 Q2212.58 168.967 2213.76 165.865 L2214.52 163.921 L2204.03 138.412 L2208.55 138.412 L2216.65 158.689 L2224.75 138.412 L2229.26 138.412 L2217.88 166.745 Z\" fill=\"#000000\" fill-rule=\"nonzero\" fill-opacity=\"1\" /><path clip-path=\"url(#clip570)\" d=\"M2236.56 160.402 L2244.2 160.402 L2244.2 134.037 L2235.89 135.703 L2235.89 131.444 L2244.15 129.778 L2248.82 129.778 L2248.82 160.402 L2256.46 160.402 L2256.46 164.338 L2236.56 164.338 L2236.56 160.402 Z\" fill=\"#000000\" fill-rule=\"nonzero\" fill-opacity=\"1\" /></svg>\n"
      ]
     },
     "execution_count": 58,
     "metadata": {},
     "output_type": "execute_result"
    }
   ],
   "source": [
    "\n"
   ]
  },
  {
   "cell_type": "code",
   "execution_count": null,
   "id": "03397caf-baa9-43f6-a40e-e0375216770e",
   "metadata": {},
   "outputs": [],
   "source": []
  }
 ],
 "metadata": {
  "kernelspec": {
   "display_name": "Julia 1.8.0",
   "language": "julia",
   "name": "julia-1.8"
  },
  "language_info": {
   "file_extension": ".jl",
   "mimetype": "application/julia",
   "name": "julia",
   "version": "1.8.0"
  }
 },
 "nbformat": 4,
 "nbformat_minor": 5
}

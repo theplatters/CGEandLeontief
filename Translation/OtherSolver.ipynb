{
 "cells": [
  {
   "cell_type": "code",
   "execution_count": 2,
   "id": "80563cd6-b3d0-48cd-8e33-da93a826f1a2",
   "metadata": {},
   "outputs": [
    {
     "data": {
      "text/plain": [
       "mvnrnd (generic function with 1 method)"
      ]
     },
     "metadata": {},
     "output_type": "display_data"
    }
   ],
   "source": [
    "using MAT, Statistics, LinearAlgebra,Random, Plots, NonlinearSolve\n",
    "using StaticArrays, ForwardDiff, Distributed, StaticArrays, SciMLNLSolve, SimpleNonlinearSolve, LineSearches, NLsolve\n",
    "include(\"mvnrnd.jl\")"
   ]
  },
  {
   "cell_type": "code",
   "execution_count": 3,
   "id": "6f39525d-5736-43dd-a5bd-4e5855cb3ec3",
   "metadata": {},
   "outputs": [],
   "source": [
    "function string_as_varname(s::AbstractString,v::Any)\n",
    "    s=Symbol(s)\n",
    "    if size(v,2) == 1 # check if v is a column vector\n",
    "        @eval (($s) = (vec($v)))\n",
    "    else\n",
    "        @eval (($s) = ($v))\n",
    "    end\n",
    "end\n",
    "\n",
    "file = matopen(\"simulationData.mat\")\n",
    "\n",
    "#Reads in ju[IO, price, Omega, data, labor, mu, aggtfp, alpha, grossy, stfp, beta, agggdp, Sigma, capital, vadd]\n",
    "\n",
    "varnames = names(file)\n",
    "for varname in varnames\n",
    "    val = read(file, varname)\n",
    "    # Instantiate the variable with its name in the current scope\n",
    "    string_as_varname(varname,val)\n",
    "    end\n",
    "\n",
    "close(file)\n",
    "\n"
   ]
  },
  {
   "cell_type": "code",
   "execution_count": 4,
   "id": "92a41374-e6c9-4087-bef6-8d0a25cf1df1",
   "metadata": {},
   "outputs": [
    {
     "data": {
      "text/plain": [
       "getVariables (generic function with 1 method)"
      ]
     },
     "metadata": {},
     "output_type": "display_data"
    }
   ],
   "source": [
    "function getVariables(year)\n",
    "    IO = data[data[:,1] .== year,:]\n",
    "    temp = [8,60,62,80:88...]\n",
    "    IO = IO[setdiff(1:end,temp),setdiff(1:end,[1,2,3,4,5,94])]\n",
    "    IO = IO[:,setdiff(1:end,temp)]\n",
    "    Ω = IO ./ sum(IO,dims=2)\n",
    "    α = vadd[:,year-1959] ./ grossy[:,year-1959];\n",
    "    β = (grossy[:,year-1959]' * (I-diagm(1 .- α)*Ω))';\n",
    "    β[beta .< 0] .= 0\n",
    "    β = β / sum(β)\n",
    "    λ = (inv(I - diagm(1 .- alpha)*Ω)' * β);\n",
    "    L = λ .* α\n",
    "    \n",
    "    return α,β,Ω,L,λ\n",
    "\n",
    "end"
   ]
  },
  {
   "cell_type": "code",
   "execution_count": 5,
   "id": "d3b7fad9-cd21-465e-8cdb-a68e7e4c06a7",
   "metadata": {},
   "outputs": [],
   "source": [
    "domar_weights = (inv(I - diagm(1 .- alpha) * Omega)' * beta);\n",
    "L = domar_weights .* alpha;"
   ]
  },
  {
   "cell_type": "code",
   "execution_count": 6,
   "id": "5407a7de-552b-4673-bd43-56f93ffd9a10",
   "metadata": {},
   "outputs": [],
   "source": [
    "ε = .5;\n",
    "θ = 0.001;\n",
    "σ = .9;"
   ]
  },
  {
   "cell_type": "code",
   "execution_count": 7,
   "id": "d1c7f6e2-41ff-4b34-b25e-ab7f917c4c4a",
   "metadata": {},
   "outputs": [
    {
     "data": {
      "text/plain": [
       "problem (generic function with 1 method)"
      ]
     },
     "metadata": {},
     "output_type": "display_data"
    }
   ],
   "source": [
    "function problem(X :: AbstractVector{T}, A, β, Ω, α, ε, θ, σ,L) where T\n",
    "\n",
    "\n",
    "\n",
    "    N = length(α)\n",
    "    p = X[1:N]\n",
    "    y = X[N+1:end]\n",
    "    \n",
    "    Out :: Vector{T} = zeros(eltype(X),2*N)\n",
    "    \n",
    "    q = (Ω * p .^ (1-θ)) .^ (1 / (1 - θ))\n",
    "    w = p .* (A .^ ((ε - 1)/ε)) .* (α .^ (1 / ε)) .* (y .^ (1/ε)) .* L .^ (-1/ε)\n",
    "    C = w' * L\n",
    "  \n",
    "    Out[1:N] = p - (A .^ (ε - 1) .* (α .* w .^ (1- ε) + (1 .- α) .* q .^ (1 - ε))) .^ (1/(1-ε))\n",
    "    Out[N+1:end] = y' - y' * diagm(p)^ε * diagm(A)^(ε-1) * diagm(q)^(θ-ε) * diagm(1 .- α) * Ω * diagm(p)^(-θ) - β'*diagm(p)^(-σ)*C\n",
    "    \n",
    "    return Out\n",
    "end"
   ]
  },
  {
   "cell_type": "code",
   "execution_count": 8,
   "id": "fef6c5c7-12cf-477e-adcc-64745c53e590",
   "metadata": {},
   "outputs": [
    {
     "data": {
      "text/plain": [
       "problemJacobian (generic function with 1 method)"
      ]
     },
     "metadata": {},
     "output_type": "display_data"
    }
   ],
   "source": [
    "function problemJacobian(X, A, β, Ω, α, ε, θ, σ,L)\n",
    "    N = length(α)\n",
    "    p = @view X[1:N]\n",
    "    y = @view X[N+1:end]\n",
    "    \n",
    "    Out = zeros(eltype(X),2*N)\n",
    "    \n",
    "    q = (Ω * p .^ (1-θ)) .^ (1 / (1 - θ))\n",
    "    w = p .* (A .^ ((ε - 1)/ε)) .* (α .^ (1 / ε)) .* (y .^ (1/ε)) .* L .^ (-1/ε)\n",
    "    C = w' * L\n",
    "  \n",
    "    \n",
    "    DQDP = (q .^ θ * (p.^(-θ))') .* Ω;\n",
    "    DWDP = diagm(A.^((ε-1)/ε) .* α.^(1/ε) .* y.^(1/ε) .* (1 ./ L).^(1/ε));\n",
    "    DWDY = (1/ε) * diagm(p .* A.^((ε-1)/ε) .* α.^(1/ε).* (y.^(1/ε-1)) .* L.^(-1/ε));\n",
    "    DCDP = DWDP' * L; \n",
    "    DCDY = DWDY' * L;\n",
    "\n",
    "    DOut1DP = I - diagm(diagm(A)^(-1) * ((α .* (w .^ (1-ε)) + (1 .- α) .* (q.^(1-ε)))).^(ε/(1-ε))) * (diagm(α) * diagm(w.^(-ε))* DWDP + diagm(1 .-α)*diagm(q.^(-ε))*DQDP);\n",
    "\n",
    "    DOut1DY =  -diagm(diagm(A.^(-1))*((α.*(w.^(1-ε))+(1 .- α).*(q.^(1-ε)))).^(ε/(1-ε)))*(diagm(α)*diagm(w.^(-ε))*DWDY);\n",
    "\n",
    "    DOut2DP = -(ε * diagm(p.^(-θ))*Ω'*diagm((p.^(ε-1)).*(y).*(q.^(θ-ε)).*(1 .- α).*(A.^(ε-1)))\n",
    "        + (θ-ε)*diagm(p.^(-θ))*Ω'*diagm((p.^(ε)).*(y).*(q.^(θ-ε-1)).*(1 .- α).*(A.^(ε-1)))*DQDP \n",
    "        - σ*diagm(β.*p.^(-σ-1))*C + broadcast(*, β.*(p.^(-σ)), DCDP')\n",
    "        - θ* diagm(p.^(-θ-1)).*diagm(Ω'*diagm((p.^(ε)).*(q.^(θ-ε)).*(1 .- α).*(A.^(ε-1)))*y));\n",
    "\n",
    "    DOut2DY = I - (diagm(p)^ε*diagm(A)^(ε-1)*diagm(q)^(θ-ε)*diagm(1 .- α)*Ω*diagm(p)^(-θ))' - broadcast(*, β.*(p.^(-σ)), DCDY');\n",
    "    OutDeriv = [DOut1DP DOut1DY; DOut2DP DOut2DY];\n",
    "\n",
    "end"
   ]
  },
  {
   "cell_type": "code",
   "execution_count": 27,
   "id": "dc46bb84-b76f-4170-9133-28ccfc044961",
   "metadata": {},
   "outputs": [
    {
     "ename": "DomainError",
     "evalue": "DomainError with -14.677858914341611:\nExponentiation yielding a complex result requires a complex argument.\nReplace x^y with (x+0im)^y, Complex(x)^y, or similar.",
     "output_type": "error",
     "traceback": [
      "DomainError with -14.677858914341611:\n",
      "Exponentiation yielding a complex result requires a complex argument.\n",
      "Replace x^y with (x+0im)^y, Complex(x)^y, or similar.\n",
      "\n",
      "Stacktrace:\n",
      "  [1] _broadcast_getindex_evalf\n",
      "    @ ./broadcast.jl:670 [inlined]\n",
      "  [2] _broadcast_getindex\n",
      "    @ ./broadcast.jl:643 [inlined]\n",
      "  [3] getindex\n",
      "    @ ./broadcast.jl:597 [inlined]\n",
      "  [4] macro expansion\n",
      "    @ ./broadcast.jl:961 [inlined]\n",
      "  [5] macro expansion\n",
      "    @ ./simdloop.jl:77 [inlined]\n",
      "  [6] copyto!\n",
      "    @ ./broadcast.jl:960 [inlined]\n",
      "  [7] copyto!\n",
      "    @ ./broadcast.jl:913 [inlined]\n",
      "  [8] copy\n",
      "    @ ./broadcast.jl:885 [inlined]\n",
      "  [9] materialize\n",
      "    @ ./broadcast.jl:860 [inlined]\n",
      " [10] problem(X::Vector{Float64}, A::Vector{Float64}, β::Vector{Float64}, Ω::Matrix{Float64}, α::Vector{Float64}, ε::Float64, θ::Float64, σ::Float64, L::Vector{Float64})\n",
      "    @ Main ~/Schreibtisch/BeyondHulten/Translation/OtherSolver.ipynb:11\n",
      " [11] f!(F::Vector{Float64}, u::Vector{Float64}, p::Vector{Float64})\n",
      "    @ Main ~/Schreibtisch/BeyondHulten/Translation/OtherSolver.ipynb:6\n",
      " [12] NonlinearFunction\n",
      "    @ ~/.julia/packages/SciMLBase/VdcHg/src/scimlfunctions.jl:2127 [inlined]\n",
      " [13] #15\n",
      "    @ ~/.julia/packages/SciMLNLSolve/ilvaf/src/solve.jl:56 [inlined]\n",
      " [14] (::NLSolversBase.var\"#fj_finitediff!#21\"{SciMLNLSolve.var\"#15#30\"{NonlinearProblem{Vector{Float64}, true, Vector{Float64}, NonlinearFunction{true, SciMLBase.FullSpecialize, typeof(f!), UniformScaling{Bool}, Nothing, Nothing, Nothing, Nothing, Nothing, Nothing, Nothing, Nothing, Nothing, Nothing, Nothing, Nothing, typeof(SciMLBase.DEFAULT_OBSERVED_NO_TIME), Nothing, Nothing}, Base.Pairs{Symbol, Union{}, Tuple{}, NamedTuple{(), Tuple{}}}, SciMLBase.StandardNonlinearProblem}, Vector{Float64}}, FiniteDiff.JacobianCache{Vector{Float64}, Vector{Float64}, Vector{Float64}, Vector{Float64}, UnitRange{Int64}, Nothing, Val{:central}(), Float64}})(F::Vector{Float64}, J::Matrix{Float64}, x::Vector{Float64})\n",
      "    @ NLSolversBase ~/.julia/packages/NLSolversBase/kavn7/src/objective_types/oncedifferentiable.jl:138\n",
      " [15] value_jacobian!!(obj::OnceDifferentiable{Vector{Float64}, Matrix{Float64}, Vector{Float64}}, F::Vector{Float64}, J::Matrix{Float64}, x::Vector{Float64})\n",
      "    @ NLSolversBase ~/.julia/packages/NLSolversBase/kavn7/src/interface.jl:124\n",
      " [16] value_jacobian!(obj::OnceDifferentiable{Vector{Float64}, Matrix{Float64}, Vector{Float64}}, F::Vector{Float64}, J::Matrix{Float64}, x::Vector{Float64})\n",
      "    @ NLSolversBase ~/.julia/packages/NLSolversBase/kavn7/src/interface.jl:114\n",
      " [17] value_jacobian!\n",
      "    @ ~/.julia/packages/NLSolversBase/kavn7/src/interface.jl:111 [inlined]\n",
      " [18] (::NLsolve.var\"#fgo!#6\"{OnceDifferentiable{Vector{Float64}, Matrix{Float64}, Vector{Float64}}, Vector{Float64}})(storage::Vector{Float64}, xlin::Vector{Float64})\n",
      "    @ NLsolve ~/.julia/packages/NLsolve/gJL1I/src/solvers/newton.jl:79\n",
      " [19] value_gradient!!(obj::OnceDifferentiable{Float64, Vector{Float64}, Vector{Float64}}, x::Vector{Float64})\n",
      "    @ NLSolversBase ~/.julia/packages/NLSolversBase/kavn7/src/interface.jl:82\n",
      " [20] value_gradient!(obj::OnceDifferentiable{Float64, Vector{Float64}, Vector{Float64}}, x::Vector{Float64})\n",
      "    @ NLSolversBase ~/.julia/packages/NLSolversBase/kavn7/src/interface.jl:69\n",
      " [21] (::LineSearches.var\"#ϕdϕ#6\"{OnceDifferentiable{Float64, Vector{Float64}, Vector{Float64}}, Vector{Float64}, Vector{Float64}, Vector{Float64}})(α::Float64)\n",
      "    @ LineSearches ~/.julia/packages/LineSearches/G1LRk/src/LineSearches.jl:84\n",
      " [22] (::HagerZhang{Float64, Base.RefValue{Bool}})(ϕ::Function, ϕdϕ::LineSearches.var\"#ϕdϕ#6\"{OnceDifferentiable{Float64, Vector{Float64}, Vector{Float64}}, Vector{Float64}, Vector{Float64}, Vector{Float64}}, c::Float64, phi_0::Float64, dphi_0::Float64)\n",
      "    @ LineSearches ~/.julia/packages/LineSearches/G1LRk/src/hagerzhang.jl:139\n",
      " [23] HagerZhang\n",
      "    @ ~/.julia/packages/LineSearches/G1LRk/src/hagerzhang.jl:101 [inlined]\n",
      " [24] newton_(df::OnceDifferentiable{Vector{Float64}, Matrix{Float64}, Vector{Float64}}, initial_x::Vector{Float64}, xtol::Float64, ftol::Float64, iterations::Int64, store_trace::Bool, show_trace::Bool, extended_trace::Bool, linesearch::HagerZhang{Float64, Base.RefValue{Bool}}, linsolve::SciMLNLSolve.var\"#3#5\", cache::NLsolve.NewtonCache{Vector{Float64}})\n",
      "    @ NLsolve ~/.julia/packages/NLsolve/gJL1I/src/solvers/newton.jl:119\n",
      " [25] #newton#7\n",
      "    @ ~/.julia/packages/NLsolve/gJL1I/src/solvers/newton.jl:146 [inlined]\n",
      " [26] nlsolve(df::OnceDifferentiable{Vector{Float64}, Matrix{Float64}, Vector{Float64}}, initial_x::Vector{Float64}; method::Symbol, xtol::Float64, ftol::Float64, iterations::Int64, store_trace::Bool, show_trace::Bool, extended_trace::Bool, linesearch::HagerZhang{Float64, Base.RefValue{Bool}}, linsolve::SciMLNLSolve.var\"#3#5\", factor::Float64, autoscale::Bool, m::Int64, beta::Float64, aa_start::Int64, droptol::Float64)\n",
      "    @ NLsolve ~/.julia/packages/NLsolve/gJL1I/src/nlsolve/nlsolve.jl:23\n",
      " [27] __solve(::NonlinearProblem{Vector{Float64}, true, Vector{Float64}, NonlinearFunction{true, SciMLBase.FullSpecialize, typeof(f!), UniformScaling{Bool}, Nothing, Nothing, Nothing, Nothing, Nothing, Nothing, Nothing, Nothing, Nothing, Nothing, Nothing, Nothing, typeof(SciMLBase.DEFAULT_OBSERVED_NO_TIME), Nothing, Nothing}, Base.Pairs{Symbol, Union{}, Tuple{}, NamedTuple{(), Tuple{}}}, SciMLBase.StandardNonlinearProblem}, ::NLSolveJL{HagerZhang{Float64, Base.RefValue{Bool}}, SciMLNLSolve.var\"#3#5\"}; abstol::Float64, maxiters::Int64, kwargs::Base.Pairs{Symbol, Float64, Tuple{Symbol}, NamedTuple{(:reltol,), Tuple{Float64}}})\n",
      "    @ SciMLNLSolve ~/.julia/packages/SciMLNLSolve/ilvaf/src/solve.jl:91\n",
      " [28] #solve_call#22\n",
      "    @ ~/.julia/packages/DiffEqBase/ihYDa/src/solve.jl:509 [inlined]\n",
      " [29] #solve_up#29\n",
      "    @ ~/.julia/packages/DiffEqBase/ihYDa/src/solve.jl:940 [inlined]\n",
      " [30] #solve#28\n",
      "    @ ~/.julia/packages/DiffEqBase/ihYDa/src/solve.jl:899 [inlined]\n",
      " [31] top-level scope\n",
      "    @ ~/Schreibtisch/BeyondHulten/Translation/OtherSolver.ipynb:28"
     ]
    }
   ],
   "source": [
    "trials = 50;\n",
    "GDP = zeros(trials)\n",
    "λ = zeros(76,trials)\n",
    "\n",
    "function f!(F,u,p)\n",
    "    F[1:152] = problem(u,p,beta,Omega,alpha,ε,θ,σ,L)\n",
    "end\n",
    "\n",
    "function j!(J,u,p)\n",
    "    J[1:152,1:152] = problemJacobian(u,p,beta,Omega,alpha,ε,θ,σ,L)\n",
    "end\n",
    "\n",
    "f = NonlinearFunction(f!)\n",
    "\n",
    "Threads.@threads for k in 1:trials\n",
    "    \n",
    "        \n",
    "    A = exp.(mvnrnd(-1/2*diag(Sigma),diagm(diag(Sigma))));\n",
    "    \n",
    "    init = [Complex.(exp.(-inv(I - diagm(1 .- alpha)*Omega)*log.(A)))..., Complex.(domar_weights ./exp.(-inv(I - diagm(1 .- alpha) * Omega)*log.(A)))...];\n",
    "    \n",
    "    #init = [exp.(-inv(I - diagm(1 .- alpha)*Omega)*log.(A))..., (domar_weights ./exp.(-inv(I - diagm(1 .- alpha) * Omega)*log.(A)))...]\n",
    "\n",
    "\n",
    "    p = A\n",
    "\n",
    "    ProbN = NonlinearProblem(f,init,p)\n",
    "    sol = solve(ProbN,NLSolveJL(linesearch = HagerZhang(),method = :newton), reltol = 1e-8,abstol = 1e-8)\n",
    "\n",
    "    x = sol.u\n",
    "    println(\"solv\")\n",
    "\n",
    "    GDP[k] = (x[1:76] .* (A .^ ((ε-1)/ε)).*(alpha.^(1/ε)).*(x[77:152].^(1/ε)).* L .^ (-1/ε))' * L;\n",
    "    λ[:,k] = (x[1:76] .* x[77:end]) / GDP[k] \n",
    "\n",
    "\n",
    "        \n",
    "end"
   ]
  },
  {
   "cell_type": "code",
   "execution_count": 9,
   "id": "0456f0e7",
   "metadata": {},
   "outputs": [
    {
     "data": {
      "text/plain": [
       "shockSectorProgressively (generic function with 2 methods)"
      ]
     },
     "metadata": {},
     "output_type": "display_data"
    }
   ],
   "source": [
    "function shockSectorProgressively(sector,shocks,x0,year = 1983)\n",
    "\n",
    "    (α,β,Ω,L,λ) = getVariables(year);\n",
    "    f = NonlinearFunction((u,p) -> problem(u,p...))\n",
    "    GDP = []\n",
    "    for shock in shocks\n",
    "        A  = ones(76)\n",
    "        A[sector] = shock\n",
    "        \n",
    "        \n",
    "    \n",
    "    \n",
    "        p = [A,β,Ω,α,ε,θ,σ,L]\n",
    "        ProbN = NonlinearProblem(f,x0,p)\n",
    "        \n",
    "        sol = solve(ProbN,NLSolveJL(linesearch = BackTracking(),method = :newton), reltol = 1e-10,abstol = 1e-8)\n",
    "        \n",
    "        x = sol.u\n",
    "        \n",
    "        p = real.(x[1:76]) \n",
    "        y = real.(x[77:152])\n",
    "        append!(GDP, (p .* (A .^ ((ε-1)/ε)).*(alpha.^(1/ε)).*(y.^(1/ε)).* L .^ (-1/ε))' * L)\n",
    "\n",
    "\n",
    "        x0 =  x\n",
    "    end\n",
    "\n",
    "    return GDP\n",
    "\n",
    "end"
   ]
  },
  {
   "cell_type": "code",
   "execution_count": 10,
   "id": "1f6d3d5b-e0ee-4aab-9795-3a0fead20e26",
   "metadata": {},
   "outputs": [
    {
     "data": {
      "text/plain": [
       "Task (done) @0x00007f67aaa75710"
      ]
     },
     "metadata": {},
     "output_type": "display_data"
    }
   ],
   "source": [
    "year = 1979\n",
    "M = 10\n",
    "\n",
    "a = 0.7;\n",
    "b = 1.3;\n",
    "\n",
    "(α,β,Ω,L,λ) = getVariables(year);\n",
    "\n",
    "\n",
    "GDP = zeros(2*M,3)\n",
    "sectors = [7 8 53]\n",
    "sectorShocks = [LinRange(1,a,M)..., LinRange(1,b,M)...]\n",
    "\n",
    "\n",
    "Threads.@threads for i in 1:length(sectors)\n",
    "    \n",
    "    x0 = Complex.([ones(76)...,λ...]);\n",
    "\n",
    "    GDP[1:M,i] = shockSectorProgressively(sectors[i],LinRange(1,a,M),x0,year)\n",
    "    GDP[M+1:end,i] =  shockSectorProgressively(sectors[i],LinRange(1,b,M),x0,year)\n",
    "\n",
    "    \n",
    "end\n",
    "\n",
    "\n"
   ]
  },
  {
   "cell_type": "code",
   "execution_count": 11,
   "id": "def4be44",
   "metadata": {},
   "outputs": [
    {
     "data": {
      "text/plain": [
       "19×3 Matrix{Float64}:\n",
       " 3.3907    4.9875   1.01261\n",
       " 0.99162   2.71701  1.01394\n",
       " 0.992212  1.00974  1.01198\n",
       " 0.993508  1.00788  1.01086\n",
       " 0.9967    1.00619  1.00971\n",
       " 1.00181   1.00928  1.00905\n",
       " 1.00388   1.00965  1.0093\n",
       " 1.00875   1.01141  1.00807\n",
       " 1.00992   1.01204  1.01142\n",
       " 1.00961   1.00961  1.00961\n",
       " 1.0092    1.00792  1.00835\n",
       " 1.0098    1.0086   1.00747\n",
       " 1.00924   1.00683  1.00664\n",
       " 1.00981   1.0063   1.00497\n",
       " 1.00934   1.00562  1.00439\n",
       " 1.00891   1.00501  1.00291\n",
       " 1.00876   1.00459  1.0015\n",
       " 1.00839   1.00286  1.00017\n",
       " 1.00826   1.00359  0.999687"
      ]
     },
     "metadata": {},
     "output_type": "display_data"
    }
   ],
   "source": [
    "\n",
    "@views reverse!(GDP[1:M,:],dims=1)\n",
    "GDP = GDP[setdiff(1:end,M),:]"
   ]
  },
  {
   "cell_type": "code",
   "execution_count": 14,
   "id": "ea60396b-5f8b-4375-b053-355a44c2eca8",
   "metadata": {},
   "outputs": [
    {
     "data": {
      "image/png": "[encoded data removed]",
      "image/svg+xml": [
       "<?xml version=\"1.0\" encoding=\"utf-8\"?>\n",
       "<svg xmlns=\"http://www.w3.org/2000/svg\" xmlns:xlink=\"http://www.w3.org/1999/xlink\" width=\"600\" height=\"400\" viewBox=\"0 0 2400 1600\">\n",
       "<defs>\n",
       "  <clipPath id=\"clip810\">\n",
       "    <rect x=\"0\" y=\"0\" width=\"2400\" height=\"1600\"/>\n",
       "  </clipPath>\n",
       "</defs>\n",
       "<path clip-path=\"url(#clip810)\" d=\"M0 1600 L2400 1600 L2400 0 L0 0  Z\" fill=\"#ffffff\" fill-rule=\"evenodd\" fill-opacity=\"1\"/>\n",
       "<defs>\n",
       "  <clipPath id=\"clip811\">\n",
       "    <rect x=\"480\" y=\"0\" width=\"1681\" height=\"1600\"/>\n",
       "  </clipPath>\n",
       "</defs>\n",
       "<path clip-path=\"url(#clip810)\" d=\"M155.765 1486.45 L2352.76 1486.45 L2352.76 47.2441 L155.765 47.2441  Z\" fill=\"#ffffff\" fill-rule=\"evenodd\" fill-opacity=\"1\"/>\n",
       "<defs>\n",
       "  <clipPath id=\"clip812\">\n",
       "    <rect x=\"155\" y=\"47\" width=\"2198\" height=\"1440\"/>\n",
       "  </clipPath>\n",
       "</defs>\n",
       "<polyline clip-path=\"url(#clip812)\" style=\"stroke:#000000; stroke-linecap:round; stroke-linejoin:round; stroke-width:2; stroke-opacity:0.1; fill:none\" points=\"217.944,1486.45 217.944,47.2441 \"/>\n",
       "<polyline clip-path=\"url(#clip812)\" style=\"stroke:#000000; stroke-linecap:round; stroke-linejoin:round; stroke-width:2; stroke-opacity:0.1; fill:none\" points=\"563.383,1486.45 563.383,47.2441 \"/>\n",
       "<polyline clip-path=\"url(#clip812)\" style=\"stroke:#000000; stroke-linecap:round; stroke-linejoin:round; stroke-width:2; stroke-opacity:0.1; fill:none\" points=\"908.822,1486.45 908.822,47.2441 \"/>\n",
       "<polyline clip-path=\"url(#clip812)\" style=\"stroke:#000000; stroke-linecap:round; stroke-linejoin:round; stroke-width:2; stroke-opacity:0.1; fill:none\" points=\"1254.26,1486.45 1254.26,47.2441 \"/>\n",
       "<polyline clip-path=\"url(#clip812)\" style=\"stroke:#000000; stroke-linecap:round; stroke-linejoin:round; stroke-width:2; stroke-opacity:0.1; fill:none\" points=\"1599.7,1486.45 1599.7,47.2441 \"/>\n",
       "<polyline clip-path=\"url(#clip812)\" style=\"stroke:#000000; stroke-linecap:round; stroke-linejoin:round; stroke-width:2; stroke-opacity:0.1; fill:none\" points=\"1945.14,1486.45 1945.14,47.2441 \"/>\n",
       "<polyline clip-path=\"url(#clip812)\" style=\"stroke:#000000; stroke-linecap:round; stroke-linejoin:round; stroke-width:2; stroke-opacity:0.1; fill:none\" points=\"2290.58,1486.45 2290.58,47.2441 \"/>\n",
       "<polyline clip-path=\"url(#clip810)\" style=\"stroke:#000000; stroke-linecap:round; stroke-linejoin:round; stroke-width:4; stroke-opacity:1; fill:none\" points=\"155.765,1486.45 2352.76,1486.45 \"/>\n",
       "<polyline clip-path=\"url(#clip810)\" style=\"stroke:#000000; stroke-linecap:round; stroke-linejoin:round; stroke-width:4; stroke-opacity:1; fill:none\" points=\"217.944,1486.45 217.944,1467.55 \"/>\n",
       "<polyline clip-path=\"url(#clip810)\" style=\"stroke:#000000; stroke-linecap:round; stroke-linejoin:round; stroke-width:4; stroke-opacity:1; fill:none\" points=\"563.383,1486.45 563.383,1467.55 \"/>\n",
       "<polyline clip-path=\"url(#clip810)\" style=\"stroke:#000000; stroke-linecap:round; stroke-linejoin:round; stroke-width:4; stroke-opacity:1; fill:none\" points=\"908.822,1486.45 908.822,1467.55 \"/>\n",
       "<polyline clip-path=\"url(#clip810)\" style=\"stroke:#000000; stroke-linecap:round; stroke-linejoin:round; stroke-width:4; stroke-opacity:1; fill:none\" points=\"1254.26,1486.45 1254.26,1467.55 \"/>\n",
       "<polyline clip-path=\"url(#clip810)\" style=\"stroke:#000000; stroke-linecap:round; stroke-linejoin:round; stroke-width:4; stroke-opacity:1; fill:none\" points=\"1599.7,1486.45 1599.7,1467.55 \"/>\n",
       "<polyline clip-path=\"url(#clip810)\" style=\"stroke:#000000; stroke-linecap:round; stroke-linejoin:round; stroke-width:4; stroke-opacity:1; fill:none\" points=\"1945.14,1486.45 1945.14,1467.55 \"/>\n",
       "<polyline clip-path=\"url(#clip810)\" style=\"stroke:#000000; stroke-linecap:round; stroke-linejoin:round; stroke-width:4; stroke-opacity:1; fill:none\" points=\"2290.58,1486.45 2290.58,1467.55 \"/>\n",
       "<path clip-path=\"url(#clip810)\" d=\"M195.78 1517.37 Q192.169 1517.37 190.34 1520.93 Q188.534 1524.47 188.534 1531.6 Q188.534 1538.71 190.34 1542.27 Q192.169 1545.82 195.78 1545.82 Q199.414 1545.82 201.219 1542.27 Q203.048 1538.71 203.048 1531.6 Q203.048 1524.47 201.219 1520.93 Q199.414 1517.37 195.78 1517.37 M195.78 1513.66 Q201.59 1513.66 204.645 1518.27 Q207.724 1522.85 207.724 1531.6 Q207.724 1540.33 204.645 1544.94 Q201.59 1549.52 195.78 1549.52 Q189.97 1549.52 186.891 1544.94 Q183.835 1540.33 183.835 1531.6 Q183.835 1522.85 186.891 1518.27 Q189.97 1513.66 195.78 1513.66 Z\" fill=\"#000000\" fill-rule=\"nonzero\" fill-opacity=\"1\" /><path clip-path=\"url(#clip810)\" d=\"M215.942 1542.97 L220.826 1542.97 L220.826 1548.85 L215.942 1548.85 L215.942 1542.97 Z\" fill=\"#000000\" fill-rule=\"nonzero\" fill-opacity=\"1\" /><path clip-path=\"url(#clip810)\" d=\"M229.83 1514.29 L252.053 1514.29 L252.053 1516.28 L239.506 1548.85 L234.622 1548.85 L246.428 1518.22 L229.83 1518.22 L229.83 1514.29 Z\" fill=\"#000000\" fill-rule=\"nonzero\" fill-opacity=\"1\" /><path clip-path=\"url(#clip810)\" d=\"M540.813 1517.37 Q537.202 1517.37 535.374 1520.93 Q533.568 1524.47 533.568 1531.6 Q533.568 1538.71 535.374 1542.27 Q537.202 1545.82 540.813 1545.82 Q544.448 1545.82 546.253 1542.27 Q548.082 1538.71 548.082 1531.6 Q548.082 1524.47 546.253 1520.93 Q544.448 1517.37 540.813 1517.37 M540.813 1513.66 Q546.624 1513.66 549.679 1518.27 Q552.758 1522.85 552.758 1531.6 Q552.758 1540.33 549.679 1544.94 Q546.624 1549.52 540.813 1549.52 Q535.003 1549.52 531.925 1544.94 Q528.869 1540.33 528.869 1531.6 Q528.869 1522.85 531.925 1518.27 Q535.003 1513.66 540.813 1513.66 Z\" fill=\"#000000\" fill-rule=\"nonzero\" fill-opacity=\"1\" /><path clip-path=\"url(#clip810)\" d=\"M560.975 1542.97 L565.86 1542.97 L565.86 1548.85 L560.975 1548.85 L560.975 1542.97 Z\" fill=\"#000000\" fill-rule=\"nonzero\" fill-opacity=\"1\" /><path clip-path=\"url(#clip810)\" d=\"M586.045 1532.44 Q582.711 1532.44 580.79 1534.22 Q578.892 1536 578.892 1539.13 Q578.892 1542.25 580.79 1544.03 Q582.711 1545.82 586.045 1545.82 Q589.378 1545.82 591.299 1544.03 Q593.221 1542.23 593.221 1539.13 Q593.221 1536 591.299 1534.22 Q589.401 1532.44 586.045 1532.44 M581.369 1530.45 Q578.36 1529.7 576.67 1527.64 Q575.003 1525.58 575.003 1522.62 Q575.003 1518.48 577.943 1516.07 Q580.906 1513.66 586.045 1513.66 Q591.207 1513.66 594.146 1516.07 Q597.086 1518.48 597.086 1522.62 Q597.086 1525.58 595.396 1527.64 Q593.73 1529.7 590.744 1530.45 Q594.123 1531.23 595.998 1533.52 Q597.896 1535.82 597.896 1539.13 Q597.896 1544.15 594.818 1546.83 Q591.762 1549.52 586.045 1549.52 Q580.327 1549.52 577.248 1546.83 Q574.193 1544.15 574.193 1539.13 Q574.193 1535.82 576.091 1533.52 Q577.989 1531.23 581.369 1530.45 M579.656 1523.06 Q579.656 1525.75 581.322 1527.25 Q583.012 1528.76 586.045 1528.76 Q589.054 1528.76 590.744 1527.25 Q592.457 1525.75 592.457 1523.06 Q592.457 1520.38 590.744 1518.87 Q589.054 1517.37 586.045 1517.37 Q583.012 1517.37 581.322 1518.87 Q579.656 1520.38 579.656 1523.06 Z\" fill=\"#000000\" fill-rule=\"nonzero\" fill-opacity=\"1\" /><path clip-path=\"url(#clip810)\" d=\"M886.299 1517.37 Q882.687 1517.37 880.859 1520.93 Q879.053 1524.47 879.053 1531.6 Q879.053 1538.71 880.859 1542.27 Q882.687 1545.82 886.299 1545.82 Q889.933 1545.82 891.738 1542.27 Q893.567 1538.71 893.567 1531.6 Q893.567 1524.47 891.738 1520.93 Q889.933 1517.37 886.299 1517.37 M886.299 1513.66 Q892.109 1513.66 895.164 1518.27 Q898.243 1522.85 898.243 1531.6 Q898.243 1540.33 895.164 1544.94 Q892.109 1549.52 886.299 1549.52 Q880.488 1549.52 877.41 1544.94 Q874.354 1540.33 874.354 1531.6 Q874.354 1522.85 877.41 1518.27 Q880.488 1513.66 886.299 1513.66 Z\" fill=\"#000000\" fill-rule=\"nonzero\" fill-opacity=\"1\" /><path clip-path=\"url(#clip810)\" d=\"M906.46 1542.97 L911.345 1542.97 L911.345 1548.85 L906.46 1548.85 L906.46 1542.97 Z\" fill=\"#000000\" fill-rule=\"nonzero\" fill-opacity=\"1\" /><path clip-path=\"url(#clip810)\" d=\"M921.669 1548.13 L921.669 1543.87 Q923.428 1544.7 925.234 1545.14 Q927.039 1545.58 928.775 1545.58 Q933.405 1545.58 935.835 1542.48 Q938.289 1539.36 938.636 1533.01 Q937.294 1535.01 935.233 1536.07 Q933.173 1537.13 930.673 1537.13 Q925.488 1537.13 922.456 1534.01 Q919.447 1530.86 919.447 1525.42 Q919.447 1520.1 922.595 1516.88 Q925.743 1513.66 930.974 1513.66 Q936.97 1513.66 940.118 1518.27 Q943.289 1522.85 943.289 1531.6 Q943.289 1539.77 939.4 1544.66 Q935.534 1549.52 928.983 1549.52 Q927.224 1549.52 925.419 1549.17 Q923.613 1548.82 921.669 1548.13 M930.974 1533.48 Q934.122 1533.48 935.951 1531.32 Q937.803 1529.17 937.803 1525.42 Q937.803 1521.7 935.951 1519.54 Q934.122 1517.37 930.974 1517.37 Q927.826 1517.37 925.974 1519.54 Q924.146 1521.7 924.146 1525.42 Q924.146 1529.17 925.974 1531.32 Q927.826 1533.48 930.974 1533.48 Z\" fill=\"#000000\" fill-rule=\"nonzero\" fill-opacity=\"1\" /><path clip-path=\"url(#clip810)\" d=\"M1221.41 1544.91 L1229.05 1544.91 L1229.05 1518.55 L1220.74 1520.21 L1220.74 1515.95 L1229.01 1514.29 L1233.68 1514.29 L1233.68 1544.91 L1241.32 1544.91 L1241.32 1548.85 L1221.41 1548.85 L1221.41 1544.91 Z\" fill=\"#000000\" fill-rule=\"nonzero\" fill-opacity=\"1\" /><path clip-path=\"url(#clip810)\" d=\"M1250.77 1542.97 L1255.65 1542.97 L1255.65 1548.85 L1250.77 1548.85 L1250.77 1542.97 Z\" fill=\"#000000\" fill-rule=\"nonzero\" fill-opacity=\"1\" /><path clip-path=\"url(#clip810)\" d=\"M1275.83 1517.37 Q1272.22 1517.37 1270.39 1520.93 Q1268.59 1524.47 1268.59 1531.6 Q1268.59 1538.71 1270.39 1542.27 Q1272.22 1545.82 1275.83 1545.82 Q1279.47 1545.82 1281.27 1542.27 Q1283.1 1538.71 1283.1 1531.6 Q1283.1 1524.47 1281.27 1520.93 Q1279.47 1517.37 1275.83 1517.37 M1275.83 1513.66 Q1281.64 1513.66 1284.7 1518.27 Q1287.78 1522.85 1287.78 1531.6 Q1287.78 1540.33 1284.7 1544.94 Q1281.64 1549.52 1275.83 1549.52 Q1270.02 1549.52 1266.95 1544.94 Q1263.89 1540.33 1263.89 1531.6 Q1263.89 1522.85 1266.95 1518.27 Q1270.02 1513.66 1275.83 1513.66 Z\" fill=\"#000000\" fill-rule=\"nonzero\" fill-opacity=\"1\" /><path clip-path=\"url(#clip810)\" d=\"M1567.47 1544.91 L1575.1 1544.91 L1575.1 1518.55 L1566.79 1520.21 L1566.79 1515.95 L1575.06 1514.29 L1579.73 1514.29 L1579.73 1544.91 L1587.37 1544.91 L1587.37 1548.85 L1567.47 1548.85 L1567.47 1544.91 Z\" fill=\"#000000\" fill-rule=\"nonzero\" fill-opacity=\"1\" /><path clip-path=\"url(#clip810)\" d=\"M1596.82 1542.97 L1601.7 1542.97 L1601.7 1548.85 L1596.82 1548.85 L1596.82 1542.97 Z\" fill=\"#000000\" fill-rule=\"nonzero\" fill-opacity=\"1\" /><path clip-path=\"url(#clip810)\" d=\"M1612.7 1544.91 L1620.34 1544.91 L1620.34 1518.55 L1612.03 1520.21 L1612.03 1515.95 L1620.29 1514.29 L1624.97 1514.29 L1624.97 1544.91 L1632.6 1544.91 L1632.6 1548.85 L1612.7 1548.85 L1612.7 1544.91 Z\" fill=\"#000000\" fill-rule=\"nonzero\" fill-opacity=\"1\" /><path clip-path=\"url(#clip810)\" d=\"M1913.09 1544.91 L1920.73 1544.91 L1920.73 1518.55 L1912.42 1520.21 L1912.42 1515.95 L1920.68 1514.29 L1925.36 1514.29 L1925.36 1544.91 L1933 1544.91 L1933 1548.85 L1913.09 1548.85 L1913.09 1544.91 Z\" fill=\"#000000\" fill-rule=\"nonzero\" fill-opacity=\"1\" /><path clip-path=\"url(#clip810)\" d=\"M1942.44 1542.97 L1947.33 1542.97 L1947.33 1548.85 L1942.44 1548.85 L1942.44 1542.97 Z\" fill=\"#000000\" fill-rule=\"nonzero\" fill-opacity=\"1\" /><path clip-path=\"url(#clip810)\" d=\"M1961.54 1544.91 L1977.86 1544.91 L1977.86 1548.85 L1955.91 1548.85 L1955.91 1544.91 Q1958.58 1542.16 1963.16 1537.53 Q1967.77 1532.88 1968.95 1531.53 Q1971.19 1529.01 1972.07 1527.27 Q1972.97 1525.51 1972.97 1523.82 Q1972.97 1521.07 1971.03 1519.33 Q1969.11 1517.6 1966.01 1517.6 Q1963.81 1517.6 1961.35 1518.36 Q1958.92 1519.13 1956.14 1520.68 L1956.14 1515.95 Q1958.97 1514.82 1961.42 1514.24 Q1963.88 1513.66 1965.91 1513.66 Q1971.28 1513.66 1974.48 1516.35 Q1977.67 1519.03 1977.67 1523.52 Q1977.67 1525.65 1976.86 1527.57 Q1976.08 1529.47 1973.97 1532.07 Q1973.39 1532.74 1970.29 1535.95 Q1967.19 1539.15 1961.54 1544.91 Z\" fill=\"#000000\" fill-rule=\"nonzero\" fill-opacity=\"1\" /><path clip-path=\"url(#clip810)\" d=\"M2258.05 1544.91 L2265.69 1544.91 L2265.69 1518.55 L2257.38 1520.21 L2257.38 1515.95 L2265.65 1514.29 L2270.32 1514.29 L2270.32 1544.91 L2277.96 1544.91 L2277.96 1548.85 L2258.05 1548.85 L2258.05 1544.91 Z\" fill=\"#000000\" fill-rule=\"nonzero\" fill-opacity=\"1\" /><path clip-path=\"url(#clip810)\" d=\"M2287.41 1542.97 L2292.29 1542.97 L2292.29 1548.85 L2287.41 1548.85 L2287.41 1542.97 Z\" fill=\"#000000\" fill-rule=\"nonzero\" fill-opacity=\"1\" /><path clip-path=\"url(#clip810)\" d=\"M2316.64 1530.21 Q2320 1530.93 2321.87 1533.2 Q2323.77 1535.47 2323.77 1538.8 Q2323.77 1543.92 2320.25 1546.72 Q2316.73 1549.52 2310.25 1549.52 Q2308.08 1549.52 2305.76 1549.08 Q2303.47 1548.66 2301.02 1547.81 L2301.02 1543.29 Q2302.96 1544.43 2305.28 1545.01 Q2307.59 1545.58 2310.11 1545.58 Q2314.51 1545.58 2316.8 1543.85 Q2319.12 1542.11 2319.12 1538.8 Q2319.12 1535.75 2316.97 1534.03 Q2314.84 1532.3 2311.02 1532.3 L2306.99 1532.3 L2306.99 1528.45 L2311.2 1528.45 Q2314.65 1528.45 2316.48 1527.09 Q2318.31 1525.7 2318.31 1523.11 Q2318.31 1520.45 2316.41 1519.03 Q2314.54 1517.6 2311.02 1517.6 Q2309.1 1517.6 2306.9 1518.01 Q2304.7 1518.43 2302.06 1519.31 L2302.06 1515.14 Q2304.72 1514.4 2307.04 1514.03 Q2309.37 1513.66 2311.43 1513.66 Q2316.76 1513.66 2319.86 1516.09 Q2322.96 1518.5 2322.96 1522.62 Q2322.96 1525.49 2321.32 1527.48 Q2319.67 1529.45 2316.64 1530.21 Z\" fill=\"#000000\" fill-rule=\"nonzero\" fill-opacity=\"1\" /><polyline clip-path=\"url(#clip812)\" style=\"stroke:#000000; stroke-linecap:round; stroke-linejoin:round; stroke-width:2; stroke-opacity:0.1; fill:none\" points=\"155.765,1440.97 2352.76,1440.97 \"/>\n",
       "<polyline clip-path=\"url(#clip812)\" style=\"stroke:#000000; stroke-linecap:round; stroke-linejoin:round; stroke-width:2; stroke-opacity:0.1; fill:none\" points=\"155.765,1158 2352.76,1158 \"/>\n",
       "<polyline clip-path=\"url(#clip812)\" style=\"stroke:#000000; stroke-linecap:round; stroke-linejoin:round; stroke-width:2; stroke-opacity:0.1; fill:none\" points=\"155.765,875.032 2352.76,875.032 \"/>\n",
       "<polyline clip-path=\"url(#clip812)\" style=\"stroke:#000000; stroke-linecap:round; stroke-linejoin:round; stroke-width:2; stroke-opacity:0.1; fill:none\" points=\"155.765,592.061 2352.76,592.061 \"/>\n",
       "<polyline clip-path=\"url(#clip812)\" style=\"stroke:#000000; stroke-linecap:round; stroke-linejoin:round; stroke-width:2; stroke-opacity:0.1; fill:none\" points=\"155.765,309.091 2352.76,309.091 \"/>\n",
       "<polyline clip-path=\"url(#clip810)\" style=\"stroke:#000000; stroke-linecap:round; stroke-linejoin:round; stroke-width:4; stroke-opacity:1; fill:none\" points=\"155.765,1486.45 155.765,47.2441 \"/>\n",
       "<polyline clip-path=\"url(#clip810)\" style=\"stroke:#000000; stroke-linecap:round; stroke-linejoin:round; stroke-width:4; stroke-opacity:1; fill:none\" points=\"155.765,1440.97 174.663,1440.97 \"/>\n",
       "<polyline clip-path=\"url(#clip810)\" style=\"stroke:#000000; stroke-linecap:round; stroke-linejoin:round; stroke-width:4; stroke-opacity:1; fill:none\" points=\"155.765,1158 174.663,1158 \"/>\n",
       "<polyline clip-path=\"url(#clip810)\" style=\"stroke:#000000; stroke-linecap:round; stroke-linejoin:round; stroke-width:4; stroke-opacity:1; fill:none\" points=\"155.765,875.032 174.663,875.032 \"/>\n",
       "<polyline clip-path=\"url(#clip810)\" style=\"stroke:#000000; stroke-linecap:round; stroke-linejoin:round; stroke-width:4; stroke-opacity:1; fill:none\" points=\"155.765,592.061 174.663,592.061 \"/>\n",
       "<polyline clip-path=\"url(#clip810)\" style=\"stroke:#000000; stroke-linecap:round; stroke-linejoin:round; stroke-width:4; stroke-opacity:1; fill:none\" points=\"155.765,309.091 174.663,309.091 \"/>\n",
       "<path clip-path=\"url(#clip810)\" d=\"M53.3995 1454.32 L61.0384 1454.32 L61.0384 1427.95 L52.7282 1429.62 L52.7282 1425.36 L60.9921 1423.69 L65.668 1423.69 L65.668 1454.32 L73.3068 1454.32 L73.3068 1458.25 L53.3995 1458.25 L53.3995 1454.32 Z\" fill=\"#000000\" fill-rule=\"nonzero\" fill-opacity=\"1\" /><path clip-path=\"url(#clip810)\" d=\"M82.7512 1452.37 L87.6354 1452.37 L87.6354 1458.25 L82.7512 1458.25 L82.7512 1452.37 Z\" fill=\"#000000\" fill-rule=\"nonzero\" fill-opacity=\"1\" /><path clip-path=\"url(#clip810)\" d=\"M107.821 1426.77 Q104.209 1426.77 102.381 1430.34 Q100.575 1433.88 100.575 1441.01 Q100.575 1448.11 102.381 1451.68 Q104.209 1455.22 107.821 1455.22 Q111.455 1455.22 113.26 1451.68 Q115.089 1448.11 115.089 1441.01 Q115.089 1433.88 113.26 1430.34 Q111.455 1426.77 107.821 1426.77 M107.821 1423.07 Q113.631 1423.07 116.686 1427.67 Q119.765 1432.26 119.765 1441.01 Q119.765 1449.73 116.686 1454.34 Q113.631 1458.92 107.821 1458.92 Q102.01 1458.92 98.9317 1454.34 Q95.8761 1449.73 95.8761 1441.01 Q95.8761 1432.26 98.9317 1427.67 Q102.01 1423.07 107.821 1423.07 Z\" fill=\"#000000\" fill-rule=\"nonzero\" fill-opacity=\"1\" /><path clip-path=\"url(#clip810)\" d=\"M54.3949 1171.35 L62.0337 1171.35 L62.0337 1144.98 L53.7236 1146.65 L53.7236 1142.39 L61.9874 1140.72 L66.6633 1140.72 L66.6633 1171.35 L74.3022 1171.35 L74.3022 1175.28 L54.3949 1175.28 L54.3949 1171.35 Z\" fill=\"#000000\" fill-rule=\"nonzero\" fill-opacity=\"1\" /><path clip-path=\"url(#clip810)\" d=\"M83.7466 1169.4 L88.6308 1169.4 L88.6308 1175.28 L83.7466 1175.28 L83.7466 1169.4 Z\" fill=\"#000000\" fill-rule=\"nonzero\" fill-opacity=\"1\" /><path clip-path=\"url(#clip810)\" d=\"M98.8622 1140.72 L117.219 1140.72 L117.219 1144.66 L103.145 1144.66 L103.145 1153.13 Q104.163 1152.78 105.182 1152.62 Q106.2 1152.44 107.219 1152.44 Q113.006 1152.44 116.385 1155.61 Q119.765 1158.78 119.765 1164.19 Q119.765 1169.77 116.293 1172.88 Q112.82 1175.95 106.501 1175.95 Q104.325 1175.95 102.057 1175.58 Q99.8113 1175.21 97.4039 1174.47 L97.4039 1169.77 Q99.4872 1170.91 101.709 1171.46 Q103.932 1172.02 106.408 1172.02 Q110.413 1172.02 112.751 1169.91 Q115.089 1167.81 115.089 1164.19 Q115.089 1160.58 112.751 1158.48 Q110.413 1156.37 106.408 1156.37 Q104.534 1156.37 102.659 1156.79 Q100.807 1157.2 98.8622 1158.08 L98.8622 1140.72 Z\" fill=\"#000000\" fill-rule=\"nonzero\" fill-opacity=\"1\" /><path clip-path=\"url(#clip810)\" d=\"M56.6171 888.377 L72.9365 888.377 L72.9365 892.312 L50.9921 892.312 L50.9921 888.377 Q53.6541 885.622 58.2375 880.993 Q62.8439 876.34 64.0245 874.997 Q66.2698 872.474 67.1494 870.738 Q68.0522 868.979 68.0522 867.289 Q68.0522 864.534 66.1078 862.798 Q64.1865 861.062 61.0847 861.062 Q58.8856 861.062 56.4319 861.826 Q54.0014 862.59 51.2236 864.141 L51.2236 859.419 Q54.0477 858.284 56.5014 857.706 Q58.955 857.127 60.9921 857.127 Q66.3624 857.127 69.5568 859.812 Q72.7513 862.497 72.7513 866.988 Q72.7513 869.118 71.9411 871.039 Q71.1541 872.937 69.0476 875.53 Q68.4689 876.201 65.367 879.419 Q62.2652 882.613 56.6171 888.377 Z\" fill=\"#000000\" fill-rule=\"nonzero\" fill-opacity=\"1\" /><path clip-path=\"url(#clip810)\" d=\"M82.7512 886.432 L87.6354 886.432 L87.6354 892.312 L82.7512 892.312 L82.7512 886.432 Z\" fill=\"#000000\" fill-rule=\"nonzero\" fill-opacity=\"1\" /><path clip-path=\"url(#clip810)\" d=\"M107.821 860.831 Q104.209 860.831 102.381 864.395 Q100.575 867.937 100.575 875.067 Q100.575 882.173 102.381 885.738 Q104.209 889.28 107.821 889.28 Q111.455 889.28 113.26 885.738 Q115.089 882.173 115.089 875.067 Q115.089 867.937 113.26 864.395 Q111.455 860.831 107.821 860.831 M107.821 857.127 Q113.631 857.127 116.686 861.733 Q119.765 866.317 119.765 875.067 Q119.765 883.793 116.686 888.4 Q113.631 892.983 107.821 892.983 Q102.01 892.983 98.9317 888.4 Q95.8761 883.793 95.8761 875.067 Q95.8761 866.317 98.9317 861.733 Q102.01 857.127 107.821 857.127 Z\" fill=\"#000000\" fill-rule=\"nonzero\" fill-opacity=\"1\" /><path clip-path=\"url(#clip810)\" d=\"M57.6125 605.406 L73.9318 605.406 L73.9318 609.341 L51.9875 609.341 L51.9875 605.406 Q54.6495 602.652 59.2328 598.022 Q63.8393 593.369 65.0198 592.027 Q67.2652 589.504 68.1448 587.767 Q69.0476 586.008 69.0476 584.318 Q69.0476 581.564 67.1032 579.828 Q65.1819 578.092 62.08 578.092 Q59.881 578.092 57.4273 578.855 Q54.9967 579.619 52.219 581.17 L52.219 576.448 Q55.043 575.314 57.4967 574.735 Q59.9504 574.156 61.9874 574.156 Q67.3578 574.156 70.5522 576.842 Q73.7466 579.527 73.7466 584.018 Q73.7466 586.147 72.9365 588.068 Q72.1494 589.967 70.0429 592.559 Q69.4642 593.23 66.3624 596.448 Q63.2606 599.642 57.6125 605.406 Z\" fill=\"#000000\" fill-rule=\"nonzero\" fill-opacity=\"1\" /><path clip-path=\"url(#clip810)\" d=\"M83.7466 603.462 L88.6308 603.462 L88.6308 609.341 L83.7466 609.341 L83.7466 603.462 Z\" fill=\"#000000\" fill-rule=\"nonzero\" fill-opacity=\"1\" /><path clip-path=\"url(#clip810)\" d=\"M98.8622 574.781 L117.219 574.781 L117.219 578.717 L103.145 578.717 L103.145 587.189 Q104.163 586.842 105.182 586.68 Q106.2 586.494 107.219 586.494 Q113.006 586.494 116.385 589.666 Q119.765 592.837 119.765 598.254 Q119.765 603.832 116.293 606.934 Q112.82 610.013 106.501 610.013 Q104.325 610.013 102.057 609.642 Q99.8113 609.272 97.4039 608.531 L97.4039 603.832 Q99.4872 604.966 101.709 605.522 Q103.932 606.078 106.408 606.078 Q110.413 606.078 112.751 603.971 Q115.089 601.865 115.089 598.254 Q115.089 594.642 112.751 592.536 Q110.413 590.43 106.408 590.43 Q104.534 590.43 102.659 590.846 Q100.807 591.263 98.8622 592.142 L98.8622 574.781 Z\" fill=\"#000000\" fill-rule=\"nonzero\" fill-opacity=\"1\" /><path clip-path=\"url(#clip810)\" d=\"M66.7559 307.737 Q70.1124 308.454 71.9874 310.723 Q73.8855 312.991 73.8855 316.325 Q73.8855 321.44 70.367 324.241 Q66.8485 327.042 60.3671 327.042 Q58.1912 327.042 55.8764 326.602 Q53.5847 326.186 51.131 325.329 L51.131 320.815 Q53.0754 321.95 55.3903 322.528 Q57.7051 323.107 60.2282 323.107 Q64.6263 323.107 66.918 321.371 Q69.2328 319.635 69.2328 316.325 Q69.2328 313.269 67.08 311.556 Q64.9504 309.82 61.131 309.82 L57.1032 309.82 L57.1032 305.978 L61.3161 305.978 Q64.7652 305.978 66.5939 304.612 Q68.4226 303.223 68.4226 300.63 Q68.4226 297.968 66.5245 296.556 Q64.6495 295.121 61.131 295.121 Q59.2097 295.121 57.0106 295.538 Q54.8115 295.954 52.1727 296.834 L52.1727 292.667 Q54.8347 291.927 57.1495 291.556 Q59.4875 291.186 61.5476 291.186 Q66.8717 291.186 69.9735 293.616 Q73.0753 296.024 73.0753 300.144 Q73.0753 303.015 71.4318 305.005 Q69.7883 306.973 66.7559 307.737 Z\" fill=\"#000000\" fill-rule=\"nonzero\" fill-opacity=\"1\" /><path clip-path=\"url(#clip810)\" d=\"M82.7512 320.491 L87.6354 320.491 L87.6354 326.371 L82.7512 326.371 L82.7512 320.491 Z\" fill=\"#000000\" fill-rule=\"nonzero\" fill-opacity=\"1\" /><path clip-path=\"url(#clip810)\" d=\"M107.821 294.89 Q104.209 294.89 102.381 298.454 Q100.575 301.996 100.575 309.126 Q100.575 316.232 102.381 319.797 Q104.209 323.339 107.821 323.339 Q111.455 323.339 113.26 319.797 Q115.089 316.232 115.089 309.126 Q115.089 301.996 113.26 298.454 Q111.455 294.89 107.821 294.89 M107.821 291.186 Q113.631 291.186 116.686 295.792 Q119.765 300.376 119.765 309.126 Q119.765 317.852 116.686 322.459 Q113.631 327.042 107.821 327.042 Q102.01 327.042 98.9317 322.459 Q95.8761 317.852 95.8761 309.126 Q95.8761 300.376 98.9317 295.792 Q102.01 291.186 107.821 291.186 Z\" fill=\"#000000\" fill-rule=\"nonzero\" fill-opacity=\"1\" /><polyline clip-path=\"url(#clip812)\" style=\"stroke:#009af9; stroke-linecap:round; stroke-linejoin:round; stroke-width:4; stroke-opacity:1; fill:none\" points=\"217.944,87.9763 333.09,1445.72 448.236,1445.38 563.383,1444.65 678.529,1442.84 793.675,1439.95 908.822,1438.78 1023.97,1436.02 1139.11,1435.36 1254.26,1435.53 1369.41,1435.77 1484.55,1435.43 1599.7,1435.75 1714.85,1435.42 1829.99,1435.68 1945.14,1435.93 2060.28,1436.01 2175.43,1436.23 2290.58,1436.3 \"/>\n",
       "<path clip-path=\"url(#clip810)\" d=\"M2007.39 198.898 L2279.52 198.898 L2279.52 95.2176 L2007.39 95.2176  Z\" fill=\"#ffffff\" fill-rule=\"evenodd\" fill-opacity=\"1\"/>\n",
       "<polyline clip-path=\"url(#clip810)\" style=\"stroke:#000000; stroke-linecap:round; stroke-linejoin:round; stroke-width:4; stroke-opacity:1; fill:none\" points=\"2007.39,198.898 2279.52,198.898 2279.52,95.2176 2007.39,95.2176 2007.39,198.898 \"/>\n",
       "<polyline clip-path=\"url(#clip810)\" style=\"stroke:#009af9; stroke-linecap:round; stroke-linejoin:round; stroke-width:4; stroke-opacity:1; fill:none\" points=\"2031.8,147.058 2178.27,147.058 \"/>\n",
       "<path clip-path=\"url(#clip810)\" d=\"M2216.52 166.745 Q2214.72 171.375 2213.01 172.787 Q2211.29 174.199 2208.42 174.199 L2205.02 174.199 L2205.02 170.634 L2207.52 170.634 Q2209.28 170.634 2210.25 169.8 Q2211.22 168.967 2212.4 165.865 L2213.17 163.921 L2202.68 138.412 L2207.2 138.412 L2215.3 158.689 L2223.4 138.412 L2227.91 138.412 L2216.52 166.745 Z\" fill=\"#000000\" fill-rule=\"nonzero\" fill-opacity=\"1\" /><path clip-path=\"url(#clip810)\" d=\"M2235.2 160.402 L2242.84 160.402 L2242.84 134.037 L2234.53 135.703 L2234.53 131.444 L2242.8 129.778 L2247.47 129.778 L2247.47 160.402 L2255.11 160.402 L2255.11 164.338 L2235.2 164.338 L2235.2 160.402 Z\" fill=\"#000000\" fill-rule=\"nonzero\" fill-opacity=\"1\" /></svg>\n"
      ],
      "text/html": [
       "<?xml version=\"1.0\" encoding=\"utf-8\"?>\n",
       "<svg xmlns=\"http://www.w3.org/2000/svg\" xmlns:xlink=\"http://www.w3.org/1999/xlink\" width=\"600\" height=\"400\" viewBox=\"0 0 2400 1600\">\n",
       "<defs>\n",
       "  <clipPath id=\"clip860\">\n",
       "    <rect x=\"0\" y=\"0\" width=\"2400\" height=\"1600\"/>\n",
       "  </clipPath>\n",
       "</defs>\n",
       "<path clip-path=\"url(#clip860)\" d=\"M0 1600 L2400 1600 L2400 0 L0 0  Z\" fill=\"#ffffff\" fill-rule=\"evenodd\" fill-opacity=\"1\"/>\n",
       "<defs>\n",
       "  <clipPath id=\"clip861\">\n",
       "    <rect x=\"480\" y=\"0\" width=\"1681\" height=\"1600\"/>\n",
       "  </clipPath>\n",
       "</defs>\n",
       "<path clip-path=\"url(#clip860)\" d=\"M155.765 1486.45 L2352.76 1486.45 L2352.76 47.2441 L155.765 47.2441  Z\" fill=\"#ffffff\" fill-rule=\"evenodd\" fill-opacity=\"1\"/>\n",
       "<defs>\n",
       "  <clipPath id=\"clip862\">\n",
       "    <rect x=\"155\" y=\"47\" width=\"2198\" height=\"1440\"/>\n",
       "  </clipPath>\n",
       "</defs>\n",
       "<polyline clip-path=\"url(#clip862)\" style=\"stroke:#000000; stroke-linecap:round; stroke-linejoin:round; stroke-width:2; stroke-opacity:0.1; fill:none\" points=\"217.944,1486.45 217.944,47.2441 \"/>\n",
       "<polyline clip-path=\"url(#clip862)\" style=\"stroke:#000000; stroke-linecap:round; stroke-linejoin:round; stroke-width:2; stroke-opacity:0.1; fill:none\" points=\"563.383,1486.45 563.383,47.2441 \"/>\n",
       "<polyline clip-path=\"url(#clip862)\" style=\"stroke:#000000; stroke-linecap:round; stroke-linejoin:round; stroke-width:2; stroke-opacity:0.1; fill:none\" points=\"908.822,1486.45 908.822,47.2441 \"/>\n",
       "<polyline clip-path=\"url(#clip862)\" style=\"stroke:#000000; stroke-linecap:round; stroke-linejoin:round; stroke-width:2; stroke-opacity:0.1; fill:none\" points=\"1254.26,1486.45 1254.26,47.2441 \"/>\n",
       "<polyline clip-path=\"url(#clip862)\" style=\"stroke:#000000; stroke-linecap:round; stroke-linejoin:round; stroke-width:2; stroke-opacity:0.1; fill:none\" points=\"1599.7,1486.45 1599.7,47.2441 \"/>\n",
       "<polyline clip-path=\"url(#clip862)\" style=\"stroke:#000000; stroke-linecap:round; stroke-linejoin:round; stroke-width:2; stroke-opacity:0.1; fill:none\" points=\"1945.14,1486.45 1945.14,47.2441 \"/>\n",
       "<polyline clip-path=\"url(#clip862)\" style=\"stroke:#000000; stroke-linecap:round; stroke-linejoin:round; stroke-width:2; stroke-opacity:0.1; fill:none\" points=\"2290.58,1486.45 2290.58,47.2441 \"/>\n",
       "<polyline clip-path=\"url(#clip860)\" style=\"stroke:#000000; stroke-linecap:round; stroke-linejoin:round; stroke-width:4; stroke-opacity:1; fill:none\" points=\"155.765,1486.45 2352.76,1486.45 \"/>\n",
       "<polyline clip-path=\"url(#clip860)\" style=\"stroke:#000000; stroke-linecap:round; stroke-linejoin:round; stroke-width:4; stroke-opacity:1; fill:none\" points=\"217.944,1486.45 217.944,1467.55 \"/>\n",
       "<polyline clip-path=\"url(#clip860)\" style=\"stroke:#000000; stroke-linecap:round; stroke-linejoin:round; stroke-width:4; stroke-opacity:1; fill:none\" points=\"563.383,1486.45 563.383,1467.55 \"/>\n",
       "<polyline clip-path=\"url(#clip860)\" style=\"stroke:#000000; stroke-linecap:round; stroke-linejoin:round; stroke-width:4; stroke-opacity:1; fill:none\" points=\"908.822,1486.45 908.822,1467.55 \"/>\n",
       "<polyline clip-path=\"url(#clip860)\" style=\"stroke:#000000; stroke-linecap:round; stroke-linejoin:round; stroke-width:4; stroke-opacity:1; fill:none\" points=\"1254.26,1486.45 1254.26,1467.55 \"/>\n",
       "<polyline clip-path=\"url(#clip860)\" style=\"stroke:#000000; stroke-linecap:round; stroke-linejoin:round; stroke-width:4; stroke-opacity:1; fill:none\" points=\"1599.7,1486.45 1599.7,1467.55 \"/>\n",
       "<polyline clip-path=\"url(#clip860)\" style=\"stroke:#000000; stroke-linecap:round; stroke-linejoin:round; stroke-width:4; stroke-opacity:1; fill:none\" points=\"1945.14,1486.45 1945.14,1467.55 \"/>\n",
       "<polyline clip-path=\"url(#clip860)\" style=\"stroke:#000000; stroke-linecap:round; stroke-linejoin:round; stroke-width:4; stroke-opacity:1; fill:none\" points=\"2290.58,1486.45 2290.58,1467.55 \"/>\n",
       "<path clip-path=\"url(#clip860)\" d=\"M195.78 1517.37 Q192.169 1517.37 190.34 1520.93 Q188.534 1524.47 188.534 1531.6 Q188.534 1538.71 190.34 1542.27 Q192.169 1545.82 195.78 1545.82 Q199.414 1545.82 201.219 1542.27 Q203.048 1538.71 203.048 1531.6 Q203.048 1524.47 201.219 1520.93 Q199.414 1517.37 195.78 1517.37 M195.78 1513.66 Q201.59 1513.66 204.645 1518.27 Q207.724 1522.85 207.724 1531.6 Q207.724 1540.33 204.645 1544.94 Q201.59 1549.52 195.78 1549.52 Q189.97 1549.52 186.891 1544.94 Q183.835 1540.33 183.835 1531.6 Q183.835 1522.85 186.891 1518.27 Q189.97 1513.66 195.78 1513.66 Z\" fill=\"#000000\" fill-rule=\"nonzero\" fill-opacity=\"1\" /><path clip-path=\"url(#clip860)\" d=\"M215.942 1542.97 L220.826 1542.97 L220.826 1548.85 L215.942 1548.85 L215.942 1542.97 Z\" fill=\"#000000\" fill-rule=\"nonzero\" fill-opacity=\"1\" /><path clip-path=\"url(#clip860)\" d=\"M229.83 1514.29 L252.053 1514.29 L252.053 1516.28 L239.506 1548.85 L234.622 1548.85 L246.428 1518.22 L229.83 1518.22 L229.83 1514.29 Z\" fill=\"#000000\" fill-rule=\"nonzero\" fill-opacity=\"1\" /><path clip-path=\"url(#clip860)\" d=\"M540.813 1517.37 Q537.202 1517.37 535.374 1520.93 Q533.568 1524.47 533.568 1531.6 Q533.568 1538.71 535.374 1542.27 Q537.202 1545.82 540.813 1545.82 Q544.448 1545.82 546.253 1542.27 Q548.082 1538.71 548.082 1531.6 Q548.082 1524.47 546.253 1520.93 Q544.448 1517.37 540.813 1517.37 M540.813 1513.66 Q546.624 1513.66 549.679 1518.27 Q552.758 1522.85 552.758 1531.6 Q552.758 1540.33 549.679 1544.94 Q546.624 1549.52 540.813 1549.52 Q535.003 1549.52 531.925 1544.94 Q528.869 1540.33 528.869 1531.6 Q528.869 1522.85 531.925 1518.27 Q535.003 1513.66 540.813 1513.66 Z\" fill=\"#000000\" fill-rule=\"nonzero\" fill-opacity=\"1\" /><path clip-path=\"url(#clip860)\" d=\"M560.975 1542.97 L565.86 1542.97 L565.86 1548.85 L560.975 1548.85 L560.975 1542.97 Z\" fill=\"#000000\" fill-rule=\"nonzero\" fill-opacity=\"1\" /><path clip-path=\"url(#clip860)\" d=\"M586.045 1532.44 Q582.711 1532.44 580.79 1534.22 Q578.892 1536 578.892 1539.13 Q578.892 1542.25 580.79 1544.03 Q582.711 1545.82 586.045 1545.82 Q589.378 1545.82 591.299 1544.03 Q593.221 1542.23 593.221 1539.13 Q593.221 1536 591.299 1534.22 Q589.401 1532.44 586.045 1532.44 M581.369 1530.45 Q578.36 1529.7 576.67 1527.64 Q575.003 1525.58 575.003 1522.62 Q575.003 1518.48 577.943 1516.07 Q580.906 1513.66 586.045 1513.66 Q591.207 1513.66 594.146 1516.07 Q597.086 1518.48 597.086 1522.62 Q597.086 1525.58 595.396 1527.64 Q593.73 1529.7 590.744 1530.45 Q594.123 1531.23 595.998 1533.52 Q597.896 1535.82 597.896 1539.13 Q597.896 1544.15 594.818 1546.83 Q591.762 1549.52 586.045 1549.52 Q580.327 1549.52 577.248 1546.83 Q574.193 1544.15 574.193 1539.13 Q574.193 1535.82 576.091 1533.52 Q577.989 1531.23 581.369 1530.45 M579.656 1523.06 Q579.656 1525.75 581.322 1527.25 Q583.012 1528.76 586.045 1528.76 Q589.054 1528.76 590.744 1527.25 Q592.457 1525.75 592.457 1523.06 Q592.457 1520.38 590.744 1518.87 Q589.054 1517.37 586.045 1517.37 Q583.012 1517.37 581.322 1518.87 Q579.656 1520.38 579.656 1523.06 Z\" fill=\"#000000\" fill-rule=\"nonzero\" fill-opacity=\"1\" /><path clip-path=\"url(#clip860)\" d=\"M886.299 1517.37 Q882.687 1517.37 880.859 1520.93 Q879.053 1524.47 879.053 1531.6 Q879.053 1538.71 880.859 1542.27 Q882.687 1545.82 886.299 1545.82 Q889.933 1545.82 891.738 1542.27 Q893.567 1538.71 893.567 1531.6 Q893.567 1524.47 891.738 1520.93 Q889.933 1517.37 886.299 1517.37 M886.299 1513.66 Q892.109 1513.66 895.164 1518.27 Q898.243 1522.85 898.243 1531.6 Q898.243 1540.33 895.164 1544.94 Q892.109 1549.52 886.299 1549.52 Q880.488 1549.52 877.41 1544.94 Q874.354 1540.33 874.354 1531.6 Q874.354 1522.85 877.41 1518.27 Q880.488 1513.66 886.299 1513.66 Z\" fill=\"#000000\" fill-rule=\"nonzero\" fill-opacity=\"1\" /><path clip-path=\"url(#clip860)\" d=\"M906.46 1542.97 L911.345 1542.97 L911.345 1548.85 L906.46 1548.85 L906.46 1542.97 Z\" fill=\"#000000\" fill-rule=\"nonzero\" fill-opacity=\"1\" /><path clip-path=\"url(#clip860)\" d=\"M921.669 1548.13 L921.669 1543.87 Q923.428 1544.7 925.234 1545.14 Q927.039 1545.58 928.775 1545.58 Q933.405 1545.58 935.835 1542.48 Q938.289 1539.36 938.636 1533.01 Q937.294 1535.01 935.233 1536.07 Q933.173 1537.13 930.673 1537.13 Q925.488 1537.13 922.456 1534.01 Q919.447 1530.86 919.447 1525.42 Q919.447 1520.1 922.595 1516.88 Q925.743 1513.66 930.974 1513.66 Q936.97 1513.66 940.118 1518.27 Q943.289 1522.85 943.289 1531.6 Q943.289 1539.77 939.4 1544.66 Q935.534 1549.52 928.983 1549.52 Q927.224 1549.52 925.419 1549.17 Q923.613 1548.82 921.669 1548.13 M930.974 1533.48 Q934.122 1533.48 935.951 1531.32 Q937.803 1529.17 937.803 1525.42 Q937.803 1521.7 935.951 1519.54 Q934.122 1517.37 930.974 1517.37 Q927.826 1517.37 925.974 1519.54 Q924.146 1521.7 924.146 1525.42 Q924.146 1529.17 925.974 1531.32 Q927.826 1533.48 930.974 1533.48 Z\" fill=\"#000000\" fill-rule=\"nonzero\" fill-opacity=\"1\" /><path clip-path=\"url(#clip860)\" d=\"M1221.41 1544.91 L1229.05 1544.91 L1229.05 1518.55 L1220.74 1520.21 L1220.74 1515.95 L1229.01 1514.29 L1233.68 1514.29 L1233.68 1544.91 L1241.32 1544.91 L1241.32 1548.85 L1221.41 1548.85 L1221.41 1544.91 Z\" fill=\"#000000\" fill-rule=\"nonzero\" fill-opacity=\"1\" /><path clip-path=\"url(#clip860)\" d=\"M1250.77 1542.97 L1255.65 1542.97 L1255.65 1548.85 L1250.77 1548.85 L1250.77 1542.97 Z\" fill=\"#000000\" fill-rule=\"nonzero\" fill-opacity=\"1\" /><path clip-path=\"url(#clip860)\" d=\"M1275.83 1517.37 Q1272.22 1517.37 1270.39 1520.93 Q1268.59 1524.47 1268.59 1531.6 Q1268.59 1538.71 1270.39 1542.27 Q1272.22 1545.82 1275.83 1545.82 Q1279.47 1545.82 1281.27 1542.27 Q1283.1 1538.71 1283.1 1531.6 Q1283.1 1524.47 1281.27 1520.93 Q1279.47 1517.37 1275.83 1517.37 M1275.83 1513.66 Q1281.64 1513.66 1284.7 1518.27 Q1287.78 1522.85 1287.78 1531.6 Q1287.78 1540.33 1284.7 1544.94 Q1281.64 1549.52 1275.83 1549.52 Q1270.02 1549.52 1266.95 1544.94 Q1263.89 1540.33 1263.89 1531.6 Q1263.89 1522.85 1266.95 1518.27 Q1270.02 1513.66 1275.83 1513.66 Z\" fill=\"#000000\" fill-rule=\"nonzero\" fill-opacity=\"1\" /><path clip-path=\"url(#clip860)\" d=\"M1567.47 1544.91 L1575.1 1544.91 L1575.1 1518.55 L1566.79 1520.21 L1566.79 1515.95 L1575.06 1514.29 L1579.73 1514.29 L1579.73 1544.91 L1587.37 1544.91 L1587.37 1548.85 L1567.47 1548.85 L1567.47 1544.91 Z\" fill=\"#000000\" fill-rule=\"nonzero\" fill-opacity=\"1\" /><path clip-path=\"url(#clip860)\" d=\"M1596.82 1542.97 L1601.7 1542.97 L1601.7 1548.85 L1596.82 1548.85 L1596.82 1542.97 Z\" fill=\"#000000\" fill-rule=\"nonzero\" fill-opacity=\"1\" /><path clip-path=\"url(#clip860)\" d=\"M1612.7 1544.91 L1620.34 1544.91 L1620.34 1518.55 L1612.03 1520.21 L1612.03 1515.95 L1620.29 1514.29 L1624.97 1514.29 L1624.97 1544.91 L1632.6 1544.91 L1632.6 1548.85 L1612.7 1548.85 L1612.7 1544.91 Z\" fill=\"#000000\" fill-rule=\"nonzero\" fill-opacity=\"1\" /><path clip-path=\"url(#clip860)\" d=\"M1913.09 1544.91 L1920.73 1544.91 L1920.73 1518.55 L1912.42 1520.21 L1912.42 1515.95 L1920.68 1514.29 L1925.36 1514.29 L1925.36 1544.91 L1933 1544.91 L1933 1548.85 L1913.09 1548.85 L1913.09 1544.91 Z\" fill=\"#000000\" fill-rule=\"nonzero\" fill-opacity=\"1\" /><path clip-path=\"url(#clip860)\" d=\"M1942.44 1542.97 L1947.33 1542.97 L1947.33 1548.85 L1942.44 1548.85 L1942.44 1542.97 Z\" fill=\"#000000\" fill-rule=\"nonzero\" fill-opacity=\"1\" /><path clip-path=\"url(#clip860)\" d=\"M1961.54 1544.91 L1977.86 1544.91 L1977.86 1548.85 L1955.91 1548.85 L1955.91 1544.91 Q1958.58 1542.16 1963.16 1537.53 Q1967.77 1532.88 1968.95 1531.53 Q1971.19 1529.01 1972.07 1527.27 Q1972.97 1525.51 1972.97 1523.82 Q1972.97 1521.07 1971.03 1519.33 Q1969.11 1517.6 1966.01 1517.6 Q1963.81 1517.6 1961.35 1518.36 Q1958.92 1519.13 1956.14 1520.68 L1956.14 1515.95 Q1958.97 1514.82 1961.42 1514.24 Q1963.88 1513.66 1965.91 1513.66 Q1971.28 1513.66 1974.48 1516.35 Q1977.67 1519.03 1977.67 1523.52 Q1977.67 1525.65 1976.86 1527.57 Q1976.08 1529.47 1973.97 1532.07 Q1973.39 1532.74 1970.29 1535.95 Q1967.19 1539.15 1961.54 1544.91 Z\" fill=\"#000000\" fill-rule=\"nonzero\" fill-opacity=\"1\" /><path clip-path=\"url(#clip860)\" d=\"M2258.05 1544.91 L2265.69 1544.91 L2265.69 1518.55 L2257.38 1520.21 L2257.38 1515.95 L2265.65 1514.29 L2270.32 1514.29 L2270.32 1544.91 L2277.96 1544.91 L2277.96 1548.85 L2258.05 1548.85 L2258.05 1544.91 Z\" fill=\"#000000\" fill-rule=\"nonzero\" fill-opacity=\"1\" /><path clip-path=\"url(#clip860)\" d=\"M2287.41 1542.97 L2292.29 1542.97 L2292.29 1548.85 L2287.41 1548.85 L2287.41 1542.97 Z\" fill=\"#000000\" fill-rule=\"nonzero\" fill-opacity=\"1\" /><path clip-path=\"url(#clip860)\" d=\"M2316.64 1530.21 Q2320 1530.93 2321.87 1533.2 Q2323.77 1535.47 2323.77 1538.8 Q2323.77 1543.92 2320.25 1546.72 Q2316.73 1549.52 2310.25 1549.52 Q2308.08 1549.52 2305.76 1549.08 Q2303.47 1548.66 2301.02 1547.81 L2301.02 1543.29 Q2302.96 1544.43 2305.28 1545.01 Q2307.59 1545.58 2310.11 1545.58 Q2314.51 1545.58 2316.8 1543.85 Q2319.12 1542.11 2319.12 1538.8 Q2319.12 1535.75 2316.97 1534.03 Q2314.84 1532.3 2311.02 1532.3 L2306.99 1532.3 L2306.99 1528.45 L2311.2 1528.45 Q2314.65 1528.45 2316.48 1527.09 Q2318.31 1525.7 2318.31 1523.11 Q2318.31 1520.45 2316.41 1519.03 Q2314.54 1517.6 2311.02 1517.6 Q2309.1 1517.6 2306.9 1518.01 Q2304.7 1518.43 2302.06 1519.31 L2302.06 1515.14 Q2304.72 1514.4 2307.04 1514.03 Q2309.37 1513.66 2311.43 1513.66 Q2316.76 1513.66 2319.86 1516.09 Q2322.96 1518.5 2322.96 1522.62 Q2322.96 1525.49 2321.32 1527.48 Q2319.67 1529.45 2316.64 1530.21 Z\" fill=\"#000000\" fill-rule=\"nonzero\" fill-opacity=\"1\" /><polyline clip-path=\"url(#clip862)\" style=\"stroke:#000000; stroke-linecap:round; stroke-linejoin:round; stroke-width:2; stroke-opacity:0.1; fill:none\" points=\"155.765,1440.97 2352.76,1440.97 \"/>\n",
       "<polyline clip-path=\"url(#clip862)\" style=\"stroke:#000000; stroke-linecap:round; stroke-linejoin:round; stroke-width:2; stroke-opacity:0.1; fill:none\" points=\"155.765,1158 2352.76,1158 \"/>\n",
       "<polyline clip-path=\"url(#clip862)\" style=\"stroke:#000000; stroke-linecap:round; stroke-linejoin:round; stroke-width:2; stroke-opacity:0.1; fill:none\" points=\"155.765,875.032 2352.76,875.032 \"/>\n",
       "<polyline clip-path=\"url(#clip862)\" style=\"stroke:#000000; stroke-linecap:round; stroke-linejoin:round; stroke-width:2; stroke-opacity:0.1; fill:none\" points=\"155.765,592.061 2352.76,592.061 \"/>\n",
       "<polyline clip-path=\"url(#clip862)\" style=\"stroke:#000000; stroke-linecap:round; stroke-linejoin:round; stroke-width:2; stroke-opacity:0.1; fill:none\" points=\"155.765,309.091 2352.76,309.091 \"/>\n",
       "<polyline clip-path=\"url(#clip860)\" style=\"stroke:#000000; stroke-linecap:round; stroke-linejoin:round; stroke-width:4; stroke-opacity:1; fill:none\" points=\"155.765,1486.45 155.765,47.2441 \"/>\n",
       "<polyline clip-path=\"url(#clip860)\" style=\"stroke:#000000; stroke-linecap:round; stroke-linejoin:round; stroke-width:4; stroke-opacity:1; fill:none\" points=\"155.765,1440.97 174.663,1440.97 \"/>\n",
       "<polyline clip-path=\"url(#clip860)\" style=\"stroke:#000000; stroke-linecap:round; stroke-linejoin:round; stroke-width:4; stroke-opacity:1; fill:none\" points=\"155.765,1158 174.663,1158 \"/>\n",
       "<polyline clip-path=\"url(#clip860)\" style=\"stroke:#000000; stroke-linecap:round; stroke-linejoin:round; stroke-width:4; stroke-opacity:1; fill:none\" points=\"155.765,875.032 174.663,875.032 \"/>\n",
       "<polyline clip-path=\"url(#clip860)\" style=\"stroke:#000000; stroke-linecap:round; stroke-linejoin:round; stroke-width:4; stroke-opacity:1; fill:none\" points=\"155.765,592.061 174.663,592.061 \"/>\n",
       "<polyline clip-path=\"url(#clip860)\" style=\"stroke:#000000; stroke-linecap:round; stroke-linejoin:round; stroke-width:4; stroke-opacity:1; fill:none\" points=\"155.765,309.091 174.663,309.091 \"/>\n",
       "<path clip-path=\"url(#clip860)\" d=\"M53.3995 1454.32 L61.0384 1454.32 L61.0384 1427.95 L52.7282 1429.62 L52.7282 1425.36 L60.9921 1423.69 L65.668 1423.69 L65.668 1454.32 L73.3068 1454.32 L73.3068 1458.25 L53.3995 1458.25 L53.3995 1454.32 Z\" fill=\"#000000\" fill-rule=\"nonzero\" fill-opacity=\"1\" /><path clip-path=\"url(#clip860)\" d=\"M82.7512 1452.37 L87.6354 1452.37 L87.6354 1458.25 L82.7512 1458.25 L82.7512 1452.37 Z\" fill=\"#000000\" fill-rule=\"nonzero\" fill-opacity=\"1\" /><path clip-path=\"url(#clip860)\" d=\"M107.821 1426.77 Q104.209 1426.77 102.381 1430.34 Q100.575 1433.88 100.575 1441.01 Q100.575 1448.11 102.381 1451.68 Q104.209 1455.22 107.821 1455.22 Q111.455 1455.22 113.26 1451.68 Q115.089 1448.11 115.089 1441.01 Q115.089 1433.88 113.26 1430.34 Q111.455 1426.77 107.821 1426.77 M107.821 1423.07 Q113.631 1423.07 116.686 1427.67 Q119.765 1432.26 119.765 1441.01 Q119.765 1449.73 116.686 1454.34 Q113.631 1458.92 107.821 1458.92 Q102.01 1458.92 98.9317 1454.34 Q95.8761 1449.73 95.8761 1441.01 Q95.8761 1432.26 98.9317 1427.67 Q102.01 1423.07 107.821 1423.07 Z\" fill=\"#000000\" fill-rule=\"nonzero\" fill-opacity=\"1\" /><path clip-path=\"url(#clip860)\" d=\"M54.3949 1171.35 L62.0337 1171.35 L62.0337 1144.98 L53.7236 1146.65 L53.7236 1142.39 L61.9874 1140.72 L66.6633 1140.72 L66.6633 1171.35 L74.3022 1171.35 L74.3022 1175.28 L54.3949 1175.28 L54.3949 1171.35 Z\" fill=\"#000000\" fill-rule=\"nonzero\" fill-opacity=\"1\" /><path clip-path=\"url(#clip860)\" d=\"M83.7466 1169.4 L88.6308 1169.4 L88.6308 1175.28 L83.7466 1175.28 L83.7466 1169.4 Z\" fill=\"#000000\" fill-rule=\"nonzero\" fill-opacity=\"1\" /><path clip-path=\"url(#clip860)\" d=\"M98.8622 1140.72 L117.219 1140.72 L117.219 1144.66 L103.145 1144.66 L103.145 1153.13 Q104.163 1152.78 105.182 1152.62 Q106.2 1152.44 107.219 1152.44 Q113.006 1152.44 116.385 1155.61 Q119.765 1158.78 119.765 1164.19 Q119.765 1169.77 116.293 1172.88 Q112.82 1175.95 106.501 1175.95 Q104.325 1175.95 102.057 1175.58 Q99.8113 1175.21 97.4039 1174.47 L97.4039 1169.77 Q99.4872 1170.91 101.709 1171.46 Q103.932 1172.02 106.408 1172.02 Q110.413 1172.02 112.751 1169.91 Q115.089 1167.81 115.089 1164.19 Q115.089 1160.58 112.751 1158.48 Q110.413 1156.37 106.408 1156.37 Q104.534 1156.37 102.659 1156.79 Q100.807 1157.2 98.8622 1158.08 L98.8622 1140.72 Z\" fill=\"#000000\" fill-rule=\"nonzero\" fill-opacity=\"1\" /><path clip-path=\"url(#clip860)\" d=\"M56.6171 888.377 L72.9365 888.377 L72.9365 892.312 L50.9921 892.312 L50.9921 888.377 Q53.6541 885.622 58.2375 880.993 Q62.8439 876.34 64.0245 874.997 Q66.2698 872.474 67.1494 870.738 Q68.0522 868.979 68.0522 867.289 Q68.0522 864.534 66.1078 862.798 Q64.1865 861.062 61.0847 861.062 Q58.8856 861.062 56.4319 861.826 Q54.0014 862.59 51.2236 864.141 L51.2236 859.419 Q54.0477 858.284 56.5014 857.706 Q58.955 857.127 60.9921 857.127 Q66.3624 857.127 69.5568 859.812 Q72.7513 862.497 72.7513 866.988 Q72.7513 869.118 71.9411 871.039 Q71.1541 872.937 69.0476 875.53 Q68.4689 876.201 65.367 879.419 Q62.2652 882.613 56.6171 888.377 Z\" fill=\"#000000\" fill-rule=\"nonzero\" fill-opacity=\"1\" /><path clip-path=\"url(#clip860)\" d=\"M82.7512 886.432 L87.6354 886.432 L87.6354 892.312 L82.7512 892.312 L82.7512 886.432 Z\" fill=\"#000000\" fill-rule=\"nonzero\" fill-opacity=\"1\" /><path clip-path=\"url(#clip860)\" d=\"M107.821 860.831 Q104.209 860.831 102.381 864.395 Q100.575 867.937 100.575 875.067 Q100.575 882.173 102.381 885.738 Q104.209 889.28 107.821 889.28 Q111.455 889.28 113.26 885.738 Q115.089 882.173 115.089 875.067 Q115.089 867.937 113.26 864.395 Q111.455 860.831 107.821 860.831 M107.821 857.127 Q113.631 857.127 116.686 861.733 Q119.765 866.317 119.765 875.067 Q119.765 883.793 116.686 888.4 Q113.631 892.983 107.821 892.983 Q102.01 892.983 98.9317 888.4 Q95.8761 883.793 95.8761 875.067 Q95.8761 866.317 98.9317 861.733 Q102.01 857.127 107.821 857.127 Z\" fill=\"#000000\" fill-rule=\"nonzero\" fill-opacity=\"1\" /><path clip-path=\"url(#clip860)\" d=\"M57.6125 605.406 L73.9318 605.406 L73.9318 609.341 L51.9875 609.341 L51.9875 605.406 Q54.6495 602.652 59.2328 598.022 Q63.8393 593.369 65.0198 592.027 Q67.2652 589.504 68.1448 587.767 Q69.0476 586.008 69.0476 584.318 Q69.0476 581.564 67.1032 579.828 Q65.1819 578.092 62.08 578.092 Q59.881 578.092 57.4273 578.855 Q54.9967 579.619 52.219 581.17 L52.219 576.448 Q55.043 575.314 57.4967 574.735 Q59.9504 574.156 61.9874 574.156 Q67.3578 574.156 70.5522 576.842 Q73.7466 579.527 73.7466 584.018 Q73.7466 586.147 72.9365 588.068 Q72.1494 589.967 70.0429 592.559 Q69.4642 593.23 66.3624 596.448 Q63.2606 599.642 57.6125 605.406 Z\" fill=\"#000000\" fill-rule=\"nonzero\" fill-opacity=\"1\" /><path clip-path=\"url(#clip860)\" d=\"M83.7466 603.462 L88.6308 603.462 L88.6308 609.341 L83.7466 609.341 L83.7466 603.462 Z\" fill=\"#000000\" fill-rule=\"nonzero\" fill-opacity=\"1\" /><path clip-path=\"url(#clip860)\" d=\"M98.8622 574.781 L117.219 574.781 L117.219 578.717 L103.145 578.717 L103.145 587.189 Q104.163 586.842 105.182 586.68 Q106.2 586.494 107.219 586.494 Q113.006 586.494 116.385 589.666 Q119.765 592.837 119.765 598.254 Q119.765 603.832 116.293 606.934 Q112.82 610.013 106.501 610.013 Q104.325 610.013 102.057 609.642 Q99.8113 609.272 97.4039 608.531 L97.4039 603.832 Q99.4872 604.966 101.709 605.522 Q103.932 606.078 106.408 606.078 Q110.413 606.078 112.751 603.971 Q115.089 601.865 115.089 598.254 Q115.089 594.642 112.751 592.536 Q110.413 590.43 106.408 590.43 Q104.534 590.43 102.659 590.846 Q100.807 591.263 98.8622 592.142 L98.8622 574.781 Z\" fill=\"#000000\" fill-rule=\"nonzero\" fill-opacity=\"1\" /><path clip-path=\"url(#clip860)\" d=\"M66.7559 307.737 Q70.1124 308.454 71.9874 310.723 Q73.8855 312.991 73.8855 316.325 Q73.8855 321.44 70.367 324.241 Q66.8485 327.042 60.3671 327.042 Q58.1912 327.042 55.8764 326.602 Q53.5847 326.186 51.131 325.329 L51.131 320.815 Q53.0754 321.95 55.3903 322.528 Q57.7051 323.107 60.2282 323.107 Q64.6263 323.107 66.918 321.371 Q69.2328 319.635 69.2328 316.325 Q69.2328 313.269 67.08 311.556 Q64.9504 309.82 61.131 309.82 L57.1032 309.82 L57.1032 305.978 L61.3161 305.978 Q64.7652 305.978 66.5939 304.612 Q68.4226 303.223 68.4226 300.63 Q68.4226 297.968 66.5245 296.556 Q64.6495 295.121 61.131 295.121 Q59.2097 295.121 57.0106 295.538 Q54.8115 295.954 52.1727 296.834 L52.1727 292.667 Q54.8347 291.927 57.1495 291.556 Q59.4875 291.186 61.5476 291.186 Q66.8717 291.186 69.9735 293.616 Q73.0753 296.024 73.0753 300.144 Q73.0753 303.015 71.4318 305.005 Q69.7883 306.973 66.7559 307.737 Z\" fill=\"#000000\" fill-rule=\"nonzero\" fill-opacity=\"1\" /><path clip-path=\"url(#clip860)\" d=\"M82.7512 320.491 L87.6354 320.491 L87.6354 326.371 L82.7512 326.371 L82.7512 320.491 Z\" fill=\"#000000\" fill-rule=\"nonzero\" fill-opacity=\"1\" /><path clip-path=\"url(#clip860)\" d=\"M107.821 294.89 Q104.209 294.89 102.381 298.454 Q100.575 301.996 100.575 309.126 Q100.575 316.232 102.381 319.797 Q104.209 323.339 107.821 323.339 Q111.455 323.339 113.26 319.797 Q115.089 316.232 115.089 309.126 Q115.089 301.996 113.26 298.454 Q111.455 294.89 107.821 294.89 M107.821 291.186 Q113.631 291.186 116.686 295.792 Q119.765 300.376 119.765 309.126 Q119.765 317.852 116.686 322.459 Q113.631 327.042 107.821 327.042 Q102.01 327.042 98.9317 322.459 Q95.8761 317.852 95.8761 309.126 Q95.8761 300.376 98.9317 295.792 Q102.01 291.186 107.821 291.186 Z\" fill=\"#000000\" fill-rule=\"nonzero\" fill-opacity=\"1\" /><polyline clip-path=\"url(#clip862)\" style=\"stroke:#009af9; stroke-linecap:round; stroke-linejoin:round; stroke-width:4; stroke-opacity:1; fill:none\" points=\"217.944,87.9763 333.09,1445.72 448.236,1445.38 563.383,1444.65 678.529,1442.84 793.675,1439.95 908.822,1438.78 1023.97,1436.02 1139.11,1435.36 1254.26,1435.53 1369.41,1435.77 1484.55,1435.43 1599.7,1435.75 1714.85,1435.42 1829.99,1435.68 1945.14,1435.93 2060.28,1436.01 2175.43,1436.23 2290.58,1436.3 \"/>\n",
       "<path clip-path=\"url(#clip860)\" d=\"M2007.39 198.898 L2279.52 198.898 L2279.52 95.2176 L2007.39 95.2176  Z\" fill=\"#ffffff\" fill-rule=\"evenodd\" fill-opacity=\"1\"/>\n",
       "<polyline clip-path=\"url(#clip860)\" style=\"stroke:#000000; stroke-linecap:round; stroke-linejoin:round; stroke-width:4; stroke-opacity:1; fill:none\" points=\"2007.39,198.898 2279.52,198.898 2279.52,95.2176 2007.39,95.2176 2007.39,198.898 \"/>\n",
       "<polyline clip-path=\"url(#clip860)\" style=\"stroke:#009af9; stroke-linecap:round; stroke-linejoin:round; stroke-width:4; stroke-opacity:1; fill:none\" points=\"2031.8,147.058 2178.27,147.058 \"/>\n",
       "<path clip-path=\"url(#clip860)\" d=\"M2216.52 166.745 Q2214.72 171.375 2213.01 172.787 Q2211.29 174.199 2208.42 174.199 L2205.02 174.199 L2205.02 170.634 L2207.52 170.634 Q2209.28 170.634 2210.25 169.8 Q2211.22 168.967 2212.4 165.865 L2213.17 163.921 L2202.68 138.412 L2207.2 138.412 L2215.3 158.689 L2223.4 138.412 L2227.91 138.412 L2216.52 166.745 Z\" fill=\"#000000\" fill-rule=\"nonzero\" fill-opacity=\"1\" /><path clip-path=\"url(#clip860)\" d=\"M2235.2 160.402 L2242.84 160.402 L2242.84 134.037 L2234.53 135.703 L2234.53 131.444 L2242.8 129.778 L2247.47 129.778 L2247.47 160.402 L2255.11 160.402 L2255.11 164.338 L2235.2 164.338 L2235.2 160.402 Z\" fill=\"#000000\" fill-rule=\"nonzero\" fill-opacity=\"1\" /></svg>\n"
      ]
     },
     "metadata": {},
     "output_type": "display_data"
    }
   ],
   "source": [
    "plot(LinRange(a,b,2*M-1),GDP[:,1])\n",
    "#plot!(LinRange(a,b,2*M-1),GDP[:,2])\n",
    "#plot!(LinRange(a,b,2*M-1),GDP[:,3])"
   ]
  },
  {
   "cell_type": "code",
   "execution_count": 13,
   "id": "a97eacab",
   "metadata": {},
   "outputs": [
    {
     "data": {
      "text/plain": [
       "1"
      ]
     },
     "metadata": {},
     "output_type": "display_data"
    }
   ],
   "source": [
    "Threads.nthreads()"
   ]
  },
  {
   "cell_type": "code",
   "execution_count": 15,
   "id": "e42e14bb",
   "metadata": {},
   "outputs": [
    {
     "data": {
      "text/plain": [
       "19×3 Matrix{Float64}:\n",
       " 3.3907    4.9875   1.01261\n",
       " 0.99162   2.71701  1.01394\n",
       " 0.992212  1.00974  1.01198\n",
       " 0.993508  1.00788  1.01086\n",
       " 0.9967    1.00619  1.00971\n",
       " 1.00181   1.00928  1.00905\n",
       " 1.00388   1.00965  1.0093\n",
       " 1.00875   1.01141  1.00807\n",
       " 1.00992   1.01204  1.01142\n",
       " 1.00961   1.00961  1.00961\n",
       " 1.0092    1.00792  1.00835\n",
       " 1.0098    1.0086   1.00747\n",
       " 1.00924   1.00683  1.00664\n",
       " 1.00981   1.0063   1.00497\n",
       " 1.00934   1.00562  1.00439\n",
       " 1.00891   1.00501  1.00291\n",
       " 1.00876   1.00459  1.0015\n",
       " 1.00839   1.00286  1.00017\n",
       " 1.00826   1.00359  0.999687"
      ]
     },
     "metadata": {},
     "output_type": "display_data"
    }
   ],
   "source": [
    "GDP"
   ]
  },
  {
   "cell_type": "code",
   "execution_count": null,
   "id": "77d552fc",
   "metadata": {},
   "outputs": [],
   "source": []
  }
 ],
 "metadata": {
  "kernelspec": {
   "display_name": "Julia 1.8.0",
   "language": "julia",
   "name": "julia-1.8"
  },
  "language_info": {
   "file_extension": ".jl",
   "mimetype": "application/julia",
   "name": "julia",
   "version": "1.8.0"
  }
 },
 "nbformat": 4,
 "nbformat_minor": 5
}

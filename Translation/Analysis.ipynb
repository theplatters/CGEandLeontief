{
 "cells": [
  {
   "cell_type": "code",
   "execution_count": 4,
   "id": "8753bdc5-e882-4c61-a8f2-c8c9b79c961f",
   "metadata": {},
   "outputs": [],
   "source": [
    "using MAT, Statistics, LinearAlgebra,Random, Plots"
   ]
  },
  {
   "cell_type": "code",
   "execution_count": 5,
   "id": "196a4e30-3fd6-4ea1-8cae-d59d4018151d",
   "metadata": {},
   "outputs": [
    {
     "data": {
      "text/plain": [
       "mvnrnd (generic function with 1 method)"
      ]
     },
     "execution_count": 5,
     "metadata": {},
     "output_type": "execute_result"
    }
   ],
   "source": [
    "include(\"mvnrnd.jl\")"
   ]
  },
  {
   "cell_type": "markdown",
   "id": "7edec650-2702-4d81-95f7-7ea02545dd1c",
   "metadata": {},
   "source": [
    "Reads in all the variables optained that are used in line 93 and onwards and are defined before that."
   ]
  },
  {
   "cell_type": "code",
   "execution_count": 6,
   "id": "43cbe81d-fdda-4954-bfe6-f40a0184aadd",
   "metadata": {},
   "outputs": [],
   "source": [
    "function string_as_varname(s::AbstractString,v::Any)\n",
    "         s=Symbol(s)\n",
    "         @eval (($s) = ($v))\n",
    "end\n",
    "\n",
    "file = matopen(\"simulationData.mat\")\n",
    "\n",
    "#Reads in ju[IO, price, Omega, data, labor, mu, aggtfp, alpha, grossy, stfp, beta, agggdp, Sigma, capital, vadd]\n",
    "\n",
    "varnames = names(file)\n",
    "for varname in varnames\n",
    "    val = read(file, varname)\n",
    "    # Instantiate the variable with its name in the current scope\n",
    "    string_as_varname(varname,val)\n",
    "    end\n",
    "\n",
    "close(file)"
   ]
  },
  {
   "cell_type": "markdown",
   "id": "02220dec-96c3-45e0-9e7d-0246353d1fa9",
   "metadata": {},
   "source": [
    "We now want to figure out what every variable stands for, and where it comes from.\n",
    "So far we know:\n",
    "- **IO**: Input-Output Matrix\n",
    "- **STFP** Sectoral TFP Groth per anno\n",
    "- **$\\Omega$**: I think this is the same as in *Definition 3* Es gilt $$(\\Omega)_i^j = \\frac {(\\mathit{IO})_i^j} {\\sum_{k=0}^N(\\mathit{IO}_k^j)}$$ Also der Anteil eines Sektors $i$ an der Gesamptproduktion des Sektors $j$\n",
    "- **$\\Sigma$**: Covarianz von SFTP\n",
    "- **$\\mu$**: Rowwise mean of stfp. So the mean annual groth of each sector\n",
    "- **data**: quantity data matrix\n",
    "- **price**: price data matrix. I think price and data are for our anyalsis quite useless, they are used as building blocks"
   ]
  },
  {
   "cell_type": "markdown",
   "id": "6cecbba8-ad27-4340-8352-0879d677bcef",
   "metadata": {},
   "source": [
    "This is not used anywhere in the code."
   ]
  },
  {
   "cell_type": "code",
   "execution_count": 7,
   "id": "e016ae2b-1224-46a9-9e84-d1e44e3da203",
   "metadata": {},
   "outputs": [],
   "source": [
    "cum_stfp = cumsum(log.(1 .+ stfp)',dims=1);\n",
    "cum_stfp_4year = cum_stfp[:,begin:4:end];\n",
    "covariance_4year = Statistics.cov(cum_stfp_4year,dims=2,corrected=false);"
   ]
  },
  {
   "cell_type": "markdown",
   "id": "63a3ef56-7cc6-4b7c-80cc-c81dcbe1158b",
   "metadata": {},
   "source": [
    "Here comes the randomness. As far as i can tell the generated vectors have mean $\\mu = \\text{Var}(\\mathit{stfp})$ and $\\sigma = \\text{Var}(\\mathit{stfp})$ Because $\\sigma$ is a Diagonal Matrix, there is no correlation between each random number, what makes this rather perculiar. Intuition wise I would say, that this implies, that the shocks are independent of one-another."
   ]
  },
  {
   "cell_type": "code",
   "execution_count": 8,
   "id": "e9d051ee-5243-474b-91af-878ef1ccf2e3",
   "metadata": {},
   "outputs": [],
   "source": [
    "A = exp.(mvnrnd(-1/2*diag(Sigma),diagm(diag(Sigma))));"
   ]
  },
  {
   "cell_type": "code",
   "execution_count": 9,
   "id": "6136acfa-072b-4d45-b492-67a4f6568c39",
   "metadata": {},
   "outputs": [
    {
     "data": {
      "text/plain": [
       "4048×94 Matrix{Float64}:\n",
       " 1960.0   1.0  0.33   0.211  0.081  …  1.0  1.0  1.0  0.161  1.0  0.207\n",
       " 1961.0   1.0  0.337  0.229  0.087     1.0  1.0  1.0  0.166  1.0  0.201\n",
       " 1962.0   1.0  0.352  0.227  0.095     1.0  1.0  1.0  0.164  1.0  0.196\n",
       " 1963.0   1.0  0.349  0.223  0.101     1.0  1.0  1.0  0.17   1.0  0.191\n",
       " 1964.0   1.0  0.347  0.182  0.121     1.0  1.0  1.0  0.171  1.0  0.214\n",
       " 1965.0   1.0  0.364  0.225  0.126  …  1.0  1.0  1.0  0.174  1.0  0.213\n",
       " 1966.0   1.0  0.4    0.249  0.142     1.0  1.0  1.0  0.179  1.0  0.222\n",
       " 1967.0   1.0  0.379  0.224  0.157     1.0  1.0  1.0  0.183  1.0  0.213\n",
       " 1968.0   1.0  0.385  0.212  0.173     1.0  1.0  1.0  0.191  1.0  0.209\n",
       " 1969.0   1.0  0.432  0.306  0.185     1.0  1.0  1.0  0.2    1.0  0.218\n",
       " 1970.0   1.0  0.44   0.309  0.189  …  1.0  1.0  1.0  0.211  1.0  0.235\n",
       " 1971.0   1.0  0.429  0.365  0.178     1.0  1.0  1.0  0.226  1.0  0.235\n",
       " 1972.0   1.0  0.521  0.514  0.183     1.0  1.0  1.0  0.233  1.0  0.256\n",
       "    ⋮                               ⋱            ⋮                \n",
       " 1994.0  88.0  0.94   0.95   0.931     1.0  1.0  1.0  1.0    1.0  1.0\n",
       " 1995.0  88.0  0.924  0.914  0.933     1.0  1.0  1.0  1.0    1.0  1.0\n",
       " 1996.0  88.0  1.0    1.0    1.0       1.0  1.0  1.0  1.0    1.0  1.0\n",
       " 1997.0  88.0  1.039  1.043  1.034     1.0  1.0  1.0  1.0    1.0  1.0\n",
       " 1998.0  88.0  1.053  1.055  1.051  …  1.0  1.0  1.0  1.0    1.0  1.0\n",
       " 1999.0  88.0  1.034  0.979  1.091     1.0  1.0  1.0  1.0    1.0  1.0\n",
       " 2000.0  88.0  1.06   0.967  1.156     1.0  1.0  1.0  1.0    1.0  1.0\n",
       " 2001.0  88.0  1.034  0.904  1.169     1.0  1.0  1.0  1.0    1.0  1.0\n",
       " 2002.0  88.0  1.141  0.964  1.326     1.0  1.0  1.0  1.0    1.0  1.0\n",
       " 2003.0  88.0  1.239  0.972  1.518  …  1.0  1.0  1.0  1.0    1.0  1.0\n",
       " 2004.0  88.0  1.302  0.957  1.663     1.0  1.0  1.0  1.0    1.0  1.0\n",
       " 2005.0  88.0  1.364  0.957  1.791     1.0  1.0  1.0  1.0    1.0  1.0"
      ]
     },
     "execution_count": 9,
     "metadata": {},
     "output_type": "execute_result"
    }
   ],
   "source": [
    "price"
   ]
  },
  {
   "cell_type": "code",
   "execution_count": null,
   "id": "823279c9-4d8a-4e6d-b82e-d3835c1cb758",
   "metadata": {},
   "outputs": [],
   "source": []
  }
 ],
 "metadata": {
  "kernelspec": {
   "display_name": "Julia 1.8.0",
   "language": "julia",
   "name": "julia-1.8"
  },
  "language_info": {
   "file_extension": ".jl",
   "mimetype": "application/julia",
   "name": "julia",
   "version": "1.8.0"
  }
 },
 "nbformat": 4,
 "nbformat_minor": 5
}

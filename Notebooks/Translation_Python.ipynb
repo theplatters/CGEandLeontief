{
 "cells": [
  {
   "cell_type": "markdown",
   "id": "9167773d-11ed-4c2e-9977-ceba8403f95d",
   "metadata": {},
   "source": [
    "## Data Loading\n",
    "Loads in the big data matrix and the stfp matrix created by matlab"
   ]
  },
  {
   "cell_type": "code",
   "execution_count": 2,
   "id": "95079eac-5c20-40c9-a0b7-9811617984be",
   "metadata": {
    "ExecuteTime": {
     "end_time": "2023-09-07T10:42:47.568130293Z",
     "start_time": "2023-09-07T10:42:47.144389144Z"
    }
   },
   "outputs": [],
   "source": [
    "from scipy.io import loadmat\n",
    "\n",
    "def load_in_data():\n",
    "    file = scipy.io.loadmat(\"data/simulationData.mat\")\n",
    "    data = file[\"data\"]\n",
    "    return data\n",
    "\n",
    "def load_stfp():\n",
    "    file = scipy.io.loadmat(\"data/stfp.mat\")\n",
    "    stfp = file[\"stfp\"]\n",
    "    return stfp\n"
   ]
  },
  {
   "cell_type": "markdown",
   "id": "9a348fd9-22b0-406f-ac47-661e3430a6f5",
   "metadata": {},
   "source": [
    "## Data processing\n",
    "Processes the data just as in the matlab version"
   ]
  },
  {
   "cell_type": "code",
   "execution_count": 3,
   "id": "70676b88-66d6-44c0-b2c0-ca73e6dbdd0a",
   "metadata": {
    "ExecuteTime": {
     "end_time": "2023-09-07T10:42:47.777218014Z",
     "start_time": "2023-09-07T10:42:47.749291886Z"
    }
   },
   "outputs": [
    {
     "name": "stdout",
     "output_type": "stream",
     "text": [
      "[Errno 2] No such file or directory: 'C:UsersRafaelDocumentsGitHubBeyondHulten'\n",
      "/home/franzs/Schreibtisch/BeyondHulten\n"
     ]
    }
   ],
   "source": [
    "# Set the notebook directory as the working directory\n",
    "%pwd\n",
    "%cd C:\\Users\\Rafael\\Documents\\GitHub\\BeyondHulten"
   ]
  },
  {
   "cell_type": "code",
   "execution_count": 4,
   "id": "b5ea1eb5-cee5-4262-aaf9-af8d118dacbd",
   "metadata": {
    "ExecuteTime": {
     "end_time": "2023-09-07T10:42:49.020027784Z",
     "start_time": "2023-09-07T10:42:48.152141824Z"
    }
   },
   "outputs": [],
   "source": [
    "import numpy as np\n",
    "import pandas as pd\n",
    "import scipy\n",
    "\n",
    "#data is the IO matrix for 88 sectors over 46 years (1960-2005)\n",
    "data2 = load_in_data()\n",
    "ind = pd.MultiIndex.from_arrays(data2[:, (0,1)].T, names=('year','sec'))\n",
    "data = pd.DataFrame(data2[:, 2:93], index=ind)\n",
    "del data2, ind"
   ]
  },
  {
   "cell_type": "code",
   "execution_count": 5,
   "id": "f7b1bdca-9f8c-4e75-85c9-95fb3981948d",
   "metadata": {
    "ExecuteTime": {
     "end_time": "2023-09-07T10:42:49.021792618Z",
     "start_time": "2023-09-07T10:42:48.951132523Z"
    }
   },
   "outputs": [
    {
     "name": "stdout",
     "output_type": "stream",
     "text": [
      "3434.026\n",
      "3433.7749999999996\n",
      "0    88366.023\n",
      "1    25623.402\n",
      "2    31151.107\n",
      "Name: (2005.0, 2.0), dtype: float64\n"
     ]
    }
   ],
   "source": [
    "#Column 0 of datavector contains gross output for each sector\n",
    "print(data.loc[(1960,2),0]*2) #first column times two\n",
    "print(data.loc[(1960,2)].sum()) #summed across all columns (including the sum in column 0 already)\n",
    "#Column 1 and 2 contain labour and capital\n",
    "print(data.loc[(2005,2),0:2])\n",
    "#Columns 3 to 90 contain the 88 sectors\n",
    "#Colum 91 contains noncompetitive imports\n"
   ]
  },
  {
   "cell_type": "code",
   "execution_count": 6,
   "id": "7670f8e1-a673-4a1f-b2ac-90f597e4f636",
   "metadata": {
    "ExecuteTime": {
     "end_time": "2023-09-07T10:42:49.025955237Z",
     "start_time": "2023-09-07T10:42:48.967669867Z"
    }
   },
   "outputs": [],
   "source": [
    "#delete 10 sectors\n",
    "removable_sectors = [59] + list(range(79, 88))\n",
    "data2 = data.drop(index=removable_sectors, level=1)\n",
    "\n",
    "#key aggregates\n",
    "grossy = data2.loc[:,0].unstack().T\n",
    "capital = data2.loc[:,1].unstack().T\n",
    "labor = data2.loc[:,2].unstack().T\n",
    "vadd = labor + capital\n",
    "\n",
    "#remaining sector list\n",
    "sec = list(range(1,89))\n",
    "for i in removable_sectors:\n",
    "    sec.remove(i)\n",
    "len(sec)\n",
    "\n",
    "#delete sectors which don't produce anything\n",
    "grossy.loc[(grossy==0).all(axis=1)] #sectors 8 and 62\n",
    "zeroprod = list(grossy.loc[(grossy==0).all(axis=1)].index.values)\n",
    "\n",
    "grossy = grossy.drop(index=zeroprod)\n",
    "capital = capital.drop(index=zeroprod)\n",
    "labor = labor.drop(index=zeroprod)\n",
    "vadd = vadd.drop(index=zeroprod)\n",
    "\n",
    "stfp = load_stfp()\n",
    "Σ = np.cov(stfp, rowvar=True)\n",
    "μ = np.mean(stfp, axis=1)"
   ]
  },
  {
   "cell_type": "markdown",
   "id": "55d7cee0-eb24-4438-a843-37c8492c7124",
   "metadata": {},
   "source": [
    "## Creating usable variables\n",
    "Function that creates the metrics for a given year"
   ]
  },
  {
   "cell_type": "code",
   "execution_count": 41,
   "id": "38d8979c-eb0c-4fd9-91c5-fef9436fec25",
   "metadata": {
    "ExecuteTime": {
     "end_time": "2023-09-07T11:00:22.159571087Z",
     "start_time": "2023-09-07T11:00:22.117824055Z"
    }
   },
   "outputs": [],
   "source": [
    "def get_variables(year):\n",
    "    IO = data.loc[year,:]\n",
    "\n",
    "    sectors_to_remove = list(map(int, grossy[year].index))\n",
    "    IO = IO.loc[sectors_to_remove,:]\n",
    "    IO = IO.drop([0,1,2] + [11,63,65] + list(range(82,91)),axis = 1)\n",
    "\n",
    "    Ω = IO.div(IO.sum(axis = 1),axis = 0).to_numpy()\n",
    "    \n",
    "    α = vadd[year]/grossy[year]\n",
    "    β = (np.eye(76) - np.diag(1 - α) @ Ω).T @ grossy[year]\n",
    "\n",
    "    β[β < 0] = 0\n",
    "    β = β / np.sum(β)\n",
    "    λ = np.linalg.inv( np.eye(len(grossy)) - np.diag(1 - α) @ Ω).T @ β\n",
    "    L = λ * α\n",
    "\n",
    "    return α, β, Ω, L, λ"
   ]
  },
  {
   "cell_type": "markdown",
   "id": "179d103c-a720-4bff-9b37-1ffd42f2d349",
   "metadata": {},
   "source": [
    "## Elasticities"
   ]
  },
  {
   "cell_type": "code",
   "execution_count": 34,
   "id": "7c6e12c3-258f-4013-ae6c-77cee418b3ce",
   "metadata": {
    "ExecuteTime": {
     "end_time": "2023-09-07T10:58:31.909364164Z",
     "start_time": "2023-09-07T10:58:31.906889961Z"
    }
   },
   "outputs": [],
   "source": [
    "ε = .5;\n",
    "θ = 0.001;\n",
    "σ = .9;"
   ]
  },
  {
   "cell_type": "markdown",
   "id": "94e008f0-2fd9-4047-a905-4c7b421df2ea",
   "metadata": {},
   "source": [
    "# Construction Site Below HERE"
   ]
  },
  {
   "cell_type": "markdown",
   "id": "362759e2-3dc3-4226-8bee-e9bdb79bd7d0",
   "metadata": {},
   "source": [
    "## Objective Function\n",
    "\n",
    "Here the objective function in `SimulationDerivs.m` is formulated, also the Jacobian is given, to helpt the solver."
   ]
  },
  {
   "cell_type": "code",
   "execution_count": 35,
   "id": "ef4b0373-f727-4d45-a9a7-6fc3f0a1c954",
   "metadata": {
    "ExecuteTime": {
     "end_time": "2023-09-07T10:58:32.391818522Z",
     "start_time": "2023-09-07T10:58:32.382158333Z"
    }
   },
   "outputs": [],
   "source": [
    "def problem(X, A, β, Ω, α, ε, θ, σ, L):\n",
    "    N = len(α)\n",
    "    p = X[:N]\n",
    "    y = X[N:]\n",
    "\n",
    "    Out = np.zeros(2 * N, dtype=X.dtype)\n",
    "\n",
    "    q = (Ω @ (np.abs(p) ** (1 - θ))) ** (1 / (1 - θ))\n",
    "    w = p * (A ** ((ε - 1) / ε)) * (α ** (1 / ε)) * (np.abs(y) ** (1 / ε)) * L ** (-1 / ε)\n",
    "    C = np.dot(w, L)\n",
    "\n",
    "    Out[:N] = p - (A ** (ε - 1) * (α * np.abs(w) ** (1 - ε) + (1 - α) * np.abs(q) ** (1 - ε))) ** (1 / (1 - ε))\n",
    "    Out[N:] = y - (y * np.abs(p) ** ε * A ** (ε - 1) * np.abs(q) ** (θ - ε) * (1 - α)) @ Ω @ (np.abs(p) ** - θ) - C * np.dot(β,np.abs(p)**-θ)  \n",
    "    return Out\n"
   ]
  },
  {
   "cell_type": "markdown",
   "id": "c29e2d8c-5656-4034-a4db-3b091fab4877",
   "metadata": {},
   "source": [
    "## Generating Random Shocks"
   ]
  },
  {
   "cell_type": "code",
   "execution_count": 24,
   "id": "45028840-a97b-452d-92ff-5bd423b4b672",
   "metadata": {
    "ExecuteTime": {
     "end_time": "2023-09-07T10:55:53.583549600Z",
     "start_time": "2023-09-07T10:55:53.219835409Z"
    }
   },
   "outputs": [],
   "source": [
    "from scipy.stats import multivariate_normal\n",
    "\n",
    "def generate_random_shock(Σ, α, Ω, λ):\n",
    "    n = len(Σ)\n",
    "    cov_matrix = np.diag(np.diag(Σ))\n",
    "    A = np.exp(multivariate_normal.rvs(mean=-0.5 * np.diag(Σ), cov=cov_matrix))\n",
    "    \n",
    "    inv_term = np.linalg.inv(np.eye(n) - np.diag(1 - α) @ Ω)\n",
    "    log_A = np.log(A)\n",
    "    init = np.concatenate((np.exp(-inv_term @ log_A), λ / np.exp(-inv_term @ log_A)))\n",
    "    \n",
    "    return A, init\n"
   ]
  },
  {
   "cell_type": "markdown",
   "id": "d3d4d553-f149-4cb1-91a2-4396307ebdbb",
   "metadata": {},
   "source": [
    "## Solving for shocks"
   ]
  },
  {
   "cell_type": "code",
   "execution_count": 27,
   "id": "0426cafc-5fb6-46d2-8b7f-f352df3c8b6f",
   "metadata": {
    "ExecuteTime": {
     "end_time": "2023-09-07T10:56:20.749271580Z",
     "start_time": "2023-09-07T10:56:20.373647970Z"
    }
   },
   "outputs": [
    {
     "data": {
      "text/plain": " message: The iteration is not making good progress, as measured by the \n            improvement from the last ten iterations.\n success: False\n  status: 5\n     fun: [       nan        nan ...        nan        nan]\n       x: [ 1.000e+00  1.000e+00 ...        nan        nan]\n    nfev: 315\n    fjac: [[       nan        nan ...        nan        nan]\n           [       nan        nan ...        nan        nan]\n           ...\n           [       nan        nan ...        nan        nan]\n           [       nan        nan ...        nan        nan]]\n       r: [       nan        nan ...        nan        nan]\n     qtf: [       nan        nan ...        nan        nan]"
     },
     "execution_count": 27,
     "metadata": {},
     "output_type": "execute_result"
    }
   ],
   "source": [
    "trials = 100\n",
    "GDP = np.zeros(trials)\n",
    "λ_sim = np.zeros((76, trials))\n",
    "α, β, Ω, L, λ = get_variables(1973)\n",
    "\n",
    "A = np.ones(76)\n",
    "p = np.ones(76)\n",
    "y = λ\n",
    "init = np.concatenate((p,y))\n",
    "\n",
    "sol = root(lambda x0 : problem(x0, A, β, Ω, α, ε, θ, σ, L), init, method='hybr')\n",
    "sol"
   ]
  },
  {
   "cell_type": "code",
   "execution_count": 26,
   "id": "39834cba-8093-450c-8699-7c77cbe4dcaa",
   "metadata": {
    "ExecuteTime": {
     "end_time": "2023-09-07T10:56:12.040629502Z",
     "start_time": "2023-09-07T10:56:03.988721418Z"
    }
   },
   "outputs": [],
   "source": [
    "#This is from ChatGPT\n",
    "\n",
    "import multiprocessing as mp\n",
    "from scipy.optimize import root\n",
    "\n",
    "# Parallel worker function\n",
    "def parallel_worker(k):\n",
    "    A, init = generate_random_shock(Σ, α, Ω, λ)\n",
    "    p = [A, β, Ω, α, ε, θ, σ, L]\n",
    "\n",
    "    sol = root(lambda x0 : problem(x0, A, β, Ω, α, ε, θ, σ, L), init, method='hybr')\n",
    "\n",
    "    x = np.real(sol.x)\n",
    "    p = x[:76]\n",
    "    q = x[76:]\n",
    "    gdp = np.dot(p * (A ** ((ε - 1) / ε)) * (α ** (1 / ε)) * (q ** (1 / ε)) * (L ** (-1 / ε)), L)\n",
    "    λ_sim[:, k] = (p * q) / gdp\n",
    "    return gdp\n",
    "\n",
    "# Parameters\n",
    "trials = 100\n",
    "GDP = np.zeros(trials)\n",
    "λ_sim = np.zeros((76, trials))\n",
    "\n",
    "factor_share, consumption_share, io_matrix, labor_share, domar_weights = get_variables(1973)\n",
    "# Parallel execution\n",
    "num_processes = mp.cpu_count()\n",
    "with mp.Pool(processes=num_processes) as pool:\n",
    "    results = pool.map(parallel_worker, range(trials))\n",
    "    GDP = np.array(results)\n",
    "\n",
    "# Now you have both GDP and λ_sim populated after the parallel execution"
   ]
  },
  {
   "cell_type": "code",
   "execution_count": 42,
   "id": "581499a4-14b6-457c-a5fb-7f794cde56b2",
   "metadata": {
    "ExecuteTime": {
     "end_time": "2023-09-07T11:00:25.768760156Z",
     "start_time": "2023-09-07T11:00:25.760448945Z"
    }
   },
   "outputs": [
    {
     "data": {
      "text/plain": "(sec\n 1.0     0.382400\n 2.0     0.711566\n 3.0     0.507806\n 4.0     0.685655\n 5.0     0.577023\n           ...   \n 75.0    0.616200\n 76.0    0.552584\n 77.0    0.494076\n 78.0    0.521410\n 88.0    1.000000\n Name: 1980.0, Length: 76, dtype: float64,\n array([nan, nan, nan, nan, nan, nan, nan, nan, nan, nan, nan, nan, nan,\n        nan, nan, nan, nan, nan, nan, nan, nan, nan, nan, nan, nan, nan,\n        nan, nan, nan, nan, nan, nan, nan, nan, nan, nan, nan, nan, nan,\n        nan, nan, nan, nan, nan, nan, nan, nan, nan, nan, nan, nan, nan,\n        nan, nan, nan, nan, nan, nan, nan, nan, nan, nan, nan, nan, nan,\n        nan, nan, nan, nan, nan, nan, nan, nan, nan, nan, nan]),\n array([[4.75435344e-01, 5.77677999e-02, 0.00000000e+00, ...,\n         5.52598110e-04, 3.49542942e-06, 1.10912172e-03],\n        [2.91568132e-01, 5.68733528e-03, 3.01401026e-03, ...,\n         3.36912193e-03, 4.86429001e-04, 6.42900079e-03],\n        [4.10085920e-02, 2.44806264e-01, 6.50243902e-02, ...,\n         1.65105322e-03, 2.71341463e-04, 3.82924058e-02],\n        ...,\n        [5.98344341e-03, 2.73826067e-03, 5.26995034e-04, ...,\n         6.77278363e-02, 3.43964624e-03, 4.08297421e-02],\n        [6.61137604e-03, 1.14872846e-03, 1.99996250e-06, ...,\n         1.88481466e-02, 2.60850109e-02, 1.22065711e-01],\n        [           nan,            nan,            nan, ...,\n                    nan,            nan,            nan]]),\n sec\n 1.0    NaN\n 2.0    NaN\n 3.0    NaN\n 4.0    NaN\n 5.0    NaN\n         ..\n 75.0   NaN\n 76.0   NaN\n 77.0   NaN\n 78.0   NaN\n 88.0   NaN\n Name: 1980.0, Length: 76, dtype: float64,\n array([nan, nan, nan, nan, nan, nan, nan, nan, nan, nan, nan, nan, nan,\n        nan, nan, nan, nan, nan, nan, nan, nan, nan, nan, nan, nan, nan,\n        nan, nan, nan, nan, nan, nan, nan, nan, nan, nan, nan, nan, nan,\n        nan, nan, nan, nan, nan, nan, nan, nan, nan, nan, nan, nan, nan,\n        nan, nan, nan, nan, nan, nan, nan, nan, nan, nan, nan, nan, nan,\n        nan, nan, nan, nan, nan, nan, nan, nan, nan, nan, nan]))"
     },
     "execution_count": 42,
     "metadata": {},
     "output_type": "execute_result"
    }
   ],
   "source": [
    "get_variables(1980)"
   ]
  },
  {
   "cell_type": "code",
   "execution_count": 40,
   "outputs": [
    {
     "data": {
      "text/plain": "array([[4.75435344e-01, 5.77677999e-02, 0.00000000e+00, ...,\n        5.52598110e-04, 3.49542942e-06, 1.10912172e-03],\n       [2.91568132e-01, 5.68733528e-03, 3.01401026e-03, ...,\n        3.36912193e-03, 4.86429001e-04, 6.42900079e-03],\n       [4.10085920e-02, 2.44806264e-01, 6.50243902e-02, ...,\n        1.65105322e-03, 2.71341463e-04, 3.82924058e-02],\n       ...,\n       [5.98344341e-03, 2.73826067e-03, 5.26995034e-04, ...,\n        6.77278363e-02, 3.43964624e-03, 4.08297421e-02],\n       [6.61137604e-03, 1.14872846e-03, 1.99996250e-06, ...,\n        1.88481466e-02, 2.60850109e-02, 1.22065711e-01],\n       [           nan,            nan,            nan, ...,\n                   nan,            nan,            nan]])"
     },
     "execution_count": 40,
     "metadata": {},
     "output_type": "execute_result"
    }
   ],
   "source": [
    "year = 1980\n",
    "IO = data.loc[year,:]\n",
    "\n",
    "sectors_to_remove = list(map(int, grossy[year].index))\n",
    "IO = IO.loc[sectors_to_remove,:]\n",
    "IO = IO.drop([0,1,2] + [11,63,65] + list(range(82,91)),axis = 1)\n",
    "\n",
    "Omega = IO.div(IO.sum(axis = 1),axis = 0).to_numpy()\n",
    "Omega\n"
   ],
   "metadata": {
    "collapsed": false,
    "ExecuteTime": {
     "end_time": "2023-09-07T10:59:44.805239559Z",
     "start_time": "2023-09-07T10:59:44.798082394Z"
    }
   }
  },
  {
   "cell_type": "code",
   "execution_count": 32,
   "outputs": [
    {
     "data": {
      "text/plain": "sec\n1.0     192930.766\n2.0       9931.359\n3.0       7847.249\n4.0       9679.871\n5.0      10097.496\n           ...    \n75.0     32919.063\n76.0     29221.633\n77.0     54836.395\n78.0     10373.695\n88.0     80206.633\nName: 1980.0, Length: 76, dtype: float64"
     },
     "execution_count": 32,
     "metadata": {},
     "output_type": "execute_result"
    }
   ],
   "source": [
    "grossy[1980]"
   ],
   "metadata": {
    "collapsed": false,
    "ExecuteTime": {
     "end_time": "2023-09-07T10:57:56.805901167Z",
     "start_time": "2023-09-07T10:57:56.796055781Z"
    }
   }
  },
  {
   "cell_type": "code",
   "execution_count": null,
   "outputs": [],
   "source": [],
   "metadata": {
    "collapsed": false
   }
  }
 ],
 "metadata": {
  "kernelspec": {
   "display_name": "Python 3 (ipykernel)",
   "language": "python",
   "name": "python3"
  },
  "language_info": {
   "codemirror_mode": {
    "name": "ipython",
    "version": 3
   },
   "file_extension": ".py",
   "mimetype": "text/x-python",
   "name": "python",
   "nbconvert_exporter": "python",
   "pygments_lexer": "ipython3",
   "version": "3.11.5"
  }
 },
 "nbformat": 4,
 "nbformat_minor": 5
}

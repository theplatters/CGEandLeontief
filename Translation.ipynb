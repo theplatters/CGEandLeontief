{
 "cells": [
  {
   "attachments": {},
   "cell_type": "markdown",
   "id": "5a8a6eff",
   "metadata": {},
   "source": [
    "## Include\n",
    "The environment with all the packages can be activated by typing `julia` and then `]`and then typing `activate BeyondHulten`"
   ]
  },
  {
   "cell_type": "code",
   "execution_count": 1,
   "id": "80563cd6-b3d0-48cd-8e33-da93a826f1a2",
   "metadata": {},
   "outputs": [
    {
     "data": {
      "text/plain": [
       "mvnrnd (generic function with 1 method)"
      ]
     },
     "metadata": {},
     "output_type": "display_data"
    }
   ],
   "source": [
    "using MAT, LinearAlgebra, Random , NonlinearSolve\n",
    "using StaticArrays, Distributed, SciMLNLSolve, LineSearches\n",
    "using JLD\n",
    "using Statistics\n",
    "using SharedArrays\n",
    "include(\"src/mvnrnd.jl\")"
   ]
  },
  {
   "attachments": {},
   "cell_type": "markdown",
   "id": "732c9b2a",
   "metadata": {},
   "source": [
    "## Data Loading\n",
    "Loads in the big data matrix and the stfp matrix created by matlab"
   ]
  },
  {
   "cell_type": "code",
   "execution_count": 2,
   "id": "37d3dcdc",
   "metadata": {},
   "outputs": [
    {
     "data": {
      "text/plain": [
       "loadStfp (generic function with 1 method)"
      ]
     },
     "metadata": {},
     "output_type": "display_data"
    }
   ],
   "source": [
    "function loadInData()\n",
    "    file = matopen(\"data/simulationData.mat\")\n",
    "\n",
    "    data = read(file, \"data\")\n",
    "\n",
    "    close(file)\n",
    "\n",
    "    return data\n",
    "end\n",
    "\n",
    "function loadStfp()\n",
    "    file = matopen(\"data/stfp.mat\")\n",
    "\n",
    "    stfp = read(file,\"stfp\")\n",
    "\n",
    "    close(file)\n",
    "\n",
    "    return stfp\n",
    "end"
   ]
  },
  {
   "attachments": {},
   "cell_type": "markdown",
   "id": "09a129ae",
   "metadata": {},
   "source": [
    "## Data processing\n",
    "Processes the data just as in the matlab version"
   ]
  },
  {
   "cell_type": "code",
   "execution_count": 3,
   "id": "6f39525d-5736-43dd-a5bd-4e5855cb3ec3",
   "metadata": {},
   "outputs": [],
   "source": [
    "data = loadInData()\n",
    "\n",
    "grossy = reshape(data[:, 3], 46, 88)'\n",
    "capital = reshape(data[:, 4], 46, 88)'; #NOMINAL CAPITAL\n",
    "labor = reshape(data[:, 5], 46, 88)'; #NOMINAL LABOR\n",
    "vadd = labor + capital; #NOMINAL VALUE;\n",
    "\n",
    "removableSectors = [60, 80:88...];\n",
    "grossy = grossy[setdiff(1:end, removableSectors), :];\n",
    "capital = capital[setdiff(1:end, removableSectors), :];\n",
    "labor = labor[setdiff(1:end, removableSectors), :];\n",
    "vadd = vadd[setdiff(1:end, removableSectors), :];\n",
    "\n",
    "grossSales = vec((sum(grossy, dims=2) .!= 0));\n",
    "grossy = grossy[grossSales, :];\n",
    "capital = capital[grossSales, :];\n",
    "labor = labor[grossSales, :];\n",
    "vadd = vadd[grossSales, :];\n",
    "\n",
    "stfp = loadStfp();\n",
    "Σ = cov(stfp, dims=2);\n",
    "μ = mean(stfp, dims=2);"
   ]
  },
  {
   "attachments": {},
   "cell_type": "markdown",
   "id": "628ec57f",
   "metadata": {},
   "source": [
    "## Creating usable variables\n",
    "Function that creates the metrics for a given year"
   ]
  },
  {
   "cell_type": "code",
   "execution_count": 4,
   "id": "92a41374-e6c9-4087-bef6-8d0a25cf1df1",
   "metadata": {},
   "outputs": [
    {
     "data": {
      "text/plain": [
       "getVariables (generic function with 1 method)"
      ]
     },
     "metadata": {},
     "output_type": "display_data"
    }
   ],
   "source": [
    "function getVariables(year)\n",
    "    IO = data[data[:, 1].==year, :]\n",
    "    temp = [8, 60, 62, 80:88...]\n",
    "    IO = IO[setdiff(1:end, temp), setdiff(1:end, [1, 2, 3, 4, 5, 94])]\n",
    "    IO = IO[:, setdiff(1:end, temp)]\n",
    "    Ω = IO ./ sum(IO, dims=2)\n",
    "    α = vadd[:, year-1959] ./ grossy[:, year-1959]\n",
    "    β = ((I - diagm(1 .- α) * Ω)' * grossy[:, year-1959])\n",
    "    @views β[β.<0] .= 0\n",
    "    β = β / sum(β)\n",
    "    λ = (inv(I - diagm(1 .- α) * Ω)' * β)\n",
    "    L = λ .* α\n",
    "\n",
    "    return α, β, Ω, L, λ\n",
    "\n",
    "end"
   ]
  },
  {
   "attachments": {},
   "cell_type": "markdown",
   "id": "d4fad22d",
   "metadata": {},
   "source": [
    "## Elasticities"
   ]
  },
  {
   "cell_type": "code",
   "execution_count": 5,
   "id": "5407a7de-552b-4673-bd43-56f93ffd9a10",
   "metadata": {},
   "outputs": [],
   "source": [
    "ε = .5;\n",
    "θ = 0.001;\n",
    "σ = .9;"
   ]
  },
  {
   "attachments": {},
   "cell_type": "markdown",
   "id": "b5243b71",
   "metadata": {},
   "source": [
    "## Objective Function\n",
    "\n",
    "Here the objective function in `SimulationDerivs.m` is formulated, also the Jacobian is given, to helpt the solver."
   ]
  },
  {
   "cell_type": "code",
   "execution_count": 6,
   "id": "d1c7f6e2-41ff-4b34-b25e-ab7f917c4c4a",
   "metadata": {},
   "outputs": [
    {
     "data": {
      "text/plain": [
       "problem (generic function with 1 method)"
      ]
     },
     "metadata": {},
     "output_type": "display_data"
    }
   ],
   "source": [
    "function problem(X :: AbstractVector{T}, A, β, Ω, α, ε, θ, σ,L) where T\n",
    "    N = length(α)\n",
    "    p = X[1:N]\n",
    "    y = X[N+1:end]\n",
    "    \n",
    "    Out :: Vector{T} = zeros(eltype(X),2*N)\n",
    "    \n",
    "    q = (Ω * p .^ (1-θ)) .^ (1 / (1 - θ))\n",
    "    w = p .* (A .^ ((ε - 1)/ε)) .* (α .^ (1 / ε)) .* (y .^ (1/ε)) .* L .^ (-1/ε)\n",
    "    C = w' * L\n",
    "  \n",
    "    Out[1:N] = p - (A .^ (ε - 1) .* (α .* w .^ (1- ε) + (1 .- α) .* q .^ (1 - ε))) .^ (1/(1-ε))\n",
    "    Out[N+1:end] = y' - y' * diagm(p)^ε * diagm(A)^(ε-1) * diagm(q)^(θ-ε) * diagm(1 .- α) * Ω * diagm(p)^(-θ) - β'*diagm(p)^(-σ)*C\n",
    "    \n",
    "    return Out\n",
    "end"
   ]
  },
  {
   "cell_type": "code",
   "execution_count": 7,
   "id": "fef6c5c7-12cf-477e-adcc-64745c53e590",
   "metadata": {},
   "outputs": [
    {
     "data": {
      "text/plain": [
       "problemJacobian (generic function with 1 method)"
      ]
     },
     "metadata": {},
     "output_type": "display_data"
    }
   ],
   "source": [
    "function problemJacobian(X, A, β, Ω, α, ε, θ, σ,L)\n",
    "    N = length(α)\n",
    "    p = @view X[1:N]\n",
    "    y = @view X[N+1:end]\n",
    "    \n",
    "    Out = zeros(eltype(X),2*N)\n",
    "    \n",
    "    q = (Ω * p .^ (1-θ)) .^ (1 / (1 - θ))\n",
    "    w = p .* (A .^ ((ε - 1)/ε)) .* (α .^ (1 / ε)) .* (y .^ (1/ε)) .* L .^ (-1/ε)\n",
    "    C = w' * L\n",
    "  \n",
    "    \n",
    "    DQDP = (q .^ θ * (p.^(-θ))') .* Ω;\n",
    "    DWDP = diagm(A.^((ε-1)/ε) .* α.^(1/ε) .* y.^(1/ε) .* (1 ./ L).^(1/ε));\n",
    "    DWDY = (1/ε) * diagm(p .* A.^((ε-1)/ε) .* α.^(1/ε).* (y.^(1/ε-1)) .* L.^(-1/ε));\n",
    "    DCDP = DWDP' * L; \n",
    "    DCDY = DWDY' * L;\n",
    "\n",
    "    DOut1DP = I - diagm(diagm(A)^(-1) * ((α .* (w .^ (1-ε)) + (1 .- α) .* (q.^(1-ε)))).^(ε/(1-ε))) * (diagm(α) * diagm(w.^(-ε))* DWDP + diagm(1 .-α)*diagm(q.^(-ε))*DQDP);\n",
    "\n",
    "    DOut1DY =  -diagm(diagm(A.^(-1))*((α.*(w.^(1-ε))+(1 .- α).*(q.^(1-ε)))).^(ε/(1-ε)))*(diagm(α)*diagm(w.^(-ε))*DWDY);\n",
    "\n",
    "    DOut2DP = -(ε * diagm(p.^(-θ))*Ω'*diagm((p.^(ε-1)).*(y).*(q.^(θ-ε)).*(1 .- α).*(A.^(ε-1)))\n",
    "        + (θ-ε)*diagm(p.^(-θ))*Ω'*diagm((p.^(ε)).*(y).*(q.^(θ-ε-1)).*(1 .- α).*(A.^(ε-1)))*DQDP \n",
    "        - σ*diagm(β.*p.^(-σ-1))*C + broadcast(*, β.*(p.^(-σ)), DCDP')\n",
    "        - θ* diagm(p.^(-θ-1)).*diagm(Ω'*diagm((p.^(ε)).*(q.^(θ-ε)).*(1 .- α).*(A.^(ε-1)))*y));\n",
    "\n",
    "    DOut2DY = I - (diagm(p)^ε*diagm(A)^(ε-1)*diagm(q)^(θ-ε)*diagm(1 .- α)*Ω*diagm(p)^(-θ))' - broadcast(*, β.*(p.^(-σ)), DCDY');\n",
    "    OutDeriv = [DOut1DP DOut1DY; DOut2DP DOut2DY];\n",
    "\n",
    "end"
   ]
  },
  {
   "attachments": {},
   "cell_type": "markdown",
   "id": "18301249",
   "metadata": {},
   "source": [
    "## Generating Random Shocks"
   ]
  },
  {
   "cell_type": "code",
   "execution_count": 8,
   "id": "342596f3",
   "metadata": {},
   "outputs": [
    {
     "data": {
      "text/plain": [
       "generateRandomShock (generic function with 1 method)"
      ]
     },
     "metadata": {},
     "output_type": "display_data"
    }
   ],
   "source": [
    "function generateRandomShock(Σ,α,Ω,λ)\n",
    "    A = exp.(mvnrnd(-1/2*diag(Σ),diagm(diag(Σ))));\n",
    "    \n",
    "    init = Complex.([exp.(-inv(I - diagm(1 .- α)*Ω)*log.(A))..., λ ./exp.(-inv(I - diagm(1 .- α) * Ω)*log.(A))...]); \n",
    "    (A,init)\n",
    "end"
   ]
  },
  {
   "attachments": {},
   "cell_type": "markdown",
   "id": "8a609ff2",
   "metadata": {},
   "source": [
    "## Solving for shocks"
   ]
  },
  {
   "cell_type": "code",
   "execution_count": 9,
   "id": "dc46bb84-b76f-4170-9133-28ccfc044961",
   "metadata": {},
   "outputs": [
    {
     "data": {
      "text/plain": [
       "Task (done) @0x00007fd9f6067210"
      ]
     },
     "metadata": {},
     "output_type": "display_data"
    }
   ],
   "source": [
    "\n",
    "trials = 100;\n",
    "GDP = SharedVector(zeros(trials))\n",
    "λ_sim = SharedMatrix(zeros(76, trials))\n",
    "α, β, Ω, L, λ = getVariables(1973);\n",
    "f = NonlinearFunction((u, p) -> problem(u, p...), jac=(u, p) -> problemJacobian(u, p...))\n",
    "\n",
    "@distributed for k in 1:trials\n",
    "\n",
    "    A, init = generateRandomShock(Σ, α, Ω, λ)\n",
    "\n",
    "    p = [A, β, Ω, α, ε, θ, σ, L]\n",
    "\n",
    "    ProbN = NonlinearProblem(f, init, p)\n",
    "    sol = solve(ProbN, NLSolveJL(linesearch=HagerZhang(), method=:newton), reltol=1e-8, abstol=1e-8)\n",
    "\n",
    "    x = real.(sol.u)\n",
    "\n",
    "    p = @view x[1:76]\n",
    "    q = @view x[77:end]\n",
    "    GDP[k] = (p .* (A .^ ((ε - 1) / ε)) .* (α .^ (1 / ε)) .* (q .^ (1 / ε)) .* L .^ (-1 / ε))' * L\n",
    "    λ_sim[:, k] .= (p .* q) ./ GDP[k]\n",
    "\n",
    "end"
   ]
  },
  {
   "cell_type": "code",
   "execution_count": 12,
   "id": "d736a10f",
   "metadata": {},
   "outputs": [
    {
     "data": {
      "text/plain": [
       "76-element Vector{Float64}:\n",
       " 0.10121800816465668\n",
       " 0.00479131877289101\n",
       " 0.0036895063207918978\n",
       " 0.004465619436029771\n",
       " 0.004260663739347455\n",
       " 0.005910417754543972\n",
       " 0.03311815017226899\n",
       " 0.18222380494938337\n",
       " 0.027112078467617057\n",
       " 0.012518480406839009\n",
       " ⋮\n",
       " 0.02405107390587728\n",
       " 0.004673634884491415\n",
       " 0.021544833143528362\n",
       " 0.006127385654594943\n",
       " 0.015805068529963787\n",
       " 0.013789165377196233\n",
       " 0.022990986655220175\n",
       " 0.005319632428256925\n",
       " 0.02216574735311002"
      ]
     },
     "metadata": {},
     "output_type": "display_data"
    }
   ],
   "source": [
    "λ"
   ]
  },
  {
   "attachments": {},
   "cell_type": "markdown",
   "id": "dc336148",
   "metadata": {},
   "source": [
    "## Solving for a progessive sector shock"
   ]
  },
  {
   "cell_type": "code",
   "execution_count": 10,
   "id": "0456f0e7",
   "metadata": {},
   "outputs": [
    {
     "data": {
      "text/plain": [
       "shockSectorProgressively (generic function with 2 methods)"
      ]
     },
     "metadata": {},
     "output_type": "display_data"
    }
   ],
   "source": [
    "function shockSectorProgressively(sector, shocks, year=1983)\n",
    "\n",
    "    (α, β, Ω, L, λ) = getVariables(year)\n",
    "\n",
    "    x0 = Complex.([ones(76)..., λ...])\n",
    "    f = NonlinearFunction((u, p) -> problem(u, p...), jac=(u, p) -> problemJacobian(u, p...))\n",
    "    GDP = []\n",
    "    for shock in shocks\n",
    "        A = ones(76)\n",
    "        A[sector] = shock\n",
    "\n",
    "        p = [A, β, Ω, α, ε, θ, σ, L]\n",
    "        ProbN = NonlinearProblem(f, x0, p)\n",
    "\n",
    "        #sol = solve(ProbN,NewtonRaphson(), reltol = 1e-10,abstol = 1e-8)\n",
    "        sol = solve(ProbN, NLSolveJL(method=:newton, linesearch=BackTracking()), reltol=1e-10, abstol=1e-8)\n",
    "\n",
    "        x = sol.u\n",
    "\n",
    "        p = real.(x[1:76])\n",
    "        y = real.(x[77:152])\n",
    "        append!(GDP, (p .* (A .^ ((ε - 1) / ε)) .* (α .^ (1 / ε)) .* (y .^ (1 / ε)) .* L .^ (-1 / ε))' * L)\n",
    "\n",
    "        x0 = x\n",
    "    end\n",
    "\n",
    "    return GDP\n",
    "\n",
    "end"
   ]
  },
  {
   "cell_type": "code",
   "execution_count": 11,
   "id": "1f6d3d5b-e0ee-4aab-9795-3a0fead20e26",
   "metadata": {},
   "outputs": [
    {
     "data": {
      "text/plain": [
       "Task (done) @0x00007f42679d92d0"
      ]
     },
     "metadata": {},
     "output_type": "display_data"
    }
   ],
   "source": [
    "years = 1980:2000\n",
    "M = 50\n",
    "\n",
    "a = 0.7;\n",
    "b = 1.3;\n",
    "\n",
    "sectors = 1:60\n",
    "\n",
    "GDP = SharedArray(zeros(2 * M, length(sectors), length(years)))\n",
    "\n",
    "@distributed for year in years\n",
    "    for i in 1:length(sectors)\n",
    "        GDP[1:M, i, year-(years[1]-1)] = shockSectorProgressively(sectors[i], LinRange(1, a, M), year)\n",
    "        GDP[M+1:end, i, year-(years[1]-1)] = shockSectorProgressively(sectors[i], LinRange(1, b, M), year)\n",
    "    end\n",
    "end\n"
   ]
  },
  {
   "cell_type": "code",
   "execution_count": 12,
   "id": "def4be44",
   "metadata": {},
   "outputs": [
    {
     "data": {
      "text/plain": [
       "99×60×21 Array{Float64, 3}:\n",
       "[:, :, 1] =\n",
       " 0.960047  0.995523  0.996884  0.986077  …  0.985263  0.951592  0.994301\n",
       " 0.961356  0.995752  0.997038  0.986849     0.985702  0.953062  0.994458\n",
       " 0.962633  0.99597   0.997183  0.987589     0.986132  0.954501  0.994612\n",
       " 0.963879  0.996178  0.997321  0.988298     0.986553  0.955911  0.994764\n",
       " 0.965095  0.996377  0.997452  0.988976     0.986966  0.957292  0.994914\n",
       " 0.966281  0.996566  0.997576  0.989626  …  0.98737   0.958645  0.995061\n",
       " 0.96744   0.996747  0.997694  0.990247     0.987767  0.959972  0.995206\n",
       " 0.968572  0.996919  0.997806  0.990841     0.988156  0.961272  0.99535\n",
       " 0.969677  0.997083  0.997912  0.991408     0.988538  0.962547  0.995491\n",
       " 0.970757  0.99724   0.998014  0.99195      0.988913  0.963798  0.99563\n",
       " ⋮                                       ⋱                      \n",
       " 1.01562   1.00062   1.00065   1.00049   …  1.00713   1.02218   1.00302\n",
       " 1.01591   1.00063   1.00066   1.0005       1.00727   1.02262   1.00309\n",
       " 1.0162    1.00063   1.00067   1.0005       1.00741   1.02306   1.00315\n",
       " 1.01648   1.00064   1.00068   1.00051      1.00756   1.02349   1.00321\n",
       " 1.01676   1.00065   1.00069   1.00051      1.0077    1.02392   1.00327\n",
       " 1.01704   1.00066   1.0007    1.00052   …  1.00784   1.02434   1.00333\n",
       " 1.01731   1.00067   1.00071   1.00052      1.00797   1.02476   1.00339\n",
       " 1.01758   1.00067   1.00072   1.00053      1.00811   1.02518   1.00345\n",
       " 1.01785   1.00068   1.00073   1.00053      1.00825   1.02559   1.00351\n",
       "\n",
       "[:, :, 2] =\n",
       " 0.964543  0.996427  0.997454  0.985509  …  0.985657  0.952092  0.994309\n",
       " 0.965713  0.996573  0.997572  0.98635      0.986088  0.953566  0.994465\n",
       " 0.966854  0.996714  0.997684  0.987155     0.986509  0.955009  0.994619\n",
       " 0.967967  0.996849  0.99779   0.987925     0.986922  0.956421  0.99477\n",
       " 0.969052  0.99698   0.997892  0.98866      0.987326  0.957803  0.99492\n",
       " 0.970111  0.997105  0.997988  0.989362  …  0.987722  0.959157  0.995067\n",
       " 0.971145  0.997226  0.998081  0.990032     0.98811   0.960483  0.995212\n",
       " 0.972154  0.997343  0.998169  0.990671     0.988491  0.961782  0.995355\n",
       " 0.973139  0.997455  0.998254  0.99128      0.988864  0.963055  0.995496\n",
       " 0.974102  0.997564  0.998334  0.99186      0.98923   0.964302  0.995635\n",
       " ⋮                                       ⋱                      \n",
       " 1.01365   1.00097   1.00058   1.00052   …  1.00687   1.02147   1.00302\n",
       " 1.0139    1.00099   1.00059   1.00052      1.00701   1.02189   1.00309\n",
       " 1.01415   1.001     1.0006    1.00053      1.00715   1.02231   1.00315\n",
       " 1.01439   1.00102   1.00061   1.00054      1.00729   1.02273   1.00321\n",
       " 1.01464   1.00104   1.00062   1.00054      1.00742   1.02314   1.00327\n",
       " 1.01488   1.00105   1.00063   1.00055   …  1.00756   1.02355   1.00333\n",
       " 1.01512   1.00107   1.00064   1.00055      1.00769   1.02395   1.00339\n",
       " 1.01535   1.00108   1.00065   1.00056      1.00782   1.02435   1.00345\n",
       " 1.01558   1.0011    1.00066   1.00056      1.00795   1.02475   1.00351\n",
       "\n",
       "[:, :, 3] =\n",
       " 0.964346  0.996036  0.997415  0.98769   …  0.982576  0.950119  0.994125\n",
       " 0.965529  0.996183  0.997532  0.988461     0.983077  0.951684  0.994284\n",
       " 0.966681  0.996325  0.997644  0.989196     0.983569  0.953214  0.994441\n",
       " 0.967804  0.996463  0.99775   0.989896     0.984052  0.954709  0.994596\n",
       " 0.968899  0.996596  0.997852  0.990564     0.984526  0.956172  0.994749\n",
       " 0.969967  0.996725  0.997949  0.991199  …  0.984992  0.957603  0.9949\n",
       " 0.97101   0.996849  0.998042  0.991802     0.98545   0.959003  0.995048\n",
       " 0.972026  0.996971  0.99813   0.992376     0.9859    0.960373  0.995195\n",
       " 0.973019  0.997088  0.998215  0.99292      0.986343  0.961715  0.995339\n",
       " 0.973988  0.997202  0.998296  0.993435     0.986778  0.963028  0.995482\n",
       " ⋮                                       ⋱                      \n",
       " 1.01376   1.0013    1.00062   1.00035   …  1.00878   1.02166   1.00317\n",
       " 1.01402   1.00132   1.00063   1.00036      1.00896   1.02208   1.00323\n",
       " 1.01427   1.00134   1.00064   1.00036      1.00914   1.0225    1.0033\n",
       " 1.01452   1.00137   1.00064   1.00037      1.00932   1.02291   1.00336\n",
       " 1.01477   1.00139   1.00065   1.00037      1.00949   1.02332   1.00343\n",
       " 1.01501   1.00141   1.00066   1.00038   …  1.00967   1.02373   1.00349\n",
       " 1.01525   1.00143   1.00067   1.00038      1.00984   1.02413   1.00356\n",
       " 1.01549   1.00145   1.00068   1.00038      1.01001   1.02453   1.00362\n",
       " 1.01573   1.00147   1.00069   1.00039      1.01018   1.02493   1.00368\n",
       "\n",
       ";;; … \n",
       "\n",
       "[:, :, 19] =\n",
       " 0.982351  0.996632  0.997363  0.998556  …  0.981457  0.950058  0.993825\n",
       " 0.982898  0.996742  0.997518  0.998636     0.982002  0.951657  0.993996\n",
       " 0.983433  0.996849  0.997663  0.998709     0.982537  0.953218  0.994164\n",
       " 0.983957  0.996954  0.997798  0.998777     0.983062  0.954743  0.99433\n",
       " 0.984469  0.997056  0.997924  0.99884      0.983576  0.956233  0.994494\n",
       " 0.984971  0.997155  0.998042  0.998899  …  0.98408   0.957689  0.994655\n",
       " 0.985463  0.997252  0.998153  0.998954     0.984575  0.959112  0.994813\n",
       " 0.985944  0.997347  0.998257  0.999005     0.985061  0.960504  0.994969\n",
       " 0.986416  0.997439  0.998354  0.999054     0.985538  0.961864  0.995123\n",
       " 0.986878  0.997529  0.998446  0.999099     0.986007  0.963195  0.995274\n",
       " ⋮                                       ⋱                      \n",
       " 1.00763   1.00139   1.00042   1.00037   …  1.00912   1.02093   1.00324\n",
       " 1.00778   1.00142   1.00043   1.00038      1.0093    1.02134   1.0033\n",
       " 1.00792   1.00144   1.00043   1.00038      1.00949   1.02174   1.00337\n",
       " 1.00806   1.00147   1.00044   1.00039      1.00967   1.02213   1.00343\n",
       " 1.00821   1.00149   1.00045   1.0004       1.00985   1.02252   1.0035\n",
       " 1.00835   1.00152   1.00045   1.0004    …  1.01003   1.02291   1.00356\n",
       " 1.00849   1.00155   1.00046   1.00041      1.01021   1.0233    1.00363\n",
       " 1.00863   1.00157   1.00046   1.00042      1.01038   1.02368   1.00369\n",
       " 1.00876   1.0016    1.00047   1.00042      1.01056   1.02406   1.00375\n",
       "\n",
       "[:, :, 20] =\n",
       " 0.982473  0.996225  0.997463  0.998332  …  0.981884  0.950451  0.993915\n",
       " 0.983011  0.996348  0.997618  0.998445     0.982412  0.952026  0.994083\n",
       " 0.983538  0.996468  0.997762  0.998547     0.98293   0.953564  0.994249\n",
       " 0.984054  0.996584  0.997896  0.998639     0.983439  0.955067  0.994412\n",
       " 0.984559  0.996698  0.998021  0.998723     0.983937  0.956537  0.994573\n",
       " 0.985054  0.996809  0.998138  0.998799  …  0.984427  0.957973  0.994731\n",
       " 0.985539  0.996917  0.998246  0.998868     0.984907  0.959377  0.994887\n",
       " 0.986015  0.997023  0.998348  0.998933     0.985379  0.960751  0.99504\n",
       " 0.986481  0.997126  0.998443  0.998992     0.985843  0.962095  0.995192\n",
       " 0.986937  0.997227  0.998532  0.999047     0.986299  0.963409  0.995341\n",
       " ⋮                                       ⋱                      \n",
       " 1.00768   1.00157   1.00039   1.00035   …  1.009     1.02105   1.0032\n",
       " 1.00782   1.0016    1.0004    1.00035      1.00919   1.02145   1.00326\n",
       " 1.00797   1.00163   1.0004    1.00036      1.00937   1.02186   1.00333\n",
       " 1.00811   1.00165   1.00041   1.00036      1.00955   1.02226   1.00339\n",
       " 1.00826   1.00168   1.00041   1.00037      1.00973   1.02265   1.00346\n",
       " 1.0084    1.00171   1.00042   1.00038   …  1.00991   1.02304   1.00352\n",
       " 1.00854   1.00174   1.00043   1.00038      1.01008   1.02343   1.00359\n",
       " 1.00868   1.00177   1.00043   1.00039      1.01026   1.02382   1.00365\n",
       " 1.00882   1.0018    1.00044   1.00039      1.01043   1.0242    1.00371\n",
       "\n",
       "[:, :, 21] =\n",
       " 0.982547  0.995714  0.997547  0.998549  …  0.982212  0.950212  0.993831\n",
       " 0.983082  0.995853  0.997692  0.998635     0.982732  0.951809  0.994002\n",
       " 0.983606  0.995988  0.997826  0.998713     0.983241  0.953368  0.994171\n",
       " 0.984119  0.99612   0.997952  0.998785     0.98374   0.954892  0.994336\n",
       " 0.984621  0.996249  0.998069  0.998851     0.98423   0.95638   0.9945\n",
       " 0.985113  0.996375  0.998179  0.998912  …  0.984711  0.957834  0.99466\n",
       " 0.985595  0.996498  0.998281  0.998969     0.985183  0.959255  0.994819\n",
       " 0.986068  0.996618  0.998377  0.999022     0.985646  0.960645  0.994974\n",
       " 0.986532  0.996735  0.998467  0.999072     0.986102  0.962003  0.995128\n",
       " 0.986986  0.996849  0.998552  0.999118     0.98655   0.963332  0.995279\n",
       " ⋮                                       ⋱                      \n",
       " 1.00766   1.00178   1.00041   1.00034   …  1.00883   1.02079   1.00323\n",
       " 1.00781   1.00181   1.00042   1.00035      1.00901   1.02119   1.0033\n",
       " 1.00796   1.00185   1.00042   1.00036      1.00919   1.02158   1.00336\n",
       " 1.0081    1.00188   1.00043   1.00036      1.00937   1.02197   1.00343\n",
       " 1.00825   1.00191   1.00044   1.00037      1.00954   1.02236   1.00349\n",
       " 1.00839   1.00194   1.00044   1.00037   …  1.00972   1.02275   1.00356\n",
       " 1.00853   1.00198   1.00045   1.00038      1.00989   1.02313   1.00362\n",
       " 1.00867   1.00201   1.00045   1.00039      1.01006   1.02351   1.00369\n",
       " 1.00881   1.00204   1.00046   1.00039      1.01023   1.02388   1.00375"
      ]
     },
     "metadata": {},
     "output_type": "display_data"
    }
   ],
   "source": [
    "\n",
    "@views reverse!(GDP[1:M, :,:], dims=1)\n",
    "GDP = GDP[setdiff(1:end, M), :,:]"
   ]
  },
  {
   "cell_type": "code",
   "execution_count": 13,
   "id": "e42e14bb",
   "metadata": {},
   "outputs": [],
   "source": [
    "save(\"calulatedGSPS.jld\",\"GDP\",GDP);"
   ]
  },
  {
   "cell_type": "code",
   "execution_count": 14,
   "id": "02580d27",
   "metadata": {},
   "outputs": [],
   "source": [
    "GDP = load(\"calulatedGSPS.jld\",\"GDP\");"
   ]
  },
  {
   "attachments": {},
   "cell_type": "markdown",
   "id": "8a1f68fd",
   "metadata": {},
   "source": [
    "## Visiualisation of progressive sector shocks."
   ]
  },
  {
   "cell_type": "code",
   "execution_count": 15,
   "id": "06216a9b",
   "metadata": {},
   "outputs": [],
   "source": [
    "using GLMakie\n",
    "Makie.inline!(false)\n",
    "a = 0.7\n",
    "b = 1.3\n",
    "M = 50\n",
    "fig = Figure()\n",
    "\n",
    "ax = Axis(fig[2, 1])\n",
    "\n",
    "sg = SliderGrid(fig[1, 1],\n",
    "    (label = \"Year\", range = 1980:2000, startvalue = 5),\n",
    "    (label = \"Sector\", range = 1:60, startvalue = 10)\n",
    ")\n",
    "\n",
    "\n",
    "indexYear = lift(sg.sliders[1].value) do x\n",
    "    x - 1979 \n",
    "end\n",
    "\n",
    "indexSector = lift(sg.sliders[2].value) do x\n",
    "    x\n",
    "end\n",
    "\n",
    "lineShowing = @lift(GDP[:,$indexSector,$indexYear])\n",
    "\n",
    "lines!(LinRange(a,b,2*M-1),lineShowing)\n",
    "\n",
    "fig"
   ]
  },
  {
   "cell_type": "code",
   "execution_count": null,
   "id": "da2a0030",
   "metadata": {},
   "outputs": [],
   "source": []
  }
 ],
 "metadata": {
  "kernelspec": {
   "display_name": "Python 3 (Spyder)",
   "language": "python3",
   "name": "python3"
  },
  "language_info": {
   "codemirror_mode": {
    "name": "ipython",
    "version": 3
   },
   "file_extension": ".py",
   "mimetype": "text/x-python",
   "name": "python",
   "nbconvert_exporter": "python",
   "pygments_lexer": "ipython3",
   "version": "3.8.17"
  }
 },
 "nbformat": 4,
 "nbformat_minor": 5
}

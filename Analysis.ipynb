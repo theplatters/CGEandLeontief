{
 "cells": [
  {
   "cell_type": "code",
   "execution_count": 3,
   "id": "8753bdc5-e882-4c61-a8f2-c8c9b79c961f",
   "metadata": {},
   "outputs": [
    {
     "ename": "ArgumentError",
     "evalue": "ArgumentError: Package NLsolve not found in current path.\n- Run `import Pkg; Pkg.add(\"NLsolve\")` to install the NLsolve package.",
     "output_type": "error",
     "traceback": [
      "ArgumentError: Package NLsolve not found in current path.\n",
      "- Run `import Pkg; Pkg.add(\"NLsolve\")` to install the NLsolve package.\n",
      "\n",
      "Stacktrace:\n",
      "  [1] macro expansion\n",
      "    @ ./loading.jl:1630 [inlined]\n",
      "  [2] macro expansion\n",
      "    @ ./lock.jl:267 [inlined]\n",
      "  [3] require(into::Module, mod::Symbol)\n",
      "    @ Base ./loading.jl:1611\n",
      "  [4] eval\n",
      "    @ ./boot.jl:370 [inlined]\n",
      "  [5] include_string(mapexpr::typeof(REPL.softscope), mod::Module, code::String, filename::String)\n",
      "    @ Base ./loading.jl:1903\n",
      "  [6] #invokelatest#2\n",
      "    @ ./essentials.jl:819 [inlined]\n",
      "  [7] invokelatest\n",
      "    @ ./essentials.jl:816 [inlined]\n",
      "  [8] (::VSCodeServer.var\"#202#203\"{VSCodeServer.NotebookRunCellArguments, String})()\n",
      "    @ VSCodeServer ~/.vscode-oss/extensions/julialang.language-julia-1.51.2-universal/scripts/packages/VSCodeServer/src/serve_notebook.jl:19\n",
      "  [9] withpath(f::VSCodeServer.var\"#202#203\"{VSCodeServer.NotebookRunCellArguments, String}, path::String)\n",
      "    @ VSCodeServer ~/.vscode-oss/extensions/julialang.language-julia-1.51.2-universal/scripts/packages/VSCodeServer/src/repl.jl:274\n",
      " [10] notebook_runcell_request(conn::VSCodeServer.JSONRPC.JSONRPCEndpoint{Base.PipeEndpoint, Base.PipeEndpoint}, params::VSCodeServer.NotebookRunCellArguments)\n",
      "    @ VSCodeServer ~/.vscode-oss/extensions/julialang.language-julia-1.51.2-universal/scripts/packages/VSCodeServer/src/serve_notebook.jl:13\n",
      " [11] dispatch_msg(x::VSCodeServer.JSONRPC.JSONRPCEndpoint{Base.PipeEndpoint, Base.PipeEndpoint}, dispatcher::VSCodeServer.JSONRPC.MsgDispatcher, msg::Dict{String, Any})\n",
      "    @ VSCodeServer.JSONRPC ~/.vscode-oss/extensions/julialang.language-julia-1.51.2-universal/scripts/packages/JSONRPC/src/typed.jl:67\n",
      " [12] serve_notebook(pipename::String, outputchannel_logger::Base.CoreLogging.SimpleLogger; crashreporting_pipename::String)\n",
      "    @ VSCodeServer ~/.vscode-oss/extensions/julialang.language-julia-1.51.2-universal/scripts/packages/VSCodeServer/src/serve_notebook.jl:139\n",
      " [13] top-level scope\n",
      "    @ ~/.vscode-oss/extensions/julialang.language-julia-1.51.2-universal/scripts/notebook/notebook.jl:32"
     ]
    }
   ],
   "source": [
    "using MAT, Statistics, LinearAlgebra, Random, Plots, NLsolve, ForwardDiff"
   ]
  },
  {
   "attachments": {},
   "cell_type": "markdown",
   "id": "7edec650-2702-4d81-95f7-7ea02545dd1c",
   "metadata": {},
   "source": [
    "Function that reads in all the variables optained that are used in line 93 and onwards and are defined before that."
   ]
  },
  {
   "cell_type": "code",
   "execution_count": 2,
   "id": "196a4e30-3fd6-4ea1-8cae-d59d4018151d",
   "metadata": {},
   "outputs": [
    {
     "data": {
      "text/plain": [
       "mvnrnd (generic function with 1 method)"
      ]
     },
     "metadata": {},
     "output_type": "display_data"
    }
   ],
   "source": [
    "include(\"src/mvnrnd.jl\")"
   ]
  },
  {
   "attachments": {},
   "cell_type": "markdown",
   "id": "9d5e10da",
   "metadata": {},
   "source": [
    "Function that reads in all the variables optained that are used in line 93 and onwards and are defined before that and turns them into julia variables."
   ]
  },
  {
   "cell_type": "code",
   "execution_count": 3,
   "id": "43cbe81d-fdda-4954-bfe6-f40a0184aadd",
   "metadata": {},
   "outputs": [
    {
     "ename": "ErrorException",
     "evalue": "File \"simulationData.mat\" does not exist and create was not specified",
     "output_type": "error",
     "traceback": [
      "File \"simulationData.mat\" does not exist and create was not specified\n",
      "\n",
      "Stacktrace:\n",
      " [1] matopen(filename::String, rd::Bool, wr::Bool, cr::Bool, tr::Bool, ff::Bool, compress::Bool)\n",
      "   @ MAT ~/.julia/packages/MAT/qHAes/src/MAT.jl:44\n",
      " [2] matopen(fname::String, mode::String; compress::Bool)\n",
      "   @ MAT ~/.julia/packages/MAT/qHAes/src/MAT.jl:88\n",
      " [3] matopen\n",
      "   @ ~/.julia/packages/MAT/qHAes/src/MAT.jl:87 [inlined]\n",
      " [4] #matopen#2\n",
      "   @ ~/.julia/packages/MAT/qHAes/src/MAT.jl:97 [inlined]\n",
      " [5] matopen(fname::String)\n",
      "   @ MAT ~/.julia/packages/MAT/qHAes/src/MAT.jl:97\n",
      " [6] top-level scope\n",
      "   @ ~/Schreibtisch/BeyondHulten/Translation/Analysis.ipynb:10"
     ]
    }
   ],
   "source": [
    "function string_as_varname(s::AbstractString,v::Any)\n",
    "    s=Symbol(s)\n",
    "    if size(v,2) == 1 # check if v is a column vector\n",
    "        @eval (($s) = vec($v))\n",
    "    else\n",
    "        @eval (($s) = ($v))\n",
    "    end\n",
    "end\n",
    "\n",
    "file = matopen(\"simulationData.mat\")\n",
    "\n",
    "\n",
    "\n",
    "varnames = names(file) \n",
    "#[IO, price, Omega, data, labor, mu, aggtfp, alpha, grossy, stfp, beta, agggdp, Sigma, capital, vadd]\n",
    "for varname in varnames\n",
    "    val = read(file, varname)\n",
    "    # Instantiate the variable with its name in the current scope\n",
    "    string_as_varname(varname,val)\n",
    "    end\n",
    "\n",
    "close(file)"
   ]
  },
  {
   "attachments": {},
   "cell_type": "markdown",
   "id": "02220dec-96c3-45e0-9e7d-0246353d1fa9",
   "metadata": {},
   "source": [
    "We now want to figure out what every variable stands for, and where it comes from.\n",
    "So far we know:\n",
    "- **IO**: Input-Output Matrix\n",
    "- **STFP** Sectoral TFP Growth per anno\n",
    "- **$\\Omega$**: I think this is the same as in *Definition 3* Es gilt $$(\\Omega)_i^j = \\frac {(\\mathit{IO})_i^j} {\\sum_{k=0}^N(\\mathit{IO}_k^j)}$$ Also der Anteil eines Sektors $i$ an der Gesamptproduktion des Sektors $j$\n",
    "- **$\\Sigma$**: Covarianz von SFTP\n",
    "- **$\\mu$**: Rowwise mean of stfp. So the mean annual groth of each sector\n",
    "- **data**: quantity data matrix\n",
    "- **price**: price data matrix. I think price and data are for our anyalsis quite useless, they are used as building blocks\n",
    "- **grossy** nominal gross output, was produziert sektor i\n",
    "- **vadd** nominal value added - Anteil der Einkommen die die Faktoren erzielen.\n",
    "- **labor** nominal labor\n",
    "- **capital** nominal captial\n",
    "- **alpha**: vadd / grossy. Factor (Arbeit, etc.) share by industry. (Alles was nicht von anderen Sektoren bezogen wird).\n",
    "- **beta**: `beta = (I-diagm(1-alpha)*Omega)' * grossy(:,year-1959)` this is then normalized and filtered. Anteil der Sektoren an der Endnachfrage."
   ]
  },
  {
   "attachments": {},
   "cell_type": "markdown",
   "id": "d5060025-84ed-4bfe-8b77-aae3ac965f04",
   "metadata": {},
   "source": [
    "$\\lambda$ = total sales / sum(final sales)\n",
    "(inv(I - diagm(1 .- alpha) * Omega) = Leontief Invers um von final sales auf total sales zu kommen"
   ]
  },
  {
   "cell_type": "code",
   "execution_count": 4,
   "id": "365005e7-b2a5-428f-baa7-458e80d29bdf",
   "metadata": {},
   "outputs": [
    {
     "ename": "MethodError",
     "evalue": "MethodError: no method matching -(::Int64, ::typeof(alpha))\n\nClosest candidates are:\n  -(::Union{Int128, Int16, Int32, Int64, Int8, UInt128, UInt16, UInt32, UInt64, UInt8})\n   @ Base int.jl:85\n  -(::T, !Matched::T) where T<:Union{Int128, Int16, Int32, Int64, Int8, UInt128, UInt16, UInt32, UInt64, UInt8}\n   @ Base int.jl:86\n  -(::Union{Int16, Int32, Int64, Int8}, !Matched::BigInt)\n   @ Base gmp.jl:547\n  ...\n",
     "output_type": "error",
     "traceback": [
      "MethodError: no method matching -(::Int64, ::typeof(alpha))\n",
      "\n",
      "Closest candidates are:\n",
      "  -(::Union{Int128, Int16, Int32, Int64, Int8, UInt128, UInt16, UInt32, UInt64, UInt8})\n",
      "   @ Base int.jl:85\n",
      "  -(::T, !Matched::T) where T<:Union{Int128, Int16, Int32, Int64, Int8, UInt128, UInt16, UInt32, UInt64, UInt8}\n",
      "   @ Base int.jl:86\n",
      "  -(::Union{Int16, Int32, Int64, Int8}, !Matched::BigInt)\n",
      "   @ Base gmp.jl:547\n",
      "  ...\n",
      "\n",
      "\n",
      "Stacktrace:\n",
      " [1] _broadcast_getindex_evalf\n",
      "   @ ./broadcast.jl:683 [inlined]\n",
      " [2] _broadcast_getindex\n",
      "   @ ./broadcast.jl:656 [inlined]\n",
      " [3] getindex\n",
      "   @ ./broadcast.jl:610 [inlined]\n",
      " [4] copy\n",
      "   @ ./broadcast.jl:888 [inlined]\n",
      " [5] materialize(bc::Base.Broadcast.Broadcasted{Base.Broadcast.DefaultArrayStyle{0}, Nothing, typeof(-), Tuple{Int64, Base.RefValue{typeof(alpha)}}})\n",
      "   @ Base.Broadcast ./broadcast.jl:873\n",
      " [6] top-level scope\n",
      "   @ ~/Schreibtisch/BeyondHulten/Translation/Analysis.ipynb:2"
     ]
    }
   ],
   "source": [
    "#domar_weights = (beta' * inv(I - diagm(1 .-alpha)* Omega))';\n",
    "domar_weights = λ = (inv(I - diagm(1 .- alpha) * Omega)' * beta);"
   ]
  },
  {
   "cell_type": "code",
   "execution_count": 5,
   "id": "e016ae2b-1224-46a9-9e84-d1e44e3da203",
   "metadata": {},
   "outputs": [
    {
     "ename": "UndefVarError",
     "evalue": "UndefVarError: `stfp` not defined",
     "output_type": "error",
     "traceback": [
      "UndefVarError: `stfp` not defined\n",
      "\n",
      "Stacktrace:\n",
      " [1] top-level scope\n",
      "   @ ~/Schreibtisch/BeyondHulten/Translation/Analysis.ipynb:1"
     ]
    }
   ],
   "source": [
    "cum_stfp = cumsum(log.(1 .+ stfp)',dims=1);\n",
    "cum_stfp_4year = cum_stfp[:,begin:4:end];\n",
    "covariance_4year = Statistics.cov(cum_stfp_4year,dims=2,corrected=false);"
   ]
  },
  {
   "attachments": {},
   "cell_type": "markdown",
   "id": "21b8451e-e408-4ef6-883d-e58abf34d711",
   "metadata": {},
   "source": [
    "Some elasticities, explaination can be found in section 6"
   ]
  },
  {
   "cell_type": "code",
   "execution_count": 6,
   "id": "6b913872-1883-415d-8152-0ee86ffbf231",
   "metadata": {},
   "outputs": [],
   "source": [
    "epsilon = ε = .5; #substitution of intermediates with work\n",
    "theta = θ = 0.001; #substitution elasticity for production factors \n",
    "sigma = σ =.9; #substitution elasticity for consumers"
   ]
  },
  {
   "attachments": {},
   "cell_type": "markdown",
   "id": "23f90ee0-7718-47eb-94ff-b281dc7d3ed3",
   "metadata": {},
   "source": [
    "Again, not used anymore"
   ]
  },
  {
   "cell_type": "code",
   "execution_count": 7,
   "id": "3297e2b5-4099-4437-b9bc-901a688789f8",
   "metadata": {},
   "outputs": [
    {
     "ename": "UndefVarError",
     "evalue": "UndefVarError: `stfp` not defined",
     "output_type": "error",
     "traceback": [
      "UndefVarError: `stfp` not defined\n",
      "\n",
      "Stacktrace:\n",
      " [1] top-level scope\n",
      "   @ ~/Schreibtisch/BeyondHulten/Translation/Analysis.ipynb:4"
     ]
    }
   ],
   "source": [
    "trials = 1; #number of draws\n",
    "#clear Shocks LShocks;\n",
    "GDP = zeros(trials,1);\n",
    "variances = (movingvar(stfp',5)'); #rolling estimate of variance of TFP\n",
    "var_cri = variances[:,22];\n",
    "\n",
    "var_cri = diag(Sigma)*2; #crisis episode variances\n",
    "\n"
   ]
  },
  {
   "attachments": {},
   "cell_type": "markdown",
   "id": "9917ad4b-a491-4ddc-b987-35c45d7eeda1",
   "metadata": {},
   "source": [
    "L is the steady state allocation of labor. (Wie die Arbeit auf die Sektoren aufgeteilt ist)\n",
    "$$L_i = (\\beta^T (I - \\Omega + \\text{diag}(\\alpha)\\Omega)^{-1})^T \\cdot \\alpha = (I - (I - \\text{diagm}(\\alpha)) * \\Omega)^{-1}\\beta) \\cdot \\alpha = \\lambda \\cdot \\alpha$$\n"
   ]
  },
  {
   "cell_type": "code",
   "execution_count": 9,
   "id": "ccdd07dd-6ae9-40d2-aff7-afac572b1791",
   "metadata": {},
   "outputs": [],
   "source": [
    "#L = (beta'*inv(I-diagm(1 .- alpha)*Omega))'.*alpha; #steady-state allocation of labor\n",
    "L = domar_weights .* alpha;"
   ]
  },
  {
   "attachments": {},
   "cell_type": "markdown",
   "id": "ce187280-59d4-43c4-af42-0d8a638f67d0",
   "metadata": {},
   "source": [
    "Because later down we use this all a few times I am now going to write a function that extracts $\\beta,\\alpha,\\lambda$ and $L$ for a given year"
   ]
  },
  {
   "cell_type": "code",
   "execution_count": 1,
   "id": "31365e7b-37f5-457a-8b80-e56124fbc9fe",
   "metadata": {},
   "outputs": [
    {
     "data": {
      "text/plain": [
       "getVariables (generic function with 1 method)"
      ]
     },
     "metadata": {},
     "output_type": "display_data"
    }
   ],
   "source": [
    "function getVariables(year)\n",
    "    IO = data[data[:,1] .== year,:]\n",
    "    temp = [8,60,62,80:88...]\n",
    "    IO = IO[setdiff(1:end,temp),setdiff(1:end,[1,2,3,4,5,94])]\n",
    "    IO = IO[:,setdiff(1:end,temp)]\n",
    "    Ω = IO ./ sum(IO,dims=2)\n",
    "    α = vadd[:,year-1959] ./ grossy[:,year-1959];\n",
    "    β = (grossy[:,year-1959]' * (I-diagm(1 .- α)*Ω))';\n",
    "    β[beta .< 0] .= 0\n",
    "    β = β / sum(β)\n",
    "    λ = (inv(I - diagm(1 .- alpha)*Ω)' * β);\n",
    "    L = λ .* α\n",
    "    \n",
    "    return α,β,Ω,L,λ\n",
    "\n",
    "end"
   ]
  },
  {
   "attachments": {},
   "cell_type": "markdown",
   "id": "63a3ef56-7cc6-4b7c-80cc-c81dcbe1158b",
   "metadata": {},
   "source": [
    "Here comes the randomness. As far as i can tell the generated vector $x$ has mean $\\mu = -\\frac 1 2 \\text{Var}(\\mathit{stfp})$ and $\\sigma = \\text{Var}(\\mathit{stfp})$ Because $\\sigma$ is a Diagonal Matrix, there is no correlation between each random number, what makes this rather perculiar. Intuition wise I would say, that this implies, that the shocks are independent of one-another. (As described in  Chapter 6)\n",
    "\n",
    "$$A_i = e^{x_i}$$"
   ]
  },
  {
   "attachments": {},
   "cell_type": "markdown",
   "id": "9f20372c-a460-4a3d-880a-984a4f019e17",
   "metadata": {},
   "source": [
    "The `fmincon` function is abused in my opinion. The problem as stated is: $$\\min_x 0 \\quad \\text{s.t} \\,\\, c(x) = 0$$\n",
    "However this is simply: Find $x$ so that $$c(x) = 0$$And for this the `fsolve` function can be utilized.\n",
    "\n",
    "Lets analyze what $c(x)$ actually is now. (Only `Out` is of importance, the other return values are either unused arguments in the `fmincon` function or the derivatives of `Out`, to make the solver more efficient.\n",
    "\n"
   ]
  },
  {
   "cell_type": "code",
   "execution_count": 2,
   "id": "823279c9-4d8a-4e6d-b82e-d3835c1cb758",
   "metadata": {},
   "outputs": [
    {
     "ename": "ErrorException",
     "evalue": "syntax: invalid syntax \"1./\"; add space(s) to clarify",
     "output_type": "error",
     "traceback": [
      "syntax: invalid syntax \"1./\"; add space(s) to clarify\n",
      "\n",
      "Stacktrace:\n",
      " [1] top-level scope\n",
      "   @ ~/Schreibtisch/BeyondHulten/Analysis.ipynb:24"
     ]
    }
   ],
   "source": [
    "function Simulation_Derivs(X, A, beta, Omega, alpha, epsilon, theta, sigma,L) # no reallocation of labor\n",
    "    N = length(alpha);\n",
    "    p = X[1:N];\n",
    "    y = X[N+1:2*N];\n",
    "\n",
    "    q = (Omega* (p .^ (1-theta))) .^ (1/(1-theta));\n",
    "    w = p .* (A .^ ((epsilon-1)/epsilon)) .* (alpha.^(1/epsilon)) .* (y.^(1/epsilon)) .* (1 ./ L) .^ (1/epsilon);\n",
    "    C = w'*L;\n",
    "\n",
    "    \n",
    "    Out = zeros(2*N)\n",
    "    Out[1:N] = p - (diagm(A) ^ (epsilon-1) * (alpha.* w .^ (1-epsilon) + (1 .- alpha) .* q .^ (1-epsilon))).^(1/(1-epsilon));\n",
    "    Out[N+1:2*N] = y' - y' * diagm(p) ^ epsilon * diagm(A)^(epsilon-1) * diagm(q)^(theta-epsilon) * diagm(1 .- alpha) * Omega * diagm(p)^(-theta) - beta' * diagm(p)^(-sigma) * C;\n",
    "    \n",
    "    return Out\n",
    "\n",
    "\n",
    "    \n",
    "    outineq = [];\n",
    "    outineq2 = [];\n",
    "    \n",
    "    \n",
    "    DQDP = bsxfun(@times, (q.^theta), (p.^(-theta))').* Omega; % \n",
    "    DWDP = diag((A.^((epsilon-1)/epsilon)).*(alpha.^(1/epsilon)).*(y.^(1/epsilon)).*(1./L).^(1/epsilon)); %checked\n",
    "    DWDY = (1/epsilon)*diag(p.*(A.^((epsilon-1)/epsilon)).*(alpha.^(1/epsilon)).*(y.^(1/epsilon-1)).*(L).^(-1/epsilon)); %checked\n",
    "    DCDP = DWDP'*L; %checked\n",
    "    DCDY = DWDY'*L;%checked\n",
    "    DOut1DP = eye(N) - diag(diag(A)^(-1)*((alpha.*(w.^(1-epsilon))+(1-alpha).*(q.^(1-epsilon)))).^(epsilon/(1-epsilon)))*...\n",
    "        (diag(alpha)*diag(w.^(-epsilon))*DWDP+diag(1-alpha)*diag(q.^(-epsilon))*DQDP);\n",
    "\n",
    "    DOut1DY =  -diag(diag(A.^(-1))*((alpha.*(w.^(1-epsilon))+(1-alpha).*(q.^(1-epsilon)))).^(epsilon/(1-epsilon)))*...\n",
    "        (diag(alpha)*diag(w.^(-epsilon))*DWDY);\n",
    "\n",
    "    DOut2DP = -(epsilon * diag(p.^(-theta))*Omega'*diag((p.^(epsilon-1)).*(y).*(q.^(theta-epsilon)).*(1-alpha).*(A.^(epsilon-1)))...\n",
    "        +(theta-epsilon)*diag(p.^(-theta))*Omega'*diag((p.^(epsilon)).*(y).*(q.^(theta-epsilon-1)).*(1-alpha).*(A.^(epsilon-1)))*DQDP ...\n",
    "        -sigma*diag(beta.*p.^(-sigma-1))*C+ bsxfun(@times, beta.*(p.^(-sigma)), DCDP')...\n",
    "        - theta* diag(p.^(-theta-1)).*diag(Omega'*diag((p.^(epsilon)).*(q.^(theta-epsilon)).*(1-alpha).*(A.^(epsilon-1)))*y));\n",
    "\n",
    "    DOut2DY = eye(N) - (diag(p)^epsilon*diag(A)^(epsilon-1)*diag(q)^(theta-epsilon)*diag(1-alpha)*Omega*diag(p)^(-theta))' - bsxfun(@times, beta.*(p.^(-sigma)), DCDY');\n",
    "    OutDeriv = [DOut1DP DOut1DY; DOut2DP DOut2DY]';\n",
    "    \n",
    "\n",
    "end"
   ]
  },
  {
   "attachments": {},
   "cell_type": "markdown",
   "id": "1db92638-98ed-4e79-acea-0d3babe99b04",
   "metadata": {},
   "source": [
    "Für die Elemente von $\\Omega$ verwenden wir $\\omega$. Potenzieren wird im folgenden Komponentenweise verstanden. W steht für wages. $\\omega$ im Paper ist vielleicht wie ein $\\alpha$ zu verstehen\n",
    "\n",
    "$q$ ist der Preis der Intermediärgüter, $w$ der Preis der Arbeit (Lohn)\n",
    "\n",
    "\\begin{align}\n",
    "q_i &= (\\sum_{j=1}^{76} \\omega_{i,j}p_j^{1-\\theta}) ^ {\\frac 1 {1 - \\theta}} \\\\\n",
    "\\mathcal w_i &= p_i (A_i ^ {\\frac{\\varepsilon -1}{\\epsilon}} \\alpha_i ^ {\\frac 1 \\varepsilon} y_i ^ {\\frac 1 \\varepsilon} L_i ^ {\\frac {-1}{\\varepsilon}}) = p_i (A_i^{\\varepsilon-1}\\alpha_i y_i L_i^{-1})^{1/\\varepsilon} \\\\\n",
    "C &= \\langle \\mathcal w, L \\rangle = \\text{GDP}\n",
    "\\end{align}\n",
    "\n",
    "Wir wollen nun Lösen: Finde $p, y \\in \\mathbb R^{76}$ sodass $\\forall 1 \\leq i \\leq 76$ gilt:\n",
    "\n",
    "\\begin{align}\n",
    "p_i &= (A_i^{\\varepsilon -1} (\\alpha_i \\mathcal w_i^{1 - \\varepsilon} + (1 - \\alpha_i) q_i ^ {1- \\varepsilon})) ^ {1/(1-\\varepsilon)} \\\\\n",
    "y_i &= p_i^{-\\theta} \\cdot \\sum_{j=1}^{76} (\\omega_{j,i} p_j^\\varepsilon A_j^{\\varepsilon -1} q_j^{\\theta - \\varepsilon} (1 - \\alpha_j) y_j) - C p_i^{-\\sigma} \\beta_i\n",
    "\\end{align}\n",
    "\n",
    "oder umgeschrieben \n",
    "\n",
    "\\begin{align}\n",
    "    A_i p_i &=  ((\\alpha_i \\mathcal w_i^{1 - \\varepsilon} + (1 - \\alpha_i) q_i ^ {1- \\varepsilon})) ^ {1/(1-\\varepsilon))} \\\\\n",
    "    y_i  &= p_i^{-\\theta} \\cdot \\sum_{j=1}^{76}  (A_j^{\\varepsilon -1} \\omega_{j,i} p_j^\\varepsilon q_j^{\\theta - \\varepsilon} (1 - \\alpha_j) y_j) - p_i^{-\\sigma} C \\beta_i =  p_i^{-\\theta} \\cdot \\sum_{j=1}^{76}  (A_j^{\\varepsilon -1}  p_j^\\varepsilon (1 - \\alpha_j) \\frac{q_j^{\\theta}}{q_j^\\varepsilon}  \\omega_{j,i }y_j) - p_i^{-\\sigma} C \\beta_i  \n",
    "\n",
    "\\end{align}\n"
   ]
  },
  {
   "cell_type": "code",
   "execution_count": 41,
   "id": "ce5cb879-6167-4a9d-a280-ec9dbb12b4d1",
   "metadata": {},
   "outputs": [
    {
     "data": {
      "text/plain": [
       "problem (generic function with 1 method)"
      ]
     },
     "metadata": {},
     "output_type": "display_data"
    }
   ],
   "source": [
    "function problem(X, A, β, Ω, α, ε, θ, σ,L)\n",
    "    \n",
    "    N = length(α)\n",
    "    p = @view X[1:N]\n",
    "    y = @view X[N+1:end]\n",
    "    \n",
    "    Out = @MVector zeros(eltype(X),2*N)\n",
    "    \n",
    "    q = (Ω * p .^ (1-θ)) .^ (1 / (1 - θ))\n",
    "    w = p .* (A .^ ((ε - 1)/ε)) .* (α .^ (1 / ε)) .* (y .^ (1/ε)) .* L .^ (-1/ε)\n",
    "    C = w' * L\n",
    "  \n",
    "    Out[1:N] = p - (A .^ (ε - 1) .* (α .* w .^ (1- ε) + (1 .- α) .* q .^ (1 - ε))) .^ (1/(1-ε))\n",
    "    Out[N+1:end] = y - p .^ (-θ) .* (Ω'  * (p .^ ε .* A .^ (ε-1) .* q .^(θ-ε) .* (1 .- α) .* y)) - C * p .^(-σ) .* β\n",
    "    \n",
    "    return Out\n",
    "end"
   ]
  },
  {
   "cell_type": "code",
   "execution_count": 25,
   "id": "0d204cdd-1d7d-46b6-8f18-aff4889404fb",
   "metadata": {},
   "outputs": [
    {
     "data": {
      "text/plain": [
       "Jacobian (generic function with 1 method)"
      ]
     },
     "execution_count": 50,
     "metadata": {},
     "output_type": "execute_result"
    }
   ],
   "source": [
    "function Jacobian(X, A, β, Ω, α, ε, θ, σ,L)\n",
    "    N = length(α)\n",
    "    p = X[1:N]\n",
    "    y = X[N+1:end]\n",
    "    \n",
    "    Out = zeros(2*N)\n",
    "    \n",
    "    q = (Ω * p .^ (1-θ)) .^ (1 / (1 - θ))\n",
    "    w = p .* (A .^ ((ε - 1)/ε)) .* (α .^ (1 / ε)) .* (y .^ (1/ε)) .* L .^ (-1/ε)\n",
    "    C = w' * L\n",
    "  \n",
    "    \n",
    "    DQDP = ((q.^θ) .* (p.^(-θ))') .* Ω\n",
    "    DWDP = diagm((A .^ ((ε-1)/ε)) .* (alpha .^ (1/ε)).*(y .^ (1/ε)) .* L .^ (-1/ε));\n",
    "    DWDY = (1/ε) *diagm(p .* (A .^ ((ε-1)/ε)) .* (α.^(1/ε)).*(y.^(1/ε-1)).*(L).^(-1/ε));\n",
    "    DCDP = DWDP'*L;\n",
    "    DCDY = DWDY'*L;\n",
    "\n",
    "    DOut1DP = I - diagm(diagm(A)^(-1) * ((.*(w.^(1-ε))+(1 .- α).*(q.^(1-ε)))).^(ε/(1-ε))) * (diagm(α)*diagm(w .^(-epsilon))*DWDP + diagm(1 .- α)*diagm(q.^(-ε))*DQDP);\n",
    "    DOut1DY =  -diagm(diagm(A.^(-1))*((α.*(w.^(1-ε))+(1 .- α).*(q.^(1-ε)))).^(ε/(1-ε)))* (diagm(α)*diagm(w.^(-ε))*DWDY);\n",
    "\n",
    "    DOut2DP = -(ε * diagm(p.^(-θ))*Ω'*diagm((p.^(ε-1)).*(y).*(q.^(θ-ε)).*(1 .- α).*(A.^(ε-1))) \n",
    "        + (θ-ε)*diagm(p.^(-θ))*Ω'*diagm((p.^(ε)).*(y).*(q.^(θ-ε-1)).*(1 .- α)\n",
    "            .*(A.^(ε-1)))*DQDP - σ*diagm(β.*p.^(-σ-1))*C + β.*(p.^(-sigma)) .* DCDP' \n",
    "        - θ* diagm(p.^(-θ-1)).*diagm(Ω'*diagm((p.^(ε)).*(q.^(θ-ε)).*(1 .- α).*(A.^(ε-1)))*y));\n",
    "\n",
    "    DOut2DY = I - (diagm(p)^ε * diagm(A)^(ε-1)*diagm(q)^(θ-ε)*diagm(1 .- α)*Ω*diagm(p)^(-θ))' -beta.*(p.^(-sigma)).* DCDY';\n",
    "    \n",
    "\n",
    "    [DOut1DP DOut1DY; DOut2DP DOut2DY]'\n",
    "\n",
    "end"
   ]
  },
  {
   "cell_type": "code",
   "execution_count": 26,
   "id": "d905404b-a3aa-428c-935e-31855480f9f6",
   "metadata": {},
   "outputs": [
    {
     "data": {
      "text/plain": [
       "f! (generic function with 1 method)"
      ]
     },
     "metadata": {},
     "output_type": "display_data"
    }
   ],
   "source": [
    "function f!(F,x)\n",
    "   F[1:152] = problem(x, A, beta, Omega, alpha, epsilon, theta, sigma,L);\n",
    "end"
   ]
  },
  {
   "cell_type": "code",
   "execution_count": 27,
   "id": "b6ad7bae-a924-4894-823d-6d8ff0d574fa",
   "metadata": {},
   "outputs": [
    {
     "data": {
      "text/plain": [
       "j! (generic function with 1 method)"
      ]
     },
     "execution_count": 27,
     "metadata": {},
     "output_type": "execute_result"
    }
   ],
   "source": [
    "function j!(J,x)\n",
    "    J[1:152,1:152] .= Jacobian(x, A, beta, Omega, alpha, epsilon, theta, sigma,L);\n",
    "end"
   ]
  },
  {
   "attachments": {},
   "cell_type": "markdown",
   "id": "732f069b-97a2-4d0b-995c-ace0cff96e4f",
   "metadata": {},
   "source": []
  },
  {
   "cell_type": "code",
   "execution_count": 28,
   "id": "22082b05-dae3-4e82-95b3-b69a88f481fb",
   "metadata": {},
   "outputs": [],
   "source": [
    "A = exp.(mvnrnd(-1/2*diag(Sigma),diagm(diag(Sigma))));\n",
    "#x0 = [exp.(-inv(I - diagm(1 .- alpha)*Omega)*log.(A));(beta' * inv(I- diagm(1 .- alpha)*Omega))'./exp.(-inv(I - diagm(1 .- alpha) * Omega)*log.(A))]  #judicious choice of starting values\n",
    "x0 = [exp.(-inv(I - diagm(1 .- alpha)*Omega)*log.(A));domar_weights ./exp.(-inv(I - diagm(1 .- alpha) * Omega)*log.(A))];"
   ]
  },
  {
   "attachments": {},
   "cell_type": "markdown",
   "id": "995f09c5",
   "metadata": {},
   "source": [
    "Die Formel für das GDP lautet\n",
    "\n",
    "$$GDP = \\sum_{i=1}^{76} p_i A_i^{\\frac {\\varepsilon -1} {\\varepsilon}} \\alpha_i^{{\\frac 1 \\varepsilon}} y_i^{\\frac{1} {\\varepsilon}} L_i^{\\frac{-1} {\\varepsilon}} L_i = \\langle w,L \\rangle$$"
   ]
  },
  {
   "cell_type": "code",
   "execution_count": 38,
   "id": "2fc8fb98-42ec-4aad-b544-9b3a29a5c7ed",
   "metadata": {},
   "outputs": [
    {
     "name": "stdout",
     "output_type": "stream",
     "text": [
      "No converence\n"
     ]
    },
    {
     "name": "stdout",
     "output_type": "stream",
     "text": [
      "No converence\n"
     ]
    },
    {
     "name": "stdout",
     "output_type": "stream",
     "text": [
      "No converence\n"
     ]
    },
    {
     "name": "stdout",
     "output_type": "stream",
     "text": [
      "No converence\n"
     ]
    },
    {
     "name": "stdout",
     "output_type": "stream",
     "text": [
      "No converence\n"
     ]
    },
    {
     "ename": "InterruptException",
     "evalue": "InterruptException:",
     "output_type": "error",
     "traceback": [
      "InterruptException:\n",
      "\n",
      "Stacktrace:\n",
      "  [1] Array\n",
      "    @ ./boot.jl:459 [inlined]\n",
      "  [2] Array\n",
      "    @ ./boot.jl:468 [inlined]\n",
      "  [3] Array\n",
      "    @ ./boot.jl:476 [inlined]\n",
      "  [4] similar\n",
      "    @ ./abstractarray.jl:841 [inlined]\n",
      "  [5] similar\n",
      "    @ ./abstractarray.jl:840 [inlined]\n",
      "  [6] similar\n",
      "    @ ./broadcast.jl:212 [inlined]\n",
      "  [7] similar\n",
      "    @ ./broadcast.jl:211 [inlined]\n",
      "  [8] copy\n",
      "    @ ./broadcast.jl:885 [inlined]\n",
      "  [9] materialize\n",
      "    @ ./broadcast.jl:860 [inlined]\n",
      " [10] problem(X::Vector{Float64}, A::Vector{Float64}, β::Vector{Float64}, Ω::Matrix{Float64}, α::Vector{Float64}, ε::Float64, θ::Float64, σ::Float64, L::Vector{Float64})\n",
      "    @ Main ~/Schreibtisch/BeyondHulten/Translation/Analysis.ipynb:9\n",
      " [11] f!(F::Vector{Float64}, x::Vector{Float64})\n",
      "    @ Main ~/Schreibtisch/BeyondHulten/Translation/Analysis.ipynb:2\n",
      " [12] finite_difference_jacobian!(J::Matrix{Float64}, f::typeof(f!), x::Vector{Float64}, cache::FiniteDiff.JacobianCache{Vector{Float64}, Vector{Float64}, Vector{Float64}, Vector{Float64}, UnitRange{Int64}, Nothing, Val{:central}(), Float64}, f_in::Nothing; relstep::Float64, absstep::Float64, colorvec::UnitRange{Int64}, sparsity::Nothing, dir::Bool)\n",
      "    @ FiniteDiff ~/.julia/packages/FiniteDiff/8j0Fd/src/jacobians.jl:440\n",
      " [13] finite_difference_jacobian! (repeats 2 times)\n",
      "    @ ~/.julia/packages/FiniteDiff/8j0Fd/src/jacobians.jl:341 [inlined]\n",
      " [14] fj_finitediff!\n",
      "    @ ~/.julia/packages/NLSolversBase/kavn7/src/objective_types/oncedifferentiable.jl:139 [inlined]\n",
      " [15] (::NLSolversBase.var\"#j_finitediff!#22\"{Vector{Float64}, NLSolversBase.var\"#fj_finitediff!#21\"{typeof(f!), FiniteDiff.JacobianCache{Vector{Float64}, Vector{Float64}, Vector{Float64}, Vector{Float64}, UnitRange{Int64}, Nothing, Val{:central}(), Float64}}})(J::Matrix{Float64}, x::Vector{Float64})\n",
      "    @ NLSolversBase ~/.julia/packages/NLSolversBase/kavn7/src/objective_types/oncedifferentiable.jl:144\n",
      " [16] jacobian!!(obj::OnceDifferentiable{Vector{Float64}, Matrix{Float64}, Vector{Float64}}, J::Matrix{Float64}, x::Vector{Float64})\n",
      "    @ NLSolversBase ~/.julia/packages/NLSolversBase/kavn7/src/interface.jl:142\n",
      " [17] jacobian!!\n",
      "    @ ~/.julia/packages/NLSolversBase/kavn7/src/interface.jl:140 [inlined]\n",
      " [18] jacobian!\n",
      "    @ ~/.julia/packages/NLSolversBase/kavn7/src/interface.jl:135 [inlined]\n",
      " [19] trust_region_(df::OnceDifferentiable{Vector{Float64}, Matrix{Float64}, Vector{Float64}}, initial_x::Vector{Float64}, xtol::Float64, ftol::Float64, iterations::Int64, store_trace::Bool, show_trace::Bool, extended_trace::Bool, factor::Float64, autoscale::Bool, cache::NLsolve.NewtonTrustRegionCache{Vector{Float64}})\n",
      "    @ NLsolve ~/.julia/packages/NLsolve/gJL1I/src/solvers/trust_region.jl:184\n",
      " [20] trust_region (repeats 2 times)\n",
      "    @ ~/.julia/packages/NLsolve/gJL1I/src/solvers/trust_region.jl:235 [inlined]\n",
      " [21] nlsolve(df::OnceDifferentiable{Vector{Float64}, Matrix{Float64}, Vector{Float64}}, initial_x::Vector{Float64}; method::Symbol, xtol::Float64, ftol::Float64, iterations::Int64, store_trace::Bool, show_trace::Bool, extended_trace::Bool, linesearch::Static, linsolve::NLsolve.var\"#27#29\", factor::Float64, autoscale::Bool, m::Int64, beta::Int64, aa_start::Int64, droptol::Float64)\n",
      "    @ NLsolve ~/.julia/packages/NLsolve/gJL1I/src/nlsolve/nlsolve.jl:26\n",
      " [22] nlsolve(f::Function, initial_x::Vector{Float64}; method::Symbol, autodiff::Symbol, inplace::Bool, kwargs::Base.Pairs{Symbol, Real, Tuple{Symbol, Symbol, Symbol}, NamedTuple{(:iterations, :xtol, :ftol), Tuple{Int64, Float64, Float64}}})\n",
      "    @ NLsolve ~/.julia/packages/NLsolve/gJL1I/src/nlsolve/nlsolve.jl:52\n",
      " [23] top-level scope\n",
      "    @ ~/Schreibtisch/BeyondHulten/Translation/Analysis.ipynb:7"
     ]
    }
   ],
   "source": [
    "trials =  100\n",
    "GDP = zeros(trials)\n",
    "λ_sim = zeros(76,trials)\n",
    "for i ∈ 1:trials\n",
    "    A = exp.(mvnrnd(-1/2*diag(Sigma),diagm(diag(Sigma))));\n",
    "    x0 = [exp.(-inv(I - diagm(1 .- alpha)*Omega)*log.(A));domar_weights ./exp.(-inv(I - diagm(1 .- alpha) * Omega)*log.(A))];\n",
    "    x = nlsolve(f!,x0,iterations = 5000, xtol = 10^-14,ftol = 10^-14);\n",
    "\n",
    "    if converged(x)\n",
    "        p = x.zero[1:76] \n",
    "        y = x.zero[77:152]\n",
    "        GDP[i] = (p .* (A .^ ((ε-1)/ε)).*(alpha.^(1/ε)).*(y.^(1/ε)).* L .^ (-1/ε))' * L;\n",
    "        λ_sim[:,i] .= (p .* y) / (GDP[i]) \n",
    "    else\n",
    "        println(\"No converence\")\n",
    "    end\n",
    "end"
   ]
  },
  {
   "cell_type": "code",
   "execution_count": null,
   "id": "d4e65962-d48f-44f4-a400-1111a7fda46e",
   "metadata": {},
   "outputs": [],
   "source": [
    "for year = 1960:2005\n",
    "\n",
    "  temp=[8,60,62,80:88];\n",
    "\n",
    "  IO = data(find(data(:,1)==year),:);\n",
    "  IO(:,[1 3 4 5 94]) = []; % delete year, gross output, capital, labor, noncompetitive imports\n",
    "  IO(temp,:) = []; % reove government sectors, and sectors with no gross sales\n",
    "  Ind = IO(:,1); %store industry names\n",
    "  IO(:,1) = [];\n",
    "  IO(:,temp) =[];\n",
    "  Omega = bsxfun(@rdivide, IO, sum(IO,2));\n",
    "  %Omega = diag(1-vadd(:,year-1959)./grossy(:,year-1959))*Omega; #scale IO table by intermediate input share\n",
    "  alpha = (vadd(:,year-1959)./grossy(:,year-1959)); % set the factor share by industry\n",
    "  N = length(Omega);\n",
    "  beta = grossy(:,year-1959)'*(eye(N)-diag(1-alpha)*Omega);\n",
    "  beta(beta<0) = 0; %remove industries with negative implied final sales\n",
    "  beta = beta/sum(beta); %normalize consumption vector to sum to unity.\n",
    "  beta = beta';\n",
    "  lambda(:,count) = (beta'*inv(eye(N)-diag(1-alpha)*Omega))';\n",
    "  count = count+1;\n",
    "end"
   ]
  },
  {
   "cell_type": "code",
   "execution_count": 30,
   "id": "98baa9d4-35df-438a-92ea-6679f8a10865",
   "metadata": {},
   "outputs": [],
   "source": [
    "λ = zeros(76,2005-1959)\n",
    "\n",
    "for year ∈ 1960:2005\n",
    "    IO = data[data[:,1] .== year,:]\n",
    "    temp = [8,60,62,80:88...]\n",
    "    IO = IO[setdiff(1:end,temp),setdiff(1:end,[1,2,3,4,5,94])]\n",
    "    IO = IO[:,setdiff(1:end,temp)]\n",
    "    Ω = IO ./ sum(IO,dims=2)\n",
    "    α = vadd[:,year-1959] ./ grossy[:,year-1959];\n",
    "    β = (grossy[:,year-1959]' * (I-diagm(1 .- α)*Ω))';\n",
    "    β[beta .< 0] .= 0\n",
    "    β = β / sum(β)\n",
    "\n",
    "    \n",
    "    λ[:,year - 1959] .= (inv(I - diagm(1 .- alpha)*Ω)' * β);\n",
    "    \n",
    "end\n"
   ]
  },
  {
   "cell_type": "code",
   "execution_count": 32,
   "id": "1201c9af-358c-4eed-863c-4763680c1eff",
   "metadata": {},
   "outputs": [
    {
     "data": {
      "text/plain": [
       "76×1 Matrix{Float64}:\n",
       " 0.008107237853817287\n",
       " 0.0007523135864479131\n",
       " 0.00031237412691633056\n",
       " 0.0003789911446114758\n",
       " 0.0004894700782857832\n",
       " 0.0008622142459538943\n",
       " 0.0052101226649808935\n",
       " 0.018553730503815896\n",
       " 0.0024250054716087365\n",
       " 0.0012934304482314723\n",
       " 0.002217343938996541\n",
       " 0.0060222163322303695\n",
       " 0.005501985315388467\n",
       " ⋮\n",
       " 0.0011648769760409742\n",
       " 0.0008023019981786588\n",
       " 0.0015585425294140877\n",
       " 0.003961932922477893\n",
       " 0.0007967227287495287\n",
       " 0.003665569047136084\n",
       " 0.0009059796715378963\n",
       " 0.0021795041099331425\n",
       " 0.001737222694811052\n",
       " 0.003107769586549516\n",
       " 0.0007895782027387948\n",
       " 0.0044589069478056026"
      ]
     },
     "execution_count": 32,
     "metadata": {},
     "output_type": "execute_result"
    }
   ],
   "source": [
    "mean(λ,dims = 2) * (std(diff(log.(λ_sim),dims=2)))"
   ]
  },
  {
   "attachments": {},
   "cell_type": "markdown",
   "id": "615bd900-139d-4c0d-8035-d3dfa09049a0",
   "metadata": {},
   "source": [
    "Here we do this simulation again, but we just shock certain sectors"
   ]
  },
  {
   "cell_type": "code",
   "execution_count": null,
   "id": "47965450-ff15-4a3d-99ca-48aac4940812",
   "metadata": {},
   "outputs": [],
   "source": [
    "M = 10;\n",
    "GDP = zeros(2*M,1);\n",
    "grid = linspace(1.0, a, M);\n",
    "list = [7;53;8]\n",
    "for k = 1:length(list)\n",
    "        Ind = list(k);\n",
    "        grid = linspace(1.0, a, M);\n",
    "    for j = 1:M\n",
    "            A = ones(N,1);\n",
    "            A(Ind) = grid(j);\n",
    "            [Soln,~,exitfl] = knitromatlab(@(X) trivial(X),init,[],[],[],[],[],[], @(X)Simulation_Derivs(X,  A, beta, Omega, alpha, epsilon, theta, sigma,L),[],[],'Knitro_options.opt');\n",
    "            if exitfl == 0\n",
    "              GDP(j,k) = (Soln(1:N).*(A.^((epsilon-1)/epsilon)).*(alpha.^(1/epsilon)).*(Soln(N+1:2*N).^(1/epsilon)).*(1./L).^(1/epsilon))'*L;\n",
    "            end\n",
    "            init = Soln;\n",
    "    end\n",
    "\n",
    "\n",
    "    grid = linspace(1.0, b, M);\n",
    "    init = [ones(N,1);(beta'*inv(eye(N)-diag(1-alpha)*Omega))'];\n",
    "    for j = 1:M\n",
    "            A = ones(N,1);\n",
    "            A(Ind) = grid(j);\n",
    "                [Soln,~,exitfl] = knitromatlab(@(X) trivial(X),init,[],[],[],[],[],[], @(X)Simulation_Derivs(X,  A, beta, Omega, alpha, epsilon, theta, sigma,L),[],[],'Knitro_options.opt');\n",
    "                if exitfl == 0\n",
    "                    GDP(j+M,k) = (Soln(1:N).*(A.^((epsilon-1)/epsilon)).*(alpha.^(1/epsilon)).*(Soln(N+1:2*N).^(1/epsilon)).*(1./L).^(1/epsilon))'*L;\n",
    "                end\n",
    "                init = Soln;\n",
    "    end\n",
    "    GDP(1:M,k) = flipud(GDP(1:M,k));\n",
    "end"
   ]
  },
  {
   "cell_type": "code",
   "execution_count": null,
   "id": "6073e57e-4d61-4d90-9b47-805f9f49d4ab",
   "metadata": {},
   "outputs": [],
   "source": [
    "year = 1982\n",
    "M = 10\n",
    "A = ones(76,1);\n",
    "a = 0.7;\n",
    "b = 1.3;\n",
    "\n",
    "ε = .3; #Elasticity of substitution between VA and intermediates\n",
    "θ = 0.0001; #Elasticity of substitution between intermediates\n",
    "σ = .4; #Elasticity of substitution between in consumption\n",
    "\n",
    "\n",
    "(α,β,Ω,L,λ) = getVariables(year);\n",
    "\n",
    "x0 = [ones(76,1);λ];\n",
    "\n",
    "GDP = zeros(20,3)\n",
    "sectors = [7 8 53]\n",
    "sectorShocks = LinRange(1,a,M)\n",
    "for i in 1:3\n",
    "    for k in 1:M\n",
    "        A = ones(76)\n",
    "        A[sectors[i]] = sectorShocks[k]\n",
    "        \n",
    "        function f!(F,x)\n",
    "            F[1:152] = problem(x, A, β, Ω, α, ε, θ, σ,L);\n",
    "        end\n",
    "        \n",
    "        function j!(J,x)\n",
    "            J[1:152,1:152] .= Jacobian(x, A, beta, Omega, alpha, epsilon, theta, sigma,L);\n",
    "        end\n",
    "        \n",
    "        x = nlsolve(f!,j!,x0,iterations = 500, xtol = 10^-8,ftol = 10^-8);\n",
    "        \n",
    "        if converged(x)\n",
    "            p = x.zero[1:76] \n",
    "            y = x.zero[77:152]\n",
    "            GDP[k,i] = (p .* (A .^ ((ε-1)/ε)).*(alpha.^(1/ε)).*(y.^(1/ε)).* L .^ (-1/ε))' * L\n",
    "            x0 =  x.zero\n",
    "        else\n",
    "            print(\"No convergence\")\n",
    "            p = x.zero[1:76] \n",
    "            y = x.zero[77:152]\n",
    "            GDP[k,i] = (p .* (A .^ ((ε-1)/ε)).*(alpha.^(1/ε)).*(y.^(1/ε)).* L .^ (-1/ε))' * L\n",
    "            x0 =  x.zero\n",
    "        end\n",
    "    end\n",
    "\n",
    "end\n",
    "\n"
   ]
  }
 ],
 "metadata": {
  "kernelspec": {
   "display_name": "Julia 1.9.3",
   "language": "julia",
   "name": "julia-1.9"
  },
  "language_info": {
   "file_extension": ".jl",
   "mimetype": "application/julia",
   "name": "julia",
   "version": "1.9.3"
  }
 },
 "nbformat": 4,
 "nbformat_minor": 5
}

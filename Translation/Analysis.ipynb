{
 "cells": [
  {
   "cell_type": "code",
   "execution_count": 1,
   "id": "8753bdc5-e882-4c61-a8f2-c8c9b79c961f",
   "metadata": {},
   "outputs": [],
   "source": [
<<<<<<< HEAD
    "using MAT, Statistics, LinearAlgebra,Random, Plots, NLsolve, ForwardDiff, BenchmarkTools"
   ]
  },
  {
   "cell_type": "markdown",
   "id": "7edec650-2702-4d81-95f7-7ea02545dd1c",
   "metadata": {},
   "source": [
    "Function that reads in all the variables optained that are used in line 93 and onwards and are defined before that."
=======
    "using MAT, Statistics, LinearAlgebra,Random, Plots, NLsolve, ForwardDiff, Distributions, BenchmarkTools, StaticArrays"
>>>>>>> 85e070e8607314bed193a863bb35903696bb0439
   ]
  },
  {
   "cell_type": "code",
   "execution_count": 2,
   "id": "196a4e30-3fd6-4ea1-8cae-d59d4018151d",
   "metadata": {},
   "outputs": [
    {
     "data": {
      "text/plain": [
       "mvnrnd (generic function with 1 method)"
      ]
     },
     "metadata": {},
     "output_type": "display_data"
    }
   ],
   "source": [
    "include(\"mvnrnd.jl\")"
   ]
  },
  {
   "cell_type": "markdown",
   "id": "7edec650-2702-4d81-95f7-7ea02545dd1c",
   "metadata": {},
   "source": [
    "Function that reads in all the variables optained that are used in line 93 and onwards and are defined before that and turns them into julia variables."
   ]
  },
  {
   "cell_type": "code",
   "execution_count": 16,
   "id": "43cbe81d-fdda-4954-bfe6-f40a0184aadd",
   "metadata": {},
   "outputs": [],
   "source": [
    "function string_as_varname(s::AbstractString,v::Any)\n",
    "    s=Symbol(s)\n",
    "    if size(v,2) == 1 # check if v is a column vector\n",
    "        @eval (($s) = vec($v))\n",
    "    else\n",
    "        @eval (($s) = ($v))\n",
    "    end\n",
    "end\n",
    "\n",
    "file = matopen(\"simulationData.mat\")\n",
    "\n",
    "\n",
    "\n",
    "varnames = names(file) \n",
    "#[IO, price, Omega, data, labor, mu, aggtfp, alpha, grossy, stfp, beta, agggdp, Sigma, capital, vadd]\n",
    "for varname in varnames\n",
    "    val = read(file, varname)\n",
    "    # Instantiate the variable with its name in the current scope\n",
    "    string_as_varname(varname,val)\n",
    "    end\n",
    "\n",
    "close(file)"
   ]
  },
  {
   "cell_type": "markdown",
   "id": "02220dec-96c3-45e0-9e7d-0246353d1fa9",
   "metadata": {},
   "source": [
    "We now want to figure out what every variable stands for, and where it comes from.\n",
    "So far we know:\n",
    "- **IO**: Input-Output Matrix\n",
    "- **STFP** Sectoral TFP Growth per anno\n",
    "- **$\\Omega$**: I think this is the same as in *Definition 3* Es gilt $$(\\Omega)_i^j = \\frac {(\\mathit{IO})_i^j} {\\sum_{k=0}^N(\\mathit{IO}_k^j)}$$ Also der Anteil eines Sektors $i$ an der Gesamptproduktion des Sektors $j$\n",
    "- **$\\Sigma$**: Covarianz von SFTP\n",
    "- **$\\mu$**: Rowwise mean of stfp. So the mean annual groth of each sector\n",
    "- **data**: quantity data matrix\n",
    "- **price**: price data matrix. I think price and data are for our anyalsis quite useless, they are used as building blocks\n",
    "- **grossy** nominal gross output, was produziert sektor i\n",
    "- **vadd** nominal value added - Anteil der Einkommen die die Faktoren erzielen.\n",
    "- **labor** nominal labor\n",
    "- **capital** nominal captial\n",
    "- **alpha**: vadd / grossy. Factor (Arbeit, etc.) share by industry. (Alles was nicht von anderen Sektoren bezogen wird).\n",
    "- **beta**: `beta = (I-diagm(1-alpha)*Omega)' * grossy(:,year-1959)` this is then normalized and filtered. Anteil der Sektoren an der Endnachfrage."
   ]
  },
  {
   "cell_type": "markdown",
   "id": "6cecbba8-ad27-4340-8352-0879d677bcef",
   "metadata": {},
   "source": [
    "This is not used anywhere in the code."
   ]
  },
  {
   "cell_type": "markdown",
   "id": "13511aa2-281d-4311-8f51-0b1f76bfeaef",
   "metadata": {},
   "source": [
    "Found way too late, for how often this is used."
   ]
  },
  {
   "cell_type": "markdown",
   "id": "d5060025-84ed-4bfe-8b77-aae3ac965f04",
   "metadata": {},
   "source": [
    "$\\lambda$ = total sales / sum(final sales)\n",
    "(inv(I - diagm(1 .- alpha) * Omega) = Leontief Invers um von final sales auf total sales zu kommen"
   ]
  },
  {
   "cell_type": "code",
   "execution_count": 17,
   "id": "365005e7-b2a5-428f-baa7-458e80d29bdf",
   "metadata": {},
   "outputs": [],
   "source": [
    "#domar_weights = (beta' * inv(I - diagm(1 .-alpha)* Omega))';\n",
    "domar_weights = λ = (inv(I - diagm(1 .- alpha) * Omega)' * beta);"
   ]
  },
  {
   "cell_type": "code",
<<<<<<< HEAD
   "execution_count": 5,
=======
   "execution_count": 18,
>>>>>>> 85e070e8607314bed193a863bb35903696bb0439
   "id": "e016ae2b-1224-46a9-9e84-d1e44e3da203",
   "metadata": {},
   "outputs": [],
   "source": [
    "cum_stfp = cumsum(log.(1 .+ stfp)',dims=1);\n",
    "cum_stfp_4year = cum_stfp[:,begin:4:end];\n",
    "covariance_4year = Statistics.cov(cum_stfp_4year,dims=2,corrected=false);"
   ]
  },
  {
   "cell_type": "markdown",
   "id": "21b8451e-e408-4ef6-883d-e58abf34d711",
   "metadata": {},
   "source": [
    "Some elasticities, explaination can be found in section 6"
   ]
  },
  {
   "cell_type": "code",
<<<<<<< HEAD
   "execution_count": 7,
=======
   "execution_count": 19,
>>>>>>> 85e070e8607314bed193a863bb35903696bb0439
   "id": "6b913872-1883-415d-8152-0ee86ffbf231",
   "metadata": {},
   "outputs": [],
   "source": [
    "epsilon = ε = .5; \n",
    "theta = θ = 0.001; \n",
    "sigma = σ =.9; "
   ]
  },
  {
   "cell_type": "markdown",
   "id": "23f90ee0-7718-47eb-94ff-b281dc7d3ed3",
   "metadata": {},
   "source": [
    "Again, not used anymore"
   ]
  },
  {
   "cell_type": "code",
<<<<<<< HEAD
   "execution_count": 8,
=======
   "execution_count": 20,
>>>>>>> 85e070e8607314bed193a863bb35903696bb0439
   "id": "3297e2b5-4099-4437-b9bc-901a688789f8",
   "metadata": {},
   "outputs": [
    {
     "ename": "UndefVarError",
     "evalue": "UndefVarError: movingvar not defined",
     "output_type": "error",
     "traceback": [
<<<<<<< HEAD
      "UndefVarError: movingvar not defined\n",
      "\n",
      "Stacktrace:\n",
      " [1] top-level scope\n",
      "   @ ~/Schreibtisch/BeyondHulten/Translation/Analysis.ipynb:4"
=======
      "UndefVarError: movingvar not defined",
      "",
      "Stacktrace:",
      " [1] top-level scope",
      "   @ In[20]:4"
>>>>>>> 85e070e8607314bed193a863bb35903696bb0439
     ]
    }
   ],
   "source": [
    "trials = 1; #number of draws\n",
    "#clear Shocks LShocks;\n",
    "GDP = zeros(trials,1);\n",
    "variances = (movingvar(stfp',5)'); #rolling estimate of variance of TFP\n",
    "var_cri = variances[:,22];\n",
    "\n",
    "var_cri = diag(Sigma)*2; #crisis episode variances\n",
    "\n"
   ]
  },
  {
   "cell_type": "markdown",
   "id": "9917ad4b-a491-4ddc-b987-35c45d7eeda1",
   "metadata": {},
   "source": [
    "L is the steady state allocation of labor. (Wie die Arbeit auf die Sektoren aufgeteilt ist)\n",
    "$$L_i = (\\beta^T (I - \\Omega + \\text{diag}(\\alpha)\\Omega)^{-1})^T \\cdot \\alpha = (I - (I - \\text{diagm}(\\alpha)) * \\Omega)^{-1}\\beta) \\cdot \\alpha = \\lambda \\cdot \\alpha$$\n"
   ]
  },
  {
   "cell_type": "code",
<<<<<<< HEAD
   "execution_count": 9,
=======
   "execution_count": 21,
>>>>>>> 85e070e8607314bed193a863bb35903696bb0439
   "id": "ccdd07dd-6ae9-40d2-aff7-afac572b1791",
   "metadata": {},
   "outputs": [],
   "source": [
    "#L = (beta'*inv(I-diagm(1 .- alpha)*Omega))'.*alpha; #steady-state allocation of labor\n",
    "L = domar_weights .* alpha;"
   ]
  },
  {
   "cell_type": "markdown",
   "id": "ce187280-59d4-43c4-af42-0d8a638f67d0",
   "metadata": {},
   "source": [
    "Because later down we use this all a few times I am now going to write a function that extracts $\\beta,\\alpha,\\lambda$ and $L$ for a given year"
   ]
  },
  {
   "cell_type": "code",
<<<<<<< HEAD
   "execution_count": 10,
=======
   "execution_count": 22,
>>>>>>> 85e070e8607314bed193a863bb35903696bb0439
   "id": "31365e7b-37f5-457a-8b80-e56124fbc9fe",
   "metadata": {},
   "outputs": [
    {
     "data": {
      "text/plain": [
       "getVariables (generic function with 1 method)"
      ]
     },
<<<<<<< HEAD
=======
     "execution_count": 22,
>>>>>>> 85e070e8607314bed193a863bb35903696bb0439
     "metadata": {},
     "output_type": "display_data"
    }
   ],
   "source": [
    "function getVariables(year)\n",
    "    IO = data[data[:,1] .== year,:]\n",
    "    temp = [8,60,62,80:88...]\n",
    "    IO = IO[setdiff(1:end,temp),setdiff(1:end,[1,2,3,4,5,94])]\n",
    "    IO = IO[:,setdiff(1:end,temp)]\n",
    "    Ω = IO ./ sum(IO,dims=2)\n",
    "    α = vadd[:,year-1959] ./ grossy[:,year-1959];\n",
    "    β = (grossy[:,year-1959]' * (I-diagm(1 .- α)*Ω))';\n",
    "    β[beta .< 0] .= 0\n",
    "    β = β / sum(β)\n",
    "    λ = (inv(I - diagm(1 .- alpha)*Ω)' * β);\n",
    "    L = λ .* α\n",
    "    \n",
    "    return α,β,Ω,L,λ\n",
    "\n",
    "end"
   ]
  },
  {
   "cell_type": "markdown",
   "id": "63a3ef56-7cc6-4b7c-80cc-c81dcbe1158b",
   "metadata": {},
   "source": [
    "Here comes the randomness. As far as i can tell the generated vector $x$ has mean $\\mu = -\\frac 1 2 \\text{Var}(\\mathit{stfp})$ and $\\sigma = \\text{Var}(\\mathit{stfp})$ Because $\\sigma$ is a Diagonal Matrix, there is no correlation between each random number, what makes this rather perculiar. Intuition wise I would say, that this implies, that the shocks are independent of one-another. (As described in  Chapter 6)\n",
    "\n",
    "$$A_i = e^{x_i}$$"
   ]
  },
  {
   "cell_type": "markdown",
   "id": "9f20372c-a460-4a3d-880a-984a4f019e17",
   "metadata": {},
   "source": [
    "The `fmincon` function is abused in my opinion. The problem as stated is: $$\\min_x 0 \\quad \\text{s.t} \\,\\, c(x) = 0$$\n",
    "However this is simply: Solve $$c(x) = 0$$And for this the `fsolve` function can be utilized.\n",
    "\n",
    "Lets analyze what $c(x)$ actually is now. (Only `Out` is of importance, the other return values are either unused arguments in the `fmincon` function or the derivatives of `Out`, to make the solver more efficient.\n",
    "\n"
   ]
  },
  {
   "cell_type": "code",
<<<<<<< HEAD
   "execution_count": null,
=======
   "execution_count": 23,
>>>>>>> 85e070e8607314bed193a863bb35903696bb0439
   "id": "823279c9-4d8a-4e6d-b82e-d3835c1cb758",
   "metadata": {},
   "outputs": [
    {
     "ename": "LoadError",
     "evalue": "syntax: invalid syntax \"1./\"; add space(s) to clarify",
     "output_type": "error",
     "traceback": [
      "syntax: invalid syntax \"1./\"; add space(s) to clarify",
      "",
      "Stacktrace:",
      " [1] top-level scope",
<<<<<<< HEAD
      "   @ In[10]:24"
=======
      "   @ In[23]:24"
>>>>>>> 85e070e8607314bed193a863bb35903696bb0439
     ]
    }
   ],
   "source": [
    "function Simulation_Derivs(X, A, beta, Omega, alpha, epsilon, theta, sigma,L) # no reallocation of labor\n",
    "    N = length(alpha);\n",
    "    p = X[1:N];\n",
    "    y = X[N+1:2*N];\n",
    "\n",
    "    q = (Omega* (p .^ (1-theta))) .^ (1/(1-theta));\n",
    "    w = p .* (A .^ ((epsilon-1)/epsilon)) .* (alpha.^(1/epsilon)) .* (y.^(1/epsilon)) .* (1 ./ L) .^ (1/epsilon);\n",
    "    C = w'*L;\n",
    "\n",
    "    \n",
    "    Out = zeros(2*N)\n",
    "    Out[1:N] = p - (diagm(A) ^ (epsilon-1) * (alpha.* w .^ (1-epsilon) + (1 .- alpha) .* q .^ (1-epsilon))).^(1/(1-epsilon));\n",
    "    Out[N+1:2*N] = y' - y' * diagm(p) ^ epsilon * diagm(A)^(epsilon-1) * diagm(q)^(theta-epsilon) * diagm(1 .- alpha) * Omega * diagm(p)^(-theta) - beta' * diagm(p)^(-sigma) * C;\n",
    "    \n",
    "    return Out\n",
    "\n",
    "\n",
    "    \n",
    "    outineq = [];\n",
    "    outineq2 = [];\n",
    "    \n",
    "    \n",
    "    DQDP = bsxfun(@times, (q.^theta), (p.^(-theta))').* Omega; % \n",
    "    DWDP = diag((A.^((epsilon-1)/epsilon)).*(alpha.^(1/epsilon)).*(y.^(1/epsilon)).*(1./L).^(1/epsilon)); %checked\n",
    "    DWDY = (1/epsilon)*diag(p.*(A.^((epsilon-1)/epsilon)).*(alpha.^(1/epsilon)).*(y.^(1/epsilon-1)).*(L).^(-1/epsilon)); %checked\n",
    "    DCDP = DWDP'*L; %checked\n",
    "    DCDY = DWDY'*L;%checked\n",
    "    DOut1DP = eye(N) - diag(diag(A)^(-1)*((alpha.*(w.^(1-epsilon))+(1-alpha).*(q.^(1-epsilon)))).^(epsilon/(1-epsilon)))*...\n",
    "        (diag(alpha)*diag(w.^(-epsilon))*DWDP+diag(1-alpha)*diag(q.^(-epsilon))*DQDP);\n",
    "\n",
    "    DOut1DY =  -diag(diag(A.^(-1))*((alpha.*(w.^(1-epsilon))+(1-alpha).*(q.^(1-epsilon)))).^(epsilon/(1-epsilon)))*...\n",
    "        (diag(alpha)*diag(w.^(-epsilon))*DWDY);\n",
    "\n",
    "    DOut2DP = -(epsilon * diag(p.^(-theta))*Omega'*diag((p.^(epsilon-1)).*(y).*(q.^(theta-epsilon)).*(1-alpha).*(A.^(epsilon-1)))...\n",
    "        +(theta-epsilon)*diag(p.^(-theta))*Omega'*diag((p.^(epsilon)).*(y).*(q.^(theta-epsilon-1)).*(1-alpha).*(A.^(epsilon-1)))*DQDP ...\n",
    "        -sigma*diag(beta.*p.^(-sigma-1))*C+ bsxfun(@times, beta.*(p.^(-sigma)), DCDP')...\n",
    "        - theta* diag(p.^(-theta-1)).*diag(Omega'*diag((p.^(epsilon)).*(q.^(theta-epsilon)).*(1-alpha).*(A.^(epsilon-1)))*y));\n",
    "\n",
    "    DOut2DY = eye(N) - (diag(p)^epsilon*diag(A)^(epsilon-1)*diag(q)^(theta-epsilon)*diag(1-alpha)*Omega*diag(p)^(-theta))' - bsxfun(@times, beta.*(p.^(-sigma)), DCDY');\n",
    "    OutDeriv = [DOut1DP DOut1DY; DOut2DP DOut2DY]';\n",
    "    \n",
    "\n",
    "end"
   ]
  },
  {
   "cell_type": "markdown",
   "id": "1db92638-98ed-4e79-acea-0d3babe99b04",
   "metadata": {},
   "source": [
    "Für die Elemente von $\\Omega$ verwenden wir $\\omega$. Potenzieren wird im folgenden Komponentenweise verstanden. W steht für wages. $\\omega$ im Paper ist vielleicht wie ein $\\alpha$ zu verstehen\n",
    "\n",
    "\\begin{align}\n",
    "q_i &= (\\sum_{j=1}^{76} \\omega_{i,j}p_j^{1-\\theta}) ^ {\\frac 1 {1 - \\theta}} \\\\\n",
    "\\mathcal w_i &= p_i (A_i ^ {\\frac{\\varepsilon -1}{\\epsilon}} \\alpha_i ^ {\\frac 1 \\varepsilon} y_i ^ {\\frac 1 \\varepsilon} L_i ^ {\\frac {-1}{\\varepsilon}}) = p_i (A_i^{\\varepsilon-1}\\alpha_i y_i L_i^{-1})^{1/\\varepsilon} \\\\\n",
    "C &= \\langle \\mathcal w, L \\rangle\n",
    "\\end{align}\n",
    "\n",
    "Wir wollen nun Lösen: Finde $p, y \\in \\mathbb R^{76}$ sodass $\\forall 1 \\leq i \\leq 76$ gilt:\n",
    "\n",
    "\\begin{align}\n",
<<<<<<< HEAD
    "p_i = &A_i^{\\varepsilon -1} (\\alpha_i w_i^{1 - \\varepsilon} + (1 - \\alpha_i) q_i ^ {1- \\varepsilon})) ^ {1/(1-\\varepsilon)} = \\\\\n",
    "&(A_i^{\\varepsilon -1} (\\alpha_i (p_i (A_i^{\\varepsilon-1}\\alpha_i y_i L_i^{-1})^{1/\\varepsilon})^{1 - \\varepsilon} + (1 - \\alpha_i) q_i ^ {1- \\varepsilon})) ^ {1/(1-\\varepsilon)} \\\\\n",
    "y_i = &p_i^\\theta   \\sum_{j=1}^{76}  \\omega_{i,j} (1 - \\alpha_j) \\cdot q_j^{\\theta - \\varepsilon}\\cdot A_j^{\\varepsilon - 1} \\cdot p_j^\\varepsilon y_j\n",
=======
    "p_i &= (A_i^{\\varepsilon -1} (\\alpha_i \\mathcal w_i^{1 - \\varepsilon} + (1 - \\alpha_i) q_i ^ {1- \\varepsilon})) ^ {1/(1-\\varepsilon)} \\\\\n",
    "y_i &= p_i^{-\\theta} \\cdot \\sum_{j=1}^{76} (\\omega_{j,i} p_j^\\varepsilon A_j^{\\varepsilon -1} q_j^{\\theta - \\varepsilon} (1 - \\alpha_j) y_j) - C p_i^{-\\theta} \\beta_i\n",
    "\\end{align}\n",
    "\n",
    "oder umgeschrieben \n",
    "\n",
    "\\begin{align}\n",
    "    A_i p_i &=  ((\\alpha_i \\mathcal w_i^{1 - \\varepsilon} + (1 - \\alpha_i) q_i ^ {1- \\varepsilon})) ^ {1/(1-\\varepsilon))} \\\\\n",
    "    y_i p_i^\\theta &=  \\cdot \\sum_{j=1}^{76}  (A_j^{\\varepsilon -1} \\omega_{j,i} p_j^\\varepsilon q_j^{\\theta - \\varepsilon} (1 - \\alpha_j) y_j) - C \\beta_i\n",
>>>>>>> 85e070e8607314bed193a863bb35903696bb0439
    "\\end{align}\n"
   ]
  },
  {
   "cell_type": "code",
<<<<<<< HEAD
   "execution_count": 41,
=======
   "execution_count": 24,
>>>>>>> 85e070e8607314bed193a863bb35903696bb0439
   "id": "ce5cb879-6167-4a9d-a280-ec9dbb12b4d1",
   "metadata": {},
   "outputs": [
    {
     "data": {
      "text/plain": [
       "problem (generic function with 1 method)"
      ]
     },
<<<<<<< HEAD
=======
     "execution_count": 24,
>>>>>>> 85e070e8607314bed193a863bb35903696bb0439
     "metadata": {},
     "output_type": "display_data"
    }
   ],
   "source": [
    "function problem(X, A, β, Ω, α, ε, θ, σ,L)\n",
    "    \n",
    "    N = length(α)\n",
    "    p = @view X[1:N]\n",
    "    y = @view X[N+1:end]\n",
    "    \n",
    "    Out = @MVector zeros(eltype(X),2*N)\n",
    "    \n",
    "    q = (Ω * p .^ (1-θ)) .^ (1 / (1 - θ))\n",
    "    w = p .* (A .^ ((ε - 1)/ε)) .* (α .^ (1 / ε)) .* (y .^ (1/ε)) .* L .^ (-1/ε)\n",
    "    C = w' * L\n",
    "  \n",
    "    Out[1:N] = p - (A .^ (ε - 1) .* (α .* w .^ (1- ε) + (1 .- α) .* q .^ (1 - ε))) .^ (1/(1-ε))\n",
<<<<<<< HEAD
    "    Out[N+1:end] = y -   p .^ (-θ).* (Ω' * (((1 .- α) .* q .^ (θ-ε) .* A .^(ε-1) .* p .^ ε) .* y))  - C  * p .^ (-σ) .* β\n",
=======
    "    Out[N+1:end] = y - p .^ (-θ) .* (Ω'  * (p .^ ε .* A .^ (ε-1) .* q .^(θ-ε) .* (1 .- α) .* y)) - C * p .^(-σ) .* β\n",
>>>>>>> 85e070e8607314bed193a863bb35903696bb0439
    "    \n",
    "    return Out\n",
    "end"
   ]
  },
  {
   "cell_type": "code",
<<<<<<< HEAD
   "execution_count": null,
=======
   "execution_count": 25,
>>>>>>> 85e070e8607314bed193a863bb35903696bb0439
   "id": "0d204cdd-1d7d-46b6-8f18-aff4889404fb",
   "metadata": {},
   "outputs": [
    {
     "data": {
      "text/plain": [
       "Jacobian (generic function with 1 method)"
      ]
     },
<<<<<<< HEAD
     "execution_count": 50,
=======
     "execution_count": 25,
>>>>>>> 85e070e8607314bed193a863bb35903696bb0439
     "metadata": {},
     "output_type": "execute_result"
    }
   ],
   "source": [
    "function Jacobian(X, A, β, Ω, α, ε, θ, σ,L)\n",
    "    N = length(α)\n",
    "    p = X[1:N]\n",
    "    y = X[N+1:end]\n",
    "    \n",
    "    Out = zeros(2*N)\n",
    "    \n",
    "    q = (Ω * p .^ (1-θ)) .^ (1 / (1 - θ))\n",
    "    w = p .* (A .^ ((ε - 1)/ε)) .* (α .^ (1 / ε)) .* (y .^ (1/ε)) .* L .^ (-1/ε)\n",
    "    C = w' * L\n",
    "  \n",
    "    \n",
    "    DQDP = ((q.^θ) .* (p.^(-θ))') .* Ω\n",
    "    DWDP = diagm((A .^ ((ε-1)/ε)) .* (alpha .^ (1/ε)).*(y .^ (1/ε)) .* L .^ (-1/ε));\n",
    "    DWDY = (1/ε) *diagm(p .* (A .^ ((ε-1)/ε)) .* (α.^(1/ε)).*(y.^(1/ε-1)).*(L).^(-1/ε));\n",
    "    DCDP = DWDP'*L;\n",
    "    DCDY = DWDY'*L;\n",
    "\n",
    "    DOut1DP = I - diagm(diagm(A)^(-1) * ((.*(w.^(1-ε))+(1 .- α).*(q.^(1-ε)))).^(ε/(1-ε))) * (diagm(α)*diagm(w .^(-epsilon))*DWDP + diagm(1 .- α)*diagm(q.^(-ε))*DQDP);\n",
    "    DOut1DY =  -diagm(diagm(A.^(-1))*((α.*(w.^(1-ε))+(1 .- α).*(q.^(1-ε)))).^(ε/(1-ε)))* (diagm(α)*diagm(w.^(-ε))*DWDY);\n",
    "\n",
    "    DOut2DP = -(ε * diagm(p.^(-θ))*Ω'*diagm((p.^(ε-1)).*(y).*(q.^(θ-ε)).*(1 .- α).*(A.^(ε-1))) \n",
    "        + (θ-ε)*diagm(p.^(-θ))*Ω'*diagm((p.^(ε)).*(y).*(q.^(θ-ε-1)).*(1 .- α)\n",
    "            .*(A.^(ε-1)))*DQDP - σ*diagm(β.*p.^(-σ-1))*C + β.*(p.^(-sigma)) .* DCDP' \n",
    "        - θ* diagm(p.^(-θ-1)).*diagm(Ω'*diagm((p.^(ε)).*(q.^(θ-ε)).*(1 .- α).*(A.^(ε-1)))*y));\n",
    "\n",
    "    DOut2DY = I - (diagm(p)^ε * diagm(A)^(ε-1)*diagm(q)^(θ-ε)*diagm(1 .- α)*Ω*diagm(p)^(-θ))' -beta.*(p.^(-sigma)).* DCDY';\n",
    "    \n",
    "\n",
    "    [DOut1DP DOut1DY; DOut2DP DOut2DY]'\n",
    "\n",
    "end"
   ]
  },
  {
   "cell_type": "code",
<<<<<<< HEAD
   "execution_count": 14,
=======
   "execution_count": 26,
>>>>>>> 85e070e8607314bed193a863bb35903696bb0439
   "id": "d905404b-a3aa-428c-935e-31855480f9f6",
   "metadata": {},
   "outputs": [
    {
     "data": {
      "text/plain": [
       "f! (generic function with 1 method)"
      ]
     },
<<<<<<< HEAD
=======
     "execution_count": 26,
>>>>>>> 85e070e8607314bed193a863bb35903696bb0439
     "metadata": {},
     "output_type": "display_data"
    }
   ],
   "source": [
    "function f!(F,x)\n",
    "   F[1:152] = problem(x, A, beta, Omega, alpha, epsilon, theta, sigma,L);\n",
    "end"
   ]
  },
  {
   "cell_type": "code",
<<<<<<< HEAD
   "execution_count": 52,
=======
   "execution_count": 27,
>>>>>>> 85e070e8607314bed193a863bb35903696bb0439
   "id": "b6ad7bae-a924-4894-823d-6d8ff0d574fa",
   "metadata": {},
   "outputs": [
    {
     "data": {
      "text/plain": [
       "j! (generic function with 1 method)"
      ]
     },
<<<<<<< HEAD
     "execution_count": 60,
=======
     "execution_count": 27,
>>>>>>> 85e070e8607314bed193a863bb35903696bb0439
     "metadata": {},
     "output_type": "execute_result"
    }
   ],
   "source": [
    "function j!(J,x)\n",
    "    J[1:152,1:152] .= Jacobian(x, A, beta, Omega, alpha, epsilon, theta, sigma,L);\n",
    "end"
   ]
  },
  {
   "cell_type": "markdown",
   "id": "732f069b-97a2-4d0b-995c-ace0cff96e4f",
   "metadata": {},
   "source": []
  },
  {
   "cell_type": "code",
<<<<<<< HEAD
   "execution_count": 16,
=======
   "execution_count": 28,
>>>>>>> 85e070e8607314bed193a863bb35903696bb0439
   "id": "22082b05-dae3-4e82-95b3-b69a88f481fb",
   "metadata": {},
   "outputs": [],
   "source": [
    "A = exp.(mvnrnd(-1/2*diag(Sigma),diagm(diag(Sigma))));\n",
    "#x0 = [exp.(-inv(I - diagm(1 .- alpha)*Omega)*log.(A));(beta' * inv(I- diagm(1 .- alpha)*Omega))'./exp.(-inv(I - diagm(1 .- alpha) * Omega)*log.(A))]  #judicious choice of starting values\n",
    "x0 = [exp.(-inv(I - diagm(1 .- alpha)*Omega)*log.(A));domar_weights ./exp.(-inv(I - diagm(1 .- alpha) * Omega)*log.(A))];"
   ]
  },
  {
   "cell_type": "code",
<<<<<<< HEAD
   "execution_count": 40,
=======
   "execution_count": 38,
>>>>>>> 85e070e8607314bed193a863bb35903696bb0439
   "id": "2fc8fb98-42ec-4aad-b544-9b3a29a5c7ed",
   "metadata": {},
   "outputs": [
    {
     "name": "stdout",
     "output_type": "stream",
     "text": [
      "No converence\n"
     ]
    },
    {
     "name": "stdout",
     "output_type": "stream",
     "text": [
      "No converence\n"
     ]
    },
    {
     "name": "stdout",
     "output_type": "stream",
     "text": [
      "No converence\n"
     ]
    },
    {
     "name": "stdout",
     "output_type": "stream",
     "text": [
      "No converence\n"
     ]
    },
    {
     "name": "stdout",
     "output_type": "stream",
     "text": [
      "No converence\n"
     ]
    },
    {
     "ename": "InterruptException",
     "evalue": "InterruptException:",
     "output_type": "error",
     "traceback": [
      "InterruptException:\n",
      "\n",
      "Stacktrace:\n",
      "  [1] Array\n",
      "    @ ./boot.jl:459 [inlined]\n",
      "  [2] Array\n",
      "    @ ./boot.jl:468 [inlined]\n",
      "  [3] Array\n",
      "    @ ./boot.jl:476 [inlined]\n",
      "  [4] similar\n",
      "    @ ./abstractarray.jl:841 [inlined]\n",
      "  [5] similar\n",
      "    @ ./abstractarray.jl:840 [inlined]\n",
      "  [6] similar\n",
      "    @ ./broadcast.jl:212 [inlined]\n",
      "  [7] similar\n",
      "    @ ./broadcast.jl:211 [inlined]\n",
      "  [8] copy\n",
      "    @ ./broadcast.jl:885 [inlined]\n",
      "  [9] materialize\n",
      "    @ ./broadcast.jl:860 [inlined]\n",
      " [10] problem(X::Vector{Float64}, A::Vector{Float64}, β::Vector{Float64}, Ω::Matrix{Float64}, α::Vector{Float64}, ε::Float64, θ::Float64, σ::Float64, L::Vector{Float64})\n",
      "    @ Main ~/Schreibtisch/BeyondHulten/Translation/Analysis.ipynb:9\n",
      " [11] f!(F::Vector{Float64}, x::Vector{Float64})\n",
      "    @ Main ~/Schreibtisch/BeyondHulten/Translation/Analysis.ipynb:2\n",
      " [12] finite_difference_jacobian!(J::Matrix{Float64}, f::typeof(f!), x::Vector{Float64}, cache::FiniteDiff.JacobianCache{Vector{Float64}, Vector{Float64}, Vector{Float64}, Vector{Float64}, UnitRange{Int64}, Nothing, Val{:central}(), Float64}, f_in::Nothing; relstep::Float64, absstep::Float64, colorvec::UnitRange{Int64}, sparsity::Nothing, dir::Bool)\n",
      "    @ FiniteDiff ~/.julia/packages/FiniteDiff/8j0Fd/src/jacobians.jl:440\n",
      " [13] finite_difference_jacobian! (repeats 2 times)\n",
      "    @ ~/.julia/packages/FiniteDiff/8j0Fd/src/jacobians.jl:341 [inlined]\n",
      " [14] fj_finitediff!\n",
      "    @ ~/.julia/packages/NLSolversBase/kavn7/src/objective_types/oncedifferentiable.jl:139 [inlined]\n",
      " [15] (::NLSolversBase.var\"#j_finitediff!#22\"{Vector{Float64}, NLSolversBase.var\"#fj_finitediff!#21\"{typeof(f!), FiniteDiff.JacobianCache{Vector{Float64}, Vector{Float64}, Vector{Float64}, Vector{Float64}, UnitRange{Int64}, Nothing, Val{:central}(), Float64}}})(J::Matrix{Float64}, x::Vector{Float64})\n",
      "    @ NLSolversBase ~/.julia/packages/NLSolversBase/kavn7/src/objective_types/oncedifferentiable.jl:144\n",
      " [16] jacobian!!(obj::OnceDifferentiable{Vector{Float64}, Matrix{Float64}, Vector{Float64}}, J::Matrix{Float64}, x::Vector{Float64})\n",
      "    @ NLSolversBase ~/.julia/packages/NLSolversBase/kavn7/src/interface.jl:142\n",
      " [17] jacobian!!\n",
      "    @ ~/.julia/packages/NLSolversBase/kavn7/src/interface.jl:140 [inlined]\n",
      " [18] jacobian!\n",
      "    @ ~/.julia/packages/NLSolversBase/kavn7/src/interface.jl:135 [inlined]\n",
      " [19] trust_region_(df::OnceDifferentiable{Vector{Float64}, Matrix{Float64}, Vector{Float64}}, initial_x::Vector{Float64}, xtol::Float64, ftol::Float64, iterations::Int64, store_trace::Bool, show_trace::Bool, extended_trace::Bool, factor::Float64, autoscale::Bool, cache::NLsolve.NewtonTrustRegionCache{Vector{Float64}})\n",
      "    @ NLsolve ~/.julia/packages/NLsolve/gJL1I/src/solvers/trust_region.jl:184\n",
      " [20] trust_region (repeats 2 times)\n",
      "    @ ~/.julia/packages/NLsolve/gJL1I/src/solvers/trust_region.jl:235 [inlined]\n",
      " [21] nlsolve(df::OnceDifferentiable{Vector{Float64}, Matrix{Float64}, Vector{Float64}}, initial_x::Vector{Float64}; method::Symbol, xtol::Float64, ftol::Float64, iterations::Int64, store_trace::Bool, show_trace::Bool, extended_trace::Bool, linesearch::Static, linsolve::NLsolve.var\"#27#29\", factor::Float64, autoscale::Bool, m::Int64, beta::Int64, aa_start::Int64, droptol::Float64)\n",
      "    @ NLsolve ~/.julia/packages/NLsolve/gJL1I/src/nlsolve/nlsolve.jl:26\n",
      " [22] nlsolve(f::Function, initial_x::Vector{Float64}; method::Symbol, autodiff::Symbol, inplace::Bool, kwargs::Base.Pairs{Symbol, Real, Tuple{Symbol, Symbol, Symbol}, NamedTuple{(:iterations, :xtol, :ftol), Tuple{Int64, Float64, Float64}}})\n",
      "    @ NLsolve ~/.julia/packages/NLsolve/gJL1I/src/nlsolve/nlsolve.jl:52\n",
      " [23] top-level scope\n",
      "    @ ~/Schreibtisch/BeyondHulten/Translation/Analysis.ipynb:7"
     ]
    }
   ],
   "source": [
    "trials =  100\n",
    "GDP = zeros(trials)\n",
    "λ_sim = zeros(76,trials)\n",
    "for i ∈ 1:trials\n",
    "    A = exp.(mvnrnd(-1/2*diag(Sigma),diagm(diag(Sigma))));\n",
<<<<<<< HEAD
    "    x0 = [exp.(-inv(I - diagm(1 .- alpha)*Omega)*log.(A));domar_weights ./exp.(-inv(I - diagm(1 .- alpha) * Omega)*log.(A))];\n",
    "    x = nlsolve(f!,x0,iterations = 5000, xtol = 10^-14,ftol = 10^-14);\n",
    "\n",
    "    if converged(x)\n",
    "        p = x.zero[1:76] \n",
    "        y = x.zero[77:152]\n",
    "        GDP[i] = (p .* (A .^ ((ε-1)/ε)).*(alpha.^(1/ε)).*(y.^(1/ε)).* L .^ (-1/ε))' * L;\n",
    "        λ_sim[:,i] .= (p .* y) / (GDP[i]) \n",
    "    else\n",
    "        println(\"No converence\");\n",
=======
    "    x0 = Complex.([exp.(-inv(I - diagm(1 .- alpha)*Omega)*log.(A));domar_weights ./exp.(-inv(I - diagm(1 .- alpha) * Omega)*log.(A))]);\n",
    "    try\n",
    "        x = nlsolve(f!,x0,iterations = 500, xtol = 10^-14,ftol = 10^-14);\n",
    "        if converged(x)\n",
    "            p = x.zero[1:76] \n",
    "            y = x.zero[77:152]\n",
    "            GDP[i] = (p .* (A .^ ((ε-1)/ε)).*(alpha.^(1/ε)).*(y.^(1/ε)).* L .^ (-1/ε))' * L;\n",
    "            λ_sim[:,i] .= (p .* y) / (GDP[i]) \n",
    "    end\n",
    "    catch y\n",
    "        println(\"Domain Error\")\n",
    "        print(problem(x0,A, beta, Omega, alpha, epsilon, theta, sigma,L))\n",
    "        break;\n",
>>>>>>> 85e070e8607314bed193a863bb35903696bb0439
    "    end\n",
    "end"
   ]
  },
  {
   "cell_type": "code",
   "execution_count": null,
   "id": "d4e65962-d48f-44f4-a400-1111a7fda46e",
   "metadata": {},
   "outputs": [],
   "source": [
    "for year = 1960:2005\n",
    "\n",
    "  temp=[8,60,62,80:88];\n",
    "\n",
    "  IO = data(find(data(:,1)==year),:);\n",
    "  IO(:,[1 3 4 5 94]) = []; % delete year, gross output, capital, labor, noncompetitive imports\n",
    "  IO(temp,:) = []; % reove government sectors, and sectors with no gross sales\n",
    "  Ind = IO(:,1); %store industry names\n",
    "  IO(:,1) = [];\n",
    "  IO(:,temp) =[];\n",
    "  Omega = bsxfun(@rdivide, IO, sum(IO,2));\n",
    "  %Omega = diag(1-vadd(:,year-1959)./grossy(:,year-1959))*Omega; #scale IO table by intermediate input share\n",
    "  alpha = (vadd(:,year-1959)./grossy(:,year-1959)); % set the factor share by industry\n",
    "  N = length(Omega);\n",
    "  beta = grossy(:,year-1959)'*(eye(N)-diag(1-alpha)*Omega);\n",
    "  beta(beta<0) = 0; %remove industries with negative implied final sales\n",
    "  beta = beta/sum(beta); %normalize consumption vector to sum to unity.\n",
    "  beta = beta';\n",
    "  lambda(:,count) = (beta'*inv(eye(N)-diag(1-alpha)*Omega))';\n",
    "  count = count+1;\n",
    "end"
   ]
  },
  {
   "cell_type": "code",
<<<<<<< HEAD
   "execution_count": null,
=======
   "execution_count": 30,
>>>>>>> 85e070e8607314bed193a863bb35903696bb0439
   "id": "98baa9d4-35df-438a-92ea-6679f8a10865",
   "metadata": {},
   "outputs": [],
   "source": [
    "λ = zeros(76,2005-1959)\n",
    "\n",
    "for year ∈ 1960:2005\n",
    "    IO = data[data[:,1] .== year,:]\n",
    "    temp = [8,60,62,80:88...]\n",
    "    IO = IO[setdiff(1:end,temp),setdiff(1:end,[1,2,3,4,5,94])]\n",
    "    IO = IO[:,setdiff(1:end,temp)]\n",
    "    Ω = IO ./ sum(IO,dims=2)\n",
    "    α = vadd[:,year-1959] ./ grossy[:,year-1959];\n",
    "    β = (grossy[:,year-1959]' * (I-diagm(1 .- α)*Ω))';\n",
    "    β[beta .< 0] .= 0\n",
    "    β = β / sum(β)\n",
    "\n",
    "    \n",
    "    λ[:,year - 1959] .= (inv(I - diagm(1 .- alpha)*Ω)' * β);\n",
    "    \n",
    "end\n",
    "    \n",
    "\n",
    "    "
   ]
  },
  {
   "cell_type": "code",
<<<<<<< HEAD
   "execution_count": null,
=======
   "execution_count": 32,
>>>>>>> 85e070e8607314bed193a863bb35903696bb0439
   "id": "1201c9af-358c-4eed-863c-4763680c1eff",
   "metadata": {},
   "outputs": [
    {
     "data": {
      "text/plain": [
       "76×1 Matrix{Float64}:\n",
       " 0.008107237853817287\n",
       " 0.0007523135864479131\n",
       " 0.00031237412691633056\n",
       " 0.0003789911446114758\n",
       " 0.0004894700782857832\n",
       " 0.0008622142459538943\n",
       " 0.0052101226649808935\n",
       " 0.018553730503815896\n",
       " 0.0024250054716087365\n",
       " 0.0012934304482314723\n",
       " 0.002217343938996541\n",
       " 0.0060222163322303695\n",
       " 0.005501985315388467\n",
       " ⋮\n",
       " 0.0011648769760409742\n",
       " 0.0008023019981786588\n",
       " 0.0015585425294140877\n",
       " 0.003961932922477893\n",
       " 0.0007967227287495287\n",
       " 0.003665569047136084\n",
       " 0.0009059796715378963\n",
       " 0.0021795041099331425\n",
       " 0.001737222694811052\n",
       " 0.003107769586549516\n",
       " 0.0007895782027387948\n",
       " 0.0044589069478056026"
      ]
     },
     "execution_count": 32,
     "metadata": {},
     "output_type": "execute_result"
    }
   ],
   "source": [
    "mean(λ,dims = 2) * (std(diff(log.(λ_sim),dims=2)))"
   ]
  },
  {
   "cell_type": "markdown",
   "id": "615bd900-139d-4c0d-8035-d3dfa09049a0",
   "metadata": {},
   "source": [
    "Here we do this simulation again, but we just shock certain sectors"
   ]
  },
  {
   "cell_type": "code",
   "execution_count": null,
   "id": "47965450-ff15-4a3d-99ca-48aac4940812",
   "metadata": {},
   "outputs": [],
   "source": [
    "M = 10;\n",
    "GDP = zeros(2*M,1);\n",
    "grid = linspace(1.0, a, M);\n",
    "list = [7;53;8]\n",
    "for k = 1:length(list)\n",
    "        Ind = list(k);\n",
    "        grid = linspace(1.0, a, M);\n",
    "    for j = 1:M\n",
    "            A = ones(N,1);\n",
    "            A(Ind) = grid(j);\n",
    "            [Soln,~,exitfl] = knitromatlab(@(X) trivial(X),init,[],[],[],[],[],[], @(X)Simulation_Derivs(X,  A, beta, Omega, alpha, epsilon, theta, sigma,L),[],[],'Knitro_options.opt');\n",
    "            if exitfl == 0\n",
    "              GDP(j,k) = (Soln(1:N).*(A.^((epsilon-1)/epsilon)).*(alpha.^(1/epsilon)).*(Soln(N+1:2*N).^(1/epsilon)).*(1./L).^(1/epsilon))'*L;\n",
    "            end\n",
    "            init = Soln;\n",
    "    end\n",
    "\n",
    "\n",
    "    grid = linspace(1.0, b, M);\n",
    "    init = [ones(N,1);(beta'*inv(eye(N)-diag(1-alpha)*Omega))'];\n",
    "    for j = 1:M\n",
    "            A = ones(N,1);\n",
    "            A(Ind) = grid(j);\n",
    "                [Soln,~,exitfl] = knitromatlab(@(X) trivial(X),init,[],[],[],[],[],[], @(X)Simulation_Derivs(X,  A, beta, Omega, alpha, epsilon, theta, sigma,L),[],[],'Knitro_options.opt');\n",
    "                if exitfl == 0\n",
    "                    GDP(j+M,k) = (Soln(1:N).*(A.^((epsilon-1)/epsilon)).*(alpha.^(1/epsilon)).*(Soln(N+1:2*N).^(1/epsilon)).*(1./L).^(1/epsilon))'*L;\n",
    "                end\n",
    "                init = Soln;\n",
    "    end\n",
    "    GDP(1:M,k) = flipud(GDP(1:M,k));\n",
    "end"
   ]
  },
  {
   "cell_type": "code",
<<<<<<< HEAD
   "execution_count": null,
   "id": "6073e57e-4d61-4d90-9b47-805f9f49d4ab",
   "metadata": {},
   "outputs": [],
=======
   "execution_count": 48,
   "id": "6073e57e-4d61-4d90-9b47-805f9f49d4ab",
   "metadata": {},
   "outputs": [
    {
     "ename": "LoadError",
     "evalue": "DomainError with -0.2440688915167997:\nExponentiation yielding a complex result requires a complex argument.\nReplace x^y with (x+0im)^y, Complex(x)^y, or similar.",
     "output_type": "error",
     "traceback": [
      "DomainError with -0.2440688915167997:\nExponentiation yielding a complex result requires a complex argument.\nReplace x^y with (x+0im)^y, Complex(x)^y, or similar.",
      "",
      "Stacktrace:",
      "  [1] _broadcast_getindex_evalf",
      "    @ ./broadcast.jl:670 [inlined]",
      "  [2] _broadcast_getindex",
      "    @ ./broadcast.jl:643 [inlined]",
      "  [3] _getindex",
      "    @ ./broadcast.jl:667 [inlined]",
      "  [4] _getindex",
      "    @ ./broadcast.jl:666 [inlined]",
      "  [5] _broadcast_getindex",
      "    @ ./broadcast.jl:642 [inlined]",
      "  [6] _getindex",
      "    @ ./broadcast.jl:666 [inlined]",
      "  [7] _broadcast_getindex",
      "    @ ./broadcast.jl:642 [inlined]",
      "  [8] getindex",
      "    @ ./broadcast.jl:597 [inlined]",
      "  [9] macro expansion",
      "    @ ./broadcast.jl:961 [inlined]",
      " [10] macro expansion",
      "    @ ./simdloop.jl:77 [inlined]",
      " [11] copyto!",
      "    @ ./broadcast.jl:960 [inlined]",
      " [12] copyto!",
      "    @ ./broadcast.jl:913 [inlined]",
      " [13] copy",
      "    @ ./broadcast.jl:885 [inlined]",
      " [14] materialize",
      "    @ ./broadcast.jl:860 [inlined]",
      " [15] problem(X::Matrix{Float64}, A::Vector{Float64}, β::Vector{Float64}, Ω::Matrix{Float64}, α::Vector{Float64}, ε::Float64, θ::Float64, σ::Float64, L::Vector{Float64})",
      "    @ Main ./In[24]:9",
      " [16] f!(F::Matrix{Float64}, x::Matrix{Float64})",
      "    @ Main ./In[48]:25",
      " [17] value!!(obj::OnceDifferentiable{Matrix{Float64}, Matrix{Float64}, Matrix{Float64}}, F::Matrix{Float64}, x::Matrix{Float64})",
      "    @ NLSolversBase ~/.julia/packages/NLSolversBase/kavn7/src/interface.jl:166",
      " [18] value!!",
      "    @ ~/.julia/packages/NLSolversBase/kavn7/src/interface.jl:164 [inlined]",
      " [19] value!",
      "    @ ~/.julia/packages/NLSolversBase/kavn7/src/interface.jl:28 [inlined]",
      " [20] trust_region_(df::OnceDifferentiable{Matrix{Float64}, Matrix{Float64}, Matrix{Float64}}, initial_x::Matrix{Float64}, xtol::Float64, ftol::Float64, iterations::Int64, store_trace::Bool, show_trace::Bool, extended_trace::Bool, factor::Float64, autoscale::Bool, cache::NLsolve.NewtonTrustRegionCache{Matrix{Float64}})",
      "    @ NLsolve ~/.julia/packages/NLsolve/gJL1I/src/solvers/trust_region.jl:174",
      " [21] trust_region (repeats 2 times)",
      "    @ ~/.julia/packages/NLsolve/gJL1I/src/solvers/trust_region.jl:235 [inlined]",
      " [22] nlsolve(df::OnceDifferentiable{Matrix{Float64}, Matrix{Float64}, Matrix{Float64}}, initial_x::Matrix{Float64}; method::Symbol, xtol::Float64, ftol::Float64, iterations::Int64, store_trace::Bool, show_trace::Bool, extended_trace::Bool, linesearch::Static, linsolve::NLsolve.var\"#27#29\", factor::Float64, autoscale::Bool, m::Int64, beta::Int64, aa_start::Int64, droptol::Float64)",
      "    @ NLsolve ~/.julia/packages/NLsolve/gJL1I/src/nlsolve/nlsolve.jl:26",
      " [23] nlsolve(f::Function, j::Function, initial_x::Matrix{Float64}; inplace::Bool, kwargs::Base.Pairs{Symbol, Real, Tuple{Symbol, Symbol, Symbol}, NamedTuple{(:iterations, :xtol, :ftol), Tuple{Int64, Float64, Float64}}})",
      "    @ NLsolve ~/.julia/packages/NLsolve/gJL1I/src/nlsolve/nlsolve.jl:67",
      " [24] top-level scope",
      "    @ In[48]:32"
     ]
    }
   ],
>>>>>>> 85e070e8607314bed193a863bb35903696bb0439
   "source": [
    "year = 1982\n",
    "M = 10\n",
    "A = ones(76,1);\n",
    "a = 0.7;\n",
    "b = 1.3;\n",
    "\n",
    "ε = .3; #Elasticity of substitution between VA and intermediates\n",
    "θ = 0.0001; #Elasticity of substitution between intermediates\n",
    "σ = .4; #Elasticity of substitution between in consumption\n",
    "\n",
    "\n",
    "(α,β,Ω,L,λ) = getVariables(year);\n",
    "\n",
    "x0 = [ones(76,1);λ];\n",
    "\n",
    "GDP = zeros(20,3)\n",
    "sectors = [7 8 53]\n",
    "sectorShocks = LinRange(1,a,M)\n",
    "for i in 1:3\n",
    "    for k in 1:M\n",
    "        A = ones(76)\n",
    "        A[sectors[i]] = sectorShocks[k]\n",
    "        \n",
    "        function f!(F,x)\n",
    "            F[1:152] = problem(x, A, β, Ω, α, ε, θ, σ,L);\n",
    "        end\n",
    "        \n",
    "        function j!(J,x)\n",
    "            J[1:152,1:152] .= Jacobian(x, A, beta, Omega, alpha, epsilon, theta, sigma,L);\n",
    "        end\n",
    "        \n",
    "        x = nlsolve(f!,j!,x0,iterations = 500, xtol = 10^-8,ftol = 10^-8);\n",
    "        \n",
    "        if converged(x)\n",
    "            p = x.zero[1:76] \n",
    "            y = x.zero[77:152]\n",
    "            GDP[k,i] = (p .* (A .^ ((ε-1)/ε)).*(alpha.^(1/ε)).*(y.^(1/ε)).* L .^ (-1/ε))' * L\n",
    "            x0 =  x.zero\n",
    "        else\n",
    "            print(\"No convergence\")\n",
    "            p = x.zero[1:76] \n",
    "            y = x.zero[77:152]\n",
    "            GDP[k,i] = (p .* (A .^ ((ε-1)/ε)).*(alpha.^(1/ε)).*(y.^(1/ε)).* L .^ (-1/ε))' * L\n",
    "            x0 =  x.zero\n",
    "        end\n",
    "    end\n",
    "\n",
    "end\n",
    "\n"
   ]
  },
  {
   "cell_type": "code",
   "execution_count": null,
<<<<<<< HEAD
   "id": "64452447-928e-40ce-b67c-cc7148330b95",
   "metadata": {},
   "outputs": [],
   "source": []
  },
  {
   "cell_type": "code",
   "execution_count": null,
   "id": "e92f6fc4-107a-49ea-9727-415be6c0fade",
   "metadata": {},
   "outputs": [],
   "source": [
    "GDP\n"
   ]
  },
  {
   "cell_type": "code",
   "execution_count": null,
   "id": "ffa28e87-5a3c-453f-8b78-04b0733d494c",
   "metadata": {},
   "outputs": [],
   "source": [
    "Jacobian(x0, A, beta, Omega, alpha, epsilon, theta, sigma,L)"
   ]
  },
  {
   "cell_type": "code",
   "execution_count": null,
   "id": "5444ef1c-e558-4b9d-985b-79c869225de7",
   "metadata": {},
   "outputs": [
    {
     "data": {
      "text/plain": [
       "76-element Vector{Float64}:\n",
       " -0.001325352350665318\n",
       "  0.0004692958270577105\n",
       " -1.3342490745154971e-5\n",
       " -2.1693806124714436e-6\n",
       " -1.0735995382070006e-5\n",
       "  0.000528291412516241\n",
       " -0.0026834588026483086\n",
       "  0.0012581618778397252\n",
       "  0.0016697781363211087\n",
       "  0.00011545823340099182\n",
       " -0.0004329180002690643\n",
       "  0.0023378567819119095\n",
       " -0.0012644323729346669\n",
       "  ⋮\n",
       "  5.9339714901224965e-5\n",
       "  0.0001271139097067924\n",
       "  4.606058973223408e-5\n",
       " -0.00010078067881851352\n",
       "  6.326212875667342e-5\n",
       " -0.00014878599085333538\n",
       "  4.198017438290791e-5\n",
       " -6.191811442779905e-5\n",
       " -3.187596065348623e-5\n",
       "  0.00022724381663382157\n",
       " -5.179009415081683e-6\n",
       " -2.8973321355568737e-6"
      ]
     },
     "execution_count": 16,
     "metadata": {},
     "output_type": "execute_result"
    }
   ],
   "source": [
    "Ω = Omega\n",
    "α = alpha\n",
    "β = beta\n",
    "N = length(alpha)\n",
    "p = x0[1:N]\n",
    "y = x0[N+1:end]\n",
    "    \n",
    "q = (Ω * p .^ (1-θ)) .^ (1 / (1 - θ))\n",
    "w = p .* (A .^ ((ε - 1)/ε)) .* (α .^ (1 / ε)) .* (y .^ (1/ε)) .* L .^ (-1/ε)\n",
    "C = w' * L\n",
    "y -  diagm(p)^(-θ) * Ω' * diagm(1 .- α) * diagm(q)^(θ-ε) * diagm(A)^(ε-1) * diagm(p)^ε * y  - C  * diagm(p)^(-σ) * β"
   ]
  },
  {
   "cell_type": "markdown",
   "id": "f8afce7b-bc84-47d1-ac3e-cba8998e6440",
   "metadata": {},
   "source": []
  },
  {
   "cell_type": "code",
   "execution_count": null,
   "id": "9bf1acd1-5f81-4b16-a7ed-889bdb04c8ca",
   "metadata": {},
   "outputs": [
    {
     "data": {
      "text/plain": [
       "76-element Vector{Float64}:\n",
       " -3.469446951953614e-18\n",
       "  8.673617379884035e-19\n",
       " -8.673617379884035e-19\n",
       "  4.336808689942018e-19\n",
       "  4.336808689942018e-19\n",
       "  3.469446951953614e-18\n",
       " -1.3877787807814457e-17\n",
       "  0.0\n",
       "  0.0\n",
       "  0.0\n",
       "  1.734723475976807e-18\n",
       "  0.0\n",
       "  8.673617379884035e-19\n",
       "  ⋮\n",
       "  0.0\n",
       "  0.0\n",
       "  1.734723475976807e-18\n",
       "  0.0\n",
       " -8.673617379884035e-19\n",
       "  0.0\n",
       " -8.673617379884035e-19\n",
       " -8.673617379884035e-19\n",
       "  0.0\n",
       "  3.469446951953614e-18\n",
       "  4.336808689942018e-19\n",
       "  0.0"
      ]
     },
     "execution_count": 39,
     "metadata": {},
     "output_type": "execute_result"
    }
   ],
   "source": [
    "problem(x0,A, beta, Omega, alpha, epsilon, theta, sigma,L)[77:end] - (y -   p .^ (-θ).* (Ω' * (((1 .- α) .* q .^ (θ-ε) .* A .^(ε-1) .* p .^ ε) .* y))  - C  * p .^ (-σ) .* β)"
=======
   "id": "8a7f8783-d439-4d55-b1f1-0c952be49f64",
   "metadata": {},
   "outputs": [],
   "source": [
    "A = exp.(mvnrnd(-1/2*diag(Sigma),diagm(diag(Sigma))));\n",
    "#x0 = [exp.(-inv(I - diagm(1 .- alpha)*Omega)*log.(A));(beta' * inv(I- diagm(1 .- alpha)*Omega))'./exp.(-inv(I - diagm(1 .- alpha) * Omega)*log.(A))]  #judicious choice of starting values\n",
    "x0 = [exp.(-inv(I - diagm(1 .- alpha)*Omega)*log.(A));domar_weights ./exp.(-inv(I - diagm(1 .- alpha) * Omega)*log.(A))];"
>>>>>>> 85e070e8607314bed193a863bb35903696bb0439
   ]
  },
  {
   "cell_type": "code",
   "execution_count": null,
<<<<<<< HEAD
   "id": "ee0537ec-7744-4bda-a1a7-64bd2a128379",
   "metadata": {},
   "outputs": [],
   "source": [
    "(diagm(p)^(-σ) * β) - (β .* p .^ (-σ))"
   ]
  },
  {
   "cell_type": "code",
   "execution_count": null,
   "id": "025f2de5-49f5-40db-bef5-c9a7a90228a7",
   "metadata": {},
   "outputs": [
    {
     "data": {
      "text/plain": [
       "5×5 Matrix{Int64}:\n",
       "  -4  -10  -6  -8   5\n",
       " -10    1  10  -6  -1\n",
       "  -5   -8   2   6   6\n",
       "   2    1  -1  -6   5\n",
       "   0   10  -6   6   7"
      ]
     },
     "execution_count": 31,
     "metadata": {},
     "output_type": "execute_result"
    }
   ],
   "source": [
    "At = rand(-10:10,5,5)"
   ]
  },
  {
   "cell_type": "code",
   "execution_count": null,
   "id": "cd74e620-1af6-46b3-a059-8198ddaac410",
   "metadata": {},
   "outputs": [
    {
     "name": "stdout",
     "output_type": "stream",
     "text": [
      "[16, 14, 12, 13, 6][102, 79, 42, 100, 5][5, 19, 1, 12, 9]"
     ]
    }
   ],
   "source": [
    "bt = rand(1:20,5)\n",
    "yt = rand(1:200,5)\n",
    "ct = rand(1:20,5)\n",
    "print(bt,yt,ct)"
   ]
  },
  {
   "cell_type": "code",
   "execution_count": null,
   "id": "c20c93a3-af42-4180-8e5f-22b7dff0a311",
   "metadata": {},
   "outputs": [
    {
     "data": {
      "text/plain": [
       "true"
      ]
     },
     "execution_count": 33,
     "metadata": {},
     "output_type": "execute_result"
    }
   ],
   "source": [
    "diagm(bt) * At * ct  .* yt == bt .* At * ct .* yt"
   ]
  },
  {
   "cell_type": "code",
   "execution_count": null,
   "id": "1ab86295-fc7e-4eec-9717-99edb8834059",
=======
   "id": "d59d54df-5c88-4285-8555-45de81bee6c6",
>>>>>>> 85e070e8607314bed193a863bb35903696bb0439
   "metadata": {},
   "outputs": [
    {
     "data": {
      "text/plain": [
       "BenchmarkTools.Trial: 10000 samples with 1 evaluation.\n",
<<<<<<< HEAD
       " Range \u001b[90m(\u001b[39m\u001b[36m\u001b[1mmin\u001b[22m\u001b[39m … \u001b[35mmax\u001b[39m\u001b[90m):  \u001b[39m\u001b[36m\u001b[1m58.520 μs\u001b[22m\u001b[39m … \u001b[35m  2.332 ms\u001b[39m  \u001b[90m┊\u001b[39m GC \u001b[90m(\u001b[39mmin … max\u001b[90m): \u001b[39m 0.00% … 93.38%\n",
       " Time  \u001b[90m(\u001b[39m\u001b[34m\u001b[1mmedian\u001b[22m\u001b[39m\u001b[90m):     \u001b[39m\u001b[34m\u001b[1m63.230 μs               \u001b[22m\u001b[39m\u001b[90m┊\u001b[39m GC \u001b[90m(\u001b[39mmedian\u001b[90m):    \u001b[39m 0.00%\n",
       " Time  \u001b[90m(\u001b[39m\u001b[32m\u001b[1mmean\u001b[22m\u001b[39m ± \u001b[32mσ\u001b[39m\u001b[90m):   \u001b[39m\u001b[32m\u001b[1m74.528 μs\u001b[22m\u001b[39m ± \u001b[32m129.188 μs\u001b[39m  \u001b[90m┊\u001b[39m GC \u001b[90m(\u001b[39mmean ± σ\u001b[90m):  \u001b[39m12.91% ±  7.16%\n",
       "\n",
       "  \u001b[39m \u001b[39m▄\u001b[39m█\u001b[34m▃\u001b[39m\u001b[39m \u001b[39m \u001b[39m \u001b[39m \u001b[39m \u001b[39m \u001b[32m \u001b[39m\u001b[39m \u001b[39m \u001b[39m \u001b[39m \u001b[39m \u001b[39m \u001b[39m \u001b[39m \u001b[39m \u001b[39m \u001b[39m \u001b[39m \u001b[39m \u001b[39m \u001b[39m \u001b[39m \u001b[39m \u001b[39m \u001b[39m \u001b[39m \u001b[39m \u001b[39m \u001b[39m \u001b[39m \u001b[39m \u001b[39m \u001b[39m \u001b[39m \u001b[39m \u001b[39m \u001b[39m \u001b[39m \u001b[39m \u001b[39m \u001b[39m \u001b[39m \u001b[39m \u001b[39m \u001b[39m \u001b[39m \u001b[39m \u001b[39m \u001b[39m \u001b[39m \u001b[39m \u001b[39m \u001b[39m \u001b[39m \u001b[39m \u001b[39m \u001b[39m \n",
       "  \u001b[39m▃\u001b[39m█\u001b[39m█\u001b[34m█\u001b[39m\u001b[39m▇\u001b[39m▅\u001b[39m▄\u001b[39m▃\u001b[39m▃\u001b[39m▂\u001b[32m▂\u001b[39m\u001b[39m▂\u001b[39m▂\u001b[39m▂\u001b[39m▂\u001b[39m▂\u001b[39m▂\u001b[39m▂\u001b[39m▂\u001b[39m▂\u001b[39m▂\u001b[39m▂\u001b[39m▂\u001b[39m▂\u001b[39m▁\u001b[39m▁\u001b[39m▁\u001b[39m▁\u001b[39m▁\u001b[39m▁\u001b[39m▁\u001b[39m▁\u001b[39m▁\u001b[39m▁\u001b[39m▁\u001b[39m▁\u001b[39m▁\u001b[39m▂\u001b[39m▁\u001b[39m▁\u001b[39m▁\u001b[39m▁\u001b[39m▁\u001b[39m▁\u001b[39m▁\u001b[39m▁\u001b[39m▁\u001b[39m▁\u001b[39m▁\u001b[39m▁\u001b[39m▁\u001b[39m▁\u001b[39m▁\u001b[39m▁\u001b[39m▁\u001b[39m▁\u001b[39m▂\u001b[39m▂\u001b[39m▂\u001b[39m▂\u001b[39m \u001b[39m▂\n",
       "  58.5 μs\u001b[90m         Histogram: frequency by time\u001b[39m          157 μs \u001b[0m\u001b[1m<\u001b[22m\n",
       "\n",
       " Memory estimate\u001b[90m: \u001b[39m\u001b[33m503.77 KiB\u001b[39m, allocs estimate\u001b[90m: \u001b[39m\u001b[33m48\u001b[39m."
      ]
     },
     "execution_count": 48,
     "metadata": {},
     "output_type": "execute_result"
    }
   ],
   "source": [
    "@benchmark (y' - y' * diagm(p)^ε * diagm(A)^(ε-1) * diagm(q)^(θ-ε) * diagm(1 .- α) * Ω * diagm(p)^(-θ) - β'*diagm(p)^(-σ)*C) setup = (y = rand(76))"
   ]
  },
  {
   "cell_type": "code",
   "execution_count": null,
   "id": "8799fac4-40cd-406f-ab36-300c74a7dfbb",
   "metadata": {},
   "outputs": [
    {
     "data": {
      "text/plain": [
       "BenchmarkTools.Trial: 10000 samples with 1 evaluation.\n",
       " Range \u001b[90m(\u001b[39m\u001b[36m\u001b[1mmin\u001b[22m\u001b[39m … \u001b[35mmax\u001b[39m\u001b[90m):  \u001b[39m\u001b[36m\u001b[1m12.929 μs\u001b[22m\u001b[39m … \u001b[35m57.829 μs\u001b[39m  \u001b[90m┊\u001b[39m GC \u001b[90m(\u001b[39mmin … max\u001b[90m): \u001b[39m0.00% … 0.00%\n",
       " Time  \u001b[90m(\u001b[39m\u001b[34m\u001b[1mmedian\u001b[22m\u001b[39m\u001b[90m):     \u001b[39m\u001b[34m\u001b[1m14.299 μs              \u001b[22m\u001b[39m\u001b[90m┊\u001b[39m GC \u001b[90m(\u001b[39mmedian\u001b[90m):    \u001b[39m0.00%\n",
       " Time  \u001b[90m(\u001b[39m\u001b[32m\u001b[1mmean\u001b[22m\u001b[39m ± \u001b[32mσ\u001b[39m\u001b[90m):   \u001b[39m\u001b[32m\u001b[1m14.592 μs\u001b[22m\u001b[39m ± \u001b[32m 1.094 μs\u001b[39m  \u001b[90m┊\u001b[39m GC \u001b[90m(\u001b[39mmean ± σ\u001b[90m):  \u001b[39m0.00% ± 0.00%\n",
       "\n",
       "  \u001b[39m \u001b[39m \u001b[39m \u001b[39m \u001b[39m \u001b[39m \u001b[39m \u001b[39m \u001b[39m▂\u001b[39m▆\u001b[39m█\u001b[39m█\u001b[34m▇\u001b[39m\u001b[39m▆\u001b[39m▆\u001b[32m▅\u001b[39m\u001b[39m▅\u001b[39m▄\u001b[39m▄\u001b[39m▃\u001b[39m▃\u001b[39m▂\u001b[39m▁\u001b[39m▁\u001b[39m \u001b[39m \u001b[39m \u001b[39m \u001b[39m \u001b[39m \u001b[39m \u001b[39m \u001b[39m \u001b[39m \u001b[39m \u001b[39m \u001b[39m \u001b[39m \u001b[39m \u001b[39m \u001b[39m \u001b[39m \u001b[39m \u001b[39m \u001b[39m \u001b[39m \u001b[39m \u001b[39m \u001b[39m \u001b[39m \u001b[39m \u001b[39m \u001b[39m \u001b[39m \u001b[39m \u001b[39m \u001b[39m \u001b[39m \u001b[39m \u001b[39m \u001b[39m▂\n",
       "  \u001b[39m▇\u001b[39m▆\u001b[39m▇\u001b[39m▆\u001b[39m▄\u001b[39m▆\u001b[39m▁\u001b[39m▅\u001b[39m█\u001b[39m█\u001b[39m█\u001b[39m█\u001b[34m█\u001b[39m\u001b[39m█\u001b[39m█\u001b[32m█\u001b[39m\u001b[39m█\u001b[39m█\u001b[39m█\u001b[39m█\u001b[39m█\u001b[39m█\u001b[39m█\u001b[39m█\u001b[39m█\u001b[39m█\u001b[39m█\u001b[39m▇\u001b[39m█\u001b[39m▇\u001b[39m▇\u001b[39m▇\u001b[39m▆\u001b[39m▇\u001b[39m▇\u001b[39m▇\u001b[39m▇\u001b[39m▇\u001b[39m▇\u001b[39m▅\u001b[39m▆\u001b[39m▆\u001b[39m▆\u001b[39m▅\u001b[39m▆\u001b[39m▆\u001b[39m▆\u001b[39m▆\u001b[39m▅\u001b[39m▆\u001b[39m▇\u001b[39m▇\u001b[39m▇\u001b[39m█\u001b[39m▇\u001b[39m▇\u001b[39m▇\u001b[39m▇\u001b[39m▇\u001b[39m \u001b[39m█\n",
       "  12.9 μs\u001b[90m      \u001b[39m\u001b[90mHistogram: \u001b[39m\u001b[90m\u001b[1mlog(\u001b[22m\u001b[39m\u001b[90mfrequency\u001b[39m\u001b[90m\u001b[1m)\u001b[22m\u001b[39m\u001b[90m by time\u001b[39m      19.6 μs \u001b[0m\u001b[1m<\u001b[22m\n",
       "\n",
       " Memory estimate\u001b[90m: \u001b[39m\u001b[33m6.36 KiB\u001b[39m, allocs estimate\u001b[90m: \u001b[39m\u001b[33m37\u001b[39m."
=======
       " Range \u001b[90m(\u001b[39m\u001b[36m\u001b[1mmin\u001b[22m\u001b[39m … \u001b[35mmax\u001b[39m\u001b[90m):  \u001b[39m\u001b[36m\u001b[1m62.088 μs\u001b[22m\u001b[39m … \u001b[35m115.163 μs\u001b[39m  \u001b[90m┊\u001b[39m GC \u001b[90m(\u001b[39mmin … max\u001b[90m): \u001b[39m0.00% … 0.00%\n",
       " Time  \u001b[90m(\u001b[39m\u001b[34m\u001b[1mmedian\u001b[22m\u001b[39m\u001b[90m):     \u001b[39m\u001b[34m\u001b[1m68.177 μs               \u001b[22m\u001b[39m\u001b[90m┊\u001b[39m GC \u001b[90m(\u001b[39mmedian\u001b[90m):    \u001b[39m0.00%\n",
       " Time  \u001b[90m(\u001b[39m\u001b[32m\u001b[1mmean\u001b[22m\u001b[39m ± \u001b[32mσ\u001b[39m\u001b[90m):   \u001b[39m\u001b[32m\u001b[1m70.180 μs\u001b[22m\u001b[39m ± \u001b[32m  7.921 μs\u001b[39m  \u001b[90m┊\u001b[39m GC \u001b[90m(\u001b[39mmean ± σ\u001b[90m):  \u001b[39m0.00% ± 0.00%\n",
       "\n",
       "  \u001b[39m▅\u001b[39m█\u001b[39m▆\u001b[39m▂\u001b[39m \u001b[39m \u001b[39m▃\u001b[39m█\u001b[39m█\u001b[34m▇\u001b[39m\u001b[39m▇\u001b[39m▆\u001b[32m▅\u001b[39m\u001b[39m▅\u001b[39m▅\u001b[39m▄\u001b[39m▃\u001b[39m▃\u001b[39m▃\u001b[39m▂\u001b[39m▂\u001b[39m▂\u001b[39m▁\u001b[39m▁\u001b[39m▁\u001b[39m \u001b[39m \u001b[39m \u001b[39m \u001b[39m \u001b[39m \u001b[39m \u001b[39m▁\u001b[39m▁\u001b[39m▁\u001b[39m \u001b[39m \u001b[39m \u001b[39m \u001b[39m \u001b[39m \u001b[39m \u001b[39m▂\u001b[39m▂\u001b[39m▁\u001b[39m \u001b[39m \u001b[39m \u001b[39m \u001b[39m \u001b[39m \u001b[39m \u001b[39m \u001b[39m \u001b[39m \u001b[39m \u001b[39m \u001b[39m \u001b[39m \u001b[39m \u001b[39m \u001b[39m▃\n",
       "  \u001b[39m█\u001b[39m█\u001b[39m█\u001b[39m█\u001b[39m▇\u001b[39m▆\u001b[39m█\u001b[39m█\u001b[39m█\u001b[34m█\u001b[39m\u001b[39m█\u001b[39m█\u001b[32m█\u001b[39m\u001b[39m█\u001b[39m█\u001b[39m█\u001b[39m█\u001b[39m█\u001b[39m█\u001b[39m█\u001b[39m█\u001b[39m█\u001b[39m█\u001b[39m█\u001b[39m█\u001b[39m█\u001b[39m█\u001b[39m█\u001b[39m█\u001b[39m█\u001b[39m█\u001b[39m█\u001b[39m█\u001b[39m█\u001b[39m█\u001b[39m█\u001b[39m▇\u001b[39m▇\u001b[39m▇\u001b[39m█\u001b[39m█\u001b[39m█\u001b[39m█\u001b[39m█\u001b[39m█\u001b[39m█\u001b[39m▇\u001b[39m█\u001b[39m▇\u001b[39m█\u001b[39m█\u001b[39m▇\u001b[39m▆\u001b[39m▆\u001b[39m▇\u001b[39m▆\u001b[39m▇\u001b[39m▇\u001b[39m▇\u001b[39m▇\u001b[39m \u001b[39m█\n",
       "  62.1 μs\u001b[90m       \u001b[39m\u001b[90mHistogram: \u001b[39m\u001b[90m\u001b[1mlog(\u001b[22m\u001b[39m\u001b[90mfrequency\u001b[39m\u001b[90m\u001b[1m)\u001b[22m\u001b[39m\u001b[90m by time\u001b[39m       102 μs \u001b[0m\u001b[1m<\u001b[22m\n",
       "\n",
       " Memory estimate\u001b[90m: \u001b[39m\u001b[33m13.80 KiB\u001b[39m, allocs estimate\u001b[90m: \u001b[39m\u001b[33m20\u001b[39m."
>>>>>>> 85e070e8607314bed193a863bb35903696bb0439
      ]
     },
     "execution_count": 47,
     "metadata": {},
     "output_type": "execute_result"
    }
   ],
   "source": [
<<<<<<< HEAD
    "@benchmark (y -   p .^ (-θ).* (Ω' * (((1 .- α) .* q .^ (θ-ε) .* A .^(ε-1) .* p .^ ε) .* y))  - C  * p .^ (-σ) .* β) setup = (y = rand(76))"
=======
    "@benchmark problem(x,A,beta, Omega, alpha, epsilon, theta, sigma,L) setup=(x=rand(Float64,152))"
>>>>>>> 85e070e8607314bed193a863bb35903696bb0439
   ]
  },
  {
   "cell_type": "code",
   "execution_count": null,
<<<<<<< HEAD
   "id": "b3c65368-2624-4e9e-9259-1c2462562967",
=======
   "id": "c4049942-1f74-4429-a923-898b84e1c6be",
   "metadata": {},
   "outputs": [
    {
     "data": {
      "text/plain": [
       "BenchmarkTools.Trial: 10000 samples with 1 evaluation.\n",
       " Range \u001b[90m(\u001b[39m\u001b[36m\u001b[1mmin\u001b[22m\u001b[39m … \u001b[35mmax\u001b[39m\u001b[90m):  \u001b[39m\u001b[36m\u001b[1m61.899 μs\u001b[22m\u001b[39m … \u001b[35m 8.534 ms\u001b[39m  \u001b[90m┊\u001b[39m GC \u001b[90m(\u001b[39mmin … max\u001b[90m): \u001b[39m0.00% … 99.08%\n",
       " Time  \u001b[90m(\u001b[39m\u001b[34m\u001b[1mmedian\u001b[22m\u001b[39m\u001b[90m):     \u001b[39m\u001b[34m\u001b[1m67.189 μs              \u001b[22m\u001b[39m\u001b[90m┊\u001b[39m GC \u001b[90m(\u001b[39mmedian\u001b[90m):    \u001b[39m0.00%\n",
       " Time  \u001b[90m(\u001b[39m\u001b[32m\u001b[1mmean\u001b[22m\u001b[39m ± \u001b[32mσ\u001b[39m\u001b[90m):   \u001b[39m\u001b[32m\u001b[1m67.785 μs\u001b[22m\u001b[39m ± \u001b[32m84.770 μs\u001b[39m  \u001b[90m┊\u001b[39m GC \u001b[90m(\u001b[39mmean ± σ\u001b[90m):  \u001b[39m1.25% ±  0.99%\n",
       "\n",
       "  \u001b[39m \u001b[39m \u001b[39m█\u001b[39m▃\u001b[39m \u001b[39m \u001b[39m \u001b[39m \u001b[39m \u001b[39m \u001b[39m \u001b[39m \u001b[39m \u001b[39m \u001b[39m \u001b[39m \u001b[39m▇\u001b[34m▆\u001b[39m\u001b[39m \u001b[32m \u001b[39m\u001b[39m \u001b[39m \u001b[39m \u001b[39m \u001b[39m \u001b[39m \u001b[39m \u001b[39m \u001b[39m \u001b[39m \u001b[39m \u001b[39m \u001b[39m \u001b[39m \u001b[39m \u001b[39m \u001b[39m \u001b[39m \u001b[39m \u001b[39m \u001b[39m \u001b[39m \u001b[39m \u001b[39m \u001b[39m \u001b[39m \u001b[39m \u001b[39m \u001b[39m \u001b[39m \u001b[39m \u001b[39m \u001b[39m \u001b[39m \u001b[39m \u001b[39m \u001b[39m \u001b[39m \u001b[39m \u001b[39m \u001b[39m \n",
       "  \u001b[39m▁\u001b[39m▆\u001b[39m█\u001b[39m█\u001b[39m▃\u001b[39m▁\u001b[39m▁\u001b[39m▁\u001b[39m▁\u001b[39m▁\u001b[39m▁\u001b[39m▁\u001b[39m▁\u001b[39m▁\u001b[39m▂\u001b[39m▇\u001b[39m█\u001b[34m█\u001b[39m\u001b[39m▆\u001b[32m▄\u001b[39m\u001b[39m▅\u001b[39m▇\u001b[39m▆\u001b[39m▄\u001b[39m▃\u001b[39m▃\u001b[39m▃\u001b[39m▂\u001b[39m▂\u001b[39m▂\u001b[39m▂\u001b[39m▂\u001b[39m▂\u001b[39m▂\u001b[39m▁\u001b[39m▁\u001b[39m▁\u001b[39m▁\u001b[39m▁\u001b[39m▁\u001b[39m▁\u001b[39m▁\u001b[39m▁\u001b[39m▁\u001b[39m▁\u001b[39m▁\u001b[39m▁\u001b[39m▁\u001b[39m▁\u001b[39m▁\u001b[39m▁\u001b[39m▁\u001b[39m▁\u001b[39m▁\u001b[39m▁\u001b[39m▁\u001b[39m▁\u001b[39m▁\u001b[39m▁\u001b[39m \u001b[39m▂\n",
       "  61.9 μs\u001b[90m         Histogram: frequency by time\u001b[39m        80.3 μs \u001b[0m\u001b[1m<\u001b[22m\n",
       "\n",
       " Memory estimate\u001b[90m: \u001b[39m\u001b[33m12.48 KiB\u001b[39m, allocs estimate\u001b[90m: \u001b[39m\u001b[33m18\u001b[39m."
      ]
     },
     "execution_count": 50,
     "metadata": {},
     "output_type": "execute_result"
    }
   ],
   "source": [
    "@benchmark problem(x,A,beta, Omega, alpha, epsilon, theta, sigma,L) setup=(x=rand(Float64,152))"
   ]
  },
  {
   "cell_type": "code",
   "execution_count": 60,
   "id": "7ae2cce1-3cd1-4557-8f82-1e92028f6e10",
   "metadata": {},
   "outputs": [
    {
     "data": {
      "text/plain": [
       "BenchmarkTools.Trial: 10000 samples with 1 evaluation.\n",
       " Range \u001b[90m(\u001b[39m\u001b[36m\u001b[1mmin\u001b[22m\u001b[39m … \u001b[35mmax\u001b[39m\u001b[90m):  \u001b[39m\u001b[36m\u001b[1m64.522 μs\u001b[22m\u001b[39m … \u001b[35m 8.671 ms\u001b[39m  \u001b[90m┊\u001b[39m GC \u001b[90m(\u001b[39mmin … max\u001b[90m): \u001b[39m0.00% … 99.06%\n",
       " Time  \u001b[90m(\u001b[39m\u001b[34m\u001b[1mmedian\u001b[22m\u001b[39m\u001b[90m):     \u001b[39m\u001b[34m\u001b[1m70.508 μs              \u001b[22m\u001b[39m\u001b[90m┊\u001b[39m GC \u001b[90m(\u001b[39mmedian\u001b[90m):    \u001b[39m0.00%\n",
       " Time  \u001b[90m(\u001b[39m\u001b[32m\u001b[1mmean\u001b[22m\u001b[39m ± \u001b[32mσ\u001b[39m\u001b[90m):   \u001b[39m\u001b[32m\u001b[1m70.873 μs\u001b[22m\u001b[39m ± \u001b[32m86.100 μs\u001b[39m  \u001b[90m┊\u001b[39m GC \u001b[90m(\u001b[39mmean ± σ\u001b[90m):  \u001b[39m1.21% ±  0.99%\n",
       "\n",
       "  \u001b[39m \u001b[39m \u001b[39m \u001b[39m \u001b[39m▆\u001b[39m█\u001b[39m▁\u001b[39m \u001b[39m \u001b[39m \u001b[39m \u001b[39m \u001b[39m \u001b[39m \u001b[39m \u001b[39m \u001b[39m \u001b[39m \u001b[39m \u001b[39m \u001b[39m \u001b[39m \u001b[39m▂\u001b[39m▄\u001b[34m▄\u001b[39m\u001b[32m▃\u001b[39m\u001b[39m▁\u001b[39m \u001b[39m▁\u001b[39m \u001b[39m \u001b[39m \u001b[39m \u001b[39m \u001b[39m \u001b[39m \u001b[39m \u001b[39m \u001b[39m \u001b[39m \u001b[39m \u001b[39m \u001b[39m \u001b[39m \u001b[39m \u001b[39m \u001b[39m \u001b[39m \u001b[39m \u001b[39m \u001b[39m \u001b[39m \u001b[39m \u001b[39m \u001b[39m \u001b[39m \u001b[39m \u001b[39m \u001b[39m \u001b[39m \u001b[39m \n",
       "  \u001b[39m▁\u001b[39m▃\u001b[39m▆\u001b[39m█\u001b[39m█\u001b[39m█\u001b[39m█\u001b[39m▄\u001b[39m▂\u001b[39m▁\u001b[39m▁\u001b[39m▁\u001b[39m▁\u001b[39m▁\u001b[39m▁\u001b[39m▁\u001b[39m▂\u001b[39m▃\u001b[39m▄\u001b[39m▃\u001b[39m▅\u001b[39m▆\u001b[39m█\u001b[39m█\u001b[34m█\u001b[39m\u001b[32m█\u001b[39m\u001b[39m█\u001b[39m█\u001b[39m█\u001b[39m█\u001b[39m█\u001b[39m▆\u001b[39m▄\u001b[39m▄\u001b[39m▃\u001b[39m▃\u001b[39m▃\u001b[39m▃\u001b[39m▂\u001b[39m▂\u001b[39m▂\u001b[39m▂\u001b[39m▂\u001b[39m▂\u001b[39m▂\u001b[39m▂\u001b[39m▂\u001b[39m▂\u001b[39m▂\u001b[39m▂\u001b[39m▁\u001b[39m▁\u001b[39m▁\u001b[39m▁\u001b[39m▁\u001b[39m▁\u001b[39m▁\u001b[39m▁\u001b[39m▁\u001b[39m \u001b[39m▃\n",
       "  64.5 μs\u001b[90m         Histogram: frequency by time\u001b[39m        79.3 μs \u001b[0m\u001b[1m<\u001b[22m\n",
       "\n",
       " Memory estimate\u001b[90m: \u001b[39m\u001b[33m12.94 KiB\u001b[39m, allocs estimate\u001b[90m: \u001b[39m\u001b[33m29\u001b[39m."
      ]
     },
     "execution_count": 60,
     "metadata": {},
     "output_type": "execute_result"
    }
   ],
   "source": [
    "@benchmark problem(x,A,beta, Omega, alpha, epsilon, theta, sigma,L) setup=(x=rand(Float64,152))"
   ]
  },
  {
   "cell_type": "code",
   "execution_count": null,
   "id": "2b892730-01d1-4e21-8e82-5f039c4a96ef",
   "metadata": {},
   "outputs": [
    {
     "data": {
      "text/plain": [
       "BenchmarkTools.Trial: 10000 samples with 1 evaluation.\n",
       " Range \u001b[90m(\u001b[39m\u001b[36m\u001b[1mmin\u001b[22m\u001b[39m … \u001b[35mmax\u001b[39m\u001b[90m):  \u001b[39m\u001b[36m\u001b[1m138.857 μs\u001b[22m\u001b[39m … \u001b[35m  7.043 ms\u001b[39m  \u001b[90m┊\u001b[39m GC \u001b[90m(\u001b[39mmin … max\u001b[90m): \u001b[39m0.00% … 96.92%\n",
       " Time  \u001b[90m(\u001b[39m\u001b[34m\u001b[1mmedian\u001b[22m\u001b[39m\u001b[90m):     \u001b[39m\u001b[34m\u001b[1m143.116 μs               \u001b[22m\u001b[39m\u001b[90m┊\u001b[39m GC \u001b[90m(\u001b[39mmedian\u001b[90m):    \u001b[39m0.00%\n",
       " Time  \u001b[90m(\u001b[39m\u001b[32m\u001b[1mmean\u001b[22m\u001b[39m ± \u001b[32mσ\u001b[39m\u001b[90m):   \u001b[39m\u001b[32m\u001b[1m175.356 μs\u001b[22m\u001b[39m ± \u001b[32m212.227 μs\u001b[39m  \u001b[90m┊\u001b[39m GC \u001b[90m(\u001b[39mmean ± σ\u001b[90m):  \u001b[39m8.13% ±  6.88%\n",
       "\n",
       "  \u001b[39m█\u001b[34m▇\u001b[39m\u001b[39m▆\u001b[39m▄\u001b[39m▃\u001b[39m▃\u001b[39m▂\u001b[39m▂\u001b[39m \u001b[39m \u001b[39m \u001b[32m \u001b[39m\u001b[39m \u001b[39m \u001b[39m▁\u001b[39m▃\u001b[39m▂\u001b[39m▁\u001b[39m▁\u001b[39m \u001b[39m \u001b[39m \u001b[39m \u001b[39m \u001b[39m \u001b[39m \u001b[39m \u001b[39m \u001b[39m \u001b[39m \u001b[39m \u001b[39m \u001b[39m \u001b[39m \u001b[39m \u001b[39m \u001b[39m \u001b[39m \u001b[39m \u001b[39m \u001b[39m \u001b[39m \u001b[39m \u001b[39m \u001b[39m \u001b[39m \u001b[39m▂\u001b[39m▃\u001b[39m▂\u001b[39m▁\u001b[39m \u001b[39m \u001b[39m \u001b[39m \u001b[39m \u001b[39m \u001b[39m \u001b[39m \u001b[39m \u001b[39m \u001b[39m \u001b[39m \u001b[39m▂\n",
       "  \u001b[39m█\u001b[34m█\u001b[39m\u001b[39m█\u001b[39m█\u001b[39m█\u001b[39m█\u001b[39m█\u001b[39m█\u001b[39m█\u001b[39m█\u001b[39m█\u001b[32m█\u001b[39m\u001b[39m█\u001b[39m█\u001b[39m█\u001b[39m█\u001b[39m█\u001b[39m█\u001b[39m█\u001b[39m█\u001b[39m▇\u001b[39m▇\u001b[39m▇\u001b[39m▄\u001b[39m▅\u001b[39m▅\u001b[39m▅\u001b[39m▃\u001b[39m▃\u001b[39m▃\u001b[39m▁\u001b[39m▁\u001b[39m▁\u001b[39m▃\u001b[39m▁\u001b[39m▁\u001b[39m▁\u001b[39m▁\u001b[39m▁\u001b[39m▁\u001b[39m▁\u001b[39m▁\u001b[39m▁\u001b[39m▁\u001b[39m▅\u001b[39m█\u001b[39m█\u001b[39m█\u001b[39m█\u001b[39m█\u001b[39m█\u001b[39m█\u001b[39m▆\u001b[39m▆\u001b[39m▅\u001b[39m▆\u001b[39m▆\u001b[39m▅\u001b[39m▄\u001b[39m▄\u001b[39m▅\u001b[39m \u001b[39m█\n",
       "  139 μs\u001b[90m        \u001b[39m\u001b[90mHistogram: \u001b[39m\u001b[90m\u001b[1mlog(\u001b[22m\u001b[39m\u001b[90mfrequency\u001b[39m\u001b[90m\u001b[1m)\u001b[22m\u001b[39m\u001b[90m by time\u001b[39m        345 μs \u001b[0m\u001b[1m<\u001b[22m\n",
       "\n",
       " Memory estimate\u001b[90m: \u001b[39m\u001b[33m512.23 KiB\u001b[39m, allocs estimate\u001b[90m: \u001b[39m\u001b[33m56\u001b[39m."
      ]
     },
     "execution_count": 48,
     "metadata": {},
     "output_type": "execute_result"
    }
   ],
   "source": [
    "@benchmark problem2(x,A,beta, Omega, alpha, epsilon, theta, sigma,L) setup=(x=rand(Float64,152))"
   ]
  },
  {
   "cell_type": "code",
   "execution_count": 37,
   "id": "2828a22f-fad3-474f-b49d-5ba041d1f8a9",
   "metadata": {},
   "outputs": [
    {
     "data": {
      "text/plain": [
       "152-element MVector{152, Float64} with indices SOneTo(152):\n",
       "  0.010920946601219228\n",
       "  0.008587678251266051\n",
       " -0.00041201735017737384\n",
       " -0.01594743190923842\n",
       " -0.00039477314642533123\n",
       "  0.0020232213086803785\n",
       "  0.00022501307756028766\n",
       "  0.0019386798365683688\n",
       "  0.004770529135760038\n",
       "  0.0014148320075209053\n",
       " -0.00037541401449314726\n",
       " -0.005598201955735127\n",
       " -0.002381704103075588\n",
       "  ⋮\n",
       " -4.5626217481970475e-5\n",
       " -0.00011873905612606699\n",
       "  1.4787246208024935e-5\n",
       "  0.00016548036543934455\n",
       "  3.8094101290197385e-5\n",
       "  0.00021037613795140547\n",
       " -0.00012892540730998457\n",
       " -0.00017783332529839897\n",
       "  9.187793079793762e-5\n",
       " -1.060366333650864e-5\n",
       "  1.097580521837449e-5\n",
       "  0.000924849001330625"
      ]
     },
     "execution_count": 37,
     "metadata": {},
     "output_type": "execute_result"
    }
   ],
   "source": [
    "problem(x0 ,A, beta, Omega, alpha, epsilon, theta, sigma,L)"
   ]
  },
  {
   "cell_type": "code",
   "execution_count": 44,
   "id": "ed8c150d-af25-48de-90f0-5fb9ac223335",
   "metadata": {},
   "outputs": [
    {
     "data": {
      "text/plain": [
       "152-element MVector{152, Float64} with indices SOneTo(152):\n",
       "    -26.594834905012213\n",
       "  -6940.200231931587\n",
       " -23612.185947019214\n",
       " -63824.29024380567\n",
       " -27179.671649609787\n",
       "  -2553.9844351615952\n",
       "    -41.065397126396626\n",
       "    -11.518727039488272\n",
       "   -404.6565305778172\n",
       "  -2269.3814470858574\n",
       "   -709.2946683210802\n",
       "    -51.469442270418604\n",
       "   -104.72348498825767\n",
       "      ⋮\n",
       "     -1.138203272067964\n",
       "     -7.505395027165023\n",
       "    -31.389974610657585\n",
       "   -104.84020011720267\n",
       "    -23.888219911391428\n",
       "   -121.5906238188633\n",
       "    -16.118593950204467\n",
       "    -24.333672861718938\n",
       "    -45.151784229095625\n",
       "    -76.3596402033995\n",
       "    -10.952373588421933\n",
       "    -28.647840002234545"
      ]
     },
     "execution_count": 44,
     "metadata": {},
     "output_type": "execute_result"
    }
   ],
   "source": [
    "A = exp.(mvnrnd(-1/2*diag(Sigma),diagm(diag(Sigma))));\n",
    "x0 = [exp.(-inv(I - diagm(1 .- alpha)*Omega)*log.(A));domar_weights ./exp.(-inv(I - diagm(1 .- alpha) * Omega)*log.(A))];\n",
    "problem(x,A, beta, Omega, alpha, epsilon, theta, sigma,L)"
   ]
  },
  {
   "cell_type": "code",
   "execution_count": null,
   "id": "e4897865-1f2d-4a10-b856-8caf4f987a6a",
>>>>>>> 85e070e8607314bed193a863bb35903696bb0439
   "metadata": {},
   "outputs": [],
   "source": []
  }
 ],
 "metadata": {
  "kernelspec": {
   "display_name": "Julia 1.8.0",
   "language": "julia",
   "name": "julia-1.8"
  },
  "language_info": {
   "file_extension": ".jl",
   "mimetype": "application/julia",
   "name": "julia",
   "version": "1.8.0"
  }
 },
 "nbformat": 4,
 "nbformat_minor": 5
}

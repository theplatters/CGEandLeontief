{
 "cells": [
  {
   "cell_type": "code",
   "execution_count": 1,
   "id": "80563cd6-b3d0-48cd-8e33-da93a826f1a2",
   "metadata": {},
   "outputs": [
    {
     "data": {
      "text/plain": [
       "mvnrnd (generic function with 1 method)"
      ]
     },
     "metadata": {},
     "output_type": "display_data"
    }
   ],
   "source": [
    "using MAT, Statistics, LinearAlgebra,Random, Plots, NonlinearSolve\n",
    "using StaticArrays, Distributed, SciMLNLSolve, LineSearches\n",
    "\n",
    "include(\"mvnrnd.jl\")"
   ]
  },
  {
   "cell_type": "code",
   "execution_count": 2,
   "id": "37d3dcdc",
   "metadata": {},
   "outputs": [
    {
     "data": {
      "text/plain": [
       "loadInData (generic function with 1 method)"
      ]
     },
     "metadata": {},
     "output_type": "display_data"
    }
   ],
   "source": [
    "function loadInData()\n",
    "    file = matopen(\"simulationData.mat\")\n",
    "\n",
    "    data = read(file, \"data\")\n",
    "\n",
    "    close(file)\n",
    "\n",
    "    return data\n",
    "end"
   ]
  },
  {
   "cell_type": "code",
   "execution_count": 3,
   "id": "6f39525d-5736-43dd-a5bd-4e5855cb3ec3",
   "metadata": {},
   "outputs": [],
   "source": [
    "data = loadInData()\n",
    "\n",
    "grossy = reshape(data[:, 3], 46, 88)'\n",
    "capital = reshape(data[:, 4], 46, 88)'; #NOMINAL CAPITAL\n",
    "labor = reshape(data[:, 5], 46, 88)'; #NOMINAL LABOR\n",
    "vadd = labor + capital; #NOMINAL VALUE;\n",
    "\n",
    "removableSectors = [60, 80:88...];\n",
    "grossy = grossy[setdiff(1:end, removableSectors), :];\n",
    "capital = capital[setdiff(1:end, removableSectors), :];\n",
    "labor = labor[setdiff(1:end, removableSectors), :];\n",
    "vadd = vadd[setdiff(1:end, removableSectors), :];\n",
    "\n",
    "grossSales = vec((sum(grossy, dims=2) .!= 0));\n",
    "grossy = grossy[grossSales, :];\n",
    "capital = capital[grossSales, :];\n",
    "labor = labor[grossSales, :];\n",
    "vadd = vadd[grossSales, :];\n"
   ]
  },
  {
   "cell_type": "code",
   "execution_count": 4,
   "id": "92a41374-e6c9-4087-bef6-8d0a25cf1df1",
   "metadata": {},
   "outputs": [
    {
     "data": {
      "text/plain": [
       "getVariables (generic function with 1 method)"
      ]
     },
     "metadata": {},
     "output_type": "display_data"
    }
   ],
   "source": [
    "function getVariables(year)\n",
    "    IO = data[data[:, 1].==year, :]\n",
    "    temp = [8, 60, 62, 80:88...]\n",
    "    IO = IO[setdiff(1:end, temp), setdiff(1:end, [1, 2, 3, 4, 5, 94])]\n",
    "    IO = IO[:, setdiff(1:end, temp)]\n",
    "    Ω = IO ./ sum(IO, dims=2)\n",
    "    α = vadd[:, year-1959] ./ grossy[:, year-1959]\n",
    "    β = ((I - diagm(1 .- α) * Ω)' * grossy[:, year-1959])\n",
    "    @views β[β.<0] .= 0\n",
    "    β = β / sum(β)\n",
    "    λ = (inv(I - diagm(1 .- α) * Ω)' * β)\n",
    "    L = λ .* α\n",
    "\n",
    "    return α, β, Ω, L, λ\n",
    "\n",
    "end"
   ]
  },
  {
   "cell_type": "code",
   "execution_count": 5,
   "id": "5407a7de-552b-4673-bd43-56f93ffd9a10",
   "metadata": {},
   "outputs": [],
   "source": [
    "ε = .5;\n",
    "θ = 0.001;\n",
    "σ = .9;"
   ]
  },
  {
   "cell_type": "code",
   "execution_count": 6,
   "id": "d1c7f6e2-41ff-4b34-b25e-ab7f917c4c4a",
   "metadata": {},
   "outputs": [
    {
     "data": {
      "text/plain": [
       "problem (generic function with 1 method)"
      ]
     },
     "metadata": {},
     "output_type": "display_data"
    }
   ],
   "source": [
    "function problem(X :: AbstractVector{T}, A, β, Ω, α, ε, θ, σ,L) where T\n",
    "\n",
    "\n",
    "\n",
    "    N = length(α)\n",
    "    p = X[1:N]\n",
    "    y = X[N+1:end]\n",
    "    \n",
    "    Out :: Vector{T} = zeros(eltype(X),2*N)\n",
    "    \n",
    "    q = (Ω * p .^ (1-θ)) .^ (1 / (1 - θ))\n",
    "    w = p .* (A .^ ((ε - 1)/ε)) .* (α .^ (1 / ε)) .* (y .^ (1/ε)) .* L .^ (-1/ε)\n",
    "    C = w' * L\n",
    "  \n",
    "    Out[1:N] = p - (A .^ (ε - 1) .* (α .* w .^ (1- ε) + (1 .- α) .* q .^ (1 - ε))) .^ (1/(1-ε))\n",
    "    Out[N+1:end] = y' - y' * diagm(p)^ε * diagm(A)^(ε-1) * diagm(q)^(θ-ε) * diagm(1 .- α) * Ω * diagm(p)^(-θ) - β'*diagm(p)^(-σ)*C\n",
    "    \n",
    "    return Out\n",
    "end"
   ]
  },
  {
   "cell_type": "code",
   "execution_count": 7,
   "id": "fef6c5c7-12cf-477e-adcc-64745c53e590",
   "metadata": {},
   "outputs": [
    {
     "data": {
      "text/plain": [
       "problemJacobian (generic function with 1 method)"
      ]
     },
     "metadata": {},
     "output_type": "display_data"
    }
   ],
   "source": [
    "function problemJacobian(X, A, β, Ω, α, ε, θ, σ,L)\n",
    "    N = length(α)\n",
    "    p = @view X[1:N]\n",
    "    y = @view X[N+1:end]\n",
    "    \n",
    "    Out = zeros(eltype(X),2*N)\n",
    "    \n",
    "    q = (Ω * p .^ (1-θ)) .^ (1 / (1 - θ))\n",
    "    w = p .* (A .^ ((ε - 1)/ε)) .* (α .^ (1 / ε)) .* (y .^ (1/ε)) .* L .^ (-1/ε)\n",
    "    C = w' * L\n",
    "  \n",
    "    \n",
    "    DQDP = (q .^ θ * (p.^(-θ))') .* Ω;\n",
    "    DWDP = diagm(A.^((ε-1)/ε) .* α.^(1/ε) .* y.^(1/ε) .* (1 ./ L).^(1/ε));\n",
    "    DWDY = (1/ε) * diagm(p .* A.^((ε-1)/ε) .* α.^(1/ε).* (y.^(1/ε-1)) .* L.^(-1/ε));\n",
    "    DCDP = DWDP' * L; \n",
    "    DCDY = DWDY' * L;\n",
    "\n",
    "    DOut1DP = I - diagm(diagm(A)^(-1) * ((α .* (w .^ (1-ε)) + (1 .- α) .* (q.^(1-ε)))).^(ε/(1-ε))) * (diagm(α) * diagm(w.^(-ε))* DWDP + diagm(1 .-α)*diagm(q.^(-ε))*DQDP);\n",
    "\n",
    "    DOut1DY =  -diagm(diagm(A.^(-1))*((α.*(w.^(1-ε))+(1 .- α).*(q.^(1-ε)))).^(ε/(1-ε)))*(diagm(α)*diagm(w.^(-ε))*DWDY);\n",
    "\n",
    "    DOut2DP = -(ε * diagm(p.^(-θ))*Ω'*diagm((p.^(ε-1)).*(y).*(q.^(θ-ε)).*(1 .- α).*(A.^(ε-1)))\n",
    "        + (θ-ε)*diagm(p.^(-θ))*Ω'*diagm((p.^(ε)).*(y).*(q.^(θ-ε-1)).*(1 .- α).*(A.^(ε-1)))*DQDP \n",
    "        - σ*diagm(β.*p.^(-σ-1))*C + broadcast(*, β.*(p.^(-σ)), DCDP')\n",
    "        - θ* diagm(p.^(-θ-1)).*diagm(Ω'*diagm((p.^(ε)).*(q.^(θ-ε)).*(1 .- α).*(A.^(ε-1)))*y));\n",
    "\n",
    "    DOut2DY = I - (diagm(p)^ε*diagm(A)^(ε-1)*diagm(q)^(θ-ε)*diagm(1 .- α)*Ω*diagm(p)^(-θ))' - broadcast(*, β.*(p.^(-σ)), DCDY');\n",
    "    OutDeriv = [DOut1DP DOut1DY; DOut2DP DOut2DY];\n",
    "\n",
    "end"
   ]
  },
  {
   "cell_type": "code",
   "execution_count": 8,
   "id": "dc46bb84-b76f-4170-9133-28ccfc044961",
   "metadata": {},
   "outputs": [
    {
     "ename": "TaskFailedException",
     "evalue": "TaskFailedException\n\n    nested task error: UndefVarError: Sigma not defined\n    Stacktrace:\n     [1] macro expansion\n       @ ~/Schreibtisch/BeyondHulten/Translation/OtherSolver.ipynb:18 [inlined]\n     [2] (::var\"#67#threadsfor_fun#10\"{var\"#67#threadsfor_fun#9#11\"{UnitRange{Int64}}})(tid::Int64; onethread::Bool)\n       @ Main ./threadingconstructs.jl:84\n     [3] #67#threadsfor_fun\n       @ ./threadingconstructs.jl:51 [inlined]\n     [4] (::Base.Threads.var\"#1#2\"{var\"#67#threadsfor_fun#10\"{var\"#67#threadsfor_fun#9#11\"{UnitRange{Int64}}}, Int64})()\n       @ Base.Threads ./threadingconstructs.jl:30",
     "output_type": "error",
     "traceback": [
      "TaskFailedException\n",
      "\n",
      "    nested task error: UndefVarError: Sigma not defined\n",
      "    Stacktrace:\n",
      "     [1] macro expansion\n",
      "       @ ~/Schreibtisch/BeyondHulten/Translation/OtherSolver.ipynb:18 [inlined]\n",
      "     [2] (::var\"#67#threadsfor_fun#10\"{var\"#67#threadsfor_fun#9#11\"{UnitRange{Int64}}})(tid::Int64; onethread::Bool)\n",
      "       @ Main ./threadingconstructs.jl:84\n",
      "     [3] #67#threadsfor_fun\n",
      "       @ ./threadingconstructs.jl:51 [inlined]\n",
      "     [4] (::Base.Threads.var\"#1#2\"{var\"#67#threadsfor_fun#10\"{var\"#67#threadsfor_fun#9#11\"{UnitRange{Int64}}}, Int64})()\n",
      "       @ Base.Threads ./threadingconstructs.jl:30\n",
      "\n",
      "Stacktrace:\n",
      " [1] wait\n",
      "   @ ./task.jl:345 [inlined]\n",
      " [2] threading_run(fun::var\"#67#threadsfor_fun#10\"{var\"#67#threadsfor_fun#9#11\"{UnitRange{Int64}}}, static::Bool)\n",
      "   @ Base.Threads ./threadingconstructs.jl:38\n",
      " [3] top-level scope\n",
      "   @ ./threadingconstructs.jl:89"
     ]
    }
   ],
   "source": [
    "trials = 50;\n",
    "GDP = zeros(trials)\n",
    "λ = zeros(76,trials)\n",
    "\n",
    "function f!(F,u,p)\n",
    "    F[1:152] = problem(u,p,beta,Omega,alpha,ε,θ,σ,L)\n",
    "end\n",
    "\n",
    "function j!(J,u,p)\n",
    "    J[1:152,1:152] = problemJacobian(u,p,beta,Omega,alpha,ε,θ,σ,L)\n",
    "end\n",
    "\n",
    "f = NonlinearFunction(f!)\n",
    "\n",
    "Threads.@threads for k in 1:trials\n",
    "    \n",
    "        \n",
    "    A = exp.(mvnrnd(-1/2*diag(Sigma),diagm(diag(Sigma))));\n",
    "    \n",
    "    init = [Complex.(exp.(-inv(I - diagm(1 .- alpha)*Omega)*log.(A)))..., Complex.(domar_weights ./exp.(-inv(I - diagm(1 .- alpha) * Omega)*log.(A)))...];\n",
    "    \n",
    "    #init = [exp.(-inv(I - diagm(1 .- alpha)*Omega)*log.(A))..., (domar_weights ./exp.(-inv(I - diagm(1 .- alpha) * Omega)*log.(A)))...]\n",
    "\n",
    "\n",
    "    p = A\n",
    "\n",
    "    ProbN = NonlinearProblem(f,init,p)\n",
    "    sol = solve(ProbN,NLSolveJL(linesearch = HagerZhang(),method = :newton), reltol = 1e-8,abstol = 1e-8)\n",
    "\n",
    "    x = sol.u\n",
    "    println(\"solv\")\n",
    "\n",
    "    GDP[k] = (x[1:76] .* (A .^ ((ε-1)/ε)).*(alpha.^(1/ε)).*(x[77:152].^(1/ε)).* L .^ (-1/ε))' * L;\n",
    "    λ[:,k] = (x[1:76] .* x[77:end]) / GDP[k] \n",
    "\n",
    "\n",
    "        \n",
    "end"
   ]
  },
  {
   "cell_type": "code",
   "execution_count": 8,
   "id": "0456f0e7",
   "metadata": {},
   "outputs": [
    {
     "data": {
      "text/plain": [
       "shockSectorProgressively (generic function with 2 methods)"
      ]
     },
     "metadata": {},
     "output_type": "display_data"
    }
   ],
   "source": [
    "function shockSectorProgressively(sector, shocks, year=1983)\n",
    "\n",
    "    (α, β, Ω, L, λ) = getVariables(year)\n",
    "\n",
    "    x0 = Complex.([ones(76)..., λ...])\n",
    "    f = NonlinearFunction((u, p) -> problem(u, p...), jac=(u, p) -> problemJacobian(u, p...))\n",
    "    GDP = []\n",
    "    for shock in shocks\n",
    "        A = ones(76)\n",
    "        A[sector] = shock\n",
    "\n",
    "\n",
    "\n",
    "\n",
    "        p = [A, β, Ω, α, ε, θ, σ, L]\n",
    "        ProbN = NonlinearProblem(f, x0, p)\n",
    "\n",
    "        #sol = solve(ProbN,NewtonRaphson(), reltol = 1e-10,abstol = 1e-8)\n",
    "        sol = solve(ProbN, NLSolveJL(method=:newton, linesearch=BackTracking()), reltol=1e-10, abstol=1e-8)\n",
    "\n",
    "        x = sol.u\n",
    "\n",
    "        p = real.(x[1:76])\n",
    "        y = real.(x[77:152])\n",
    "        append!(GDP, (p .* (A .^ ((ε - 1) / ε)) .* (α .^ (1 / ε)) .* (y .^ (1 / ε)) .* L .^ (-1 / ε))' * L)\n",
    "\n",
    "        x0 = x\n",
    "    end\n",
    "\n",
    "    return GDP\n",
    "\n",
    "end"
   ]
  },
  {
   "cell_type": "code",
   "execution_count": 9,
   "id": "1f6d3d5b-e0ee-4aab-9795-3a0fead20e26",
   "metadata": {},
   "outputs": [],
   "source": [
    "years = 1980:2000\n",
    "M = 50\n",
    "\n",
    "a = 0.7;\n",
    "b = 1.3;\n",
    "\n",
    "\n",
    "\n",
    "sectors = 1:60\n",
    "\n",
    "GDP = zeros(2 * M, length(sectors), length(years))\n",
    "\n",
    "@distributed for year in years\n",
    "    for i in 1:length(sectors)\n",
    "        GDP[1:M, i, year-(years[1]-1)] = shockSectorProgressively(sectors[i], LinRange(1, a, M), year)\n",
    "        GDP[M+1:end, i, year-(years[1]-1)] = shockSectorProgressively(sectors[i], LinRange(1, b, M), year)\n",
    "    end\n",
    "end\n",
    "\n",
    "\n"
   ]
  },
  {
   "cell_type": "code",
   "execution_count": 38,
   "id": "def4be44",
   "metadata": {},
   "outputs": [
    {
     "data": {
      "text/plain": [
       "199×60×21 Array{Float64, 3}:\n",
       "[:, :, 1] =\n",
       " 0.960047  0.995523  0.996884  0.986077  …  0.985263  0.951592  0.994301\n",
       " 0.960699  0.995637  0.996961  0.986463     0.985481  0.952323  0.994379\n",
       " 0.961343  0.995749  0.997036  0.986841     0.985697  0.953047  0.994457\n",
       " 0.961979  0.995859  0.997109  0.987212     0.985911  0.953763  0.994533\n",
       " 0.962608  0.995966  0.99718   0.987574     0.986123  0.954472  0.994609\n",
       " 0.963228  0.99607   0.99725   0.987929  …  0.986333  0.955174  0.994685\n",
       " 0.963842  0.996172  0.997317  0.988276     0.98654   0.955869  0.99476\n",
       " 0.964447  0.996272  0.997383  0.988617     0.986746  0.956556  0.994834\n",
       " 0.965046  0.996369  0.997447  0.988949     0.986949  0.957237  0.994908\n",
       " 0.965638  0.996464  0.997509  0.989275     0.987151  0.957911  0.994981\n",
       " ⋮                                       ⋱                      \n",
       " 1.01677   1.00065   1.00069   1.00051   …  1.0077    1.02393   1.00327\n",
       " 1.01691   1.00065   1.00069   1.00052      1.00777   1.02414   1.0033\n",
       " 1.01705   1.00066   1.0007    1.00052      1.00784   1.02435   1.00333\n",
       " 1.01718   1.00066   1.0007    1.00052      1.00791   1.02456   1.00336\n",
       " 1.01732   1.00067   1.00071   1.00052      1.00798   1.02477   1.00339\n",
       " 1.01745   1.00067   1.00071   1.00053   …  1.00805   1.02498   1.00342\n",
       " 1.01759   1.00067   1.00072   1.00053      1.00811   1.02518   1.00345\n",
       " 1.01772   1.00068   1.00072   1.00053      1.00818   1.02539   1.00348\n",
       " 1.01785   1.00068   1.00073   1.00053      1.00825   1.02559   1.00351\n",
       "\n",
       "[:, :, 2] =\n",
       " 0.964543  0.996427  0.997454  0.985509  …  0.985657  0.952092  0.994309\n",
       " 0.965126  0.9965    0.997513  0.98593      0.985872  0.952826  0.994386\n",
       " 0.965702  0.996572  0.997571  0.986342     0.986084  0.953551  0.994463\n",
       " 0.96627   0.996642  0.997627  0.986745     0.986293  0.95427   0.99454\n",
       " 0.966831  0.996711  0.997681  0.987139     0.986501  0.95498   0.994616\n",
       " 0.967386  0.996779  0.997735  0.987525  …  0.986706  0.955683  0.994691\n",
       " 0.967933  0.996845  0.997787  0.987902     0.98691   0.956379  0.994766\n",
       " 0.968474  0.996911  0.997838  0.98827      0.987111  0.957067  0.99484\n",
       " 0.969009  0.996975  0.997888  0.988631     0.98731   0.957748  0.994914\n",
       " 0.969536  0.997037  0.997936  0.988983     0.987507  0.958422  0.994987\n",
       " ⋮                                       ⋱                      \n",
       " 1.01465   1.00104   1.00062   1.00054   …  1.00743   1.02315   1.00327\n",
       " 1.01477   1.00104   1.00063   1.00054      1.00749   1.02336   1.0033\n",
       " 1.01488   1.00105   1.00063   1.00055      1.00756   1.02356   1.00333\n",
       " 1.015     1.00106   1.00063   1.00055      1.00763   1.02376   1.00336\n",
       " 1.01512   1.00107   1.00064   1.00055      1.00769   1.02396   1.00339\n",
       " 1.01524   1.00107   1.00064   1.00055   …  1.00776   1.02416   1.00342\n",
       " 1.01535   1.00108   1.00065   1.00056      1.00782   1.02435   1.00345\n",
       " 1.01547   1.00109   1.00065   1.00056      1.00789   1.02455   1.00348\n",
       " 1.01558   1.0011    1.00066   1.00056      1.00795   1.02475   1.00351\n",
       "\n",
       "[:, :, 3] =\n",
       " 0.964346  0.996036  0.997415  0.98769   …  0.982576  0.950119  0.994125\n",
       " 0.964935  0.99611   0.997474  0.988076     0.982826  0.950898  0.994204\n",
       " 0.965517  0.996182  0.997531  0.988453     0.983072  0.951668  0.994283\n",
       " 0.966091  0.996253  0.997587  0.988821     0.983317  0.95243   0.994361\n",
       " 0.966658  0.996322  0.997642  0.989181     0.983559  0.953183  0.994438\n",
       " 0.967218  0.996391  0.997695  0.989533  …  0.983799  0.953928  0.994515\n",
       " 0.967771  0.996458  0.997747  0.989876     0.984037  0.954664  0.994592\n",
       " 0.968316  0.996525  0.997798  0.990211     0.984273  0.955393  0.994668\n",
       " 0.968856  0.99659   0.997848  0.990537     0.984507  0.956114  0.994743\n",
       " 0.969388  0.996655  0.997897  0.990856     0.984739  0.956826  0.994818\n",
       " ⋮                                       ⋱                      \n",
       " 1.01478   1.00139   1.00065   1.00037   …  1.0095    1.02334   1.00343\n",
       " 1.0149    1.0014    1.00066   1.00037      1.00959   1.02354   1.00346\n",
       " 1.01502   1.00141   1.00066   1.00038      1.00967   1.02374   1.00349\n",
       " 1.01514   1.00142   1.00067   1.00038      1.00976   1.02394   1.00353\n",
       " 1.01526   1.00143   1.00067   1.00038      1.00984   1.02414   1.00356\n",
       " 1.01538   1.00144   1.00068   1.00038   …  1.00993   1.02434   1.00359\n",
       " 1.01549   1.00145   1.00068   1.00038      1.01001   1.02453   1.00362\n",
       " 1.01561   1.00146   1.00069   1.00038      1.0101    1.02473   1.00365\n",
       " 1.01573   1.00147   1.00069   1.00039      1.01018   1.02493   1.00368\n",
       "\n",
       ";;; … \n",
       "\n",
       "[:, :, 19] =\n",
       " 0.982351  0.996632  0.997363  0.998556  …  0.981457  0.950058  0.993825\n",
       " 0.982623  0.996687  0.997441  0.998596     0.981728  0.950854  0.99391\n",
       " 0.982893  0.996741  0.997517  0.998635     0.981997  0.951641  0.993994\n",
       " 0.983159  0.996794  0.99759   0.998672     0.982263  0.952418  0.994078\n",
       " 0.983422  0.996847  0.99766   0.998708     0.982527  0.953187  0.994161\n",
       " 0.983683  0.996899  0.997728  0.998742  …  0.982788  0.953946  0.994244\n",
       " 0.983941  0.996951  0.997794  0.998775     0.983046  0.954697  0.994325\n",
       " 0.984196  0.997001  0.997857  0.998807     0.983302  0.95544   0.994407\n",
       " 0.984449  0.997052  0.997919  0.998838     0.983555  0.956173  0.994487\n",
       " 0.984699  0.997101  0.997979  0.998868     0.983806  0.956899  0.994567\n",
       " ⋮                                       ⋱                      \n",
       " 1.00821   1.0015    1.00045   1.0004    …  1.00986   1.02254   1.0035\n",
       " 1.00828   1.00151   1.00045   1.0004       1.00994   1.02273   1.00353\n",
       " 1.00835   1.00152   1.00045   1.0004       1.01003   1.02292   1.00357\n",
       " 1.00842   1.00153   1.00045   1.00041      1.01012   1.02312   1.0036\n",
       " 1.00849   1.00155   1.00046   1.00041      1.01021   1.02331   1.00363\n",
       " 1.00856   1.00156   1.00046   1.00041   …  1.0103    1.02349   1.00366\n",
       " 1.00863   1.00157   1.00046   1.00042      1.01038   1.02368   1.00369\n",
       " 1.00869   1.00158   1.00047   1.00042      1.01047   1.02387   1.00372\n",
       " 1.00876   1.0016    1.00047   1.00042      1.01056   1.02406   1.00375\n",
       "\n",
       "[:, :, 20] =\n",
       " 0.982473  0.996225  0.997463  0.998332  …  0.981884  0.950451  0.993915\n",
       " 0.982741  0.996287  0.997541  0.998389     0.982146  0.951235  0.993998\n",
       " 0.983006  0.996347  0.997617  0.998444     0.982407  0.95201   0.994081\n",
       " 0.983268  0.996406  0.997689  0.998496     0.982665  0.952776  0.994164\n",
       " 0.983527  0.996465  0.997759  0.998545     0.98292   0.953533  0.994245\n",
       " 0.983784  0.996523  0.997827  0.998592  …  0.983173  0.954282  0.994327\n",
       " 0.984038  0.996581  0.997892  0.998636     0.983423  0.955022  0.994407\n",
       " 0.98429   0.996637  0.997955  0.998679     0.983671  0.955754  0.994487\n",
       " 0.984539  0.996693  0.998016  0.998719     0.983917  0.956478  0.994566\n",
       " 0.984785  0.996749  0.998075  0.998758     0.984161  0.957193  0.994645\n",
       " ⋮                                       ⋱                      \n",
       " 1.00826   1.00169   1.00041   1.00037   …  1.00974   1.02267   1.00346\n",
       " 1.00833   1.0017    1.00042   1.00037      1.00982   1.02286   1.00349\n",
       " 1.00841   1.00171   1.00042   1.00038      1.00991   1.02306   1.00352\n",
       " 1.00848   1.00173   1.00042   1.00038      1.01      1.02325   1.00356\n",
       " 1.00854   1.00174   1.00043   1.00038      1.01009   1.02344   1.00359\n",
       " 1.00861   1.00176   1.00043   1.00038   …  1.01017   1.02363   1.00362\n",
       " 1.00868   1.00177   1.00043   1.00039      1.01026   1.02382   1.00365\n",
       " 1.00875   1.00178   1.00043   1.00039      1.01035   1.02401   1.00368\n",
       " 1.00882   1.0018    1.00044   1.00039      1.01043   1.0242    1.00371\n",
       "\n",
       "[:, :, 21] =\n",
       " 0.982547  0.995714  0.997547  0.998549  …  0.982212  0.950212  0.993831\n",
       " 0.982813  0.995783  0.99762   0.998593     0.982471  0.951007  0.993916\n",
       " 0.983077  0.995851  0.99769   0.998634     0.982726  0.951793  0.994001\n",
       " 0.983337  0.995919  0.997758  0.998674     0.98298   0.95257   0.994084\n",
       " 0.983595  0.995985  0.997824  0.998712     0.98323   0.953337  0.994167\n",
       " 0.98385   0.996051  0.997887  0.998748  …  0.983479  0.954096  0.99425\n",
       " 0.984103  0.996116  0.997948  0.998783     0.983725  0.954846  0.994331\n",
       " 0.984353  0.99618   0.998008  0.998816     0.983969  0.955588  0.994413\n",
       " 0.984601  0.996244  0.998065  0.998849     0.98421   0.95632   0.994493\n",
       " 0.984846  0.996307  0.99812   0.99888      0.98445   0.957045  0.994573\n",
       " ⋮                                       ⋱                      \n",
       " 1.00825   1.00191   1.00044   1.00037   …  1.00955   1.02238   1.0035\n",
       " 1.00832   1.00193   1.00044   1.00037      1.00964   1.02257   1.00353\n",
       " 1.00839   1.00195   1.00044   1.00037      1.00972   1.02276   1.00356\n",
       " 1.00846   1.00196   1.00045   1.00038      1.00981   1.02295   1.00359\n",
       " 1.00853   1.00198   1.00045   1.00038      1.0099    1.02314   1.00362\n",
       " 1.0086    1.00199   1.00045   1.00038   …  1.00998   1.02333   1.00366\n",
       " 1.00867   1.00201   1.00045   1.00039      1.01007   1.02351   1.00369\n",
       " 1.00874   1.00203   1.00046   1.00039      1.01015   1.0237    1.00372\n",
       " 1.00881   1.00204   1.00046   1.00039      1.01023   1.02388   1.00375"
      ]
     },
     "metadata": {},
     "output_type": "display_data"
    }
   ],
   "source": [
    "\n",
    "@views reverse!(GDP[1:M, :,:], dims=1)\n",
    "GDP = GDP[setdiff(1:end, M), :,:]"
   ]
  },
  {
   "cell_type": "code",
   "execution_count": 36,
   "id": "ea60396b-5f8b-4375-b053-355a44c2eca8",
   "metadata": {},
   "outputs": [
    {
     "data": {
      "image/png": "[encoded data removed]",
      "image/svg+xml": [
       "<?xml version=\"1.0\" encoding=\"utf-8\"?>\n",
       "<svg xmlns=\"http://www.w3.org/2000/svg\" xmlns:xlink=\"http://www.w3.org/1999/xlink\" width=\"600\" height=\"400\" viewBox=\"0 0 2400 1600\">\n",
       "<defs>\n",
       "  <clipPath id=\"clip630\">\n",
       "    <rect x=\"0\" y=\"0\" width=\"2400\" height=\"1600\"/>\n",
       "  </clipPath>\n",
       "</defs>\n",
       "<path clip-path=\"url(#clip630)\" d=\"M0 1600 L2400 1600 L2400 0 L0 0  Z\" fill=\"#ffffff\" fill-rule=\"evenodd\" fill-opacity=\"1\"/>\n",
       "<defs>\n",
       "  <clipPath id=\"clip631\">\n",
       "    <rect x=\"480\" y=\"0\" width=\"1681\" height=\"1600\"/>\n",
       "  </clipPath>\n",
       "</defs>\n",
       "<path clip-path=\"url(#clip630)\" d=\"M186.436 1486.45 L2352.76 1486.45 L2352.76 47.2441 L186.436 47.2441  Z\" fill=\"#ffffff\" fill-rule=\"evenodd\" fill-opacity=\"1\"/>\n",
       "<defs>\n",
       "  <clipPath id=\"clip632\">\n",
       "    <rect x=\"186\" y=\"47\" width=\"2167\" height=\"1440\"/>\n",
       "  </clipPath>\n",
       "</defs>\n",
       "<polyline clip-path=\"url(#clip632)\" style=\"stroke:#000000; stroke-linecap:round; stroke-linejoin:round; stroke-width:2; stroke-opacity:0.1; fill:none\" points=\"247.747,1486.45 247.747,47.2441 \"/>\n",
       "<polyline clip-path=\"url(#clip632)\" style=\"stroke:#000000; stroke-linecap:round; stroke-linejoin:round; stroke-width:2; stroke-opacity:0.1; fill:none\" points=\"588.363,1486.45 588.363,47.2441 \"/>\n",
       "<polyline clip-path=\"url(#clip632)\" style=\"stroke:#000000; stroke-linecap:round; stroke-linejoin:round; stroke-width:2; stroke-opacity:0.1; fill:none\" points=\"928.98,1486.45 928.98,47.2441 \"/>\n",
       "<polyline clip-path=\"url(#clip632)\" style=\"stroke:#000000; stroke-linecap:round; stroke-linejoin:round; stroke-width:2; stroke-opacity:0.1; fill:none\" points=\"1269.6,1486.45 1269.6,47.2441 \"/>\n",
       "<polyline clip-path=\"url(#clip632)\" style=\"stroke:#000000; stroke-linecap:round; stroke-linejoin:round; stroke-width:2; stroke-opacity:0.1; fill:none\" points=\"1610.21,1486.45 1610.21,47.2441 \"/>\n",
       "<polyline clip-path=\"url(#clip632)\" style=\"stroke:#000000; stroke-linecap:round; stroke-linejoin:round; stroke-width:2; stroke-opacity:0.1; fill:none\" points=\"1950.83,1486.45 1950.83,47.2441 \"/>\n",
       "<polyline clip-path=\"url(#clip632)\" style=\"stroke:#000000; stroke-linecap:round; stroke-linejoin:round; stroke-width:2; stroke-opacity:0.1; fill:none\" points=\"2291.44,1486.45 2291.44,47.2441 \"/>\n",
       "<polyline clip-path=\"url(#clip630)\" style=\"stroke:#000000; stroke-linecap:round; stroke-linejoin:round; stroke-width:4; stroke-opacity:1; fill:none\" points=\"186.436,1486.45 2352.76,1486.45 \"/>\n",
       "<polyline clip-path=\"url(#clip630)\" style=\"stroke:#000000; stroke-linecap:round; stroke-linejoin:round; stroke-width:4; stroke-opacity:1; fill:none\" points=\"247.747,1486.45 247.747,1467.55 \"/>\n",
       "<polyline clip-path=\"url(#clip630)\" style=\"stroke:#000000; stroke-linecap:round; stroke-linejoin:round; stroke-width:4; stroke-opacity:1; fill:none\" points=\"588.363,1486.45 588.363,1467.55 \"/>\n",
       "<polyline clip-path=\"url(#clip630)\" style=\"stroke:#000000; stroke-linecap:round; stroke-linejoin:round; stroke-width:4; stroke-opacity:1; fill:none\" points=\"928.98,1486.45 928.98,1467.55 \"/>\n",
       "<polyline clip-path=\"url(#clip630)\" style=\"stroke:#000000; stroke-linecap:round; stroke-linejoin:round; stroke-width:4; stroke-opacity:1; fill:none\" points=\"1269.6,1486.45 1269.6,1467.55 \"/>\n",
       "<polyline clip-path=\"url(#clip630)\" style=\"stroke:#000000; stroke-linecap:round; stroke-linejoin:round; stroke-width:4; stroke-opacity:1; fill:none\" points=\"1610.21,1486.45 1610.21,1467.55 \"/>\n",
       "<polyline clip-path=\"url(#clip630)\" style=\"stroke:#000000; stroke-linecap:round; stroke-linejoin:round; stroke-width:4; stroke-opacity:1; fill:none\" points=\"1950.83,1486.45 1950.83,1467.55 \"/>\n",
       "<polyline clip-path=\"url(#clip630)\" style=\"stroke:#000000; stroke-linecap:round; stroke-linejoin:round; stroke-width:4; stroke-opacity:1; fill:none\" points=\"2291.44,1486.45 2291.44,1467.55 \"/>\n",
       "<path clip-path=\"url(#clip630)\" d=\"M225.583 1517.37 Q221.972 1517.37 220.143 1520.93 Q218.337 1524.47 218.337 1531.6 Q218.337 1538.71 220.143 1542.27 Q221.972 1545.82 225.583 1545.82 Q229.217 1545.82 231.023 1542.27 Q232.851 1538.71 232.851 1531.6 Q232.851 1524.47 231.023 1520.93 Q229.217 1517.37 225.583 1517.37 M225.583 1513.66 Q231.393 1513.66 234.448 1518.27 Q237.527 1522.85 237.527 1531.6 Q237.527 1540.33 234.448 1544.94 Q231.393 1549.52 225.583 1549.52 Q219.773 1549.52 216.694 1544.94 Q213.638 1540.33 213.638 1531.6 Q213.638 1522.85 216.694 1518.27 Q219.773 1513.66 225.583 1513.66 Z\" fill=\"#000000\" fill-rule=\"nonzero\" fill-opacity=\"1\" /><path clip-path=\"url(#clip630)\" d=\"M245.745 1542.97 L250.629 1542.97 L250.629 1548.85 L245.745 1548.85 L245.745 1542.97 Z\" fill=\"#000000\" fill-rule=\"nonzero\" fill-opacity=\"1\" /><path clip-path=\"url(#clip630)\" d=\"M259.633 1514.29 L281.856 1514.29 L281.856 1516.28 L269.309 1548.85 L264.425 1548.85 L276.231 1518.22 L259.633 1518.22 L259.633 1514.29 Z\" fill=\"#000000\" fill-rule=\"nonzero\" fill-opacity=\"1\" /><path clip-path=\"url(#clip630)\" d=\"M565.794 1517.37 Q562.183 1517.37 560.354 1520.93 Q558.549 1524.47 558.549 1531.6 Q558.549 1538.71 560.354 1542.27 Q562.183 1545.82 565.794 1545.82 Q569.428 1545.82 571.234 1542.27 Q573.062 1538.71 573.062 1531.6 Q573.062 1524.47 571.234 1520.93 Q569.428 1517.37 565.794 1517.37 M565.794 1513.66 Q571.604 1513.66 574.66 1518.27 Q577.738 1522.85 577.738 1531.6 Q577.738 1540.33 574.66 1544.94 Q571.604 1549.52 565.794 1549.52 Q559.984 1549.52 556.905 1544.94 Q553.85 1540.33 553.85 1531.6 Q553.85 1522.85 556.905 1518.27 Q559.984 1513.66 565.794 1513.66 Z\" fill=\"#000000\" fill-rule=\"nonzero\" fill-opacity=\"1\" /><path clip-path=\"url(#clip630)\" d=\"M585.956 1542.97 L590.84 1542.97 L590.84 1548.85 L585.956 1548.85 L585.956 1542.97 Z\" fill=\"#000000\" fill-rule=\"nonzero\" fill-opacity=\"1\" /><path clip-path=\"url(#clip630)\" d=\"M611.025 1532.44 Q607.692 1532.44 605.771 1534.22 Q603.872 1536 603.872 1539.13 Q603.872 1542.25 605.771 1544.03 Q607.692 1545.82 611.025 1545.82 Q614.359 1545.82 616.28 1544.03 Q618.201 1542.23 618.201 1539.13 Q618.201 1536 616.28 1534.22 Q614.382 1532.44 611.025 1532.44 M606.349 1530.45 Q603.34 1529.7 601.65 1527.64 Q599.984 1525.58 599.984 1522.62 Q599.984 1518.48 602.923 1516.07 Q605.886 1513.66 611.025 1513.66 Q616.187 1513.66 619.127 1516.07 Q622.067 1518.48 622.067 1522.62 Q622.067 1525.58 620.377 1527.64 Q618.71 1529.7 615.724 1530.45 Q619.104 1531.23 620.979 1533.52 Q622.877 1535.82 622.877 1539.13 Q622.877 1544.15 619.798 1546.83 Q616.743 1549.52 611.025 1549.52 Q605.308 1549.52 602.229 1546.83 Q599.173 1544.15 599.173 1539.13 Q599.173 1535.82 601.072 1533.52 Q602.97 1531.23 606.349 1530.45 M604.636 1523.06 Q604.636 1525.75 606.303 1527.25 Q607.993 1528.76 611.025 1528.76 Q614.034 1528.76 615.724 1527.25 Q617.437 1525.75 617.437 1523.06 Q617.437 1520.38 615.724 1518.87 Q614.034 1517.37 611.025 1517.37 Q607.993 1517.37 606.303 1518.87 Q604.636 1520.38 604.636 1523.06 Z\" fill=\"#000000\" fill-rule=\"nonzero\" fill-opacity=\"1\" /><path clip-path=\"url(#clip630)\" d=\"M906.457 1517.37 Q902.846 1517.37 901.017 1520.93 Q899.211 1524.47 899.211 1531.6 Q899.211 1538.71 901.017 1542.27 Q902.846 1545.82 906.457 1545.82 Q910.091 1545.82 911.896 1542.27 Q913.725 1538.71 913.725 1531.6 Q913.725 1524.47 911.896 1520.93 Q910.091 1517.37 906.457 1517.37 M906.457 1513.66 Q912.267 1513.66 915.322 1518.27 Q918.401 1522.85 918.401 1531.6 Q918.401 1540.33 915.322 1544.94 Q912.267 1549.52 906.457 1549.52 Q900.646 1549.52 897.568 1544.94 Q894.512 1540.33 894.512 1531.6 Q894.512 1522.85 897.568 1518.27 Q900.646 1513.66 906.457 1513.66 Z\" fill=\"#000000\" fill-rule=\"nonzero\" fill-opacity=\"1\" /><path clip-path=\"url(#clip630)\" d=\"M926.619 1542.97 L931.503 1542.97 L931.503 1548.85 L926.619 1548.85 L926.619 1542.97 Z\" fill=\"#000000\" fill-rule=\"nonzero\" fill-opacity=\"1\" /><path clip-path=\"url(#clip630)\" d=\"M941.827 1548.13 L941.827 1543.87 Q943.586 1544.7 945.392 1545.14 Q947.197 1545.58 948.933 1545.58 Q953.563 1545.58 955.993 1542.48 Q958.447 1539.36 958.794 1533.01 Q957.452 1535.01 955.392 1536.07 Q953.331 1537.13 950.831 1537.13 Q945.646 1537.13 942.614 1534.01 Q939.605 1530.86 939.605 1525.42 Q939.605 1520.1 942.753 1516.88 Q945.901 1513.66 951.132 1513.66 Q957.128 1513.66 960.276 1518.27 Q963.447 1522.85 963.447 1531.6 Q963.447 1539.77 959.558 1544.66 Q955.692 1549.52 949.142 1549.52 Q947.382 1549.52 945.577 1549.17 Q943.771 1548.82 941.827 1548.13 M951.132 1533.48 Q954.28 1533.48 956.109 1531.32 Q957.961 1529.17 957.961 1525.42 Q957.961 1521.7 956.109 1519.54 Q954.28 1517.37 951.132 1517.37 Q947.984 1517.37 946.132 1519.54 Q944.304 1521.7 944.304 1525.42 Q944.304 1529.17 946.132 1531.32 Q947.984 1533.48 951.132 1533.48 Z\" fill=\"#000000\" fill-rule=\"nonzero\" fill-opacity=\"1\" /><path clip-path=\"url(#clip630)\" d=\"M1236.75 1544.91 L1244.39 1544.91 L1244.39 1518.55 L1236.08 1520.21 L1236.08 1515.95 L1244.34 1514.29 L1249.02 1514.29 L1249.02 1544.91 L1256.66 1544.91 L1256.66 1548.85 L1236.75 1548.85 L1236.75 1544.91 Z\" fill=\"#000000\" fill-rule=\"nonzero\" fill-opacity=\"1\" /><path clip-path=\"url(#clip630)\" d=\"M1266.1 1542.97 L1270.98 1542.97 L1270.98 1548.85 L1266.1 1548.85 L1266.1 1542.97 Z\" fill=\"#000000\" fill-rule=\"nonzero\" fill-opacity=\"1\" /><path clip-path=\"url(#clip630)\" d=\"M1291.17 1517.37 Q1287.56 1517.37 1285.73 1520.93 Q1283.92 1524.47 1283.92 1531.6 Q1283.92 1538.71 1285.73 1542.27 Q1287.56 1545.82 1291.17 1545.82 Q1294.8 1545.82 1296.61 1542.27 Q1298.44 1538.71 1298.44 1531.6 Q1298.44 1524.47 1296.61 1520.93 Q1294.8 1517.37 1291.17 1517.37 M1291.17 1513.66 Q1296.98 1513.66 1300.04 1518.27 Q1303.11 1522.85 1303.11 1531.6 Q1303.11 1540.33 1300.04 1544.94 Q1296.98 1549.52 1291.17 1549.52 Q1285.36 1549.52 1282.28 1544.94 Q1279.23 1540.33 1279.23 1531.6 Q1279.23 1522.85 1282.28 1518.27 Q1285.36 1513.66 1291.17 1513.66 Z\" fill=\"#000000\" fill-rule=\"nonzero\" fill-opacity=\"1\" /><path clip-path=\"url(#clip630)\" d=\"M1577.98 1544.91 L1585.62 1544.91 L1585.62 1518.55 L1577.31 1520.21 L1577.31 1515.95 L1585.57 1514.29 L1590.25 1514.29 L1590.25 1544.91 L1597.89 1544.91 L1597.89 1548.85 L1577.98 1548.85 L1577.98 1544.91 Z\" fill=\"#000000\" fill-rule=\"nonzero\" fill-opacity=\"1\" /><path clip-path=\"url(#clip630)\" d=\"M1607.33 1542.97 L1612.21 1542.97 L1612.21 1548.85 L1607.33 1548.85 L1607.33 1542.97 Z\" fill=\"#000000\" fill-rule=\"nonzero\" fill-opacity=\"1\" /><path clip-path=\"url(#clip630)\" d=\"M1623.21 1544.91 L1630.85 1544.91 L1630.85 1518.55 L1622.54 1520.21 L1622.54 1515.95 L1630.8 1514.29 L1635.48 1514.29 L1635.48 1544.91 L1643.12 1544.91 L1643.12 1548.85 L1623.21 1548.85 L1623.21 1544.91 Z\" fill=\"#000000\" fill-rule=\"nonzero\" fill-opacity=\"1\" /><path clip-path=\"url(#clip630)\" d=\"M1918.78 1544.91 L1926.42 1544.91 L1926.42 1518.55 L1918.11 1520.21 L1918.11 1515.95 L1926.37 1514.29 L1931.05 1514.29 L1931.05 1544.91 L1938.69 1544.91 L1938.69 1548.85 L1918.78 1548.85 L1918.78 1544.91 Z\" fill=\"#000000\" fill-rule=\"nonzero\" fill-opacity=\"1\" /><path clip-path=\"url(#clip630)\" d=\"M1948.13 1542.97 L1953.02 1542.97 L1953.02 1548.85 L1948.13 1548.85 L1948.13 1542.97 Z\" fill=\"#000000\" fill-rule=\"nonzero\" fill-opacity=\"1\" /><path clip-path=\"url(#clip630)\" d=\"M1967.23 1544.91 L1983.55 1544.91 L1983.55 1548.85 L1961.6 1548.85 L1961.6 1544.91 Q1964.27 1542.16 1968.85 1537.53 Q1973.46 1532.88 1974.64 1531.53 Q1976.88 1529.01 1977.76 1527.27 Q1978.66 1525.51 1978.66 1523.82 Q1978.66 1521.07 1976.72 1519.33 Q1974.8 1517.6 1971.7 1517.6 Q1969.5 1517.6 1967.04 1518.36 Q1964.61 1519.13 1961.84 1520.68 L1961.84 1515.95 Q1964.66 1514.82 1967.11 1514.24 Q1969.57 1513.66 1971.6 1513.66 Q1976.97 1513.66 1980.17 1516.35 Q1983.36 1519.03 1983.36 1523.52 Q1983.36 1525.65 1982.55 1527.57 Q1981.77 1529.47 1979.66 1532.07 Q1979.08 1532.74 1975.98 1535.95 Q1972.88 1539.15 1967.23 1544.91 Z\" fill=\"#000000\" fill-rule=\"nonzero\" fill-opacity=\"1\" /><path clip-path=\"url(#clip630)\" d=\"M2258.92 1544.91 L2266.56 1544.91 L2266.56 1518.55 L2258.25 1520.21 L2258.25 1515.95 L2266.51 1514.29 L2271.19 1514.29 L2271.19 1544.91 L2278.83 1544.91 L2278.83 1548.85 L2258.92 1548.85 L2258.92 1544.91 Z\" fill=\"#000000\" fill-rule=\"nonzero\" fill-opacity=\"1\" /><path clip-path=\"url(#clip630)\" d=\"M2288.27 1542.97 L2293.16 1542.97 L2293.16 1548.85 L2288.27 1548.85 L2288.27 1542.97 Z\" fill=\"#000000\" fill-rule=\"nonzero\" fill-opacity=\"1\" /><path clip-path=\"url(#clip630)\" d=\"M2317.51 1530.21 Q2320.87 1530.93 2322.74 1533.2 Q2324.64 1535.47 2324.64 1538.8 Q2324.64 1543.92 2321.12 1546.72 Q2317.6 1549.52 2311.12 1549.52 Q2308.94 1549.52 2306.63 1549.08 Q2304.34 1548.66 2301.88 1547.81 L2301.88 1543.29 Q2303.83 1544.43 2306.14 1545.01 Q2308.46 1545.58 2310.98 1545.58 Q2315.38 1545.58 2317.67 1543.85 Q2319.99 1542.11 2319.99 1538.8 Q2319.99 1535.75 2317.83 1534.03 Q2315.7 1532.3 2311.88 1532.3 L2307.86 1532.3 L2307.86 1528.45 L2312.07 1528.45 Q2315.52 1528.45 2317.35 1527.09 Q2319.18 1525.7 2319.18 1523.11 Q2319.18 1520.45 2317.28 1519.03 Q2315.4 1517.6 2311.88 1517.6 Q2309.96 1517.6 2307.76 1518.01 Q2305.57 1518.43 2302.93 1519.31 L2302.93 1515.14 Q2305.59 1514.4 2307.9 1514.03 Q2310.24 1513.66 2312.3 1513.66 Q2317.63 1513.66 2320.73 1516.09 Q2323.83 1518.5 2323.83 1522.62 Q2323.83 1525.49 2322.19 1527.48 Q2320.54 1529.45 2317.51 1530.21 Z\" fill=\"#000000\" fill-rule=\"nonzero\" fill-opacity=\"1\" /><polyline clip-path=\"url(#clip632)\" style=\"stroke:#000000; stroke-linecap:round; stroke-linejoin:round; stroke-width:2; stroke-opacity:0.1; fill:none\" points=\"186.436,1240.99 2352.76,1240.99 \"/>\n",
       "<polyline clip-path=\"url(#clip632)\" style=\"stroke:#000000; stroke-linecap:round; stroke-linejoin:round; stroke-width:2; stroke-opacity:0.1; fill:none\" points=\"186.436,945.746 2352.76,945.746 \"/>\n",
       "<polyline clip-path=\"url(#clip632)\" style=\"stroke:#000000; stroke-linecap:round; stroke-linejoin:round; stroke-width:2; stroke-opacity:0.1; fill:none\" points=\"186.436,650.506 2352.76,650.506 \"/>\n",
       "<polyline clip-path=\"url(#clip632)\" style=\"stroke:#000000; stroke-linecap:round; stroke-linejoin:round; stroke-width:2; stroke-opacity:0.1; fill:none\" points=\"186.436,355.266 2352.76,355.266 \"/>\n",
       "<polyline clip-path=\"url(#clip632)\" style=\"stroke:#000000; stroke-linecap:round; stroke-linejoin:round; stroke-width:2; stroke-opacity:0.1; fill:none\" points=\"186.436,60.0258 2352.76,60.0258 \"/>\n",
       "<polyline clip-path=\"url(#clip630)\" style=\"stroke:#000000; stroke-linecap:round; stroke-linejoin:round; stroke-width:4; stroke-opacity:1; fill:none\" points=\"186.436,1486.45 186.436,47.2441 \"/>\n",
       "<polyline clip-path=\"url(#clip630)\" style=\"stroke:#000000; stroke-linecap:round; stroke-linejoin:round; stroke-width:4; stroke-opacity:1; fill:none\" points=\"186.436,1240.99 205.334,1240.99 \"/>\n",
       "<polyline clip-path=\"url(#clip630)\" style=\"stroke:#000000; stroke-linecap:round; stroke-linejoin:round; stroke-width:4; stroke-opacity:1; fill:none\" points=\"186.436,945.746 205.334,945.746 \"/>\n",
       "<polyline clip-path=\"url(#clip630)\" style=\"stroke:#000000; stroke-linecap:round; stroke-linejoin:round; stroke-width:4; stroke-opacity:1; fill:none\" points=\"186.436,650.506 205.334,650.506 \"/>\n",
       "<polyline clip-path=\"url(#clip630)\" style=\"stroke:#000000; stroke-linecap:round; stroke-linejoin:round; stroke-width:4; stroke-opacity:1; fill:none\" points=\"186.436,355.266 205.334,355.266 \"/>\n",
       "<polyline clip-path=\"url(#clip630)\" style=\"stroke:#000000; stroke-linecap:round; stroke-linejoin:round; stroke-width:4; stroke-opacity:1; fill:none\" points=\"186.436,60.0258 205.334,60.0258 \"/>\n",
       "<path clip-path=\"url(#clip630)\" d=\"M62.9365 1226.78 Q59.3254 1226.78 57.4967 1230.35 Q55.6912 1233.89 55.6912 1241.02 Q55.6912 1248.13 57.4967 1251.69 Q59.3254 1255.23 62.9365 1255.23 Q66.5707 1255.23 68.3763 1251.69 Q70.205 1248.13 70.205 1241.02 Q70.205 1233.89 68.3763 1230.35 Q66.5707 1226.78 62.9365 1226.78 M62.9365 1223.08 Q68.7467 1223.08 71.8022 1227.69 Q74.8809 1232.27 74.8809 1241.02 Q74.8809 1249.75 71.8022 1254.35 Q68.7467 1258.94 62.9365 1258.94 Q57.1264 1258.94 54.0477 1254.35 Q50.9921 1249.75 50.9921 1241.02 Q50.9921 1232.27 54.0477 1227.69 Q57.1264 1223.08 62.9365 1223.08 Z\" fill=\"#000000\" fill-rule=\"nonzero\" fill-opacity=\"1\" /><path clip-path=\"url(#clip630)\" d=\"M83.0984 1252.39 L87.9827 1252.39 L87.9827 1258.27 L83.0984 1258.27 L83.0984 1252.39 Z\" fill=\"#000000\" fill-rule=\"nonzero\" fill-opacity=\"1\" /><path clip-path=\"url(#clip630)\" d=\"M98.3067 1257.55 L98.3067 1253.29 Q100.066 1254.12 101.871 1254.56 Q103.677 1255 105.413 1255 Q110.043 1255 112.473 1251.9 Q114.927 1248.78 115.274 1242.43 Q113.932 1244.42 111.871 1245.49 Q109.811 1246.55 107.311 1246.55 Q102.126 1246.55 99.0937 1243.43 Q96.0845 1240.28 96.0845 1234.84 Q96.0845 1229.52 99.2326 1226.3 Q102.381 1223.08 107.612 1223.08 Q113.608 1223.08 116.756 1227.69 Q119.927 1232.27 119.927 1241.02 Q119.927 1249.19 116.038 1254.08 Q112.172 1258.94 105.621 1258.94 Q103.862 1258.94 102.057 1258.59 Q100.251 1258.24 98.3067 1257.55 M107.612 1242.9 Q110.76 1242.9 112.589 1240.74 Q114.441 1238.59 114.441 1234.84 Q114.441 1231.11 112.589 1228.96 Q110.76 1226.78 107.612 1226.78 Q104.464 1226.78 102.612 1228.96 Q100.784 1231.11 100.784 1234.84 Q100.784 1238.59 102.612 1240.74 Q104.464 1242.9 107.612 1242.9 Z\" fill=\"#000000\" fill-rule=\"nonzero\" fill-opacity=\"1\" /><path clip-path=\"url(#clip630)\" d=\"M138.908 1239.12 Q135.76 1239.12 133.908 1241.28 Q132.08 1243.43 132.08 1247.18 Q132.08 1250.9 133.908 1253.08 Q135.76 1255.23 138.908 1255.23 Q142.056 1255.23 143.885 1253.08 Q145.737 1250.9 145.737 1247.18 Q145.737 1243.43 143.885 1241.28 Q142.056 1239.12 138.908 1239.12 M148.191 1224.47 L148.191 1228.73 Q146.431 1227.9 144.626 1227.46 Q142.843 1227.02 141.084 1227.02 Q136.455 1227.02 134.001 1230.14 Q131.57 1233.27 131.223 1239.59 Q132.589 1237.57 134.649 1236.51 Q136.709 1235.42 139.186 1235.42 Q144.394 1235.42 147.404 1238.59 Q150.436 1241.74 150.436 1247.18 Q150.436 1252.5 147.288 1255.72 Q144.14 1258.94 138.908 1258.94 Q132.913 1258.94 129.742 1254.35 Q126.57 1249.75 126.57 1241.02 Q126.57 1232.83 130.459 1227.97 Q134.348 1223.08 140.899 1223.08 Q142.658 1223.08 144.441 1223.43 Q146.246 1223.78 148.191 1224.47 Z\" fill=\"#000000\" fill-rule=\"nonzero\" fill-opacity=\"1\" /><path clip-path=\"url(#clip630)\" d=\"M63.1911 931.544 Q59.58 931.544 57.7513 935.109 Q55.9458 938.651 55.9458 945.78 Q55.9458 952.887 57.7513 956.452 Q59.58 959.993 63.1911 959.993 Q66.8254 959.993 68.6309 956.452 Q70.4596 952.887 70.4596 945.78 Q70.4596 938.651 68.6309 935.109 Q66.8254 931.544 63.1911 931.544 M63.1911 927.841 Q69.0013 927.841 72.0568 932.447 Q75.1355 937.031 75.1355 945.78 Q75.1355 954.507 72.0568 959.114 Q69.0013 963.697 63.1911 963.697 Q57.381 963.697 54.3023 959.114 Q51.2468 954.507 51.2468 945.78 Q51.2468 937.031 54.3023 932.447 Q57.381 927.841 63.1911 927.841 Z\" fill=\"#000000\" fill-rule=\"nonzero\" fill-opacity=\"1\" /><path clip-path=\"url(#clip630)\" d=\"M83.3531 957.146 L88.2373 957.146 L88.2373 963.026 L83.3531 963.026 L83.3531 957.146 Z\" fill=\"#000000\" fill-rule=\"nonzero\" fill-opacity=\"1\" /><path clip-path=\"url(#clip630)\" d=\"M98.5613 962.308 L98.5613 958.049 Q100.321 958.882 102.126 959.322 Q103.932 959.762 105.668 959.762 Q110.297 959.762 112.728 956.66 Q115.182 953.535 115.529 947.193 Q114.186 949.183 112.126 950.248 Q110.066 951.313 107.566 951.313 Q102.381 951.313 99.3483 948.188 Q96.3391 945.04 96.3391 939.6 Q96.3391 934.276 99.4872 931.058 Q102.635 927.841 107.867 927.841 Q113.862 927.841 117.01 932.447 Q120.182 937.031 120.182 945.78 Q120.182 953.952 116.293 958.836 Q112.427 963.697 105.876 963.697 Q104.117 963.697 102.311 963.35 Q100.506 963.003 98.5613 962.308 M107.867 947.655 Q111.015 947.655 112.844 945.503 Q114.695 943.35 114.695 939.6 Q114.695 935.873 112.844 933.72 Q111.015 931.544 107.867 931.544 Q104.719 931.544 102.867 933.72 Q101.038 935.873 101.038 939.6 Q101.038 943.35 102.867 945.503 Q104.719 947.655 107.867 947.655 Z\" fill=\"#000000\" fill-rule=\"nonzero\" fill-opacity=\"1\" /><path clip-path=\"url(#clip630)\" d=\"M138.584 946.614 Q135.251 946.614 133.33 948.396 Q131.432 950.179 131.432 953.304 Q131.432 956.429 133.33 958.211 Q135.251 959.993 138.584 959.993 Q141.918 959.993 143.839 958.211 Q145.76 956.405 145.76 953.304 Q145.76 950.179 143.839 948.396 Q141.941 946.614 138.584 946.614 M133.908 944.623 Q130.899 943.882 129.209 941.822 Q127.543 939.762 127.543 936.799 Q127.543 932.656 130.482 930.248 Q133.445 927.841 138.584 927.841 Q143.746 927.841 146.686 930.248 Q149.626 932.656 149.626 936.799 Q149.626 939.762 147.936 941.822 Q146.269 943.882 143.283 944.623 Q146.663 945.41 148.538 947.702 Q150.436 949.993 150.436 953.304 Q150.436 958.327 147.357 961.012 Q144.302 963.697 138.584 963.697 Q132.867 963.697 129.788 961.012 Q126.732 958.327 126.732 953.304 Q126.732 949.993 128.631 947.702 Q130.529 945.41 133.908 944.623 M132.195 937.239 Q132.195 939.924 133.862 941.429 Q135.552 942.933 138.584 942.933 Q141.593 942.933 143.283 941.429 Q144.996 939.924 144.996 937.239 Q144.996 934.554 143.283 933.049 Q141.593 931.544 138.584 931.544 Q135.552 931.544 133.862 933.049 Q132.195 934.554 132.195 937.239 Z\" fill=\"#000000\" fill-rule=\"nonzero\" fill-opacity=\"1\" /><path clip-path=\"url(#clip630)\" d=\"M53.9088 663.851 L61.5476 663.851 L61.5476 637.485 L53.2375 639.152 L53.2375 634.892 L61.5013 633.226 L66.1772 633.226 L66.1772 663.851 L73.8161 663.851 L73.8161 667.786 L53.9088 667.786 L53.9088 663.851 Z\" fill=\"#000000\" fill-rule=\"nonzero\" fill-opacity=\"1\" /><path clip-path=\"url(#clip630)\" d=\"M83.2605 661.906 L88.1447 661.906 L88.1447 667.786 L83.2605 667.786 L83.2605 661.906 Z\" fill=\"#000000\" fill-rule=\"nonzero\" fill-opacity=\"1\" /><path clip-path=\"url(#clip630)\" d=\"M108.33 636.304 Q104.719 636.304 102.89 639.869 Q101.084 643.411 101.084 650.54 Q101.084 657.647 102.89 661.212 Q104.719 664.753 108.33 664.753 Q111.964 664.753 113.77 661.212 Q115.598 657.647 115.598 650.54 Q115.598 643.411 113.77 639.869 Q111.964 636.304 108.33 636.304 M108.33 632.601 Q114.14 632.601 117.195 637.207 Q120.274 641.791 120.274 650.54 Q120.274 659.267 117.195 663.874 Q114.14 668.457 108.33 668.457 Q102.52 668.457 99.4409 663.874 Q96.3854 659.267 96.3854 650.54 Q96.3854 641.791 99.4409 637.207 Q102.52 632.601 108.33 632.601 Z\" fill=\"#000000\" fill-rule=\"nonzero\" fill-opacity=\"1\" /><path clip-path=\"url(#clip630)\" d=\"M138.492 636.304 Q134.881 636.304 133.052 639.869 Q131.246 643.411 131.246 650.54 Q131.246 657.647 133.052 661.212 Q134.881 664.753 138.492 664.753 Q142.126 664.753 143.931 661.212 Q145.76 657.647 145.76 650.54 Q145.76 643.411 143.931 639.869 Q142.126 636.304 138.492 636.304 M138.492 632.601 Q144.302 632.601 147.357 637.207 Q150.436 641.791 150.436 650.54 Q150.436 659.267 147.357 663.874 Q144.302 668.457 138.492 668.457 Q132.682 668.457 129.603 663.874 Q126.547 659.267 126.547 650.54 Q126.547 641.791 129.603 637.207 Q132.682 632.601 138.492 632.601 Z\" fill=\"#000000\" fill-rule=\"nonzero\" fill-opacity=\"1\" /><path clip-path=\"url(#clip630)\" d=\"M55.506 368.611 L63.1448 368.611 L63.1448 342.245 L54.8347 343.912 L54.8347 339.652 L63.0985 337.986 L67.7744 337.986 L67.7744 368.611 L75.4133 368.611 L75.4133 372.546 L55.506 372.546 L55.506 368.611 Z\" fill=\"#000000\" fill-rule=\"nonzero\" fill-opacity=\"1\" /><path clip-path=\"url(#clip630)\" d=\"M84.8577 366.666 L89.7419 366.666 L89.7419 372.546 L84.8577 372.546 L84.8577 366.666 Z\" fill=\"#000000\" fill-rule=\"nonzero\" fill-opacity=\"1\" /><path clip-path=\"url(#clip630)\" d=\"M109.927 341.064 Q106.316 341.064 104.487 344.629 Q102.682 348.171 102.682 355.3 Q102.682 362.407 104.487 365.972 Q106.316 369.513 109.927 369.513 Q113.561 369.513 115.367 365.972 Q117.195 362.407 117.195 355.3 Q117.195 348.171 115.367 344.629 Q113.561 341.064 109.927 341.064 M109.927 337.361 Q115.737 337.361 118.793 341.967 Q121.871 346.551 121.871 355.3 Q121.871 364.027 118.793 368.634 Q115.737 373.217 109.927 373.217 Q104.117 373.217 101.038 368.634 Q97.9826 364.027 97.9826 355.3 Q97.9826 346.551 101.038 341.967 Q104.117 337.361 109.927 337.361 Z\" fill=\"#000000\" fill-rule=\"nonzero\" fill-opacity=\"1\" /><path clip-path=\"url(#clip630)\" d=\"M134.117 368.611 L150.436 368.611 L150.436 372.546 L128.492 372.546 L128.492 368.611 Q131.154 365.856 135.737 361.226 Q140.343 356.574 141.524 355.231 Q143.769 352.708 144.649 350.972 Q145.552 349.213 145.552 347.523 Q145.552 344.768 143.607 343.032 Q141.686 341.296 138.584 341.296 Q136.385 341.296 133.931 342.06 Q131.501 342.824 128.723 344.375 L128.723 339.652 Q131.547 338.518 134.001 337.939 Q136.455 337.361 138.492 337.361 Q143.862 337.361 147.056 340.046 Q150.251 342.731 150.251 347.222 Q150.251 349.351 149.441 351.273 Q148.654 353.171 146.547 355.763 Q145.968 356.435 142.867 359.652 Q139.765 362.847 134.117 368.611 Z\" fill=\"#000000\" fill-rule=\"nonzero\" fill-opacity=\"1\" /><path clip-path=\"url(#clip630)\" d=\"M53.4227 73.3706 L61.0615 73.3706 L61.0615 47.005 L52.7514 48.6717 L52.7514 44.4124 L61.0152 42.7458 L65.6911 42.7458 L65.6911 73.3706 L73.33 73.3706 L73.33 77.3058 L53.4227 77.3058 L53.4227 73.3706 Z\" fill=\"#000000\" fill-rule=\"nonzero\" fill-opacity=\"1\" /><path clip-path=\"url(#clip630)\" d=\"M82.7744 71.4262 L87.6586 71.4262 L87.6586 77.3058 L82.7744 77.3058 L82.7744 71.4262 Z\" fill=\"#000000\" fill-rule=\"nonzero\" fill-opacity=\"1\" /><path clip-path=\"url(#clip630)\" d=\"M107.844 45.8245 Q104.233 45.8245 102.404 49.3892 Q100.598 52.9309 100.598 60.0605 Q100.598 67.1669 102.404 70.7317 Q104.233 74.2734 107.844 74.2734 Q111.478 74.2734 113.283 70.7317 Q115.112 67.1669 115.112 60.0605 Q115.112 52.9309 113.283 49.3892 Q111.478 45.8245 107.844 45.8245 M107.844 42.1208 Q113.654 42.1208 116.709 46.7272 Q119.788 51.3105 119.788 60.0605 Q119.788 68.7873 116.709 73.3937 Q113.654 77.9771 107.844 77.9771 Q102.034 77.9771 98.9548 73.3937 Q95.8993 68.7873 95.8993 60.0605 Q95.8993 51.3105 98.9548 46.7272 Q102.034 42.1208 107.844 42.1208 Z\" fill=\"#000000\" fill-rule=\"nonzero\" fill-opacity=\"1\" /><path clip-path=\"url(#clip630)\" d=\"M140.853 46.8198 L129.047 65.2688 L140.853 65.2688 L140.853 46.8198 M139.626 42.7458 L145.506 42.7458 L145.506 65.2688 L150.436 65.2688 L150.436 69.1577 L145.506 69.1577 L145.506 77.3058 L140.853 77.3058 L140.853 69.1577 L125.251 69.1577 L125.251 64.6438 L139.626 42.7458 Z\" fill=\"#000000\" fill-rule=\"nonzero\" fill-opacity=\"1\" /><polyline clip-path=\"url(#clip632)\" style=\"stroke:#009af9; stroke-linecap:round; stroke-linejoin:round; stroke-width:4; stroke-opacity:1; fill:none\" points=\"247.747,1445.72 258.069,1429.14 268.39,1412.87 278.712,1396.91 289.034,1381.25 299.356,1365.88 309.677,1350.79 319.999,1335.99 330.321,1321.46 340.642,1307.19 350.964,1293.19 361.286,1279.45 371.607,1265.96 381.929,1252.71 392.251,1239.71 402.573,1226.94 412.894,1214.4 423.216,1202.09 433.538,1190 443.859,1178.12 454.181,1166.46 464.503,1155 474.825,1143.75 485.146,1132.7 495.468,1121.84 505.79,1111.17 516.111,1100.69 526.433,1090.38 536.755,1080.26 547.076,1070.31 557.398,1060.54 567.72,1050.92 578.042,1041.48 588.363,1032.19 598.685,1023.06 609.007,1014.08 619.328,1005.25 629.65,996.571 639.972,988.033 650.294,979.636 660.615,971.377 670.937,963.252 681.259,955.259 691.58,947.396 701.902,939.659 712.224,932.045 722.545,924.553 732.867,917.179 743.189,909.921 753.511,902.777 763.832,895.744 774.154,888.821 784.476,882.004 794.797,875.292 805.119,868.682 815.441,862.173 825.763,855.762 836.084,849.447 846.406,843.227 856.728,837.099 867.049,831.062 877.371,825.113 887.693,819.252 898.015,813.476 908.336,807.783 918.658,802.172 928.98,796.642 939.301,791.19 949.623,785.816 959.945,780.517 970.266,775.292 980.588,770.14 990.91,765.059 1001.23,760.049 1011.55,755.107 1021.88,750.232 1032.2,745.423 1042.52,740.679 1052.84,735.999 1063.16,731.381 1073.48,726.825 1083.81,722.328 1094.13,717.89 1104.45,713.51 1114.77,709.188 1125.09,704.92 1135.41,700.708 1145.74,696.549 1156.06,692.443 1166.38,688.389 1176.7,684.386 1187.02,680.433 1197.34,676.529 1207.67,672.673 1217.99,668.865 1228.31,665.103 1238.63,661.387 1248.95,657.716 1259.27,654.089 1269.6,650.506 1279.92,646.965 1290.24,643.466 1300.56,640.009 1310.88,636.592 1321.2,633.215 1331.53,629.877 1341.85,626.578 1352.17,623.316 1362.49,620.092 1372.81,616.905 1383.13,613.754 1393.46,610.638 1403.78,607.557 1414.1,604.511 1424.42,601.498 1434.74,598.519 1445.06,595.572 1455.39,592.658 1465.71,589.775 1476.03,586.924 1486.35,584.103 1496.67,581.313 1507,578.552 1517.32,575.821 1527.64,573.118 1537.96,570.444 1548.28,567.799 1558.6,565.18 1568.93,562.589 1579.25,560.025 1589.57,557.487 1599.89,554.975 1610.21,552.489 1620.53,550.028 1630.86,547.592 1641.18,545.18 1651.5,542.792 1661.82,540.429 1672.14,538.088 1682.46,535.771 1692.79,533.477 1703.11,531.205 1713.43,528.955 1723.75,526.727 1734.07,524.521 1744.39,522.336 1754.72,520.172 1765.04,518.029 1775.36,515.906 1785.68,513.803 1796,511.72 1806.32,509.656 1816.65,507.612 1826.97,505.587 1837.29,503.58 1847.61,501.592 1857.93,499.623 1868.25,497.671 1878.58,495.737 1888.9,493.821 1899.22,491.922 1909.54,490.041 1919.86,488.176 1930.19,486.328 1940.51,484.496 1950.83,482.681 1961.15,480.882 1971.47,479.098 1981.79,477.331 1992.12,475.578 2002.44,473.841 2012.76,472.119 2023.08,470.412 2033.4,468.72 2043.72,467.042 2054.05,465.379 2064.37,463.729 2074.69,462.094 2085.01,460.472 2095.33,458.865 2105.65,457.27 2115.98,455.689 2126.3,454.121 2136.62,452.567 2146.94,451.025 2157.26,449.495 2167.58,447.979 2177.91,446.475 2188.23,444.983 2198.55,443.503 2208.87,442.035 2219.19,440.579 2229.51,439.135 2239.84,437.702 2250.16,436.281 2260.48,434.871 2270.8,433.472 2281.12,432.085 2291.44,430.708 \"/>\n",
       "<polyline clip-path=\"url(#clip632)\" style=\"stroke:#e26f46; stroke-linecap:round; stroke-linejoin:round; stroke-width:4; stroke-opacity:1; fill:none\" points=\"247.747,1428.7 258.069,1419.16 268.39,1409.66 278.712,1400.2 289.034,1390.79 299.356,1381.42 309.677,1372.09 319.999,1362.81 330.321,1353.57 340.642,1344.37 350.964,1335.21 361.286,1326.09 371.607,1317.01 381.929,1307.97 392.251,1298.98 402.573,1290.02 412.894,1281.1 423.216,1272.22 433.538,1263.38 443.859,1254.57 454.181,1245.81 464.503,1237.08 474.825,1228.39 485.146,1219.73 495.468,1211.11 505.79,1202.53 516.111,1193.99 526.433,1185.48 536.755,1177 547.076,1168.56 557.398,1160.15 567.72,1151.78 578.042,1143.45 588.363,1135.14 598.685,1126.87 609.007,1118.64 619.328,1110.44 629.65,1102.27 639.972,1094.13 650.294,1086.02 660.615,1077.95 670.937,1069.91 681.259,1061.9 691.58,1053.92 701.902,1045.97 712.224,1038.05 722.545,1030.17 732.867,1022.31 743.189,1014.48 753.511,1006.69 763.832,998.922 774.154,991.184 784.476,983.476 794.797,975.797 805.119,968.147 815.441,960.525 825.763,952.931 836.084,945.365 846.406,937.828 856.728,930.318 867.049,922.835 877.371,915.38 887.693,907.952 898.015,900.551 908.336,893.176 918.658,885.828 928.98,878.506 939.301,871.211 949.623,863.941 959.945,856.697 970.266,849.478 980.588,842.285 990.91,835.117 1001.23,827.975 1011.55,820.857 1021.88,813.763 1032.2,806.694 1042.52,799.65 1052.84,792.63 1063.16,785.633 1073.48,778.661 1083.81,771.712 1094.13,764.787 1104.45,757.885 1114.77,751.006 1125.09,744.15 1135.41,737.318 1145.74,730.507 1156.06,723.72 1166.38,716.955 1176.7,710.212 1187.02,703.491 1197.34,696.793 1207.67,690.116 1217.99,683.461 1228.31,676.827 1238.63,670.215 1248.95,663.624 1259.27,657.054 1269.6,650.506 1279.92,643.978 1290.24,637.471 1300.56,630.984 1310.88,624.518 1321.2,618.073 1331.53,611.647 1341.85,605.242 1352.17,598.857 1362.49,592.491 1372.81,586.145 1383.13,579.819 1393.46,573.512 1403.78,567.225 1414.1,560.957 1424.42,554.708 1434.74,548.478 1445.06,542.267 1455.39,536.074 1465.71,529.901 1476.03,523.745 1486.35,517.609 1496.67,511.49 1507,505.39 1517.32,499.308 1527.64,493.244 1537.96,487.198 1548.28,481.169 1558.6,475.159 1568.93,469.165 1579.25,463.19 1589.57,457.231 1599.89,451.29 1610.21,445.366 1620.53,439.46 1630.86,433.57 1641.18,427.697 1651.5,421.841 1661.82,416.001 1672.14,410.178 1682.46,404.372 1692.79,398.582 1703.11,392.808 1713.43,387.05 1723.75,381.309 1734.07,375.584 1744.39,369.874 1754.72,364.18 1765.04,358.503 1775.36,352.841 1785.68,347.194 1796,341.563 1806.32,335.947 1816.65,330.347 1826.97,324.762 1837.29,319.192 1847.61,313.637 1857.93,308.097 1868.25,302.572 1878.58,297.062 1888.9,291.567 1899.22,286.086 1909.54,280.62 1919.86,275.169 1930.19,269.732 1940.51,264.309 1950.83,258.901 1961.15,253.507 1971.47,248.126 1981.79,242.76 1992.12,237.409 2002.44,232.07 2012.76,226.746 2023.08,221.436 2033.4,216.139 2043.72,210.856 2054.05,205.586 2064.37,200.33 2074.69,195.088 2085.01,189.859 2095.33,184.643 2105.65,179.44 2115.98,174.25 2126.3,169.074 2136.62,163.91 2146.94,158.76 2157.26,153.622 2167.58,148.497 2177.91,143.385 2188.23,138.286 2198.55,133.199 2208.87,128.125 2219.19,123.063 2229.51,118.014 2239.84,112.977 2250.16,107.952 2260.48,102.94 2270.8,97.94 2281.12,92.9521 2291.44,87.9763 \"/>\n",
       "<polyline clip-path=\"url(#clip632)\" style=\"stroke:#3da44d; stroke-linecap:round; stroke-linejoin:round; stroke-width:4; stroke-opacity:1; fill:none\" points=\"247.747,1122.22 258.069,1116.39 268.39,1110.59 278.712,1104.82 289.034,1099.08 299.356,1093.36 309.677,1087.67 319.999,1082.01 330.321,1076.37 340.642,1070.76 350.964,1065.18 361.286,1059.62 371.607,1054.09 381.929,1048.58 392.251,1043.1 402.573,1037.64 412.894,1032.21 423.216,1026.8 433.538,1021.42 443.859,1016.06 454.181,1010.72 464.503,1005.41 474.825,1000.12 485.146,994.859 495.468,989.617 505.79,984.398 516.111,979.202 526.433,974.028 536.755,968.877 547.076,963.748 557.398,958.64 567.72,953.555 578.042,948.491 588.363,943.448 598.685,938.426 609.007,933.426 619.328,928.446 629.65,923.487 639.972,918.549 650.294,913.631 660.615,908.733 670.937,903.855 681.259,898.997 691.58,894.159 701.902,889.34 712.224,884.541 722.545,879.761 732.867,875 743.189,870.258 753.511,865.535 763.832,860.83 774.154,856.144 784.476,851.476 794.797,846.827 805.119,842.195 815.441,837.582 825.763,832.986 836.084,828.408 846.406,823.848 856.728,819.305 867.049,814.779 877.371,810.27 887.693,805.778 898.015,801.304 908.336,796.846 918.658,792.404 928.98,787.98 939.301,783.571 949.623,779.179 959.945,774.803 970.266,770.443 980.588,766.099 990.91,761.771 1001.23,757.459 1011.55,753.162 1021.88,748.881 1032.2,744.615 1042.52,740.364 1052.84,736.128 1063.16,731.908 1073.48,727.702 1083.81,723.512 1094.13,719.336 1104.45,715.174 1114.77,711.028 1125.09,706.895 1135.41,702.777 1145.74,698.674 1156.06,694.584 1166.38,690.509 1176.7,686.447 1187.02,682.399 1197.34,678.365 1207.67,674.345 1217.99,670.338 1228.31,666.345 1238.63,662.365 1248.95,658.399 1259.27,654.446 1269.6,650.506 1279.92,646.579 1290.24,642.665 1300.56,638.764 1310.88,634.875 1321.2,631 1331.53,627.137 1341.85,623.286 1352.17,619.449 1362.49,615.623 1372.81,611.81 1383.13,608.009 1393.46,604.22 1403.78,600.444 1414.1,596.679 1424.42,592.926 1434.74,589.186 1445.06,585.456 1455.39,581.739 1465.71,578.034 1476.03,574.339 1486.35,570.657 1496.67,566.986 1507,563.326 1517.32,559.678 1527.64,556.04 1537.96,552.414 1548.28,548.799 1558.6,545.195 1568.93,541.603 1579.25,538.02 1589.57,534.449 1599.89,530.889 1610.21,527.339 1620.53,523.8 1630.86,520.271 1641.18,516.753 1651.5,513.246 1661.82,509.749 1672.14,506.262 1682.46,502.785 1692.79,499.319 1703.11,495.863 1713.43,492.417 1723.75,488.98 1734.07,485.554 1744.39,482.138 1754.72,478.732 1765.04,475.336 1775.36,471.949 1785.68,468.572 1796,465.204 1806.32,461.847 1816.65,458.498 1826.97,455.16 1837.29,451.83 1847.61,448.511 1857.93,445.2 1868.25,441.899 1878.58,438.607 1888.9,435.324 1899.22,432.05 1909.54,428.785 1919.86,425.53 1930.19,422.283 1940.51,419.045 1950.83,415.816 1961.15,412.596 1971.47,409.385 1981.79,406.182 1992.12,402.989 2002.44,399.803 2012.76,396.627 2023.08,393.459 2033.4,390.299 2043.72,387.148 2054.05,384.006 2064.37,380.871 2074.69,377.745 2085.01,374.628 2095.33,371.518 2105.65,368.417 2115.98,365.324 2126.3,362.239 2136.62,359.163 2146.94,356.094 2157.26,353.033 2167.58,349.98 2177.91,346.935 2188.23,343.898 2198.55,340.869 2208.87,337.848 2219.19,334.834 2229.51,331.828 2239.84,328.83 2250.16,325.839 2260.48,322.856 2270.8,319.88 2281.12,316.913 2291.44,313.952 \"/>\n",
       "<path clip-path=\"url(#clip630)\" d=\"M258.647 302.578 L528.288 302.578 L528.288 95.2176 L258.647 95.2176  Z\" fill=\"#ffffff\" fill-rule=\"evenodd\" fill-opacity=\"1\"/>\n",
       "<polyline clip-path=\"url(#clip630)\" style=\"stroke:#000000; stroke-linecap:round; stroke-linejoin:round; stroke-width:4; stroke-opacity:1; fill:none\" points=\"258.647,302.578 528.288,302.578 528.288,95.2176 258.647,95.2176 258.647,302.578 \"/>\n",
       "<polyline clip-path=\"url(#clip630)\" style=\"stroke:#009af9; stroke-linecap:round; stroke-linejoin:round; stroke-width:4; stroke-opacity:1; fill:none\" points=\"282.717,147.058 427.138,147.058 \"/>\n",
       "<path clip-path=\"url(#clip630)\" d=\"M465.051 166.745 Q463.245 171.375 461.532 172.787 Q459.82 174.199 456.949 174.199 L453.546 174.199 L453.546 170.634 L456.046 170.634 Q457.806 170.634 458.778 169.8 Q459.75 168.967 460.931 165.865 L461.695 163.921 L451.208 138.412 L455.722 138.412 L463.824 158.689 L471.926 138.412 L476.44 138.412 L465.051 166.745 Z\" fill=\"#000000\" fill-rule=\"nonzero\" fill-opacity=\"1\" /><path clip-path=\"url(#clip630)\" d=\"M483.731 160.402 L491.37 160.402 L491.37 134.037 L483.06 135.703 L483.06 131.444 L491.324 129.778 L496 129.778 L496 160.402 L503.639 160.402 L503.639 164.338 L483.731 164.338 L483.731 160.402 Z\" fill=\"#000000\" fill-rule=\"nonzero\" fill-opacity=\"1\" /><polyline clip-path=\"url(#clip630)\" style=\"stroke:#e26f46; stroke-linecap:round; stroke-linejoin:round; stroke-width:4; stroke-opacity:1; fill:none\" points=\"282.717,198.898 427.138,198.898 \"/>\n",
       "<path clip-path=\"url(#clip630)\" d=\"M465.051 218.585 Q463.245 223.215 461.532 224.627 Q459.82 226.039 456.949 226.039 L453.546 226.039 L453.546 222.474 L456.046 222.474 Q457.806 222.474 458.778 221.64 Q459.75 220.807 460.931 217.705 L461.695 215.761 L451.208 190.252 L455.722 190.252 L463.824 210.529 L471.926 190.252 L476.44 190.252 L465.051 218.585 Z\" fill=\"#000000\" fill-rule=\"nonzero\" fill-opacity=\"1\" /><path clip-path=\"url(#clip630)\" d=\"M486.949 212.242 L503.268 212.242 L503.268 216.178 L481.324 216.178 L481.324 212.242 Q483.986 209.488 488.569 204.858 Q493.176 200.205 494.356 198.863 Q496.602 196.34 497.481 194.604 Q498.384 192.844 498.384 191.155 Q498.384 188.4 496.44 186.664 Q494.518 184.928 491.417 184.928 Q489.218 184.928 486.764 185.692 Q484.333 186.455 481.556 188.006 L481.556 183.284 Q484.38 182.15 486.833 181.571 Q489.287 180.993 491.324 180.993 Q496.694 180.993 499.889 183.678 Q503.083 186.363 503.083 190.854 Q503.083 192.983 502.273 194.905 Q501.486 196.803 499.38 199.395 Q498.801 200.067 495.699 203.284 Q492.597 206.479 486.949 212.242 Z\" fill=\"#000000\" fill-rule=\"nonzero\" fill-opacity=\"1\" /><polyline clip-path=\"url(#clip630)\" style=\"stroke:#3da44d; stroke-linecap:round; stroke-linejoin:round; stroke-width:4; stroke-opacity:1; fill:none\" points=\"282.717,250.738 427.138,250.738 \"/>\n",
       "<path clip-path=\"url(#clip630)\" d=\"M465.051 270.425 Q463.245 275.055 461.532 276.467 Q459.82 277.879 456.949 277.879 L453.546 277.879 L453.546 274.314 L456.046 274.314 Q457.806 274.314 458.778 273.48 Q459.75 272.647 460.931 269.545 L461.695 267.601 L451.208 242.092 L455.722 242.092 L463.824 262.369 L471.926 242.092 L476.44 242.092 L465.051 270.425 Z\" fill=\"#000000\" fill-rule=\"nonzero\" fill-opacity=\"1\" /><path clip-path=\"url(#clip630)\" d=\"M497.088 249.383 Q500.444 250.101 502.319 252.369 Q504.217 254.638 504.217 257.971 Q504.217 263.087 500.699 265.888 Q497.18 268.689 490.699 268.689 Q488.523 268.689 486.208 268.249 Q483.917 267.832 481.463 266.976 L481.463 262.462 Q483.407 263.596 485.722 264.175 Q488.037 264.754 490.56 264.754 Q494.958 264.754 497.25 263.018 Q499.565 261.281 499.565 257.971 Q499.565 254.916 497.412 253.203 Q495.282 251.467 491.463 251.467 L487.435 251.467 L487.435 247.624 L491.648 247.624 Q495.097 247.624 496.926 246.258 Q498.755 244.87 498.755 242.277 Q498.755 239.615 496.856 238.203 Q494.981 236.768 491.463 236.768 Q489.542 236.768 487.343 237.184 Q485.143 237.601 482.505 238.481 L482.505 234.314 Q485.167 233.573 487.481 233.203 Q489.819 232.833 491.88 232.833 Q497.204 232.833 500.305 235.263 Q503.407 237.67 503.407 241.791 Q503.407 244.661 501.764 246.652 Q500.12 248.62 497.088 249.383 Z\" fill=\"#000000\" fill-rule=\"nonzero\" fill-opacity=\"1\" /></svg>\n"
      ],
      "text/html": [
       "<?xml version=\"1.0\" encoding=\"utf-8\"?>\n",
       "<svg xmlns=\"http://www.w3.org/2000/svg\" xmlns:xlink=\"http://www.w3.org/1999/xlink\" width=\"600\" height=\"400\" viewBox=\"0 0 2400 1600\">\n",
       "<defs>\n",
       "  <clipPath id=\"clip680\">\n",
       "    <rect x=\"0\" y=\"0\" width=\"2400\" height=\"1600\"/>\n",
       "  </clipPath>\n",
       "</defs>\n",
       "<path clip-path=\"url(#clip680)\" d=\"M0 1600 L2400 1600 L2400 0 L0 0  Z\" fill=\"#ffffff\" fill-rule=\"evenodd\" fill-opacity=\"1\"/>\n",
       "<defs>\n",
       "  <clipPath id=\"clip681\">\n",
       "    <rect x=\"480\" y=\"0\" width=\"1681\" height=\"1600\"/>\n",
       "  </clipPath>\n",
       "</defs>\n",
       "<path clip-path=\"url(#clip680)\" d=\"M186.436 1486.45 L2352.76 1486.45 L2352.76 47.2441 L186.436 47.2441  Z\" fill=\"#ffffff\" fill-rule=\"evenodd\" fill-opacity=\"1\"/>\n",
       "<defs>\n",
       "  <clipPath id=\"clip682\">\n",
       "    <rect x=\"186\" y=\"47\" width=\"2167\" height=\"1440\"/>\n",
       "  </clipPath>\n",
       "</defs>\n",
       "<polyline clip-path=\"url(#clip682)\" style=\"stroke:#000000; stroke-linecap:round; stroke-linejoin:round; stroke-width:2; stroke-opacity:0.1; fill:none\" points=\"247.747,1486.45 247.747,47.2441 \"/>\n",
       "<polyline clip-path=\"url(#clip682)\" style=\"stroke:#000000; stroke-linecap:round; stroke-linejoin:round; stroke-width:2; stroke-opacity:0.1; fill:none\" points=\"588.363,1486.45 588.363,47.2441 \"/>\n",
       "<polyline clip-path=\"url(#clip682)\" style=\"stroke:#000000; stroke-linecap:round; stroke-linejoin:round; stroke-width:2; stroke-opacity:0.1; fill:none\" points=\"928.98,1486.45 928.98,47.2441 \"/>\n",
       "<polyline clip-path=\"url(#clip682)\" style=\"stroke:#000000; stroke-linecap:round; stroke-linejoin:round; stroke-width:2; stroke-opacity:0.1; fill:none\" points=\"1269.6,1486.45 1269.6,47.2441 \"/>\n",
       "<polyline clip-path=\"url(#clip682)\" style=\"stroke:#000000; stroke-linecap:round; stroke-linejoin:round; stroke-width:2; stroke-opacity:0.1; fill:none\" points=\"1610.21,1486.45 1610.21,47.2441 \"/>\n",
       "<polyline clip-path=\"url(#clip682)\" style=\"stroke:#000000; stroke-linecap:round; stroke-linejoin:round; stroke-width:2; stroke-opacity:0.1; fill:none\" points=\"1950.83,1486.45 1950.83,47.2441 \"/>\n",
       "<polyline clip-path=\"url(#clip682)\" style=\"stroke:#000000; stroke-linecap:round; stroke-linejoin:round; stroke-width:2; stroke-opacity:0.1; fill:none\" points=\"2291.44,1486.45 2291.44,47.2441 \"/>\n",
       "<polyline clip-path=\"url(#clip680)\" style=\"stroke:#000000; stroke-linecap:round; stroke-linejoin:round; stroke-width:4; stroke-opacity:1; fill:none\" points=\"186.436,1486.45 2352.76,1486.45 \"/>\n",
       "<polyline clip-path=\"url(#clip680)\" style=\"stroke:#000000; stroke-linecap:round; stroke-linejoin:round; stroke-width:4; stroke-opacity:1; fill:none\" points=\"247.747,1486.45 247.747,1467.55 \"/>\n",
       "<polyline clip-path=\"url(#clip680)\" style=\"stroke:#000000; stroke-linecap:round; stroke-linejoin:round; stroke-width:4; stroke-opacity:1; fill:none\" points=\"588.363,1486.45 588.363,1467.55 \"/>\n",
       "<polyline clip-path=\"url(#clip680)\" style=\"stroke:#000000; stroke-linecap:round; stroke-linejoin:round; stroke-width:4; stroke-opacity:1; fill:none\" points=\"928.98,1486.45 928.98,1467.55 \"/>\n",
       "<polyline clip-path=\"url(#clip680)\" style=\"stroke:#000000; stroke-linecap:round; stroke-linejoin:round; stroke-width:4; stroke-opacity:1; fill:none\" points=\"1269.6,1486.45 1269.6,1467.55 \"/>\n",
       "<polyline clip-path=\"url(#clip680)\" style=\"stroke:#000000; stroke-linecap:round; stroke-linejoin:round; stroke-width:4; stroke-opacity:1; fill:none\" points=\"1610.21,1486.45 1610.21,1467.55 \"/>\n",
       "<polyline clip-path=\"url(#clip680)\" style=\"stroke:#000000; stroke-linecap:round; stroke-linejoin:round; stroke-width:4; stroke-opacity:1; fill:none\" points=\"1950.83,1486.45 1950.83,1467.55 \"/>\n",
       "<polyline clip-path=\"url(#clip680)\" style=\"stroke:#000000; stroke-linecap:round; stroke-linejoin:round; stroke-width:4; stroke-opacity:1; fill:none\" points=\"2291.44,1486.45 2291.44,1467.55 \"/>\n",
       "<path clip-path=\"url(#clip680)\" d=\"M225.583 1517.37 Q221.972 1517.37 220.143 1520.93 Q218.337 1524.47 218.337 1531.6 Q218.337 1538.71 220.143 1542.27 Q221.972 1545.82 225.583 1545.82 Q229.217 1545.82 231.023 1542.27 Q232.851 1538.71 232.851 1531.6 Q232.851 1524.47 231.023 1520.93 Q229.217 1517.37 225.583 1517.37 M225.583 1513.66 Q231.393 1513.66 234.448 1518.27 Q237.527 1522.85 237.527 1531.6 Q237.527 1540.33 234.448 1544.94 Q231.393 1549.52 225.583 1549.52 Q219.773 1549.52 216.694 1544.94 Q213.638 1540.33 213.638 1531.6 Q213.638 1522.85 216.694 1518.27 Q219.773 1513.66 225.583 1513.66 Z\" fill=\"#000000\" fill-rule=\"nonzero\" fill-opacity=\"1\" /><path clip-path=\"url(#clip680)\" d=\"M245.745 1542.97 L250.629 1542.97 L250.629 1548.85 L245.745 1548.85 L245.745 1542.97 Z\" fill=\"#000000\" fill-rule=\"nonzero\" fill-opacity=\"1\" /><path clip-path=\"url(#clip680)\" d=\"M259.633 1514.29 L281.856 1514.29 L281.856 1516.28 L269.309 1548.85 L264.425 1548.85 L276.231 1518.22 L259.633 1518.22 L259.633 1514.29 Z\" fill=\"#000000\" fill-rule=\"nonzero\" fill-opacity=\"1\" /><path clip-path=\"url(#clip680)\" d=\"M565.794 1517.37 Q562.183 1517.37 560.354 1520.93 Q558.549 1524.47 558.549 1531.6 Q558.549 1538.71 560.354 1542.27 Q562.183 1545.82 565.794 1545.82 Q569.428 1545.82 571.234 1542.27 Q573.062 1538.71 573.062 1531.6 Q573.062 1524.47 571.234 1520.93 Q569.428 1517.37 565.794 1517.37 M565.794 1513.66 Q571.604 1513.66 574.66 1518.27 Q577.738 1522.85 577.738 1531.6 Q577.738 1540.33 574.66 1544.94 Q571.604 1549.52 565.794 1549.52 Q559.984 1549.52 556.905 1544.94 Q553.85 1540.33 553.85 1531.6 Q553.85 1522.85 556.905 1518.27 Q559.984 1513.66 565.794 1513.66 Z\" fill=\"#000000\" fill-rule=\"nonzero\" fill-opacity=\"1\" /><path clip-path=\"url(#clip680)\" d=\"M585.956 1542.97 L590.84 1542.97 L590.84 1548.85 L585.956 1548.85 L585.956 1542.97 Z\" fill=\"#000000\" fill-rule=\"nonzero\" fill-opacity=\"1\" /><path clip-path=\"url(#clip680)\" d=\"M611.025 1532.44 Q607.692 1532.44 605.771 1534.22 Q603.872 1536 603.872 1539.13 Q603.872 1542.25 605.771 1544.03 Q607.692 1545.82 611.025 1545.82 Q614.359 1545.82 616.28 1544.03 Q618.201 1542.23 618.201 1539.13 Q618.201 1536 616.28 1534.22 Q614.382 1532.44 611.025 1532.44 M606.349 1530.45 Q603.34 1529.7 601.65 1527.64 Q599.984 1525.58 599.984 1522.62 Q599.984 1518.48 602.923 1516.07 Q605.886 1513.66 611.025 1513.66 Q616.187 1513.66 619.127 1516.07 Q622.067 1518.48 622.067 1522.62 Q622.067 1525.58 620.377 1527.64 Q618.71 1529.7 615.724 1530.45 Q619.104 1531.23 620.979 1533.52 Q622.877 1535.82 622.877 1539.13 Q622.877 1544.15 619.798 1546.83 Q616.743 1549.52 611.025 1549.52 Q605.308 1549.52 602.229 1546.83 Q599.173 1544.15 599.173 1539.13 Q599.173 1535.82 601.072 1533.52 Q602.97 1531.23 606.349 1530.45 M604.636 1523.06 Q604.636 1525.75 606.303 1527.25 Q607.993 1528.76 611.025 1528.76 Q614.034 1528.76 615.724 1527.25 Q617.437 1525.75 617.437 1523.06 Q617.437 1520.38 615.724 1518.87 Q614.034 1517.37 611.025 1517.37 Q607.993 1517.37 606.303 1518.87 Q604.636 1520.38 604.636 1523.06 Z\" fill=\"#000000\" fill-rule=\"nonzero\" fill-opacity=\"1\" /><path clip-path=\"url(#clip680)\" d=\"M906.457 1517.37 Q902.846 1517.37 901.017 1520.93 Q899.211 1524.47 899.211 1531.6 Q899.211 1538.71 901.017 1542.27 Q902.846 1545.82 906.457 1545.82 Q910.091 1545.82 911.896 1542.27 Q913.725 1538.71 913.725 1531.6 Q913.725 1524.47 911.896 1520.93 Q910.091 1517.37 906.457 1517.37 M906.457 1513.66 Q912.267 1513.66 915.322 1518.27 Q918.401 1522.85 918.401 1531.6 Q918.401 1540.33 915.322 1544.94 Q912.267 1549.52 906.457 1549.52 Q900.646 1549.52 897.568 1544.94 Q894.512 1540.33 894.512 1531.6 Q894.512 1522.85 897.568 1518.27 Q900.646 1513.66 906.457 1513.66 Z\" fill=\"#000000\" fill-rule=\"nonzero\" fill-opacity=\"1\" /><path clip-path=\"url(#clip680)\" d=\"M926.619 1542.97 L931.503 1542.97 L931.503 1548.85 L926.619 1548.85 L926.619 1542.97 Z\" fill=\"#000000\" fill-rule=\"nonzero\" fill-opacity=\"1\" /><path clip-path=\"url(#clip680)\" d=\"M941.827 1548.13 L941.827 1543.87 Q943.586 1544.7 945.392 1545.14 Q947.197 1545.58 948.933 1545.58 Q953.563 1545.58 955.993 1542.48 Q958.447 1539.36 958.794 1533.01 Q957.452 1535.01 955.392 1536.07 Q953.331 1537.13 950.831 1537.13 Q945.646 1537.13 942.614 1534.01 Q939.605 1530.86 939.605 1525.42 Q939.605 1520.1 942.753 1516.88 Q945.901 1513.66 951.132 1513.66 Q957.128 1513.66 960.276 1518.27 Q963.447 1522.85 963.447 1531.6 Q963.447 1539.77 959.558 1544.66 Q955.692 1549.52 949.142 1549.52 Q947.382 1549.52 945.577 1549.17 Q943.771 1548.82 941.827 1548.13 M951.132 1533.48 Q954.28 1533.48 956.109 1531.32 Q957.961 1529.17 957.961 1525.42 Q957.961 1521.7 956.109 1519.54 Q954.28 1517.37 951.132 1517.37 Q947.984 1517.37 946.132 1519.54 Q944.304 1521.7 944.304 1525.42 Q944.304 1529.17 946.132 1531.32 Q947.984 1533.48 951.132 1533.48 Z\" fill=\"#000000\" fill-rule=\"nonzero\" fill-opacity=\"1\" /><path clip-path=\"url(#clip680)\" d=\"M1236.75 1544.91 L1244.39 1544.91 L1244.39 1518.55 L1236.08 1520.21 L1236.08 1515.95 L1244.34 1514.29 L1249.02 1514.29 L1249.02 1544.91 L1256.66 1544.91 L1256.66 1548.85 L1236.75 1548.85 L1236.75 1544.91 Z\" fill=\"#000000\" fill-rule=\"nonzero\" fill-opacity=\"1\" /><path clip-path=\"url(#clip680)\" d=\"M1266.1 1542.97 L1270.98 1542.97 L1270.98 1548.85 L1266.1 1548.85 L1266.1 1542.97 Z\" fill=\"#000000\" fill-rule=\"nonzero\" fill-opacity=\"1\" /><path clip-path=\"url(#clip680)\" d=\"M1291.17 1517.37 Q1287.56 1517.37 1285.73 1520.93 Q1283.92 1524.47 1283.92 1531.6 Q1283.92 1538.71 1285.73 1542.27 Q1287.56 1545.82 1291.17 1545.82 Q1294.8 1545.82 1296.61 1542.27 Q1298.44 1538.71 1298.44 1531.6 Q1298.44 1524.47 1296.61 1520.93 Q1294.8 1517.37 1291.17 1517.37 M1291.17 1513.66 Q1296.98 1513.66 1300.04 1518.27 Q1303.11 1522.85 1303.11 1531.6 Q1303.11 1540.33 1300.04 1544.94 Q1296.98 1549.52 1291.17 1549.52 Q1285.36 1549.52 1282.28 1544.94 Q1279.23 1540.33 1279.23 1531.6 Q1279.23 1522.85 1282.28 1518.27 Q1285.36 1513.66 1291.17 1513.66 Z\" fill=\"#000000\" fill-rule=\"nonzero\" fill-opacity=\"1\" /><path clip-path=\"url(#clip680)\" d=\"M1577.98 1544.91 L1585.62 1544.91 L1585.62 1518.55 L1577.31 1520.21 L1577.31 1515.95 L1585.57 1514.29 L1590.25 1514.29 L1590.25 1544.91 L1597.89 1544.91 L1597.89 1548.85 L1577.98 1548.85 L1577.98 1544.91 Z\" fill=\"#000000\" fill-rule=\"nonzero\" fill-opacity=\"1\" /><path clip-path=\"url(#clip680)\" d=\"M1607.33 1542.97 L1612.21 1542.97 L1612.21 1548.85 L1607.33 1548.85 L1607.33 1542.97 Z\" fill=\"#000000\" fill-rule=\"nonzero\" fill-opacity=\"1\" /><path clip-path=\"url(#clip680)\" d=\"M1623.21 1544.91 L1630.85 1544.91 L1630.85 1518.55 L1622.54 1520.21 L1622.54 1515.95 L1630.8 1514.29 L1635.48 1514.29 L1635.48 1544.91 L1643.12 1544.91 L1643.12 1548.85 L1623.21 1548.85 L1623.21 1544.91 Z\" fill=\"#000000\" fill-rule=\"nonzero\" fill-opacity=\"1\" /><path clip-path=\"url(#clip680)\" d=\"M1918.78 1544.91 L1926.42 1544.91 L1926.42 1518.55 L1918.11 1520.21 L1918.11 1515.95 L1926.37 1514.29 L1931.05 1514.29 L1931.05 1544.91 L1938.69 1544.91 L1938.69 1548.85 L1918.78 1548.85 L1918.78 1544.91 Z\" fill=\"#000000\" fill-rule=\"nonzero\" fill-opacity=\"1\" /><path clip-path=\"url(#clip680)\" d=\"M1948.13 1542.97 L1953.02 1542.97 L1953.02 1548.85 L1948.13 1548.85 L1948.13 1542.97 Z\" fill=\"#000000\" fill-rule=\"nonzero\" fill-opacity=\"1\" /><path clip-path=\"url(#clip680)\" d=\"M1967.23 1544.91 L1983.55 1544.91 L1983.55 1548.85 L1961.6 1548.85 L1961.6 1544.91 Q1964.27 1542.16 1968.85 1537.53 Q1973.46 1532.88 1974.64 1531.53 Q1976.88 1529.01 1977.76 1527.27 Q1978.66 1525.51 1978.66 1523.82 Q1978.66 1521.07 1976.72 1519.33 Q1974.8 1517.6 1971.7 1517.6 Q1969.5 1517.6 1967.04 1518.36 Q1964.61 1519.13 1961.84 1520.68 L1961.84 1515.95 Q1964.66 1514.82 1967.11 1514.24 Q1969.57 1513.66 1971.6 1513.66 Q1976.97 1513.66 1980.17 1516.35 Q1983.36 1519.03 1983.36 1523.52 Q1983.36 1525.65 1982.55 1527.57 Q1981.77 1529.47 1979.66 1532.07 Q1979.08 1532.74 1975.98 1535.95 Q1972.88 1539.15 1967.23 1544.91 Z\" fill=\"#000000\" fill-rule=\"nonzero\" fill-opacity=\"1\" /><path clip-path=\"url(#clip680)\" d=\"M2258.92 1544.91 L2266.56 1544.91 L2266.56 1518.55 L2258.25 1520.21 L2258.25 1515.95 L2266.51 1514.29 L2271.19 1514.29 L2271.19 1544.91 L2278.83 1544.91 L2278.83 1548.85 L2258.92 1548.85 L2258.92 1544.91 Z\" fill=\"#000000\" fill-rule=\"nonzero\" fill-opacity=\"1\" /><path clip-path=\"url(#clip680)\" d=\"M2288.27 1542.97 L2293.16 1542.97 L2293.16 1548.85 L2288.27 1548.85 L2288.27 1542.97 Z\" fill=\"#000000\" fill-rule=\"nonzero\" fill-opacity=\"1\" /><path clip-path=\"url(#clip680)\" d=\"M2317.51 1530.21 Q2320.87 1530.93 2322.74 1533.2 Q2324.64 1535.47 2324.64 1538.8 Q2324.64 1543.92 2321.12 1546.72 Q2317.6 1549.52 2311.12 1549.52 Q2308.94 1549.52 2306.63 1549.08 Q2304.34 1548.66 2301.88 1547.81 L2301.88 1543.29 Q2303.83 1544.43 2306.14 1545.01 Q2308.46 1545.58 2310.98 1545.58 Q2315.38 1545.58 2317.67 1543.85 Q2319.99 1542.11 2319.99 1538.8 Q2319.99 1535.75 2317.83 1534.03 Q2315.7 1532.3 2311.88 1532.3 L2307.86 1532.3 L2307.86 1528.45 L2312.07 1528.45 Q2315.52 1528.45 2317.35 1527.09 Q2319.18 1525.7 2319.18 1523.11 Q2319.18 1520.45 2317.28 1519.03 Q2315.4 1517.6 2311.88 1517.6 Q2309.96 1517.6 2307.76 1518.01 Q2305.57 1518.43 2302.93 1519.31 L2302.93 1515.14 Q2305.59 1514.4 2307.9 1514.03 Q2310.24 1513.66 2312.3 1513.66 Q2317.63 1513.66 2320.73 1516.09 Q2323.83 1518.5 2323.83 1522.62 Q2323.83 1525.49 2322.19 1527.48 Q2320.54 1529.45 2317.51 1530.21 Z\" fill=\"#000000\" fill-rule=\"nonzero\" fill-opacity=\"1\" /><polyline clip-path=\"url(#clip682)\" style=\"stroke:#000000; stroke-linecap:round; stroke-linejoin:round; stroke-width:2; stroke-opacity:0.1; fill:none\" points=\"186.436,1240.99 2352.76,1240.99 \"/>\n",
       "<polyline clip-path=\"url(#clip682)\" style=\"stroke:#000000; stroke-linecap:round; stroke-linejoin:round; stroke-width:2; stroke-opacity:0.1; fill:none\" points=\"186.436,945.746 2352.76,945.746 \"/>\n",
       "<polyline clip-path=\"url(#clip682)\" style=\"stroke:#000000; stroke-linecap:round; stroke-linejoin:round; stroke-width:2; stroke-opacity:0.1; fill:none\" points=\"186.436,650.506 2352.76,650.506 \"/>\n",
       "<polyline clip-path=\"url(#clip682)\" style=\"stroke:#000000; stroke-linecap:round; stroke-linejoin:round; stroke-width:2; stroke-opacity:0.1; fill:none\" points=\"186.436,355.266 2352.76,355.266 \"/>\n",
       "<polyline clip-path=\"url(#clip682)\" style=\"stroke:#000000; stroke-linecap:round; stroke-linejoin:round; stroke-width:2; stroke-opacity:0.1; fill:none\" points=\"186.436,60.0258 2352.76,60.0258 \"/>\n",
       "<polyline clip-path=\"url(#clip680)\" style=\"stroke:#000000; stroke-linecap:round; stroke-linejoin:round; stroke-width:4; stroke-opacity:1; fill:none\" points=\"186.436,1486.45 186.436,47.2441 \"/>\n",
       "<polyline clip-path=\"url(#clip680)\" style=\"stroke:#000000; stroke-linecap:round; stroke-linejoin:round; stroke-width:4; stroke-opacity:1; fill:none\" points=\"186.436,1240.99 205.334,1240.99 \"/>\n",
       "<polyline clip-path=\"url(#clip680)\" style=\"stroke:#000000; stroke-linecap:round; stroke-linejoin:round; stroke-width:4; stroke-opacity:1; fill:none\" points=\"186.436,945.746 205.334,945.746 \"/>\n",
       "<polyline clip-path=\"url(#clip680)\" style=\"stroke:#000000; stroke-linecap:round; stroke-linejoin:round; stroke-width:4; stroke-opacity:1; fill:none\" points=\"186.436,650.506 205.334,650.506 \"/>\n",
       "<polyline clip-path=\"url(#clip680)\" style=\"stroke:#000000; stroke-linecap:round; stroke-linejoin:round; stroke-width:4; stroke-opacity:1; fill:none\" points=\"186.436,355.266 205.334,355.266 \"/>\n",
       "<polyline clip-path=\"url(#clip680)\" style=\"stroke:#000000; stroke-linecap:round; stroke-linejoin:round; stroke-width:4; stroke-opacity:1; fill:none\" points=\"186.436,60.0258 205.334,60.0258 \"/>\n",
       "<path clip-path=\"url(#clip680)\" d=\"M62.9365 1226.78 Q59.3254 1226.78 57.4967 1230.35 Q55.6912 1233.89 55.6912 1241.02 Q55.6912 1248.13 57.4967 1251.69 Q59.3254 1255.23 62.9365 1255.23 Q66.5707 1255.23 68.3763 1251.69 Q70.205 1248.13 70.205 1241.02 Q70.205 1233.89 68.3763 1230.35 Q66.5707 1226.78 62.9365 1226.78 M62.9365 1223.08 Q68.7467 1223.08 71.8022 1227.69 Q74.8809 1232.27 74.8809 1241.02 Q74.8809 1249.75 71.8022 1254.35 Q68.7467 1258.94 62.9365 1258.94 Q57.1264 1258.94 54.0477 1254.35 Q50.9921 1249.75 50.9921 1241.02 Q50.9921 1232.27 54.0477 1227.69 Q57.1264 1223.08 62.9365 1223.08 Z\" fill=\"#000000\" fill-rule=\"nonzero\" fill-opacity=\"1\" /><path clip-path=\"url(#clip680)\" d=\"M83.0984 1252.39 L87.9827 1252.39 L87.9827 1258.27 L83.0984 1258.27 L83.0984 1252.39 Z\" fill=\"#000000\" fill-rule=\"nonzero\" fill-opacity=\"1\" /><path clip-path=\"url(#clip680)\" d=\"M98.3067 1257.55 L98.3067 1253.29 Q100.066 1254.12 101.871 1254.56 Q103.677 1255 105.413 1255 Q110.043 1255 112.473 1251.9 Q114.927 1248.78 115.274 1242.43 Q113.932 1244.42 111.871 1245.49 Q109.811 1246.55 107.311 1246.55 Q102.126 1246.55 99.0937 1243.43 Q96.0845 1240.28 96.0845 1234.84 Q96.0845 1229.52 99.2326 1226.3 Q102.381 1223.08 107.612 1223.08 Q113.608 1223.08 116.756 1227.69 Q119.927 1232.27 119.927 1241.02 Q119.927 1249.19 116.038 1254.08 Q112.172 1258.94 105.621 1258.94 Q103.862 1258.94 102.057 1258.59 Q100.251 1258.24 98.3067 1257.55 M107.612 1242.9 Q110.76 1242.9 112.589 1240.74 Q114.441 1238.59 114.441 1234.84 Q114.441 1231.11 112.589 1228.96 Q110.76 1226.78 107.612 1226.78 Q104.464 1226.78 102.612 1228.96 Q100.784 1231.11 100.784 1234.84 Q100.784 1238.59 102.612 1240.74 Q104.464 1242.9 107.612 1242.9 Z\" fill=\"#000000\" fill-rule=\"nonzero\" fill-opacity=\"1\" /><path clip-path=\"url(#clip680)\" d=\"M138.908 1239.12 Q135.76 1239.12 133.908 1241.28 Q132.08 1243.43 132.08 1247.18 Q132.08 1250.9 133.908 1253.08 Q135.76 1255.23 138.908 1255.23 Q142.056 1255.23 143.885 1253.08 Q145.737 1250.9 145.737 1247.18 Q145.737 1243.43 143.885 1241.28 Q142.056 1239.12 138.908 1239.12 M148.191 1224.47 L148.191 1228.73 Q146.431 1227.9 144.626 1227.46 Q142.843 1227.02 141.084 1227.02 Q136.455 1227.02 134.001 1230.14 Q131.57 1233.27 131.223 1239.59 Q132.589 1237.57 134.649 1236.51 Q136.709 1235.42 139.186 1235.42 Q144.394 1235.42 147.404 1238.59 Q150.436 1241.74 150.436 1247.18 Q150.436 1252.5 147.288 1255.72 Q144.14 1258.94 138.908 1258.94 Q132.913 1258.94 129.742 1254.35 Q126.57 1249.75 126.57 1241.02 Q126.57 1232.83 130.459 1227.97 Q134.348 1223.08 140.899 1223.08 Q142.658 1223.08 144.441 1223.43 Q146.246 1223.78 148.191 1224.47 Z\" fill=\"#000000\" fill-rule=\"nonzero\" fill-opacity=\"1\" /><path clip-path=\"url(#clip680)\" d=\"M63.1911 931.544 Q59.58 931.544 57.7513 935.109 Q55.9458 938.651 55.9458 945.78 Q55.9458 952.887 57.7513 956.452 Q59.58 959.993 63.1911 959.993 Q66.8254 959.993 68.6309 956.452 Q70.4596 952.887 70.4596 945.78 Q70.4596 938.651 68.6309 935.109 Q66.8254 931.544 63.1911 931.544 M63.1911 927.841 Q69.0013 927.841 72.0568 932.447 Q75.1355 937.031 75.1355 945.78 Q75.1355 954.507 72.0568 959.114 Q69.0013 963.697 63.1911 963.697 Q57.381 963.697 54.3023 959.114 Q51.2468 954.507 51.2468 945.78 Q51.2468 937.031 54.3023 932.447 Q57.381 927.841 63.1911 927.841 Z\" fill=\"#000000\" fill-rule=\"nonzero\" fill-opacity=\"1\" /><path clip-path=\"url(#clip680)\" d=\"M83.3531 957.146 L88.2373 957.146 L88.2373 963.026 L83.3531 963.026 L83.3531 957.146 Z\" fill=\"#000000\" fill-rule=\"nonzero\" fill-opacity=\"1\" /><path clip-path=\"url(#clip680)\" d=\"M98.5613 962.308 L98.5613 958.049 Q100.321 958.882 102.126 959.322 Q103.932 959.762 105.668 959.762 Q110.297 959.762 112.728 956.66 Q115.182 953.535 115.529 947.193 Q114.186 949.183 112.126 950.248 Q110.066 951.313 107.566 951.313 Q102.381 951.313 99.3483 948.188 Q96.3391 945.04 96.3391 939.6 Q96.3391 934.276 99.4872 931.058 Q102.635 927.841 107.867 927.841 Q113.862 927.841 117.01 932.447 Q120.182 937.031 120.182 945.78 Q120.182 953.952 116.293 958.836 Q112.427 963.697 105.876 963.697 Q104.117 963.697 102.311 963.35 Q100.506 963.003 98.5613 962.308 M107.867 947.655 Q111.015 947.655 112.844 945.503 Q114.695 943.35 114.695 939.6 Q114.695 935.873 112.844 933.72 Q111.015 931.544 107.867 931.544 Q104.719 931.544 102.867 933.72 Q101.038 935.873 101.038 939.6 Q101.038 943.35 102.867 945.503 Q104.719 947.655 107.867 947.655 Z\" fill=\"#000000\" fill-rule=\"nonzero\" fill-opacity=\"1\" /><path clip-path=\"url(#clip680)\" d=\"M138.584 946.614 Q135.251 946.614 133.33 948.396 Q131.432 950.179 131.432 953.304 Q131.432 956.429 133.33 958.211 Q135.251 959.993 138.584 959.993 Q141.918 959.993 143.839 958.211 Q145.76 956.405 145.76 953.304 Q145.76 950.179 143.839 948.396 Q141.941 946.614 138.584 946.614 M133.908 944.623 Q130.899 943.882 129.209 941.822 Q127.543 939.762 127.543 936.799 Q127.543 932.656 130.482 930.248 Q133.445 927.841 138.584 927.841 Q143.746 927.841 146.686 930.248 Q149.626 932.656 149.626 936.799 Q149.626 939.762 147.936 941.822 Q146.269 943.882 143.283 944.623 Q146.663 945.41 148.538 947.702 Q150.436 949.993 150.436 953.304 Q150.436 958.327 147.357 961.012 Q144.302 963.697 138.584 963.697 Q132.867 963.697 129.788 961.012 Q126.732 958.327 126.732 953.304 Q126.732 949.993 128.631 947.702 Q130.529 945.41 133.908 944.623 M132.195 937.239 Q132.195 939.924 133.862 941.429 Q135.552 942.933 138.584 942.933 Q141.593 942.933 143.283 941.429 Q144.996 939.924 144.996 937.239 Q144.996 934.554 143.283 933.049 Q141.593 931.544 138.584 931.544 Q135.552 931.544 133.862 933.049 Q132.195 934.554 132.195 937.239 Z\" fill=\"#000000\" fill-rule=\"nonzero\" fill-opacity=\"1\" /><path clip-path=\"url(#clip680)\" d=\"M53.9088 663.851 L61.5476 663.851 L61.5476 637.485 L53.2375 639.152 L53.2375 634.892 L61.5013 633.226 L66.1772 633.226 L66.1772 663.851 L73.8161 663.851 L73.8161 667.786 L53.9088 667.786 L53.9088 663.851 Z\" fill=\"#000000\" fill-rule=\"nonzero\" fill-opacity=\"1\" /><path clip-path=\"url(#clip680)\" d=\"M83.2605 661.906 L88.1447 661.906 L88.1447 667.786 L83.2605 667.786 L83.2605 661.906 Z\" fill=\"#000000\" fill-rule=\"nonzero\" fill-opacity=\"1\" /><path clip-path=\"url(#clip680)\" d=\"M108.33 636.304 Q104.719 636.304 102.89 639.869 Q101.084 643.411 101.084 650.54 Q101.084 657.647 102.89 661.212 Q104.719 664.753 108.33 664.753 Q111.964 664.753 113.77 661.212 Q115.598 657.647 115.598 650.54 Q115.598 643.411 113.77 639.869 Q111.964 636.304 108.33 636.304 M108.33 632.601 Q114.14 632.601 117.195 637.207 Q120.274 641.791 120.274 650.54 Q120.274 659.267 117.195 663.874 Q114.14 668.457 108.33 668.457 Q102.52 668.457 99.4409 663.874 Q96.3854 659.267 96.3854 650.54 Q96.3854 641.791 99.4409 637.207 Q102.52 632.601 108.33 632.601 Z\" fill=\"#000000\" fill-rule=\"nonzero\" fill-opacity=\"1\" /><path clip-path=\"url(#clip680)\" d=\"M138.492 636.304 Q134.881 636.304 133.052 639.869 Q131.246 643.411 131.246 650.54 Q131.246 657.647 133.052 661.212 Q134.881 664.753 138.492 664.753 Q142.126 664.753 143.931 661.212 Q145.76 657.647 145.76 650.54 Q145.76 643.411 143.931 639.869 Q142.126 636.304 138.492 636.304 M138.492 632.601 Q144.302 632.601 147.357 637.207 Q150.436 641.791 150.436 650.54 Q150.436 659.267 147.357 663.874 Q144.302 668.457 138.492 668.457 Q132.682 668.457 129.603 663.874 Q126.547 659.267 126.547 650.54 Q126.547 641.791 129.603 637.207 Q132.682 632.601 138.492 632.601 Z\" fill=\"#000000\" fill-rule=\"nonzero\" fill-opacity=\"1\" /><path clip-path=\"url(#clip680)\" d=\"M55.506 368.611 L63.1448 368.611 L63.1448 342.245 L54.8347 343.912 L54.8347 339.652 L63.0985 337.986 L67.7744 337.986 L67.7744 368.611 L75.4133 368.611 L75.4133 372.546 L55.506 372.546 L55.506 368.611 Z\" fill=\"#000000\" fill-rule=\"nonzero\" fill-opacity=\"1\" /><path clip-path=\"url(#clip680)\" d=\"M84.8577 366.666 L89.7419 366.666 L89.7419 372.546 L84.8577 372.546 L84.8577 366.666 Z\" fill=\"#000000\" fill-rule=\"nonzero\" fill-opacity=\"1\" /><path clip-path=\"url(#clip680)\" d=\"M109.927 341.064 Q106.316 341.064 104.487 344.629 Q102.682 348.171 102.682 355.3 Q102.682 362.407 104.487 365.972 Q106.316 369.513 109.927 369.513 Q113.561 369.513 115.367 365.972 Q117.195 362.407 117.195 355.3 Q117.195 348.171 115.367 344.629 Q113.561 341.064 109.927 341.064 M109.927 337.361 Q115.737 337.361 118.793 341.967 Q121.871 346.551 121.871 355.3 Q121.871 364.027 118.793 368.634 Q115.737 373.217 109.927 373.217 Q104.117 373.217 101.038 368.634 Q97.9826 364.027 97.9826 355.3 Q97.9826 346.551 101.038 341.967 Q104.117 337.361 109.927 337.361 Z\" fill=\"#000000\" fill-rule=\"nonzero\" fill-opacity=\"1\" /><path clip-path=\"url(#clip680)\" d=\"M134.117 368.611 L150.436 368.611 L150.436 372.546 L128.492 372.546 L128.492 368.611 Q131.154 365.856 135.737 361.226 Q140.343 356.574 141.524 355.231 Q143.769 352.708 144.649 350.972 Q145.552 349.213 145.552 347.523 Q145.552 344.768 143.607 343.032 Q141.686 341.296 138.584 341.296 Q136.385 341.296 133.931 342.06 Q131.501 342.824 128.723 344.375 L128.723 339.652 Q131.547 338.518 134.001 337.939 Q136.455 337.361 138.492 337.361 Q143.862 337.361 147.056 340.046 Q150.251 342.731 150.251 347.222 Q150.251 349.351 149.441 351.273 Q148.654 353.171 146.547 355.763 Q145.968 356.435 142.867 359.652 Q139.765 362.847 134.117 368.611 Z\" fill=\"#000000\" fill-rule=\"nonzero\" fill-opacity=\"1\" /><path clip-path=\"url(#clip680)\" d=\"M53.4227 73.3706 L61.0615 73.3706 L61.0615 47.005 L52.7514 48.6717 L52.7514 44.4124 L61.0152 42.7458 L65.6911 42.7458 L65.6911 73.3706 L73.33 73.3706 L73.33 77.3058 L53.4227 77.3058 L53.4227 73.3706 Z\" fill=\"#000000\" fill-rule=\"nonzero\" fill-opacity=\"1\" /><path clip-path=\"url(#clip680)\" d=\"M82.7744 71.4262 L87.6586 71.4262 L87.6586 77.3058 L82.7744 77.3058 L82.7744 71.4262 Z\" fill=\"#000000\" fill-rule=\"nonzero\" fill-opacity=\"1\" /><path clip-path=\"url(#clip680)\" d=\"M107.844 45.8245 Q104.233 45.8245 102.404 49.3892 Q100.598 52.9309 100.598 60.0605 Q100.598 67.1669 102.404 70.7317 Q104.233 74.2734 107.844 74.2734 Q111.478 74.2734 113.283 70.7317 Q115.112 67.1669 115.112 60.0605 Q115.112 52.9309 113.283 49.3892 Q111.478 45.8245 107.844 45.8245 M107.844 42.1208 Q113.654 42.1208 116.709 46.7272 Q119.788 51.3105 119.788 60.0605 Q119.788 68.7873 116.709 73.3937 Q113.654 77.9771 107.844 77.9771 Q102.034 77.9771 98.9548 73.3937 Q95.8993 68.7873 95.8993 60.0605 Q95.8993 51.3105 98.9548 46.7272 Q102.034 42.1208 107.844 42.1208 Z\" fill=\"#000000\" fill-rule=\"nonzero\" fill-opacity=\"1\" /><path clip-path=\"url(#clip680)\" d=\"M140.853 46.8198 L129.047 65.2688 L140.853 65.2688 L140.853 46.8198 M139.626 42.7458 L145.506 42.7458 L145.506 65.2688 L150.436 65.2688 L150.436 69.1577 L145.506 69.1577 L145.506 77.3058 L140.853 77.3058 L140.853 69.1577 L125.251 69.1577 L125.251 64.6438 L139.626 42.7458 Z\" fill=\"#000000\" fill-rule=\"nonzero\" fill-opacity=\"1\" /><polyline clip-path=\"url(#clip682)\" style=\"stroke:#009af9; stroke-linecap:round; stroke-linejoin:round; stroke-width:4; stroke-opacity:1; fill:none\" points=\"247.747,1445.72 258.069,1429.14 268.39,1412.87 278.712,1396.91 289.034,1381.25 299.356,1365.88 309.677,1350.79 319.999,1335.99 330.321,1321.46 340.642,1307.19 350.964,1293.19 361.286,1279.45 371.607,1265.96 381.929,1252.71 392.251,1239.71 402.573,1226.94 412.894,1214.4 423.216,1202.09 433.538,1190 443.859,1178.12 454.181,1166.46 464.503,1155 474.825,1143.75 485.146,1132.7 495.468,1121.84 505.79,1111.17 516.111,1100.69 526.433,1090.38 536.755,1080.26 547.076,1070.31 557.398,1060.54 567.72,1050.92 578.042,1041.48 588.363,1032.19 598.685,1023.06 609.007,1014.08 619.328,1005.25 629.65,996.571 639.972,988.033 650.294,979.636 660.615,971.377 670.937,963.252 681.259,955.259 691.58,947.396 701.902,939.659 712.224,932.045 722.545,924.553 732.867,917.179 743.189,909.921 753.511,902.777 763.832,895.744 774.154,888.821 784.476,882.004 794.797,875.292 805.119,868.682 815.441,862.173 825.763,855.762 836.084,849.447 846.406,843.227 856.728,837.099 867.049,831.062 877.371,825.113 887.693,819.252 898.015,813.476 908.336,807.783 918.658,802.172 928.98,796.642 939.301,791.19 949.623,785.816 959.945,780.517 970.266,775.292 980.588,770.14 990.91,765.059 1001.23,760.049 1011.55,755.107 1021.88,750.232 1032.2,745.423 1042.52,740.679 1052.84,735.999 1063.16,731.381 1073.48,726.825 1083.81,722.328 1094.13,717.89 1104.45,713.51 1114.77,709.188 1125.09,704.92 1135.41,700.708 1145.74,696.549 1156.06,692.443 1166.38,688.389 1176.7,684.386 1187.02,680.433 1197.34,676.529 1207.67,672.673 1217.99,668.865 1228.31,665.103 1238.63,661.387 1248.95,657.716 1259.27,654.089 1269.6,650.506 1279.92,646.965 1290.24,643.466 1300.56,640.009 1310.88,636.592 1321.2,633.215 1331.53,629.877 1341.85,626.578 1352.17,623.316 1362.49,620.092 1372.81,616.905 1383.13,613.754 1393.46,610.638 1403.78,607.557 1414.1,604.511 1424.42,601.498 1434.74,598.519 1445.06,595.572 1455.39,592.658 1465.71,589.775 1476.03,586.924 1486.35,584.103 1496.67,581.313 1507,578.552 1517.32,575.821 1527.64,573.118 1537.96,570.444 1548.28,567.799 1558.6,565.18 1568.93,562.589 1579.25,560.025 1589.57,557.487 1599.89,554.975 1610.21,552.489 1620.53,550.028 1630.86,547.592 1641.18,545.18 1651.5,542.792 1661.82,540.429 1672.14,538.088 1682.46,535.771 1692.79,533.477 1703.11,531.205 1713.43,528.955 1723.75,526.727 1734.07,524.521 1744.39,522.336 1754.72,520.172 1765.04,518.029 1775.36,515.906 1785.68,513.803 1796,511.72 1806.32,509.656 1816.65,507.612 1826.97,505.587 1837.29,503.58 1847.61,501.592 1857.93,499.623 1868.25,497.671 1878.58,495.737 1888.9,493.821 1899.22,491.922 1909.54,490.041 1919.86,488.176 1930.19,486.328 1940.51,484.496 1950.83,482.681 1961.15,480.882 1971.47,479.098 1981.79,477.331 1992.12,475.578 2002.44,473.841 2012.76,472.119 2023.08,470.412 2033.4,468.72 2043.72,467.042 2054.05,465.379 2064.37,463.729 2074.69,462.094 2085.01,460.472 2095.33,458.865 2105.65,457.27 2115.98,455.689 2126.3,454.121 2136.62,452.567 2146.94,451.025 2157.26,449.495 2167.58,447.979 2177.91,446.475 2188.23,444.983 2198.55,443.503 2208.87,442.035 2219.19,440.579 2229.51,439.135 2239.84,437.702 2250.16,436.281 2260.48,434.871 2270.8,433.472 2281.12,432.085 2291.44,430.708 \"/>\n",
       "<polyline clip-path=\"url(#clip682)\" style=\"stroke:#e26f46; stroke-linecap:round; stroke-linejoin:round; stroke-width:4; stroke-opacity:1; fill:none\" points=\"247.747,1428.7 258.069,1419.16 268.39,1409.66 278.712,1400.2 289.034,1390.79 299.356,1381.42 309.677,1372.09 319.999,1362.81 330.321,1353.57 340.642,1344.37 350.964,1335.21 361.286,1326.09 371.607,1317.01 381.929,1307.97 392.251,1298.98 402.573,1290.02 412.894,1281.1 423.216,1272.22 433.538,1263.38 443.859,1254.57 454.181,1245.81 464.503,1237.08 474.825,1228.39 485.146,1219.73 495.468,1211.11 505.79,1202.53 516.111,1193.99 526.433,1185.48 536.755,1177 547.076,1168.56 557.398,1160.15 567.72,1151.78 578.042,1143.45 588.363,1135.14 598.685,1126.87 609.007,1118.64 619.328,1110.44 629.65,1102.27 639.972,1094.13 650.294,1086.02 660.615,1077.95 670.937,1069.91 681.259,1061.9 691.58,1053.92 701.902,1045.97 712.224,1038.05 722.545,1030.17 732.867,1022.31 743.189,1014.48 753.511,1006.69 763.832,998.922 774.154,991.184 784.476,983.476 794.797,975.797 805.119,968.147 815.441,960.525 825.763,952.931 836.084,945.365 846.406,937.828 856.728,930.318 867.049,922.835 877.371,915.38 887.693,907.952 898.015,900.551 908.336,893.176 918.658,885.828 928.98,878.506 939.301,871.211 949.623,863.941 959.945,856.697 970.266,849.478 980.588,842.285 990.91,835.117 1001.23,827.975 1011.55,820.857 1021.88,813.763 1032.2,806.694 1042.52,799.65 1052.84,792.63 1063.16,785.633 1073.48,778.661 1083.81,771.712 1094.13,764.787 1104.45,757.885 1114.77,751.006 1125.09,744.15 1135.41,737.318 1145.74,730.507 1156.06,723.72 1166.38,716.955 1176.7,710.212 1187.02,703.491 1197.34,696.793 1207.67,690.116 1217.99,683.461 1228.31,676.827 1238.63,670.215 1248.95,663.624 1259.27,657.054 1269.6,650.506 1279.92,643.978 1290.24,637.471 1300.56,630.984 1310.88,624.518 1321.2,618.073 1331.53,611.647 1341.85,605.242 1352.17,598.857 1362.49,592.491 1372.81,586.145 1383.13,579.819 1393.46,573.512 1403.78,567.225 1414.1,560.957 1424.42,554.708 1434.74,548.478 1445.06,542.267 1455.39,536.074 1465.71,529.901 1476.03,523.745 1486.35,517.609 1496.67,511.49 1507,505.39 1517.32,499.308 1527.64,493.244 1537.96,487.198 1548.28,481.169 1558.6,475.159 1568.93,469.165 1579.25,463.19 1589.57,457.231 1599.89,451.29 1610.21,445.366 1620.53,439.46 1630.86,433.57 1641.18,427.697 1651.5,421.841 1661.82,416.001 1672.14,410.178 1682.46,404.372 1692.79,398.582 1703.11,392.808 1713.43,387.05 1723.75,381.309 1734.07,375.584 1744.39,369.874 1754.72,364.18 1765.04,358.503 1775.36,352.841 1785.68,347.194 1796,341.563 1806.32,335.947 1816.65,330.347 1826.97,324.762 1837.29,319.192 1847.61,313.637 1857.93,308.097 1868.25,302.572 1878.58,297.062 1888.9,291.567 1899.22,286.086 1909.54,280.62 1919.86,275.169 1930.19,269.732 1940.51,264.309 1950.83,258.901 1961.15,253.507 1971.47,248.126 1981.79,242.76 1992.12,237.409 2002.44,232.07 2012.76,226.746 2023.08,221.436 2033.4,216.139 2043.72,210.856 2054.05,205.586 2064.37,200.33 2074.69,195.088 2085.01,189.859 2095.33,184.643 2105.65,179.44 2115.98,174.25 2126.3,169.074 2136.62,163.91 2146.94,158.76 2157.26,153.622 2167.58,148.497 2177.91,143.385 2188.23,138.286 2198.55,133.199 2208.87,128.125 2219.19,123.063 2229.51,118.014 2239.84,112.977 2250.16,107.952 2260.48,102.94 2270.8,97.94 2281.12,92.9521 2291.44,87.9763 \"/>\n",
       "<polyline clip-path=\"url(#clip682)\" style=\"stroke:#3da44d; stroke-linecap:round; stroke-linejoin:round; stroke-width:4; stroke-opacity:1; fill:none\" points=\"247.747,1122.22 258.069,1116.39 268.39,1110.59 278.712,1104.82 289.034,1099.08 299.356,1093.36 309.677,1087.67 319.999,1082.01 330.321,1076.37 340.642,1070.76 350.964,1065.18 361.286,1059.62 371.607,1054.09 381.929,1048.58 392.251,1043.1 402.573,1037.64 412.894,1032.21 423.216,1026.8 433.538,1021.42 443.859,1016.06 454.181,1010.72 464.503,1005.41 474.825,1000.12 485.146,994.859 495.468,989.617 505.79,984.398 516.111,979.202 526.433,974.028 536.755,968.877 547.076,963.748 557.398,958.64 567.72,953.555 578.042,948.491 588.363,943.448 598.685,938.426 609.007,933.426 619.328,928.446 629.65,923.487 639.972,918.549 650.294,913.631 660.615,908.733 670.937,903.855 681.259,898.997 691.58,894.159 701.902,889.34 712.224,884.541 722.545,879.761 732.867,875 743.189,870.258 753.511,865.535 763.832,860.83 774.154,856.144 784.476,851.476 794.797,846.827 805.119,842.195 815.441,837.582 825.763,832.986 836.084,828.408 846.406,823.848 856.728,819.305 867.049,814.779 877.371,810.27 887.693,805.778 898.015,801.304 908.336,796.846 918.658,792.404 928.98,787.98 939.301,783.571 949.623,779.179 959.945,774.803 970.266,770.443 980.588,766.099 990.91,761.771 1001.23,757.459 1011.55,753.162 1021.88,748.881 1032.2,744.615 1042.52,740.364 1052.84,736.128 1063.16,731.908 1073.48,727.702 1083.81,723.512 1094.13,719.336 1104.45,715.174 1114.77,711.028 1125.09,706.895 1135.41,702.777 1145.74,698.674 1156.06,694.584 1166.38,690.509 1176.7,686.447 1187.02,682.399 1197.34,678.365 1207.67,674.345 1217.99,670.338 1228.31,666.345 1238.63,662.365 1248.95,658.399 1259.27,654.446 1269.6,650.506 1279.92,646.579 1290.24,642.665 1300.56,638.764 1310.88,634.875 1321.2,631 1331.53,627.137 1341.85,623.286 1352.17,619.449 1362.49,615.623 1372.81,611.81 1383.13,608.009 1393.46,604.22 1403.78,600.444 1414.1,596.679 1424.42,592.926 1434.74,589.186 1445.06,585.456 1455.39,581.739 1465.71,578.034 1476.03,574.339 1486.35,570.657 1496.67,566.986 1507,563.326 1517.32,559.678 1527.64,556.04 1537.96,552.414 1548.28,548.799 1558.6,545.195 1568.93,541.603 1579.25,538.02 1589.57,534.449 1599.89,530.889 1610.21,527.339 1620.53,523.8 1630.86,520.271 1641.18,516.753 1651.5,513.246 1661.82,509.749 1672.14,506.262 1682.46,502.785 1692.79,499.319 1703.11,495.863 1713.43,492.417 1723.75,488.98 1734.07,485.554 1744.39,482.138 1754.72,478.732 1765.04,475.336 1775.36,471.949 1785.68,468.572 1796,465.204 1806.32,461.847 1816.65,458.498 1826.97,455.16 1837.29,451.83 1847.61,448.511 1857.93,445.2 1868.25,441.899 1878.58,438.607 1888.9,435.324 1899.22,432.05 1909.54,428.785 1919.86,425.53 1930.19,422.283 1940.51,419.045 1950.83,415.816 1961.15,412.596 1971.47,409.385 1981.79,406.182 1992.12,402.989 2002.44,399.803 2012.76,396.627 2023.08,393.459 2033.4,390.299 2043.72,387.148 2054.05,384.006 2064.37,380.871 2074.69,377.745 2085.01,374.628 2095.33,371.518 2105.65,368.417 2115.98,365.324 2126.3,362.239 2136.62,359.163 2146.94,356.094 2157.26,353.033 2167.58,349.98 2177.91,346.935 2188.23,343.898 2198.55,340.869 2208.87,337.848 2219.19,334.834 2229.51,331.828 2239.84,328.83 2250.16,325.839 2260.48,322.856 2270.8,319.88 2281.12,316.913 2291.44,313.952 \"/>\n",
       "<path clip-path=\"url(#clip680)\" d=\"M258.647 302.578 L528.288 302.578 L528.288 95.2176 L258.647 95.2176  Z\" fill=\"#ffffff\" fill-rule=\"evenodd\" fill-opacity=\"1\"/>\n",
       "<polyline clip-path=\"url(#clip680)\" style=\"stroke:#000000; stroke-linecap:round; stroke-linejoin:round; stroke-width:4; stroke-opacity:1; fill:none\" points=\"258.647,302.578 528.288,302.578 528.288,95.2176 258.647,95.2176 258.647,302.578 \"/>\n",
       "<polyline clip-path=\"url(#clip680)\" style=\"stroke:#009af9; stroke-linecap:round; stroke-linejoin:round; stroke-width:4; stroke-opacity:1; fill:none\" points=\"282.717,147.058 427.138,147.058 \"/>\n",
       "<path clip-path=\"url(#clip680)\" d=\"M465.051 166.745 Q463.245 171.375 461.532 172.787 Q459.82 174.199 456.949 174.199 L453.546 174.199 L453.546 170.634 L456.046 170.634 Q457.806 170.634 458.778 169.8 Q459.75 168.967 460.931 165.865 L461.695 163.921 L451.208 138.412 L455.722 138.412 L463.824 158.689 L471.926 138.412 L476.44 138.412 L465.051 166.745 Z\" fill=\"#000000\" fill-rule=\"nonzero\" fill-opacity=\"1\" /><path clip-path=\"url(#clip680)\" d=\"M483.731 160.402 L491.37 160.402 L491.37 134.037 L483.06 135.703 L483.06 131.444 L491.324 129.778 L496 129.778 L496 160.402 L503.639 160.402 L503.639 164.338 L483.731 164.338 L483.731 160.402 Z\" fill=\"#000000\" fill-rule=\"nonzero\" fill-opacity=\"1\" /><polyline clip-path=\"url(#clip680)\" style=\"stroke:#e26f46; stroke-linecap:round; stroke-linejoin:round; stroke-width:4; stroke-opacity:1; fill:none\" points=\"282.717,198.898 427.138,198.898 \"/>\n",
       "<path clip-path=\"url(#clip680)\" d=\"M465.051 218.585 Q463.245 223.215 461.532 224.627 Q459.82 226.039 456.949 226.039 L453.546 226.039 L453.546 222.474 L456.046 222.474 Q457.806 222.474 458.778 221.64 Q459.75 220.807 460.931 217.705 L461.695 215.761 L451.208 190.252 L455.722 190.252 L463.824 210.529 L471.926 190.252 L476.44 190.252 L465.051 218.585 Z\" fill=\"#000000\" fill-rule=\"nonzero\" fill-opacity=\"1\" /><path clip-path=\"url(#clip680)\" d=\"M486.949 212.242 L503.268 212.242 L503.268 216.178 L481.324 216.178 L481.324 212.242 Q483.986 209.488 488.569 204.858 Q493.176 200.205 494.356 198.863 Q496.602 196.34 497.481 194.604 Q498.384 192.844 498.384 191.155 Q498.384 188.4 496.44 186.664 Q494.518 184.928 491.417 184.928 Q489.218 184.928 486.764 185.692 Q484.333 186.455 481.556 188.006 L481.556 183.284 Q484.38 182.15 486.833 181.571 Q489.287 180.993 491.324 180.993 Q496.694 180.993 499.889 183.678 Q503.083 186.363 503.083 190.854 Q503.083 192.983 502.273 194.905 Q501.486 196.803 499.38 199.395 Q498.801 200.067 495.699 203.284 Q492.597 206.479 486.949 212.242 Z\" fill=\"#000000\" fill-rule=\"nonzero\" fill-opacity=\"1\" /><polyline clip-path=\"url(#clip680)\" style=\"stroke:#3da44d; stroke-linecap:round; stroke-linejoin:round; stroke-width:4; stroke-opacity:1; fill:none\" points=\"282.717,250.738 427.138,250.738 \"/>\n",
       "<path clip-path=\"url(#clip680)\" d=\"M465.051 270.425 Q463.245 275.055 461.532 276.467 Q459.82 277.879 456.949 277.879 L453.546 277.879 L453.546 274.314 L456.046 274.314 Q457.806 274.314 458.778 273.48 Q459.75 272.647 460.931 269.545 L461.695 267.601 L451.208 242.092 L455.722 242.092 L463.824 262.369 L471.926 242.092 L476.44 242.092 L465.051 270.425 Z\" fill=\"#000000\" fill-rule=\"nonzero\" fill-opacity=\"1\" /><path clip-path=\"url(#clip680)\" d=\"M497.088 249.383 Q500.444 250.101 502.319 252.369 Q504.217 254.638 504.217 257.971 Q504.217 263.087 500.699 265.888 Q497.18 268.689 490.699 268.689 Q488.523 268.689 486.208 268.249 Q483.917 267.832 481.463 266.976 L481.463 262.462 Q483.407 263.596 485.722 264.175 Q488.037 264.754 490.56 264.754 Q494.958 264.754 497.25 263.018 Q499.565 261.281 499.565 257.971 Q499.565 254.916 497.412 253.203 Q495.282 251.467 491.463 251.467 L487.435 251.467 L487.435 247.624 L491.648 247.624 Q495.097 247.624 496.926 246.258 Q498.755 244.87 498.755 242.277 Q498.755 239.615 496.856 238.203 Q494.981 236.768 491.463 236.768 Q489.542 236.768 487.343 237.184 Q485.143 237.601 482.505 238.481 L482.505 234.314 Q485.167 233.573 487.481 233.203 Q489.819 232.833 491.88 232.833 Q497.204 232.833 500.305 235.263 Q503.407 237.67 503.407 241.791 Q503.407 244.661 501.764 246.652 Q500.12 248.62 497.088 249.383 Z\" fill=\"#000000\" fill-rule=\"nonzero\" fill-opacity=\"1\" /></svg>\n"
      ]
     },
     "metadata": {},
     "output_type": "display_data"
    }
   ],
   "source": [
    "plot(LinRange(a,b,2*M-1),GDP[:,1,4])\n",
    "plot!(LinRange(a,b,2*M-1),GDP[:,2,4])\n",
    "plot!(LinRange(a,b,2*M-1),GDP[:,3,4])"
   ]
  },
  {
   "cell_type": "code",
   "execution_count": 15,
   "id": "e42e14bb",
   "metadata": {},
   "outputs": [
    {
     "data": {
      "text/plain": [
       "19×3 Matrix{Float64}:\n",
       " 3.3907    4.9875   1.01261\n",
       " 0.99162   2.71701  1.01394\n",
       " 0.992212  1.00974  1.01198\n",
       " 0.993508  1.00788  1.01086\n",
       " 0.9967    1.00619  1.00971\n",
       " 1.00181   1.00928  1.00905\n",
       " 1.00388   1.00965  1.0093\n",
       " 1.00875   1.01141  1.00807\n",
       " 1.00992   1.01204  1.01142\n",
       " 1.00961   1.00961  1.00961\n",
       " 1.0092    1.00792  1.00835\n",
       " 1.0098    1.0086   1.00747\n",
       " 1.00924   1.00683  1.00664\n",
       " 1.00981   1.0063   1.00497\n",
       " 1.00934   1.00562  1.00439\n",
       " 1.00891   1.00501  1.00291\n",
       " 1.00876   1.00459  1.0015\n",
       " 1.00839   1.00286  1.00017\n",
       " 1.00826   1.00359  0.999687"
      ]
     },
     "metadata": {},
     "output_type": "display_data"
    }
   ],
   "source": [
    "GDP"
   ]
  },
  {
   "cell_type": "code",
   "execution_count": 48,
   "id": "06216a9b",
   "metadata": {},
   "outputs": [
    {
     "ename": "ArgumentError",
     "evalue": "ArgumentError: invalid index: Observable(1) of type Observable{Int64}",
     "output_type": "error",
     "traceback": [
      "ArgumentError: invalid index: Observable(1) of type Observable{Int64}\n",
      "\n",
      "Stacktrace:\n",
      " [1] to_index(i::Observable{Int64})\n",
      "   @ Base ./indices.jl:300\n",
      " [2] to_index(A::Array{Float64, 3}, i::Observable{Int64})\n",
      "   @ Base ./indices.jl:277\n",
      " [3] to_indices (repeats 2 times)\n",
      "   @ ./indices.jl:333 [inlined]\n",
      " [4] to_indices\n",
      "   @ ./multidimensional.jl:859 [inlined]\n",
      " [5] to_indices\n",
      "   @ ./indices.jl:324 [inlined]\n",
      " [6] getindex(::Array{Float64, 3}, ::Function, ::Int64, ::Observable{Int64})\n",
      "   @ Base ./abstractarray.jl:1241\n",
      " [7] top-level scope\n",
      "   @ ~/Schreibtisch/BeyondHulten/Translation/OtherSolver.ipynb:18"
     ]
    }
   ],
   "source": [
    "using GLMakie\n",
    "\n",
    "\n",
    "fig = Figure()\n",
    "\n",
    "sl_x = Slider(fig[1, 1], range = 1980:2000, startvalue = 1980)\n",
    "sl_x2 = Slider(fig[2,1],range = 1:60, startvalue = 7)\n",
    "ax = Axis(fig[3, 1])\n",
    "\n",
    "\n",
    "\n",
    "indexYear = lift(sl_x.value) do x\n",
    "    x - 1979 \n",
    "end\n",
    "\n",
    "indexSector = lift(sl_x2,value) do x\n",
    "    x\n",
    "end\n",
    "\n",
    "lineShowing = @lift(GDP[:,$indexSector,$indexYear])\n",
    "\n",
    "lines!(LinRange(a,b,2*M-1),lineShowing)\n",
    "\n",
    "fig"
   ]
  },
  {
   "cell_type": "code",
   "execution_count": null,
   "id": "85d3b06b",
   "metadata": {},
   "outputs": [],
   "source": []
  }
 ],
 "metadata": {
  "kernelspec": {
   "display_name": "Julia 1.8.0",
   "language": "julia",
   "name": "julia-1.8"
  },
  "language_info": {
   "file_extension": ".jl",
   "mimetype": "application/julia",
   "name": "julia",
   "version": "1.8.0"
  }
 },
 "nbformat": 4,
 "nbformat_minor": 5
}

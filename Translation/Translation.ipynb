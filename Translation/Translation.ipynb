{
 "cells": [
  {
   "cell_type": "code",
   "execution_count": 3,
   "id": "cbc92778-e323-4747-8f6a-4a771e79d1e9",
   "metadata": {},
   "outputs": [
    {
     "data": {
      "text/plain": [
       "mvnrnd (generic function with 1 method)"
      ]
     },
     "execution_count": 3,
     "metadata": {},
     "output_type": "execute_result"
    }
   ],
   "source": [
    "using MAT, Statistics, LinearAlgebra,Random, Plots, NLsolve,StatsPlots\n",
    "include(\"mvnrnd.jl\")"
   ]
  },
  {
   "cell_type": "code",
   "execution_count": 4,
   "id": "a5c276a3-47ea-4448-8f9e-08642ccf059f",
   "metadata": {},
   "outputs": [],
   "source": [
    "function string_as_varname(s::AbstractString,v::Any)\n",
    "    s=Symbol(s)\n",
    "    if size(v,2) == 1 # check if v is a column vector\n",
    "        @eval (($s) = (vec($v)))\n",
    "    else\n",
    "        @eval (($s) = ($v))\n",
    "    end\n",
    "end\n",
    "\n",
    "file = matopen(\"simulationData.mat\")\n",
    "\n",
    "#Reads in ju[IO, price, Omega, data, labor, mu, aggtfp, alpha, grossy, stfp, beta, agggdp, Sigma, capital, vadd]\n",
    "\n",
    "varnames = names(file)\n",
    "for varname in varnames\n",
    "    val = read(file, varname)\n",
    "    # Instantiate the variable with its name in the current scope\n",
    "    string_as_varname(varname,val)\n",
    "    end\n",
    "\n",
    "close(file)"
   ]
  },
  {
   "cell_type": "code",
   "execution_count": 5,
   "id": "8cec9cf5-97b5-484a-9f62-e07922455a79",
   "metadata": {},
   "outputs": [],
   "source": [
    "grossy = reshape(data[:,3],46,88)'\n",
    "capital = reshape(data[:,4],46,88)'; #NOMINAL CAPITAL\n",
    "labor = reshape(data[:,5],46,88)'; #NOMINAL LABOR\n",
    "vadd = labor + capital; #NOMINAL VALUE;"
   ]
  },
  {
   "cell_type": "code",
   "execution_count": 6,
   "id": "46910637-c607-46e0-9a92-eba5afc5c1ae",
   "metadata": {},
   "outputs": [],
   "source": [
    "removableSectors = [60, 80:88...];\n",
    "grossy = grossy[setdiff(1:end,removableSectors),:];\n",
    "capital = capital[setdiff(1:end,removableSectors),:];\n",
    "labor = labor[setdiff(1:end,removableSectors),:];\n",
    "vadd = vadd[setdiff(1:end,removableSectors),:];"
   ]
  },
  {
   "cell_type": "code",
   "execution_count": 7,
   "id": "76aa83f0-c9cc-44d5-81eb-ec25698fbb25",
   "metadata": {},
   "outputs": [],
   "source": [
    "grossSales = vec((sum(grossy,dims=2) .!= 0));\n",
    "grossy = grossy[grossSales,:];\n",
    "capital = capital[grossSales,:];\n",
    "labor = labor[grossSales,:];\n",
    "vadd = vadd[grossSales,:];"
   ]
  },
  {
   "cell_type": "code",
   "execution_count": 8,
   "id": "199d4e8f-363f-49c5-9f9e-2bbfca34dd07",
   "metadata": {},
   "outputs": [],
   "source": [
    "domar_weights = (inv(I - diagm(1 .- alpha) * Omega)' * beta);\n",
    "L = domar_weights .* alpha;"
   ]
  },
  {
   "cell_type": "code",
   "execution_count": 9,
   "id": "269c6f59-cb8a-4649-9002-85388cddac4a",
   "metadata": {},
   "outputs": [],
   "source": [
    "ε = .5;\n",
    "θ = 0.001;\n",
    "σ = .9;"
   ]
  },
  {
   "cell_type": "code",
   "execution_count": 10,
   "id": "1826e759-8923-48a9-90b8-0f6eec6db71f",
   "metadata": {},
   "outputs": [
    {
     "data": {
      "text/plain": [
       "problem (generic function with 1 method)"
      ]
     },
     "execution_count": 10,
     "metadata": {},
     "output_type": "execute_result"
    }
   ],
   "source": [
    "function problem(X, A, β, Ω, α, ε, θ, σ,L)\n",
    "    N = length(α)\n",
    "    p = X[1:N]\n",
    "    y = X[N+1:end]\n",
    "    \n",
    "    Out = zeros(2*N)\n",
    "    \n",
    "    q = (Ω * p .^ (1-θ)) .^ (1 / (1 - θ))\n",
    "    w = p .* (A .^ ((ε - 1)/ε)) .* (α .^ (1 / ε)) .* (y .^ (1/ε)) .* L .^ (-1/ε)\n",
    "    C = w' * L\n",
    "\n",
    "    Out[1:N] = p - (A .^ (ε - 1) .* (α .* w .^ (1- ε) + (1 .- α) .* q .^ (1 - ε))) .^ (1/(1-ε))\n",
    "    Out[N+1:end] = y' - y' * diagm(p)^ε * diagm(A)^(ε-1) * diagm(q)^(θ-ε) * diagm(1 .- α) * Ω * diagm(p)^(-θ) - β'*diagm(p)^(-σ)*C\n",
    "    \n",
    "    return Out\n",
    "end"
   ]
  },
  {
   "cell_type": "code",
   "execution_count": 11,
   "id": "dd7d201b-5d10-45f9-bbab-ed23078f0b2f",
   "metadata": {},
   "outputs": [],
   "source": [
    "trials = 50;\n",
    "GDP = zeros(trials)\n",
    "λ = zeros(76,trials)\n",
    "A_logged = zeros(trials,76)\n",
    "for k in 1:trials\n",
    "    \n",
    "        \n",
    "    A = exp.(mvnrnd(-1/2*diag(Sigma),diagm(diag(Sigma))));\n",
    "    x0 = [exp.(-inv(I - diagm(1 .- alpha)*Omega)*log.(A));domar_weights ./exp.(-inv(I - diagm(1 .- alpha) * Omega)*log.(A))];\n",
    "    \n",
    "    function f!(F,x)\n",
    "        F[1:152] = problem(x, A, beta, Omega, alpha, ε, θ, σ,L)\n",
    "    end\n",
    "\n",
    "    x = nlsolve(f!,x0,iterations = 1000, xtol = 10^-16,ftol = 10^-14)\n",
    "    if converged(x)\n",
    "        GDP[k] = (x.zero[1:76] .* (A .^ ((ε-1)/ε)).*(alpha.^(1/ε)).*(x.zero[77:152].^(1/ε)).* L .^ (-1/ε))' * L;\n",
    "        λ[:,k] = (x.zero[1:76] .* x.zero[77:end]) / GDP[k] \n",
    "    end\n",
    "    \n",
    "end"
   ]
  },
  {
   "cell_type": "code",
   "execution_count": 13,
   "id": "7dd19183-3fe8-49ce-bab5-cb8504697eb0",
   "metadata": {},
   "outputs": [
    {
     "data": {
      "image/svg+xml": [
       "<?xml version=\"1.0\" encoding=\"utf-8\"?>\n",
       "<svg xmlns=\"http://www.w3.org/2000/svg\" xmlns:xlink=\"http://www.w3.org/1999/xlink\" width=\"600\" height=\"400\" viewBox=\"0 0 2400 1600\">\n",
       "<defs>\n",
       "  <clipPath id=\"clip490\">\n",
       "    <rect x=\"0\" y=\"0\" width=\"2400\" height=\"1600\"/>\n",
       "  </clipPath>\n",
       "</defs>\n",
       "<path clip-path=\"url(#clip490)\" d=\"M0 1600 L2400 1600 L2400 0 L0 0  Z\" fill=\"#ffffff\" fill-rule=\"evenodd\" fill-opacity=\"1\"/>\n",
       "<defs>\n",
       "  <clipPath id=\"clip491\">\n",
       "    <rect x=\"480\" y=\"0\" width=\"1681\" height=\"1600\"/>\n",
       "  </clipPath>\n",
       "</defs>\n",
       "<path clip-path=\"url(#clip490)\" d=\"M138.959 1486.45 L2352.76 1486.45 L2352.76 47.2441 L138.959 47.2441  Z\" fill=\"#ffffff\" fill-rule=\"evenodd\" fill-opacity=\"1\"/>\n",
       "<defs>\n",
       "  <clipPath id=\"clip492\">\n",
       "    <rect x=\"138\" y=\"47\" width=\"2215\" height=\"1440\"/>\n",
       "  </clipPath>\n",
       "</defs>\n",
       "<polyline clip-path=\"url(#clip492)\" style=\"stroke:#000000; stroke-linecap:round; stroke-linejoin:round; stroke-width:2; stroke-opacity:0.1; fill:none\" points=\"441.107,1486.45 441.107,47.2441 \"/>\n",
       "<polyline clip-path=\"url(#clip492)\" style=\"stroke:#000000; stroke-linecap:round; stroke-linejoin:round; stroke-width:2; stroke-opacity:0.1; fill:none\" points=\"759.385,1486.45 759.385,47.2441 \"/>\n",
       "<polyline clip-path=\"url(#clip492)\" style=\"stroke:#000000; stroke-linecap:round; stroke-linejoin:round; stroke-width:2; stroke-opacity:0.1; fill:none\" points=\"1077.66,1486.45 1077.66,47.2441 \"/>\n",
       "<polyline clip-path=\"url(#clip492)\" style=\"stroke:#000000; stroke-linecap:round; stroke-linejoin:round; stroke-width:2; stroke-opacity:0.1; fill:none\" points=\"1395.94,1486.45 1395.94,47.2441 \"/>\n",
       "<polyline clip-path=\"url(#clip492)\" style=\"stroke:#000000; stroke-linecap:round; stroke-linejoin:round; stroke-width:2; stroke-opacity:0.1; fill:none\" points=\"1714.22,1486.45 1714.22,47.2441 \"/>\n",
       "<polyline clip-path=\"url(#clip492)\" style=\"stroke:#000000; stroke-linecap:round; stroke-linejoin:round; stroke-width:2; stroke-opacity:0.1; fill:none\" points=\"2032.5,1486.45 2032.5,47.2441 \"/>\n",
       "<polyline clip-path=\"url(#clip492)\" style=\"stroke:#000000; stroke-linecap:round; stroke-linejoin:round; stroke-width:2; stroke-opacity:0.1; fill:none\" points=\"2350.78,1486.45 2350.78,47.2441 \"/>\n",
       "<polyline clip-path=\"url(#clip490)\" style=\"stroke:#000000; stroke-linecap:round; stroke-linejoin:round; stroke-width:4; stroke-opacity:1; fill:none\" points=\"138.959,1486.45 2352.76,1486.45 \"/>\n",
       "<polyline clip-path=\"url(#clip490)\" style=\"stroke:#000000; stroke-linecap:round; stroke-linejoin:round; stroke-width:4; stroke-opacity:1; fill:none\" points=\"441.107,1486.45 441.107,1467.55 \"/>\n",
       "<polyline clip-path=\"url(#clip490)\" style=\"stroke:#000000; stroke-linecap:round; stroke-linejoin:round; stroke-width:4; stroke-opacity:1; fill:none\" points=\"759.385,1486.45 759.385,1467.55 \"/>\n",
       "<polyline clip-path=\"url(#clip490)\" style=\"stroke:#000000; stroke-linecap:round; stroke-linejoin:round; stroke-width:4; stroke-opacity:1; fill:none\" points=\"1077.66,1486.45 1077.66,1467.55 \"/>\n",
       "<polyline clip-path=\"url(#clip490)\" style=\"stroke:#000000; stroke-linecap:round; stroke-linejoin:round; stroke-width:4; stroke-opacity:1; fill:none\" points=\"1395.94,1486.45 1395.94,1467.55 \"/>\n",
       "<polyline clip-path=\"url(#clip490)\" style=\"stroke:#000000; stroke-linecap:round; stroke-linejoin:round; stroke-width:4; stroke-opacity:1; fill:none\" points=\"1714.22,1486.45 1714.22,1467.55 \"/>\n",
       "<polyline clip-path=\"url(#clip490)\" style=\"stroke:#000000; stroke-linecap:round; stroke-linejoin:round; stroke-width:4; stroke-opacity:1; fill:none\" points=\"2032.5,1486.45 2032.5,1467.55 \"/>\n",
       "<polyline clip-path=\"url(#clip490)\" style=\"stroke:#000000; stroke-linecap:round; stroke-linejoin:round; stroke-width:4; stroke-opacity:1; fill:none\" points=\"2350.78,1486.45 2350.78,1467.55 \"/>\n",
       "<path clip-path=\"url(#clip490)\" d=\"M387.959 1532.02 L417.634 1532.02 L417.634 1535.95 L387.959 1535.95 L387.959 1532.02 Z\" fill=\"#000000\" fill-rule=\"nonzero\" fill-opacity=\"1\" /><path clip-path=\"url(#clip490)\" d=\"M437.727 1517.37 Q434.116 1517.37 432.287 1520.93 Q430.482 1524.47 430.482 1531.6 Q430.482 1538.71 432.287 1542.27 Q434.116 1545.82 437.727 1545.82 Q441.361 1545.82 443.167 1542.27 Q444.995 1538.71 444.995 1531.6 Q444.995 1524.47 443.167 1520.93 Q441.361 1517.37 437.727 1517.37 M437.727 1513.66 Q443.537 1513.66 446.593 1518.27 Q449.671 1522.85 449.671 1531.6 Q449.671 1540.33 446.593 1544.94 Q443.537 1549.52 437.727 1549.52 Q431.917 1549.52 428.838 1544.94 Q425.783 1540.33 425.783 1531.6 Q425.783 1522.85 428.838 1518.27 Q431.917 1513.66 437.727 1513.66 Z\" fill=\"#000000\" fill-rule=\"nonzero\" fill-opacity=\"1\" /><path clip-path=\"url(#clip490)\" d=\"M457.889 1542.97 L462.773 1542.97 L462.773 1548.85 L457.889 1548.85 L457.889 1542.97 Z\" fill=\"#000000\" fill-rule=\"nonzero\" fill-opacity=\"1\" /><path clip-path=\"url(#clip490)\" d=\"M487.125 1530.21 Q490.481 1530.93 492.356 1533.2 Q494.254 1535.47 494.254 1538.8 Q494.254 1543.92 490.736 1546.72 Q487.217 1549.52 480.736 1549.52 Q478.56 1549.52 476.245 1549.08 Q473.954 1548.66 471.5 1547.81 L471.5 1543.29 Q473.444 1544.43 475.759 1545.01 Q478.074 1545.58 480.597 1545.58 Q484.995 1545.58 487.287 1543.85 Q489.602 1542.11 489.602 1538.8 Q489.602 1535.75 487.449 1534.03 Q485.319 1532.3 481.5 1532.3 L477.472 1532.3 L477.472 1528.45 L481.685 1528.45 Q485.134 1528.45 486.963 1527.09 Q488.791 1525.7 488.791 1523.11 Q488.791 1520.45 486.893 1519.03 Q485.018 1517.6 481.5 1517.6 Q479.579 1517.6 477.38 1518.01 Q475.18 1518.43 472.542 1519.31 L472.542 1515.14 Q475.204 1514.4 477.518 1514.03 Q479.856 1513.66 481.917 1513.66 Q487.241 1513.66 490.342 1516.09 Q493.444 1518.5 493.444 1522.62 Q493.444 1525.49 491.801 1527.48 Q490.157 1529.45 487.125 1530.21 Z\" fill=\"#000000\" fill-rule=\"nonzero\" fill-opacity=\"1\" /><path clip-path=\"url(#clip490)\" d=\"M706.712 1532.02 L736.388 1532.02 L736.388 1535.95 L706.712 1535.95 L706.712 1532.02 Z\" fill=\"#000000\" fill-rule=\"nonzero\" fill-opacity=\"1\" /><path clip-path=\"url(#clip490)\" d=\"M756.48 1517.37 Q752.869 1517.37 751.041 1520.93 Q749.235 1524.47 749.235 1531.6 Q749.235 1538.71 751.041 1542.27 Q752.869 1545.82 756.48 1545.82 Q760.115 1545.82 761.92 1542.27 Q763.749 1538.71 763.749 1531.6 Q763.749 1524.47 761.92 1520.93 Q760.115 1517.37 756.48 1517.37 M756.48 1513.66 Q762.29 1513.66 765.346 1518.27 Q768.425 1522.85 768.425 1531.6 Q768.425 1540.33 765.346 1544.94 Q762.29 1549.52 756.48 1549.52 Q750.67 1549.52 747.592 1544.94 Q744.536 1540.33 744.536 1531.6 Q744.536 1522.85 747.592 1518.27 Q750.67 1513.66 756.48 1513.66 Z\" fill=\"#000000\" fill-rule=\"nonzero\" fill-opacity=\"1\" /><path clip-path=\"url(#clip490)\" d=\"M776.642 1542.97 L781.527 1542.97 L781.527 1548.85 L776.642 1548.85 L776.642 1542.97 Z\" fill=\"#000000\" fill-rule=\"nonzero\" fill-opacity=\"1\" /><path clip-path=\"url(#clip490)\" d=\"M795.739 1544.91 L812.059 1544.91 L812.059 1548.85 L790.114 1548.85 L790.114 1544.91 Q792.776 1542.16 797.36 1537.53 Q801.966 1532.88 803.147 1531.53 Q805.392 1529.01 806.272 1527.27 Q807.175 1525.51 807.175 1523.82 Q807.175 1521.07 805.23 1519.33 Q803.309 1517.6 800.207 1517.6 Q798.008 1517.6 795.554 1518.36 Q793.124 1519.13 790.346 1520.68 L790.346 1515.95 Q793.17 1514.82 795.624 1514.24 Q798.077 1513.66 800.114 1513.66 Q805.485 1513.66 808.679 1516.35 Q811.874 1519.03 811.874 1523.52 Q811.874 1525.65 811.063 1527.57 Q810.276 1529.47 808.17 1532.07 Q807.591 1532.74 804.489 1535.95 Q801.388 1539.15 795.739 1544.91 Z\" fill=\"#000000\" fill-rule=\"nonzero\" fill-opacity=\"1\" /><path clip-path=\"url(#clip490)\" d=\"M1024.81 1532.02 L1054.48 1532.02 L1054.48 1535.95 L1024.81 1535.95 L1024.81 1532.02 Z\" fill=\"#000000\" fill-rule=\"nonzero\" fill-opacity=\"1\" /><path clip-path=\"url(#clip490)\" d=\"M1074.57 1517.37 Q1070.96 1517.37 1069.13 1520.93 Q1067.33 1524.47 1067.33 1531.6 Q1067.33 1538.71 1069.13 1542.27 Q1070.96 1545.82 1074.57 1545.82 Q1078.21 1545.82 1080.01 1542.27 Q1081.84 1538.71 1081.84 1531.6 Q1081.84 1524.47 1080.01 1520.93 Q1078.21 1517.37 1074.57 1517.37 M1074.57 1513.66 Q1080.38 1513.66 1083.44 1518.27 Q1086.52 1522.85 1086.52 1531.6 Q1086.52 1540.33 1083.44 1544.94 Q1080.38 1549.52 1074.57 1549.52 Q1068.76 1549.52 1065.69 1544.94 Q1062.63 1540.33 1062.63 1531.6 Q1062.63 1522.85 1065.69 1518.27 Q1068.76 1513.66 1074.57 1513.66 Z\" fill=\"#000000\" fill-rule=\"nonzero\" fill-opacity=\"1\" /><path clip-path=\"url(#clip490)\" d=\"M1094.74 1542.97 L1099.62 1542.97 L1099.62 1548.85 L1094.74 1548.85 L1094.74 1542.97 Z\" fill=\"#000000\" fill-rule=\"nonzero\" fill-opacity=\"1\" /><path clip-path=\"url(#clip490)\" d=\"M1110.62 1544.91 L1118.25 1544.91 L1118.25 1518.55 L1109.94 1520.21 L1109.94 1515.95 L1118.21 1514.29 L1122.88 1514.29 L1122.88 1544.91 L1130.52 1544.91 L1130.52 1548.85 L1110.62 1548.85 L1110.62 1544.91 Z\" fill=\"#000000\" fill-rule=\"nonzero\" fill-opacity=\"1\" /><path clip-path=\"url(#clip490)\" d=\"M1373.33 1517.37 Q1369.72 1517.37 1367.89 1520.93 Q1366.08 1524.47 1366.08 1531.6 Q1366.08 1538.71 1367.89 1542.27 Q1369.72 1545.82 1373.33 1545.82 Q1376.96 1545.82 1378.77 1542.27 Q1380.6 1538.71 1380.6 1531.6 Q1380.6 1524.47 1378.77 1520.93 Q1376.96 1517.37 1373.33 1517.37 M1373.33 1513.66 Q1379.14 1513.66 1382.19 1518.27 Q1385.27 1522.85 1385.27 1531.6 Q1385.27 1540.33 1382.19 1544.94 Q1379.14 1549.52 1373.33 1549.52 Q1367.52 1549.52 1364.44 1544.94 Q1361.38 1540.33 1361.38 1531.6 Q1361.38 1522.85 1364.44 1518.27 Q1367.52 1513.66 1373.33 1513.66 Z\" fill=\"#000000\" fill-rule=\"nonzero\" fill-opacity=\"1\" /><path clip-path=\"url(#clip490)\" d=\"M1393.49 1542.97 L1398.37 1542.97 L1398.37 1548.85 L1393.49 1548.85 L1393.49 1542.97 Z\" fill=\"#000000\" fill-rule=\"nonzero\" fill-opacity=\"1\" /><path clip-path=\"url(#clip490)\" d=\"M1418.56 1517.37 Q1414.95 1517.37 1413.12 1520.93 Q1411.31 1524.47 1411.31 1531.6 Q1411.31 1538.71 1413.12 1542.27 Q1414.95 1545.82 1418.56 1545.82 Q1422.19 1545.82 1424 1542.27 Q1425.83 1538.71 1425.83 1531.6 Q1425.83 1524.47 1424 1520.93 Q1422.19 1517.37 1418.56 1517.37 M1418.56 1513.66 Q1424.37 1513.66 1427.42 1518.27 Q1430.5 1522.85 1430.5 1531.6 Q1430.5 1540.33 1427.42 1544.94 Q1424.37 1549.52 1418.56 1549.52 Q1412.75 1549.52 1409.67 1544.94 Q1406.61 1540.33 1406.61 1531.6 Q1406.61 1522.85 1409.67 1518.27 Q1412.75 1513.66 1418.56 1513.66 Z\" fill=\"#000000\" fill-rule=\"nonzero\" fill-opacity=\"1\" /><path clip-path=\"url(#clip490)\" d=\"M1692.22 1517.37 Q1688.61 1517.37 1686.78 1520.93 Q1684.97 1524.47 1684.97 1531.6 Q1684.97 1538.71 1686.78 1542.27 Q1688.61 1545.82 1692.22 1545.82 Q1695.85 1545.82 1697.66 1542.27 Q1699.49 1538.71 1699.49 1531.6 Q1699.49 1524.47 1697.66 1520.93 Q1695.85 1517.37 1692.22 1517.37 M1692.22 1513.66 Q1698.03 1513.66 1701.09 1518.27 Q1704.16 1522.85 1704.16 1531.6 Q1704.16 1540.33 1701.09 1544.94 Q1698.03 1549.52 1692.22 1549.52 Q1686.41 1549.52 1683.33 1544.94 Q1680.28 1540.33 1680.28 1531.6 Q1680.28 1522.85 1683.33 1518.27 Q1686.41 1513.66 1692.22 1513.66 Z\" fill=\"#000000\" fill-rule=\"nonzero\" fill-opacity=\"1\" /><path clip-path=\"url(#clip490)\" d=\"M1712.38 1542.97 L1717.27 1542.97 L1717.27 1548.85 L1712.38 1548.85 L1712.38 1542.97 Z\" fill=\"#000000\" fill-rule=\"nonzero\" fill-opacity=\"1\" /><path clip-path=\"url(#clip490)\" d=\"M1728.26 1544.91 L1735.9 1544.91 L1735.9 1518.55 L1727.59 1520.21 L1727.59 1515.95 L1735.85 1514.29 L1740.53 1514.29 L1740.53 1544.91 L1748.17 1544.91 L1748.17 1548.85 L1728.26 1548.85 L1728.26 1544.91 Z\" fill=\"#000000\" fill-rule=\"nonzero\" fill-opacity=\"1\" /><path clip-path=\"url(#clip490)\" d=\"M2010.68 1517.37 Q2007.07 1517.37 2005.24 1520.93 Q2003.44 1524.47 2003.44 1531.6 Q2003.44 1538.71 2005.24 1542.27 Q2007.07 1545.82 2010.68 1545.82 Q2014.32 1545.82 2016.12 1542.27 Q2017.95 1538.71 2017.95 1531.6 Q2017.95 1524.47 2016.12 1520.93 Q2014.32 1517.37 2010.68 1517.37 M2010.68 1513.66 Q2016.49 1513.66 2019.55 1518.27 Q2022.63 1522.85 2022.63 1531.6 Q2022.63 1540.33 2019.55 1544.94 Q2016.49 1549.52 2010.68 1549.52 Q2004.87 1549.52 2001.8 1544.94 Q1998.74 1540.33 1998.74 1531.6 Q1998.74 1522.85 2001.8 1518.27 Q2004.87 1513.66 2010.68 1513.66 Z\" fill=\"#000000\" fill-rule=\"nonzero\" fill-opacity=\"1\" /><path clip-path=\"url(#clip490)\" d=\"M2030.85 1542.97 L2035.73 1542.97 L2035.73 1548.85 L2030.85 1548.85 L2030.85 1542.97 Z\" fill=\"#000000\" fill-rule=\"nonzero\" fill-opacity=\"1\" /><path clip-path=\"url(#clip490)\" d=\"M2049.94 1544.91 L2066.26 1544.91 L2066.26 1548.85 L2044.32 1548.85 L2044.32 1544.91 Q2046.98 1542.16 2051.56 1537.53 Q2056.17 1532.88 2057.35 1531.53 Q2059.6 1529.01 2060.48 1527.27 Q2061.38 1525.51 2061.38 1523.82 Q2061.38 1521.07 2059.43 1519.33 Q2057.51 1517.6 2054.41 1517.6 Q2052.21 1517.6 2049.76 1518.36 Q2047.33 1519.13 2044.55 1520.68 L2044.55 1515.95 Q2047.37 1514.82 2049.83 1514.24 Q2052.28 1513.66 2054.32 1513.66 Q2059.69 1513.66 2062.88 1516.35 Q2066.08 1519.03 2066.08 1523.52 Q2066.08 1525.65 2065.27 1527.57 Q2064.48 1529.47 2062.37 1532.07 Q2061.79 1532.74 2058.69 1535.95 Q2055.59 1539.15 2049.94 1544.91 Z\" fill=\"#000000\" fill-rule=\"nonzero\" fill-opacity=\"1\" /><path clip-path=\"url(#clip490)\" d=\"M2328.49 1517.37 Q2324.88 1517.37 2323.05 1520.93 Q2321.24 1524.47 2321.24 1531.6 Q2321.24 1538.71 2323.05 1542.27 Q2324.88 1545.82 2328.49 1545.82 Q2332.12 1545.82 2333.93 1542.27 Q2335.76 1538.71 2335.76 1531.6 Q2335.76 1524.47 2333.93 1520.93 Q2332.12 1517.37 2328.49 1517.37 M2328.49 1513.66 Q2334.3 1513.66 2337.35 1518.27 Q2340.43 1522.85 2340.43 1531.6 Q2340.43 1540.33 2337.35 1544.94 Q2334.3 1549.52 2328.49 1549.52 Q2322.68 1549.52 2319.6 1544.94 Q2316.54 1540.33 2316.54 1531.6 Q2316.54 1522.85 2319.6 1518.27 Q2322.68 1513.66 2328.49 1513.66 Z\" fill=\"#000000\" fill-rule=\"nonzero\" fill-opacity=\"1\" /><path clip-path=\"url(#clip490)\" d=\"M2348.65 1542.97 L2353.53 1542.97 L2353.53 1548.85 L2348.65 1548.85 L2348.65 1542.97 Z\" fill=\"#000000\" fill-rule=\"nonzero\" fill-opacity=\"1\" /><path clip-path=\"url(#clip490)\" d=\"M2377.89 1530.21 Q2381.24 1530.93 2383.12 1533.2 Q2385.02 1535.47 2385.02 1538.8 Q2385.02 1543.92 2381.5 1546.72 Q2377.98 1549.52 2371.5 1549.52 Q2369.32 1549.52 2367.01 1549.08 Q2364.71 1548.66 2362.26 1547.81 L2362.26 1543.29 Q2364.21 1544.43 2366.52 1545.01 Q2368.84 1545.58 2371.36 1545.58 Q2375.76 1545.58 2378.05 1543.85 Q2380.36 1542.11 2380.36 1538.8 Q2380.36 1535.75 2378.21 1534.03 Q2376.08 1532.3 2372.26 1532.3 L2368.23 1532.3 L2368.23 1528.45 L2372.45 1528.45 Q2375.9 1528.45 2377.72 1527.09 Q2379.55 1525.7 2379.55 1523.11 Q2379.55 1520.45 2377.65 1519.03 Q2375.78 1517.6 2372.26 1517.6 Q2370.34 1517.6 2368.14 1518.01 Q2365.94 1518.43 2363.3 1519.31 L2363.3 1515.14 Q2365.96 1514.4 2368.28 1514.03 Q2370.62 1513.66 2372.68 1513.66 Q2378 1513.66 2381.1 1516.09 Q2384.21 1518.5 2384.21 1522.62 Q2384.21 1525.49 2382.56 1527.48 Q2380.92 1529.45 2377.89 1530.21 Z\" fill=\"#000000\" fill-rule=\"nonzero\" fill-opacity=\"1\" /><polyline clip-path=\"url(#clip492)\" style=\"stroke:#000000; stroke-linecap:round; stroke-linejoin:round; stroke-width:2; stroke-opacity:0.1; fill:none\" points=\"138.959,1445.72 2352.76,1445.72 \"/>\n",
       "<polyline clip-path=\"url(#clip492)\" style=\"stroke:#000000; stroke-linecap:round; stroke-linejoin:round; stroke-width:2; stroke-opacity:0.1; fill:none\" points=\"138.959,1234.43 2352.76,1234.43 \"/>\n",
       "<polyline clip-path=\"url(#clip492)\" style=\"stroke:#000000; stroke-linecap:round; stroke-linejoin:round; stroke-width:2; stroke-opacity:0.1; fill:none\" points=\"138.959,1023.15 2352.76,1023.15 \"/>\n",
       "<polyline clip-path=\"url(#clip492)\" style=\"stroke:#000000; stroke-linecap:round; stroke-linejoin:round; stroke-width:2; stroke-opacity:0.1; fill:none\" points=\"138.959,811.869 2352.76,811.869 \"/>\n",
       "<polyline clip-path=\"url(#clip492)\" style=\"stroke:#000000; stroke-linecap:round; stroke-linejoin:round; stroke-width:2; stroke-opacity:0.1; fill:none\" points=\"138.959,600.587 2352.76,600.587 \"/>\n",
       "<polyline clip-path=\"url(#clip492)\" style=\"stroke:#000000; stroke-linecap:round; stroke-linejoin:round; stroke-width:2; stroke-opacity:0.1; fill:none\" points=\"138.959,389.305 2352.76,389.305 \"/>\n",
       "<polyline clip-path=\"url(#clip492)\" style=\"stroke:#000000; stroke-linecap:round; stroke-linejoin:round; stroke-width:2; stroke-opacity:0.1; fill:none\" points=\"138.959,178.023 2352.76,178.023 \"/>\n",
       "<polyline clip-path=\"url(#clip490)\" style=\"stroke:#000000; stroke-linecap:round; stroke-linejoin:round; stroke-width:4; stroke-opacity:1; fill:none\" points=\"138.959,1486.45 138.959,47.2441 \"/>\n",
       "<polyline clip-path=\"url(#clip490)\" style=\"stroke:#000000; stroke-linecap:round; stroke-linejoin:round; stroke-width:4; stroke-opacity:1; fill:none\" points=\"138.959,1445.72 157.857,1445.72 \"/>\n",
       "<polyline clip-path=\"url(#clip490)\" style=\"stroke:#000000; stroke-linecap:round; stroke-linejoin:round; stroke-width:4; stroke-opacity:1; fill:none\" points=\"138.959,1234.43 157.857,1234.43 \"/>\n",
       "<polyline clip-path=\"url(#clip490)\" style=\"stroke:#000000; stroke-linecap:round; stroke-linejoin:round; stroke-width:4; stroke-opacity:1; fill:none\" points=\"138.959,1023.15 157.857,1023.15 \"/>\n",
       "<polyline clip-path=\"url(#clip490)\" style=\"stroke:#000000; stroke-linecap:round; stroke-linejoin:round; stroke-width:4; stroke-opacity:1; fill:none\" points=\"138.959,811.869 157.857,811.869 \"/>\n",
       "<polyline clip-path=\"url(#clip490)\" style=\"stroke:#000000; stroke-linecap:round; stroke-linejoin:round; stroke-width:4; stroke-opacity:1; fill:none\" points=\"138.959,600.587 157.857,600.587 \"/>\n",
       "<polyline clip-path=\"url(#clip490)\" style=\"stroke:#000000; stroke-linecap:round; stroke-linejoin:round; stroke-width:4; stroke-opacity:1; fill:none\" points=\"138.959,389.305 157.857,389.305 \"/>\n",
       "<polyline clip-path=\"url(#clip490)\" style=\"stroke:#000000; stroke-linecap:round; stroke-linejoin:round; stroke-width:4; stroke-opacity:1; fill:none\" points=\"138.959,178.023 157.857,178.023 \"/>\n",
       "<path clip-path=\"url(#clip490)\" d=\"M91.0151 1431.51 Q87.404 1431.51 85.5753 1435.08 Q83.7697 1438.62 83.7697 1445.75 Q83.7697 1452.86 85.5753 1456.42 Q87.404 1459.96 91.0151 1459.96 Q94.6493 1459.96 96.4548 1456.42 Q98.2835 1452.86 98.2835 1445.75 Q98.2835 1438.62 96.4548 1435.08 Q94.6493 1431.51 91.0151 1431.51 M91.0151 1427.81 Q96.8252 1427.81 99.8808 1432.42 Q102.959 1437 102.959 1445.75 Q102.959 1454.48 99.8808 1459.08 Q96.8252 1463.67 91.0151 1463.67 Q85.2049 1463.67 82.1262 1459.08 Q79.0707 1454.48 79.0707 1445.75 Q79.0707 1437 82.1262 1432.42 Q85.2049 1427.81 91.0151 1427.81 Z\" fill=\"#000000\" fill-rule=\"nonzero\" fill-opacity=\"1\" /><path clip-path=\"url(#clip490)\" d=\"M86.6401 1247.78 L102.959 1247.78 L102.959 1251.71 L81.0151 1251.71 L81.0151 1247.78 Q83.6771 1245.02 88.2604 1240.39 Q92.8669 1235.74 94.0475 1234.4 Q96.2928 1231.88 97.1724 1230.14 Q98.0752 1228.38 98.0752 1226.69 Q98.0752 1223.94 96.1308 1222.2 Q94.2095 1220.46 91.1077 1220.46 Q88.9086 1220.46 86.4549 1221.23 Q84.0244 1221.99 81.2466 1223.54 L81.2466 1218.82 Q84.0707 1217.69 86.5243 1217.11 Q88.978 1216.53 91.0151 1216.53 Q96.3854 1216.53 99.5798 1219.21 Q102.774 1221.9 102.774 1226.39 Q102.774 1228.52 101.964 1230.44 Q101.177 1232.34 99.0706 1234.93 Q98.4919 1235.6 95.39 1238.82 Q92.2882 1242.01 86.6401 1247.78 Z\" fill=\"#000000\" fill-rule=\"nonzero\" fill-opacity=\"1\" /><path clip-path=\"url(#clip490)\" d=\"M93.3762 1009.95 L81.5707 1028.39 L93.3762 1028.39 L93.3762 1009.95 M92.1493 1005.87 L98.0289 1005.87 L98.0289 1028.39 L102.959 1028.39 L102.959 1032.28 L98.0289 1032.28 L98.0289 1040.43 L93.3762 1040.43 L93.3762 1032.28 L77.7744 1032.28 L77.7744 1027.77 L92.1493 1005.87 Z\" fill=\"#000000\" fill-rule=\"nonzero\" fill-opacity=\"1\" /><path clip-path=\"url(#clip490)\" d=\"M91.4317 810.006 Q88.2836 810.006 86.4318 812.159 Q84.6031 814.311 84.6031 818.061 Q84.6031 821.788 86.4318 823.964 Q88.2836 826.117 91.4317 826.117 Q94.5799 826.117 96.4085 823.964 Q98.2604 821.788 98.2604 818.061 Q98.2604 814.311 96.4085 812.159 Q94.5799 810.006 91.4317 810.006 M100.714 795.353 L100.714 799.612 Q98.9548 798.779 97.1493 798.339 Q95.3669 797.899 93.6076 797.899 Q88.978 797.899 86.5243 801.024 Q84.0938 804.149 83.7466 810.469 Q85.1123 808.455 87.1725 807.39 Q89.2327 806.302 91.7095 806.302 Q96.9178 806.302 99.927 809.473 Q102.959 812.622 102.959 818.061 Q102.959 823.385 99.8113 826.603 Q96.6632 829.82 91.4317 829.82 Q85.4364 829.82 82.2651 825.237 Q79.0938 820.631 79.0938 811.904 Q79.0938 803.71 82.9827 798.848 Q86.8716 793.964 93.4225 793.964 Q95.1817 793.964 96.9641 794.311 Q98.7696 794.659 100.714 795.353 Z\" fill=\"#000000\" fill-rule=\"nonzero\" fill-opacity=\"1\" /><path clip-path=\"url(#clip490)\" d=\"M91.1077 601.455 Q87.7743 601.455 85.8531 603.237 Q83.9549 605.02 83.9549 608.145 Q83.9549 611.27 85.8531 613.052 Q87.7743 614.835 91.1077 614.835 Q94.441 614.835 96.3623 613.052 Q98.2835 611.247 98.2835 608.145 Q98.2835 605.02 96.3623 603.237 Q94.4641 601.455 91.1077 601.455 M86.4318 599.464 Q83.4225 598.724 81.7327 596.663 Q80.066 594.603 80.066 591.64 Q80.066 587.497 83.0058 585.089 Q85.9688 582.682 91.1077 582.682 Q96.2697 582.682 99.2095 585.089 Q102.149 587.497 102.149 591.64 Q102.149 594.603 100.459 596.663 Q98.7928 598.724 95.8067 599.464 Q99.1863 600.251 101.061 602.543 Q102.959 604.835 102.959 608.145 Q102.959 613.168 99.8808 615.853 Q96.8252 618.538 91.1077 618.538 Q85.3901 618.538 82.3114 615.853 Q79.2559 613.168 79.2559 608.145 Q79.2559 604.835 81.154 602.543 Q83.0521 600.251 86.4318 599.464 M84.7188 592.08 Q84.7188 594.765 86.3855 596.27 Q88.0753 597.775 91.1077 597.775 Q94.1169 597.775 95.8067 596.27 Q97.5197 594.765 97.5197 592.08 Q97.5197 589.395 95.8067 587.89 Q94.1169 586.386 91.1077 586.386 Q88.0753 586.386 86.3855 587.89 Q84.7188 589.395 84.7188 592.08 Z\" fill=\"#000000\" fill-rule=\"nonzero\" fill-opacity=\"1\" /><path clip-path=\"url(#clip490)\" d=\"M51.6634 402.65 L59.3023 402.65 L59.3023 376.284 L50.9921 377.951 L50.9921 373.692 L59.256 372.025 L63.9319 372.025 L63.9319 402.65 L71.5707 402.65 L71.5707 406.585 L51.6634 406.585 L51.6634 402.65 Z\" fill=\"#000000\" fill-rule=\"nonzero\" fill-opacity=\"1\" /><path clip-path=\"url(#clip490)\" d=\"M91.0151 375.104 Q87.404 375.104 85.5753 378.668 Q83.7697 382.21 83.7697 389.34 Q83.7697 396.446 85.5753 400.011 Q87.404 403.552 91.0151 403.552 Q94.6493 403.552 96.4548 400.011 Q98.2835 396.446 98.2835 389.34 Q98.2835 382.21 96.4548 378.668 Q94.6493 375.104 91.0151 375.104 M91.0151 371.4 Q96.8252 371.4 99.8808 376.006 Q102.959 380.59 102.959 389.34 Q102.959 398.066 99.8808 402.673 Q96.8252 407.256 91.0151 407.256 Q85.2049 407.256 82.1262 402.673 Q79.0707 398.066 79.0707 389.34 Q79.0707 380.59 82.1262 376.006 Q85.2049 371.4 91.0151 371.4 Z\" fill=\"#000000\" fill-rule=\"nonzero\" fill-opacity=\"1\" /><path clip-path=\"url(#clip490)\" d=\"M53.2606 191.368 L60.8995 191.368 L60.8995 165.002 L52.5893 166.669 L52.5893 162.409 L60.8532 160.743 L65.5291 160.743 L65.5291 191.368 L73.1679 191.368 L73.1679 195.303 L53.2606 195.303 L53.2606 191.368 Z\" fill=\"#000000\" fill-rule=\"nonzero\" fill-opacity=\"1\" /><path clip-path=\"url(#clip490)\" d=\"M86.6401 191.368 L102.959 191.368 L102.959 195.303 L81.0151 195.303 L81.0151 191.368 Q83.6771 188.613 88.2604 183.983 Q92.8669 179.331 94.0475 177.988 Q96.2928 175.465 97.1724 173.729 Q98.0752 171.969 98.0752 170.28 Q98.0752 167.525 96.1308 165.789 Q94.2095 164.053 91.1077 164.053 Q88.9086 164.053 86.4549 164.817 Q84.0244 165.581 81.2466 167.132 L81.2466 162.409 Q84.0707 161.275 86.5243 160.696 Q88.978 160.118 91.0151 160.118 Q96.3854 160.118 99.5798 162.803 Q102.774 165.488 102.774 169.979 Q102.774 172.108 101.964 174.03 Q101.177 175.928 99.0706 178.52 Q98.4919 179.192 95.39 182.409 Q92.2882 185.604 86.6401 191.368 Z\" fill=\"#000000\" fill-rule=\"nonzero\" fill-opacity=\"1\" /><path clip-path=\"url(#clip492)\" d=\"M260.722 1445.72 L260.722 1445.72 L328.663 1445.72 L328.663 1445.72 L260.722 1445.72 L260.722 1445.72  Z\" fill=\"#009af9\" fill-rule=\"evenodd\" fill-opacity=\"1\"/>\n",
       "<polyline clip-path=\"url(#clip492)\" style=\"stroke:#000000; stroke-linecap:round; stroke-linejoin:round; stroke-width:4; stroke-opacity:1; fill:none\" points=\"260.722,1445.72 260.722,1445.72 328.663,1445.72 260.722,1445.72 \"/>\n",
       "<path clip-path=\"url(#clip492)\" d=\"M328.663 1445.72 L328.663 1445.72 L396.603 1445.72 L396.603 1445.72 L328.663 1445.72 L328.663 1445.72  Z\" fill=\"#009af9\" fill-rule=\"evenodd\" fill-opacity=\"1\"/>\n",
       "<polyline clip-path=\"url(#clip492)\" style=\"stroke:#000000; stroke-linecap:round; stroke-linejoin:round; stroke-width:4; stroke-opacity:1; fill:none\" points=\"328.663,1445.72 328.663,1445.72 396.603,1445.72 328.663,1445.72 \"/>\n",
       "<path clip-path=\"url(#clip492)\" d=\"M396.603 1445.72 L396.603 1445.72 L464.543 1445.72 L464.543 1445.72 L396.603 1445.72 L396.603 1445.72  Z\" fill=\"#009af9\" fill-rule=\"evenodd\" fill-opacity=\"1\"/>\n",
       "<polyline clip-path=\"url(#clip492)\" style=\"stroke:#000000; stroke-linecap:round; stroke-linejoin:round; stroke-width:4; stroke-opacity:1; fill:none\" points=\"396.603,1445.72 396.603,1445.72 464.543,1445.72 396.603,1445.72 \"/>\n",
       "<path clip-path=\"url(#clip492)\" d=\"M464.543 1445.72 L464.543 1445.72 L532.484 1445.72 L532.484 1445.72 L464.543 1445.72 L464.543 1445.72  Z\" fill=\"#009af9\" fill-rule=\"evenodd\" fill-opacity=\"1\"/>\n",
       "<polyline clip-path=\"url(#clip492)\" style=\"stroke:#000000; stroke-linecap:round; stroke-linejoin:round; stroke-width:4; stroke-opacity:1; fill:none\" points=\"464.543,1445.72 464.543,1445.72 532.484,1445.72 464.543,1445.72 \"/>\n",
       "<path clip-path=\"url(#clip492)\" d=\"M532.484 1445.72 L532.484 1445.72 L600.424 1445.72 L600.424 1445.72 L532.484 1445.72 L532.484 1445.72  Z\" fill=\"#009af9\" fill-rule=\"evenodd\" fill-opacity=\"1\"/>\n",
       "<polyline clip-path=\"url(#clip492)\" style=\"stroke:#000000; stroke-linecap:round; stroke-linejoin:round; stroke-width:4; stroke-opacity:1; fill:none\" points=\"532.484,1445.72 532.484,1445.72 600.424,1445.72 532.484,1445.72 \"/>\n",
       "<path clip-path=\"url(#clip492)\" d=\"M600.424 1444.27 L600.424 1445.72 L668.364 1445.72 L668.364 1444.27 L600.424 1444.27 L600.424 1444.27  Z\" fill=\"#009af9\" fill-rule=\"evenodd\" fill-opacity=\"1\"/>\n",
       "<polyline clip-path=\"url(#clip492)\" style=\"stroke:#000000; stroke-linecap:round; stroke-linejoin:round; stroke-width:4; stroke-opacity:1; fill:none\" points=\"600.424,1444.27 600.424,1445.72 668.364,1445.72 668.364,1444.27 600.424,1444.27 \"/>\n",
       "<path clip-path=\"url(#clip492)\" d=\"M668.364 1444.27 L668.364 1445.72 L736.305 1445.72 L736.305 1444.27 L668.364 1444.27 L668.364 1444.27  Z\" fill=\"#009af9\" fill-rule=\"evenodd\" fill-opacity=\"1\"/>\n",
       "<polyline clip-path=\"url(#clip492)\" style=\"stroke:#000000; stroke-linecap:round; stroke-linejoin:round; stroke-width:4; stroke-opacity:1; fill:none\" points=\"668.364,1444.27 668.364,1445.72 736.305,1445.72 736.305,1444.27 668.364,1444.27 \"/>\n",
       "<path clip-path=\"url(#clip492)\" d=\"M736.305 1444.27 L736.305 1445.72 L804.245 1445.72 L804.245 1444.27 L736.305 1444.27 L736.305 1444.27  Z\" fill=\"#009af9\" fill-rule=\"evenodd\" fill-opacity=\"1\"/>\n",
       "<polyline clip-path=\"url(#clip492)\" style=\"stroke:#000000; stroke-linecap:round; stroke-linejoin:round; stroke-width:4; stroke-opacity:1; fill:none\" points=\"736.305,1444.27 736.305,1445.72 804.245,1445.72 804.245,1444.27 736.305,1444.27 \"/>\n",
       "<path clip-path=\"url(#clip492)\" d=\"M804.245 1438.48 L804.245 1445.72 L872.186 1445.72 L872.186 1438.48 L804.245 1438.48 L804.245 1438.48  Z\" fill=\"#009af9\" fill-rule=\"evenodd\" fill-opacity=\"1\"/>\n",
       "<polyline clip-path=\"url(#clip492)\" style=\"stroke:#000000; stroke-linecap:round; stroke-linejoin:round; stroke-width:4; stroke-opacity:1; fill:none\" points=\"804.245,1438.48 804.245,1445.72 872.186,1445.72 872.186,1438.48 804.245,1438.48 \"/>\n",
       "<path clip-path=\"url(#clip492)\" d=\"M872.186 1438.48 L872.186 1445.72 L940.126 1445.72 L940.126 1438.48 L872.186 1438.48 L872.186 1438.48  Z\" fill=\"#009af9\" fill-rule=\"evenodd\" fill-opacity=\"1\"/>\n",
       "<polyline clip-path=\"url(#clip492)\" style=\"stroke:#000000; stroke-linecap:round; stroke-linejoin:round; stroke-width:4; stroke-opacity:1; fill:none\" points=\"872.186,1438.48 872.186,1445.72 940.126,1445.72 940.126,1438.48 872.186,1438.48 \"/>\n",
       "<path clip-path=\"url(#clip492)\" d=\"M940.126 1434.14 L940.126 1445.72 L1008.07 1445.72 L1008.07 1434.14 L940.126 1434.14 L940.126 1434.14  Z\" fill=\"#009af9\" fill-rule=\"evenodd\" fill-opacity=\"1\"/>\n",
       "<polyline clip-path=\"url(#clip492)\" style=\"stroke:#000000; stroke-linecap:round; stroke-linejoin:round; stroke-width:4; stroke-opacity:1; fill:none\" points=\"940.126,1434.14 940.126,1445.72 1008.07,1445.72 1008.07,1434.14 940.126,1434.14 \"/>\n",
       "<path clip-path=\"url(#clip492)\" d=\"M1008.07 1416.77 L1008.07 1445.72 L1076.01 1445.72 L1076.01 1416.77 L1008.07 1416.77 L1008.07 1416.77  Z\" fill=\"#009af9\" fill-rule=\"evenodd\" fill-opacity=\"1\"/>\n",
       "<polyline clip-path=\"url(#clip492)\" style=\"stroke:#000000; stroke-linecap:round; stroke-linejoin:round; stroke-width:4; stroke-opacity:1; fill:none\" points=\"1008.07,1416.77 1008.07,1445.72 1076.01,1445.72 1076.01,1416.77 1008.07,1416.77 \"/>\n",
       "<path clip-path=\"url(#clip492)\" d=\"M1076.01 1384.92 L1076.01 1445.72 L1143.95 1445.72 L1143.95 1384.92 L1076.01 1384.92 L1076.01 1384.92  Z\" fill=\"#009af9\" fill-rule=\"evenodd\" fill-opacity=\"1\"/>\n",
       "<polyline clip-path=\"url(#clip492)\" style=\"stroke:#000000; stroke-linecap:round; stroke-linejoin:round; stroke-width:4; stroke-opacity:1; fill:none\" points=\"1076.01,1384.92 1076.01,1445.72 1143.95,1445.72 1143.95,1384.92 1076.01,1384.92 \"/>\n",
       "<path clip-path=\"url(#clip492)\" d=\"M1143.95 1313.99 L1143.95 1445.72 L1211.89 1445.72 L1211.89 1313.99 L1143.95 1313.99 L1143.95 1313.99  Z\" fill=\"#009af9\" fill-rule=\"evenodd\" fill-opacity=\"1\"/>\n",
       "<polyline clip-path=\"url(#clip492)\" style=\"stroke:#000000; stroke-linecap:round; stroke-linejoin:round; stroke-width:4; stroke-opacity:1; fill:none\" points=\"1143.95,1313.99 1143.95,1445.72 1211.89,1445.72 1211.89,1313.99 1143.95,1313.99 \"/>\n",
       "<path clip-path=\"url(#clip492)\" d=\"M1211.89 1180.83 L1211.89 1445.72 L1279.83 1445.72 L1279.83 1180.83 L1211.89 1180.83 L1211.89 1180.83  Z\" fill=\"#009af9\" fill-rule=\"evenodd\" fill-opacity=\"1\"/>\n",
       "<polyline clip-path=\"url(#clip492)\" style=\"stroke:#000000; stroke-linecap:round; stroke-linejoin:round; stroke-width:4; stroke-opacity:1; fill:none\" points=\"1211.89,1180.83 1211.89,1445.72 1279.83,1445.72 1279.83,1180.83 1211.89,1180.83 \"/>\n",
       "<path clip-path=\"url(#clip492)\" d=\"M1279.83 733.554 L1279.83 1445.72 L1347.77 1445.72 L1347.77 733.554 L1279.83 733.554 L1279.83 733.554  Z\" fill=\"#009af9\" fill-rule=\"evenodd\" fill-opacity=\"1\"/>\n",
       "<polyline clip-path=\"url(#clip492)\" style=\"stroke:#000000; stroke-linecap:round; stroke-linejoin:round; stroke-width:4; stroke-opacity:1; fill:none\" points=\"1279.83,733.554 1279.83,1445.72 1347.77,1445.72 1347.77,733.554 1279.83,733.554 \"/>\n",
       "<path clip-path=\"url(#clip492)\" d=\"M1347.77 173.378 L1347.77 1445.72 L1415.71 1445.72 L1415.71 173.378 L1347.77 173.378 L1347.77 173.378  Z\" fill=\"#009af9\" fill-rule=\"evenodd\" fill-opacity=\"1\"/>\n",
       "<polyline clip-path=\"url(#clip492)\" style=\"stroke:#000000; stroke-linecap:round; stroke-linejoin:round; stroke-width:4; stroke-opacity:1; fill:none\" points=\"1347.77,173.378 1347.77,1445.72 1415.71,1445.72 1415.71,173.378 1347.77,173.378 \"/>\n",
       "<path clip-path=\"url(#clip492)\" d=\"M1415.71 87.9763 L1415.71 1445.72 L1483.65 1445.72 L1483.65 87.9763 L1415.71 87.9763 L1415.71 87.9763  Z\" fill=\"#009af9\" fill-rule=\"evenodd\" fill-opacity=\"1\"/>\n",
       "<polyline clip-path=\"url(#clip492)\" style=\"stroke:#000000; stroke-linecap:round; stroke-linejoin:round; stroke-width:4; stroke-opacity:1; fill:none\" points=\"1415.71,87.9763 1415.71,1445.72 1483.65,1445.72 1483.65,87.9763 1415.71,87.9763 \"/>\n",
       "<path clip-path=\"url(#clip492)\" d=\"M1483.65 795.796 L1483.65 1445.72 L1551.59 1445.72 L1551.59 795.796 L1483.65 795.796 L1483.65 795.796  Z\" fill=\"#009af9\" fill-rule=\"evenodd\" fill-opacity=\"1\"/>\n",
       "<polyline clip-path=\"url(#clip492)\" style=\"stroke:#000000; stroke-linecap:round; stroke-linejoin:round; stroke-width:4; stroke-opacity:1; fill:none\" points=\"1483.65,795.796 1483.65,1445.72 1551.59,1445.72 1551.59,795.796 1483.65,795.796 \"/>\n",
       "<path clip-path=\"url(#clip492)\" d=\"M1551.59 1241.62 L1551.59 1445.72 L1619.53 1445.72 L1619.53 1241.62 L1551.59 1241.62 L1551.59 1241.62  Z\" fill=\"#009af9\" fill-rule=\"evenodd\" fill-opacity=\"1\"/>\n",
       "<polyline clip-path=\"url(#clip492)\" style=\"stroke:#000000; stroke-linecap:round; stroke-linejoin:round; stroke-width:4; stroke-opacity:1; fill:none\" points=\"1551.59,1241.62 1551.59,1445.72 1619.53,1445.72 1619.53,1241.62 1551.59,1241.62 \"/>\n",
       "<path clip-path=\"url(#clip492)\" d=\"M1619.53 1345.84 L1619.53 1445.72 L1687.47 1445.72 L1687.47 1345.84 L1619.53 1345.84 L1619.53 1345.84  Z\" fill=\"#009af9\" fill-rule=\"evenodd\" fill-opacity=\"1\"/>\n",
       "<polyline clip-path=\"url(#clip492)\" style=\"stroke:#000000; stroke-linecap:round; stroke-linejoin:round; stroke-width:4; stroke-opacity:1; fill:none\" points=\"1619.53,1345.84 1619.53,1445.72 1687.47,1445.72 1687.47,1345.84 1619.53,1345.84 \"/>\n",
       "<path clip-path=\"url(#clip492)\" d=\"M1687.47 1382.03 L1687.47 1445.72 L1755.41 1445.72 L1755.41 1382.03 L1687.47 1382.03 L1687.47 1382.03  Z\" fill=\"#009af9\" fill-rule=\"evenodd\" fill-opacity=\"1\"/>\n",
       "<polyline clip-path=\"url(#clip492)\" style=\"stroke:#000000; stroke-linecap:round; stroke-linejoin:round; stroke-width:4; stroke-opacity:1; fill:none\" points=\"1687.47,1382.03 1687.47,1445.72 1755.41,1445.72 1755.41,1382.03 1687.47,1382.03 \"/>\n",
       "<path clip-path=\"url(#clip492)\" d=\"M1755.41 1421.11 L1755.41 1445.72 L1823.35 1445.72 L1823.35 1421.11 L1755.41 1421.11 L1755.41 1421.11  Z\" fill=\"#009af9\" fill-rule=\"evenodd\" fill-opacity=\"1\"/>\n",
       "<polyline clip-path=\"url(#clip492)\" style=\"stroke:#000000; stroke-linecap:round; stroke-linejoin:round; stroke-width:4; stroke-opacity:1; fill:none\" points=\"1755.41,1421.11 1755.41,1445.72 1823.35,1445.72 1823.35,1421.11 1755.41,1421.11 \"/>\n",
       "<path clip-path=\"url(#clip492)\" d=\"M1823.35 1422.56 L1823.35 1445.72 L1891.29 1445.72 L1891.29 1422.56 L1823.35 1422.56 L1823.35 1422.56  Z\" fill=\"#009af9\" fill-rule=\"evenodd\" fill-opacity=\"1\"/>\n",
       "<polyline clip-path=\"url(#clip492)\" style=\"stroke:#000000; stroke-linecap:round; stroke-linejoin:round; stroke-width:4; stroke-opacity:1; fill:none\" points=\"1823.35,1422.56 1823.35,1445.72 1891.29,1445.72 1891.29,1422.56 1823.35,1422.56 \"/>\n",
       "<path clip-path=\"url(#clip492)\" d=\"M1891.29 1432.69 L1891.29 1445.72 L1959.23 1445.72 L1959.23 1432.69 L1891.29 1432.69 L1891.29 1432.69  Z\" fill=\"#009af9\" fill-rule=\"evenodd\" fill-opacity=\"1\"/>\n",
       "<polyline clip-path=\"url(#clip492)\" style=\"stroke:#000000; stroke-linecap:round; stroke-linejoin:round; stroke-width:4; stroke-opacity:1; fill:none\" points=\"1891.29,1432.69 1891.29,1445.72 1959.23,1445.72 1959.23,1432.69 1891.29,1432.69 \"/>\n",
       "<path clip-path=\"url(#clip492)\" d=\"M1959.23 1439.93 L1959.23 1445.72 L2027.17 1445.72 L2027.17 1439.93 L1959.23 1439.93 L1959.23 1439.93  Z\" fill=\"#009af9\" fill-rule=\"evenodd\" fill-opacity=\"1\"/>\n",
       "<polyline clip-path=\"url(#clip492)\" style=\"stroke:#000000; stroke-linecap:round; stroke-linejoin:round; stroke-width:4; stroke-opacity:1; fill:none\" points=\"1959.23,1439.93 1959.23,1445.72 2027.17,1445.72 2027.17,1439.93 1959.23,1439.93 \"/>\n",
       "<path clip-path=\"url(#clip492)\" d=\"M2027.17 1441.37 L2027.17 1445.72 L2095.11 1445.72 L2095.11 1441.37 L2027.17 1441.37 L2027.17 1441.37  Z\" fill=\"#009af9\" fill-rule=\"evenodd\" fill-opacity=\"1\"/>\n",
       "<polyline clip-path=\"url(#clip492)\" style=\"stroke:#000000; stroke-linecap:round; stroke-linejoin:round; stroke-width:4; stroke-opacity:1; fill:none\" points=\"2027.17,1441.37 2027.17,1445.72 2095.11,1445.72 2095.11,1441.37 2027.17,1441.37 \"/>\n",
       "<path clip-path=\"url(#clip492)\" d=\"M2095.11 1444.27 L2095.11 1445.72 L2163.05 1445.72 L2163.05 1444.27 L2095.11 1444.27 L2095.11 1444.27  Z\" fill=\"#009af9\" fill-rule=\"evenodd\" fill-opacity=\"1\"/>\n",
       "<polyline clip-path=\"url(#clip492)\" style=\"stroke:#000000; stroke-linecap:round; stroke-linejoin:round; stroke-width:4; stroke-opacity:1; fill:none\" points=\"2095.11,1444.27 2095.11,1445.72 2163.05,1445.72 2163.05,1444.27 2095.11,1444.27 \"/>\n",
       "<path clip-path=\"url(#clip492)\" d=\"M2163.05 1445.72 L2163.05 1445.72 L2230.99 1445.72 L2230.99 1445.72 L2163.05 1445.72 L2163.05 1445.72  Z\" fill=\"#009af9\" fill-rule=\"evenodd\" fill-opacity=\"1\"/>\n",
       "<polyline clip-path=\"url(#clip492)\" style=\"stroke:#000000; stroke-linecap:round; stroke-linejoin:round; stroke-width:4; stroke-opacity:1; fill:none\" points=\"2163.05,1445.72 2163.05,1445.72 2230.99,1445.72 2163.05,1445.72 \"/>\n",
       "<circle clip-path=\"url(#clip492)\" style=\"fill:#009af9; stroke:none; fill-opacity:0\" cx=\"294.692\" cy=\"1445.72\" r=\"2\"/>\n",
       "<circle clip-path=\"url(#clip492)\" style=\"fill:#009af9; stroke:none; fill-opacity:0\" cx=\"362.633\" cy=\"1445.72\" r=\"2\"/>\n",
       "<circle clip-path=\"url(#clip492)\" style=\"fill:#009af9; stroke:none; fill-opacity:0\" cx=\"430.573\" cy=\"1445.72\" r=\"2\"/>\n",
       "<circle clip-path=\"url(#clip492)\" style=\"fill:#009af9; stroke:none; fill-opacity:0\" cx=\"498.514\" cy=\"1445.72\" r=\"2\"/>\n",
       "<circle clip-path=\"url(#clip492)\" style=\"fill:#009af9; stroke:none; fill-opacity:0\" cx=\"566.454\" cy=\"1445.72\" r=\"2\"/>\n",
       "<circle clip-path=\"url(#clip492)\" style=\"fill:#009af9; stroke:none; fill-opacity:0\" cx=\"634.394\" cy=\"1444.27\" r=\"2\"/>\n",
       "<circle clip-path=\"url(#clip492)\" style=\"fill:#009af9; stroke:none; fill-opacity:0\" cx=\"702.335\" cy=\"1444.27\" r=\"2\"/>\n",
       "<circle clip-path=\"url(#clip492)\" style=\"fill:#009af9; stroke:none; fill-opacity:0\" cx=\"770.275\" cy=\"1444.27\" r=\"2\"/>\n",
       "<circle clip-path=\"url(#clip492)\" style=\"fill:#009af9; stroke:none; fill-opacity:0\" cx=\"838.215\" cy=\"1438.48\" r=\"2\"/>\n",
       "<circle clip-path=\"url(#clip492)\" style=\"fill:#009af9; stroke:none; fill-opacity:0\" cx=\"906.156\" cy=\"1438.48\" r=\"2\"/>\n",
       "<circle clip-path=\"url(#clip492)\" style=\"fill:#009af9; stroke:none; fill-opacity:0\" cx=\"974.096\" cy=\"1434.14\" r=\"2\"/>\n",
       "<circle clip-path=\"url(#clip492)\" style=\"fill:#009af9; stroke:none; fill-opacity:0\" cx=\"1042.04\" cy=\"1416.77\" r=\"2\"/>\n",
       "<circle clip-path=\"url(#clip492)\" style=\"fill:#009af9; stroke:none; fill-opacity:0\" cx=\"1109.98\" cy=\"1384.92\" r=\"2\"/>\n",
       "<circle clip-path=\"url(#clip492)\" style=\"fill:#009af9; stroke:none; fill-opacity:0\" cx=\"1177.92\" cy=\"1313.99\" r=\"2\"/>\n",
       "<circle clip-path=\"url(#clip492)\" style=\"fill:#009af9; stroke:none; fill-opacity:0\" cx=\"1245.86\" cy=\"1180.83\" r=\"2\"/>\n",
       "<circle clip-path=\"url(#clip492)\" style=\"fill:#009af9; stroke:none; fill-opacity:0\" cx=\"1313.8\" cy=\"733.554\" r=\"2\"/>\n",
       "<circle clip-path=\"url(#clip492)\" style=\"fill:#009af9; stroke:none; fill-opacity:0\" cx=\"1381.74\" cy=\"173.378\" r=\"2\"/>\n",
       "<circle clip-path=\"url(#clip492)\" style=\"fill:#009af9; stroke:none; fill-opacity:0\" cx=\"1449.68\" cy=\"87.9763\" r=\"2\"/>\n",
       "<circle clip-path=\"url(#clip492)\" style=\"fill:#009af9; stroke:none; fill-opacity:0\" cx=\"1517.62\" cy=\"795.796\" r=\"2\"/>\n",
       "<circle clip-path=\"url(#clip492)\" style=\"fill:#009af9; stroke:none; fill-opacity:0\" cx=\"1585.56\" cy=\"1241.62\" r=\"2\"/>\n",
       "<circle clip-path=\"url(#clip492)\" style=\"fill:#009af9; stroke:none; fill-opacity:0\" cx=\"1653.5\" cy=\"1345.84\" r=\"2\"/>\n",
       "<circle clip-path=\"url(#clip492)\" style=\"fill:#009af9; stroke:none; fill-opacity:0\" cx=\"1721.44\" cy=\"1382.03\" r=\"2\"/>\n",
       "<circle clip-path=\"url(#clip492)\" style=\"fill:#009af9; stroke:none; fill-opacity:0\" cx=\"1789.38\" cy=\"1421.11\" r=\"2\"/>\n",
       "<circle clip-path=\"url(#clip492)\" style=\"fill:#009af9; stroke:none; fill-opacity:0\" cx=\"1857.32\" cy=\"1422.56\" r=\"2\"/>\n",
       "<circle clip-path=\"url(#clip492)\" style=\"fill:#009af9; stroke:none; fill-opacity:0\" cx=\"1925.26\" cy=\"1432.69\" r=\"2\"/>\n",
       "<circle clip-path=\"url(#clip492)\" style=\"fill:#009af9; stroke:none; fill-opacity:0\" cx=\"1993.2\" cy=\"1439.93\" r=\"2\"/>\n",
       "<circle clip-path=\"url(#clip492)\" style=\"fill:#009af9; stroke:none; fill-opacity:0\" cx=\"2061.14\" cy=\"1441.37\" r=\"2\"/>\n",
       "<circle clip-path=\"url(#clip492)\" style=\"fill:#009af9; stroke:none; fill-opacity:0\" cx=\"2129.08\" cy=\"1444.27\" r=\"2\"/>\n",
       "<circle clip-path=\"url(#clip492)\" style=\"fill:#009af9; stroke:none; fill-opacity:0\" cx=\"2197.02\" cy=\"1445.72\" r=\"2\"/>\n",
       "<path clip-path=\"url(#clip490)\" d=\"M2005.15 198.898 L2278.96 198.898 L2278.96 95.2176 L2005.15 95.2176  Z\" fill=\"#ffffff\" fill-rule=\"evenodd\" fill-opacity=\"1\"/>\n",
       "<polyline clip-path=\"url(#clip490)\" style=\"stroke:#000000; stroke-linecap:round; stroke-linejoin:round; stroke-width:4; stroke-opacity:1; fill:none\" points=\"2005.15,198.898 2278.96,198.898 2278.96,95.2176 2005.15,95.2176 2005.15,198.898 \"/>\n",
       "<path clip-path=\"url(#clip490)\" d=\"M2029.75 167.794 L2177.34 167.794 L2177.34 126.322 L2029.75 126.322 L2029.75 167.794  Z\" fill=\"#009af9\" fill-rule=\"evenodd\" fill-opacity=\"1\"/>\n",
       "<polyline clip-path=\"url(#clip490)\" style=\"stroke:#000000; stroke-linecap:round; stroke-linejoin:round; stroke-width:4; stroke-opacity:1; fill:none\" points=\"2029.75,167.794 2177.34,167.794 2177.34,126.322 2029.75,126.322 2029.75,167.794 \"/>\n",
       "<path clip-path=\"url(#clip490)\" d=\"M2215.78 166.745 Q2213.97 171.375 2212.26 172.787 Q2210.55 174.199 2207.68 174.199 L2204.27 174.199 L2204.27 170.634 L2206.77 170.634 Q2208.53 170.634 2209.5 169.8 Q2210.48 168.967 2211.66 165.865 L2212.42 163.921 L2201.93 138.412 L2206.45 138.412 L2214.55 158.689 L2222.65 138.412 L2227.17 138.412 L2215.78 166.745 Z\" fill=\"#000000\" fill-rule=\"nonzero\" fill-opacity=\"1\" /><path clip-path=\"url(#clip490)\" d=\"M2234.46 160.402 L2242.1 160.402 L2242.1 134.037 L2233.79 135.703 L2233.79 131.444 L2242.05 129.778 L2246.73 129.778 L2246.73 160.402 L2254.36 160.402 L2254.36 164.338 L2234.46 164.338 L2234.46 160.402 Z\" fill=\"#000000\" fill-rule=\"nonzero\" fill-opacity=\"1\" /></svg>\n"
      ]
     },
     "execution_count": 13,
     "metadata": {},
     "output_type": "execute_result"
    }
   ],
   "source": [
    "histogram(vec(stfp),normalize=:pdf,bins = range(log(0.7),log(1.3),30))"
   ]
  },
  {
   "cell_type": "code",
   "execution_count": 14,
   "id": "06456179-c721-4f34-b0a0-c0aa40f3b5aa",
   "metadata": {},
   "outputs": [
    {
     "data": {
      "text/plain": [
       "-3.4641016151377544"
      ]
     },
     "execution_count": 14,
     "metadata": {},
     "output_type": "execute_result"
    }
   ],
   "source": [
    "-12^.5"
   ]
  },
  {
   "cell_type": "code",
   "execution_count": null,
   "id": "97870315-c65d-4c36-8066-5eed1da48bda",
   "metadata": {},
   "outputs": [],
   "source": []
  }
 ],
 "metadata": {
  "kernelspec": {
   "display_name": "Julia 1.8.0",
   "language": "julia",
   "name": "julia-1.8"
  },
  "language_info": {
   "file_extension": ".jl",
   "mimetype": "application/julia",
   "name": "julia",
   "version": "1.8.0"
  }
 },
 "nbformat": 4,
 "nbformat_minor": 5
}

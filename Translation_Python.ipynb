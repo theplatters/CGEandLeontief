{
 "cells": [
  {
   "cell_type": "markdown",
   "id": "9167773d-11ed-4c2e-9977-ceba8403f95d",
   "metadata": {},
   "source": [
    "## Data Loading\n",
    "Loads in the big data matrix and the stfp matrix created by matlab"
   ]
  },
  {
   "cell_type": "code",
   "execution_count": 1,
   "id": "95079eac-5c20-40c9-a0b7-9811617984be",
   "metadata": {
    "ExecuteTime": {
     "end_time": "2023-09-01T16:50:41.384122425Z",
     "start_time": "2023-09-01T16:50:41.267275297Z"
    }
   },
   "outputs": [],
   "source": [
    "from scipy.io import loadmat\n",
    "\n",
    "def load_in_data():\n",
    "    file = scipy.io.loadmat(\"data/simulationData.mat\")\n",
    "    data = file[\"data\"]\n",
    "    return data\n",
    "\n",
    "def load_stfp():\n",
    "    file = scipy.io.loadmat(\"data/stfp.mat\")\n",
    "    stfp = file[\"stfp\"]\n",
    "    return stfp\n"
   ]
  },
  {
   "cell_type": "markdown",
   "id": "9a348fd9-22b0-406f-ac47-661e3430a6f5",
   "metadata": {},
   "source": [
    "## Data processing\n",
    "Processes the data just as in the matlab version"
   ]
  },
  {
   "cell_type": "code",
   "execution_count": 22,
   "id": "70676b88-66d6-44c0-b2c0-ca73e6dbdd0a",
   "metadata": {},
   "outputs": [
    {
     "name": "stdout",
     "output_type": "stream",
     "text": [
      "C:\\Users\\Rafael\\Documents\\GitHub\\BeyondHulten\n"
     ]
    }
   ],
   "source": [
    "# Set the notebook directory as the working directory\n",
    "%pwd\n",
    "%cd C:\\Users\\Rafael\\Documents\\GitHub\\BeyondHulten"
   ]
  },
  {
   "cell_type": "code",
   "execution_count": 2,
   "id": "b5ea1eb5-cee5-4262-aaf9-af8d118dacbd",
   "metadata": {
    "ExecuteTime": {
     "end_time": "2023-09-01T16:50:47.603772831Z",
     "start_time": "2023-09-01T16:50:47.277452216Z"
    }
   },
   "outputs": [],
   "source": [
    "import numpy as np\n",
    "import pandas as pd\n",
    "import scipy\n",
    "\n",
    "#data is the IO matrix for 88 sectors over 46 years (1960-2005)\n",
    "data2 = load_in_data()\n",
    "ind = pd.MultiIndex.from_arrays(data2[:, (0,1)].T, names=('year','sec'))\n",
    "data = pd.DataFrame(data2[:, 2:93], index=ind)\n",
    "del data2, ind"
   ]
  },
  {
   "cell_type": "code",
   "execution_count": 3,
   "id": "f7b1bdca-9f8c-4e75-85c9-95fb3981948d",
   "metadata": {
    "ExecuteTime": {
     "end_time": "2023-09-01T16:50:48.453892009Z",
     "start_time": "2023-09-01T16:50:48.411473080Z"
    }
   },
   "outputs": [
    {
     "name": "stdout",
     "output_type": "stream",
     "text": [
      "3434.026\n",
      "3433.7749999999996\n",
      "0    88366.023\n",
      "1    25623.402\n",
      "2    31151.107\n",
      "Name: (2005.0, 2.0), dtype: float64\n"
     ]
    }
   ],
   "source": [
    "#Column 0 of datavector contains gross output for each sector\n",
    "print(data.loc[(1960,2),0]*2) #first column times two\n",
    "print(data.loc[(1960,2)].sum()) #summed across all columns (including the sum in column 0 already)\n",
    "#Column 1 and 2 contain labour and capital\n",
    "print(data.loc[(2005,2),0:2])\n",
    "#Columns 3 to 90 contain the 88 sectors\n",
    "#Colum 91 contains noncompetitive imports\n"
   ]
  },
  {
   "cell_type": "code",
   "execution_count": 73,
   "id": "7670f8e1-a673-4a1f-b2ac-90f597e4f636",
   "metadata": {
    "ExecuteTime": {
     "end_time": "2023-09-01T17:10:48.365107946Z",
     "start_time": "2023-09-01T17:10:48.350196467Z"
    }
   },
   "outputs": [],
   "source": [
    "#delete 10 sectors\n",
    "removable_sectors = [59] + list(range(79, 88))\n",
    "data2 = data.drop(index=removable_sectors, level=1)\n",
    "\n",
    "#key aggregates\n",
    "grossy = data2.loc[:,0].unstack().T\n",
    "capital = data2.loc[:,1].unstack().T\n",
    "labor = data2.loc[:,2].unstack().T\n",
    "vadd = labor + capital\n",
    "\n",
    "#remaining sector list\n",
    "sec = list(range(1,89))\n",
    "for i in removable_sectors:\n",
    "    sec.remove(i)\n",
    "len(sec)\n",
    "\n",
    "#delete sectors which don't produce anything\n",
    "grossy.loc[(grossy==0).all(axis=1)] #sectors 8 and 62\n",
    "zeroprod = list(grossy.loc[(grossy==0).all(axis=1)].index.values)\n",
    "\n",
    "grossy = grossy.drop(index=zeroprod)\n",
    "capital = capital.drop(index=zeroprod)\n",
    "labor = labor.drop(index=zeroprod)\n",
    "vadd = vadd.drop(index=zeroprod)\n",
    "\n",
    "stfp = load_stfp()\n",
    "Σ = np.cov(stfp, rowvar=True)\n",
    "μ = np.mean(stfp, axis=1)"
   ]
  },
  {
   "cell_type": "markdown",
   "id": "55d7cee0-eb24-4438-a843-37c8492c7124",
   "metadata": {},
   "source": [
    "## Creating usable variables\n",
    "Function that creates the metrics for a given year"
   ]
  },
  {
   "cell_type": "code",
   "execution_count": 74,
   "id": "38d8979c-eb0c-4fd9-91c5-fef9436fec25",
   "metadata": {
    "ExecuteTime": {
     "end_time": "2023-09-01T17:10:49.545070898Z",
     "start_time": "2023-09-01T17:10:49.538952587Z"
    }
   },
   "outputs": [],
   "source": [
    "def get_variables(year):\n",
    "    IO = data2.loc[year,0]\n",
    "    IO = IO.drop(index=zeroprod)\n",
    "    IO.sum()\n",
    "    Ω = IO / IO.sum()\n",
    "    α = vadd[year]/grossy[year]\n",
    "    β = (np.eye(len(grossy)) - np.diag(1 - α) @ Ω).T @ grossy[year]\n",
    "    β[β < 0] = 0\n",
    "    β = β / np.sum(β)\n",
    "    λ = np.linalg.inv( np.eye(len(grossy)) - np.diag(1 - α) @ Ω).T @ β\n",
    "    L = λ * α\n",
    "\n",
    "    return α, β, Ω, L, λ"
   ]
  },
  {
   "cell_type": "markdown",
   "id": "179d103c-a720-4bff-9b37-1ffd42f2d349",
   "metadata": {},
   "source": [
    "## Elasticities"
   ]
  },
  {
   "cell_type": "code",
   "execution_count": 66,
   "id": "7c6e12c3-258f-4013-ae6c-77cee418b3ce",
   "metadata": {
    "ExecuteTime": {
     "end_time": "2023-09-01T17:10:00.411462100Z",
     "start_time": "2023-09-01T17:10:00.408227263Z"
    }
   },
   "outputs": [],
   "source": [
    "ε = .5;\n",
    "θ = 0.001;\n",
    "σ = .9;"
   ]
  },
  {
   "cell_type": "markdown",
   "id": "94e008f0-2fd9-4047-a905-4c7b421df2ea",
   "metadata": {},
   "source": [
    "# Construction Site Below HERE"
   ]
  },
  {
   "cell_type": "markdown",
   "id": "362759e2-3dc3-4226-8bee-e9bdb79bd7d0",
   "metadata": {},
   "source": [
    "## Objective Function\n",
    "\n",
    "Here the objective function in `SimulationDerivs.m` is formulated, also the Jacobian is given, to helpt the solver."
   ]
  },
  {
   "cell_type": "code",
   "execution_count": 67,
   "id": "ef4b0373-f727-4d45-a9a7-6fc3f0a1c954",
   "metadata": {
    "ExecuteTime": {
     "end_time": "2023-09-01T17:10:02.381114229Z",
     "start_time": "2023-09-01T17:10:02.379585681Z"
    }
   },
   "outputs": [],
   "source": [
    "def problem(X, A, β, Ω, α, ε, θ, σ, L):\n",
    "    N = len(α)\n",
    "    p = X[:N]\n",
    "    y = X[N:]\n",
    "\n",
    "    Out = np.zeros(2 * N, dtype=X.dtype)\n",
    "\n",
    "    q = (Ω @ (p ** (1 - θ))) ** (1 / (1 - θ))\n",
    "    w = p * (A ** ((ε - 1) / ε)) * (α ** (1 / ε)) * (y ** (1 / ε)) * L ** (-1 / ε)\n",
    "    C = np.dot(w, L)\n",
    "\n",
    "    Out[:N] = p - (A ** (ε - 1) * (α * w ** (1 - ε) + (1 - α) * q ** (1 - ε))) ** (1 / (1 - ε))\n",
    "    Out[N:] = y - np.dot(np.dot(np.dot(np.dot(np.dot(y.T, np.diag(p) ** ε), np.diag(A) ** (ε - 1)), np.diag(q) ** (θ - ε)), np.diag(1 - α)), np.dot(np.dot(Ω, np.diag(p) ** (-θ)), β)) - np.dot(β.T, np.diag(p) ** (-σ) * C)\n",
    "\n",
    "    return Out\n"
   ]
  },
  {
   "cell_type": "markdown",
   "id": "c29e2d8c-5656-4034-a4db-3b091fab4877",
   "metadata": {},
   "source": [
    "## Generating Random Shocks"
   ]
  },
  {
   "cell_type": "code",
   "execution_count": 68,
   "id": "45028840-a97b-452d-92ff-5bd423b4b672",
   "metadata": {
    "ExecuteTime": {
     "end_time": "2023-09-01T17:10:03.399711260Z",
     "start_time": "2023-09-01T17:10:03.379845570Z"
    }
   },
   "outputs": [],
   "source": [
    "from scipy.stats import multivariate_normal\n",
    "\n",
    "def generate_random_shock(Σ, α, Ω, λ):\n",
    "    n = len(Σ)\n",
    "    cov_matrix = np.diag(np.diag(Σ))\n",
    "    A = np.exp(multivariate_normal.rvs(mean=-0.5 * np.diag(Σ), cov=cov_matrix))\n",
    "    \n",
    "    inv_term = np.linalg.inv(np.eye(n) - np.diag(1 - α) @ Ω)\n",
    "    log_A = np.log(A)\n",
    "    init = np.concatenate((np.exp(-inv_term @ log_A), λ / np.exp(-inv_term @ log_A)))\n",
    "    \n",
    "    return A, init\n"
   ]
  },
  {
   "cell_type": "markdown",
   "id": "d3d4d553-f149-4cb1-91a2-4396307ebdbb",
   "metadata": {},
   "source": [
    "## Solving for shocks"
   ]
  },
  {
   "cell_type": "code",
   "execution_count": 69,
   "id": "0426cafc-5fb6-46d2-8b7f-f352df3c8b6f",
   "metadata": {
    "ExecuteTime": {
     "end_time": "2023-09-01T17:10:06.081771955Z",
     "start_time": "2023-09-01T17:10:06.075685981Z"
    }
   },
   "outputs": [
    {
     "data": {
      "text/plain": "array([[0.00170006, 0.        , 0.        , ..., 0.        , 0.        ,\n        0.        ],\n       [0.        , 0.00298109, 0.        , ..., 0.        , 0.        ,\n        0.        ],\n       [0.        , 0.        , 0.0035497 , ..., 0.        , 0.        ,\n        0.        ],\n       ...,\n       [0.        , 0.        , 0.        , ..., 0.00078401, 0.        ,\n        0.        ],\n       [0.        , 0.        , 0.        , ..., 0.        , 0.0014858 ,\n        0.        ],\n       [0.        , 0.        , 0.        , ..., 0.        , 0.        ,\n        0.00084859]])"
     },
     "execution_count": 69,
     "metadata": {},
     "output_type": "execute_result"
    }
   ],
   "source": [
    "trials = 100\n",
    "GDP = np.zeros(trials)\n",
    "λ_sim = np.zeros((76, trials))\n",
    "α, β, Ω, L, λ = get_variables(1973)\n",
    "np.diag(np.diag(Σ))"
   ]
  },
  {
   "cell_type": "code",
   "execution_count": 79,
   "id": "b1636fdd",
   "metadata": {
    "vscode": {
     "languageId": "julia"
    },
    "ExecuteTime": {
     "end_time": "2023-09-01T17:15:00.166808681Z",
     "start_time": "2023-09-01T17:15:00.114258001Z"
    }
   },
   "outputs": [
    {
     "name": "stdout",
     "output_type": "stream",
     "text": [
      "1.0000000000000002\n"
     ]
    },
    {
     "name": "stderr",
     "output_type": "stream",
     "text": [
      "/tmp/ipykernel_5778/3747210849.py:13: RuntimeWarning: divide by zero encountered in power\n",
      "  Out[N:] = y - np.dot(np.dot(np.dot(np.dot(np.dot(y.T, np.diag(p) ** ε), np.diag(A) ** (ε - 1)), np.diag(q) ** (θ - ε)), np.diag(1 - α)), np.dot(np.dot(Ω, np.diag(p) ** (-θ)), β)) - np.dot(β.T, np.diag(p) ** (-σ) * C)\n"
     ]
    },
    {
     "ename": "ValueError",
     "evalue": "Input must be 1- or 2-d.",
     "output_type": "error",
     "traceback": [
      "\u001B[0;31m---------------------------------------------------------------------------\u001B[0m",
      "\u001B[0;31mValueError\u001B[0m                                Traceback (most recent call last)",
      "Cell \u001B[0;32mIn[79], line 5\u001B[0m\n\u001B[1;32m      3\u001B[0m p \u001B[38;5;241m=\u001B[39m np\u001B[38;5;241m.\u001B[39mones(\u001B[38;5;241m76\u001B[39m)\n\u001B[1;32m      4\u001B[0m \u001B[38;5;28mprint\u001B[39m((Ω \u001B[38;5;241m@\u001B[39m (p \u001B[38;5;241m*\u001B[39m\u001B[38;5;241m*\u001B[39m (\u001B[38;5;241m1\u001B[39m \u001B[38;5;241m-\u001B[39m θ))) \u001B[38;5;241m*\u001B[39m\u001B[38;5;241m*\u001B[39m (\u001B[38;5;241m1\u001B[39m \u001B[38;5;241m/\u001B[39m (\u001B[38;5;241m1\u001B[39m \u001B[38;5;241m-\u001B[39m θ)))\n\u001B[0;32m----> 5\u001B[0m sol \u001B[38;5;241m=\u001B[39m \u001B[43mroot\u001B[49m\u001B[43m(\u001B[49m\u001B[38;5;28;43;01mlambda\u001B[39;49;00m\u001B[43m \u001B[49m\u001B[43mx0\u001B[49m\u001B[43m \u001B[49m\u001B[43m:\u001B[49m\u001B[43m \u001B[49m\u001B[43mproblem\u001B[49m\u001B[43m(\u001B[49m\u001B[43mx0\u001B[49m\u001B[43m,\u001B[49m\u001B[43m \u001B[49m\u001B[43mA\u001B[49m\u001B[43m,\u001B[49m\u001B[43m \u001B[49m\u001B[43mβ\u001B[49m\u001B[43m,\u001B[49m\u001B[43m \u001B[49m\u001B[43mΩ\u001B[49m\u001B[43m,\u001B[49m\u001B[43m \u001B[49m\u001B[43mα\u001B[49m\u001B[43m,\u001B[49m\u001B[43m \u001B[49m\u001B[43mε\u001B[49m\u001B[43m,\u001B[49m\u001B[43m \u001B[49m\u001B[43mθ\u001B[49m\u001B[43m,\u001B[49m\u001B[43m \u001B[49m\u001B[43mσ\u001B[49m\u001B[43m,\u001B[49m\u001B[43m \u001B[49m\u001B[43mL\u001B[49m\u001B[43m)\u001B[49m\u001B[43m,\u001B[49m\u001B[43m \u001B[49m\u001B[43minit\u001B[49m\u001B[43m,\u001B[49m\u001B[43m \u001B[49m\u001B[43mmethod\u001B[49m\u001B[38;5;241;43m=\u001B[39;49m\u001B[38;5;124;43m'\u001B[39;49m\u001B[38;5;124;43mhybr\u001B[39;49m\u001B[38;5;124;43m'\u001B[39;49m\u001B[43m)\u001B[49m\n",
      "File \u001B[0;32m/usr/lib/python3.11/site-packages/scipy/optimize/_root.py:236\u001B[0m, in \u001B[0;36mroot\u001B[0;34m(fun, x0, args, method, jac, tol, callback, options)\u001B[0m\n\u001B[1;32m    233\u001B[0m         options\u001B[38;5;241m.\u001B[39msetdefault(\u001B[38;5;124m'\u001B[39m\u001B[38;5;124mfatol\u001B[39m\u001B[38;5;124m'\u001B[39m, np\u001B[38;5;241m.\u001B[39minf)\n\u001B[1;32m    235\u001B[0m \u001B[38;5;28;01mif\u001B[39;00m meth \u001B[38;5;241m==\u001B[39m \u001B[38;5;124m'\u001B[39m\u001B[38;5;124mhybr\u001B[39m\u001B[38;5;124m'\u001B[39m:\n\u001B[0;32m--> 236\u001B[0m     sol \u001B[38;5;241m=\u001B[39m \u001B[43m_root_hybr\u001B[49m\u001B[43m(\u001B[49m\u001B[43mfun\u001B[49m\u001B[43m,\u001B[49m\u001B[43m \u001B[49m\u001B[43mx0\u001B[49m\u001B[43m,\u001B[49m\u001B[43m \u001B[49m\u001B[43margs\u001B[49m\u001B[38;5;241;43m=\u001B[39;49m\u001B[43margs\u001B[49m\u001B[43m,\u001B[49m\u001B[43m \u001B[49m\u001B[43mjac\u001B[49m\u001B[38;5;241;43m=\u001B[39;49m\u001B[43mjac\u001B[49m\u001B[43m,\u001B[49m\u001B[43m \u001B[49m\u001B[38;5;241;43m*\u001B[39;49m\u001B[38;5;241;43m*\u001B[39;49m\u001B[43moptions\u001B[49m\u001B[43m)\u001B[49m\n\u001B[1;32m    237\u001B[0m \u001B[38;5;28;01melif\u001B[39;00m meth \u001B[38;5;241m==\u001B[39m \u001B[38;5;124m'\u001B[39m\u001B[38;5;124mlm\u001B[39m\u001B[38;5;124m'\u001B[39m:\n\u001B[1;32m    238\u001B[0m     sol \u001B[38;5;241m=\u001B[39m _root_leastsq(fun, x0, args\u001B[38;5;241m=\u001B[39margs, jac\u001B[38;5;241m=\u001B[39mjac, \u001B[38;5;241m*\u001B[39m\u001B[38;5;241m*\u001B[39moptions)\n",
      "File \u001B[0;32m/usr/lib/python3.11/site-packages/scipy/optimize/_minpack_py.py:228\u001B[0m, in \u001B[0;36m_root_hybr\u001B[0;34m(func, x0, args, jac, col_deriv, xtol, maxfev, band, eps, factor, diag, **unknown_options)\u001B[0m\n\u001B[1;32m    226\u001B[0m \u001B[38;5;28;01mif\u001B[39;00m \u001B[38;5;129;01mnot\u001B[39;00m \u001B[38;5;28misinstance\u001B[39m(args, \u001B[38;5;28mtuple\u001B[39m):\n\u001B[1;32m    227\u001B[0m     args \u001B[38;5;241m=\u001B[39m (args,)\n\u001B[0;32m--> 228\u001B[0m shape, dtype \u001B[38;5;241m=\u001B[39m \u001B[43m_check_func\u001B[49m\u001B[43m(\u001B[49m\u001B[38;5;124;43m'\u001B[39;49m\u001B[38;5;124;43mfsolve\u001B[39;49m\u001B[38;5;124;43m'\u001B[39;49m\u001B[43m,\u001B[49m\u001B[43m \u001B[49m\u001B[38;5;124;43m'\u001B[39;49m\u001B[38;5;124;43mfunc\u001B[39;49m\u001B[38;5;124;43m'\u001B[39;49m\u001B[43m,\u001B[49m\u001B[43m \u001B[49m\u001B[43mfunc\u001B[49m\u001B[43m,\u001B[49m\u001B[43m \u001B[49m\u001B[43mx0\u001B[49m\u001B[43m,\u001B[49m\u001B[43m \u001B[49m\u001B[43margs\u001B[49m\u001B[43m,\u001B[49m\u001B[43m \u001B[49m\u001B[43mn\u001B[49m\u001B[43m,\u001B[49m\u001B[43m \u001B[49m\u001B[43m(\u001B[49m\u001B[43mn\u001B[49m\u001B[43m,\u001B[49m\u001B[43m)\u001B[49m\u001B[43m)\u001B[49m\n\u001B[1;32m    229\u001B[0m \u001B[38;5;28;01mif\u001B[39;00m epsfcn \u001B[38;5;129;01mis\u001B[39;00m \u001B[38;5;28;01mNone\u001B[39;00m:\n\u001B[1;32m    230\u001B[0m     epsfcn \u001B[38;5;241m=\u001B[39m finfo(dtype)\u001B[38;5;241m.\u001B[39meps\n",
      "File \u001B[0;32m/usr/lib/python3.11/site-packages/scipy/optimize/_minpack_py.py:25\u001B[0m, in \u001B[0;36m_check_func\u001B[0;34m(checker, argname, thefunc, x0, args, numinputs, output_shape)\u001B[0m\n\u001B[1;32m     23\u001B[0m \u001B[38;5;28;01mdef\u001B[39;00m \u001B[38;5;21m_check_func\u001B[39m(checker, argname, thefunc, x0, args, numinputs,\n\u001B[1;32m     24\u001B[0m                 output_shape\u001B[38;5;241m=\u001B[39m\u001B[38;5;28;01mNone\u001B[39;00m):\n\u001B[0;32m---> 25\u001B[0m     res \u001B[38;5;241m=\u001B[39m atleast_1d(\u001B[43mthefunc\u001B[49m\u001B[43m(\u001B[49m\u001B[38;5;241;43m*\u001B[39;49m\u001B[43m(\u001B[49m\u001B[43m(\u001B[49m\u001B[43mx0\u001B[49m\u001B[43m[\u001B[49m\u001B[43m:\u001B[49m\u001B[43mnuminputs\u001B[49m\u001B[43m]\u001B[49m\u001B[43m,\u001B[49m\u001B[43m)\u001B[49m\u001B[43m \u001B[49m\u001B[38;5;241;43m+\u001B[39;49m\u001B[43m \u001B[49m\u001B[43margs\u001B[49m\u001B[43m)\u001B[49m\u001B[43m)\u001B[49m)\n\u001B[1;32m     26\u001B[0m     \u001B[38;5;28;01mif\u001B[39;00m (output_shape \u001B[38;5;129;01mis\u001B[39;00m \u001B[38;5;129;01mnot\u001B[39;00m \u001B[38;5;28;01mNone\u001B[39;00m) \u001B[38;5;129;01mand\u001B[39;00m (shape(res) \u001B[38;5;241m!=\u001B[39m output_shape):\n\u001B[1;32m     27\u001B[0m         \u001B[38;5;28;01mif\u001B[39;00m (output_shape[\u001B[38;5;241m0\u001B[39m] \u001B[38;5;241m!=\u001B[39m \u001B[38;5;241m1\u001B[39m):\n",
      "Cell \u001B[0;32mIn[79], line 5\u001B[0m, in \u001B[0;36m<lambda>\u001B[0;34m(x0)\u001B[0m\n\u001B[1;32m      3\u001B[0m p \u001B[38;5;241m=\u001B[39m np\u001B[38;5;241m.\u001B[39mones(\u001B[38;5;241m76\u001B[39m)\n\u001B[1;32m      4\u001B[0m \u001B[38;5;28mprint\u001B[39m((Ω \u001B[38;5;241m@\u001B[39m (p \u001B[38;5;241m*\u001B[39m\u001B[38;5;241m*\u001B[39m (\u001B[38;5;241m1\u001B[39m \u001B[38;5;241m-\u001B[39m θ))) \u001B[38;5;241m*\u001B[39m\u001B[38;5;241m*\u001B[39m (\u001B[38;5;241m1\u001B[39m \u001B[38;5;241m/\u001B[39m (\u001B[38;5;241m1\u001B[39m \u001B[38;5;241m-\u001B[39m θ)))\n\u001B[0;32m----> 5\u001B[0m sol \u001B[38;5;241m=\u001B[39m root(\u001B[38;5;28;01mlambda\u001B[39;00m x0 : \u001B[43mproblem\u001B[49m\u001B[43m(\u001B[49m\u001B[43mx0\u001B[49m\u001B[43m,\u001B[49m\u001B[43m \u001B[49m\u001B[43mA\u001B[49m\u001B[43m,\u001B[49m\u001B[43m \u001B[49m\u001B[43mβ\u001B[49m\u001B[43m,\u001B[49m\u001B[43m \u001B[49m\u001B[43mΩ\u001B[49m\u001B[43m,\u001B[49m\u001B[43m \u001B[49m\u001B[43mα\u001B[49m\u001B[43m,\u001B[49m\u001B[43m \u001B[49m\u001B[43mε\u001B[49m\u001B[43m,\u001B[49m\u001B[43m \u001B[49m\u001B[43mθ\u001B[49m\u001B[43m,\u001B[49m\u001B[43m \u001B[49m\u001B[43mσ\u001B[49m\u001B[43m,\u001B[49m\u001B[43m \u001B[49m\u001B[43mL\u001B[49m\u001B[43m)\u001B[49m, init, method\u001B[38;5;241m=\u001B[39m\u001B[38;5;124m'\u001B[39m\u001B[38;5;124mhybr\u001B[39m\u001B[38;5;124m'\u001B[39m)\n",
      "Cell \u001B[0;32mIn[67], line 13\u001B[0m, in \u001B[0;36mproblem\u001B[0;34m(X, A, β, Ω, α, ε, θ, σ, L)\u001B[0m\n\u001B[1;32m     10\u001B[0m C \u001B[38;5;241m=\u001B[39m np\u001B[38;5;241m.\u001B[39mdot(w, L)\n\u001B[1;32m     12\u001B[0m Out[:N] \u001B[38;5;241m=\u001B[39m p \u001B[38;5;241m-\u001B[39m (A \u001B[38;5;241m*\u001B[39m\u001B[38;5;241m*\u001B[39m (ε \u001B[38;5;241m-\u001B[39m \u001B[38;5;241m1\u001B[39m) \u001B[38;5;241m*\u001B[39m (α \u001B[38;5;241m*\u001B[39m w \u001B[38;5;241m*\u001B[39m\u001B[38;5;241m*\u001B[39m (\u001B[38;5;241m1\u001B[39m \u001B[38;5;241m-\u001B[39m ε) \u001B[38;5;241m+\u001B[39m (\u001B[38;5;241m1\u001B[39m \u001B[38;5;241m-\u001B[39m α) \u001B[38;5;241m*\u001B[39m q \u001B[38;5;241m*\u001B[39m\u001B[38;5;241m*\u001B[39m (\u001B[38;5;241m1\u001B[39m \u001B[38;5;241m-\u001B[39m ε))) \u001B[38;5;241m*\u001B[39m\u001B[38;5;241m*\u001B[39m (\u001B[38;5;241m1\u001B[39m \u001B[38;5;241m/\u001B[39m (\u001B[38;5;241m1\u001B[39m \u001B[38;5;241m-\u001B[39m ε))\n\u001B[0;32m---> 13\u001B[0m Out[N:] \u001B[38;5;241m=\u001B[39m y \u001B[38;5;241m-\u001B[39m np\u001B[38;5;241m.\u001B[39mdot(np\u001B[38;5;241m.\u001B[39mdot(np\u001B[38;5;241m.\u001B[39mdot(np\u001B[38;5;241m.\u001B[39mdot(np\u001B[38;5;241m.\u001B[39mdot(y\u001B[38;5;241m.\u001B[39mT, np\u001B[38;5;241m.\u001B[39mdiag(p) \u001B[38;5;241m*\u001B[39m\u001B[38;5;241m*\u001B[39m ε), np\u001B[38;5;241m.\u001B[39mdiag(A) \u001B[38;5;241m*\u001B[39m\u001B[38;5;241m*\u001B[39m (ε \u001B[38;5;241m-\u001B[39m \u001B[38;5;241m1\u001B[39m)), \u001B[43mnp\u001B[49m\u001B[38;5;241;43m.\u001B[39;49m\u001B[43mdiag\u001B[49m\u001B[43m(\u001B[49m\u001B[43mq\u001B[49m\u001B[43m)\u001B[49m \u001B[38;5;241m*\u001B[39m\u001B[38;5;241m*\u001B[39m (θ \u001B[38;5;241m-\u001B[39m ε)), np\u001B[38;5;241m.\u001B[39mdiag(\u001B[38;5;241m1\u001B[39m \u001B[38;5;241m-\u001B[39m α)), np\u001B[38;5;241m.\u001B[39mdot(np\u001B[38;5;241m.\u001B[39mdot(Ω, np\u001B[38;5;241m.\u001B[39mdiag(p) \u001B[38;5;241m*\u001B[39m\u001B[38;5;241m*\u001B[39m (\u001B[38;5;241m-\u001B[39mθ)), β)) \u001B[38;5;241m-\u001B[39m np\u001B[38;5;241m.\u001B[39mdot(β\u001B[38;5;241m.\u001B[39mT, np\u001B[38;5;241m.\u001B[39mdiag(p) \u001B[38;5;241m*\u001B[39m\u001B[38;5;241m*\u001B[39m (\u001B[38;5;241m-\u001B[39mσ) \u001B[38;5;241m*\u001B[39m C)\n\u001B[1;32m     15\u001B[0m \u001B[38;5;28;01mreturn\u001B[39;00m Out\n",
      "File \u001B[0;32m/usr/lib/python3.11/site-packages/numpy/lib/twodim_base.py:303\u001B[0m, in \u001B[0;36mdiag\u001B[0;34m(v, k)\u001B[0m\n\u001B[1;32m    301\u001B[0m     \u001B[38;5;28;01mreturn\u001B[39;00m diagonal(v, k)\n\u001B[1;32m    302\u001B[0m \u001B[38;5;28;01melse\u001B[39;00m:\n\u001B[0;32m--> 303\u001B[0m     \u001B[38;5;28;01mraise\u001B[39;00m \u001B[38;5;167;01mValueError\u001B[39;00m(\u001B[38;5;124m\"\u001B[39m\u001B[38;5;124mInput must be 1- or 2-d.\u001B[39m\u001B[38;5;124m\"\u001B[39m)\n",
      "\u001B[0;31mValueError\u001B[0m: Input must be 1- or 2-d."
     ]
    }
   ],
   "source": [
    "A,init = generate_random_shock(Σ, α, Ω, λ)\n",
    "\n",
    "p = np.ones(76)\n",
    "print((Ω @ (p ** (1 - θ))) ** (1 / (1 - θ)))\n",
    "sol = root(lambda x0 : problem(x0, A, β, Ω, α, ε, θ, σ, L), init, method='hybr')\n"
   ]
  },
  {
   "cell_type": "code",
   "execution_count": 76,
   "id": "02c8c19f-1cc2-44df-9017-c48afd989984",
   "metadata": {
    "ExecuteTime": {
     "end_time": "2023-09-01T17:12:52.000034361Z",
     "start_time": "2023-09-01T17:12:51.723570839Z"
    }
   },
   "outputs": [
    {
     "name": "stderr",
     "output_type": "stream",
     "text": [
      "/tmp/ipykernel_5778/3747210849.py:13: RuntimeWarning: divide by zero encountered in power\n",
      "  Out[N:] = y - np.dot(np.dot(np.dot(np.dot(np.dot(y.T, np.diag(p) ** ε), np.diag(A) ** (ε - 1)), np.diag(q) ** (θ - ε)), np.diag(1 - α)), np.dot(np.dot(Ω, np.diag(p) ** (-θ)), β)) - np.dot(β.T, np.diag(p) ** (-σ) * C)\n",
      "/tmp/ipykernel_5778/3747210849.py:13: RuntimeWarning: divide by zero encountered in power\n",
      "  Out[N:] = y - np.dot(np.dot(np.dot(np.dot(np.dot(y.T, np.diag(p) ** ε), np.diag(A) ** (ε - 1)), np.diag(q) ** (θ - ε)), np.diag(1 - α)), np.dot(np.dot(Ω, np.diag(p) ** (-θ)), β)) - np.dot(β.T, np.diag(p) ** (-σ) * C)\n",
      "/tmp/ipykernel_5778/3747210849.py:13: RuntimeWarning: divide by zero encountered in power\n",
      "  Out[N:] = y - np.dot(np.dot(np.dot(np.dot(np.dot(y.T, np.diag(p) ** ε), np.diag(A) ** (ε - 1)), np.diag(q) ** (θ - ε)), np.diag(1 - α)), np.dot(np.dot(Ω, np.diag(p) ** (-θ)), β)) - np.dot(β.T, np.diag(p) ** (-σ) * C)\n",
      "/tmp/ipykernel_5778/3747210849.py:13: RuntimeWarning: divide by zero encountered in power\n",
      "  Out[N:] = y - np.dot(np.dot(np.dot(np.dot(np.dot(y.T, np.diag(p) ** ε), np.diag(A) ** (ε - 1)), np.diag(q) ** (θ - ε)), np.diag(1 - α)), np.dot(np.dot(Ω, np.diag(p) ** (-θ)), β)) - np.dot(β.T, np.diag(p) ** (-σ) * C)\n",
      "/tmp/ipykernel_5778/3747210849.py:13: RuntimeWarning: divide by zero encountered in power\n",
      "  Out[N:] = y - np.dot(np.dot(np.dot(np.dot(np.dot(y.T, np.diag(p) ** ε), np.diag(A) ** (ε - 1)), np.diag(q) ** (θ - ε)), np.diag(1 - α)), np.dot(np.dot(Ω, np.diag(p) ** (-θ)), β)) - np.dot(β.T, np.diag(p) ** (-σ) * C)\n",
      "/tmp/ipykernel_5778/3747210849.py:13: RuntimeWarning: divide by zero encountered in power\n",
      "  Out[N:] = y - np.dot(np.dot(np.dot(np.dot(np.dot(y.T, np.diag(p) ** ε), np.diag(A) ** (ε - 1)), np.diag(q) ** (θ - ε)), np.diag(1 - α)), np.dot(np.dot(Ω, np.diag(p) ** (-θ)), β)) - np.dot(β.T, np.diag(p) ** (-σ) * C)\n",
      "/tmp/ipykernel_5778/3747210849.py:13: RuntimeWarning: divide by zero encountered in power\n",
      "  Out[N:] = y - np.dot(np.dot(np.dot(np.dot(np.dot(y.T, np.diag(p) ** ε), np.diag(A) ** (ε - 1)), np.diag(q) ** (θ - ε)), np.diag(1 - α)), np.dot(np.dot(Ω, np.diag(p) ** (-θ)), β)) - np.dot(β.T, np.diag(p) ** (-σ) * C)\n",
      "/tmp/ipykernel_5778/3747210849.py:13: RuntimeWarning: divide by zero encountered in power\n",
      "  Out[N:] = y - np.dot(np.dot(np.dot(np.dot(np.dot(y.T, np.diag(p) ** ε), np.diag(A) ** (ε - 1)), np.diag(q) ** (θ - ε)), np.diag(1 - α)), np.dot(np.dot(Ω, np.diag(p) ** (-θ)), β)) - np.dot(β.T, np.diag(p) ** (-σ) * C)\n",
      "/tmp/ipykernel_5778/3747210849.py:13: RuntimeWarning: divide by zero encountered in power\n",
      "  Out[N:] = y - np.dot(np.dot(np.dot(np.dot(np.dot(y.T, np.diag(p) ** ε), np.diag(A) ** (ε - 1)), np.diag(q) ** (θ - ε)), np.diag(1 - α)), np.dot(np.dot(Ω, np.diag(p) ** (-θ)), β)) - np.dot(β.T, np.diag(p) ** (-σ) * C)\n",
      "/tmp/ipykernel_5778/3747210849.py:13: RuntimeWarning: divide by zero encountered in power\n",
      "  Out[N:] = y - np.dot(np.dot(np.dot(np.dot(np.dot(y.T, np.diag(p) ** ε), np.diag(A) ** (ε - 1)), np.diag(q) ** (θ - ε)), np.diag(1 - α)), np.dot(np.dot(Ω, np.diag(p) ** (-θ)), β)) - np.dot(β.T, np.diag(p) ** (-σ) * C)\n",
      "/tmp/ipykernel_5778/3747210849.py:13: RuntimeWarning: divide by zero encountered in power\n",
      "  Out[N:] = y - np.dot(np.dot(np.dot(np.dot(np.dot(y.T, np.diag(p) ** ε), np.diag(A) ** (ε - 1)), np.diag(q) ** (θ - ε)), np.diag(1 - α)), np.dot(np.dot(Ω, np.diag(p) ** (-θ)), β)) - np.dot(β.T, np.diag(p) ** (-σ) * C)\n",
      "/tmp/ipykernel_5778/3747210849.py:13: RuntimeWarning: divide by zero encountered in power\n",
      "  Out[N:] = y - np.dot(np.dot(np.dot(np.dot(np.dot(y.T, np.diag(p) ** ε), np.diag(A) ** (ε - 1)), np.diag(q) ** (θ - ε)), np.diag(1 - α)), np.dot(np.dot(Ω, np.diag(p) ** (-θ)), β)) - np.dot(β.T, np.diag(p) ** (-σ) * C)\n",
      "/tmp/ipykernel_5778/3747210849.py:13: RuntimeWarning: divide by zero encountered in power\n",
      "  Out[N:] = y - np.dot(np.dot(np.dot(np.dot(np.dot(y.T, np.diag(p) ** ε), np.diag(A) ** (ε - 1)), np.diag(q) ** (θ - ε)), np.diag(1 - α)), np.dot(np.dot(Ω, np.diag(p) ** (-θ)), β)) - np.dot(β.T, np.diag(p) ** (-σ) * C)\n",
      "/tmp/ipykernel_5778/3747210849.py:13: RuntimeWarning: divide by zero encountered in power\n",
      "  Out[N:] = y - np.dot(np.dot(np.dot(np.dot(np.dot(y.T, np.diag(p) ** ε), np.diag(A) ** (ε - 1)), np.diag(q) ** (θ - ε)), np.diag(1 - α)), np.dot(np.dot(Ω, np.diag(p) ** (-θ)), β)) - np.dot(β.T, np.diag(p) ** (-σ) * C)\n",
      "/tmp/ipykernel_5778/3747210849.py:13: RuntimeWarning: divide by zero encountered in power\n",
      "  Out[N:] = y - np.dot(np.dot(np.dot(np.dot(np.dot(y.T, np.diag(p) ** ε), np.diag(A) ** (ε - 1)), np.diag(q) ** (θ - ε)), np.diag(1 - α)), np.dot(np.dot(Ω, np.diag(p) ** (-θ)), β)) - np.dot(β.T, np.diag(p) ** (-σ) * C)\n",
      "/tmp/ipykernel_5778/3747210849.py:13: RuntimeWarning: divide by zero encountered in power\n",
      "  Out[N:] = y - np.dot(np.dot(np.dot(np.dot(np.dot(y.T, np.diag(p) ** ε), np.diag(A) ** (ε - 1)), np.diag(q) ** (θ - ε)), np.diag(1 - α)), np.dot(np.dot(Ω, np.diag(p) ** (-θ)), β)) - np.dot(β.T, np.diag(p) ** (-σ) * C)\n"
     ]
    },
    {
     "ename": "ValueError",
     "evalue": "Input must be 1- or 2-d.",
     "output_type": "error",
     "traceback": [
      "\u001B[0;31m---------------------------------------------------------------------------\u001B[0m",
      "\u001B[0;31mRemoteTraceback\u001B[0m                           Traceback (most recent call last)",
      "\u001B[0;31mRemoteTraceback\u001B[0m: \n\"\"\"\nTraceback (most recent call last):\n  File \"/usr/lib/python3.11/multiprocessing/pool.py\", line 125, in worker\n    result = (True, func(*args, **kwds))\n                    ^^^^^^^^^^^^^^^^^^^\n  File \"/usr/lib/python3.11/multiprocessing/pool.py\", line 48, in mapstar\n    return list(map(*args))\n           ^^^^^^^^^^^^^^^^\n  File \"/tmp/ipykernel_5778/3622557603.py\", line 11, in parallel_worker\n    sol = root(lambda x0 : problem(x0, A, β, Ω, α, ε, θ, σ, L), init, method='hybr')\n          ^^^^^^^^^^^^^^^^^^^^^^^^^^^^^^^^^^^^^^^^^^^^^^^^^^^^^^^^^^^^^^^^^^^^^^^^^^\n  File \"/usr/lib/python3.11/site-packages/scipy/optimize/_root.py\", line 236, in root\n    sol = _root_hybr(fun, x0, args=args, jac=jac, **options)\n          ^^^^^^^^^^^^^^^^^^^^^^^^^^^^^^^^^^^^^^^^^^^^^^^^^^\n  File \"/usr/lib/python3.11/site-packages/scipy/optimize/_minpack_py.py\", line 228, in _root_hybr\n    shape, dtype = _check_func('fsolve', 'func', func, x0, args, n, (n,))\n                   ^^^^^^^^^^^^^^^^^^^^^^^^^^^^^^^^^^^^^^^^^^^^^^^^^^^^^^\n  File \"/usr/lib/python3.11/site-packages/scipy/optimize/_minpack_py.py\", line 25, in _check_func\n    res = atleast_1d(thefunc(*((x0[:numinputs],) + args)))\n                     ^^^^^^^^^^^^^^^^^^^^^^^^^^^^^^^^^^^^\n  File \"/tmp/ipykernel_5778/3622557603.py\", line 11, in <lambda>\n    sol = root(lambda x0 : problem(x0, A, β, Ω, α, ε, θ, σ, L), init, method='hybr')\n                           ^^^^^^^^^^^^^^^^^^^^^^^^^^^^^^^^^^^\n  File \"/tmp/ipykernel_5778/3747210849.py\", line 13, in problem\n    Out[N:] = y - np.dot(np.dot(np.dot(np.dot(np.dot(y.T, np.diag(p) ** ε), np.diag(A) ** (ε - 1)), np.diag(q) ** (θ - ε)), np.diag(1 - α)), np.dot(np.dot(Ω, np.diag(p) ** (-θ)), β)) - np.dot(β.T, np.diag(p) ** (-σ) * C)\n                                                                                                    ^^^^^^^^^^\n  File \"/usr/lib/python3.11/site-packages/numpy/lib/twodim_base.py\", line 303, in diag\n    raise ValueError(\"Input must be 1- or 2-d.\")\nValueError: Input must be 1- or 2-d.\n\"\"\"",
      "\nThe above exception was the direct cause of the following exception:\n",
      "\u001B[0;31mValueError\u001B[0m                                Traceback (most recent call last)",
      "Cell \u001B[0;32mIn[76], line 29\u001B[0m\n\u001B[1;32m     27\u001B[0m num_processes \u001B[38;5;241m=\u001B[39m mp\u001B[38;5;241m.\u001B[39mcpu_count()\n\u001B[1;32m     28\u001B[0m \u001B[38;5;28;01mwith\u001B[39;00m mp\u001B[38;5;241m.\u001B[39mPool(processes\u001B[38;5;241m=\u001B[39mnum_processes) \u001B[38;5;28;01mas\u001B[39;00m pool:\n\u001B[0;32m---> 29\u001B[0m     results \u001B[38;5;241m=\u001B[39m \u001B[43mpool\u001B[49m\u001B[38;5;241;43m.\u001B[39;49m\u001B[43mmap\u001B[49m\u001B[43m(\u001B[49m\u001B[43mparallel_worker\u001B[49m\u001B[43m,\u001B[49m\u001B[43m \u001B[49m\u001B[38;5;28;43mrange\u001B[39;49m\u001B[43m(\u001B[49m\u001B[43mtrials\u001B[49m\u001B[43m)\u001B[49m\u001B[43m)\u001B[49m\n\u001B[1;32m     30\u001B[0m     GDP \u001B[38;5;241m=\u001B[39m np\u001B[38;5;241m.\u001B[39marray(results)\n\u001B[1;32m     32\u001B[0m \u001B[38;5;66;03m# Now you have both GDP and λ_sim populated after the parallel execution\u001B[39;00m\n",
      "File \u001B[0;32m/usr/lib/python3.11/multiprocessing/pool.py:367\u001B[0m, in \u001B[0;36mPool.map\u001B[0;34m(self, func, iterable, chunksize)\u001B[0m\n\u001B[1;32m    362\u001B[0m \u001B[38;5;28;01mdef\u001B[39;00m \u001B[38;5;21mmap\u001B[39m(\u001B[38;5;28mself\u001B[39m, func, iterable, chunksize\u001B[38;5;241m=\u001B[39m\u001B[38;5;28;01mNone\u001B[39;00m):\n\u001B[1;32m    363\u001B[0m \u001B[38;5;250m    \u001B[39m\u001B[38;5;124;03m'''\u001B[39;00m\n\u001B[1;32m    364\u001B[0m \u001B[38;5;124;03m    Apply `func` to each element in `iterable`, collecting the results\u001B[39;00m\n\u001B[1;32m    365\u001B[0m \u001B[38;5;124;03m    in a list that is returned.\u001B[39;00m\n\u001B[1;32m    366\u001B[0m \u001B[38;5;124;03m    '''\u001B[39;00m\n\u001B[0;32m--> 367\u001B[0m     \u001B[38;5;28;01mreturn\u001B[39;00m \u001B[38;5;28;43mself\u001B[39;49m\u001B[38;5;241;43m.\u001B[39;49m\u001B[43m_map_async\u001B[49m\u001B[43m(\u001B[49m\u001B[43mfunc\u001B[49m\u001B[43m,\u001B[49m\u001B[43m \u001B[49m\u001B[43miterable\u001B[49m\u001B[43m,\u001B[49m\u001B[43m \u001B[49m\u001B[43mmapstar\u001B[49m\u001B[43m,\u001B[49m\u001B[43m \u001B[49m\u001B[43mchunksize\u001B[49m\u001B[43m)\u001B[49m\u001B[38;5;241;43m.\u001B[39;49m\u001B[43mget\u001B[49m\u001B[43m(\u001B[49m\u001B[43m)\u001B[49m\n",
      "File \u001B[0;32m/usr/lib/python3.11/multiprocessing/pool.py:774\u001B[0m, in \u001B[0;36mApplyResult.get\u001B[0;34m(self, timeout)\u001B[0m\n\u001B[1;32m    772\u001B[0m     \u001B[38;5;28;01mreturn\u001B[39;00m \u001B[38;5;28mself\u001B[39m\u001B[38;5;241m.\u001B[39m_value\n\u001B[1;32m    773\u001B[0m \u001B[38;5;28;01melse\u001B[39;00m:\n\u001B[0;32m--> 774\u001B[0m     \u001B[38;5;28;01mraise\u001B[39;00m \u001B[38;5;28mself\u001B[39m\u001B[38;5;241m.\u001B[39m_value\n",
      "\u001B[0;31mValueError\u001B[0m: Input must be 1- or 2-d."
     ]
    }
   ],
   "source": [
    "#This is from ChatGPT\n",
    "\n",
    "import multiprocessing as mp\n",
    "from scipy.optimize import root\n",
    "\n",
    "# Parallel worker function\n",
    "def parallel_worker(k):\n",
    "    A, init = generate_random_shock(Σ, α, Ω, λ)\n",
    "    p = [A, β, Ω, α, ε, θ, σ, L]\n",
    "\n",
    "    sol = root(lambda x0 : problem(x0, A, β, Ω, α, ε, θ, σ, L), init, method='hybr')\n",
    "\n",
    "    x = np.real(sol.x)\n",
    "    p = x[:76]\n",
    "    q = x[76:]\n",
    "    gdp = np.dot(p * (A ** ((ε - 1) / ε)) * (α ** (1 / ε)) * (q ** (1 / ε)) * (L ** (-1 / ε)), L)\n",
    "    λ_sim[:, k] = (p * q) / gdp\n",
    "    return gdp\n",
    "\n",
    "# Parameters\n",
    "trials = 100\n",
    "GDP = np.zeros(trials)\n",
    "λ_sim = np.zeros((76, trials))\n",
    "\n",
    "α, β, Ω, L, λ = get_variables(1973)\n",
    "# Parallel execution\n",
    "num_processes = mp.cpu_count()\n",
    "with mp.Pool(processes=num_processes) as pool:\n",
    "    results = pool.map(parallel_worker, range(trials))\n",
    "    GDP = np.array(results)\n",
    "\n",
    "# Now you have both GDP and λ_sim populated after the parallel execution"
   ]
  },
  {
   "cell_type": "code",
   "execution_count": null,
   "outputs": [],
   "source": [],
   "metadata": {
    "collapsed": false
   }
  }
 ],
 "metadata": {
  "kernelspec": {
   "display_name": "Python 3 (Spyder)",
   "language": "python3",
   "name": "python3"
  },
  "language_info": {
   "codemirror_mode": {
    "name": "ipython",
    "version": 3
   },
   "file_extension": ".py",
   "mimetype": "text/x-python",
   "name": "python",
   "nbconvert_exporter": "python",
   "pygments_lexer": "ipython3",
   "version": "3.8.17"
  }
 },
 "nbformat": 4,
 "nbformat_minor": 5
}
